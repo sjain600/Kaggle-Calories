{
 "cells": [
  {
   "cell_type": "code",
   "execution_count": 1,
   "id": "f8d5ff54",
   "metadata": {
    "execution": {
     "iopub.execute_input": "2025-05-29T07:21:19.762388Z",
     "iopub.status.busy": "2025-05-29T07:21:19.762131Z",
     "iopub.status.idle": "2025-05-29T07:21:32.916227Z",
     "shell.execute_reply": "2025-05-29T07:21:32.915545Z"
    },
    "papermill": {
     "duration": 13.160785,
     "end_time": "2025-05-29T07:21:32.917440",
     "exception": false,
     "start_time": "2025-05-29T07:21:19.756655",
     "status": "completed"
    },
    "tags": []
   },
   "outputs": [
    {
     "name": "stdout",
     "output_type": "stream",
     "text": [
      "/kaggle/input/calories-burnt-prediction/calories.csv\n",
      "/kaggle/input/playground-series-s5e5/sample_submission.csv\n",
      "/kaggle/input/playground-series-s5e5/train.csv\n",
      "/kaggle/input/playground-series-s5e5/test.csv\n"
     ]
    },
    {
     "data": {
      "text/plain": [
       "<Figure size 1200x750 with 0 Axes>"
      ]
     },
     "metadata": {},
     "output_type": "display_data"
    }
   ],
   "source": [
    "# This Python 3 environment comes with many helpful analytics libraries installed\n",
    "# It is defined by the kaggle/python Docker image: https://github.com/kaggle/docker-python\n",
    "# For example, here's several helpful packages to load\n",
    "%load_ext cudf.pandas\n",
    "import numpy as np # linear algebra\n",
    "import pandas as pd # data processing, CSV file I/O (e.g. pd.read_csv)\n",
    "import matplotlib.pyplot as plt\n",
    "import seaborn as sns\n",
    "import cuml\n",
    "import json\n",
    "import joblib\n",
    "\n",
    "from sklearn.model_selection import KFold, StratifiedKFold\n",
    "from cuml.metrics import mean_squared_log_error\n",
    "from xgboost import XGBRegressor\n",
    "\n",
    "from catboost import CatBoostRegressor\n",
    "from sklearn.preprocessing import KBinsDiscretizer\n",
    "\n",
    "# Setting Matplotlib defaults\n",
    "plt.style.use('seaborn-v0_8')\n",
    "plt.rc('figure', figsize=(8,5), dpi=150)\n",
    "plt.rc('axes', labelweight='bold', labelsize='large',\n",
    "       titleweight='bold', titlesize=15, titlepad=10)\n",
    "plt.rc('animation', html='html5')\n",
    "plt.tight_layout()\n",
    "# Input data files are available in the read-only \"../input/\" directory\n",
    "# For example, running this (by clicking run or pressing Shift+Enter) will list all files under the input directory\n",
    "\n",
    "import os\n",
    "for dirname, _, filenames in os.walk('/kaggle/input'):\n",
    "    for filename in filenames:\n",
    "        print(os.path.join(dirname, filename))\n",
    "        \n",
    "import warnings\n",
    "warnings.simplefilter('ignore')\n",
    "\n",
    "pd.set_option('display.max_columns', 500)\n",
    "\n",
    "# You can write up to 20GB to the current directory (/kaggle/working/) that gets preserved as output when you create a version using \"Save & Run All\" \n",
    "# You can also write temporary files to /kaggle/temp/, but they won't be saved outside of the current session"
   ]
  },
  {
   "cell_type": "code",
   "execution_count": 2,
   "id": "d24a9580",
   "metadata": {
    "execution": {
     "iopub.execute_input": "2025-05-29T07:21:32.927151Z",
     "iopub.status.busy": "2025-05-29T07:21:32.926496Z",
     "iopub.status.idle": "2025-05-29T07:21:33.325275Z",
     "shell.execute_reply": "2025-05-29T07:21:33.324626Z"
    },
    "papermill": {
     "duration": 0.404761,
     "end_time": "2025-05-29T07:21:33.326634",
     "exception": false,
     "start_time": "2025-05-29T07:21:32.921873",
     "status": "completed"
    },
    "tags": []
   },
   "outputs": [],
   "source": [
    "train = pd.read_csv('/kaggle/input/playground-series-s5e5/train.csv', index_col='id')\n",
    "test = pd.read_csv('/kaggle/input/playground-series-s5e5/test.csv', index_col='id')\n",
    "org = pd.read_csv('/kaggle/input/calories-burnt-prediction/calories.csv', index_col='User_ID')\n",
    "org = org.rename(columns={'Gender': 'Sex'})"
   ]
  },
  {
   "cell_type": "code",
   "execution_count": 3,
   "id": "725a25fe",
   "metadata": {
    "execution": {
     "iopub.execute_input": "2025-05-29T07:21:33.335763Z",
     "iopub.status.busy": "2025-05-29T07:21:33.335339Z",
     "iopub.status.idle": "2025-05-29T07:21:33.368929Z",
     "shell.execute_reply": "2025-05-29T07:21:33.368211Z"
    },
    "papermill": {
     "duration": 0.039515,
     "end_time": "2025-05-29T07:21:33.370196",
     "exception": false,
     "start_time": "2025-05-29T07:21:33.330681",
     "status": "completed"
    },
    "tags": []
   },
   "outputs": [],
   "source": [
    "train = pd.concat([train, org], ignore_index=True)"
   ]
  },
  {
   "cell_type": "markdown",
   "id": "3b56369e",
   "metadata": {
    "papermill": {
     "duration": 0.00373,
     "end_time": "2025-05-29T07:21:33.378248",
     "exception": false,
     "start_time": "2025-05-29T07:21:33.374518",
     "status": "completed"
    },
    "tags": []
   },
   "source": [
    "# Data Understanding"
   ]
  },
  {
   "cell_type": "code",
   "execution_count": 4,
   "id": "7bf05d1d",
   "metadata": {
    "execution": {
     "iopub.execute_input": "2025-05-29T07:21:33.387618Z",
     "iopub.status.busy": "2025-05-29T07:21:33.386959Z",
     "iopub.status.idle": "2025-05-29T07:21:33.391997Z",
     "shell.execute_reply": "2025-05-29T07:21:33.391371Z"
    },
    "papermill": {
     "duration": 0.011077,
     "end_time": "2025-05-29T07:21:33.393341",
     "exception": false,
     "start_time": "2025-05-29T07:21:33.382264",
     "status": "completed"
    },
    "tags": []
   },
   "outputs": [
    {
     "data": {
      "text/plain": [
       "(765000, 8)"
      ]
     },
     "execution_count": 4,
     "metadata": {},
     "output_type": "execute_result"
    }
   ],
   "source": [
    "train.shape"
   ]
  },
  {
   "cell_type": "code",
   "execution_count": 5,
   "id": "d31e4964",
   "metadata": {
    "execution": {
     "iopub.execute_input": "2025-05-29T07:21:33.402215Z",
     "iopub.status.busy": "2025-05-29T07:21:33.401955Z",
     "iopub.status.idle": "2025-05-29T07:21:33.452753Z",
     "shell.execute_reply": "2025-05-29T07:21:33.451982Z"
    },
    "papermill": {
     "duration": 0.056411,
     "end_time": "2025-05-29T07:21:33.453879",
     "exception": false,
     "start_time": "2025-05-29T07:21:33.397468",
     "status": "completed"
    },
    "tags": []
   },
   "outputs": [
    {
     "data": {
      "text/html": [
       "<div>\n",
       "<style scoped>\n",
       "    .dataframe tbody tr th:only-of-type {\n",
       "        vertical-align: middle;\n",
       "    }\n",
       "\n",
       "    .dataframe tbody tr th {\n",
       "        vertical-align: top;\n",
       "    }\n",
       "\n",
       "    .dataframe thead th {\n",
       "        text-align: right;\n",
       "    }\n",
       "</style>\n",
       "<table border=\"1\" class=\"dataframe\">\n",
       "  <thead>\n",
       "    <tr style=\"text-align: right;\">\n",
       "      <th></th>\n",
       "      <th>Sex</th>\n",
       "      <th>Age</th>\n",
       "      <th>Height</th>\n",
       "      <th>Weight</th>\n",
       "      <th>Duration</th>\n",
       "      <th>Heart_Rate</th>\n",
       "      <th>Body_Temp</th>\n",
       "      <th>Calories</th>\n",
       "    </tr>\n",
       "  </thead>\n",
       "  <tbody>\n",
       "    <tr>\n",
       "      <th>0</th>\n",
       "      <td>male</td>\n",
       "      <td>36</td>\n",
       "      <td>189.0</td>\n",
       "      <td>82.0</td>\n",
       "      <td>26.0</td>\n",
       "      <td>101.0</td>\n",
       "      <td>41.0</td>\n",
       "      <td>150.0</td>\n",
       "    </tr>\n",
       "    <tr>\n",
       "      <th>1</th>\n",
       "      <td>female</td>\n",
       "      <td>64</td>\n",
       "      <td>163.0</td>\n",
       "      <td>60.0</td>\n",
       "      <td>8.0</td>\n",
       "      <td>85.0</td>\n",
       "      <td>39.7</td>\n",
       "      <td>34.0</td>\n",
       "    </tr>\n",
       "    <tr>\n",
       "      <th>2</th>\n",
       "      <td>female</td>\n",
       "      <td>51</td>\n",
       "      <td>161.0</td>\n",
       "      <td>64.0</td>\n",
       "      <td>7.0</td>\n",
       "      <td>84.0</td>\n",
       "      <td>39.8</td>\n",
       "      <td>29.0</td>\n",
       "    </tr>\n",
       "    <tr>\n",
       "      <th>3</th>\n",
       "      <td>male</td>\n",
       "      <td>20</td>\n",
       "      <td>192.0</td>\n",
       "      <td>90.0</td>\n",
       "      <td>25.0</td>\n",
       "      <td>105.0</td>\n",
       "      <td>40.7</td>\n",
       "      <td>140.0</td>\n",
       "    </tr>\n",
       "    <tr>\n",
       "      <th>4</th>\n",
       "      <td>female</td>\n",
       "      <td>38</td>\n",
       "      <td>166.0</td>\n",
       "      <td>61.0</td>\n",
       "      <td>25.0</td>\n",
       "      <td>102.0</td>\n",
       "      <td>40.6</td>\n",
       "      <td>146.0</td>\n",
       "    </tr>\n",
       "    <tr>\n",
       "      <th>5</th>\n",
       "      <td>female</td>\n",
       "      <td>26</td>\n",
       "      <td>156.0</td>\n",
       "      <td>56.0</td>\n",
       "      <td>19.0</td>\n",
       "      <td>100.0</td>\n",
       "      <td>40.5</td>\n",
       "      <td>103.0</td>\n",
       "    </tr>\n",
       "    <tr>\n",
       "      <th>6</th>\n",
       "      <td>female</td>\n",
       "      <td>21</td>\n",
       "      <td>172.0</td>\n",
       "      <td>73.0</td>\n",
       "      <td>3.0</td>\n",
       "      <td>81.0</td>\n",
       "      <td>38.3</td>\n",
       "      <td>9.0</td>\n",
       "    </tr>\n",
       "    <tr>\n",
       "      <th>7</th>\n",
       "      <td>male</td>\n",
       "      <td>46</td>\n",
       "      <td>188.0</td>\n",
       "      <td>94.0</td>\n",
       "      <td>23.0</td>\n",
       "      <td>100.0</td>\n",
       "      <td>40.8</td>\n",
       "      <td>145.0</td>\n",
       "    </tr>\n",
       "    <tr>\n",
       "      <th>8</th>\n",
       "      <td>female</td>\n",
       "      <td>33</td>\n",
       "      <td>166.0</td>\n",
       "      <td>63.0</td>\n",
       "      <td>25.0</td>\n",
       "      <td>107.0</td>\n",
       "      <td>40.5</td>\n",
       "      <td>161.0</td>\n",
       "    </tr>\n",
       "    <tr>\n",
       "      <th>9</th>\n",
       "      <td>male</td>\n",
       "      <td>65</td>\n",
       "      <td>185.0</td>\n",
       "      <td>88.0</td>\n",
       "      <td>23.0</td>\n",
       "      <td>104.0</td>\n",
       "      <td>41.0</td>\n",
       "      <td>185.0</td>\n",
       "    </tr>\n",
       "  </tbody>\n",
       "</table>\n",
       "</div>"
      ],
      "text/plain": [
       "      Sex  Age  Height  Weight  Duration  Heart_Rate  Body_Temp  Calories\n",
       "0    male   36   189.0    82.0      26.0       101.0       41.0     150.0\n",
       "1  female   64   163.0    60.0       8.0        85.0       39.7      34.0\n",
       "2  female   51   161.0    64.0       7.0        84.0       39.8      29.0\n",
       "3    male   20   192.0    90.0      25.0       105.0       40.7     140.0\n",
       "4  female   38   166.0    61.0      25.0       102.0       40.6     146.0\n",
       "5  female   26   156.0    56.0      19.0       100.0       40.5     103.0\n",
       "6  female   21   172.0    73.0       3.0        81.0       38.3       9.0\n",
       "7    male   46   188.0    94.0      23.0       100.0       40.8     145.0\n",
       "8  female   33   166.0    63.0      25.0       107.0       40.5     161.0\n",
       "9    male   65   185.0    88.0      23.0       104.0       41.0     185.0"
      ]
     },
     "execution_count": 5,
     "metadata": {},
     "output_type": "execute_result"
    }
   ],
   "source": [
    "train.head(10)"
   ]
  },
  {
   "cell_type": "code",
   "execution_count": 6,
   "id": "89086aa9",
   "metadata": {
    "execution": {
     "iopub.execute_input": "2025-05-29T07:21:33.462398Z",
     "iopub.status.busy": "2025-05-29T07:21:33.462114Z",
     "iopub.status.idle": "2025-05-29T07:21:34.669899Z",
     "shell.execute_reply": "2025-05-29T07:21:34.669147Z"
    },
    "papermill": {
     "duration": 1.213232,
     "end_time": "2025-05-29T07:21:34.671077",
     "exception": false,
     "start_time": "2025-05-29T07:21:33.457845",
     "status": "completed"
    },
    "tags": []
   },
   "outputs": [
    {
     "data": {
      "text/html": [
       "<div>\n",
       "<style scoped>\n",
       "    .dataframe tbody tr th:only-of-type {\n",
       "        vertical-align: middle;\n",
       "    }\n",
       "\n",
       "    .dataframe tbody tr th {\n",
       "        vertical-align: top;\n",
       "    }\n",
       "\n",
       "    .dataframe thead th {\n",
       "        text-align: right;\n",
       "    }\n",
       "</style>\n",
       "<table border=\"1\" class=\"dataframe\">\n",
       "  <thead>\n",
       "    <tr style=\"text-align: right;\">\n",
       "      <th></th>\n",
       "      <th>Age</th>\n",
       "      <th>Height</th>\n",
       "      <th>Weight</th>\n",
       "      <th>Duration</th>\n",
       "      <th>Heart_Rate</th>\n",
       "      <th>Body_Temp</th>\n",
       "      <th>Calories</th>\n",
       "    </tr>\n",
       "  </thead>\n",
       "  <tbody>\n",
       "    <tr>\n",
       "      <th>count</th>\n",
       "      <td>765000.000000</td>\n",
       "      <td>765000.000000</td>\n",
       "      <td>765000.000000</td>\n",
       "      <td>765000.000000</td>\n",
       "      <td>765000.000000</td>\n",
       "      <td>765000.000000</td>\n",
       "      <td>765000.000000</td>\n",
       "    </tr>\n",
       "    <tr>\n",
       "      <th>mean</th>\n",
       "      <td>41.447255</td>\n",
       "      <td>174.693126</td>\n",
       "      <td>75.142162</td>\n",
       "      <td>15.423163</td>\n",
       "      <td>95.484672</td>\n",
       "      <td>40.036041</td>\n",
       "      <td>88.307424</td>\n",
       "    </tr>\n",
       "    <tr>\n",
       "      <th>std</th>\n",
       "      <td>15.213677</td>\n",
       "      <td>12.854173</td>\n",
       "      <td>14.004122</td>\n",
       "      <td>8.353421</td>\n",
       "      <td>9.452476</td>\n",
       "      <td>0.779863</td>\n",
       "      <td>62.396760</td>\n",
       "    </tr>\n",
       "    <tr>\n",
       "      <th>min</th>\n",
       "      <td>20.000000</td>\n",
       "      <td>123.000000</td>\n",
       "      <td>36.000000</td>\n",
       "      <td>1.000000</td>\n",
       "      <td>67.000000</td>\n",
       "      <td>37.100000</td>\n",
       "      <td>1.000000</td>\n",
       "    </tr>\n",
       "    <tr>\n",
       "      <th>25%</th>\n",
       "      <td>28.000000</td>\n",
       "      <td>164.000000</td>\n",
       "      <td>63.000000</td>\n",
       "      <td>8.000000</td>\n",
       "      <td>88.000000</td>\n",
       "      <td>39.600000</td>\n",
       "      <td>34.000000</td>\n",
       "    </tr>\n",
       "    <tr>\n",
       "      <th>50%</th>\n",
       "      <td>40.000000</td>\n",
       "      <td>174.000000</td>\n",
       "      <td>74.000000</td>\n",
       "      <td>15.000000</td>\n",
       "      <td>95.000000</td>\n",
       "      <td>40.300000</td>\n",
       "      <td>77.000000</td>\n",
       "    </tr>\n",
       "    <tr>\n",
       "      <th>75%</th>\n",
       "      <td>52.000000</td>\n",
       "      <td>185.000000</td>\n",
       "      <td>87.000000</td>\n",
       "      <td>23.000000</td>\n",
       "      <td>103.000000</td>\n",
       "      <td>40.700000</td>\n",
       "      <td>136.000000</td>\n",
       "    </tr>\n",
       "    <tr>\n",
       "      <th>max</th>\n",
       "      <td>79.000000</td>\n",
       "      <td>222.000000</td>\n",
       "      <td>132.000000</td>\n",
       "      <td>30.000000</td>\n",
       "      <td>128.000000</td>\n",
       "      <td>41.500000</td>\n",
       "      <td>314.000000</td>\n",
       "    </tr>\n",
       "  </tbody>\n",
       "</table>\n",
       "</div>"
      ],
      "text/plain": [
       "                 Age         Height         Weight       Duration  \\\n",
       "count  765000.000000  765000.000000  765000.000000  765000.000000   \n",
       "mean       41.447255     174.693126      75.142162      15.423163   \n",
       "std        15.213677      12.854173      14.004122       8.353421   \n",
       "min        20.000000     123.000000      36.000000       1.000000   \n",
       "25%        28.000000     164.000000      63.000000       8.000000   \n",
       "50%        40.000000     174.000000      74.000000      15.000000   \n",
       "75%        52.000000     185.000000      87.000000      23.000000   \n",
       "max        79.000000     222.000000     132.000000      30.000000   \n",
       "\n",
       "          Heart_Rate      Body_Temp       Calories  \n",
       "count  765000.000000  765000.000000  765000.000000  \n",
       "mean       95.484672      40.036041      88.307424  \n",
       "std         9.452476       0.779863      62.396760  \n",
       "min        67.000000      37.100000       1.000000  \n",
       "25%        88.000000      39.600000      34.000000  \n",
       "50%        95.000000      40.300000      77.000000  \n",
       "75%       103.000000      40.700000     136.000000  \n",
       "max       128.000000      41.500000     314.000000  "
      ]
     },
     "execution_count": 6,
     "metadata": {},
     "output_type": "execute_result"
    }
   ],
   "source": [
    "train.describe()"
   ]
  },
  {
   "cell_type": "code",
   "execution_count": 7,
   "id": "d8a73b90",
   "metadata": {
    "execution": {
     "iopub.execute_input": "2025-05-29T07:21:34.680403Z",
     "iopub.status.busy": "2025-05-29T07:21:34.680132Z",
     "iopub.status.idle": "2025-05-29T07:21:34.758815Z",
     "shell.execute_reply": "2025-05-29T07:21:34.758267Z"
    },
    "papermill": {
     "duration": 0.084124,
     "end_time": "2025-05-29T07:21:34.759858",
     "exception": false,
     "start_time": "2025-05-29T07:21:34.675734",
     "status": "completed"
    },
    "tags": []
   },
   "outputs": [
    {
     "data": {
      "text/plain": [
       "Sex           0\n",
       "Age           0\n",
       "Height        0\n",
       "Weight        0\n",
       "Duration      0\n",
       "Heart_Rate    0\n",
       "Body_Temp     0\n",
       "Calories      0\n",
       "dtype: int64"
      ]
     },
     "execution_count": 7,
     "metadata": {},
     "output_type": "execute_result"
    }
   ],
   "source": [
    "train.isnull().sum()"
   ]
  },
  {
   "cell_type": "code",
   "execution_count": 8,
   "id": "a93fc6dc",
   "metadata": {
    "execution": {
     "iopub.execute_input": "2025-05-29T07:21:34.768924Z",
     "iopub.status.busy": "2025-05-29T07:21:34.768736Z",
     "iopub.status.idle": "2025-05-29T07:21:34.779925Z",
     "shell.execute_reply": "2025-05-29T07:21:34.779089Z"
    },
    "papermill": {
     "duration": 0.016676,
     "end_time": "2025-05-29T07:21:34.780939",
     "exception": false,
     "start_time": "2025-05-29T07:21:34.764263",
     "status": "completed"
    },
    "tags": []
   },
   "outputs": [
    {
     "name": "stdout",
     "output_type": "stream",
     "text": [
      "<class 'cudf.core.dataframe.DataFrame'>\n",
      "RangeIndex: 765000 entries, 0 to 764999\n",
      "Data columns (total 8 columns):\n",
      " #   Column      Non-Null Count   Dtype\n",
      "---  ------      --------------   -----\n",
      " 0   Sex         765000 non-null  object\n",
      " 1   Age         765000 non-null  int64\n",
      " 2   Height      765000 non-null  float64\n",
      " 3   Weight      765000 non-null  float64\n",
      " 4   Duration    765000 non-null  float64\n",
      " 5   Heart_Rate  765000 non-null  float64\n",
      " 6   Body_Temp   765000 non-null  float64\n",
      " 7   Calories    765000 non-null  float64\n",
      "dtypes: float64(6), int64(1), object(1)\n",
      "memory usage: 47.4+ MB\n"
     ]
    }
   ],
   "source": [
    "train.info()"
   ]
  },
  {
   "cell_type": "markdown",
   "id": "5ecc27d4",
   "metadata": {
    "papermill": {
     "duration": 0.003836,
     "end_time": "2025-05-29T07:21:34.788917",
     "exception": false,
     "start_time": "2025-05-29T07:21:34.785081",
     "status": "completed"
    },
    "tags": []
   },
   "source": [
    "# Data Preprocessing"
   ]
  },
  {
   "cell_type": "markdown",
   "id": "f640eff0",
   "metadata": {
    "papermill": {
     "duration": 0.003853,
     "end_time": "2025-05-29T07:21:34.796867",
     "exception": false,
     "start_time": "2025-05-29T07:21:34.793014",
     "status": "completed"
    },
    "tags": []
   },
   "source": [
    "## Reducing memory usage"
   ]
  },
  {
   "cell_type": "code",
   "execution_count": 9,
   "id": "d43c0729",
   "metadata": {
    "execution": {
     "iopub.execute_input": "2025-05-29T07:21:34.805838Z",
     "iopub.status.busy": "2025-05-29T07:21:34.805435Z",
     "iopub.status.idle": "2025-05-29T07:21:34.810897Z",
     "shell.execute_reply": "2025-05-29T07:21:34.810229Z"
    },
    "papermill": {
     "duration": 0.011291,
     "end_time": "2025-05-29T07:21:34.812050",
     "exception": false,
     "start_time": "2025-05-29T07:21:34.800759",
     "status": "completed"
    },
    "tags": []
   },
   "outputs": [],
   "source": [
    "train['Age'] = train['Age'].astype('int8')\n",
    "test['Age'] = test['Age'].astype('int8')"
   ]
  },
  {
   "cell_type": "code",
   "execution_count": 10,
   "id": "92664cfc",
   "metadata": {
    "execution": {
     "iopub.execute_input": "2025-05-29T07:21:34.820522Z",
     "iopub.status.busy": "2025-05-29T07:21:34.820307Z",
     "iopub.status.idle": "2025-05-29T07:21:36.708570Z",
     "shell.execute_reply": "2025-05-29T07:21:36.707803Z"
    },
    "papermill": {
     "duration": 1.894004,
     "end_time": "2025-05-29T07:21:36.710018",
     "exception": false,
     "start_time": "2025-05-29T07:21:34.816014",
     "status": "completed"
    },
    "tags": []
   },
   "outputs": [],
   "source": [
    "num_cols = test.select_dtypes(include='float64').columns\n",
    "for col in num_cols:\n",
    "    train[num_cols] = train[num_cols].astype('float32')\n",
    "    test[num_cols] = test[num_cols].astype('float32')"
   ]
  },
  {
   "cell_type": "code",
   "execution_count": 11,
   "id": "5330f230",
   "metadata": {
    "execution": {
     "iopub.execute_input": "2025-05-29T07:21:36.719806Z",
     "iopub.status.busy": "2025-05-29T07:21:36.719582Z",
     "iopub.status.idle": "2025-05-29T07:21:36.738518Z",
     "shell.execute_reply": "2025-05-29T07:21:36.737819Z"
    },
    "papermill": {
     "duration": 0.02495,
     "end_time": "2025-05-29T07:21:36.739563",
     "exception": false,
     "start_time": "2025-05-29T07:21:36.714613",
     "status": "completed"
    },
    "tags": []
   },
   "outputs": [
    {
     "name": "stdout",
     "output_type": "stream",
     "text": [
      "<class 'cudf.core.dataframe.DataFrame'>\n",
      "RangeIndex: 765000 entries, 0 to 764999\n",
      "Data columns (total 8 columns):\n",
      " #   Column      Non-Null Count   Dtype\n",
      "---  ------      --------------   -----\n",
      " 0   Sex         765000 non-null  object\n",
      " 1   Age         765000 non-null  int8\n",
      " 2   Height      765000 non-null  float32\n",
      " 3   Weight      765000 non-null  float32\n",
      " 4   Duration    765000 non-null  float32\n",
      " 5   Heart_Rate  765000 non-null  float32\n",
      " 6   Body_Temp   765000 non-null  float32\n",
      " 7   Calories    765000 non-null  float64\n",
      "dtypes: float32(5), float64(1), int8(1), object(1)\n",
      "memory usage: 27.7+ MB\n"
     ]
    }
   ],
   "source": [
    "train.info()"
   ]
  },
  {
   "cell_type": "code",
   "execution_count": 12,
   "id": "5fffe820",
   "metadata": {
    "execution": {
     "iopub.execute_input": "2025-05-29T07:21:36.748776Z",
     "iopub.status.busy": "2025-05-29T07:21:36.748254Z",
     "iopub.status.idle": "2025-05-29T07:21:36.807295Z",
     "shell.execute_reply": "2025-05-29T07:21:36.806509Z"
    },
    "papermill": {
     "duration": 0.064616,
     "end_time": "2025-05-29T07:21:36.808457",
     "exception": false,
     "start_time": "2025-05-29T07:21:36.743841",
     "status": "completed"
    },
    "tags": []
   },
   "outputs": [],
   "source": [
    "mapping = {'male': 1, 'female': 0}\n",
    "\n",
    "train['Sex'] = train['Sex'].map(mapping).astype('int8')\n",
    "test['Sex'] = test['Sex'].map(mapping).astype('int8')"
   ]
  },
  {
   "cell_type": "code",
   "execution_count": 13,
   "id": "617fedb8",
   "metadata": {
    "execution": {
     "iopub.execute_input": "2025-05-29T07:21:36.817744Z",
     "iopub.status.busy": "2025-05-29T07:21:36.817354Z",
     "iopub.status.idle": "2025-05-29T07:21:36.821203Z",
     "shell.execute_reply": "2025-05-29T07:21:36.820698Z"
    },
    "papermill": {
     "duration": 0.009782,
     "end_time": "2025-05-29T07:21:36.822422",
     "exception": false,
     "start_time": "2025-05-29T07:21:36.812640",
     "status": "completed"
    },
    "tags": []
   },
   "outputs": [],
   "source": [
    "def add_statistical_features(df, features):\n",
    "    df_new = df.copy()\n",
    "    df_new[\"row_mean\"] = df[features].mean(axis=1)\n",
    "    df_new[\"row_max\"] = df[features].max(axis=1)\n",
    "    df_new[\"row_min\"] = df[features].min(axis=1)\n",
    "    df_new[\"row_median\"] = df[features].median(axis=1)\n",
    "    df_new[\"row_skew\"] = df[features].skew(axis=1)\n",
    "    df_new[\"row_unique\"] = df[features].nunique(axis=1)\n",
    "    \n",
    "    return df_new"
   ]
  },
  {
   "cell_type": "code",
   "execution_count": 14,
   "id": "4b5badc5",
   "metadata": {
    "execution": {
     "iopub.execute_input": "2025-05-29T07:21:36.831586Z",
     "iopub.status.busy": "2025-05-29T07:21:36.830946Z",
     "iopub.status.idle": "2025-05-29T07:21:36.834665Z",
     "shell.execute_reply": "2025-05-29T07:21:36.833944Z"
    },
    "papermill": {
     "duration": 0.009274,
     "end_time": "2025-05-29T07:21:36.835757",
     "exception": false,
     "start_time": "2025-05-29T07:21:36.826483",
     "status": "completed"
    },
    "tags": []
   },
   "outputs": [],
   "source": [
    "features = ['Sex', 'Age', 'Height', 'Weight', 'Duration', 'Heart_Rate', 'Body_Temp']"
   ]
  },
  {
   "cell_type": "code",
   "execution_count": 15,
   "id": "43cb170a",
   "metadata": {
    "execution": {
     "iopub.execute_input": "2025-05-29T07:21:36.844682Z",
     "iopub.status.busy": "2025-05-29T07:21:36.844510Z",
     "iopub.status.idle": "2025-05-29T07:21:36.848947Z",
     "shell.execute_reply": "2025-05-29T07:21:36.848309Z"
    },
    "papermill": {
     "duration": 0.010281,
     "end_time": "2025-05-29T07:21:36.850019",
     "exception": false,
     "start_time": "2025-05-29T07:21:36.839738",
     "status": "completed"
    },
    "tags": []
   },
   "outputs": [],
   "source": [
    "def add_features(df):\n",
    "    for i, c1 in enumerate(features):\n",
    "        for c2 in (features[i+1:]):\n",
    "            m = f'{c1}*{c2}'\n",
    "            df[m] = df[c1] * df[c2]\n",
    "            a = f'{c1}+{c2}'\n",
    "            df[a] = df[c1] + df[c2]\n",
    "            s = f'{c1}-{c2}'\n",
    "            df[s] = df[c1] - df[c2]\n",
    "            d = f'{c1}/{c2}'\n",
    "            df[d] = df[c1] / (df[c2] + 1e-3)\n",
    "            rd = f'{c2}/{c1}'\n",
    "            df[rd] = df[c2] / (df[c1] + 1e-3)\n",
    "    return df"
   ]
  },
  {
   "cell_type": "code",
   "execution_count": 16,
   "id": "38033174",
   "metadata": {
    "execution": {
     "iopub.execute_input": "2025-05-29T07:21:36.858997Z",
     "iopub.status.busy": "2025-05-29T07:21:36.858829Z",
     "iopub.status.idle": "2025-05-29T07:21:36.868607Z",
     "shell.execute_reply": "2025-05-29T07:21:36.867817Z"
    },
    "papermill": {
     "duration": 0.015515,
     "end_time": "2025-05-29T07:21:36.869818",
     "exception": false,
     "start_time": "2025-05-29T07:21:36.854303",
     "status": "completed"
    },
    "tags": []
   },
   "outputs": [],
   "source": [
    "def feature_engineer(df):\n",
    "    \n",
    "    df['BMI'] = df['Weight'] / (df['Height']/100) ** 2\n",
    "    \n",
    "    Max_Heart_Rate = 207 - (0.7 * df['Age'])\n",
    "    df['HR_Ratio'] = df['Heart_Rate'] / Max_Heart_Rate\n",
    "    df['HR_Reserve'] =  df['HR_Ratio'] * df['Duration']\n",
    "    df['Thermal_Load'] = df['Body_Temp'] * df['Duration'] * df['HR_Ratio']\n",
    "\n",
    "    df['Anaerobic_Contribution'] = df['HR_Ratio']**2 * np.minimum(df['Duration'], 180) * df['Weight'] * 0.05\n",
    "    \n",
    "    MET_Estimate = (df['Heart_Rate'] / Max_Heart_Rate) * 15\n",
    "    df['MET_Calories_Rate'] = MET_Estimate * 3.5 * df['Weight'] / 200\n",
    "    \n",
    "    df['EPOC_Factor'] = df['HR_Ratio']**2 * np.log1p(df['Duration']/10)\n",
    "    df['MET_Calories_Total'] = df['MET_Calories_Rate'] * df['Duration']\n",
    "    \n",
    "    df['Exercise_Intensity_Index'] = df['Heart_Rate'] * df['Body_Temp'] / (df['Weight'] * df['Age'])\n",
    "    df['Exercise_Economy'] = df['Heart_Rate'] / (df['Weight']**0.75)\n",
    "\n",
    "    df['exertion_score'] = df['Duration'] * df['Heart_Rate'] * df['Body_Temp']\n",
    "    df['Age_Adjusted_Exertion'] = df['exertion_score'] / (1 + 0.01 * (df['Age'] - 30))\n",
    "\n",
    "    for col in ['Duration', 'Heart_Rate', 'Body_Temp']:\n",
    "        df[f'Sqrt_{col}'] = np.sqrt(df[col])\n",
    "        df[f'Log_{col}'] = np.log1p(df[col])\n",
    "        df[f'Square_{col}'] = np.square(df[col])\n",
    "        df[f'Cube_{col}'] = df[col] ** 3\n",
    "    \n",
    "    df['body_theta'] = np.arctan2(df['Weight'], df['Height'])\n",
    "\n",
    "    df['CB_Proxy'] = np.where(\n",
    "        df['Sex'] == 'female',\n",
    "        df['Duration'] * (0.4472 * df['Heart_Rate'] - 0.1263 * df['Weight'] + 0.074 * df['Age'] -  55.0969) / 4.184,\n",
    "        df['Duration'] * (0.6309 * df['Heart_Rate'] - 0.1988 * df['Weight'] + 0.2017 * df['Age'] -  55.0969) / 4.184,\n",
    "    )\n",
    "\n",
    "    df['BMR'] = np.where(\n",
    "        df['Sex'] == 'female',\n",
    "        10 * df['Weight'] + 6.25 * df['Height'] - 5 * df['Age'] - 161,\n",
    "        10 * df['Weight'] + 6.25 * df['Height'] - 5 * df['Age'] + 5\n",
    "    )\n",
    "    df['TSI'] = 5 * ((df['Body_Temp'] - 36.5) / (41.5 - 36.5)) + 5 * ((df['Heart_Rate'] - 60) / ((220 - df['Age']) - 60))\n",
    "    df['AWI'] = (df['Duration'] * df['HR_Ratio']) / df['Age']\n",
    "    df['RPE'] = df['HR_Ratio'] + 0.1 * (df['Body_Temp'] - 37)\n",
    "    \n",
    "    df['VO2_Proxy'] = np.where(\n",
    "        df['Sex'] == 'female',\n",
    "        (0.85 * df['Duration']) / (df['HR_Ratio'] * df['Age']),\n",
    "        (1.00 * df['Duration']) / (df['HR_Ratio'] * df['Age']),\n",
    ")\n",
    "\n",
    "    \n",
    "    return df"
   ]
  },
  {
   "cell_type": "code",
   "execution_count": 17,
   "id": "2649095b",
   "metadata": {
    "execution": {
     "iopub.execute_input": "2025-05-29T07:21:36.879498Z",
     "iopub.status.busy": "2025-05-29T07:21:36.879293Z",
     "iopub.status.idle": "2025-05-29T07:22:14.292934Z",
     "shell.execute_reply": "2025-05-29T07:22:14.292397Z"
    },
    "papermill": {
     "duration": 37.420039,
     "end_time": "2025-05-29T07:22:14.294418",
     "exception": false,
     "start_time": "2025-05-29T07:21:36.874379",
     "status": "completed"
    },
    "tags": []
   },
   "outputs": [],
   "source": [
    "X = train.copy()\n",
    "y = X.pop('Calories')\n",
    "y = np.log1p(y)\n",
    "\n",
    "X = add_features(X)\n",
    "X = feature_engineer(X)\n",
    "X = add_statistical_features(X, features=features)\n",
    "\n",
    "X_test = test.copy()\n",
    "X_test = add_features(X_test)\n",
    "X_test = feature_engineer(X_test)\n",
    "X_test = add_statistical_features(X_test, features=features)"
   ]
  },
  {
   "cell_type": "code",
   "execution_count": 18,
   "id": "3cbffd3d",
   "metadata": {
    "execution": {
     "iopub.execute_input": "2025-05-29T07:22:14.303916Z",
     "iopub.status.busy": "2025-05-29T07:22:14.303724Z",
     "iopub.status.idle": "2025-05-29T07:22:16.605378Z",
     "shell.execute_reply": "2025-05-29T07:22:16.604826Z"
    },
    "papermill": {
     "duration": 2.307768,
     "end_time": "2025-05-29T07:22:16.606817",
     "exception": false,
     "start_time": "2025-05-29T07:22:14.299049",
     "status": "completed"
    },
    "tags": []
   },
   "outputs": [],
   "source": [
    "corr_matrix = pd.DataFrame(X).corr().abs()\n",
    "upper = corr_matrix.where(np.triu(np.ones(corr_matrix.shape), k=1).astype(bool))\n",
    "to_drop = [column for column in upper.columns if any(upper[column] > 0.95)]\n",
    "X = X.drop(columns=to_drop)\n",
    "X_test = X_test.drop(columns=to_drop)"
   ]
  },
  {
   "cell_type": "code",
   "execution_count": 19,
   "id": "1c355cbd",
   "metadata": {
    "execution": {
     "iopub.execute_input": "2025-05-29T07:22:16.616372Z",
     "iopub.status.busy": "2025-05-29T07:22:16.616082Z",
     "iopub.status.idle": "2025-05-29T07:22:16.657099Z",
     "shell.execute_reply": "2025-05-29T07:22:16.656336Z"
    },
    "papermill": {
     "duration": 0.046949,
     "end_time": "2025-05-29T07:22:16.658090",
     "exception": false,
     "start_time": "2025-05-29T07:22:16.611141",
     "status": "completed"
    },
    "tags": []
   },
   "outputs": [
    {
     "data": {
      "text/html": [
       "<div>\n",
       "<style scoped>\n",
       "    .dataframe tbody tr th:only-of-type {\n",
       "        vertical-align: middle;\n",
       "    }\n",
       "\n",
       "    .dataframe tbody tr th {\n",
       "        vertical-align: top;\n",
       "    }\n",
       "\n",
       "    .dataframe thead th {\n",
       "        text-align: right;\n",
       "    }\n",
       "</style>\n",
       "<table border=\"1\" class=\"dataframe\">\n",
       "  <thead>\n",
       "    <tr style=\"text-align: right;\">\n",
       "      <th></th>\n",
       "      <th>Sex</th>\n",
       "      <th>Age</th>\n",
       "      <th>Height</th>\n",
       "      <th>Duration</th>\n",
       "      <th>Heart_Rate</th>\n",
       "      <th>Body_Temp</th>\n",
       "      <th>Sex*Age</th>\n",
       "      <th>Sex/Age</th>\n",
       "      <th>Age/Sex</th>\n",
       "      <th>Sex*Duration</th>\n",
       "      <th>Sex/Duration</th>\n",
       "      <th>Duration/Sex</th>\n",
       "      <th>Sex+Body_Temp</th>\n",
       "      <th>Sex-Body_Temp</th>\n",
       "      <th>Age+Height</th>\n",
       "      <th>Age-Height</th>\n",
       "      <th>Height/Age</th>\n",
       "      <th>Age*Duration</th>\n",
       "      <th>Age+Duration</th>\n",
       "      <th>Age-Duration</th>\n",
       "      <th>Age/Duration</th>\n",
       "      <th>Duration/Age</th>\n",
       "      <th>Heart_Rate/Age</th>\n",
       "      <th>Height-Weight</th>\n",
       "      <th>Height+Duration</th>\n",
       "      <th>Height-Duration</th>\n",
       "      <th>Height/Duration</th>\n",
       "      <th>Height*Heart_Rate</th>\n",
       "      <th>Height/Heart_Rate</th>\n",
       "      <th>Duration-Heart_Rate</th>\n",
       "      <th>BMI</th>\n",
       "      <th>HR_Ratio</th>\n",
       "      <th>Exercise_Intensity_Index</th>\n",
       "      <th>CB_Proxy</th>\n",
       "      <th>BMR</th>\n",
       "      <th>row_median</th>\n",
       "      <th>row_skew</th>\n",
       "      <th>row_unique</th>\n",
       "    </tr>\n",
       "  </thead>\n",
       "  <tbody>\n",
       "    <tr>\n",
       "      <th>0</th>\n",
       "      <td>1</td>\n",
       "      <td>36</td>\n",
       "      <td>189.0</td>\n",
       "      <td>26.0</td>\n",
       "      <td>101.0</td>\n",
       "      <td>41.000000</td>\n",
       "      <td>36</td>\n",
       "      <td>0.027777</td>\n",
       "      <td>35.964036</td>\n",
       "      <td>26.0</td>\n",
       "      <td>0.038460</td>\n",
       "      <td>25.974026</td>\n",
       "      <td>42.000000</td>\n",
       "      <td>-40.000000</td>\n",
       "      <td>225.0</td>\n",
       "      <td>-153.0</td>\n",
       "      <td>5.249854</td>\n",
       "      <td>936.0</td>\n",
       "      <td>62.0</td>\n",
       "      <td>10.0</td>\n",
       "      <td>1.384562</td>\n",
       "      <td>0.722202</td>\n",
       "      <td>2.805478</td>\n",
       "      <td>107.0</td>\n",
       "      <td>215.0</td>\n",
       "      <td>163.0</td>\n",
       "      <td>7.268951</td>\n",
       "      <td>19089.0</td>\n",
       "      <td>1.871269</td>\n",
       "      <td>-75.0</td>\n",
       "      <td>22.955685</td>\n",
       "      <td>0.555556</td>\n",
       "      <td>1.402778</td>\n",
       "      <td>-2.587548</td>\n",
       "      <td>2082.25</td>\n",
       "      <td>41.000000</td>\n",
       "      <td>1.280969</td>\n",
       "      <td>7</td>\n",
       "    </tr>\n",
       "    <tr>\n",
       "      <th>1</th>\n",
       "      <td>0</td>\n",
       "      <td>64</td>\n",
       "      <td>163.0</td>\n",
       "      <td>8.0</td>\n",
       "      <td>85.0</td>\n",
       "      <td>39.700001</td>\n",
       "      <td>0</td>\n",
       "      <td>0.000000</td>\n",
       "      <td>64000.000000</td>\n",
       "      <td>0.0</td>\n",
       "      <td>0.000000</td>\n",
       "      <td>8000.000000</td>\n",
       "      <td>39.700001</td>\n",
       "      <td>-39.700001</td>\n",
       "      <td>227.0</td>\n",
       "      <td>-99.0</td>\n",
       "      <td>2.546835</td>\n",
       "      <td>512.0</td>\n",
       "      <td>72.0</td>\n",
       "      <td>56.0</td>\n",
       "      <td>7.999000</td>\n",
       "      <td>0.124998</td>\n",
       "      <td>1.328104</td>\n",
       "      <td>103.0</td>\n",
       "      <td>171.0</td>\n",
       "      <td>155.0</td>\n",
       "      <td>20.372452</td>\n",
       "      <td>13855.0</td>\n",
       "      <td>1.917624</td>\n",
       "      <td>-77.0</td>\n",
       "      <td>22.582710</td>\n",
       "      <td>0.524044</td>\n",
       "      <td>0.878776</td>\n",
       "      <td>-0.936135</td>\n",
       "      <td>1559.75</td>\n",
       "      <td>60.000000</td>\n",
       "      <td>1.061985</td>\n",
       "      <td>7</td>\n",
       "    </tr>\n",
       "    <tr>\n",
       "      <th>2</th>\n",
       "      <td>0</td>\n",
       "      <td>51</td>\n",
       "      <td>161.0</td>\n",
       "      <td>7.0</td>\n",
       "      <td>84.0</td>\n",
       "      <td>39.799999</td>\n",
       "      <td>0</td>\n",
       "      <td>0.000000</td>\n",
       "      <td>51000.000000</td>\n",
       "      <td>0.0</td>\n",
       "      <td>0.000000</td>\n",
       "      <td>7000.000000</td>\n",
       "      <td>39.799999</td>\n",
       "      <td>-39.799999</td>\n",
       "      <td>212.0</td>\n",
       "      <td>-110.0</td>\n",
       "      <td>3.156801</td>\n",
       "      <td>357.0</td>\n",
       "      <td>58.0</td>\n",
       "      <td>44.0</td>\n",
       "      <td>7.284674</td>\n",
       "      <td>0.137252</td>\n",
       "      <td>1.647027</td>\n",
       "      <td>97.0</td>\n",
       "      <td>168.0</td>\n",
       "      <td>154.0</td>\n",
       "      <td>22.996716</td>\n",
       "      <td>13524.0</td>\n",
       "      <td>1.916644</td>\n",
       "      <td>-77.0</td>\n",
       "      <td>24.690405</td>\n",
       "      <td>0.490368</td>\n",
       "      <td>1.024265</td>\n",
       "      <td>-7.591922</td>\n",
       "      <td>1652.25</td>\n",
       "      <td>51.000000</td>\n",
       "      <td>1.125036</td>\n",
       "      <td>7</td>\n",
       "    </tr>\n",
       "    <tr>\n",
       "      <th>3</th>\n",
       "      <td>1</td>\n",
       "      <td>20</td>\n",
       "      <td>192.0</td>\n",
       "      <td>25.0</td>\n",
       "      <td>105.0</td>\n",
       "      <td>40.700001</td>\n",
       "      <td>20</td>\n",
       "      <td>0.049998</td>\n",
       "      <td>19.980020</td>\n",
       "      <td>25.0</td>\n",
       "      <td>0.039998</td>\n",
       "      <td>24.975025</td>\n",
       "      <td>41.700001</td>\n",
       "      <td>-39.700001</td>\n",
       "      <td>212.0</td>\n",
       "      <td>-172.0</td>\n",
       "      <td>9.599520</td>\n",
       "      <td>500.0</td>\n",
       "      <td>45.0</td>\n",
       "      <td>-5.0</td>\n",
       "      <td>0.799968</td>\n",
       "      <td>1.249938</td>\n",
       "      <td>5.249738</td>\n",
       "      <td>102.0</td>\n",
       "      <td>217.0</td>\n",
       "      <td>167.0</td>\n",
       "      <td>7.679693</td>\n",
       "      <td>20160.0</td>\n",
       "      <td>1.828554</td>\n",
       "      <td>-80.0</td>\n",
       "      <td>24.414062</td>\n",
       "      <td>0.544041</td>\n",
       "      <td>2.374167</td>\n",
       "      <td>-16.195023</td>\n",
       "      <td>2005.00</td>\n",
       "      <td>40.700001</td>\n",
       "      <td>1.171192</td>\n",
       "      <td>7</td>\n",
       "    </tr>\n",
       "    <tr>\n",
       "      <th>4</th>\n",
       "      <td>0</td>\n",
       "      <td>38</td>\n",
       "      <td>166.0</td>\n",
       "      <td>25.0</td>\n",
       "      <td>102.0</td>\n",
       "      <td>40.599998</td>\n",
       "      <td>0</td>\n",
       "      <td>0.000000</td>\n",
       "      <td>38000.000000</td>\n",
       "      <td>0.0</td>\n",
       "      <td>0.000000</td>\n",
       "      <td>25000.000000</td>\n",
       "      <td>40.599998</td>\n",
       "      <td>-40.599998</td>\n",
       "      <td>204.0</td>\n",
       "      <td>-128.0</td>\n",
       "      <td>4.368306</td>\n",
       "      <td>950.0</td>\n",
       "      <td>63.0</td>\n",
       "      <td>13.0</td>\n",
       "      <td>1.519939</td>\n",
       "      <td>0.657877</td>\n",
       "      <td>2.684140</td>\n",
       "      <td>105.0</td>\n",
       "      <td>191.0</td>\n",
       "      <td>141.0</td>\n",
       "      <td>6.639735</td>\n",
       "      <td>16932.0</td>\n",
       "      <td>1.627435</td>\n",
       "      <td>-77.0</td>\n",
       "      <td>22.136740</td>\n",
       "      <td>0.565410</td>\n",
       "      <td>1.786540</td>\n",
       "      <td>28.637061</td>\n",
       "      <td>1718.50</td>\n",
       "      <td>40.599998</td>\n",
       "      <td>1.193588</td>\n",
       "      <td>7</td>\n",
       "    </tr>\n",
       "  </tbody>\n",
       "</table>\n",
       "</div>"
      ],
      "text/plain": [
       "   Sex  Age  Height  Duration  Heart_Rate  Body_Temp  Sex*Age   Sex/Age  \\\n",
       "0    1   36   189.0      26.0       101.0  41.000000       36  0.027777   \n",
       "1    0   64   163.0       8.0        85.0  39.700001        0  0.000000   \n",
       "2    0   51   161.0       7.0        84.0  39.799999        0  0.000000   \n",
       "3    1   20   192.0      25.0       105.0  40.700001       20  0.049998   \n",
       "4    0   38   166.0      25.0       102.0  40.599998        0  0.000000   \n",
       "\n",
       "        Age/Sex  Sex*Duration  Sex/Duration  Duration/Sex  Sex+Body_Temp  \\\n",
       "0     35.964036          26.0      0.038460     25.974026      42.000000   \n",
       "1  64000.000000           0.0      0.000000   8000.000000      39.700001   \n",
       "2  51000.000000           0.0      0.000000   7000.000000      39.799999   \n",
       "3     19.980020          25.0      0.039998     24.975025      41.700001   \n",
       "4  38000.000000           0.0      0.000000  25000.000000      40.599998   \n",
       "\n",
       "   Sex-Body_Temp  Age+Height  Age-Height  Height/Age  Age*Duration  \\\n",
       "0     -40.000000       225.0      -153.0    5.249854         936.0   \n",
       "1     -39.700001       227.0       -99.0    2.546835         512.0   \n",
       "2     -39.799999       212.0      -110.0    3.156801         357.0   \n",
       "3     -39.700001       212.0      -172.0    9.599520         500.0   \n",
       "4     -40.599998       204.0      -128.0    4.368306         950.0   \n",
       "\n",
       "   Age+Duration  Age-Duration  Age/Duration  Duration/Age  Heart_Rate/Age  \\\n",
       "0          62.0          10.0      1.384562      0.722202        2.805478   \n",
       "1          72.0          56.0      7.999000      0.124998        1.328104   \n",
       "2          58.0          44.0      7.284674      0.137252        1.647027   \n",
       "3          45.0          -5.0      0.799968      1.249938        5.249738   \n",
       "4          63.0          13.0      1.519939      0.657877        2.684140   \n",
       "\n",
       "   Height-Weight  Height+Duration  Height-Duration  Height/Duration  \\\n",
       "0          107.0            215.0            163.0         7.268951   \n",
       "1          103.0            171.0            155.0        20.372452   \n",
       "2           97.0            168.0            154.0        22.996716   \n",
       "3          102.0            217.0            167.0         7.679693   \n",
       "4          105.0            191.0            141.0         6.639735   \n",
       "\n",
       "   Height*Heart_Rate  Height/Heart_Rate  Duration-Heart_Rate        BMI  \\\n",
       "0            19089.0           1.871269                -75.0  22.955685   \n",
       "1            13855.0           1.917624                -77.0  22.582710   \n",
       "2            13524.0           1.916644                -77.0  24.690405   \n",
       "3            20160.0           1.828554                -80.0  24.414062   \n",
       "4            16932.0           1.627435                -77.0  22.136740   \n",
       "\n",
       "   HR_Ratio  Exercise_Intensity_Index   CB_Proxy      BMR  row_median  \\\n",
       "0  0.555556                  1.402778  -2.587548  2082.25   41.000000   \n",
       "1  0.524044                  0.878776  -0.936135  1559.75   60.000000   \n",
       "2  0.490368                  1.024265  -7.591922  1652.25   51.000000   \n",
       "3  0.544041                  2.374167 -16.195023  2005.00   40.700001   \n",
       "4  0.565410                  1.786540  28.637061  1718.50   40.599998   \n",
       "\n",
       "   row_skew  row_unique  \n",
       "0  1.280969           7  \n",
       "1  1.061985           7  \n",
       "2  1.125036           7  \n",
       "3  1.171192           7  \n",
       "4  1.193588           7  "
      ]
     },
     "execution_count": 19,
     "metadata": {},
     "output_type": "execute_result"
    }
   ],
   "source": [
    "X.head()"
   ]
  },
  {
   "cell_type": "code",
   "execution_count": 20,
   "id": "a44b2920",
   "metadata": {
    "execution": {
     "iopub.execute_input": "2025-05-29T07:22:16.667733Z",
     "iopub.status.busy": "2025-05-29T07:22:16.667535Z",
     "iopub.status.idle": "2025-05-29T07:25:34.453572Z",
     "shell.execute_reply": "2025-05-29T07:25:34.452737Z"
    },
    "papermill": {
     "duration": 197.797181,
     "end_time": "2025-05-29T07:25:34.459647",
     "exception": false,
     "start_time": "2025-05-29T07:22:16.662466",
     "status": "completed"
    },
    "tags": []
   },
   "outputs": [
    {
     "name": "stdout",
     "output_type": "stream",
     "text": [
      "Fold 1 RMSE: 0.058749\n",
      "Fold 2 RMSE: 0.059030\n",
      "Fold 3 RMSE: 0.059689\n",
      "Fold 4 RMSE: 0.059721\n",
      "Fold 5 RMSE: 0.058824\n",
      "\n",
      "Overall OOF RMSLE: 0.059204\n"
     ]
    }
   ],
   "source": [
    "n_folds = 5\n",
    "kf = KFold(n_splits=n_folds, shuffle=True, random_state=100)\n",
    "\n",
    "oof_xgb = np.zeros(len(y))\n",
    "test_xgb = np.zeros(len(X_test))\n",
    "\n",
    "params = {\n",
    "    'n_estimators': 2000, \n",
    "    'learning_rate': 0.012429613949090264, \n",
    "    'max_depth': 9, \n",
    "    'min_child_weight': 11, \n",
    "    'alpha': 0.031799792818970524, \n",
    "    'lambda': 0.3580931274078332, \n",
    "    'subsample': 0.8416119186946701, \n",
    "    'colsample_bytree': 0.5066402912386329, \n",
    "    'gamma': 1.037011350094906e-08,\n",
    "    'grow_policy': 'lossguide',\n",
    "    'tree_method': 'gpu_hist',\n",
    "    'device':'cuda',\n",
    "    'seed': 100,\n",
    "    'early_stopping_rounds':100, \n",
    "    'objective':'reg:squarederror', \n",
    "    'eval_metric':'rmse',\n",
    "}\n",
    "\n",
    "for fold, (train_index, valid_index) in enumerate(kf.split(X, y), start=1):\n",
    "        X_train, X_valid = X.iloc[train_index].copy(), X.iloc[valid_index].copy()\n",
    "        y_train, y_valid = y.iloc[train_index], y.iloc[valid_index]\n",
    "        \n",
    "        xgb = XGBRegressor(**params, \n",
    "        ).fit(X_train, y_train, eval_set=[(X_valid, y_valid)], verbose=0)\n",
    "    \n",
    "        valid_pred = xgb.predict(X_valid)\n",
    "        oof_xgb[valid_index] = valid_pred\n",
    "        test_xgb += xgb.predict(X_test) / n_folds\n",
    "    \n",
    "        fold_rmsle = np.sqrt(mean_squared_log_error(np.expm1(y_valid), np.expm1(valid_pred)))\n",
    "        print(f\"Fold {fold} RMSE: {fold_rmsle:.6f}\")\n",
    "\n",
    "test_xgb = np.expm1(test_xgb)\n",
    "test_xgb = np.clip(test_xgb, 1, 314)\n",
    "\n",
    "overall_rmsle = np.sqrt(mean_squared_log_error(np.expm1(y), np.expm1(oof_xgb)))\n",
    "print(f\"\\nOverall OOF RMSLE: {overall_rmsle:.6f}\")   "
   ]
  },
  {
   "cell_type": "code",
   "execution_count": 21,
   "id": "2c3402a1",
   "metadata": {
    "execution": {
     "iopub.execute_input": "2025-05-29T07:25:34.470015Z",
     "iopub.status.busy": "2025-05-29T07:25:34.469518Z",
     "iopub.status.idle": "2025-05-29T07:25:34.482359Z",
     "shell.execute_reply": "2025-05-29T07:25:34.481551Z"
    },
    "papermill": {
     "duration": 0.01922,
     "end_time": "2025-05-29T07:25:34.483564",
     "exception": false,
     "start_time": "2025-05-29T07:25:34.464344",
     "status": "completed"
    },
    "tags": []
   },
   "outputs": [
    {
     "name": "stdout",
     "output_type": "stream",
     "text": [
      "OOF predictions saved to: /kaggle/working/oof_xgb.pkl\n"
     ]
    }
   ],
   "source": [
    "out_path_oof = \"/kaggle/working/oof_xgb.pkl\"\n",
    "joblib.dump(oof_xgb, out_path_oof)\n",
    "\n",
    "out_path_test = \"/kaggle/working/test_xgb.pkl\"\n",
    "joblib.dump(test_xgb, out_path_test)\n",
    "\n",
    "print(f\"OOF predictions saved to: {out_path_oof}\")"
   ]
  },
  {
   "cell_type": "code",
   "execution_count": 22,
   "id": "45edb6ad",
   "metadata": {
    "execution": {
     "iopub.execute_input": "2025-05-29T07:25:34.494134Z",
     "iopub.status.busy": "2025-05-29T07:25:34.493912Z",
     "iopub.status.idle": "2025-05-29T07:25:34.562991Z",
     "shell.execute_reply": "2025-05-29T07:25:34.562171Z"
    },
    "papermill": {
     "duration": 0.075604,
     "end_time": "2025-05-29T07:25:34.564285",
     "exception": false,
     "start_time": "2025-05-29T07:25:34.488681",
     "status": "completed"
    },
    "tags": []
   },
   "outputs": [
    {
     "name": "stdout",
     "output_type": "stream",
     "text": [
      "Your submission was successfully saved!\n",
      "       id    Calories\n",
      "0  750000   27.578265\n",
      "1  750001  107.613609\n",
      "2  750002   88.793783\n",
      "3  750003  125.743378\n",
      "4  750004   76.077098\n"
     ]
    }
   ],
   "source": [
    "sub = pd.read_csv('/kaggle/input/playground-series-s5e5/sample_submission.csv')\n",
    "sub['Calories'] = test_xgb\n",
    "sub.to_csv('submission.csv', index=False)\n",
    "print(\"Your submission was successfully saved!\")\n",
    "print(sub.head(5))"
   ]
  }
 ],
 "metadata": {
  "kaggle": {
   "accelerator": "nvidiaTeslaT4",
   "dataSources": [
    {
     "databundleVersionId": 11893428,
     "sourceId": 91716,
     "sourceType": "competition"
    },
    {
     "datasetId": 6512323,
     "sourceId": 10522392,
     "sourceType": "datasetVersion"
    }
   ],
   "dockerImageVersionId": 31011,
   "isGpuEnabled": true,
   "isInternetEnabled": true,
   "language": "python",
   "sourceType": "notebook"
  },
  "kernelspec": {
   "display_name": "Python 3",
   "language": "python",
   "name": "python3"
  },
  "language_info": {
   "codemirror_mode": {
    "name": "ipython",
    "version": 3
   },
   "file_extension": ".py",
   "mimetype": "text/x-python",
   "name": "python",
   "nbconvert_exporter": "python",
   "pygments_lexer": "ipython3",
   "version": "3.11.11"
  },
  "papermill": {
   "default_parameters": {},
   "duration": 262.368919,
   "end_time": "2025-05-29T07:25:37.873077",
   "environment_variables": {},
   "exception": null,
   "input_path": "__notebook__.ipynb",
   "output_path": "__notebook__.ipynb",
   "parameters": {},
   "start_time": "2025-05-29T07:21:15.504158",
   "version": "2.6.0"
  }
 },
 "nbformat": 4,
 "nbformat_minor": 5
}
