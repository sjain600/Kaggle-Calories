{
 "cells": [
  {
   "cell_type": "code",
   "execution_count": 1,
   "id": "1dca0a2d",
   "metadata": {
    "execution": {
     "iopub.execute_input": "2025-05-24T09:49:48.730218Z",
     "iopub.status.busy": "2025-05-24T09:49:48.730014Z",
     "iopub.status.idle": "2025-05-24T09:50:02.033708Z",
     "shell.execute_reply": "2025-05-24T09:50:02.032918Z"
    },
    "papermill": {
     "duration": 13.309627,
     "end_time": "2025-05-24T09:50:02.034797",
     "exception": false,
     "start_time": "2025-05-24T09:49:48.725170",
     "status": "completed"
    },
    "tags": []
   },
   "outputs": [
    {
     "name": "stdout",
     "output_type": "stream",
     "text": [
      "/kaggle/input/calories-burnt-prediction/calories.csv\n",
      "/kaggle/input/playground-series-s5e5/sample_submission.csv\n",
      "/kaggle/input/playground-series-s5e5/train.csv\n",
      "/kaggle/input/playground-series-s5e5/test.csv\n"
     ]
    },
    {
     "data": {
      "text/plain": [
       "<Figure size 1200x750 with 0 Axes>"
      ]
     },
     "metadata": {},
     "output_type": "display_data"
    }
   ],
   "source": [
    "# This Python 3 environment comes with many helpful analytics libraries installed\n",
    "# It is defined by the kaggle/python Docker image: https://github.com/kaggle/docker-python\n",
    "# For example, here's several helpful packages to load\n",
    "%load_ext cudf.pandas\n",
    "import numpy as np # linear algebra\n",
    "import pandas as pd # data processing, CSV file I/O (e.g. pd.read_csv)\n",
    "import matplotlib.pyplot as plt\n",
    "import seaborn as sns\n",
    "import cuml\n",
    "import json\n",
    "import joblib\n",
    "\n",
    "from sklearn.model_selection import KFold, StratifiedKFold\n",
    "from cuml.metrics import mean_squared_log_error\n",
    "from xgboost import XGBRegressor\n",
    "\n",
    "from catboost import CatBoostRegressor\n",
    "from sklearn.preprocessing import KBinsDiscretizer\n",
    "\n",
    "# Setting Matplotlib defaults\n",
    "plt.style.use('seaborn-v0_8')\n",
    "plt.rc('figure', figsize=(8,5), dpi=150)\n",
    "plt.rc('axes', labelweight='bold', labelsize='large',\n",
    "       titleweight='bold', titlesize=15, titlepad=10)\n",
    "plt.rc('animation', html='html5')\n",
    "plt.tight_layout()\n",
    "# Input data files are available in the read-only \"../input/\" directory\n",
    "# For example, running this (by clicking run or pressing Shift+Enter) will list all files under the input directory\n",
    "\n",
    "import os\n",
    "for dirname, _, filenames in os.walk('/kaggle/input'):\n",
    "    for filename in filenames:\n",
    "        print(os.path.join(dirname, filename))\n",
    "        \n",
    "import warnings\n",
    "warnings.simplefilter('ignore')\n",
    "\n",
    "pd.set_option('display.max_columns', 500)\n",
    "\n",
    "# You can write up to 20GB to the current directory (/kaggle/working/) that gets preserved as output when you create a version using \"Save & Run All\" \n",
    "# You can also write temporary files to /kaggle/temp/, but they won't be saved outside of the current session"
   ]
  },
  {
   "cell_type": "code",
   "execution_count": 2,
   "id": "23095ae8",
   "metadata": {
    "execution": {
     "iopub.execute_input": "2025-05-24T09:50:02.042988Z",
     "iopub.status.busy": "2025-05-24T09:50:02.042492Z",
     "iopub.status.idle": "2025-05-24T09:50:02.752327Z",
     "shell.execute_reply": "2025-05-24T09:50:02.751649Z"
    },
    "papermill": {
     "duration": 0.715131,
     "end_time": "2025-05-24T09:50:02.753735",
     "exception": false,
     "start_time": "2025-05-24T09:50:02.038604",
     "status": "completed"
    },
    "tags": []
   },
   "outputs": [],
   "source": [
    "train = pd.read_csv('/kaggle/input/playground-series-s5e5/train.csv', index_col='id')\n",
    "test = pd.read_csv('/kaggle/input/playground-series-s5e5/test.csv', index_col='id')\n",
    "org = pd.read_csv('/kaggle/input/calories-burnt-prediction/calories.csv', index_col='User_ID')\n",
    "org = org.rename(columns={'Gender': 'Sex'})"
   ]
  },
  {
   "cell_type": "code",
   "execution_count": 3,
   "id": "3256a967",
   "metadata": {
    "execution": {
     "iopub.execute_input": "2025-05-24T09:50:02.762215Z",
     "iopub.status.busy": "2025-05-24T09:50:02.761576Z",
     "iopub.status.idle": "2025-05-24T09:50:02.784592Z",
     "shell.execute_reply": "2025-05-24T09:50:02.783976Z"
    },
    "papermill": {
     "duration": 0.028243,
     "end_time": "2025-05-24T09:50:02.785656",
     "exception": false,
     "start_time": "2025-05-24T09:50:02.757413",
     "status": "completed"
    },
    "tags": []
   },
   "outputs": [],
   "source": [
    "train = pd.concat([train, org], ignore_index=True)"
   ]
  },
  {
   "cell_type": "markdown",
   "id": "9d9c9a5e",
   "metadata": {
    "papermill": {
     "duration": 0.003038,
     "end_time": "2025-05-24T09:50:02.792084",
     "exception": false,
     "start_time": "2025-05-24T09:50:02.789046",
     "status": "completed"
    },
    "tags": []
   },
   "source": [
    "# Data Understanding"
   ]
  },
  {
   "cell_type": "code",
   "execution_count": 4,
   "id": "6adb2c19",
   "metadata": {
    "execution": {
     "iopub.execute_input": "2025-05-24T09:50:02.799295Z",
     "iopub.status.busy": "2025-05-24T09:50:02.799095Z",
     "iopub.status.idle": "2025-05-24T09:50:02.803722Z",
     "shell.execute_reply": "2025-05-24T09:50:02.803046Z"
    },
    "papermill": {
     "duration": 0.009512,
     "end_time": "2025-05-24T09:50:02.804785",
     "exception": false,
     "start_time": "2025-05-24T09:50:02.795273",
     "status": "completed"
    },
    "tags": []
   },
   "outputs": [
    {
     "data": {
      "text/plain": [
       "(765000, 8)"
      ]
     },
     "execution_count": 4,
     "metadata": {},
     "output_type": "execute_result"
    }
   ],
   "source": [
    "train.shape"
   ]
  },
  {
   "cell_type": "code",
   "execution_count": 5,
   "id": "169ccfdf",
   "metadata": {
    "execution": {
     "iopub.execute_input": "2025-05-24T09:50:02.812605Z",
     "iopub.status.busy": "2025-05-24T09:50:02.812076Z",
     "iopub.status.idle": "2025-05-24T09:50:02.867317Z",
     "shell.execute_reply": "2025-05-24T09:50:02.866673Z"
    },
    "papermill": {
     "duration": 0.060277,
     "end_time": "2025-05-24T09:50:02.868380",
     "exception": false,
     "start_time": "2025-05-24T09:50:02.808103",
     "status": "completed"
    },
    "tags": []
   },
   "outputs": [
    {
     "data": {
      "text/html": [
       "<div>\n",
       "<style scoped>\n",
       "    .dataframe tbody tr th:only-of-type {\n",
       "        vertical-align: middle;\n",
       "    }\n",
       "\n",
       "    .dataframe tbody tr th {\n",
       "        vertical-align: top;\n",
       "    }\n",
       "\n",
       "    .dataframe thead th {\n",
       "        text-align: right;\n",
       "    }\n",
       "</style>\n",
       "<table border=\"1\" class=\"dataframe\">\n",
       "  <thead>\n",
       "    <tr style=\"text-align: right;\">\n",
       "      <th></th>\n",
       "      <th>Sex</th>\n",
       "      <th>Age</th>\n",
       "      <th>Height</th>\n",
       "      <th>Weight</th>\n",
       "      <th>Duration</th>\n",
       "      <th>Heart_Rate</th>\n",
       "      <th>Body_Temp</th>\n",
       "      <th>Calories</th>\n",
       "    </tr>\n",
       "  </thead>\n",
       "  <tbody>\n",
       "    <tr>\n",
       "      <th>0</th>\n",
       "      <td>male</td>\n",
       "      <td>36</td>\n",
       "      <td>189.0</td>\n",
       "      <td>82.0</td>\n",
       "      <td>26.0</td>\n",
       "      <td>101.0</td>\n",
       "      <td>41.0</td>\n",
       "      <td>150.0</td>\n",
       "    </tr>\n",
       "    <tr>\n",
       "      <th>1</th>\n",
       "      <td>female</td>\n",
       "      <td>64</td>\n",
       "      <td>163.0</td>\n",
       "      <td>60.0</td>\n",
       "      <td>8.0</td>\n",
       "      <td>85.0</td>\n",
       "      <td>39.7</td>\n",
       "      <td>34.0</td>\n",
       "    </tr>\n",
       "    <tr>\n",
       "      <th>2</th>\n",
       "      <td>female</td>\n",
       "      <td>51</td>\n",
       "      <td>161.0</td>\n",
       "      <td>64.0</td>\n",
       "      <td>7.0</td>\n",
       "      <td>84.0</td>\n",
       "      <td>39.8</td>\n",
       "      <td>29.0</td>\n",
       "    </tr>\n",
       "    <tr>\n",
       "      <th>3</th>\n",
       "      <td>male</td>\n",
       "      <td>20</td>\n",
       "      <td>192.0</td>\n",
       "      <td>90.0</td>\n",
       "      <td>25.0</td>\n",
       "      <td>105.0</td>\n",
       "      <td>40.7</td>\n",
       "      <td>140.0</td>\n",
       "    </tr>\n",
       "    <tr>\n",
       "      <th>4</th>\n",
       "      <td>female</td>\n",
       "      <td>38</td>\n",
       "      <td>166.0</td>\n",
       "      <td>61.0</td>\n",
       "      <td>25.0</td>\n",
       "      <td>102.0</td>\n",
       "      <td>40.6</td>\n",
       "      <td>146.0</td>\n",
       "    </tr>\n",
       "    <tr>\n",
       "      <th>5</th>\n",
       "      <td>female</td>\n",
       "      <td>26</td>\n",
       "      <td>156.0</td>\n",
       "      <td>56.0</td>\n",
       "      <td>19.0</td>\n",
       "      <td>100.0</td>\n",
       "      <td>40.5</td>\n",
       "      <td>103.0</td>\n",
       "    </tr>\n",
       "    <tr>\n",
       "      <th>6</th>\n",
       "      <td>female</td>\n",
       "      <td>21</td>\n",
       "      <td>172.0</td>\n",
       "      <td>73.0</td>\n",
       "      <td>3.0</td>\n",
       "      <td>81.0</td>\n",
       "      <td>38.3</td>\n",
       "      <td>9.0</td>\n",
       "    </tr>\n",
       "    <tr>\n",
       "      <th>7</th>\n",
       "      <td>male</td>\n",
       "      <td>46</td>\n",
       "      <td>188.0</td>\n",
       "      <td>94.0</td>\n",
       "      <td>23.0</td>\n",
       "      <td>100.0</td>\n",
       "      <td>40.8</td>\n",
       "      <td>145.0</td>\n",
       "    </tr>\n",
       "    <tr>\n",
       "      <th>8</th>\n",
       "      <td>female</td>\n",
       "      <td>33</td>\n",
       "      <td>166.0</td>\n",
       "      <td>63.0</td>\n",
       "      <td>25.0</td>\n",
       "      <td>107.0</td>\n",
       "      <td>40.5</td>\n",
       "      <td>161.0</td>\n",
       "    </tr>\n",
       "    <tr>\n",
       "      <th>9</th>\n",
       "      <td>male</td>\n",
       "      <td>65</td>\n",
       "      <td>185.0</td>\n",
       "      <td>88.0</td>\n",
       "      <td>23.0</td>\n",
       "      <td>104.0</td>\n",
       "      <td>41.0</td>\n",
       "      <td>185.0</td>\n",
       "    </tr>\n",
       "  </tbody>\n",
       "</table>\n",
       "</div>"
      ],
      "text/plain": [
       "      Sex  Age  Height  Weight  Duration  Heart_Rate  Body_Temp  Calories\n",
       "0    male   36   189.0    82.0      26.0       101.0       41.0     150.0\n",
       "1  female   64   163.0    60.0       8.0        85.0       39.7      34.0\n",
       "2  female   51   161.0    64.0       7.0        84.0       39.8      29.0\n",
       "3    male   20   192.0    90.0      25.0       105.0       40.7     140.0\n",
       "4  female   38   166.0    61.0      25.0       102.0       40.6     146.0\n",
       "5  female   26   156.0    56.0      19.0       100.0       40.5     103.0\n",
       "6  female   21   172.0    73.0       3.0        81.0       38.3       9.0\n",
       "7    male   46   188.0    94.0      23.0       100.0       40.8     145.0\n",
       "8  female   33   166.0    63.0      25.0       107.0       40.5     161.0\n",
       "9    male   65   185.0    88.0      23.0       104.0       41.0     185.0"
      ]
     },
     "execution_count": 5,
     "metadata": {},
     "output_type": "execute_result"
    }
   ],
   "source": [
    "train.head(10)"
   ]
  },
  {
   "cell_type": "code",
   "execution_count": 6,
   "id": "18b77504",
   "metadata": {
    "execution": {
     "iopub.execute_input": "2025-05-24T09:50:02.876644Z",
     "iopub.status.busy": "2025-05-24T09:50:02.876122Z",
     "iopub.status.idle": "2025-05-24T09:50:04.127897Z",
     "shell.execute_reply": "2025-05-24T09:50:04.127122Z"
    },
    "papermill": {
     "duration": 1.257063,
     "end_time": "2025-05-24T09:50:04.129100",
     "exception": false,
     "start_time": "2025-05-24T09:50:02.872037",
     "status": "completed"
    },
    "tags": []
   },
   "outputs": [
    {
     "data": {
      "text/html": [
       "<div>\n",
       "<style scoped>\n",
       "    .dataframe tbody tr th:only-of-type {\n",
       "        vertical-align: middle;\n",
       "    }\n",
       "\n",
       "    .dataframe tbody tr th {\n",
       "        vertical-align: top;\n",
       "    }\n",
       "\n",
       "    .dataframe thead th {\n",
       "        text-align: right;\n",
       "    }\n",
       "</style>\n",
       "<table border=\"1\" class=\"dataframe\">\n",
       "  <thead>\n",
       "    <tr style=\"text-align: right;\">\n",
       "      <th></th>\n",
       "      <th>Age</th>\n",
       "      <th>Height</th>\n",
       "      <th>Weight</th>\n",
       "      <th>Duration</th>\n",
       "      <th>Heart_Rate</th>\n",
       "      <th>Body_Temp</th>\n",
       "      <th>Calories</th>\n",
       "    </tr>\n",
       "  </thead>\n",
       "  <tbody>\n",
       "    <tr>\n",
       "      <th>count</th>\n",
       "      <td>765000.000000</td>\n",
       "      <td>765000.000000</td>\n",
       "      <td>765000.000000</td>\n",
       "      <td>765000.000000</td>\n",
       "      <td>765000.000000</td>\n",
       "      <td>765000.000000</td>\n",
       "      <td>765000.000000</td>\n",
       "    </tr>\n",
       "    <tr>\n",
       "      <th>mean</th>\n",
       "      <td>41.447255</td>\n",
       "      <td>174.693126</td>\n",
       "      <td>75.142162</td>\n",
       "      <td>15.423163</td>\n",
       "      <td>95.484672</td>\n",
       "      <td>40.036041</td>\n",
       "      <td>88.307424</td>\n",
       "    </tr>\n",
       "    <tr>\n",
       "      <th>std</th>\n",
       "      <td>15.213677</td>\n",
       "      <td>12.854173</td>\n",
       "      <td>14.004122</td>\n",
       "      <td>8.353421</td>\n",
       "      <td>9.452476</td>\n",
       "      <td>0.779863</td>\n",
       "      <td>62.396760</td>\n",
       "    </tr>\n",
       "    <tr>\n",
       "      <th>min</th>\n",
       "      <td>20.000000</td>\n",
       "      <td>123.000000</td>\n",
       "      <td>36.000000</td>\n",
       "      <td>1.000000</td>\n",
       "      <td>67.000000</td>\n",
       "      <td>37.100000</td>\n",
       "      <td>1.000000</td>\n",
       "    </tr>\n",
       "    <tr>\n",
       "      <th>25%</th>\n",
       "      <td>28.000000</td>\n",
       "      <td>164.000000</td>\n",
       "      <td>63.000000</td>\n",
       "      <td>8.000000</td>\n",
       "      <td>88.000000</td>\n",
       "      <td>39.600000</td>\n",
       "      <td>34.000000</td>\n",
       "    </tr>\n",
       "    <tr>\n",
       "      <th>50%</th>\n",
       "      <td>40.000000</td>\n",
       "      <td>174.000000</td>\n",
       "      <td>74.000000</td>\n",
       "      <td>15.000000</td>\n",
       "      <td>95.000000</td>\n",
       "      <td>40.300000</td>\n",
       "      <td>77.000000</td>\n",
       "    </tr>\n",
       "    <tr>\n",
       "      <th>75%</th>\n",
       "      <td>52.000000</td>\n",
       "      <td>185.000000</td>\n",
       "      <td>87.000000</td>\n",
       "      <td>23.000000</td>\n",
       "      <td>103.000000</td>\n",
       "      <td>40.700000</td>\n",
       "      <td>136.000000</td>\n",
       "    </tr>\n",
       "    <tr>\n",
       "      <th>max</th>\n",
       "      <td>79.000000</td>\n",
       "      <td>222.000000</td>\n",
       "      <td>132.000000</td>\n",
       "      <td>30.000000</td>\n",
       "      <td>128.000000</td>\n",
       "      <td>41.500000</td>\n",
       "      <td>314.000000</td>\n",
       "    </tr>\n",
       "  </tbody>\n",
       "</table>\n",
       "</div>"
      ],
      "text/plain": [
       "                 Age         Height         Weight       Duration  \\\n",
       "count  765000.000000  765000.000000  765000.000000  765000.000000   \n",
       "mean       41.447255     174.693126      75.142162      15.423163   \n",
       "std        15.213677      12.854173      14.004122       8.353421   \n",
       "min        20.000000     123.000000      36.000000       1.000000   \n",
       "25%        28.000000     164.000000      63.000000       8.000000   \n",
       "50%        40.000000     174.000000      74.000000      15.000000   \n",
       "75%        52.000000     185.000000      87.000000      23.000000   \n",
       "max        79.000000     222.000000     132.000000      30.000000   \n",
       "\n",
       "          Heart_Rate      Body_Temp       Calories  \n",
       "count  765000.000000  765000.000000  765000.000000  \n",
       "mean       95.484672      40.036041      88.307424  \n",
       "std         9.452476       0.779863      62.396760  \n",
       "min        67.000000      37.100000       1.000000  \n",
       "25%        88.000000      39.600000      34.000000  \n",
       "50%        95.000000      40.300000      77.000000  \n",
       "75%       103.000000      40.700000     136.000000  \n",
       "max       128.000000      41.500000     314.000000  "
      ]
     },
     "execution_count": 6,
     "metadata": {},
     "output_type": "execute_result"
    }
   ],
   "source": [
    "train.describe()"
   ]
  },
  {
   "cell_type": "code",
   "execution_count": 7,
   "id": "0d52744f",
   "metadata": {
    "execution": {
     "iopub.execute_input": "2025-05-24T09:50:04.138550Z",
     "iopub.status.busy": "2025-05-24T09:50:04.138290Z",
     "iopub.status.idle": "2025-05-24T09:50:04.216453Z",
     "shell.execute_reply": "2025-05-24T09:50:04.215911Z"
    },
    "papermill": {
     "duration": 0.084078,
     "end_time": "2025-05-24T09:50:04.217477",
     "exception": false,
     "start_time": "2025-05-24T09:50:04.133399",
     "status": "completed"
    },
    "tags": []
   },
   "outputs": [
    {
     "data": {
      "text/plain": [
       "Sex           0\n",
       "Age           0\n",
       "Height        0\n",
       "Weight        0\n",
       "Duration      0\n",
       "Heart_Rate    0\n",
       "Body_Temp     0\n",
       "Calories      0\n",
       "dtype: int64"
      ]
     },
     "execution_count": 7,
     "metadata": {},
     "output_type": "execute_result"
    }
   ],
   "source": [
    "train.isnull().sum()"
   ]
  },
  {
   "cell_type": "code",
   "execution_count": 8,
   "id": "5f211ac4",
   "metadata": {
    "execution": {
     "iopub.execute_input": "2025-05-24T09:50:04.225802Z",
     "iopub.status.busy": "2025-05-24T09:50:04.225343Z",
     "iopub.status.idle": "2025-05-24T09:50:04.236074Z",
     "shell.execute_reply": "2025-05-24T09:50:04.235295Z"
    },
    "papermill": {
     "duration": 0.015897,
     "end_time": "2025-05-24T09:50:04.237114",
     "exception": false,
     "start_time": "2025-05-24T09:50:04.221217",
     "status": "completed"
    },
    "tags": []
   },
   "outputs": [
    {
     "name": "stdout",
     "output_type": "stream",
     "text": [
      "<class 'cudf.core.dataframe.DataFrame'>\n",
      "RangeIndex: 765000 entries, 0 to 764999\n",
      "Data columns (total 8 columns):\n",
      " #   Column      Non-Null Count   Dtype\n",
      "---  ------      --------------   -----\n",
      " 0   Sex         765000 non-null  object\n",
      " 1   Age         765000 non-null  int64\n",
      " 2   Height      765000 non-null  float64\n",
      " 3   Weight      765000 non-null  float64\n",
      " 4   Duration    765000 non-null  float64\n",
      " 5   Heart_Rate  765000 non-null  float64\n",
      " 6   Body_Temp   765000 non-null  float64\n",
      " 7   Calories    765000 non-null  float64\n",
      "dtypes: float64(6), int64(1), object(1)\n",
      "memory usage: 47.4+ MB\n"
     ]
    }
   ],
   "source": [
    "train.info()"
   ]
  },
  {
   "cell_type": "markdown",
   "id": "86221746",
   "metadata": {
    "papermill": {
     "duration": 0.003509,
     "end_time": "2025-05-24T09:50:04.244461",
     "exception": false,
     "start_time": "2025-05-24T09:50:04.240952",
     "status": "completed"
    },
    "tags": []
   },
   "source": [
    "# Data Preprocessing"
   ]
  },
  {
   "cell_type": "markdown",
   "id": "0c3c7d5c",
   "metadata": {
    "papermill": {
     "duration": 0.003505,
     "end_time": "2025-05-24T09:50:04.251599",
     "exception": false,
     "start_time": "2025-05-24T09:50:04.248094",
     "status": "completed"
    },
    "tags": []
   },
   "source": [
    "## Reducing memory usage"
   ]
  },
  {
   "cell_type": "code",
   "execution_count": 9,
   "id": "49e4053d",
   "metadata": {
    "execution": {
     "iopub.execute_input": "2025-05-24T09:50:04.259867Z",
     "iopub.status.busy": "2025-05-24T09:50:04.259416Z",
     "iopub.status.idle": "2025-05-24T09:50:04.264439Z",
     "shell.execute_reply": "2025-05-24T09:50:04.263979Z"
    },
    "papermill": {
     "duration": 0.010145,
     "end_time": "2025-05-24T09:50:04.265366",
     "exception": false,
     "start_time": "2025-05-24T09:50:04.255221",
     "status": "completed"
    },
    "tags": []
   },
   "outputs": [],
   "source": [
    "train['Age'] = train['Age'].astype('int8')\n",
    "test['Age'] = test['Age'].astype('int8')"
   ]
  },
  {
   "cell_type": "code",
   "execution_count": 10,
   "id": "4a6b5be6",
   "metadata": {
    "execution": {
     "iopub.execute_input": "2025-05-24T09:50:04.273305Z",
     "iopub.status.busy": "2025-05-24T09:50:04.273134Z",
     "iopub.status.idle": "2025-05-24T09:50:05.988471Z",
     "shell.execute_reply": "2025-05-24T09:50:05.987929Z"
    },
    "papermill": {
     "duration": 1.72071,
     "end_time": "2025-05-24T09:50:05.989755",
     "exception": false,
     "start_time": "2025-05-24T09:50:04.269045",
     "status": "completed"
    },
    "tags": []
   },
   "outputs": [],
   "source": [
    "num_cols = test.select_dtypes(include='float64').columns\n",
    "for col in num_cols:\n",
    "    train[num_cols] = train[num_cols].astype('float32')\n",
    "    test[num_cols] = test[num_cols].astype('float32')"
   ]
  },
  {
   "cell_type": "code",
   "execution_count": 11,
   "id": "31ee71c1",
   "metadata": {
    "execution": {
     "iopub.execute_input": "2025-05-24T09:50:05.998481Z",
     "iopub.status.busy": "2025-05-24T09:50:05.998285Z",
     "iopub.status.idle": "2025-05-24T09:50:06.016301Z",
     "shell.execute_reply": "2025-05-24T09:50:06.015611Z"
    },
    "papermill": {
     "duration": 0.023414,
     "end_time": "2025-05-24T09:50:06.017282",
     "exception": false,
     "start_time": "2025-05-24T09:50:05.993868",
     "status": "completed"
    },
    "tags": []
   },
   "outputs": [
    {
     "name": "stdout",
     "output_type": "stream",
     "text": [
      "<class 'cudf.core.dataframe.DataFrame'>\n",
      "RangeIndex: 765000 entries, 0 to 764999\n",
      "Data columns (total 8 columns):\n",
      " #   Column      Non-Null Count   Dtype\n",
      "---  ------      --------------   -----\n",
      " 0   Sex         765000 non-null  object\n",
      " 1   Age         765000 non-null  int8\n",
      " 2   Height      765000 non-null  float32\n",
      " 3   Weight      765000 non-null  float32\n",
      " 4   Duration    765000 non-null  float32\n",
      " 5   Heart_Rate  765000 non-null  float32\n",
      " 6   Body_Temp   765000 non-null  float32\n",
      " 7   Calories    765000 non-null  float64\n",
      "dtypes: float32(5), float64(1), int8(1), object(1)\n",
      "memory usage: 27.7+ MB\n"
     ]
    }
   ],
   "source": [
    "train.info()"
   ]
  },
  {
   "cell_type": "code",
   "execution_count": 12,
   "id": "76085f7c",
   "metadata": {
    "execution": {
     "iopub.execute_input": "2025-05-24T09:50:06.025446Z",
     "iopub.status.busy": "2025-05-24T09:50:06.025258Z",
     "iopub.status.idle": "2025-05-24T09:50:06.085927Z",
     "shell.execute_reply": "2025-05-24T09:50:06.085412Z"
    },
    "papermill": {
     "duration": 0.065994,
     "end_time": "2025-05-24T09:50:06.087002",
     "exception": false,
     "start_time": "2025-05-24T09:50:06.021008",
     "status": "completed"
    },
    "tags": []
   },
   "outputs": [],
   "source": [
    "mapping = {'male': 1, 'female': 0}\n",
    "\n",
    "train['Sex'] = train['Sex'].map(mapping).astype('int8')\n",
    "test['Sex'] = test['Sex'].map(mapping).astype('int8')"
   ]
  },
  {
   "cell_type": "code",
   "execution_count": 13,
   "id": "1acabe93",
   "metadata": {
    "execution": {
     "iopub.execute_input": "2025-05-24T09:50:06.095299Z",
     "iopub.status.busy": "2025-05-24T09:50:06.095103Z",
     "iopub.status.idle": "2025-05-24T09:50:06.099028Z",
     "shell.execute_reply": "2025-05-24T09:50:06.098558Z"
    },
    "papermill": {
     "duration": 0.009217,
     "end_time": "2025-05-24T09:50:06.100018",
     "exception": false,
     "start_time": "2025-05-24T09:50:06.090801",
     "status": "completed"
    },
    "tags": []
   },
   "outputs": [],
   "source": [
    "def add_statistical_features(df, features):\n",
    "    df_new = df.copy()\n",
    "    df_new[\"row_mean\"] = df[features].mean(axis=1)\n",
    "    df_new[\"row_max\"] = df[features].max(axis=1)\n",
    "    df_new[\"row_min\"] = df[features].min(axis=1)\n",
    "    df_new[\"row_median\"] = df[features].median(axis=1)\n",
    "    df_new[\"row_skew\"] = df[features].skew(axis=1)\n",
    "    df_new[\"row_unique\"] = df[features].nunique(axis=1)\n",
    "    \n",
    "    return df_new"
   ]
  },
  {
   "cell_type": "code",
   "execution_count": 14,
   "id": "4841648f",
   "metadata": {
    "execution": {
     "iopub.execute_input": "2025-05-24T09:50:06.108854Z",
     "iopub.status.busy": "2025-05-24T09:50:06.108653Z",
     "iopub.status.idle": "2025-05-24T09:50:06.111745Z",
     "shell.execute_reply": "2025-05-24T09:50:06.111175Z"
    },
    "papermill": {
     "duration": 0.008585,
     "end_time": "2025-05-24T09:50:06.112775",
     "exception": false,
     "start_time": "2025-05-24T09:50:06.104190",
     "status": "completed"
    },
    "tags": []
   },
   "outputs": [],
   "source": [
    "features = ['Sex', 'Age', 'Height', 'Weight', 'Duration', 'Heart_Rate', 'Body_Temp']"
   ]
  },
  {
   "cell_type": "code",
   "execution_count": 15,
   "id": "e1f3ed20",
   "metadata": {
    "execution": {
     "iopub.execute_input": "2025-05-24T09:50:06.120923Z",
     "iopub.status.busy": "2025-05-24T09:50:06.120729Z",
     "iopub.status.idle": "2025-05-24T09:50:06.124907Z",
     "shell.execute_reply": "2025-05-24T09:50:06.124391Z"
    },
    "papermill": {
     "duration": 0.009512,
     "end_time": "2025-05-24T09:50:06.125965",
     "exception": false,
     "start_time": "2025-05-24T09:50:06.116453",
     "status": "completed"
    },
    "tags": []
   },
   "outputs": [],
   "source": [
    "def add_features(df):\n",
    "    for i, c1 in enumerate(features):\n",
    "        for c2 in (features[i+1:]):\n",
    "            m = f'{c1}*{c2}'\n",
    "            df[m] = df[c1] * df[c2]\n",
    "            a = f'{c1}+{c2}'\n",
    "            df[a] = df[c1] + df[c2]\n",
    "            s = f'{c1}-{c2}'\n",
    "            df[a] = df[c1] - df[c2]\n",
    "            d = f'{c1}/{c2}'\n",
    "            df[d] = df[c1] / (df[c2] + 1e-3)\n",
    "            rd = f'{c2}/{c1}'\n",
    "            df[rd] = df[c2] / (df[c1] + 1e-3)\n",
    "    return df"
   ]
  },
  {
   "cell_type": "code",
   "execution_count": 16,
   "id": "b7f7b14b",
   "metadata": {
    "execution": {
     "iopub.execute_input": "2025-05-24T09:50:06.134194Z",
     "iopub.status.busy": "2025-05-24T09:50:06.134002Z",
     "iopub.status.idle": "2025-05-24T09:50:06.139273Z",
     "shell.execute_reply": "2025-05-24T09:50:06.138804Z"
    },
    "papermill": {
     "duration": 0.01055,
     "end_time": "2025-05-24T09:50:06.140273",
     "exception": false,
     "start_time": "2025-05-24T09:50:06.129723",
     "status": "completed"
    },
    "tags": []
   },
   "outputs": [],
   "source": [
    "def feature_engineer(df):\n",
    "    \n",
    "    df['BMI'] = df['Weight'] / (df['Height']/100) ** 2\n",
    "    \n",
    "    Max_Heart_Rate = 207 - (0.7 * df['Age'])\n",
    "    df['HR_Ratio'] = df['Heart_Rate'] / Max_Heart_Rate\n",
    "    df['HR_Reserve'] =  df['HR_Ratio'] * df['Duration']\n",
    "    df['Thermal_Load'] = df['Body_Temp'] * df['Duration'] * df['HR_Ratio']\n",
    "\n",
    "    df['Anaerobic_Contribution'] = df['HR_Ratio']**2 * np.minimum(df['Duration'], 180) * df['Weight'] * 0.05\n",
    "    \n",
    "    MET_Estimate = (df['Heart_Rate'] / Max_Heart_Rate) * 15\n",
    "    df['MET_Calories_Rate'] = MET_Estimate * 3.5 * df['Weight'] / 200\n",
    "    \n",
    "    df['EPOC_Factor'] = df['HR_Ratio']**2 * np.log1p(df['Duration']/10)\n",
    "    df['MET_Calories_Total'] = df['MET_Calories_Rate'] * df['Duration']\n",
    "    \n",
    "    df['Exercise_Intensity_Index'] = df['Heart_Rate'] * df['Body_Temp'] / (df['Weight'] * df['Age'])\n",
    "    df['Exercise_Economy'] = df['Heart_Rate'] / (df['Weight']**0.75)\n",
    "\n",
    "    df['exertion_score'] = df['Duration'] * df['Heart_Rate'] * df['Body_Temp']\n",
    "    df['Age_Adjusted_Exertion'] = df['exertion_score'] / (1 + 0.01 * (df['Age'] - 30))\n",
    "    \n",
    "    df['body_theta'] = np.arctan2(df['Weight'], df['Height'])\n",
    "    \n",
    "    return df"
   ]
  },
  {
   "cell_type": "code",
   "execution_count": 17,
   "id": "239a926f",
   "metadata": {
    "execution": {
     "iopub.execute_input": "2025-05-24T09:50:06.148365Z",
     "iopub.status.busy": "2025-05-24T09:50:06.148175Z",
     "iopub.status.idle": "2025-05-24T09:50:38.944580Z",
     "shell.execute_reply": "2025-05-24T09:50:38.943795Z"
    },
    "papermill": {
     "duration": 32.80203,
     "end_time": "2025-05-24T09:50:38.946015",
     "exception": false,
     "start_time": "2025-05-24T09:50:06.143985",
     "status": "completed"
    },
    "tags": []
   },
   "outputs": [],
   "source": [
    "X = train.copy()\n",
    "y = X.pop('Calories')\n",
    "y = np.log1p(y)\n",
    "\n",
    "X = add_features(X)\n",
    "X = feature_engineer(X)\n",
    "X = add_statistical_features(X, features=['Duration', 'Heart_Rate', 'Body_Temp', 'Weight'])\n",
    "\n",
    "X_test = test.copy()\n",
    "X_test = add_features(X_test)\n",
    "X_test = feature_engineer(X_test)\n",
    "X_test = add_statistical_features(X_test, features=['Duration', 'Heart_Rate', 'Body_Temp', 'Weight'])"
   ]
  },
  {
   "cell_type": "code",
   "execution_count": 18,
   "id": "bea0dc2e",
   "metadata": {
    "execution": {
     "iopub.execute_input": "2025-05-24T09:50:38.955042Z",
     "iopub.status.busy": "2025-05-24T09:50:38.954819Z",
     "iopub.status.idle": "2025-05-24T09:54:54.009207Z",
     "shell.execute_reply": "2025-05-24T09:54:54.008424Z"
    },
    "papermill": {
     "duration": 255.063856,
     "end_time": "2025-05-24T09:54:54.014152",
     "exception": false,
     "start_time": "2025-05-24T09:50:38.950296",
     "status": "completed"
    },
    "tags": []
   },
   "outputs": [
    {
     "name": "stdout",
     "output_type": "stream",
     "text": [
      "Fold 1 RMSE: 0.058502\n",
      "Fold 2 RMSE: 0.058860\n",
      "Fold 3 RMSE: 0.059491\n",
      "Fold 4 RMSE: 0.059488\n",
      "Fold 5 RMSE: 0.058808\n",
      "\n",
      "Overall OOF RMSLE: 0.059031\n"
     ]
    }
   ],
   "source": [
    "n_folds = 5\n",
    "kf = KFold(n_splits=n_folds, shuffle=True, random_state=100)\n",
    "\n",
    "oof_xgb = np.zeros(len(y))\n",
    "test_xgb = np.zeros(len(X_test))\n",
    "\n",
    "params = {\n",
    "    'n_estimators': 2000, \n",
    "    'learning_rate': 0.012429613949090264, \n",
    "    'max_depth': 9, \n",
    "    'min_child_weight': 11, \n",
    "    'alpha': 0.031799792818970524, \n",
    "    'reg_lambda': 0.3580931274078332, \n",
    "    'subsample': 0.8416119186946701, \n",
    "    'colsample_bytree': 0.5066402912386329, \n",
    "    'gamma': 1.037011350094906e-08,\n",
    "    'grow_policy': 'lossguide'\n",
    "}\n",
    "\n",
    "for fold, (train_index, valid_index) in enumerate(kf.split(X, y), start=1):\n",
    "        X_train, X_valid = X.iloc[train_index].copy(), X.iloc[valid_index].copy()\n",
    "        y_train, y_valid = y.iloc[train_index], y.iloc[valid_index]\n",
    "        \n",
    "        xgb = XGBRegressor(**params, early_stopping_rounds=100, tree_method='gpu_hist', device='cuda', seed=100, \n",
    "            objective='reg:squarederror', eval_metric='rmsle',\n",
    "        ).fit(X_train, y_train, eval_set=[(X_valid, y_valid)], verbose=0)\n",
    "    \n",
    "        valid_pred = xgb.predict(X_valid)\n",
    "        oof_xgb[valid_index] = valid_pred\n",
    "        test_xgb += xgb.predict(X_test) / n_folds\n",
    "    \n",
    "        fold_rmsle = np.sqrt(mean_squared_log_error(np.expm1(y_valid), np.expm1(valid_pred)))\n",
    "        print(f\"Fold {fold} RMSE: {fold_rmsle:.6f}\")\n",
    "\n",
    "test_xgb = np.expm1(test_xgb)\n",
    "test_xgb = np.clip(test_xgb, 1, 314)\n",
    "\n",
    "overall_rmsle = np.sqrt(mean_squared_log_error(np.expm1(y), np.expm1(oof_xgb)))\n",
    "print(f\"\\nOverall OOF RMSLE: {overall_rmsle:.6f}\")   "
   ]
  },
  {
   "cell_type": "code",
   "execution_count": 19,
   "id": "e879e243",
   "metadata": {
    "execution": {
     "iopub.execute_input": "2025-05-24T09:54:54.022863Z",
     "iopub.status.busy": "2025-05-24T09:54:54.022640Z",
     "iopub.status.idle": "2025-05-24T09:54:54.035249Z",
     "shell.execute_reply": "2025-05-24T09:54:54.034572Z"
    },
    "papermill": {
     "duration": 0.018145,
     "end_time": "2025-05-24T09:54:54.036331",
     "exception": false,
     "start_time": "2025-05-24T09:54:54.018186",
     "status": "completed"
    },
    "tags": []
   },
   "outputs": [
    {
     "name": "stdout",
     "output_type": "stream",
     "text": [
      "OOF predictions saved to: /kaggle/working/oof_xgb.pkl\n"
     ]
    }
   ],
   "source": [
    "out_path_oof = \"/kaggle/working/oof_xgb.pkl\"\n",
    "joblib.dump(oof_xgb, out_path_oof)\n",
    "\n",
    "out_path_test = \"/kaggle/working/test_xgb.pkl\"\n",
    "joblib.dump(test_xgb, out_path_test)\n",
    "\n",
    "print(f\"OOF predictions saved to: {out_path_oof}\")"
   ]
  },
  {
   "cell_type": "code",
   "execution_count": 20,
   "id": "62273a26",
   "metadata": {
    "execution": {
     "iopub.execute_input": "2025-05-24T09:54:54.045240Z",
     "iopub.status.busy": "2025-05-24T09:54:54.045030Z",
     "iopub.status.idle": "2025-05-24T09:54:54.115963Z",
     "shell.execute_reply": "2025-05-24T09:54:54.115261Z"
    },
    "papermill": {
     "duration": 0.076669,
     "end_time": "2025-05-24T09:54:54.117050",
     "exception": false,
     "start_time": "2025-05-24T09:54:54.040381",
     "status": "completed"
    },
    "tags": []
   },
   "outputs": [
    {
     "name": "stdout",
     "output_type": "stream",
     "text": [
      "Your submission was successfully saved!\n",
      "       id    Calories\n",
      "0  750000   27.421792\n",
      "1  750001  107.778877\n",
      "2  750002   87.630953\n",
      "3  750003  126.301407\n",
      "4  750004   75.537072\n"
     ]
    }
   ],
   "source": [
    "sub = pd.read_csv('/kaggle/input/playground-series-s5e5/sample_submission.csv')\n",
    "sub['Calories'] = test_xgb\n",
    "sub.to_csv('submission.csv', index=False)\n",
    "print(\"Your submission was successfully saved!\")\n",
    "print(sub.head(5))"
   ]
  }
 ],
 "metadata": {
  "kaggle": {
   "accelerator": "nvidiaTeslaT4",
   "dataSources": [
    {
     "databundleVersionId": 11893428,
     "sourceId": 91716,
     "sourceType": "competition"
    },
    {
     "datasetId": 6512323,
     "sourceId": 10522392,
     "sourceType": "datasetVersion"
    }
   ],
   "dockerImageVersionId": 31011,
   "isGpuEnabled": true,
   "isInternetEnabled": true,
   "language": "python",
   "sourceType": "notebook"
  },
  "kernelspec": {
   "display_name": "Python 3",
   "language": "python",
   "name": "python3"
  },
  "language_info": {
   "codemirror_mode": {
    "name": "ipython",
    "version": 3
   },
   "file_extension": ".py",
   "mimetype": "text/x-python",
   "name": "python",
   "nbconvert_exporter": "python",
   "pygments_lexer": "ipython3",
   "version": "3.11.11"
  },
  "papermill": {
   "default_parameters": {},
   "duration": 312.41661,
   "end_time": "2025-05-24T09:54:57.002933",
   "environment_variables": {},
   "exception": null,
   "input_path": "__notebook__.ipynb",
   "output_path": "__notebook__.ipynb",
   "parameters": {},
   "start_time": "2025-05-24T09:49:44.586323",
   "version": "2.6.0"
  }
 },
 "nbformat": 4,
 "nbformat_minor": 5
}
