{
 "cells": [
  {
   "cell_type": "code",
   "execution_count": 1,
   "id": "a1e62533",
   "metadata": {
    "execution": {
     "iopub.execute_input": "2025-05-23T14:27:19.869103Z",
     "iopub.status.busy": "2025-05-23T14:27:19.868862Z",
     "iopub.status.idle": "2025-05-23T14:27:34.523311Z",
     "shell.execute_reply": "2025-05-23T14:27:34.522566Z"
    },
    "papermill": {
     "duration": 14.660757,
     "end_time": "2025-05-23T14:27:34.524548",
     "exception": false,
     "start_time": "2025-05-23T14:27:19.863791",
     "status": "completed"
    },
    "tags": []
   },
   "outputs": [
    {
     "name": "stdout",
     "output_type": "stream",
     "text": [
      "/kaggle/input/playground-series-s5e5/sample_submission.csv\n",
      "/kaggle/input/playground-series-s5e5/train.csv\n",
      "/kaggle/input/playground-series-s5e5/test.csv\n",
      "/kaggle/input/calories-burnt-prediction/calories.csv\n"
     ]
    },
    {
     "data": {
      "text/plain": [
       "<Figure size 1200x750 with 0 Axes>"
      ]
     },
     "metadata": {},
     "output_type": "display_data"
    }
   ],
   "source": [
    "# This Python 3 environment comes with many helpful analytics libraries installed\n",
    "# It is defined by the kaggle/python Docker image: https://github.com/kaggle/docker-python\n",
    "# For example, here's several helpful packages to load\n",
    "%load_ext cudf.pandas\n",
    "import numpy as np # linear algebra\n",
    "import pandas as pd # data processing, CSV file I/O (e.g. pd.read_csv)\n",
    "import matplotlib.pyplot as plt\n",
    "import seaborn as sns\n",
    "import joblib\n",
    "import cuml\n",
    "\n",
    "# Setting Matplotlib defaults\n",
    "plt.style.use('seaborn-v0_8')\n",
    "plt.rc('figure', figsize=(8,5), dpi=150)\n",
    "plt.rc('axes', labelweight='bold', labelsize='large',\n",
    "       titleweight='bold', titlesize=15, titlepad=10)\n",
    "plt.rc('animation', html='html5')\n",
    "plt.tight_layout()\n",
    "# Input data files are available in the read-only \"../input/\" directory\n",
    "# For example, running this (by clicking run or pressing Shift+Enter) will list all files under the input directory\n",
    "\n",
    "import os\n",
    "for dirname, _, filenames in os.walk('/kaggle/input'):\n",
    "    for filename in filenames:\n",
    "        print(os.path.join(dirname, filename))\n",
    "        \n",
    "import warnings\n",
    "warnings.simplefilter('ignore')\n",
    "\n",
    "pd.set_option('display.max_columns', 500)\n",
    "\n",
    "# You can write up to 20GB to the current directory (/kaggle/working/) that gets preserved as output when you create a version using \"Save & Run All\" \n",
    "# You can also write temporary files to /kaggle/temp/, but they won't be saved outside of the current session"
   ]
  },
  {
   "cell_type": "code",
   "execution_count": 2,
   "id": "bfd65c9f",
   "metadata": {
    "execution": {
     "iopub.execute_input": "2025-05-23T14:27:34.533807Z",
     "iopub.status.busy": "2025-05-23T14:27:34.532971Z",
     "iopub.status.idle": "2025-05-23T14:27:35.360974Z",
     "shell.execute_reply": "2025-05-23T14:27:35.360386Z"
    },
    "papermill": {
     "duration": 0.833547,
     "end_time": "2025-05-23T14:27:35.362208",
     "exception": false,
     "start_time": "2025-05-23T14:27:34.528661",
     "status": "completed"
    },
    "tags": []
   },
   "outputs": [],
   "source": [
    "train = pd.read_csv('/kaggle/input/playground-series-s5e5/train.csv', index_col='id')\n",
    "test = pd.read_csv('/kaggle/input/playground-series-s5e5/test.csv', index_col='id')\n",
    "org = pd.read_csv('/kaggle/input/calories-burnt-prediction/calories.csv', index_col='User_ID')\n",
    "org = org.rename(columns={'Gender': 'Sex'})"
   ]
  },
  {
   "cell_type": "code",
   "execution_count": 3,
   "id": "a7f76bdf",
   "metadata": {
    "execution": {
     "iopub.execute_input": "2025-05-23T14:27:35.371933Z",
     "iopub.status.busy": "2025-05-23T14:27:35.371650Z",
     "iopub.status.idle": "2025-05-23T14:27:35.405352Z",
     "shell.execute_reply": "2025-05-23T14:27:35.404624Z"
    },
    "papermill": {
     "duration": 0.039305,
     "end_time": "2025-05-23T14:27:35.406530",
     "exception": false,
     "start_time": "2025-05-23T14:27:35.367225",
     "status": "completed"
    },
    "tags": []
   },
   "outputs": [],
   "source": [
    "train = pd.concat([train, org], ignore_index=True)"
   ]
  },
  {
   "cell_type": "code",
   "execution_count": 4,
   "id": "4f6e1527",
   "metadata": {
    "execution": {
     "iopub.execute_input": "2025-05-23T14:27:35.414664Z",
     "iopub.status.busy": "2025-05-23T14:27:35.414301Z",
     "iopub.status.idle": "2025-05-23T14:27:35.536471Z",
     "shell.execute_reply": "2025-05-23T14:27:35.535578Z"
    },
    "papermill": {
     "duration": 0.127479,
     "end_time": "2025-05-23T14:27:35.537689",
     "exception": false,
     "start_time": "2025-05-23T14:27:35.410210",
     "status": "completed"
    },
    "tags": []
   },
   "outputs": [
    {
     "name": "stdout",
     "output_type": "stream",
     "text": [
      "(762107, 8) (765000, 8)\n"
     ]
    }
   ],
   "source": [
    "strt_cols = list(test.columns)\n",
    "print(train.drop_duplicates(subset=strt_cols + ['Calories']).shape, train.shape)"
   ]
  },
  {
   "cell_type": "code",
   "execution_count": 5,
   "id": "45f373ff",
   "metadata": {
    "execution": {
     "iopub.execute_input": "2025-05-23T14:27:35.546383Z",
     "iopub.status.busy": "2025-05-23T14:27:35.545829Z",
     "iopub.status.idle": "2025-05-23T14:27:35.578658Z",
     "shell.execute_reply": "2025-05-23T14:27:35.577997Z"
    },
    "papermill": {
     "duration": 0.038172,
     "end_time": "2025-05-23T14:27:35.579728",
     "exception": false,
     "start_time": "2025-05-23T14:27:35.541556",
     "status": "completed"
    },
    "tags": []
   },
   "outputs": [
    {
     "data": {
      "text/html": [
       "<div>\n",
       "<style scoped>\n",
       "    .dataframe tbody tr th:only-of-type {\n",
       "        vertical-align: middle;\n",
       "    }\n",
       "\n",
       "    .dataframe tbody tr th {\n",
       "        vertical-align: top;\n",
       "    }\n",
       "\n",
       "    .dataframe thead th {\n",
       "        text-align: right;\n",
       "    }\n",
       "</style>\n",
       "<table border=\"1\" class=\"dataframe\">\n",
       "  <thead>\n",
       "    <tr style=\"text-align: right;\">\n",
       "      <th></th>\n",
       "      <th>Sex</th>\n",
       "      <th>Age</th>\n",
       "      <th>Height</th>\n",
       "      <th>Weight</th>\n",
       "      <th>Duration</th>\n",
       "      <th>Heart_Rate</th>\n",
       "      <th>Body_Temp</th>\n",
       "      <th>Calories</th>\n",
       "    </tr>\n",
       "    <tr>\n",
       "      <th>User_ID</th>\n",
       "      <th></th>\n",
       "      <th></th>\n",
       "      <th></th>\n",
       "      <th></th>\n",
       "      <th></th>\n",
       "      <th></th>\n",
       "      <th></th>\n",
       "      <th></th>\n",
       "    </tr>\n",
       "  </thead>\n",
       "  <tbody>\n",
       "    <tr>\n",
       "      <th>14733363</th>\n",
       "      <td>male</td>\n",
       "      <td>68</td>\n",
       "      <td>190.0</td>\n",
       "      <td>94.0</td>\n",
       "      <td>29.0</td>\n",
       "      <td>105.0</td>\n",
       "      <td>40.8</td>\n",
       "      <td>231.0</td>\n",
       "    </tr>\n",
       "    <tr>\n",
       "      <th>14861698</th>\n",
       "      <td>female</td>\n",
       "      <td>20</td>\n",
       "      <td>166.0</td>\n",
       "      <td>60.0</td>\n",
       "      <td>14.0</td>\n",
       "      <td>94.0</td>\n",
       "      <td>40.3</td>\n",
       "      <td>66.0</td>\n",
       "    </tr>\n",
       "    <tr>\n",
       "      <th>11179863</th>\n",
       "      <td>male</td>\n",
       "      <td>69</td>\n",
       "      <td>179.0</td>\n",
       "      <td>79.0</td>\n",
       "      <td>5.0</td>\n",
       "      <td>88.0</td>\n",
       "      <td>38.7</td>\n",
       "      <td>26.0</td>\n",
       "    </tr>\n",
       "    <tr>\n",
       "      <th>16180408</th>\n",
       "      <td>female</td>\n",
       "      <td>34</td>\n",
       "      <td>179.0</td>\n",
       "      <td>71.0</td>\n",
       "      <td>13.0</td>\n",
       "      <td>100.0</td>\n",
       "      <td>40.5</td>\n",
       "      <td>71.0</td>\n",
       "    </tr>\n",
       "    <tr>\n",
       "      <th>17771927</th>\n",
       "      <td>female</td>\n",
       "      <td>27</td>\n",
       "      <td>154.0</td>\n",
       "      <td>58.0</td>\n",
       "      <td>10.0</td>\n",
       "      <td>81.0</td>\n",
       "      <td>39.8</td>\n",
       "      <td>35.0</td>\n",
       "    </tr>\n",
       "  </tbody>\n",
       "</table>\n",
       "</div>"
      ],
      "text/plain": [
       "             Sex  Age  Height  Weight  Duration  Heart_Rate  Body_Temp  \\\n",
       "User_ID                                                                  \n",
       "14733363    male   68   190.0    94.0      29.0       105.0       40.8   \n",
       "14861698  female   20   166.0    60.0      14.0        94.0       40.3   \n",
       "11179863    male   69   179.0    79.0       5.0        88.0       38.7   \n",
       "16180408  female   34   179.0    71.0      13.0       100.0       40.5   \n",
       "17771927  female   27   154.0    58.0      10.0        81.0       39.8   \n",
       "\n",
       "          Calories  \n",
       "User_ID             \n",
       "14733363     231.0  \n",
       "14861698      66.0  \n",
       "11179863      26.0  \n",
       "16180408      71.0  \n",
       "17771927      35.0  "
      ]
     },
     "execution_count": 5,
     "metadata": {},
     "output_type": "execute_result"
    }
   ],
   "source": [
    "org.head()"
   ]
  },
  {
   "cell_type": "markdown",
   "id": "366c6403",
   "metadata": {
    "papermill": {
     "duration": 0.003701,
     "end_time": "2025-05-23T14:27:35.587426",
     "exception": false,
     "start_time": "2025-05-23T14:27:35.583725",
     "status": "completed"
    },
    "tags": []
   },
   "source": [
    "# Data Understanding"
   ]
  },
  {
   "cell_type": "code",
   "execution_count": 6,
   "id": "93fc43f3",
   "metadata": {
    "execution": {
     "iopub.execute_input": "2025-05-23T14:27:35.595876Z",
     "iopub.status.busy": "2025-05-23T14:27:35.595683Z",
     "iopub.status.idle": "2025-05-23T14:27:35.600528Z",
     "shell.execute_reply": "2025-05-23T14:27:35.599777Z"
    },
    "papermill": {
     "duration": 0.01058,
     "end_time": "2025-05-23T14:27:35.601774",
     "exception": false,
     "start_time": "2025-05-23T14:27:35.591194",
     "status": "completed"
    },
    "tags": []
   },
   "outputs": [
    {
     "data": {
      "text/plain": [
       "(250000, 7)"
      ]
     },
     "execution_count": 6,
     "metadata": {},
     "output_type": "execute_result"
    }
   ],
   "source": [
    "test.shape"
   ]
  },
  {
   "cell_type": "code",
   "execution_count": 7,
   "id": "39c11ce7",
   "metadata": {
    "execution": {
     "iopub.execute_input": "2025-05-23T14:27:35.610216Z",
     "iopub.status.busy": "2025-05-23T14:27:35.609843Z",
     "iopub.status.idle": "2025-05-23T14:27:35.636532Z",
     "shell.execute_reply": "2025-05-23T14:27:35.635757Z"
    },
    "papermill": {
     "duration": 0.032298,
     "end_time": "2025-05-23T14:27:35.637845",
     "exception": false,
     "start_time": "2025-05-23T14:27:35.605547",
     "status": "completed"
    },
    "tags": []
   },
   "outputs": [
    {
     "data": {
      "text/html": [
       "<div>\n",
       "<style scoped>\n",
       "    .dataframe tbody tr th:only-of-type {\n",
       "        vertical-align: middle;\n",
       "    }\n",
       "\n",
       "    .dataframe tbody tr th {\n",
       "        vertical-align: top;\n",
       "    }\n",
       "\n",
       "    .dataframe thead th {\n",
       "        text-align: right;\n",
       "    }\n",
       "</style>\n",
       "<table border=\"1\" class=\"dataframe\">\n",
       "  <thead>\n",
       "    <tr style=\"text-align: right;\">\n",
       "      <th></th>\n",
       "      <th>Sex</th>\n",
       "      <th>Age</th>\n",
       "      <th>Height</th>\n",
       "      <th>Weight</th>\n",
       "      <th>Duration</th>\n",
       "      <th>Heart_Rate</th>\n",
       "      <th>Body_Temp</th>\n",
       "      <th>Calories</th>\n",
       "    </tr>\n",
       "  </thead>\n",
       "  <tbody>\n",
       "    <tr>\n",
       "      <th>0</th>\n",
       "      <td>male</td>\n",
       "      <td>36</td>\n",
       "      <td>189.0</td>\n",
       "      <td>82.0</td>\n",
       "      <td>26.0</td>\n",
       "      <td>101.0</td>\n",
       "      <td>41.0</td>\n",
       "      <td>150.0</td>\n",
       "    </tr>\n",
       "    <tr>\n",
       "      <th>1</th>\n",
       "      <td>female</td>\n",
       "      <td>64</td>\n",
       "      <td>163.0</td>\n",
       "      <td>60.0</td>\n",
       "      <td>8.0</td>\n",
       "      <td>85.0</td>\n",
       "      <td>39.7</td>\n",
       "      <td>34.0</td>\n",
       "    </tr>\n",
       "    <tr>\n",
       "      <th>2</th>\n",
       "      <td>female</td>\n",
       "      <td>51</td>\n",
       "      <td>161.0</td>\n",
       "      <td>64.0</td>\n",
       "      <td>7.0</td>\n",
       "      <td>84.0</td>\n",
       "      <td>39.8</td>\n",
       "      <td>29.0</td>\n",
       "    </tr>\n",
       "    <tr>\n",
       "      <th>3</th>\n",
       "      <td>male</td>\n",
       "      <td>20</td>\n",
       "      <td>192.0</td>\n",
       "      <td>90.0</td>\n",
       "      <td>25.0</td>\n",
       "      <td>105.0</td>\n",
       "      <td>40.7</td>\n",
       "      <td>140.0</td>\n",
       "    </tr>\n",
       "    <tr>\n",
       "      <th>4</th>\n",
       "      <td>female</td>\n",
       "      <td>38</td>\n",
       "      <td>166.0</td>\n",
       "      <td>61.0</td>\n",
       "      <td>25.0</td>\n",
       "      <td>102.0</td>\n",
       "      <td>40.6</td>\n",
       "      <td>146.0</td>\n",
       "    </tr>\n",
       "    <tr>\n",
       "      <th>5</th>\n",
       "      <td>female</td>\n",
       "      <td>26</td>\n",
       "      <td>156.0</td>\n",
       "      <td>56.0</td>\n",
       "      <td>19.0</td>\n",
       "      <td>100.0</td>\n",
       "      <td>40.5</td>\n",
       "      <td>103.0</td>\n",
       "    </tr>\n",
       "    <tr>\n",
       "      <th>6</th>\n",
       "      <td>female</td>\n",
       "      <td>21</td>\n",
       "      <td>172.0</td>\n",
       "      <td>73.0</td>\n",
       "      <td>3.0</td>\n",
       "      <td>81.0</td>\n",
       "      <td>38.3</td>\n",
       "      <td>9.0</td>\n",
       "    </tr>\n",
       "    <tr>\n",
       "      <th>7</th>\n",
       "      <td>male</td>\n",
       "      <td>46</td>\n",
       "      <td>188.0</td>\n",
       "      <td>94.0</td>\n",
       "      <td>23.0</td>\n",
       "      <td>100.0</td>\n",
       "      <td>40.8</td>\n",
       "      <td>145.0</td>\n",
       "    </tr>\n",
       "    <tr>\n",
       "      <th>8</th>\n",
       "      <td>female</td>\n",
       "      <td>33</td>\n",
       "      <td>166.0</td>\n",
       "      <td>63.0</td>\n",
       "      <td>25.0</td>\n",
       "      <td>107.0</td>\n",
       "      <td>40.5</td>\n",
       "      <td>161.0</td>\n",
       "    </tr>\n",
       "    <tr>\n",
       "      <th>9</th>\n",
       "      <td>male</td>\n",
       "      <td>65</td>\n",
       "      <td>185.0</td>\n",
       "      <td>88.0</td>\n",
       "      <td>23.0</td>\n",
       "      <td>104.0</td>\n",
       "      <td>41.0</td>\n",
       "      <td>185.0</td>\n",
       "    </tr>\n",
       "  </tbody>\n",
       "</table>\n",
       "</div>"
      ],
      "text/plain": [
       "      Sex  Age  Height  Weight  Duration  Heart_Rate  Body_Temp  Calories\n",
       "0    male   36   189.0    82.0      26.0       101.0       41.0     150.0\n",
       "1  female   64   163.0    60.0       8.0        85.0       39.7      34.0\n",
       "2  female   51   161.0    64.0       7.0        84.0       39.8      29.0\n",
       "3    male   20   192.0    90.0      25.0       105.0       40.7     140.0\n",
       "4  female   38   166.0    61.0      25.0       102.0       40.6     146.0\n",
       "5  female   26   156.0    56.0      19.0       100.0       40.5     103.0\n",
       "6  female   21   172.0    73.0       3.0        81.0       38.3       9.0\n",
       "7    male   46   188.0    94.0      23.0       100.0       40.8     145.0\n",
       "8  female   33   166.0    63.0      25.0       107.0       40.5     161.0\n",
       "9    male   65   185.0    88.0      23.0       104.0       41.0     185.0"
      ]
     },
     "execution_count": 7,
     "metadata": {},
     "output_type": "execute_result"
    }
   ],
   "source": [
    "train.head(10)"
   ]
  },
  {
   "cell_type": "code",
   "execution_count": 8,
   "id": "c12ec9cd",
   "metadata": {
    "execution": {
     "iopub.execute_input": "2025-05-23T14:27:35.647617Z",
     "iopub.status.busy": "2025-05-23T14:27:35.647371Z",
     "iopub.status.idle": "2025-05-23T14:27:37.090573Z",
     "shell.execute_reply": "2025-05-23T14:27:37.089902Z"
    },
    "papermill": {
     "duration": 1.449418,
     "end_time": "2025-05-23T14:27:37.091821",
     "exception": false,
     "start_time": "2025-05-23T14:27:35.642403",
     "status": "completed"
    },
    "tags": []
   },
   "outputs": [
    {
     "data": {
      "text/html": [
       "<div>\n",
       "<style scoped>\n",
       "    .dataframe tbody tr th:only-of-type {\n",
       "        vertical-align: middle;\n",
       "    }\n",
       "\n",
       "    .dataframe tbody tr th {\n",
       "        vertical-align: top;\n",
       "    }\n",
       "\n",
       "    .dataframe thead th {\n",
       "        text-align: right;\n",
       "    }\n",
       "</style>\n",
       "<table border=\"1\" class=\"dataframe\">\n",
       "  <thead>\n",
       "    <tr style=\"text-align: right;\">\n",
       "      <th></th>\n",
       "      <th>Age</th>\n",
       "      <th>Height</th>\n",
       "      <th>Weight</th>\n",
       "      <th>Duration</th>\n",
       "      <th>Heart_Rate</th>\n",
       "      <th>Body_Temp</th>\n",
       "      <th>Calories</th>\n",
       "    </tr>\n",
       "  </thead>\n",
       "  <tbody>\n",
       "    <tr>\n",
       "      <th>count</th>\n",
       "      <td>765000.000000</td>\n",
       "      <td>765000.000000</td>\n",
       "      <td>765000.000000</td>\n",
       "      <td>765000.000000</td>\n",
       "      <td>765000.000000</td>\n",
       "      <td>765000.000000</td>\n",
       "      <td>765000.000000</td>\n",
       "    </tr>\n",
       "    <tr>\n",
       "      <th>mean</th>\n",
       "      <td>41.447255</td>\n",
       "      <td>174.693126</td>\n",
       "      <td>75.142162</td>\n",
       "      <td>15.423163</td>\n",
       "      <td>95.484672</td>\n",
       "      <td>40.036041</td>\n",
       "      <td>88.307424</td>\n",
       "    </tr>\n",
       "    <tr>\n",
       "      <th>std</th>\n",
       "      <td>15.213677</td>\n",
       "      <td>12.854173</td>\n",
       "      <td>14.004122</td>\n",
       "      <td>8.353421</td>\n",
       "      <td>9.452476</td>\n",
       "      <td>0.779863</td>\n",
       "      <td>62.396760</td>\n",
       "    </tr>\n",
       "    <tr>\n",
       "      <th>min</th>\n",
       "      <td>20.000000</td>\n",
       "      <td>123.000000</td>\n",
       "      <td>36.000000</td>\n",
       "      <td>1.000000</td>\n",
       "      <td>67.000000</td>\n",
       "      <td>37.100000</td>\n",
       "      <td>1.000000</td>\n",
       "    </tr>\n",
       "    <tr>\n",
       "      <th>25%</th>\n",
       "      <td>28.000000</td>\n",
       "      <td>164.000000</td>\n",
       "      <td>63.000000</td>\n",
       "      <td>8.000000</td>\n",
       "      <td>88.000000</td>\n",
       "      <td>39.600000</td>\n",
       "      <td>34.000000</td>\n",
       "    </tr>\n",
       "    <tr>\n",
       "      <th>50%</th>\n",
       "      <td>40.000000</td>\n",
       "      <td>174.000000</td>\n",
       "      <td>74.000000</td>\n",
       "      <td>15.000000</td>\n",
       "      <td>95.000000</td>\n",
       "      <td>40.300000</td>\n",
       "      <td>77.000000</td>\n",
       "    </tr>\n",
       "    <tr>\n",
       "      <th>75%</th>\n",
       "      <td>52.000000</td>\n",
       "      <td>185.000000</td>\n",
       "      <td>87.000000</td>\n",
       "      <td>23.000000</td>\n",
       "      <td>103.000000</td>\n",
       "      <td>40.700000</td>\n",
       "      <td>136.000000</td>\n",
       "    </tr>\n",
       "    <tr>\n",
       "      <th>max</th>\n",
       "      <td>79.000000</td>\n",
       "      <td>222.000000</td>\n",
       "      <td>132.000000</td>\n",
       "      <td>30.000000</td>\n",
       "      <td>128.000000</td>\n",
       "      <td>41.500000</td>\n",
       "      <td>314.000000</td>\n",
       "    </tr>\n",
       "  </tbody>\n",
       "</table>\n",
       "</div>"
      ],
      "text/plain": [
       "                 Age         Height         Weight       Duration  \\\n",
       "count  765000.000000  765000.000000  765000.000000  765000.000000   \n",
       "mean       41.447255     174.693126      75.142162      15.423163   \n",
       "std        15.213677      12.854173      14.004122       8.353421   \n",
       "min        20.000000     123.000000      36.000000       1.000000   \n",
       "25%        28.000000     164.000000      63.000000       8.000000   \n",
       "50%        40.000000     174.000000      74.000000      15.000000   \n",
       "75%        52.000000     185.000000      87.000000      23.000000   \n",
       "max        79.000000     222.000000     132.000000      30.000000   \n",
       "\n",
       "          Heart_Rate      Body_Temp       Calories  \n",
       "count  765000.000000  765000.000000  765000.000000  \n",
       "mean       95.484672      40.036041      88.307424  \n",
       "std         9.452476       0.779863      62.396760  \n",
       "min        67.000000      37.100000       1.000000  \n",
       "25%        88.000000      39.600000      34.000000  \n",
       "50%        95.000000      40.300000      77.000000  \n",
       "75%       103.000000      40.700000     136.000000  \n",
       "max       128.000000      41.500000     314.000000  "
      ]
     },
     "execution_count": 8,
     "metadata": {},
     "output_type": "execute_result"
    }
   ],
   "source": [
    "train.describe()"
   ]
  },
  {
   "cell_type": "code",
   "execution_count": 9,
   "id": "7aa26e51",
   "metadata": {
    "execution": {
     "iopub.execute_input": "2025-05-23T14:27:37.102189Z",
     "iopub.status.busy": "2025-05-23T14:27:37.101570Z",
     "iopub.status.idle": "2025-05-23T14:27:37.176678Z",
     "shell.execute_reply": "2025-05-23T14:27:37.175909Z"
    },
    "papermill": {
     "duration": 0.081516,
     "end_time": "2025-05-23T14:27:37.177787",
     "exception": false,
     "start_time": "2025-05-23T14:27:37.096271",
     "status": "completed"
    },
    "tags": []
   },
   "outputs": [
    {
     "data": {
      "text/plain": [
       "Sex           0\n",
       "Age           0\n",
       "Height        0\n",
       "Weight        0\n",
       "Duration      0\n",
       "Heart_Rate    0\n",
       "Body_Temp     0\n",
       "Calories      0\n",
       "dtype: int64"
      ]
     },
     "execution_count": 9,
     "metadata": {},
     "output_type": "execute_result"
    }
   ],
   "source": [
    "train.isnull().sum()"
   ]
  },
  {
   "cell_type": "code",
   "execution_count": 10,
   "id": "6a0ed9d0",
   "metadata": {
    "execution": {
     "iopub.execute_input": "2025-05-23T14:27:37.187643Z",
     "iopub.status.busy": "2025-05-23T14:27:37.187082Z",
     "iopub.status.idle": "2025-05-23T14:27:37.198689Z",
     "shell.execute_reply": "2025-05-23T14:27:37.197896Z"
    },
    "papermill": {
     "duration": 0.017315,
     "end_time": "2025-05-23T14:27:37.199754",
     "exception": false,
     "start_time": "2025-05-23T14:27:37.182439",
     "status": "completed"
    },
    "tags": []
   },
   "outputs": [
    {
     "name": "stdout",
     "output_type": "stream",
     "text": [
      "<class 'cudf.core.dataframe.DataFrame'>\n",
      "RangeIndex: 765000 entries, 0 to 764999\n",
      "Data columns (total 8 columns):\n",
      " #   Column      Non-Null Count   Dtype\n",
      "---  ------      --------------   -----\n",
      " 0   Sex         765000 non-null  object\n",
      " 1   Age         765000 non-null  int64\n",
      " 2   Height      765000 non-null  float64\n",
      " 3   Weight      765000 non-null  float64\n",
      " 4   Duration    765000 non-null  float64\n",
      " 5   Heart_Rate  765000 non-null  float64\n",
      " 6   Body_Temp   765000 non-null  float64\n",
      " 7   Calories    765000 non-null  float64\n",
      "dtypes: float64(6), int64(1), object(1)\n",
      "memory usage: 47.4+ MB\n"
     ]
    }
   ],
   "source": [
    "train.info()"
   ]
  },
  {
   "cell_type": "markdown",
   "id": "b518c89f",
   "metadata": {
    "papermill": {
     "duration": 0.004123,
     "end_time": "2025-05-23T14:27:37.208263",
     "exception": false,
     "start_time": "2025-05-23T14:27:37.204140",
     "status": "completed"
    },
    "tags": []
   },
   "source": [
    "# Data Preprocessing"
   ]
  },
  {
   "cell_type": "markdown",
   "id": "16bf7680",
   "metadata": {
    "papermill": {
     "duration": 0.00511,
     "end_time": "2025-05-23T14:27:37.217566",
     "exception": false,
     "start_time": "2025-05-23T14:27:37.212456",
     "status": "completed"
    },
    "tags": []
   },
   "source": [
    "## Reducing memory usage"
   ]
  },
  {
   "cell_type": "code",
   "execution_count": 11,
   "id": "bedcbaa5",
   "metadata": {
    "execution": {
     "iopub.execute_input": "2025-05-23T14:27:37.227479Z",
     "iopub.status.busy": "2025-05-23T14:27:37.227028Z",
     "iopub.status.idle": "2025-05-23T14:27:37.255277Z",
     "shell.execute_reply": "2025-05-23T14:27:37.254487Z"
    },
    "papermill": {
     "duration": 0.03457,
     "end_time": "2025-05-23T14:27:37.256773",
     "exception": false,
     "start_time": "2025-05-23T14:27:37.222203",
     "status": "completed"
    },
    "tags": []
   },
   "outputs": [],
   "source": [
    "train['Sex'] = train['Sex'].astype('category')\n",
    "test['Sex'] = test['Sex'].astype('category')"
   ]
  },
  {
   "cell_type": "code",
   "execution_count": 12,
   "id": "db45dfb4",
   "metadata": {
    "execution": {
     "iopub.execute_input": "2025-05-23T14:27:37.267429Z",
     "iopub.status.busy": "2025-05-23T14:27:37.267182Z",
     "iopub.status.idle": "2025-05-23T14:27:37.272757Z",
     "shell.execute_reply": "2025-05-23T14:27:37.272243Z"
    },
    "papermill": {
     "duration": 0.01236,
     "end_time": "2025-05-23T14:27:37.273903",
     "exception": false,
     "start_time": "2025-05-23T14:27:37.261543",
     "status": "completed"
    },
    "tags": []
   },
   "outputs": [],
   "source": [
    "train['Age'] = train['Age'].astype('int8')\n",
    "test['Age'] = test['Age'].astype('int8')"
   ]
  },
  {
   "cell_type": "code",
   "execution_count": 13,
   "id": "c8e0d8fd",
   "metadata": {
    "execution": {
     "iopub.execute_input": "2025-05-23T14:27:37.284367Z",
     "iopub.status.busy": "2025-05-23T14:27:37.283831Z",
     "iopub.status.idle": "2025-05-23T14:27:37.753773Z",
     "shell.execute_reply": "2025-05-23T14:27:37.753157Z"
    },
    "papermill": {
     "duration": 0.476335,
     "end_time": "2025-05-23T14:27:37.755051",
     "exception": false,
     "start_time": "2025-05-23T14:27:37.278716",
     "status": "completed"
    },
    "tags": []
   },
   "outputs": [],
   "source": [
    "num_cols = test.select_dtypes(include='float64').columns\n",
    "for col in num_cols:\n",
    "    train[num_cols] = train[num_cols].astype('float32')\n",
    "    test[num_cols] = test[num_cols].astype('float32')"
   ]
  },
  {
   "cell_type": "code",
   "execution_count": 14,
   "id": "d7d4b4b1",
   "metadata": {
    "execution": {
     "iopub.execute_input": "2025-05-23T14:27:37.765066Z",
     "iopub.status.busy": "2025-05-23T14:27:37.764726Z",
     "iopub.status.idle": "2025-05-23T14:27:37.782851Z",
     "shell.execute_reply": "2025-05-23T14:27:37.782084Z"
    },
    "papermill": {
     "duration": 0.024271,
     "end_time": "2025-05-23T14:27:37.783977",
     "exception": false,
     "start_time": "2025-05-23T14:27:37.759706",
     "status": "completed"
    },
    "tags": []
   },
   "outputs": [
    {
     "name": "stdout",
     "output_type": "stream",
     "text": [
      "<class 'cudf.core.dataframe.DataFrame'>\n",
      "RangeIndex: 765000 entries, 0 to 764999\n",
      "Data columns (total 8 columns):\n",
      " #   Column      Non-Null Count   Dtype\n",
      "---  ------      --------------   -----\n",
      " 0   Sex         765000 non-null  category\n",
      " 1   Age         765000 non-null  int8\n",
      " 2   Height      765000 non-null  float32\n",
      " 3   Weight      765000 non-null  float32\n",
      " 4   Duration    765000 non-null  float32\n",
      " 5   Heart_Rate  765000 non-null  float32\n",
      " 6   Body_Temp   765000 non-null  float32\n",
      " 7   Calories    765000 non-null  float64\n",
      "dtypes: category(1), float32(5), float64(1), int8(1)\n",
      "memory usage: 21.9 MB\n"
     ]
    }
   ],
   "source": [
    "train.info()"
   ]
  },
  {
   "cell_type": "code",
   "execution_count": 15,
   "id": "8c67e995",
   "metadata": {
    "execution": {
     "iopub.execute_input": "2025-05-23T14:27:37.793723Z",
     "iopub.status.busy": "2025-05-23T14:27:37.793525Z",
     "iopub.status.idle": "2025-05-23T14:27:37.844891Z",
     "shell.execute_reply": "2025-05-23T14:27:37.844362Z"
    },
    "papermill": {
     "duration": 0.057362,
     "end_time": "2025-05-23T14:27:37.845987",
     "exception": false,
     "start_time": "2025-05-23T14:27:37.788625",
     "status": "completed"
    },
    "tags": []
   },
   "outputs": [],
   "source": [
    "mapping = {'male': 1, 'female': 0}\n",
    "\n",
    "train['Sex'] = train['Sex'].map(mapping).astype('int8')\n",
    "test['Sex'] = test['Sex'].map(mapping).astype('int8')"
   ]
  },
  {
   "cell_type": "code",
   "execution_count": 16,
   "id": "3a9ee037",
   "metadata": {
    "execution": {
     "iopub.execute_input": "2025-05-23T14:27:37.855530Z",
     "iopub.status.busy": "2025-05-23T14:27:37.855336Z",
     "iopub.status.idle": "2025-05-23T14:27:37.858621Z",
     "shell.execute_reply": "2025-05-23T14:27:37.858033Z"
    },
    "papermill": {
     "duration": 0.00923,
     "end_time": "2025-05-23T14:27:37.859755",
     "exception": false,
     "start_time": "2025-05-23T14:27:37.850525",
     "status": "completed"
    },
    "tags": []
   },
   "outputs": [],
   "source": [
    "features = ['Sex', 'Age', 'Height', 'Weight', 'Duration', 'Heart_Rate', 'Body_Temp']"
   ]
  },
  {
   "cell_type": "code",
   "execution_count": 17,
   "id": "73c9b0ec",
   "metadata": {
    "execution": {
     "iopub.execute_input": "2025-05-23T14:27:37.868966Z",
     "iopub.status.busy": "2025-05-23T14:27:37.868766Z",
     "iopub.status.idle": "2025-05-23T14:27:37.872788Z",
     "shell.execute_reply": "2025-05-23T14:27:37.872302Z"
    },
    "papermill": {
     "duration": 0.00977,
     "end_time": "2025-05-23T14:27:37.873853",
     "exception": false,
     "start_time": "2025-05-23T14:27:37.864083",
     "status": "completed"
    },
    "tags": []
   },
   "outputs": [],
   "source": [
    "def add_statistical_features(df, features):\n",
    "    df_new = df.copy()\n",
    "    df_new[\"row_mean\"] = df[features].mean(axis=1)\n",
    "    df_new[\"row_std\"] = df[features].std(axis=1)\n",
    "    df_new[\"row_max\"] = df[features].max(axis=1)\n",
    "    df_new[\"row_min\"] = df[features].min(axis=1)\n",
    "    df_new[\"row_median\"] = df[features].median(axis=1)\n",
    "    df_new[\"row_skew\"] = df[features].skew(axis=1)\n",
    "    \n",
    "    return df_new"
   ]
  },
  {
   "cell_type": "code",
   "execution_count": 18,
   "id": "5dbbd16c",
   "metadata": {
    "execution": {
     "iopub.execute_input": "2025-05-23T14:27:37.883071Z",
     "iopub.status.busy": "2025-05-23T14:27:37.882870Z",
     "iopub.status.idle": "2025-05-23T14:27:37.887296Z",
     "shell.execute_reply": "2025-05-23T14:27:37.886606Z"
    },
    "papermill": {
     "duration": 0.010282,
     "end_time": "2025-05-23T14:27:37.888457",
     "exception": false,
     "start_time": "2025-05-23T14:27:37.878175",
     "status": "completed"
    },
    "tags": []
   },
   "outputs": [],
   "source": [
    "def add_features(df):\n",
    "    for i, c1 in enumerate(features):\n",
    "        for c2 in (features[i+1:]):\n",
    "            m = f'{c1}*{c2}'\n",
    "            df[m] = df[c1] * df[c2]\n",
    "            a = f'{c1}+{c2}'\n",
    "            df[a] = df[c1] + df[c2]\n",
    "            d = f'{c1}/{c2}'\n",
    "            df[d] = df[c1] / (df[c2] + 1e-3)\n",
    "            rd = f'{c2}/{c1}'\n",
    "            df[rd] = df[c2] / (df[c1] + 1e-3)\n",
    "            \n",
    "    return df"
   ]
  },
  {
   "cell_type": "code",
   "execution_count": 19,
   "id": "9be07baf",
   "metadata": {
    "execution": {
     "iopub.execute_input": "2025-05-23T14:27:37.897731Z",
     "iopub.status.busy": "2025-05-23T14:27:37.897534Z",
     "iopub.status.idle": "2025-05-23T14:27:37.902900Z",
     "shell.execute_reply": "2025-05-23T14:27:37.902380Z"
    },
    "papermill": {
     "duration": 0.01119,
     "end_time": "2025-05-23T14:27:37.903909",
     "exception": false,
     "start_time": "2025-05-23T14:27:37.892719",
     "status": "completed"
    },
    "tags": []
   },
   "outputs": [],
   "source": [
    "def feature_engineer(df):\n",
    "    \n",
    "    df['BMI'] = df['Weight'] / (df['Height']/100) ** 2\n",
    "    \n",
    "    Max_Heart_Rate = 207 - (0.7 * df['Age'])\n",
    "    df['HR_Ratio'] = df['Heart_Rate'] / Max_Heart_Rate\n",
    "    df['HR_Reserve'] =  df['HR_Ratio'] * df['Duration']\n",
    "    df['Thermal_Load'] = df['Body_Temp'] * df['Duration'] * df['HR_Ratio']\n",
    "\n",
    "    df['Anaerobic_Contribution'] = df['HR_Ratio']**2 * np.minimum(df['Duration'], 180) * df['Weight'] * 0.05\n",
    "    \n",
    "    df['MET_Estimate'] = (df['Heart_Rate'] / Max_Heart_Rate) * 15\n",
    "    df['MET_Calories_Rate'] = df['MET_Estimate'] * 3.5 * df['Weight'] / 200\n",
    "    \n",
    "    df['EPOC_Factor'] = df['HR_Ratio']**2 * np.log1p(df['Duration']/10)\n",
    "    df['MET_Calories_Total'] = df['MET_Calories_Rate'] * df['Duration']\n",
    "    \n",
    "    df['Exercise_Intensity_Index'] = df['Heart_Rate'] * df['Body_Temp'] / (df['Weight'] * df['Age'])\n",
    "    df['Exercise_Economy'] = df['Heart_Rate'] / (df['Weight']**0.75)\n",
    "\n",
    "    df['Exertion_score'] = df['Duration'] * df['Heart_Rate'] * df['Body_Temp']\n",
    "    df['Age_Adjusted_Exertion'] = df['Exertion_score'] / (1 + 0.01 * (df['Age'] - 30))\n",
    "    \n",
    "    return df"
   ]
  },
  {
   "cell_type": "code",
   "execution_count": 20,
   "id": "5711c0e7",
   "metadata": {
    "execution": {
     "iopub.execute_input": "2025-05-23T14:27:37.913118Z",
     "iopub.status.busy": "2025-05-23T14:27:37.912922Z",
     "iopub.status.idle": "2025-05-23T14:27:38.672800Z",
     "shell.execute_reply": "2025-05-23T14:27:38.672014Z"
    },
    "papermill": {
     "duration": 0.766007,
     "end_time": "2025-05-23T14:27:38.674171",
     "exception": false,
     "start_time": "2025-05-23T14:27:37.908164",
     "status": "completed"
    },
    "tags": []
   },
   "outputs": [],
   "source": [
    "X = train.copy()\n",
    "y = X.pop('Calories')\n",
    "y = np.log1p(y)\n",
    "\n",
    "X = add_features(X)\n",
    "X = feature_engineer(X)\n",
    "\n",
    "X_test = test.copy()\n",
    "X_test = add_features(X_test)\n",
    "X_test = feature_engineer(X_test)"
   ]
  },
  {
   "cell_type": "code",
   "execution_count": 21,
   "id": "0dedf11a",
   "metadata": {
    "execution": {
     "iopub.execute_input": "2025-05-23T14:27:38.684364Z",
     "iopub.status.busy": "2025-05-23T14:27:38.683944Z",
     "iopub.status.idle": "2025-05-23T14:32:10.665729Z",
     "shell.execute_reply": "2025-05-23T14:32:10.664954Z"
    },
    "papermill": {
     "duration": 271.991971,
     "end_time": "2025-05-23T14:32:10.670907",
     "exception": false,
     "start_time": "2025-05-23T14:27:38.678936",
     "status": "completed"
    },
    "tags": []
   },
   "outputs": [
    {
     "name": "stdout",
     "output_type": "stream",
     "text": [
      "Fold 1 RMSE: 0.058611\n",
      "Fold 2 RMSE: 0.058901\n",
      "Fold 3 RMSE: 0.059617\n",
      "Fold 4 RMSE: 0.059485\n",
      "Fold 5 RMSE: 0.058874\n",
      "\n",
      "Overall OOF RMSLE: 0.059099\n"
     ]
    }
   ],
   "source": [
    "from sklearn.model_selection import KFold\n",
    "from cuml.metrics import mean_squared_log_error\n",
    "from xgboost import XGBRegressor\n",
    "\n",
    "n_folds = 5\n",
    "kf = KFold(n_splits=n_folds, shuffle=True, random_state=100)\n",
    "\n",
    "oof_xgb = np.zeros(len(y))\n",
    "test_xgb = np.zeros(len(X_test))\n",
    "\n",
    "\n",
    "for fold, (train_index, valid_index) in enumerate(kf.split(X, y), start=1):\n",
    "        X_train, X_valid = X.iloc[train_index].copy(), X.iloc[valid_index].copy()\n",
    "        y_train, y_valid = y.iloc[train_index], y.iloc[valid_index]\n",
    "        \n",
    "        xgb = XGBRegressor(\n",
    "            n_estimators=3500, learning_rate= 0.010042341305141641, max_depth=10, \n",
    "            min_child_weight=7, alpha= 0.031799792818970524, reg_lambda=0.3580931274078332, \n",
    "            subsample=0.8572426766452907, colsample_bytree=0.5066402912386329, gamma=1.037011350094906e-08, \n",
    "            early_stopping_rounds=50, tree_method='gpu_hist', device='cuda', seed=100, \n",
    "            objective='reg:squarederror', eval_metric='rmse',\n",
    "        ).fit(X_train, y_train, eval_set=[(X_valid, y_valid)], verbose=0)\n",
    "    \n",
    "        valid_pred = xgb.predict(X_valid)\n",
    "        oof_xgb[valid_index] = valid_pred\n",
    "        test_xgb += xgb.predict(X_test) / n_folds\n",
    "    \n",
    "        fold_rmsle = np.sqrt(mean_squared_log_error(np.expm1(y_valid), np.expm1(valid_pred)))\n",
    "        print(f\"Fold {fold} RMSE: {fold_rmsle:.6f}\")\n",
    "\n",
    "test_xgb = np.expm1(test_xgb)\n",
    "test_xgb = np.clip(test_xgb, 1, 314)\n",
    "overall_rmsle = np.sqrt(mean_squared_log_error(np.expm1(y), np.expm1(oof_xgb)))\n",
    "print(f\"\\nOverall OOF RMSLE: {overall_rmsle:.6f}\")   "
   ]
  },
  {
   "cell_type": "code",
   "execution_count": 22,
   "id": "56dde1d7",
   "metadata": {
    "execution": {
     "iopub.execute_input": "2025-05-23T14:32:10.681010Z",
     "iopub.status.busy": "2025-05-23T14:32:10.680757Z",
     "iopub.status.idle": "2025-05-23T14:32:10.704615Z",
     "shell.execute_reply": "2025-05-23T14:32:10.703970Z"
    },
    "papermill": {
     "duration": 0.030289,
     "end_time": "2025-05-23T14:32:10.705883",
     "exception": false,
     "start_time": "2025-05-23T14:32:10.675594",
     "status": "completed"
    },
    "tags": []
   },
   "outputs": [
    {
     "data": {
      "text/plain": [
       "['test_xgb.pkl']"
      ]
     },
     "execution_count": 22,
     "metadata": {},
     "output_type": "execute_result"
    }
   ],
   "source": [
    "import joblib\n",
    "\n",
    "X = pd.DataFrame(oof_xgb)\n",
    "X_test = pd.DataFrame(test_xgb)\n",
    "\n",
    "joblib.dump(X, \"oof_xgb.pkl\")\n",
    "joblib.dump(X_test, \"test_xgb.pkl\")"
   ]
  },
  {
   "cell_type": "code",
   "execution_count": 23,
   "id": "42ddc8f8",
   "metadata": {
    "execution": {
     "iopub.execute_input": "2025-05-23T14:32:10.716135Z",
     "iopub.status.busy": "2025-05-23T14:32:10.715910Z",
     "iopub.status.idle": "2025-05-23T14:32:10.803852Z",
     "shell.execute_reply": "2025-05-23T14:32:10.802971Z"
    },
    "papermill": {
     "duration": 0.094265,
     "end_time": "2025-05-23T14:32:10.805164",
     "exception": false,
     "start_time": "2025-05-23T14:32:10.710899",
     "status": "completed"
    },
    "tags": []
   },
   "outputs": [
    {
     "name": "stdout",
     "output_type": "stream",
     "text": [
      "Your submission was successfully saved!\n",
      "       id    Calories\n",
      "0  750000   27.334941\n",
      "1  750001  107.878772\n",
      "2  750002   87.297749\n",
      "3  750003  126.222799\n",
      "4  750004   75.442156\n"
     ]
    }
   ],
   "source": [
    "sub = pd.read_csv('/kaggle/input/playground-series-s5e5/sample_submission.csv')\n",
    "sub['Calories'] = test_xgb\n",
    "sub.to_csv('submission.csv', index=False)\n",
    "print(\"Your submission was successfully saved!\")\n",
    "print(sub.head(5))"
   ]
  }
 ],
 "metadata": {
  "kaggle": {
   "accelerator": "nvidiaTeslaT4",
   "dataSources": [
    {
     "databundleVersionId": 11893428,
     "sourceId": 91716,
     "sourceType": "competition"
    },
    {
     "datasetId": 6512323,
     "sourceId": 10522392,
     "sourceType": "datasetVersion"
    }
   ],
   "dockerImageVersionId": 31012,
   "isGpuEnabled": true,
   "isInternetEnabled": true,
   "language": "python",
   "sourceType": "notebook"
  },
  "kernelspec": {
   "display_name": "Python 3",
   "language": "python",
   "name": "python3"
  },
  "language_info": {
   "codemirror_mode": {
    "name": "ipython",
    "version": 3
   },
   "file_extension": ".py",
   "mimetype": "text/x-python",
   "name": "python",
   "nbconvert_exporter": "python",
   "pygments_lexer": "ipython3",
   "version": "3.11.11"
  },
  "papermill": {
   "default_parameters": {},
   "duration": 298.576678,
   "end_time": "2025-05-23T14:32:13.740400",
   "environment_variables": {},
   "exception": null,
   "input_path": "__notebook__.ipynb",
   "output_path": "__notebook__.ipynb",
   "parameters": {},
   "start_time": "2025-05-23T14:27:15.163722",
   "version": "2.6.0"
  }
 },
 "nbformat": 4,
 "nbformat_minor": 5
}
