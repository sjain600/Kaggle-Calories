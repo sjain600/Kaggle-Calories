{
 "cells": [
  {
   "cell_type": "code",
   "execution_count": 1,
   "id": "cea232cb",
   "metadata": {
    "execution": {
     "iopub.execute_input": "2025-05-06T09:44:43.440753Z",
     "iopub.status.busy": "2025-05-06T09:44:43.440066Z",
     "iopub.status.idle": "2025-05-06T09:44:47.941190Z",
     "shell.execute_reply": "2025-05-06T09:44:47.940445Z"
    },
    "papermill": {
     "duration": 4.507149,
     "end_time": "2025-05-06T09:44:47.942453",
     "exception": false,
     "start_time": "2025-05-06T09:44:43.435304",
     "status": "completed"
    },
    "tags": []
   },
   "outputs": [
    {
     "name": "stdout",
     "output_type": "stream",
     "text": [
      "/kaggle/input/playground-series-s5e5/sample_submission.csv\n",
      "/kaggle/input/playground-series-s5e5/train.csv\n",
      "/kaggle/input/playground-series-s5e5/test.csv\n"
     ]
    },
    {
     "data": {
      "text/plain": [
       "<Figure size 1200x750 with 0 Axes>"
      ]
     },
     "metadata": {},
     "output_type": "display_data"
    }
   ],
   "source": [
    "# This Python 3 environment comes with many helpful analytics libraries installed\n",
    "# It is defined by the kaggle/python Docker image: https://github.com/kaggle/docker-python\n",
    "# For example, here's several helpful packages to load\n",
    "import numpy as np # linear algebra\n",
    "import pandas as pd # data processing, CSV file I/O (e.g. pd.read_csv)\n",
    "import matplotlib.pyplot as plt\n",
    "import seaborn as sns\n",
    "\n",
    "# Setting Matplotlib defaults\n",
    "plt.style.use('seaborn-v0_8')\n",
    "plt.rc('figure', figsize=(8,5), dpi=150)\n",
    "plt.rc('axes', labelweight='bold', labelsize='large',\n",
    "       titleweight='bold', titlesize=15, titlepad=10)\n",
    "plt.rc('animation', html='html5')\n",
    "plt.tight_layout()\n",
    "# Input data files are available in the read-only \"../input/\" directory\n",
    "# For example, running this (by clicking run or pressing Shift+Enter) will list all files under the input directory\n",
    "\n",
    "import os\n",
    "for dirname, _, filenames in os.walk('/kaggle/input'):\n",
    "    for filename in filenames:\n",
    "        print(os.path.join(dirname, filename))\n",
    "        \n",
    "import warnings\n",
    "warnings.simplefilter('ignore')\n",
    "\n",
    "pd.set_option('display.max_columns', 500)\n",
    "\n",
    "# You can write up to 20GB to the current directory (/kaggle/working/) that gets preserved as output when you create a version using \"Save & Run All\" \n",
    "# You can also write temporary files to /kaggle/temp/, but they won't be saved outside of the current session"
   ]
  },
  {
   "cell_type": "code",
   "execution_count": 2,
   "id": "07edfbb2",
   "metadata": {
    "execution": {
     "iopub.execute_input": "2025-05-06T09:44:47.950221Z",
     "iopub.status.busy": "2025-05-06T09:44:47.949935Z",
     "iopub.status.idle": "2025-05-06T09:44:49.143426Z",
     "shell.execute_reply": "2025-05-06T09:44:49.142784Z"
    },
    "papermill": {
     "duration": 1.198663,
     "end_time": "2025-05-06T09:44:49.144790",
     "exception": false,
     "start_time": "2025-05-06T09:44:47.946127",
     "status": "completed"
    },
    "tags": []
   },
   "outputs": [],
   "source": [
    "train = pd.read_csv('/kaggle/input/playground-series-s5e5/train.csv', index_col='id')\n",
    "test = pd.read_csv('/kaggle/input/playground-series-s5e5/test.csv', index_col='id')"
   ]
  },
  {
   "cell_type": "markdown",
   "id": "2fc32c7b",
   "metadata": {
    "papermill": {
     "duration": 0.003256,
     "end_time": "2025-05-06T09:44:49.151828",
     "exception": false,
     "start_time": "2025-05-06T09:44:49.148572",
     "status": "completed"
    },
    "tags": []
   },
   "source": [
    "# Data Understanding"
   ]
  },
  {
   "cell_type": "code",
   "execution_count": 3,
   "id": "14b5c78f",
   "metadata": {
    "execution": {
     "iopub.execute_input": "2025-05-06T09:44:49.159263Z",
     "iopub.status.busy": "2025-05-06T09:44:49.159043Z",
     "iopub.status.idle": "2025-05-06T09:44:49.163365Z",
     "shell.execute_reply": "2025-05-06T09:44:49.162826Z"
    },
    "papermill": {
     "duration": 0.009253,
     "end_time": "2025-05-06T09:44:49.164421",
     "exception": false,
     "start_time": "2025-05-06T09:44:49.155168",
     "status": "completed"
    },
    "tags": []
   },
   "outputs": [
    {
     "data": {
      "text/plain": [
       "(250000, 7)"
      ]
     },
     "execution_count": 3,
     "metadata": {},
     "output_type": "execute_result"
    }
   ],
   "source": [
    "test.shape"
   ]
  },
  {
   "cell_type": "code",
   "execution_count": 4,
   "id": "29603736",
   "metadata": {
    "execution": {
     "iopub.execute_input": "2025-05-06T09:44:49.171862Z",
     "iopub.status.busy": "2025-05-06T09:44:49.171649Z",
     "iopub.status.idle": "2025-05-06T09:44:49.193737Z",
     "shell.execute_reply": "2025-05-06T09:44:49.193182Z"
    },
    "papermill": {
     "duration": 0.027023,
     "end_time": "2025-05-06T09:44:49.194828",
     "exception": false,
     "start_time": "2025-05-06T09:44:49.167805",
     "status": "completed"
    },
    "tags": []
   },
   "outputs": [
    {
     "data": {
      "text/html": [
       "<div>\n",
       "<style scoped>\n",
       "    .dataframe tbody tr th:only-of-type {\n",
       "        vertical-align: middle;\n",
       "    }\n",
       "\n",
       "    .dataframe tbody tr th {\n",
       "        vertical-align: top;\n",
       "    }\n",
       "\n",
       "    .dataframe thead th {\n",
       "        text-align: right;\n",
       "    }\n",
       "</style>\n",
       "<table border=\"1\" class=\"dataframe\">\n",
       "  <thead>\n",
       "    <tr style=\"text-align: right;\">\n",
       "      <th></th>\n",
       "      <th>Sex</th>\n",
       "      <th>Age</th>\n",
       "      <th>Height</th>\n",
       "      <th>Weight</th>\n",
       "      <th>Duration</th>\n",
       "      <th>Heart_Rate</th>\n",
       "      <th>Body_Temp</th>\n",
       "      <th>Calories</th>\n",
       "    </tr>\n",
       "    <tr>\n",
       "      <th>id</th>\n",
       "      <th></th>\n",
       "      <th></th>\n",
       "      <th></th>\n",
       "      <th></th>\n",
       "      <th></th>\n",
       "      <th></th>\n",
       "      <th></th>\n",
       "      <th></th>\n",
       "    </tr>\n",
       "  </thead>\n",
       "  <tbody>\n",
       "    <tr>\n",
       "      <th>0</th>\n",
       "      <td>male</td>\n",
       "      <td>36</td>\n",
       "      <td>189.0</td>\n",
       "      <td>82.0</td>\n",
       "      <td>26.0</td>\n",
       "      <td>101.0</td>\n",
       "      <td>41.0</td>\n",
       "      <td>150.0</td>\n",
       "    </tr>\n",
       "    <tr>\n",
       "      <th>1</th>\n",
       "      <td>female</td>\n",
       "      <td>64</td>\n",
       "      <td>163.0</td>\n",
       "      <td>60.0</td>\n",
       "      <td>8.0</td>\n",
       "      <td>85.0</td>\n",
       "      <td>39.7</td>\n",
       "      <td>34.0</td>\n",
       "    </tr>\n",
       "    <tr>\n",
       "      <th>2</th>\n",
       "      <td>female</td>\n",
       "      <td>51</td>\n",
       "      <td>161.0</td>\n",
       "      <td>64.0</td>\n",
       "      <td>7.0</td>\n",
       "      <td>84.0</td>\n",
       "      <td>39.8</td>\n",
       "      <td>29.0</td>\n",
       "    </tr>\n",
       "    <tr>\n",
       "      <th>3</th>\n",
       "      <td>male</td>\n",
       "      <td>20</td>\n",
       "      <td>192.0</td>\n",
       "      <td>90.0</td>\n",
       "      <td>25.0</td>\n",
       "      <td>105.0</td>\n",
       "      <td>40.7</td>\n",
       "      <td>140.0</td>\n",
       "    </tr>\n",
       "    <tr>\n",
       "      <th>4</th>\n",
       "      <td>female</td>\n",
       "      <td>38</td>\n",
       "      <td>166.0</td>\n",
       "      <td>61.0</td>\n",
       "      <td>25.0</td>\n",
       "      <td>102.0</td>\n",
       "      <td>40.6</td>\n",
       "      <td>146.0</td>\n",
       "    </tr>\n",
       "    <tr>\n",
       "      <th>5</th>\n",
       "      <td>female</td>\n",
       "      <td>26</td>\n",
       "      <td>156.0</td>\n",
       "      <td>56.0</td>\n",
       "      <td>19.0</td>\n",
       "      <td>100.0</td>\n",
       "      <td>40.5</td>\n",
       "      <td>103.0</td>\n",
       "    </tr>\n",
       "    <tr>\n",
       "      <th>6</th>\n",
       "      <td>female</td>\n",
       "      <td>21</td>\n",
       "      <td>172.0</td>\n",
       "      <td>73.0</td>\n",
       "      <td>3.0</td>\n",
       "      <td>81.0</td>\n",
       "      <td>38.3</td>\n",
       "      <td>9.0</td>\n",
       "    </tr>\n",
       "    <tr>\n",
       "      <th>7</th>\n",
       "      <td>male</td>\n",
       "      <td>46</td>\n",
       "      <td>188.0</td>\n",
       "      <td>94.0</td>\n",
       "      <td>23.0</td>\n",
       "      <td>100.0</td>\n",
       "      <td>40.8</td>\n",
       "      <td>145.0</td>\n",
       "    </tr>\n",
       "    <tr>\n",
       "      <th>8</th>\n",
       "      <td>female</td>\n",
       "      <td>33</td>\n",
       "      <td>166.0</td>\n",
       "      <td>63.0</td>\n",
       "      <td>25.0</td>\n",
       "      <td>107.0</td>\n",
       "      <td>40.5</td>\n",
       "      <td>161.0</td>\n",
       "    </tr>\n",
       "    <tr>\n",
       "      <th>9</th>\n",
       "      <td>male</td>\n",
       "      <td>65</td>\n",
       "      <td>185.0</td>\n",
       "      <td>88.0</td>\n",
       "      <td>23.0</td>\n",
       "      <td>104.0</td>\n",
       "      <td>41.0</td>\n",
       "      <td>185.0</td>\n",
       "    </tr>\n",
       "  </tbody>\n",
       "</table>\n",
       "</div>"
      ],
      "text/plain": [
       "       Sex  Age  Height  Weight  Duration  Heart_Rate  Body_Temp  Calories\n",
       "id                                                                        \n",
       "0     male   36   189.0    82.0      26.0       101.0       41.0     150.0\n",
       "1   female   64   163.0    60.0       8.0        85.0       39.7      34.0\n",
       "2   female   51   161.0    64.0       7.0        84.0       39.8      29.0\n",
       "3     male   20   192.0    90.0      25.0       105.0       40.7     140.0\n",
       "4   female   38   166.0    61.0      25.0       102.0       40.6     146.0\n",
       "5   female   26   156.0    56.0      19.0       100.0       40.5     103.0\n",
       "6   female   21   172.0    73.0       3.0        81.0       38.3       9.0\n",
       "7     male   46   188.0    94.0      23.0       100.0       40.8     145.0\n",
       "8   female   33   166.0    63.0      25.0       107.0       40.5     161.0\n",
       "9     male   65   185.0    88.0      23.0       104.0       41.0     185.0"
      ]
     },
     "execution_count": 4,
     "metadata": {},
     "output_type": "execute_result"
    }
   ],
   "source": [
    "train.head(10)"
   ]
  },
  {
   "cell_type": "code",
   "execution_count": 5,
   "id": "d712e3d0",
   "metadata": {
    "execution": {
     "iopub.execute_input": "2025-05-06T09:44:49.202741Z",
     "iopub.status.busy": "2025-05-06T09:44:49.202527Z",
     "iopub.status.idle": "2025-05-06T09:44:49.419724Z",
     "shell.execute_reply": "2025-05-06T09:44:49.419082Z"
    },
    "papermill": {
     "duration": 0.222233,
     "end_time": "2025-05-06T09:44:49.420901",
     "exception": false,
     "start_time": "2025-05-06T09:44:49.198668",
     "status": "completed"
    },
    "tags": []
   },
   "outputs": [
    {
     "data": {
      "text/html": [
       "<div>\n",
       "<style scoped>\n",
       "    .dataframe tbody tr th:only-of-type {\n",
       "        vertical-align: middle;\n",
       "    }\n",
       "\n",
       "    .dataframe tbody tr th {\n",
       "        vertical-align: top;\n",
       "    }\n",
       "\n",
       "    .dataframe thead th {\n",
       "        text-align: right;\n",
       "    }\n",
       "</style>\n",
       "<table border=\"1\" class=\"dataframe\">\n",
       "  <thead>\n",
       "    <tr style=\"text-align: right;\">\n",
       "      <th></th>\n",
       "      <th>Age</th>\n",
       "      <th>Height</th>\n",
       "      <th>Weight</th>\n",
       "      <th>Duration</th>\n",
       "      <th>Heart_Rate</th>\n",
       "      <th>Body_Temp</th>\n",
       "      <th>Calories</th>\n",
       "    </tr>\n",
       "  </thead>\n",
       "  <tbody>\n",
       "    <tr>\n",
       "      <th>count</th>\n",
       "      <td>750000.000000</td>\n",
       "      <td>750000.000000</td>\n",
       "      <td>750000.000000</td>\n",
       "      <td>750000.000000</td>\n",
       "      <td>750000.000000</td>\n",
       "      <td>750000.000000</td>\n",
       "      <td>750000.000000</td>\n",
       "    </tr>\n",
       "    <tr>\n",
       "      <th>mean</th>\n",
       "      <td>41.420404</td>\n",
       "      <td>174.697685</td>\n",
       "      <td>75.145668</td>\n",
       "      <td>15.421015</td>\n",
       "      <td>95.483995</td>\n",
       "      <td>40.036253</td>\n",
       "      <td>88.282781</td>\n",
       "    </tr>\n",
       "    <tr>\n",
       "      <th>std</th>\n",
       "      <td>15.175049</td>\n",
       "      <td>12.824496</td>\n",
       "      <td>13.982704</td>\n",
       "      <td>8.354095</td>\n",
       "      <td>9.449845</td>\n",
       "      <td>0.779875</td>\n",
       "      <td>62.395349</td>\n",
       "    </tr>\n",
       "    <tr>\n",
       "      <th>min</th>\n",
       "      <td>20.000000</td>\n",
       "      <td>126.000000</td>\n",
       "      <td>36.000000</td>\n",
       "      <td>1.000000</td>\n",
       "      <td>67.000000</td>\n",
       "      <td>37.100000</td>\n",
       "      <td>1.000000</td>\n",
       "    </tr>\n",
       "    <tr>\n",
       "      <th>25%</th>\n",
       "      <td>28.000000</td>\n",
       "      <td>164.000000</td>\n",
       "      <td>63.000000</td>\n",
       "      <td>8.000000</td>\n",
       "      <td>88.000000</td>\n",
       "      <td>39.600000</td>\n",
       "      <td>34.000000</td>\n",
       "    </tr>\n",
       "    <tr>\n",
       "      <th>50%</th>\n",
       "      <td>40.000000</td>\n",
       "      <td>174.000000</td>\n",
       "      <td>74.000000</td>\n",
       "      <td>15.000000</td>\n",
       "      <td>95.000000</td>\n",
       "      <td>40.300000</td>\n",
       "      <td>77.000000</td>\n",
       "    </tr>\n",
       "    <tr>\n",
       "      <th>75%</th>\n",
       "      <td>52.000000</td>\n",
       "      <td>185.000000</td>\n",
       "      <td>87.000000</td>\n",
       "      <td>23.000000</td>\n",
       "      <td>103.000000</td>\n",
       "      <td>40.700000</td>\n",
       "      <td>136.000000</td>\n",
       "    </tr>\n",
       "    <tr>\n",
       "      <th>max</th>\n",
       "      <td>79.000000</td>\n",
       "      <td>222.000000</td>\n",
       "      <td>132.000000</td>\n",
       "      <td>30.000000</td>\n",
       "      <td>128.000000</td>\n",
       "      <td>41.500000</td>\n",
       "      <td>314.000000</td>\n",
       "    </tr>\n",
       "  </tbody>\n",
       "</table>\n",
       "</div>"
      ],
      "text/plain": [
       "                 Age         Height         Weight       Duration  \\\n",
       "count  750000.000000  750000.000000  750000.000000  750000.000000   \n",
       "mean       41.420404     174.697685      75.145668      15.421015   \n",
       "std        15.175049      12.824496      13.982704       8.354095   \n",
       "min        20.000000     126.000000      36.000000       1.000000   \n",
       "25%        28.000000     164.000000      63.000000       8.000000   \n",
       "50%        40.000000     174.000000      74.000000      15.000000   \n",
       "75%        52.000000     185.000000      87.000000      23.000000   \n",
       "max        79.000000     222.000000     132.000000      30.000000   \n",
       "\n",
       "          Heart_Rate      Body_Temp       Calories  \n",
       "count  750000.000000  750000.000000  750000.000000  \n",
       "mean       95.483995      40.036253      88.282781  \n",
       "std         9.449845       0.779875      62.395349  \n",
       "min        67.000000      37.100000       1.000000  \n",
       "25%        88.000000      39.600000      34.000000  \n",
       "50%        95.000000      40.300000      77.000000  \n",
       "75%       103.000000      40.700000     136.000000  \n",
       "max       128.000000      41.500000     314.000000  "
      ]
     },
     "execution_count": 5,
     "metadata": {},
     "output_type": "execute_result"
    }
   ],
   "source": [
    "train.describe()"
   ]
  },
  {
   "cell_type": "code",
   "execution_count": 6,
   "id": "79cd6613",
   "metadata": {
    "execution": {
     "iopub.execute_input": "2025-05-06T09:44:49.429754Z",
     "iopub.status.busy": "2025-05-06T09:44:49.429544Z",
     "iopub.status.idle": "2025-05-06T09:44:49.482328Z",
     "shell.execute_reply": "2025-05-06T09:44:49.481641Z"
    },
    "papermill": {
     "duration": 0.058453,
     "end_time": "2025-05-06T09:44:49.483393",
     "exception": false,
     "start_time": "2025-05-06T09:44:49.424940",
     "status": "completed"
    },
    "tags": []
   },
   "outputs": [
    {
     "data": {
      "text/plain": [
       "Sex           0\n",
       "Age           0\n",
       "Height        0\n",
       "Weight        0\n",
       "Duration      0\n",
       "Heart_Rate    0\n",
       "Body_Temp     0\n",
       "Calories      0\n",
       "dtype: int64"
      ]
     },
     "execution_count": 6,
     "metadata": {},
     "output_type": "execute_result"
    }
   ],
   "source": [
    "train.isnull().sum()"
   ]
  },
  {
   "cell_type": "code",
   "execution_count": 7,
   "id": "33515878",
   "metadata": {
    "execution": {
     "iopub.execute_input": "2025-05-06T09:44:49.491456Z",
     "iopub.status.busy": "2025-05-06T09:44:49.491272Z",
     "iopub.status.idle": "2025-05-06T09:44:49.561470Z",
     "shell.execute_reply": "2025-05-06T09:44:49.560558Z"
    },
    "papermill": {
     "duration": 0.075596,
     "end_time": "2025-05-06T09:44:49.562673",
     "exception": false,
     "start_time": "2025-05-06T09:44:49.487077",
     "status": "completed"
    },
    "tags": []
   },
   "outputs": [
    {
     "name": "stdout",
     "output_type": "stream",
     "text": [
      "<class 'pandas.core.frame.DataFrame'>\n",
      "Index: 750000 entries, 0 to 749999\n",
      "Data columns (total 8 columns):\n",
      " #   Column      Non-Null Count   Dtype  \n",
      "---  ------      --------------   -----  \n",
      " 0   Sex         750000 non-null  object \n",
      " 1   Age         750000 non-null  int64  \n",
      " 2   Height      750000 non-null  float64\n",
      " 3   Weight      750000 non-null  float64\n",
      " 4   Duration    750000 non-null  float64\n",
      " 5   Heart_Rate  750000 non-null  float64\n",
      " 6   Body_Temp   750000 non-null  float64\n",
      " 7   Calories    750000 non-null  float64\n",
      "dtypes: float64(6), int64(1), object(1)\n",
      "memory usage: 51.5+ MB\n"
     ]
    }
   ],
   "source": [
    "train.info()"
   ]
  },
  {
   "cell_type": "markdown",
   "id": "d4612926",
   "metadata": {
    "papermill": {
     "duration": 0.003694,
     "end_time": "2025-05-06T09:44:49.570674",
     "exception": false,
     "start_time": "2025-05-06T09:44:49.566980",
     "status": "completed"
    },
    "tags": []
   },
   "source": [
    "# Data Preprocessing"
   ]
  },
  {
   "cell_type": "markdown",
   "id": "97ecf807",
   "metadata": {
    "papermill": {
     "duration": 0.003519,
     "end_time": "2025-05-06T09:44:49.577891",
     "exception": false,
     "start_time": "2025-05-06T09:44:49.574372",
     "status": "completed"
    },
    "tags": []
   },
   "source": [
    "## Reducing memory usage"
   ]
  },
  {
   "cell_type": "code",
   "execution_count": 8,
   "id": "c277a9dc",
   "metadata": {
    "execution": {
     "iopub.execute_input": "2025-05-06T09:44:49.586175Z",
     "iopub.status.busy": "2025-05-06T09:44:49.585922Z",
     "iopub.status.idle": "2025-05-06T09:44:49.641463Z",
     "shell.execute_reply": "2025-05-06T09:44:49.640822Z"
    },
    "papermill": {
     "duration": 0.060951,
     "end_time": "2025-05-06T09:44:49.642647",
     "exception": false,
     "start_time": "2025-05-06T09:44:49.581696",
     "status": "completed"
    },
    "tags": []
   },
   "outputs": [],
   "source": [
    "train['Sex'] = train['Sex'].astype('category')\n",
    "test['Sex'] = test['Sex'].astype('category')"
   ]
  },
  {
   "cell_type": "code",
   "execution_count": 9,
   "id": "34274b40",
   "metadata": {
    "execution": {
     "iopub.execute_input": "2025-05-06T09:44:49.650990Z",
     "iopub.status.busy": "2025-05-06T09:44:49.650789Z",
     "iopub.status.idle": "2025-05-06T09:44:49.654836Z",
     "shell.execute_reply": "2025-05-06T09:44:49.654358Z"
    },
    "papermill": {
     "duration": 0.009387,
     "end_time": "2025-05-06T09:44:49.655863",
     "exception": false,
     "start_time": "2025-05-06T09:44:49.646476",
     "status": "completed"
    },
    "tags": []
   },
   "outputs": [],
   "source": [
    "train['Age'] = train['Age'].astype('int8')\n",
    "test['Age'] = test['Age'].astype('int8')"
   ]
  },
  {
   "cell_type": "code",
   "execution_count": 10,
   "id": "ac96b93f",
   "metadata": {
    "execution": {
     "iopub.execute_input": "2025-05-06T09:44:49.665075Z",
     "iopub.status.busy": "2025-05-06T09:44:49.664864Z",
     "iopub.status.idle": "2025-05-06T09:44:49.773925Z",
     "shell.execute_reply": "2025-05-06T09:44:49.773043Z"
    },
    "papermill": {
     "duration": 0.11581,
     "end_time": "2025-05-06T09:44:49.775435",
     "exception": false,
     "start_time": "2025-05-06T09:44:49.659625",
     "status": "completed"
    },
    "tags": []
   },
   "outputs": [],
   "source": [
    "num_cols = test.select_dtypes(include='float64').columns\n",
    "for col in num_cols:\n",
    "    train[num_cols] = train[num_cols].astype('float32')\n",
    "    test[num_cols] = test[num_cols].astype('float32')"
   ]
  },
  {
   "cell_type": "code",
   "execution_count": 11,
   "id": "7c366fe3",
   "metadata": {
    "execution": {
     "iopub.execute_input": "2025-05-06T09:44:49.786337Z",
     "iopub.status.busy": "2025-05-06T09:44:49.786075Z",
     "iopub.status.idle": "2025-05-06T09:44:49.807636Z",
     "shell.execute_reply": "2025-05-06T09:44:49.806707Z"
    },
    "papermill": {
     "duration": 0.027724,
     "end_time": "2025-05-06T09:44:49.808748",
     "exception": false,
     "start_time": "2025-05-06T09:44:49.781024",
     "status": "completed"
    },
    "tags": []
   },
   "outputs": [
    {
     "name": "stdout",
     "output_type": "stream",
     "text": [
      "<class 'pandas.core.frame.DataFrame'>\n",
      "Index: 750000 entries, 0 to 749999\n",
      "Data columns (total 8 columns):\n",
      " #   Column      Non-Null Count   Dtype   \n",
      "---  ------      --------------   -----   \n",
      " 0   Sex         750000 non-null  category\n",
      " 1   Age         750000 non-null  int8    \n",
      " 2   Height      750000 non-null  float32 \n",
      " 3   Weight      750000 non-null  float32 \n",
      " 4   Duration    750000 non-null  float32 \n",
      " 5   Heart_Rate  750000 non-null  float32 \n",
      " 6   Body_Temp   750000 non-null  float32 \n",
      " 7   Calories    750000 non-null  float64 \n",
      "dtypes: category(1), float32(5), float64(1), int8(1)\n",
      "memory usage: 27.2 MB\n"
     ]
    }
   ],
   "source": [
    "train.info()"
   ]
  },
  {
   "cell_type": "markdown",
   "id": "3c2bd0f7",
   "metadata": {
    "papermill": {
     "duration": 0.00356,
     "end_time": "2025-05-06T09:44:49.816123",
     "exception": false,
     "start_time": "2025-05-06T09:44:49.812563",
     "status": "completed"
    },
    "tags": []
   },
   "source": [
    "# Feature Understanding via Data Visualization"
   ]
  },
  {
   "cell_type": "code",
   "execution_count": 12,
   "id": "09ddb422",
   "metadata": {
    "execution": {
     "iopub.execute_input": "2025-05-06T09:44:49.824136Z",
     "iopub.status.busy": "2025-05-06T09:44:49.823949Z",
     "iopub.status.idle": "2025-05-06T09:44:50.295189Z",
     "shell.execute_reply": "2025-05-06T09:44:50.294613Z"
    },
    "papermill": {
     "duration": 0.476705,
     "end_time": "2025-05-06T09:44:50.296552",
     "exception": false,
     "start_time": "2025-05-06T09:44:49.819847",
     "status": "completed"
    },
    "tags": []
   },
   "outputs": [],
   "source": [
    "from sklearn.preprocessing import LabelEncoder\n",
    "\n",
    "le = LabelEncoder()\n",
    "train['Sex'] = le.fit_transform(train['Sex']).astype('int8')\n",
    "test['Sex'] = le.transform(test['Sex']).astype('int8')"
   ]
  },
  {
   "cell_type": "code",
   "execution_count": 13,
   "id": "e2df6907",
   "metadata": {
    "execution": {
     "iopub.execute_input": "2025-05-06T09:44:50.305979Z",
     "iopub.status.busy": "2025-05-06T09:44:50.305322Z",
     "iopub.status.idle": "2025-05-06T09:44:50.351335Z",
     "shell.execute_reply": "2025-05-06T09:44:50.350695Z"
    },
    "papermill": {
     "duration": 0.052186,
     "end_time": "2025-05-06T09:44:50.352748",
     "exception": false,
     "start_time": "2025-05-06T09:44:50.300562",
     "status": "completed"
    },
    "tags": []
   },
   "outputs": [],
   "source": [
    "X = train.copy()\n",
    "y = X.pop('Calories')\n",
    "y = np.log1p(y)\n",
    "X_test = test.copy()"
   ]
  },
  {
   "cell_type": "code",
   "execution_count": 14,
   "id": "4c357fc2",
   "metadata": {
    "execution": {
     "iopub.execute_input": "2025-05-06T09:44:50.361870Z",
     "iopub.status.busy": "2025-05-06T09:44:50.361636Z",
     "iopub.status.idle": "2025-05-06T09:44:50.542663Z",
     "shell.execute_reply": "2025-05-06T09:44:50.542160Z"
    },
    "papermill": {
     "duration": 0.186617,
     "end_time": "2025-05-06T09:44:50.543834",
     "exception": false,
     "start_time": "2025-05-06T09:44:50.357217",
     "status": "completed"
    },
    "tags": []
   },
   "outputs": [],
   "source": [
    "from sklearn.model_selection import KFold, train_test_split\n",
    "from sklearn.metrics import mean_squared_log_error\n",
    "\n",
    "n_folds = 4\n",
    "kf = KFold(n_splits=n_folds, shuffle=True, random_state=100)\n",
    "\n",
    "oof_dnn = np.zeros(len(y))\n",
    "test_dnn = np.zeros(len(X_test))"
   ]
  },
  {
   "cell_type": "code",
   "execution_count": 15,
   "id": "9e8306d1",
   "metadata": {
    "execution": {
     "iopub.execute_input": "2025-05-06T09:44:50.552483Z",
     "iopub.status.busy": "2025-05-06T09:44:50.552051Z",
     "iopub.status.idle": "2025-05-06T09:45:09.051386Z",
     "shell.execute_reply": "2025-05-06T09:45:09.050809Z"
    },
    "papermill": {
     "duration": 18.504822,
     "end_time": "2025-05-06T09:45:09.052658",
     "exception": false,
     "start_time": "2025-05-06T09:44:50.547836",
     "status": "completed"
    },
    "tags": []
   },
   "outputs": [
    {
     "name": "stderr",
     "output_type": "stream",
     "text": [
      "2025-05-06 09:44:53.657695: E external/local_xla/xla/stream_executor/cuda/cuda_fft.cc:477] Unable to register cuFFT factory: Attempting to register factory for plugin cuFFT when one has already been registered\n",
      "WARNING: All log messages before absl::InitializeLog() is called are written to STDERR\n",
      "E0000 00:00:1746524694.053381      19 cuda_dnn.cc:8310] Unable to register cuDNN factory: Attempting to register factory for plugin cuDNN when one has already been registered\n",
      "E0000 00:00:1746524694.179687      19 cuda_blas.cc:1418] Unable to register cuBLAS factory: Attempting to register factory for plugin cuBLAS when one has already been registered\n"
     ]
    }
   ],
   "source": [
    "from sklearn.preprocessing import StandardScaler\n",
    "import tensorflow as tf\n",
    "from tensorflow.keras.models import Sequential, Model\n",
    "from tensorflow.keras.layers import Dense, Input, BatchNormalization, Dropout, GaussianDropout\n",
    "from tensorflow.keras.regularizers import l2"
   ]
  },
  {
   "cell_type": "code",
   "execution_count": 16,
   "id": "f8cb81c7",
   "metadata": {
    "execution": {
     "iopub.execute_input": "2025-05-06T09:45:09.061604Z",
     "iopub.status.busy": "2025-05-06T09:45:09.061206Z",
     "iopub.status.idle": "2025-05-06T09:45:09.069308Z",
     "shell.execute_reply": "2025-05-06T09:45:09.068787Z"
    },
    "papermill": {
     "duration": 0.013577,
     "end_time": "2025-05-06T09:45:09.070418",
     "exception": false,
     "start_time": "2025-05-06T09:45:09.056841",
     "status": "completed"
    },
    "tags": []
   },
   "outputs": [],
   "source": [
    "from tensorflow.keras.optimizers import Adam, SGD, Nadam\n",
    "from tensorflow.keras.metrics import RootMeanSquaredError\n",
    "\n",
    "def build_model():\n",
    "    return Sequential([\n",
    "        Input(shape=(input_shape)),\n",
    "        BatchNormalization(),\n",
    "        \n",
    "        Dense(280, activation='leaky_relu'),\n",
    "        GaussianDropout(rate=0.2),\n",
    "        BatchNormalization(),\n",
    "        \n",
    "        Dense(150, activation='leaky_relu'),\n",
    "        GaussianDropout(rate=0.1),\n",
    "        BatchNormalization(),\n",
    "        \n",
    "        Dense(300, activation='leaky_relu'),\n",
    "        BatchNormalization(),\n",
    "        GaussianDropout(rate=0.1),\n",
    "        \n",
    "        Dense(120, activation='leaky_relu'),\n",
    "        BatchNormalization(),\n",
    "        \n",
    "        Dense(1,activation='linear'),\n",
    "    ])\n",
    "    "
   ]
  },
  {
   "cell_type": "code",
   "execution_count": 17,
   "id": "cdb287a6",
   "metadata": {
    "execution": {
     "iopub.execute_input": "2025-05-06T09:45:09.078985Z",
     "iopub.status.busy": "2025-05-06T09:45:09.078791Z",
     "iopub.status.idle": "2025-05-06T09:45:09.086647Z",
     "shell.execute_reply": "2025-05-06T09:45:09.085996Z"
    },
    "papermill": {
     "duration": 0.013224,
     "end_time": "2025-05-06T09:45:09.087663",
     "exception": false,
     "start_time": "2025-05-06T09:45:09.074439",
     "status": "completed"
    },
    "tags": []
   },
   "outputs": [],
   "source": [
    "from tensorflow.keras.callbacks import ReduceLROnPlateau, ModelCheckpoint, EarlyStopping\n",
    "\n",
    "def make_callbacks():\n",
    "    lr_callback = ReduceLROnPlateau(\n",
    "            monitor='val_root_mean_squared_error',     \n",
    "            factor=0.5,              \n",
    "            patience=5,              \n",
    "            verbose=1,               \n",
    "            min_lr=1e-6            \n",
    "        )\n",
    "    \n",
    "    early_stop = EarlyStopping(\n",
    "        patience=15, \n",
    "        monitor='val_root_mean_squared_error', \n",
    "        restore_best_weights=True, \n",
    "        mode='min'\n",
    "    )\n",
    "\n",
    "    checkpoint = ModelCheckpoint(\n",
    "        filepath=\"/kaggle/working/best_model.keras\",\n",
    "        monitor='val_root_mean_squared_error',\n",
    "        save_best_only=True,\n",
    "        mode='min',\n",
    "        verbose=0\n",
    "    )\n",
    "    \n",
    "    return [lr_callback, early_stop, checkpoint]"
   ]
  },
  {
   "cell_type": "code",
   "execution_count": 18,
   "id": "9336b064",
   "metadata": {
    "execution": {
     "iopub.execute_input": "2025-05-06T09:45:09.095730Z",
     "iopub.status.busy": "2025-05-06T09:45:09.095561Z",
     "iopub.status.idle": "2025-05-06T09:55:34.117378Z",
     "shell.execute_reply": "2025-05-06T09:55:34.116555Z"
    },
    "papermill": {
     "duration": 625.027459,
     "end_time": "2025-05-06T09:55:34.118826",
     "exception": false,
     "start_time": "2025-05-06T09:45:09.091367",
     "status": "completed"
    },
    "tags": []
   },
   "outputs": [
    {
     "name": "stderr",
     "output_type": "stream",
     "text": [
      "I0000 00:00:1746524711.814523      19 gpu_device.cc:2022] Created device /job:localhost/replica:0/task:0/device:GPU:0 with 13942 MB memory:  -> device: 0, name: Tesla T4, pci bus id: 0000:00:04.0, compute capability: 7.5\n",
      "I0000 00:00:1746524711.815272      19 gpu_device.cc:2022] Created device /job:localhost/replica:0/task:0/device:GPU:1 with 13942 MB memory:  -> device: 1, name: Tesla T4, pci bus id: 0000:00:05.0, compute capability: 7.5\n"
     ]
    },
    {
     "name": "stdout",
     "output_type": "stream",
     "text": [
      "Epoch 1/25\n"
     ]
    },
    {
     "name": "stderr",
     "output_type": "stream",
     "text": [
      "WARNING: All log messages before absl::InitializeLog() is called are written to STDERR\n",
      "I0000 00:00:1746524719.200451      61 service.cc:148] XLA service 0x7c32ec007390 initialized for platform CUDA (this does not guarantee that XLA will be used). Devices:\n",
      "I0000 00:00:1746524719.201786      61 service.cc:156]   StreamExecutor device (0): Tesla T4, Compute Capability 7.5\n",
      "I0000 00:00:1746524719.201804      61 service.cc:156]   StreamExecutor device (1): Tesla T4, Compute Capability 7.5\n",
      "I0000 00:00:1746524719.707670      61 cuda_dnn.cc:529] Loaded cuDNN version 90300\n",
      "I0000 00:00:1746524723.420068      61 device_compiler.h:188] Compiled cluster using XLA!  This line is logged at most once for the lifetime of the process.\n"
     ]
    },
    {
     "name": "stdout",
     "output_type": "stream",
     "text": [
      "2250/2250 - 16s - 7ms/step - loss: 0.0929 - root_mean_squared_error: 0.3048 - val_loss: 0.0065 - val_root_mean_squared_error: 0.0805 - learning_rate: 0.0500\n",
      "Epoch 2/25\n",
      "2250/2250 - 6s - 3ms/step - loss: 0.0188 - root_mean_squared_error: 0.1372 - val_loss: 0.0061 - val_root_mean_squared_error: 0.0778 - learning_rate: 0.0500\n",
      "Epoch 3/25\n",
      "2250/2250 - 6s - 3ms/step - loss: 0.0152 - root_mean_squared_error: 0.1231 - val_loss: 0.0065 - val_root_mean_squared_error: 0.0806 - learning_rate: 0.0500\n",
      "Epoch 4/25\n",
      "2250/2250 - 6s - 3ms/step - loss: 0.0157 - root_mean_squared_error: 0.1254 - val_loss: 0.0811 - val_root_mean_squared_error: 0.2848 - learning_rate: 0.0500\n",
      "Epoch 5/25\n",
      "2250/2250 - 6s - 3ms/step - loss: 0.0602 - root_mean_squared_error: 0.2453 - val_loss: 0.0076 - val_root_mean_squared_error: 0.0870 - learning_rate: 0.0500\n",
      "Epoch 6/25\n",
      "2250/2250 - 6s - 2ms/step - loss: 0.0179 - root_mean_squared_error: 0.1338 - val_loss: 0.0197 - val_root_mean_squared_error: 0.1402 - learning_rate: 0.0500\n",
      "Epoch 7/25\n",
      "2250/2250 - 6s - 3ms/step - loss: 0.0145 - root_mean_squared_error: 0.1203 - val_loss: 0.0049 - val_root_mean_squared_error: 0.0698 - learning_rate: 0.0500\n",
      "Epoch 8/25\n",
      "2250/2250 - 6s - 3ms/step - loss: 0.0150 - root_mean_squared_error: 0.1223 - val_loss: 0.0409 - val_root_mean_squared_error: 0.2021 - learning_rate: 0.0500\n",
      "Epoch 9/25\n",
      "2250/2250 - 6s - 3ms/step - loss: 0.0164 - root_mean_squared_error: 0.1282 - val_loss: 0.0147 - val_root_mean_squared_error: 0.1214 - learning_rate: 0.0500\n",
      "Epoch 10/25\n",
      "2250/2250 - 6s - 3ms/step - loss: 0.0153 - root_mean_squared_error: 0.1239 - val_loss: 0.0102 - val_root_mean_squared_error: 0.1011 - learning_rate: 0.0500\n",
      "Epoch 11/25\n",
      "2250/2250 - 6s - 2ms/step - loss: 0.0930 - root_mean_squared_error: 0.3049 - val_loss: 0.0064 - val_root_mean_squared_error: 0.0801 - learning_rate: 0.0500\n",
      "Epoch 12/25\n",
      "\n",
      "Epoch 12: ReduceLROnPlateau reducing learning rate to 0.02500000037252903.\n",
      "2250/2250 - 6s - 3ms/step - loss: 0.0190 - root_mean_squared_error: 0.1380 - val_loss: 0.0076 - val_root_mean_squared_error: 0.0871 - learning_rate: 0.0500\n",
      "Epoch 13/25\n",
      "2250/2250 - 6s - 3ms/step - loss: 0.0139 - root_mean_squared_error: 0.1181 - val_loss: 0.0079 - val_root_mean_squared_error: 0.0891 - learning_rate: 0.0250\n",
      "Epoch 14/25\n",
      "2250/2250 - 6s - 3ms/step - loss: 0.0135 - root_mean_squared_error: 0.1161 - val_loss: 0.0080 - val_root_mean_squared_error: 0.0893 - learning_rate: 0.0250\n",
      "Epoch 15/25\n",
      "2250/2250 - 6s - 3ms/step - loss: 0.0130 - root_mean_squared_error: 0.1140 - val_loss: 0.0053 - val_root_mean_squared_error: 0.0726 - learning_rate: 0.0250\n",
      "Epoch 16/25\n",
      "2250/2250 - 6s - 2ms/step - loss: 0.0133 - root_mean_squared_error: 0.1152 - val_loss: 0.0064 - val_root_mean_squared_error: 0.0800 - learning_rate: 0.0250\n",
      "Epoch 17/25\n",
      "\n",
      "Epoch 17: ReduceLROnPlateau reducing learning rate to 0.012500000186264515.\n",
      "2250/2250 - 6s - 2ms/step - loss: 0.0131 - root_mean_squared_error: 0.1147 - val_loss: 0.0068 - val_root_mean_squared_error: 0.0825 - learning_rate: 0.0250\n",
      "Epoch 18/25\n",
      "2250/2250 - 6s - 3ms/step - loss: 0.0117 - root_mean_squared_error: 0.1080 - val_loss: 0.0066 - val_root_mean_squared_error: 0.0814 - learning_rate: 0.0125\n",
      "Epoch 19/25\n",
      "2250/2250 - 6s - 3ms/step - loss: 0.0117 - root_mean_squared_error: 0.1083 - val_loss: 0.0058 - val_root_mean_squared_error: 0.0762 - learning_rate: 0.0125\n",
      "Epoch 20/25\n",
      "2250/2250 - 6s - 3ms/step - loss: 0.0114 - root_mean_squared_error: 0.1068 - val_loss: 0.0044 - val_root_mean_squared_error: 0.0667 - learning_rate: 0.0125\n",
      "Epoch 21/25\n",
      "2250/2250 - 6s - 3ms/step - loss: 0.0113 - root_mean_squared_error: 0.1063 - val_loss: 0.0073 - val_root_mean_squared_error: 0.0853 - learning_rate: 0.0125\n",
      "Epoch 22/25\n",
      "2250/2250 - 6s - 3ms/step - loss: 0.0114 - root_mean_squared_error: 0.1066 - val_loss: 0.0052 - val_root_mean_squared_error: 0.0722 - learning_rate: 0.0125\n",
      "Epoch 23/25\n",
      "2250/2250 - 6s - 2ms/step - loss: 0.0114 - root_mean_squared_error: 0.1069 - val_loss: 0.0049 - val_root_mean_squared_error: 0.0701 - learning_rate: 0.0125\n",
      "Epoch 24/25\n",
      "2250/2250 - 6s - 3ms/step - loss: 0.0112 - root_mean_squared_error: 0.1060 - val_loss: 0.0050 - val_root_mean_squared_error: 0.0710 - learning_rate: 0.0125\n",
      "Epoch 25/25\n",
      "\n",
      "Epoch 25: ReduceLROnPlateau reducing learning rate to 0.0062500000931322575.\n",
      "2250/2250 - 6s - 2ms/step - loss: 0.0110 - root_mean_squared_error: 0.1050 - val_loss: 0.0049 - val_root_mean_squared_error: 0.0701 - learning_rate: 0.0125\n",
      "750/750 - 1s - 2ms/step\n",
      "1000/1000 - 1s - 1ms/step\n",
      "Fold: 1 RMSLE: 0.066672\n",
      "Epoch 1/25\n",
      "2250/2250 - 15s - 7ms/step - loss: 0.1089 - root_mean_squared_error: 0.3299 - val_loss: 0.0110 - val_root_mean_squared_error: 0.1049 - learning_rate: 0.0500\n",
      "Epoch 2/25\n",
      "2250/2250 - 6s - 3ms/step - loss: 0.0200 - root_mean_squared_error: 0.1413 - val_loss: 0.0225 - val_root_mean_squared_error: 0.1500 - learning_rate: 0.0500\n",
      "Epoch 3/25\n",
      "2250/2250 - 6s - 3ms/step - loss: 0.0153 - root_mean_squared_error: 0.1236 - val_loss: 0.0221 - val_root_mean_squared_error: 0.1487 - learning_rate: 0.0500\n",
      "Epoch 4/25\n",
      "2250/2250 - 6s - 3ms/step - loss: 0.0152 - root_mean_squared_error: 0.1232 - val_loss: 0.0406 - val_root_mean_squared_error: 0.2015 - learning_rate: 0.0500\n",
      "Epoch 5/25\n",
      "2250/2250 - 6s - 3ms/step - loss: 0.0418 - root_mean_squared_error: 0.2044 - val_loss: 0.0343 - val_root_mean_squared_error: 0.1853 - learning_rate: 0.0500\n",
      "Epoch 6/25\n",
      "2250/2250 - 6s - 3ms/step - loss: 0.0156 - root_mean_squared_error: 0.1249 - val_loss: 0.0095 - val_root_mean_squared_error: 0.0972 - learning_rate: 0.0500\n",
      "Epoch 7/25\n",
      "2250/2250 - 6s - 3ms/step - loss: 0.0143 - root_mean_squared_error: 0.1195 - val_loss: 0.0125 - val_root_mean_squared_error: 0.1116 - learning_rate: 0.0500\n",
      "Epoch 8/25\n",
      "2250/2250 - 6s - 3ms/step - loss: 0.0306 - root_mean_squared_error: 0.1749 - val_loss: 0.0079 - val_root_mean_squared_error: 0.0886 - learning_rate: 0.0500\n",
      "Epoch 9/25\n",
      "2250/2250 - 6s - 3ms/step - loss: 0.0142 - root_mean_squared_error: 0.1192 - val_loss: 0.0134 - val_root_mean_squared_error: 0.1157 - learning_rate: 0.0500\n",
      "Epoch 10/25\n",
      "2250/2250 - 6s - 3ms/step - loss: 0.0138 - root_mean_squared_error: 0.1175 - val_loss: 0.0140 - val_root_mean_squared_error: 0.1183 - learning_rate: 0.0500\n",
      "Epoch 11/25\n",
      "2250/2250 - 6s - 3ms/step - loss: 0.0613 - root_mean_squared_error: 0.2477 - val_loss: 0.0070 - val_root_mean_squared_error: 0.0834 - learning_rate: 0.0500\n",
      "Epoch 12/25\n",
      "2250/2250 - 6s - 3ms/step - loss: 0.0161 - root_mean_squared_error: 0.1269 - val_loss: 0.0155 - val_root_mean_squared_error: 0.1246 - learning_rate: 0.0500\n",
      "Epoch 13/25\n",
      "2250/2250 - 6s - 3ms/step - loss: 0.0138 - root_mean_squared_error: 0.1175 - val_loss: 0.0063 - val_root_mean_squared_error: 0.0795 - learning_rate: 0.0500\n",
      "Epoch 14/25\n",
      "2250/2250 - 6s - 3ms/step - loss: 0.0139 - root_mean_squared_error: 0.1178 - val_loss: 0.0333 - val_root_mean_squared_error: 0.1825 - learning_rate: 0.0500\n",
      "Epoch 15/25\n",
      "2250/2250 - 6s - 3ms/step - loss: 0.0545 - root_mean_squared_error: 0.2335 - val_loss: 2.0594 - val_root_mean_squared_error: 1.4351 - learning_rate: 0.0500\n",
      "Epoch 16/25\n",
      "2250/2250 - 6s - 3ms/step - loss: 0.0166 - root_mean_squared_error: 0.1289 - val_loss: 0.0051 - val_root_mean_squared_error: 0.0712 - learning_rate: 0.0500\n",
      "Epoch 17/25\n",
      "2250/2250 - 6s - 3ms/step - loss: 0.0140 - root_mean_squared_error: 0.1185 - val_loss: 0.0193 - val_root_mean_squared_error: 0.1391 - learning_rate: 0.0500\n",
      "Epoch 18/25\n",
      "2250/2250 - 6s - 3ms/step - loss: 0.0132 - root_mean_squared_error: 0.1148 - val_loss: 0.0068 - val_root_mean_squared_error: 0.0826 - learning_rate: 0.0500\n",
      "Epoch 19/25\n",
      "2250/2250 - 6s - 3ms/step - loss: 0.0147 - root_mean_squared_error: 0.1213 - val_loss: 0.0108 - val_root_mean_squared_error: 0.1040 - learning_rate: 0.0500\n",
      "Epoch 20/25\n",
      "2250/2250 - 6s - 3ms/step - loss: 0.0694 - root_mean_squared_error: 0.2634 - val_loss: 0.0134 - val_root_mean_squared_error: 0.1156 - learning_rate: 0.0500\n",
      "Epoch 21/25\n",
      "\n",
      "Epoch 21: ReduceLROnPlateau reducing learning rate to 0.02500000037252903.\n",
      "2250/2250 - 6s - 2ms/step - loss: 0.0160 - root_mean_squared_error: 0.1264 - val_loss: 0.0078 - val_root_mean_squared_error: 0.0883 - learning_rate: 0.0500\n",
      "Epoch 22/25\n",
      "2250/2250 - 6s - 2ms/step - loss: 0.0118 - root_mean_squared_error: 0.1088 - val_loss: 0.0113 - val_root_mean_squared_error: 0.1065 - learning_rate: 0.0250\n",
      "Epoch 23/25\n",
      "2250/2250 - 6s - 3ms/step - loss: 0.0119 - root_mean_squared_error: 0.1089 - val_loss: 0.0055 - val_root_mean_squared_error: 0.0745 - learning_rate: 0.0250\n",
      "Epoch 24/25\n",
      "2250/2250 - 6s - 3ms/step - loss: 0.0118 - root_mean_squared_error: 0.1086 - val_loss: 0.0055 - val_root_mean_squared_error: 0.0742 - learning_rate: 0.0250\n",
      "Epoch 25/25\n",
      "2250/2250 - 6s - 3ms/step - loss: 0.0120 - root_mean_squared_error: 0.1096 - val_loss: 0.0047 - val_root_mean_squared_error: 0.0683 - learning_rate: 0.0250\n",
      "750/750 - 1s - 2ms/step\n",
      "1000/1000 - 1s - 1ms/step\n",
      "Fold: 2 RMSLE: 0.068332\n",
      "Epoch 1/25\n",
      "2250/2250 - 15s - 7ms/step - loss: 0.1142 - root_mean_squared_error: 0.3379 - val_loss: 0.0083 - val_root_mean_squared_error: 0.0913 - learning_rate: 0.0500\n",
      "Epoch 2/25\n",
      "2250/2250 - 6s - 2ms/step - loss: 0.0204 - root_mean_squared_error: 0.1427 - val_loss: 0.0137 - val_root_mean_squared_error: 0.1169 - learning_rate: 0.0500\n",
      "Epoch 3/25\n",
      "2250/2250 - 6s - 3ms/step - loss: 0.0159 - root_mean_squared_error: 0.1259 - val_loss: 0.0082 - val_root_mean_squared_error: 0.0903 - learning_rate: 0.0500\n",
      "Epoch 4/25\n",
      "2250/2250 - 6s - 3ms/step - loss: 0.0157 - root_mean_squared_error: 0.1254 - val_loss: 0.0298 - val_root_mean_squared_error: 0.1726 - learning_rate: 0.0500\n",
      "Epoch 5/25\n",
      "2250/2250 - 6s - 3ms/step - loss: 0.0152 - root_mean_squared_error: 0.1232 - val_loss: 0.0259 - val_root_mean_squared_error: 0.1609 - learning_rate: 0.0500\n",
      "Epoch 6/25\n",
      "2250/2250 - 6s - 3ms/step - loss: 0.0158 - root_mean_squared_error: 0.1255 - val_loss: 0.0074 - val_root_mean_squared_error: 0.0863 - learning_rate: 0.0500\n",
      "Epoch 7/25\n",
      "2250/2250 - 6s - 2ms/step - loss: 0.0665 - root_mean_squared_error: 0.2580 - val_loss: 0.0095 - val_root_mean_squared_error: 0.0973 - learning_rate: 0.0500\n",
      "Epoch 8/25\n",
      "2250/2250 - 6s - 3ms/step - loss: 0.0143 - root_mean_squared_error: 0.1198 - val_loss: 0.0057 - val_root_mean_squared_error: 0.0755 - learning_rate: 0.0500\n",
      "Epoch 9/25\n",
      "2250/2250 - 6s - 3ms/step - loss: 0.0141 - root_mean_squared_error: 0.1187 - val_loss: 0.0044 - val_root_mean_squared_error: 0.0660 - learning_rate: 0.0500\n",
      "Epoch 10/25\n",
      "2250/2250 - 6s - 2ms/step - loss: 0.0140 - root_mean_squared_error: 0.1184 - val_loss: 0.0049 - val_root_mean_squared_error: 0.0701 - learning_rate: 0.0500\n",
      "Epoch 11/25\n",
      "2250/2250 - 6s - 2ms/step - loss: 0.0931 - root_mean_squared_error: 0.3051 - val_loss: 0.0100 - val_root_mean_squared_error: 0.0998 - learning_rate: 0.0500\n",
      "Epoch 12/25\n",
      "2250/2250 - 6s - 2ms/step - loss: 0.0171 - root_mean_squared_error: 0.1309 - val_loss: 0.0052 - val_root_mean_squared_error: 0.0724 - learning_rate: 0.0500\n",
      "Epoch 13/25\n",
      "2250/2250 - 6s - 3ms/step - loss: 0.0145 - root_mean_squared_error: 0.1204 - val_loss: 0.0044 - val_root_mean_squared_error: 0.0660 - learning_rate: 0.0500\n",
      "Epoch 14/25\n",
      "\n",
      "Epoch 14: ReduceLROnPlateau reducing learning rate to 0.02500000037252903.\n",
      "2250/2250 - 6s - 3ms/step - loss: 0.0137 - root_mean_squared_error: 0.1172 - val_loss: 0.0089 - val_root_mean_squared_error: 0.0945 - learning_rate: 0.0500\n",
      "Epoch 15/25\n",
      "2250/2250 - 6s - 2ms/step - loss: 0.0119 - root_mean_squared_error: 0.1091 - val_loss: 0.0052 - val_root_mean_squared_error: 0.0719 - learning_rate: 0.0250\n",
      "Epoch 16/25\n",
      "2250/2250 - 6s - 3ms/step - loss: 0.0121 - root_mean_squared_error: 0.1102 - val_loss: 0.0040 - val_root_mean_squared_error: 0.0636 - learning_rate: 0.0250\n",
      "Epoch 17/25\n",
      "2250/2250 - 6s - 2ms/step - loss: 0.0122 - root_mean_squared_error: 0.1104 - val_loss: 0.0207 - val_root_mean_squared_error: 0.1437 - learning_rate: 0.0250\n",
      "Epoch 18/25\n",
      "2250/2250 - 6s - 2ms/step - loss: 0.0118 - root_mean_squared_error: 0.1087 - val_loss: 0.0052 - val_root_mean_squared_error: 0.0722 - learning_rate: 0.0250\n",
      "Epoch 19/25\n",
      "2250/2250 - 6s - 3ms/step - loss: 0.0118 - root_mean_squared_error: 0.1085 - val_loss: 0.0072 - val_root_mean_squared_error: 0.0850 - learning_rate: 0.0250\n",
      "Epoch 20/25\n",
      "2250/2250 - 6s - 3ms/step - loss: 0.0116 - root_mean_squared_error: 0.1075 - val_loss: 0.0051 - val_root_mean_squared_error: 0.0714 - learning_rate: 0.0250\n",
      "Epoch 21/25\n",
      "\n",
      "Epoch 21: ReduceLROnPlateau reducing learning rate to 0.012500000186264515.\n",
      "2250/2250 - 6s - 3ms/step - loss: 0.0118 - root_mean_squared_error: 0.1084 - val_loss: 0.0051 - val_root_mean_squared_error: 0.0713 - learning_rate: 0.0250\n",
      "Epoch 22/25\n",
      "2250/2250 - 6s - 2ms/step - loss: 0.0106 - root_mean_squared_error: 0.1032 - val_loss: 0.0047 - val_root_mean_squared_error: 0.0689 - learning_rate: 0.0125\n",
      "Epoch 23/25\n",
      "2250/2250 - 5s - 2ms/step - loss: 0.0106 - root_mean_squared_error: 0.1031 - val_loss: 0.0046 - val_root_mean_squared_error: 0.0677 - learning_rate: 0.0125\n",
      "Epoch 24/25\n",
      "2250/2250 - 6s - 2ms/step - loss: 0.0107 - root_mean_squared_error: 0.1032 - val_loss: 0.0048 - val_root_mean_squared_error: 0.0694 - learning_rate: 0.0125\n",
      "Epoch 25/25\n",
      "2250/2250 - 6s - 3ms/step - loss: 0.0105 - root_mean_squared_error: 0.1023 - val_loss: 0.0070 - val_root_mean_squared_error: 0.0838 - learning_rate: 0.0125\n",
      "750/750 - 1s - 2ms/step\n",
      "1000/1000 - 1s - 1ms/step\n",
      "Fold: 3 RMSLE: 0.063572\n",
      "Epoch 1/25\n",
      "2250/2250 - 15s - 7ms/step - loss: 0.0932 - root_mean_squared_error: 0.3052 - val_loss: 0.0051 - val_root_mean_squared_error: 0.0711 - learning_rate: 0.0500\n",
      "Epoch 2/25\n",
      "2250/2250 - 6s - 3ms/step - loss: 0.0195 - root_mean_squared_error: 0.1396 - val_loss: 0.0056 - val_root_mean_squared_error: 0.0751 - learning_rate: 0.0500\n",
      "Epoch 3/25\n",
      "2250/2250 - 6s - 3ms/step - loss: 0.0153 - root_mean_squared_error: 0.1239 - val_loss: 0.0064 - val_root_mean_squared_error: 0.0797 - learning_rate: 0.0500\n",
      "Epoch 4/25\n",
      "2250/2250 - 6s - 3ms/step - loss: 0.0158 - root_mean_squared_error: 0.1257 - val_loss: 0.0521 - val_root_mean_squared_error: 0.2282 - learning_rate: 0.0500\n",
      "Epoch 5/25\n",
      "2250/2250 - 6s - 3ms/step - loss: 0.0157 - root_mean_squared_error: 0.1252 - val_loss: 0.0669 - val_root_mean_squared_error: 0.2587 - learning_rate: 0.0500\n",
      "Epoch 6/25\n",
      "2250/2250 - 6s - 3ms/step - loss: 0.0662 - root_mean_squared_error: 0.2574 - val_loss: 0.0042 - val_root_mean_squared_error: 0.0647 - learning_rate: 0.0500\n",
      "Epoch 7/25\n",
      "2250/2250 - 6s - 3ms/step - loss: 0.0150 - root_mean_squared_error: 0.1224 - val_loss: 0.0163 - val_root_mean_squared_error: 0.1279 - learning_rate: 0.0500\n",
      "Epoch 8/25\n",
      "2250/2250 - 6s - 3ms/step - loss: 0.0140 - root_mean_squared_error: 0.1184 - val_loss: 0.0110 - val_root_mean_squared_error: 0.1048 - learning_rate: 0.0500\n",
      "Epoch 9/25\n",
      "2250/2250 - 6s - 3ms/step - loss: 0.0161 - root_mean_squared_error: 0.1269 - val_loss: 0.0120 - val_root_mean_squared_error: 0.1095 - learning_rate: 0.0500\n",
      "Epoch 10/25\n",
      "2250/2250 - 6s - 2ms/step - loss: 0.0150 - root_mean_squared_error: 0.1225 - val_loss: 0.0123 - val_root_mean_squared_error: 0.1107 - learning_rate: 0.0500\n",
      "Epoch 11/25\n",
      "\n",
      "Epoch 11: ReduceLROnPlateau reducing learning rate to 0.02500000037252903.\n",
      "2250/2250 - 6s - 3ms/step - loss: 0.0149 - root_mean_squared_error: 0.1219 - val_loss: 0.0181 - val_root_mean_squared_error: 0.1347 - learning_rate: 0.0500\n",
      "Epoch 12/25\n",
      "2250/2250 - 6s - 3ms/step - loss: 0.0117 - root_mean_squared_error: 0.1083 - val_loss: 0.0062 - val_root_mean_squared_error: 0.0790 - learning_rate: 0.0250\n",
      "Epoch 13/25\n",
      "2250/2250 - 6s - 3ms/step - loss: 0.0123 - root_mean_squared_error: 0.1111 - val_loss: 0.0057 - val_root_mean_squared_error: 0.0756 - learning_rate: 0.0250\n",
      "Epoch 14/25\n",
      "2250/2250 - 6s - 3ms/step - loss: 0.0123 - root_mean_squared_error: 0.1110 - val_loss: 0.0113 - val_root_mean_squared_error: 0.1062 - learning_rate: 0.0250\n",
      "Epoch 15/25\n",
      "2250/2250 - 6s - 3ms/step - loss: 0.0122 - root_mean_squared_error: 0.1103 - val_loss: 0.0095 - val_root_mean_squared_error: 0.0974 - learning_rate: 0.0250\n",
      "Epoch 16/25\n",
      "\n",
      "Epoch 16: ReduceLROnPlateau reducing learning rate to 0.012500000186264515.\n",
      "2250/2250 - 6s - 3ms/step - loss: 0.0121 - root_mean_squared_error: 0.1098 - val_loss: 0.0068 - val_root_mean_squared_error: 0.0827 - learning_rate: 0.0250\n",
      "Epoch 17/25\n",
      "2250/2250 - 6s - 3ms/step - loss: 0.0108 - root_mean_squared_error: 0.1037 - val_loss: 0.0065 - val_root_mean_squared_error: 0.0805 - learning_rate: 0.0125\n",
      "Epoch 18/25\n",
      "2250/2250 - 6s - 3ms/step - loss: 0.0111 - root_mean_squared_error: 0.1052 - val_loss: 0.0045 - val_root_mean_squared_error: 0.0670 - learning_rate: 0.0125\n",
      "Epoch 19/25\n",
      "2250/2250 - 6s - 3ms/step - loss: 0.0109 - root_mean_squared_error: 0.1045 - val_loss: 0.0078 - val_root_mean_squared_error: 0.0881 - learning_rate: 0.0125\n",
      "Epoch 20/25\n",
      "2250/2250 - 6s - 3ms/step - loss: 0.0109 - root_mean_squared_error: 0.1044 - val_loss: 0.0040 - val_root_mean_squared_error: 0.0633 - learning_rate: 0.0125\n",
      "Epoch 21/25\n",
      "2250/2250 - 6s - 3ms/step - loss: 0.0107 - root_mean_squared_error: 0.1032 - val_loss: 0.0050 - val_root_mean_squared_error: 0.0706 - learning_rate: 0.0125\n",
      "Epoch 22/25\n",
      "2250/2250 - 6s - 3ms/step - loss: 0.0110 - root_mean_squared_error: 0.1047 - val_loss: 0.0093 - val_root_mean_squared_error: 0.0964 - learning_rate: 0.0125\n",
      "Epoch 23/25\n",
      "2250/2250 - 6s - 2ms/step - loss: 0.0105 - root_mean_squared_error: 0.1026 - val_loss: 0.0040 - val_root_mean_squared_error: 0.0634 - learning_rate: 0.0125\n",
      "Epoch 24/25\n",
      "2250/2250 - 6s - 2ms/step - loss: 0.0109 - root_mean_squared_error: 0.1045 - val_loss: 0.0110 - val_root_mean_squared_error: 0.1047 - learning_rate: 0.0125\n",
      "Epoch 25/25\n",
      "\n",
      "Epoch 25: ReduceLROnPlateau reducing learning rate to 0.0062500000931322575.\n",
      "2250/2250 - 6s - 2ms/step - loss: 0.0108 - root_mean_squared_error: 0.1038 - val_loss: 0.0103 - val_root_mean_squared_error: 0.1017 - learning_rate: 0.0125\n",
      "750/750 - 1s - 2ms/step\n",
      "1000/1000 - 1s - 1ms/step\n",
      "Fold: 4 RMSLE: 0.063314\n",
      "\n",
      "Overall OOF RMSLE: 0.065507\n"
     ]
    }
   ],
   "source": [
    "for fold, (train_idx, valid_idx) in enumerate(kf.split(X), start=1):\n",
    "    X_train, X_valid = X.iloc[train_idx], X.iloc[valid_idx]\n",
    "    y_train, y_valid = y.iloc[train_idx], y.iloc[valid_idx]\n",
    "\n",
    "    X_test = test.copy()\n",
    "    \n",
    "    scaler = StandardScaler()\n",
    "    X_train= scaler.fit_transform(X_train)\n",
    "    X_valid = scaler.transform(X_valid)\n",
    "    X_test = scaler.transform(X_test) \n",
    "    \n",
    "    input_shape = (X_train.shape[1], )\n",
    "\n",
    "    dnn = build_model()\n",
    "    optimizer = Nadam(learning_rate=0.05)\n",
    "    rmse = RootMeanSquaredError()\n",
    "    \n",
    "    dnn.compile(optimizer=optimizer, loss='mse', metrics=[rmse])\n",
    "    \n",
    "    dnn.fit(\n",
    "    X_train, y_train,\n",
    "    validation_data=(X_valid, y_valid),\n",
    "    batch_size=250,\n",
    "    epochs=25,\n",
    "    callbacks=make_callbacks(),\n",
    "    verbose=2\n",
    "    )\n",
    "\n",
    "    y_pred = dnn.predict(X_valid, batch_size=250, verbose=2).flatten()\n",
    "    oof_dnn[valid_idx] = y_pred\n",
    "    \n",
    "    test_dnn += dnn.predict(X_test, batch_size=250, verbose=2).flatten()\n",
    "    \n",
    "    rmsle = np.sqrt(mean_squared_log_error(np.expm1(y_pred), np.expm1(y_valid)))\n",
    "    print(f'Fold: {fold} RMSLE: {rmsle:,.6f}')\n",
    "\n",
    "overall_rmsle = np.sqrt(mean_squared_log_error(np.expm1(y), np.expm1(oof_dnn)))\n",
    "print(f\"\\nOverall OOF RMSLE: {overall_rmsle:.6f}\")  \n",
    "\n",
    "test_dnn /= n_folds\n"
   ]
  },
  {
   "cell_type": "code",
   "execution_count": 19,
   "id": "3d17aa8e",
   "metadata": {
    "execution": {
     "iopub.execute_input": "2025-05-06T09:55:34.144716Z",
     "iopub.status.busy": "2025-05-06T09:55:34.144492Z",
     "iopub.status.idle": "2025-05-06T09:55:34.715942Z",
     "shell.execute_reply": "2025-05-06T09:55:34.715256Z"
    },
    "papermill": {
     "duration": 0.58623,
     "end_time": "2025-05-06T09:55:34.717632",
     "exception": false,
     "start_time": "2025-05-06T09:55:34.131402",
     "status": "completed"
    },
    "tags": []
   },
   "outputs": [
    {
     "name": "stdout",
     "output_type": "stream",
     "text": [
      "Your submission was successfully saved!\n",
      "       id    Calories\n",
      "0  750000   27.998877\n",
      "1  750001  105.904615\n",
      "2  750002   86.594670\n",
      "3  750003  123.738918\n",
      "4  750004   75.778031\n"
     ]
    }
   ],
   "source": [
    "test_dnn = np.expm1(test_dnn)\n",
    "test_dnn = np.clip(test_dnn, 1, 314)\n",
    "\n",
    "sub = pd.read_csv('/kaggle/input/playground-series-s5e5/sample_submission.csv')\n",
    "sub['Calories'] = test_dnn\n",
    "sub.to_csv('submission.csv', index=False)\n",
    "print(\"Your submission was successfully saved!\")\n",
    "print(sub.head(5))"
   ]
  }
 ],
 "metadata": {
  "kaggle": {
   "accelerator": "nvidiaTeslaT4",
   "dataSources": [
    {
     "databundleVersionId": 11893428,
     "sourceId": 91716,
     "sourceType": "competition"
    }
   ],
   "dockerImageVersionId": 31011,
   "isGpuEnabled": true,
   "isInternetEnabled": true,
   "language": "python",
   "sourceType": "notebook"
  },
  "kernelspec": {
   "display_name": "Python 3",
   "language": "python",
   "name": "python3"
  },
  "language_info": {
   "codemirror_mode": {
    "name": "ipython",
    "version": 3
   },
   "file_extension": ".py",
   "mimetype": "text/x-python",
   "name": "python",
   "nbconvert_exporter": "python",
   "pygments_lexer": "ipython3",
   "version": "3.11.11"
  },
  "papermill": {
   "default_parameters": {},
   "duration": 660.245183,
   "end_time": "2025-05-06T09:55:37.806879",
   "environment_variables": {},
   "exception": null,
   "input_path": "__notebook__.ipynb",
   "output_path": "__notebook__.ipynb",
   "parameters": {},
   "start_time": "2025-05-06T09:44:37.561696",
   "version": "2.6.0"
  }
 },
 "nbformat": 4,
 "nbformat_minor": 5
}
