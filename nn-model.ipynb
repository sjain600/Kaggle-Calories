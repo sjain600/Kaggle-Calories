{
 "cells": [
  {
   "cell_type": "code",
   "execution_count": 1,
   "id": "0489152c",
   "metadata": {
    "execution": {
     "iopub.execute_input": "2025-05-30T07:49:51.263246Z",
     "iopub.status.busy": "2025-05-30T07:49:51.262585Z",
     "iopub.status.idle": "2025-05-30T07:49:54.294727Z",
     "shell.execute_reply": "2025-05-30T07:49:54.293940Z"
    },
    "papermill": {
     "duration": 3.038294,
     "end_time": "2025-05-30T07:49:54.295942",
     "exception": false,
     "start_time": "2025-05-30T07:49:51.257648",
     "status": "completed"
    },
    "tags": []
   },
   "outputs": [
    {
     "name": "stdout",
     "output_type": "stream",
     "text": [
      "/kaggle/input/playground-series-s5e5/sample_submission.csv\n",
      "/kaggle/input/playground-series-s5e5/train.csv\n",
      "/kaggle/input/playground-series-s5e5/test.csv\n",
      "/kaggle/input/calories-burnt-prediction/calories.csv\n"
     ]
    },
    {
     "data": {
      "text/plain": [
       "<Figure size 1200x750 with 0 Axes>"
      ]
     },
     "metadata": {},
     "output_type": "display_data"
    }
   ],
   "source": [
    "# This Python 3 environment comes with many helpful analytics libraries installed\n",
    "# It is defined by the kaggle/python Docker image: https://github.com/kaggle/docker-python\n",
    "# For example, here's several helpful packages to load\n",
    "import numpy as np # linear algebra\n",
    "import pandas as pd # data processing, CSV file I/O (e.g. pd.read_csv)\n",
    "import matplotlib.pyplot as plt\n",
    "import seaborn as sns\n",
    "import joblib\n",
    "# Setting Matplotlib defaults\n",
    "plt.style.use('seaborn-v0_8')\n",
    "plt.rc('figure', figsize=(8,5), dpi=150)\n",
    "plt.rc('axes', labelweight='bold', labelsize='large',\n",
    "       titleweight='bold', titlesize=15, titlepad=10)\n",
    "plt.rc('animation', html='html5')\n",
    "plt.tight_layout()\n",
    "# Input data files are available in the read-only \"../input/\" directory\n",
    "# For example, running this (by clicking run or pressing Shift+Enter) will list all files under the input directory\n",
    "\n",
    "import os\n",
    "for dirname, _, filenames in os.walk('/kaggle/input'):\n",
    "    for filename in filenames:\n",
    "        print(os.path.join(dirname, filename))\n",
    "        \n",
    "import warnings\n",
    "warnings.filterwarnings(\"ignore\")\n",
    "\n",
    "pd.set_option('display.max_columns', 500)\n",
    "\n",
    "# You can write up to 20GB to the current directory (/kaggle/working/) that gets preserved as output when you create a version using \"Save & Run All\" \n",
    "# You can also write temporary files to /kaggle/temp/, but they won't be saved outside of the current session"
   ]
  },
  {
   "cell_type": "code",
   "execution_count": 2,
   "id": "a3265c57",
   "metadata": {
    "execution": {
     "iopub.execute_input": "2025-05-30T07:49:54.304166Z",
     "iopub.status.busy": "2025-05-30T07:49:54.303839Z",
     "iopub.status.idle": "2025-05-30T07:49:55.377587Z",
     "shell.execute_reply": "2025-05-30T07:49:55.376843Z"
    },
    "papermill": {
     "duration": 1.079282,
     "end_time": "2025-05-30T07:49:55.379079",
     "exception": false,
     "start_time": "2025-05-30T07:49:54.299797",
     "status": "completed"
    },
    "tags": []
   },
   "outputs": [],
   "source": [
    "train = pd.read_csv('/kaggle/input/playground-series-s5e5/train.csv', index_col='id')\n",
    "test = pd.read_csv('/kaggle/input/playground-series-s5e5/test.csv', index_col='id')\n",
    "org = pd.read_csv('/kaggle/input/calories-burnt-prediction/calories.csv', index_col='User_ID')\n",
    "org = org.rename(columns={'Gender': 'Sex'})"
   ]
  },
  {
   "cell_type": "code",
   "execution_count": 3,
   "id": "399a7b13",
   "metadata": {
    "execution": {
     "iopub.execute_input": "2025-05-30T07:49:55.387407Z",
     "iopub.status.busy": "2025-05-30T07:49:55.387189Z",
     "iopub.status.idle": "2025-05-30T07:49:55.408587Z",
     "shell.execute_reply": "2025-05-30T07:49:55.408000Z"
    },
    "papermill": {
     "duration": 0.026748,
     "end_time": "2025-05-30T07:49:55.409767",
     "exception": false,
     "start_time": "2025-05-30T07:49:55.383019",
     "status": "completed"
    },
    "tags": []
   },
   "outputs": [],
   "source": [
    "train = pd.concat([train, org], ignore_index=True)"
   ]
  },
  {
   "cell_type": "markdown",
   "id": "aecec421",
   "metadata": {
    "papermill": {
     "duration": 0.003298,
     "end_time": "2025-05-30T07:49:55.416788",
     "exception": false,
     "start_time": "2025-05-30T07:49:55.413490",
     "status": "completed"
    },
    "tags": []
   },
   "source": [
    "# Data Understanding"
   ]
  },
  {
   "cell_type": "code",
   "execution_count": 4,
   "id": "0bd0be93",
   "metadata": {
    "execution": {
     "iopub.execute_input": "2025-05-30T07:49:55.424281Z",
     "iopub.status.busy": "2025-05-30T07:49:55.424090Z",
     "iopub.status.idle": "2025-05-30T07:49:55.428297Z",
     "shell.execute_reply": "2025-05-30T07:49:55.427761Z"
    },
    "papermill": {
     "duration": 0.009137,
     "end_time": "2025-05-30T07:49:55.429298",
     "exception": false,
     "start_time": "2025-05-30T07:49:55.420161",
     "status": "completed"
    },
    "tags": []
   },
   "outputs": [
    {
     "data": {
      "text/plain": [
       "(250000, 7)"
      ]
     },
     "execution_count": 4,
     "metadata": {},
     "output_type": "execute_result"
    }
   ],
   "source": [
    "test.shape"
   ]
  },
  {
   "cell_type": "code",
   "execution_count": 5,
   "id": "98fe45e5",
   "metadata": {
    "execution": {
     "iopub.execute_input": "2025-05-30T07:49:55.436916Z",
     "iopub.status.busy": "2025-05-30T07:49:55.436693Z",
     "iopub.status.idle": "2025-05-30T07:49:55.456450Z",
     "shell.execute_reply": "2025-05-30T07:49:55.455925Z"
    },
    "papermill": {
     "duration": 0.024733,
     "end_time": "2025-05-30T07:49:55.457461",
     "exception": false,
     "start_time": "2025-05-30T07:49:55.432728",
     "status": "completed"
    },
    "tags": []
   },
   "outputs": [
    {
     "data": {
      "text/html": [
       "<div>\n",
       "<style scoped>\n",
       "    .dataframe tbody tr th:only-of-type {\n",
       "        vertical-align: middle;\n",
       "    }\n",
       "\n",
       "    .dataframe tbody tr th {\n",
       "        vertical-align: top;\n",
       "    }\n",
       "\n",
       "    .dataframe thead th {\n",
       "        text-align: right;\n",
       "    }\n",
       "</style>\n",
       "<table border=\"1\" class=\"dataframe\">\n",
       "  <thead>\n",
       "    <tr style=\"text-align: right;\">\n",
       "      <th></th>\n",
       "      <th>Sex</th>\n",
       "      <th>Age</th>\n",
       "      <th>Height</th>\n",
       "      <th>Weight</th>\n",
       "      <th>Duration</th>\n",
       "      <th>Heart_Rate</th>\n",
       "      <th>Body_Temp</th>\n",
       "      <th>Calories</th>\n",
       "    </tr>\n",
       "  </thead>\n",
       "  <tbody>\n",
       "    <tr>\n",
       "      <th>0</th>\n",
       "      <td>male</td>\n",
       "      <td>36</td>\n",
       "      <td>189.0</td>\n",
       "      <td>82.0</td>\n",
       "      <td>26.0</td>\n",
       "      <td>101.0</td>\n",
       "      <td>41.0</td>\n",
       "      <td>150.0</td>\n",
       "    </tr>\n",
       "    <tr>\n",
       "      <th>1</th>\n",
       "      <td>female</td>\n",
       "      <td>64</td>\n",
       "      <td>163.0</td>\n",
       "      <td>60.0</td>\n",
       "      <td>8.0</td>\n",
       "      <td>85.0</td>\n",
       "      <td>39.7</td>\n",
       "      <td>34.0</td>\n",
       "    </tr>\n",
       "    <tr>\n",
       "      <th>2</th>\n",
       "      <td>female</td>\n",
       "      <td>51</td>\n",
       "      <td>161.0</td>\n",
       "      <td>64.0</td>\n",
       "      <td>7.0</td>\n",
       "      <td>84.0</td>\n",
       "      <td>39.8</td>\n",
       "      <td>29.0</td>\n",
       "    </tr>\n",
       "    <tr>\n",
       "      <th>3</th>\n",
       "      <td>male</td>\n",
       "      <td>20</td>\n",
       "      <td>192.0</td>\n",
       "      <td>90.0</td>\n",
       "      <td>25.0</td>\n",
       "      <td>105.0</td>\n",
       "      <td>40.7</td>\n",
       "      <td>140.0</td>\n",
       "    </tr>\n",
       "    <tr>\n",
       "      <th>4</th>\n",
       "      <td>female</td>\n",
       "      <td>38</td>\n",
       "      <td>166.0</td>\n",
       "      <td>61.0</td>\n",
       "      <td>25.0</td>\n",
       "      <td>102.0</td>\n",
       "      <td>40.6</td>\n",
       "      <td>146.0</td>\n",
       "    </tr>\n",
       "    <tr>\n",
       "      <th>5</th>\n",
       "      <td>female</td>\n",
       "      <td>26</td>\n",
       "      <td>156.0</td>\n",
       "      <td>56.0</td>\n",
       "      <td>19.0</td>\n",
       "      <td>100.0</td>\n",
       "      <td>40.5</td>\n",
       "      <td>103.0</td>\n",
       "    </tr>\n",
       "    <tr>\n",
       "      <th>6</th>\n",
       "      <td>female</td>\n",
       "      <td>21</td>\n",
       "      <td>172.0</td>\n",
       "      <td>73.0</td>\n",
       "      <td>3.0</td>\n",
       "      <td>81.0</td>\n",
       "      <td>38.3</td>\n",
       "      <td>9.0</td>\n",
       "    </tr>\n",
       "    <tr>\n",
       "      <th>7</th>\n",
       "      <td>male</td>\n",
       "      <td>46</td>\n",
       "      <td>188.0</td>\n",
       "      <td>94.0</td>\n",
       "      <td>23.0</td>\n",
       "      <td>100.0</td>\n",
       "      <td>40.8</td>\n",
       "      <td>145.0</td>\n",
       "    </tr>\n",
       "    <tr>\n",
       "      <th>8</th>\n",
       "      <td>female</td>\n",
       "      <td>33</td>\n",
       "      <td>166.0</td>\n",
       "      <td>63.0</td>\n",
       "      <td>25.0</td>\n",
       "      <td>107.0</td>\n",
       "      <td>40.5</td>\n",
       "      <td>161.0</td>\n",
       "    </tr>\n",
       "    <tr>\n",
       "      <th>9</th>\n",
       "      <td>male</td>\n",
       "      <td>65</td>\n",
       "      <td>185.0</td>\n",
       "      <td>88.0</td>\n",
       "      <td>23.0</td>\n",
       "      <td>104.0</td>\n",
       "      <td>41.0</td>\n",
       "      <td>185.0</td>\n",
       "    </tr>\n",
       "  </tbody>\n",
       "</table>\n",
       "</div>"
      ],
      "text/plain": [
       "      Sex  Age  Height  Weight  Duration  Heart_Rate  Body_Temp  Calories\n",
       "0    male   36   189.0    82.0      26.0       101.0       41.0     150.0\n",
       "1  female   64   163.0    60.0       8.0        85.0       39.7      34.0\n",
       "2  female   51   161.0    64.0       7.0        84.0       39.8      29.0\n",
       "3    male   20   192.0    90.0      25.0       105.0       40.7     140.0\n",
       "4  female   38   166.0    61.0      25.0       102.0       40.6     146.0\n",
       "5  female   26   156.0    56.0      19.0       100.0       40.5     103.0\n",
       "6  female   21   172.0    73.0       3.0        81.0       38.3       9.0\n",
       "7    male   46   188.0    94.0      23.0       100.0       40.8     145.0\n",
       "8  female   33   166.0    63.0      25.0       107.0       40.5     161.0\n",
       "9    male   65   185.0    88.0      23.0       104.0       41.0     185.0"
      ]
     },
     "execution_count": 5,
     "metadata": {},
     "output_type": "execute_result"
    }
   ],
   "source": [
    "train.head(10)"
   ]
  },
  {
   "cell_type": "code",
   "execution_count": 6,
   "id": "14b89079",
   "metadata": {
    "execution": {
     "iopub.execute_input": "2025-05-30T07:49:55.465659Z",
     "iopub.status.busy": "2025-05-30T07:49:55.465478Z",
     "iopub.status.idle": "2025-05-30T07:49:55.681285Z",
     "shell.execute_reply": "2025-05-30T07:49:55.680529Z"
    },
    "papermill": {
     "duration": 0.221311,
     "end_time": "2025-05-30T07:49:55.682592",
     "exception": false,
     "start_time": "2025-05-30T07:49:55.461281",
     "status": "completed"
    },
    "tags": []
   },
   "outputs": [
    {
     "data": {
      "text/html": [
       "<div>\n",
       "<style scoped>\n",
       "    .dataframe tbody tr th:only-of-type {\n",
       "        vertical-align: middle;\n",
       "    }\n",
       "\n",
       "    .dataframe tbody tr th {\n",
       "        vertical-align: top;\n",
       "    }\n",
       "\n",
       "    .dataframe thead th {\n",
       "        text-align: right;\n",
       "    }\n",
       "</style>\n",
       "<table border=\"1\" class=\"dataframe\">\n",
       "  <thead>\n",
       "    <tr style=\"text-align: right;\">\n",
       "      <th></th>\n",
       "      <th>Age</th>\n",
       "      <th>Height</th>\n",
       "      <th>Weight</th>\n",
       "      <th>Duration</th>\n",
       "      <th>Heart_Rate</th>\n",
       "      <th>Body_Temp</th>\n",
       "      <th>Calories</th>\n",
       "    </tr>\n",
       "  </thead>\n",
       "  <tbody>\n",
       "    <tr>\n",
       "      <th>count</th>\n",
       "      <td>765000.000000</td>\n",
       "      <td>765000.000000</td>\n",
       "      <td>765000.000000</td>\n",
       "      <td>765000.000000</td>\n",
       "      <td>765000.000000</td>\n",
       "      <td>765000.000000</td>\n",
       "      <td>765000.000000</td>\n",
       "    </tr>\n",
       "    <tr>\n",
       "      <th>mean</th>\n",
       "      <td>41.447255</td>\n",
       "      <td>174.693126</td>\n",
       "      <td>75.142162</td>\n",
       "      <td>15.423163</td>\n",
       "      <td>95.484672</td>\n",
       "      <td>40.036041</td>\n",
       "      <td>88.307424</td>\n",
       "    </tr>\n",
       "    <tr>\n",
       "      <th>std</th>\n",
       "      <td>15.213677</td>\n",
       "      <td>12.854173</td>\n",
       "      <td>14.004122</td>\n",
       "      <td>8.353421</td>\n",
       "      <td>9.452476</td>\n",
       "      <td>0.779863</td>\n",
       "      <td>62.396760</td>\n",
       "    </tr>\n",
       "    <tr>\n",
       "      <th>min</th>\n",
       "      <td>20.000000</td>\n",
       "      <td>123.000000</td>\n",
       "      <td>36.000000</td>\n",
       "      <td>1.000000</td>\n",
       "      <td>67.000000</td>\n",
       "      <td>37.100000</td>\n",
       "      <td>1.000000</td>\n",
       "    </tr>\n",
       "    <tr>\n",
       "      <th>25%</th>\n",
       "      <td>28.000000</td>\n",
       "      <td>164.000000</td>\n",
       "      <td>63.000000</td>\n",
       "      <td>8.000000</td>\n",
       "      <td>88.000000</td>\n",
       "      <td>39.600000</td>\n",
       "      <td>34.000000</td>\n",
       "    </tr>\n",
       "    <tr>\n",
       "      <th>50%</th>\n",
       "      <td>40.000000</td>\n",
       "      <td>174.000000</td>\n",
       "      <td>74.000000</td>\n",
       "      <td>15.000000</td>\n",
       "      <td>95.000000</td>\n",
       "      <td>40.300000</td>\n",
       "      <td>77.000000</td>\n",
       "    </tr>\n",
       "    <tr>\n",
       "      <th>75%</th>\n",
       "      <td>52.000000</td>\n",
       "      <td>185.000000</td>\n",
       "      <td>87.000000</td>\n",
       "      <td>23.000000</td>\n",
       "      <td>103.000000</td>\n",
       "      <td>40.700000</td>\n",
       "      <td>136.000000</td>\n",
       "    </tr>\n",
       "    <tr>\n",
       "      <th>max</th>\n",
       "      <td>79.000000</td>\n",
       "      <td>222.000000</td>\n",
       "      <td>132.000000</td>\n",
       "      <td>30.000000</td>\n",
       "      <td>128.000000</td>\n",
       "      <td>41.500000</td>\n",
       "      <td>314.000000</td>\n",
       "    </tr>\n",
       "  </tbody>\n",
       "</table>\n",
       "</div>"
      ],
      "text/plain": [
       "                 Age         Height         Weight       Duration  \\\n",
       "count  765000.000000  765000.000000  765000.000000  765000.000000   \n",
       "mean       41.447255     174.693126      75.142162      15.423163   \n",
       "std        15.213677      12.854173      14.004122       8.353421   \n",
       "min        20.000000     123.000000      36.000000       1.000000   \n",
       "25%        28.000000     164.000000      63.000000       8.000000   \n",
       "50%        40.000000     174.000000      74.000000      15.000000   \n",
       "75%        52.000000     185.000000      87.000000      23.000000   \n",
       "max        79.000000     222.000000     132.000000      30.000000   \n",
       "\n",
       "          Heart_Rate      Body_Temp       Calories  \n",
       "count  765000.000000  765000.000000  765000.000000  \n",
       "mean       95.484672      40.036041      88.307424  \n",
       "std         9.452476       0.779863      62.396760  \n",
       "min        67.000000      37.100000       1.000000  \n",
       "25%        88.000000      39.600000      34.000000  \n",
       "50%        95.000000      40.300000      77.000000  \n",
       "75%       103.000000      40.700000     136.000000  \n",
       "max       128.000000      41.500000     314.000000  "
      ]
     },
     "execution_count": 6,
     "metadata": {},
     "output_type": "execute_result"
    }
   ],
   "source": [
    "train.describe()"
   ]
  },
  {
   "cell_type": "code",
   "execution_count": 7,
   "id": "19f24de3",
   "metadata": {
    "execution": {
     "iopub.execute_input": "2025-05-30T07:49:55.692041Z",
     "iopub.status.busy": "2025-05-30T07:49:55.691827Z",
     "iopub.status.idle": "2025-05-30T07:49:55.743129Z",
     "shell.execute_reply": "2025-05-30T07:49:55.742559Z"
    },
    "papermill": {
     "duration": 0.057123,
     "end_time": "2025-05-30T07:49:55.744148",
     "exception": false,
     "start_time": "2025-05-30T07:49:55.687025",
     "status": "completed"
    },
    "tags": []
   },
   "outputs": [
    {
     "data": {
      "text/plain": [
       "Sex           0\n",
       "Age           0\n",
       "Height        0\n",
       "Weight        0\n",
       "Duration      0\n",
       "Heart_Rate    0\n",
       "Body_Temp     0\n",
       "Calories      0\n",
       "dtype: int64"
      ]
     },
     "execution_count": 7,
     "metadata": {},
     "output_type": "execute_result"
    }
   ],
   "source": [
    "train.isnull().sum()"
   ]
  },
  {
   "cell_type": "code",
   "execution_count": 8,
   "id": "275df33b",
   "metadata": {
    "execution": {
     "iopub.execute_input": "2025-05-30T07:49:55.753111Z",
     "iopub.status.busy": "2025-05-30T07:49:55.752526Z",
     "iopub.status.idle": "2025-05-30T07:49:55.812064Z",
     "shell.execute_reply": "2025-05-30T07:49:55.810957Z"
    },
    "papermill": {
     "duration": 0.065158,
     "end_time": "2025-05-30T07:49:55.813287",
     "exception": false,
     "start_time": "2025-05-30T07:49:55.748129",
     "status": "completed"
    },
    "tags": []
   },
   "outputs": [
    {
     "name": "stdout",
     "output_type": "stream",
     "text": [
      "<class 'pandas.core.frame.DataFrame'>\n",
      "RangeIndex: 765000 entries, 0 to 764999\n",
      "Data columns (total 8 columns):\n",
      " #   Column      Non-Null Count   Dtype  \n",
      "---  ------      --------------   -----  \n",
      " 0   Sex         765000 non-null  object \n",
      " 1   Age         765000 non-null  int64  \n",
      " 2   Height      765000 non-null  float64\n",
      " 3   Weight      765000 non-null  float64\n",
      " 4   Duration    765000 non-null  float64\n",
      " 5   Heart_Rate  765000 non-null  float64\n",
      " 6   Body_Temp   765000 non-null  float64\n",
      " 7   Calories    765000 non-null  float64\n",
      "dtypes: float64(6), int64(1), object(1)\n",
      "memory usage: 46.7+ MB\n"
     ]
    }
   ],
   "source": [
    "train.info()"
   ]
  },
  {
   "cell_type": "markdown",
   "id": "d7bbcf96",
   "metadata": {
    "papermill": {
     "duration": 0.004369,
     "end_time": "2025-05-30T07:49:55.822349",
     "exception": false,
     "start_time": "2025-05-30T07:49:55.817980",
     "status": "completed"
    },
    "tags": []
   },
   "source": [
    "# Data Preprocessing"
   ]
  },
  {
   "cell_type": "markdown",
   "id": "01fa193a",
   "metadata": {
    "papermill": {
     "duration": 0.004115,
     "end_time": "2025-05-30T07:49:55.830637",
     "exception": false,
     "start_time": "2025-05-30T07:49:55.826522",
     "status": "completed"
    },
    "tags": []
   },
   "source": [
    "## Reducing memory usage"
   ]
  },
  {
   "cell_type": "code",
   "execution_count": 9,
   "id": "72df35d9",
   "metadata": {
    "execution": {
     "iopub.execute_input": "2025-05-30T07:49:55.839323Z",
     "iopub.status.busy": "2025-05-30T07:49:55.839122Z",
     "iopub.status.idle": "2025-05-30T07:49:55.843627Z",
     "shell.execute_reply": "2025-05-30T07:49:55.843158Z"
    },
    "papermill": {
     "duration": 0.010232,
     "end_time": "2025-05-30T07:49:55.844817",
     "exception": false,
     "start_time": "2025-05-30T07:49:55.834585",
     "status": "completed"
    },
    "tags": []
   },
   "outputs": [],
   "source": [
    "train['Age'] = train['Age'].astype('int8')\n",
    "test['Age'] = test['Age'].astype('int8')"
   ]
  },
  {
   "cell_type": "code",
   "execution_count": 10,
   "id": "cdfe61fd",
   "metadata": {
    "execution": {
     "iopub.execute_input": "2025-05-30T07:49:55.853624Z",
     "iopub.status.busy": "2025-05-30T07:49:55.853160Z",
     "iopub.status.idle": "2025-05-30T07:49:55.964453Z",
     "shell.execute_reply": "2025-05-30T07:49:55.963879Z"
    },
    "papermill": {
     "duration": 0.117393,
     "end_time": "2025-05-30T07:49:55.965985",
     "exception": false,
     "start_time": "2025-05-30T07:49:55.848592",
     "status": "completed"
    },
    "tags": []
   },
   "outputs": [],
   "source": [
    "num_cols = test.select_dtypes(include='float64').columns\n",
    "for col in num_cols:\n",
    "    train[num_cols] = train[num_cols].astype('float32')\n",
    "    test[num_cols] = test[num_cols].astype('float32')"
   ]
  },
  {
   "cell_type": "code",
   "execution_count": 11,
   "id": "cc1cdad0",
   "metadata": {
    "execution": {
     "iopub.execute_input": "2025-05-30T07:49:55.975357Z",
     "iopub.status.busy": "2025-05-30T07:49:55.974766Z",
     "iopub.status.idle": "2025-05-30T07:49:56.026743Z",
     "shell.execute_reply": "2025-05-30T07:49:56.025933Z"
    },
    "papermill": {
     "duration": 0.057806,
     "end_time": "2025-05-30T07:49:56.027958",
     "exception": false,
     "start_time": "2025-05-30T07:49:55.970152",
     "status": "completed"
    },
    "tags": []
   },
   "outputs": [
    {
     "name": "stdout",
     "output_type": "stream",
     "text": [
      "<class 'pandas.core.frame.DataFrame'>\n",
      "RangeIndex: 765000 entries, 0 to 764999\n",
      "Data columns (total 8 columns):\n",
      " #   Column      Non-Null Count   Dtype  \n",
      "---  ------      --------------   -----  \n",
      " 0   Sex         765000 non-null  object \n",
      " 1   Age         765000 non-null  int8   \n",
      " 2   Height      765000 non-null  float32\n",
      " 3   Weight      765000 non-null  float32\n",
      " 4   Duration    765000 non-null  float32\n",
      " 5   Heart_Rate  765000 non-null  float32\n",
      " 6   Body_Temp   765000 non-null  float32\n",
      " 7   Calories    765000 non-null  float64\n",
      "dtypes: float32(5), float64(1), int8(1), object(1)\n",
      "memory usage: 27.0+ MB\n"
     ]
    }
   ],
   "source": [
    "train.info()"
   ]
  },
  {
   "cell_type": "markdown",
   "id": "d40b3829",
   "metadata": {
    "papermill": {
     "duration": 0.004153,
     "end_time": "2025-05-30T07:49:56.036314",
     "exception": false,
     "start_time": "2025-05-30T07:49:56.032161",
     "status": "completed"
    },
    "tags": []
   },
   "source": [
    "# Feature Understanding via Data Visualization"
   ]
  },
  {
   "cell_type": "code",
   "execution_count": 12,
   "id": "5b75127d",
   "metadata": {
    "execution": {
     "iopub.execute_input": "2025-05-30T07:49:56.045807Z",
     "iopub.status.busy": "2025-05-30T07:49:56.045029Z",
     "iopub.status.idle": "2025-05-30T07:49:56.098907Z",
     "shell.execute_reply": "2025-05-30T07:49:56.098055Z"
    },
    "papermill": {
     "duration": 0.059738,
     "end_time": "2025-05-30T07:49:56.100238",
     "exception": false,
     "start_time": "2025-05-30T07:49:56.040500",
     "status": "completed"
    },
    "tags": []
   },
   "outputs": [],
   "source": [
    "mapping = {'male': 1, 'female': 0}\n",
    "\n",
    "train['Sex'] = train['Sex'].map(mapping).astype('int8')\n",
    "test['Sex'] = test['Sex'].map(mapping).astype('int8')"
   ]
  },
  {
   "cell_type": "code",
   "execution_count": 13,
   "id": "e0c56177",
   "metadata": {
    "execution": {
     "iopub.execute_input": "2025-05-30T07:49:56.109522Z",
     "iopub.status.busy": "2025-05-30T07:49:56.109119Z",
     "iopub.status.idle": "2025-05-30T07:49:56.139406Z",
     "shell.execute_reply": "2025-05-30T07:49:56.138739Z"
    },
    "papermill": {
     "duration": 0.036521,
     "end_time": "2025-05-30T07:49:56.140887",
     "exception": false,
     "start_time": "2025-05-30T07:49:56.104366",
     "status": "completed"
    },
    "tags": []
   },
   "outputs": [],
   "source": [
    "X = train.copy()\n",
    "y = X.pop('Calories')\n",
    "y = np.log1p(y)\n",
    "X_test = test.copy()"
   ]
  },
  {
   "cell_type": "code",
   "execution_count": 14,
   "id": "a476b5f3",
   "metadata": {
    "execution": {
     "iopub.execute_input": "2025-05-30T07:49:56.151219Z",
     "iopub.status.busy": "2025-05-30T07:49:56.150903Z",
     "iopub.status.idle": "2025-05-30T07:49:56.530357Z",
     "shell.execute_reply": "2025-05-30T07:49:56.529739Z"
    },
    "papermill": {
     "duration": 0.385957,
     "end_time": "2025-05-30T07:49:56.531632",
     "exception": false,
     "start_time": "2025-05-30T07:49:56.145675",
     "status": "completed"
    },
    "tags": []
   },
   "outputs": [],
   "source": [
    "from sklearn.model_selection import KFold, train_test_split\n",
    "from sklearn.metrics import mean_squared_log_error\n",
    "from sklearn.preprocessing import StandardScaler, MinMaxScaler\n",
    "import optuna\n",
    "\n",
    "n_folds = 5\n",
    "kf = KFold(n_splits=n_folds, shuffle=True, random_state=100)\n",
    "\n",
    "oof_dnn = np.zeros(len(y))\n",
    "test_dnn = np.zeros(len(X_test))"
   ]
  },
  {
   "cell_type": "code",
   "execution_count": 15,
   "id": "350a8004",
   "metadata": {
    "execution": {
     "iopub.execute_input": "2025-05-30T07:49:56.541134Z",
     "iopub.status.busy": "2025-05-30T07:49:56.540899Z",
     "iopub.status.idle": "2025-05-30T07:50:08.673451Z",
     "shell.execute_reply": "2025-05-30T07:50:08.672866Z"
    },
    "papermill": {
     "duration": 12.138758,
     "end_time": "2025-05-30T07:50:08.674811",
     "exception": false,
     "start_time": "2025-05-30T07:49:56.536053",
     "status": "completed"
    },
    "tags": []
   },
   "outputs": [
    {
     "name": "stderr",
     "output_type": "stream",
     "text": [
      "2025-05-30 07:49:57.951744: E external/local_xla/xla/stream_executor/cuda/cuda_fft.cc:477] Unable to register cuFFT factory: Attempting to register factory for plugin cuFFT when one has already been registered\n",
      "WARNING: All log messages before absl::InitializeLog() is called are written to STDERR\n",
      "E0000 00:00:1748591398.132832      19 cuda_dnn.cc:8310] Unable to register cuDNN factory: Attempting to register factory for plugin cuDNN when one has already been registered\n",
      "E0000 00:00:1748591398.187986      19 cuda_blas.cc:1418] Unable to register cuBLAS factory: Attempting to register factory for plugin cuBLAS when one has already been registered\n"
     ]
    }
   ],
   "source": [
    "import tensorflow as tf\n",
    "from tensorflow.keras.models import Sequential, Model\n",
    "from tensorflow.keras.layers import Dense, Input, BatchNormalization, Dropout, GaussianDropout\n",
    "from tensorflow.keras.regularizers import l2\n",
    "from tensorflow.keras.callbacks import EarlyStopping\n",
    "from tensorflow.keras.optimizers import Adam, SGD, Nadam\n",
    "from tensorflow.keras.metrics import RootMeanSquaredError\n",
    "from tensorflow.keras.callbacks import ReduceLROnPlateau, ModelCheckpoint, EarlyStopping\n"
   ]
  },
  {
   "cell_type": "code",
   "execution_count": 16,
   "id": "774f2416",
   "metadata": {
    "execution": {
     "iopub.execute_input": "2025-05-30T07:50:08.684179Z",
     "iopub.status.busy": "2025-05-30T07:50:08.683730Z",
     "iopub.status.idle": "2025-05-30T07:50:08.688493Z",
     "shell.execute_reply": "2025-05-30T07:50:08.687825Z"
    },
    "papermill": {
     "duration": 0.010458,
     "end_time": "2025-05-30T07:50:08.689532",
     "exception": false,
     "start_time": "2025-05-30T07:50:08.679074",
     "status": "completed"
    },
    "tags": []
   },
   "outputs": [],
   "source": [
    "def build_model():\n",
    "    return Sequential([\n",
    "        Input(shape=(input_shape)),\n",
    "        BatchNormalization(),\n",
    "        \n",
    "        Dense(450, activation='relu'),\n",
    "        BatchNormalization(),\n",
    "        Dropout(rate=0.25),\n",
    "        \n",
    "        Dense(250, activation='relu'),\n",
    "        BatchNormalization(),\n",
    "        Dropout(rate=0.1),\n",
    "        \n",
    "        Dense(125, activation='relu'),\n",
    "        BatchNormalization(),\n",
    "        Dropout(rate=0.1),\n",
    "        \n",
    "        Dense(300, activation='relu'),\n",
    "        BatchNormalization(),\n",
    "        Dropout(rate=0.05),\n",
    "        \n",
    "        Dense(1,activation='linear'),\n",
    "    ])"
   ]
  },
  {
   "cell_type": "code",
   "execution_count": 17,
   "id": "3d441ee8",
   "metadata": {
    "execution": {
     "iopub.execute_input": "2025-05-30T07:50:08.698575Z",
     "iopub.status.busy": "2025-05-30T07:50:08.697917Z",
     "iopub.status.idle": "2025-05-30T07:50:08.702231Z",
     "shell.execute_reply": "2025-05-30T07:50:08.701678Z"
    },
    "papermill": {
     "duration": 0.009718,
     "end_time": "2025-05-30T07:50:08.703293",
     "exception": false,
     "start_time": "2025-05-30T07:50:08.693575",
     "status": "completed"
    },
    "tags": []
   },
   "outputs": [],
   "source": [
    "def make_callbacks():\n",
    "    lr_callback = ReduceLROnPlateau(\n",
    "            monitor='val_root_mean_squared_error',     \n",
    "            factor=0.5,              \n",
    "            patience=4,              \n",
    "            verbose=1,               \n",
    "            min_lr=1e-4            \n",
    "        )\n",
    "    \n",
    "    early_stop = EarlyStopping(\n",
    "        patience=20, \n",
    "        monitor='val_root_mean_squared_error', \n",
    "        restore_best_weights=True, \n",
    "        mode='min'\n",
    "    )\n",
    "\n",
    "    checkpoint = ModelCheckpoint(\n",
    "        filepath=\"/kaggle/working/best_model.keras\",\n",
    "        monitor='val_root_mean_squared_error',\n",
    "        save_best_only=True,\n",
    "        mode='min',\n",
    "        verbose=0\n",
    "    )\n",
    "    \n",
    "    return [lr_callback, early_stop, checkpoint]"
   ]
  },
  {
   "cell_type": "code",
   "execution_count": 18,
   "id": "99cc6db4",
   "metadata": {
    "execution": {
     "iopub.execute_input": "2025-05-30T07:50:08.723447Z",
     "iopub.status.busy": "2025-05-30T07:50:08.722249Z",
     "iopub.status.idle": "2025-05-30T08:06:07.775652Z",
     "shell.execute_reply": "2025-05-30T08:06:07.774832Z"
    },
    "papermill": {
     "duration": 959.060581,
     "end_time": "2025-05-30T08:06:07.776931",
     "exception": false,
     "start_time": "2025-05-30T07:50:08.716350",
     "status": "completed"
    },
    "tags": []
   },
   "outputs": [
    {
     "name": "stderr",
     "output_type": "stream",
     "text": [
      "I0000 00:00:1748591410.121258      19 gpu_device.cc:2022] Created device /job:localhost/replica:0/task:0/device:GPU:0 with 13942 MB memory:  -> device: 0, name: Tesla T4, pci bus id: 0000:00:04.0, compute capability: 7.5\n",
      "I0000 00:00:1748591410.121921      19 gpu_device.cc:2022] Created device /job:localhost/replica:0/task:0/device:GPU:1 with 13942 MB memory:  -> device: 1, name: Tesla T4, pci bus id: 0000:00:05.0, compute capability: 7.5\n"
     ]
    },
    {
     "name": "stdout",
     "output_type": "stream",
     "text": [
      "Epoch 1/30\n"
     ]
    },
    {
     "name": "stderr",
     "output_type": "stream",
     "text": [
      "WARNING: All log messages before absl::InitializeLog() is called are written to STDERR\n",
      "I0000 00:00:1748591415.744380      63 service.cc:148] XLA service 0x7ab108009900 initialized for platform CUDA (this does not guarantee that XLA will be used). Devices:\n",
      "I0000 00:00:1748591415.744874      63 service.cc:156]   StreamExecutor device (0): Tesla T4, Compute Capability 7.5\n",
      "I0000 00:00:1748591415.744919      63 service.cc:156]   StreamExecutor device (1): Tesla T4, Compute Capability 7.5\n",
      "I0000 00:00:1748591416.198578      63 cuda_dnn.cc:529] Loaded cuDNN version 90300\n",
      "I0000 00:00:1748591419.703165      63 device_compiler.h:188] Compiled cluster using XLA!  This line is logged at most once for the lifetime of the process.\n"
     ]
    },
    {
     "name": "stdout",
     "output_type": "stream",
     "text": [
      "2448/2448 - 15s - 6ms/step - loss: 0.9134 - root_mean_squared_error: 0.9557 - val_loss: 0.0113 - val_root_mean_squared_error: 0.1062 - learning_rate: 5.0000e-04\n",
      "Epoch 2/30\n",
      "2448/2448 - 6s - 3ms/step - loss: 0.0945 - root_mean_squared_error: 0.3074 - val_loss: 0.0093 - val_root_mean_squared_error: 0.0965 - learning_rate: 5.0000e-04\n",
      "Epoch 3/30\n",
      "2448/2448 - 6s - 3ms/step - loss: 0.0499 - root_mean_squared_error: 0.2234 - val_loss: 0.0076 - val_root_mean_squared_error: 0.0874 - learning_rate: 5.0000e-04\n",
      "Epoch 4/30\n",
      "2448/2448 - 6s - 2ms/step - loss: 0.0346 - root_mean_squared_error: 0.1859 - val_loss: 0.0052 - val_root_mean_squared_error: 0.0723 - learning_rate: 5.0000e-04\n",
      "Epoch 5/30\n",
      "2448/2448 - 6s - 2ms/step - loss: 0.0270 - root_mean_squared_error: 0.1642 - val_loss: 0.0061 - val_root_mean_squared_error: 0.0778 - learning_rate: 5.0000e-04\n",
      "Epoch 6/30\n",
      "2448/2448 - 6s - 2ms/step - loss: 0.0236 - root_mean_squared_error: 0.1535 - val_loss: 0.0057 - val_root_mean_squared_error: 0.0758 - learning_rate: 5.0000e-04\n",
      "Epoch 7/30\n",
      "2448/2448 - 6s - 2ms/step - loss: 0.0214 - root_mean_squared_error: 0.1464 - val_loss: 0.0066 - val_root_mean_squared_error: 0.0813 - learning_rate: 5.0000e-04\n",
      "Epoch 8/30\n",
      "\n",
      "Epoch 8: ReduceLROnPlateau reducing learning rate to 0.0002500000118743628.\n",
      "2448/2448 - 6s - 3ms/step - loss: 0.0198 - root_mean_squared_error: 0.1406 - val_loss: 0.0085 - val_root_mean_squared_error: 0.0924 - learning_rate: 5.0000e-04\n",
      "Epoch 9/30\n",
      "2448/2448 - 6s - 2ms/step - loss: 0.0175 - root_mean_squared_error: 0.1324 - val_loss: 0.0045 - val_root_mean_squared_error: 0.0671 - learning_rate: 2.5000e-04\n",
      "Epoch 10/30\n",
      "2448/2448 - 6s - 2ms/step - loss: 0.0166 - root_mean_squared_error: 0.1287 - val_loss: 0.0039 - val_root_mean_squared_error: 0.0628 - learning_rate: 2.5000e-04\n",
      "Epoch 11/30\n",
      "2448/2448 - 6s - 2ms/step - loss: 0.0164 - root_mean_squared_error: 0.1282 - val_loss: 0.0061 - val_root_mean_squared_error: 0.0778 - learning_rate: 2.5000e-04\n",
      "Epoch 12/30\n",
      "2448/2448 - 6s - 2ms/step - loss: 0.0158 - root_mean_squared_error: 0.1258 - val_loss: 0.0038 - val_root_mean_squared_error: 0.0619 - learning_rate: 2.5000e-04\n",
      "Epoch 13/30\n",
      "2448/2448 - 6s - 2ms/step - loss: 0.0153 - root_mean_squared_error: 0.1238 - val_loss: 0.0050 - val_root_mean_squared_error: 0.0704 - learning_rate: 2.5000e-04\n",
      "Epoch 14/30\n",
      "2448/2448 - 6s - 2ms/step - loss: 0.0151 - root_mean_squared_error: 0.1230 - val_loss: 0.0046 - val_root_mean_squared_error: 0.0679 - learning_rate: 2.5000e-04\n",
      "Epoch 15/30\n",
      "2448/2448 - 6s - 2ms/step - loss: 0.0147 - root_mean_squared_error: 0.1214 - val_loss: 0.0058 - val_root_mean_squared_error: 0.0759 - learning_rate: 2.5000e-04\n",
      "Epoch 16/30\n",
      "\n",
      "Epoch 16: ReduceLROnPlateau reducing learning rate to 0.0001250000059371814.\n",
      "2448/2448 - 6s - 2ms/step - loss: 0.0144 - root_mean_squared_error: 0.1198 - val_loss: 0.0038 - val_root_mean_squared_error: 0.0620 - learning_rate: 2.5000e-04\n",
      "Epoch 17/30\n",
      "2448/2448 - 6s - 2ms/step - loss: 0.0137 - root_mean_squared_error: 0.1170 - val_loss: 0.0054 - val_root_mean_squared_error: 0.0734 - learning_rate: 1.2500e-04\n",
      "Epoch 18/30\n",
      "2448/2448 - 6s - 2ms/step - loss: 0.0133 - root_mean_squared_error: 0.1155 - val_loss: 0.0051 - val_root_mean_squared_error: 0.0713 - learning_rate: 1.2500e-04\n",
      "Epoch 19/30\n",
      "2448/2448 - 6s - 2ms/step - loss: 0.0133 - root_mean_squared_error: 0.1153 - val_loss: 0.0041 - val_root_mean_squared_error: 0.0642 - learning_rate: 1.2500e-04\n",
      "Epoch 20/30\n",
      "\n",
      "Epoch 20: ReduceLROnPlateau reducing learning rate to 0.0001.\n",
      "2448/2448 - 6s - 2ms/step - loss: 0.0133 - root_mean_squared_error: 0.1153 - val_loss: 0.0040 - val_root_mean_squared_error: 0.0636 - learning_rate: 1.2500e-04\n",
      "Epoch 21/30\n",
      "2448/2448 - 6s - 2ms/step - loss: 0.0130 - root_mean_squared_error: 0.1139 - val_loss: 0.0050 - val_root_mean_squared_error: 0.0705 - learning_rate: 1.0000e-04\n",
      "Epoch 22/30\n",
      "2448/2448 - 6s - 2ms/step - loss: 0.0131 - root_mean_squared_error: 0.1144 - val_loss: 0.0046 - val_root_mean_squared_error: 0.0679 - learning_rate: 1.0000e-04\n",
      "Epoch 23/30\n",
      "2448/2448 - 6s - 2ms/step - loss: 0.0127 - root_mean_squared_error: 0.1128 - val_loss: 0.0051 - val_root_mean_squared_error: 0.0712 - learning_rate: 1.0000e-04\n",
      "Epoch 24/30\n",
      "2448/2448 - 6s - 2ms/step - loss: 0.0130 - root_mean_squared_error: 0.1142 - val_loss: 0.0058 - val_root_mean_squared_error: 0.0765 - learning_rate: 1.0000e-04\n",
      "Epoch 25/30\n",
      "2448/2448 - 6s - 2ms/step - loss: 0.0127 - root_mean_squared_error: 0.1126 - val_loss: 0.0045 - val_root_mean_squared_error: 0.0670 - learning_rate: 1.0000e-04\n",
      "Epoch 26/30\n",
      "2448/2448 - 6s - 2ms/step - loss: 0.0127 - root_mean_squared_error: 0.1125 - val_loss: 0.0067 - val_root_mean_squared_error: 0.0817 - learning_rate: 1.0000e-04\n",
      "Epoch 27/30\n",
      "2448/2448 - 6s - 2ms/step - loss: 0.0127 - root_mean_squared_error: 0.1127 - val_loss: 0.0051 - val_root_mean_squared_error: 0.0716 - learning_rate: 1.0000e-04\n",
      "Epoch 28/30\n",
      "2448/2448 - 6s - 2ms/step - loss: 0.0127 - root_mean_squared_error: 0.1127 - val_loss: 0.0043 - val_root_mean_squared_error: 0.0659 - learning_rate: 1.0000e-04\n",
      "Epoch 29/30\n",
      "2448/2448 - 6s - 3ms/step - loss: 0.0127 - root_mean_squared_error: 0.1129 - val_loss: 0.0046 - val_root_mean_squared_error: 0.0678 - learning_rate: 1.0000e-04\n",
      "Epoch 30/30\n",
      "2448/2448 - 6s - 2ms/step - loss: 0.0124 - root_mean_squared_error: 0.1113 - val_loss: 0.0052 - val_root_mean_squared_error: 0.0722 - learning_rate: 1.0000e-04\n",
      "598/598 - 2s - 3ms/step\n",
      "977/977 - 1s - 2ms/step\n",
      "Fold: 1 RMSLE: 0.061912\n",
      "Epoch 1/30\n",
      "2448/2448 - 14s - 6ms/step - loss: 0.9148 - root_mean_squared_error: 0.9564 - val_loss: 0.0096 - val_root_mean_squared_error: 0.0980 - learning_rate: 5.0000e-04\n",
      "Epoch 2/30\n",
      "2448/2448 - 6s - 3ms/step - loss: 0.0941 - root_mean_squared_error: 0.3067 - val_loss: 0.0132 - val_root_mean_squared_error: 0.1150 - learning_rate: 5.0000e-04\n",
      "Epoch 3/30\n",
      "2448/2448 - 6s - 2ms/step - loss: 0.0496 - root_mean_squared_error: 0.2226 - val_loss: 0.0066 - val_root_mean_squared_error: 0.0812 - learning_rate: 5.0000e-04\n",
      "Epoch 4/30\n",
      "2448/2448 - 6s - 3ms/step - loss: 0.0343 - root_mean_squared_error: 0.1853 - val_loss: 0.0064 - val_root_mean_squared_error: 0.0797 - learning_rate: 5.0000e-04\n",
      "Epoch 5/30\n",
      "2448/2448 - 6s - 3ms/step - loss: 0.0273 - root_mean_squared_error: 0.1654 - val_loss: 0.0055 - val_root_mean_squared_error: 0.0740 - learning_rate: 5.0000e-04\n",
      "Epoch 6/30\n",
      "2448/2448 - 6s - 3ms/step - loss: 0.0237 - root_mean_squared_error: 0.1539 - val_loss: 0.0055 - val_root_mean_squared_error: 0.0739 - learning_rate: 5.0000e-04\n",
      "Epoch 7/30\n",
      "2448/2448 - 6s - 3ms/step - loss: 0.0215 - root_mean_squared_error: 0.1466 - val_loss: 0.0108 - val_root_mean_squared_error: 0.1039 - learning_rate: 5.0000e-04\n",
      "Epoch 8/30\n",
      "2448/2448 - 6s - 2ms/step - loss: 0.0196 - root_mean_squared_error: 0.1400 - val_loss: 0.0043 - val_root_mean_squared_error: 0.0658 - learning_rate: 5.0000e-04\n",
      "Epoch 9/30\n",
      "2448/2448 - 6s - 2ms/step - loss: 0.0183 - root_mean_squared_error: 0.1354 - val_loss: 0.0064 - val_root_mean_squared_error: 0.0798 - learning_rate: 5.0000e-04\n",
      "Epoch 10/30\n",
      "2448/2448 - 6s - 2ms/step - loss: 0.0174 - root_mean_squared_error: 0.1317 - val_loss: 0.0157 - val_root_mean_squared_error: 0.1252 - learning_rate: 5.0000e-04\n",
      "Epoch 11/30\n",
      "2448/2448 - 6s - 2ms/step - loss: 0.0166 - root_mean_squared_error: 0.1289 - val_loss: 0.0050 - val_root_mean_squared_error: 0.0704 - learning_rate: 5.0000e-04\n",
      "Epoch 12/30\n",
      "\n",
      "Epoch 12: ReduceLROnPlateau reducing learning rate to 0.0002500000118743628.\n",
      "2448/2448 - 6s - 2ms/step - loss: 0.0166 - root_mean_squared_error: 0.1290 - val_loss: 0.0044 - val_root_mean_squared_error: 0.0666 - learning_rate: 5.0000e-04\n",
      "Epoch 13/30\n",
      "2448/2448 - 6s - 2ms/step - loss: 0.0149 - root_mean_squared_error: 0.1221 - val_loss: 0.0078 - val_root_mean_squared_error: 0.0884 - learning_rate: 2.5000e-04\n",
      "Epoch 14/30\n",
      "2448/2448 - 6s - 2ms/step - loss: 0.0145 - root_mean_squared_error: 0.1206 - val_loss: 0.0099 - val_root_mean_squared_error: 0.0995 - learning_rate: 2.5000e-04\n",
      "Epoch 15/30\n",
      "2448/2448 - 6s - 2ms/step - loss: 0.0145 - root_mean_squared_error: 0.1203 - val_loss: 0.0050 - val_root_mean_squared_error: 0.0707 - learning_rate: 2.5000e-04\n",
      "Epoch 16/30\n",
      "\n",
      "Epoch 16: ReduceLROnPlateau reducing learning rate to 0.0001250000059371814.\n",
      "2448/2448 - 6s - 2ms/step - loss: 0.0139 - root_mean_squared_error: 0.1180 - val_loss: 0.0050 - val_root_mean_squared_error: 0.0707 - learning_rate: 2.5000e-04\n",
      "Epoch 17/30\n",
      "2448/2448 - 6s - 2ms/step - loss: 0.0135 - root_mean_squared_error: 0.1160 - val_loss: 0.0070 - val_root_mean_squared_error: 0.0834 - learning_rate: 1.2500e-04\n",
      "Epoch 18/30\n",
      "2448/2448 - 6s - 2ms/step - loss: 0.0129 - root_mean_squared_error: 0.1137 - val_loss: 0.0054 - val_root_mean_squared_error: 0.0732 - learning_rate: 1.2500e-04\n",
      "Epoch 19/30\n",
      "2448/2448 - 6s - 2ms/step - loss: 0.0132 - root_mean_squared_error: 0.1150 - val_loss: 0.0050 - val_root_mean_squared_error: 0.0704 - learning_rate: 1.2500e-04\n",
      "Epoch 20/30\n",
      "\n",
      "Epoch 20: ReduceLROnPlateau reducing learning rate to 0.0001.\n",
      "2448/2448 - 6s - 2ms/step - loss: 0.0129 - root_mean_squared_error: 0.1135 - val_loss: 0.0072 - val_root_mean_squared_error: 0.0848 - learning_rate: 1.2500e-04\n",
      "Epoch 21/30\n",
      "2448/2448 - 6s - 2ms/step - loss: 0.0128 - root_mean_squared_error: 0.1129 - val_loss: 0.0053 - val_root_mean_squared_error: 0.0731 - learning_rate: 1.0000e-04\n",
      "Epoch 22/30\n",
      "2448/2448 - 6s - 2ms/step - loss: 0.0126 - root_mean_squared_error: 0.1122 - val_loss: 0.0047 - val_root_mean_squared_error: 0.0687 - learning_rate: 1.0000e-04\n",
      "Epoch 23/30\n",
      "2448/2448 - 6s - 2ms/step - loss: 0.0126 - root_mean_squared_error: 0.1121 - val_loss: 0.0061 - val_root_mean_squared_error: 0.0778 - learning_rate: 1.0000e-04\n",
      "Epoch 24/30\n",
      "2448/2448 - 6s - 2ms/step - loss: 0.0125 - root_mean_squared_error: 0.1117 - val_loss: 0.0067 - val_root_mean_squared_error: 0.0817 - learning_rate: 1.0000e-04\n",
      "Epoch 25/30\n",
      "2448/2448 - 6s - 2ms/step - loss: 0.0123 - root_mean_squared_error: 0.1109 - val_loss: 0.0052 - val_root_mean_squared_error: 0.0724 - learning_rate: 1.0000e-04\n",
      "Epoch 26/30\n",
      "2448/2448 - 6s - 2ms/step - loss: 0.0123 - root_mean_squared_error: 0.1111 - val_loss: 0.0044 - val_root_mean_squared_error: 0.0662 - learning_rate: 1.0000e-04\n",
      "Epoch 27/30\n",
      "2448/2448 - 6s - 2ms/step - loss: 0.0121 - root_mean_squared_error: 0.1098 - val_loss: 0.0046 - val_root_mean_squared_error: 0.0675 - learning_rate: 1.0000e-04\n",
      "Epoch 28/30\n",
      "2448/2448 - 6s - 2ms/step - loss: 0.0124 - root_mean_squared_error: 0.1115 - val_loss: 0.0043 - val_root_mean_squared_error: 0.0657 - learning_rate: 1.0000e-04\n",
      "Epoch 29/30\n",
      "2448/2448 - 6s - 2ms/step - loss: 0.0122 - root_mean_squared_error: 0.1102 - val_loss: 0.0039 - val_root_mean_squared_error: 0.0626 - learning_rate: 1.0000e-04\n",
      "Epoch 30/30\n",
      "2448/2448 - 6s - 2ms/step - loss: 0.0123 - root_mean_squared_error: 0.1107 - val_loss: 0.0063 - val_root_mean_squared_error: 0.0796 - learning_rate: 1.0000e-04\n",
      "598/598 - 1s - 2ms/step\n",
      "977/977 - 1s - 1ms/step\n",
      "Fold: 2 RMSLE: 0.062626\n",
      "Epoch 1/30\n",
      "2448/2448 - 14s - 6ms/step - loss: 0.9193 - root_mean_squared_error: 0.9588 - val_loss: 0.0107 - val_root_mean_squared_error: 0.1032 - learning_rate: 5.0000e-04\n",
      "Epoch 2/30\n",
      "2448/2448 - 6s - 2ms/step - loss: 0.0959 - root_mean_squared_error: 0.3097 - val_loss: 0.0152 - val_root_mean_squared_error: 0.1231 - learning_rate: 5.0000e-04\n",
      "Epoch 3/30\n",
      "2448/2448 - 6s - 2ms/step - loss: 0.0499 - root_mean_squared_error: 0.2235 - val_loss: 0.0073 - val_root_mean_squared_error: 0.0853 - learning_rate: 5.0000e-04\n",
      "Epoch 4/30\n",
      "2448/2448 - 6s - 2ms/step - loss: 0.0339 - root_mean_squared_error: 0.1842 - val_loss: 0.0051 - val_root_mean_squared_error: 0.0714 - learning_rate: 5.0000e-04\n",
      "Epoch 5/30\n",
      "2448/2448 - 6s - 2ms/step - loss: 0.0272 - root_mean_squared_error: 0.1648 - val_loss: 0.0063 - val_root_mean_squared_error: 0.0795 - learning_rate: 5.0000e-04\n",
      "Epoch 6/30\n",
      "2448/2448 - 6s - 2ms/step - loss: 0.0235 - root_mean_squared_error: 0.1534 - val_loss: 0.0063 - val_root_mean_squared_error: 0.0796 - learning_rate: 5.0000e-04\n",
      "Epoch 7/30\n",
      "2448/2448 - 6s - 2ms/step - loss: 0.0214 - root_mean_squared_error: 0.1462 - val_loss: 0.0078 - val_root_mean_squared_error: 0.0881 - learning_rate: 5.0000e-04\n",
      "Epoch 8/30\n",
      "\n",
      "Epoch 8: ReduceLROnPlateau reducing learning rate to 0.0002500000118743628.\n",
      "2448/2448 - 6s - 2ms/step - loss: 0.0195 - root_mean_squared_error: 0.1397 - val_loss: 0.0058 - val_root_mean_squared_error: 0.0762 - learning_rate: 5.0000e-04\n",
      "Epoch 9/30\n",
      "2448/2448 - 6s - 2ms/step - loss: 0.0175 - root_mean_squared_error: 0.1323 - val_loss: 0.0050 - val_root_mean_squared_error: 0.0709 - learning_rate: 2.5000e-04\n",
      "Epoch 10/30\n",
      "2448/2448 - 6s - 2ms/step - loss: 0.0170 - root_mean_squared_error: 0.1304 - val_loss: 0.0060 - val_root_mean_squared_error: 0.0777 - learning_rate: 2.5000e-04\n",
      "Epoch 11/30\n",
      "2448/2448 - 6s - 2ms/step - loss: 0.0160 - root_mean_squared_error: 0.1267 - val_loss: 0.0054 - val_root_mean_squared_error: 0.0733 - learning_rate: 2.5000e-04\n",
      "Epoch 12/30\n",
      "2448/2448 - 6s - 2ms/step - loss: 0.0156 - root_mean_squared_error: 0.1251 - val_loss: 0.0044 - val_root_mean_squared_error: 0.0666 - learning_rate: 2.5000e-04\n",
      "Epoch 13/30\n",
      "2448/2448 - 6s - 2ms/step - loss: 0.0156 - root_mean_squared_error: 0.1248 - val_loss: 0.0056 - val_root_mean_squared_error: 0.0747 - learning_rate: 2.5000e-04\n",
      "Epoch 14/30\n",
      "2448/2448 - 6s - 2ms/step - loss: 0.0151 - root_mean_squared_error: 0.1229 - val_loss: 0.0041 - val_root_mean_squared_error: 0.0643 - learning_rate: 2.5000e-04\n",
      "Epoch 15/30\n",
      "2448/2448 - 6s - 2ms/step - loss: 0.0147 - root_mean_squared_error: 0.1213 - val_loss: 0.0041 - val_root_mean_squared_error: 0.0644 - learning_rate: 2.5000e-04\n",
      "Epoch 16/30\n",
      "2448/2448 - 6s - 2ms/step - loss: 0.0145 - root_mean_squared_error: 0.1202 - val_loss: 0.0040 - val_root_mean_squared_error: 0.0635 - learning_rate: 2.5000e-04\n",
      "Epoch 17/30\n",
      "2448/2448 - 6s - 2ms/step - loss: 0.0145 - root_mean_squared_error: 0.1202 - val_loss: 0.0048 - val_root_mean_squared_error: 0.0692 - learning_rate: 2.5000e-04\n",
      "Epoch 18/30\n",
      "2448/2448 - 6s - 2ms/step - loss: 0.0138 - root_mean_squared_error: 0.1177 - val_loss: 0.0065 - val_root_mean_squared_error: 0.0804 - learning_rate: 2.5000e-04\n",
      "Epoch 19/30\n",
      "2448/2448 - 6s - 2ms/step - loss: 0.0138 - root_mean_squared_error: 0.1175 - val_loss: 0.0041 - val_root_mean_squared_error: 0.0641 - learning_rate: 2.5000e-04\n",
      "Epoch 20/30\n",
      "\n",
      "Epoch 20: ReduceLROnPlateau reducing learning rate to 0.0001250000059371814.\n",
      "2448/2448 - 6s - 2ms/step - loss: 0.0137 - root_mean_squared_error: 0.1172 - val_loss: 0.0053 - val_root_mean_squared_error: 0.0726 - learning_rate: 2.5000e-04\n",
      "Epoch 21/30\n",
      "2448/2448 - 6s - 2ms/step - loss: 0.0130 - root_mean_squared_error: 0.1142 - val_loss: 0.0062 - val_root_mean_squared_error: 0.0785 - learning_rate: 1.2500e-04\n",
      "Epoch 22/30\n",
      "2448/2448 - 6s - 3ms/step - loss: 0.0128 - root_mean_squared_error: 0.1130 - val_loss: 0.0065 - val_root_mean_squared_error: 0.0804 - learning_rate: 1.2500e-04\n",
      "Epoch 23/30\n",
      "2448/2448 - 6s - 2ms/step - loss: 0.0127 - root_mean_squared_error: 0.1129 - val_loss: 0.0078 - val_root_mean_squared_error: 0.0883 - learning_rate: 1.2500e-04\n",
      "Epoch 24/30\n",
      "\n",
      "Epoch 24: ReduceLROnPlateau reducing learning rate to 0.0001.\n",
      "2448/2448 - 6s - 2ms/step - loss: 0.0128 - root_mean_squared_error: 0.1130 - val_loss: 0.0058 - val_root_mean_squared_error: 0.0761 - learning_rate: 1.2500e-04\n",
      "Epoch 25/30\n",
      "2448/2448 - 6s - 2ms/step - loss: 0.0124 - root_mean_squared_error: 0.1114 - val_loss: 0.0052 - val_root_mean_squared_error: 0.0718 - learning_rate: 1.0000e-04\n",
      "Epoch 26/30\n",
      "2448/2448 - 6s - 2ms/step - loss: 0.0122 - root_mean_squared_error: 0.1106 - val_loss: 0.0063 - val_root_mean_squared_error: 0.0791 - learning_rate: 1.0000e-04\n",
      "Epoch 27/30\n",
      "2448/2448 - 6s - 2ms/step - loss: 0.0126 - root_mean_squared_error: 0.1123 - val_loss: 0.0042 - val_root_mean_squared_error: 0.0649 - learning_rate: 1.0000e-04\n",
      "Epoch 28/30\n",
      "2448/2448 - 6s - 2ms/step - loss: 0.0122 - root_mean_squared_error: 0.1104 - val_loss: 0.0058 - val_root_mean_squared_error: 0.0763 - learning_rate: 1.0000e-04\n",
      "Epoch 29/30\n",
      "2448/2448 - 6s - 2ms/step - loss: 0.0122 - root_mean_squared_error: 0.1106 - val_loss: 0.0057 - val_root_mean_squared_error: 0.0757 - learning_rate: 1.0000e-04\n",
      "Epoch 30/30\n",
      "2448/2448 - 6s - 2ms/step - loss: 0.0122 - root_mean_squared_error: 0.1103 - val_loss: 0.0056 - val_root_mean_squared_error: 0.0745 - learning_rate: 1.0000e-04\n",
      "598/598 - 1s - 2ms/step\n",
      "977/977 - 1s - 1ms/step\n",
      "Fold: 3 RMSLE: 0.063462\n",
      "Epoch 1/30\n",
      "2448/2448 - 14s - 6ms/step - loss: 0.9203 - root_mean_squared_error: 0.9593 - val_loss: 0.0118 - val_root_mean_squared_error: 0.1088 - learning_rate: 5.0000e-04\n",
      "Epoch 2/30\n",
      "2448/2448 - 6s - 2ms/step - loss: 0.0927 - root_mean_squared_error: 0.3045 - val_loss: 0.0076 - val_root_mean_squared_error: 0.0873 - learning_rate: 5.0000e-04\n",
      "Epoch 3/30\n",
      "2448/2448 - 6s - 2ms/step - loss: 0.0495 - root_mean_squared_error: 0.2226 - val_loss: 0.0069 - val_root_mean_squared_error: 0.0830 - learning_rate: 5.0000e-04\n",
      "Epoch 4/30\n",
      "2448/2448 - 6s - 2ms/step - loss: 0.0336 - root_mean_squared_error: 0.1834 - val_loss: 0.0108 - val_root_mean_squared_error: 0.1039 - learning_rate: 5.0000e-04\n",
      "Epoch 5/30\n",
      "2448/2448 - 6s - 2ms/step - loss: 0.0268 - root_mean_squared_error: 0.1637 - val_loss: 0.0116 - val_root_mean_squared_error: 0.1075 - learning_rate: 5.0000e-04\n",
      "Epoch 6/30\n",
      "2448/2448 - 6s - 2ms/step - loss: 0.0233 - root_mean_squared_error: 0.1527 - val_loss: 0.0054 - val_root_mean_squared_error: 0.0733 - learning_rate: 5.0000e-04\n",
      "Epoch 7/30\n",
      "2448/2448 - 6s - 2ms/step - loss: 0.0212 - root_mean_squared_error: 0.1455 - val_loss: 0.0069 - val_root_mean_squared_error: 0.0829 - learning_rate: 5.0000e-04\n",
      "Epoch 8/30\n",
      "2448/2448 - 6s - 2ms/step - loss: 0.0193 - root_mean_squared_error: 0.1388 - val_loss: 0.0319 - val_root_mean_squared_error: 0.1787 - learning_rate: 5.0000e-04\n",
      "Epoch 9/30\n",
      "2448/2448 - 6s - 2ms/step - loss: 0.0183 - root_mean_squared_error: 0.1354 - val_loss: 0.0050 - val_root_mean_squared_error: 0.0709 - learning_rate: 5.0000e-04\n",
      "Epoch 10/30\n",
      "2448/2448 - 6s - 2ms/step - loss: 0.0175 - root_mean_squared_error: 0.1324 - val_loss: 0.0047 - val_root_mean_squared_error: 0.0683 - learning_rate: 5.0000e-04\n",
      "Epoch 11/30\n",
      "2448/2448 - 6s - 2ms/step - loss: 0.0167 - root_mean_squared_error: 0.1294 - val_loss: 0.0072 - val_root_mean_squared_error: 0.0850 - learning_rate: 5.0000e-04\n",
      "Epoch 12/30\n",
      "2448/2448 - 6s - 2ms/step - loss: 0.0160 - root_mean_squared_error: 0.1266 - val_loss: 0.0039 - val_root_mean_squared_error: 0.0626 - learning_rate: 5.0000e-04\n",
      "Epoch 13/30\n",
      "2448/2448 - 6s - 2ms/step - loss: 0.0159 - root_mean_squared_error: 0.1260 - val_loss: 0.0051 - val_root_mean_squared_error: 0.0714 - learning_rate: 5.0000e-04\n",
      "Epoch 14/30\n",
      "2448/2448 - 6s - 2ms/step - loss: 0.0153 - root_mean_squared_error: 0.1238 - val_loss: 0.0067 - val_root_mean_squared_error: 0.0817 - learning_rate: 5.0000e-04\n",
      "Epoch 15/30\n",
      "2448/2448 - 6s - 2ms/step - loss: 0.0149 - root_mean_squared_error: 0.1219 - val_loss: 0.0043 - val_root_mean_squared_error: 0.0659 - learning_rate: 5.0000e-04\n",
      "Epoch 16/30\n",
      "\n",
      "Epoch 16: ReduceLROnPlateau reducing learning rate to 0.0002500000118743628.\n",
      "2448/2448 - 6s - 2ms/step - loss: 0.0145 - root_mean_squared_error: 0.1205 - val_loss: 0.0076 - val_root_mean_squared_error: 0.0873 - learning_rate: 5.0000e-04\n",
      "Epoch 17/30\n",
      "2448/2448 - 6s - 2ms/step - loss: 0.0134 - root_mean_squared_error: 0.1157 - val_loss: 0.0053 - val_root_mean_squared_error: 0.0731 - learning_rate: 2.5000e-04\n",
      "Epoch 18/30\n",
      "2448/2448 - 6s - 2ms/step - loss: 0.0133 - root_mean_squared_error: 0.1155 - val_loss: 0.0072 - val_root_mean_squared_error: 0.0847 - learning_rate: 2.5000e-04\n",
      "Epoch 19/30\n",
      "2448/2448 - 6s - 2ms/step - loss: 0.0132 - root_mean_squared_error: 0.1147 - val_loss: 0.0075 - val_root_mean_squared_error: 0.0864 - learning_rate: 2.5000e-04\n",
      "Epoch 20/30\n",
      "\n",
      "Epoch 20: ReduceLROnPlateau reducing learning rate to 0.0001250000059371814.\n",
      "2448/2448 - 6s - 2ms/step - loss: 0.0131 - root_mean_squared_error: 0.1143 - val_loss: 0.0049 - val_root_mean_squared_error: 0.0701 - learning_rate: 2.5000e-04\n",
      "Epoch 21/30\n",
      "2448/2448 - 6s - 2ms/step - loss: 0.0124 - root_mean_squared_error: 0.1113 - val_loss: 0.0052 - val_root_mean_squared_error: 0.0722 - learning_rate: 1.2500e-04\n",
      "Epoch 22/30\n",
      "2448/2448 - 6s - 2ms/step - loss: 0.0122 - root_mean_squared_error: 0.1103 - val_loss: 0.0046 - val_root_mean_squared_error: 0.0681 - learning_rate: 1.2500e-04\n",
      "Epoch 23/30\n",
      "2448/2448 - 6s - 2ms/step - loss: 0.0122 - root_mean_squared_error: 0.1104 - val_loss: 0.0052 - val_root_mean_squared_error: 0.0718 - learning_rate: 1.2500e-04\n",
      "Epoch 24/30\n",
      "\n",
      "Epoch 24: ReduceLROnPlateau reducing learning rate to 0.0001.\n",
      "2448/2448 - 6s - 2ms/step - loss: 0.0122 - root_mean_squared_error: 0.1104 - val_loss: 0.0053 - val_root_mean_squared_error: 0.0731 - learning_rate: 1.2500e-04\n",
      "Epoch 25/30\n",
      "2448/2448 - 6s - 2ms/step - loss: 0.0121 - root_mean_squared_error: 0.1099 - val_loss: 0.0047 - val_root_mean_squared_error: 0.0687 - learning_rate: 1.0000e-04\n",
      "Epoch 26/30\n",
      "2448/2448 - 6s - 2ms/step - loss: 0.0117 - root_mean_squared_error: 0.1084 - val_loss: 0.0053 - val_root_mean_squared_error: 0.0729 - learning_rate: 1.0000e-04\n",
      "Epoch 27/30\n",
      "2448/2448 - 6s - 2ms/step - loss: 0.0118 - root_mean_squared_error: 0.1087 - val_loss: 0.0050 - val_root_mean_squared_error: 0.0708 - learning_rate: 1.0000e-04\n",
      "Epoch 28/30\n",
      "2448/2448 - 6s - 2ms/step - loss: 0.0117 - root_mean_squared_error: 0.1083 - val_loss: 0.0054 - val_root_mean_squared_error: 0.0732 - learning_rate: 1.0000e-04\n",
      "Epoch 29/30\n",
      "2448/2448 - 6s - 2ms/step - loss: 0.0117 - root_mean_squared_error: 0.1080 - val_loss: 0.0050 - val_root_mean_squared_error: 0.0711 - learning_rate: 1.0000e-04\n",
      "Epoch 30/30\n",
      "2448/2448 - 6s - 2ms/step - loss: 0.0116 - root_mean_squared_error: 0.1078 - val_loss: 0.0050 - val_root_mean_squared_error: 0.0710 - learning_rate: 1.0000e-04\n",
      "598/598 - 1s - 2ms/step\n",
      "977/977 - 1s - 1ms/step\n",
      "Fold: 4 RMSLE: 0.062625\n",
      "Epoch 1/30\n",
      "2448/2448 - 14s - 6ms/step - loss: 0.9177 - root_mean_squared_error: 0.9580 - val_loss: 0.0154 - val_root_mean_squared_error: 0.1242 - learning_rate: 5.0000e-04\n",
      "Epoch 2/30\n",
      "2448/2448 - 6s - 2ms/step - loss: 0.0956 - root_mean_squared_error: 0.3093 - val_loss: 0.0112 - val_root_mean_squared_error: 0.1060 - learning_rate: 5.0000e-04\n",
      "Epoch 3/30\n",
      "2448/2448 - 6s - 2ms/step - loss: 0.0505 - root_mean_squared_error: 0.2247 - val_loss: 0.0139 - val_root_mean_squared_error: 0.1177 - learning_rate: 5.0000e-04\n",
      "Epoch 4/30\n",
      "2448/2448 - 6s - 2ms/step - loss: 0.0350 - root_mean_squared_error: 0.1871 - val_loss: 0.0127 - val_root_mean_squared_error: 0.1128 - learning_rate: 5.0000e-04\n",
      "Epoch 5/30\n",
      "2448/2448 - 6s - 2ms/step - loss: 0.0274 - root_mean_squared_error: 0.1655 - val_loss: 0.0079 - val_root_mean_squared_error: 0.0890 - learning_rate: 5.0000e-04\n",
      "Epoch 6/30\n",
      "2448/2448 - 6s - 3ms/step - loss: 0.0238 - root_mean_squared_error: 0.1541 - val_loss: 0.0074 - val_root_mean_squared_error: 0.0861 - learning_rate: 5.0000e-04\n",
      "Epoch 7/30\n",
      "2448/2448 - 6s - 2ms/step - loss: 0.0216 - root_mean_squared_error: 0.1470 - val_loss: 0.0056 - val_root_mean_squared_error: 0.0750 - learning_rate: 5.0000e-04\n",
      "Epoch 8/30\n",
      "2448/2448 - 6s - 2ms/step - loss: 0.0198 - root_mean_squared_error: 0.1406 - val_loss: 0.0048 - val_root_mean_squared_error: 0.0694 - learning_rate: 5.0000e-04\n",
      "Epoch 9/30\n",
      "2448/2448 - 6s - 2ms/step - loss: 0.0189 - root_mean_squared_error: 0.1374 - val_loss: 0.0052 - val_root_mean_squared_error: 0.0720 - learning_rate: 5.0000e-04\n",
      "Epoch 10/30\n",
      "2448/2448 - 6s - 3ms/step - loss: 0.0177 - root_mean_squared_error: 0.1332 - val_loss: 0.0075 - val_root_mean_squared_error: 0.0866 - learning_rate: 5.0000e-04\n",
      "Epoch 11/30\n",
      "2448/2448 - 6s - 2ms/step - loss: 0.0168 - root_mean_squared_error: 0.1296 - val_loss: 0.0068 - val_root_mean_squared_error: 0.0824 - learning_rate: 5.0000e-04\n",
      "Epoch 12/30\n",
      "\n",
      "Epoch 12: ReduceLROnPlateau reducing learning rate to 0.0002500000118743628.\n",
      "2448/2448 - 6s - 2ms/step - loss: 0.0163 - root_mean_squared_error: 0.1278 - val_loss: 0.0093 - val_root_mean_squared_error: 0.0965 - learning_rate: 5.0000e-04\n",
      "Epoch 13/30\n",
      "2448/2448 - 7s - 3ms/step - loss: 0.0149 - root_mean_squared_error: 0.1221 - val_loss: 0.0045 - val_root_mean_squared_error: 0.0674 - learning_rate: 2.5000e-04\n",
      "Epoch 14/30\n",
      "2448/2448 - 6s - 3ms/step - loss: 0.0146 - root_mean_squared_error: 0.1208 - val_loss: 0.0052 - val_root_mean_squared_error: 0.0721 - learning_rate: 2.5000e-04\n",
      "Epoch 15/30\n",
      "2448/2448 - 6s - 3ms/step - loss: 0.0143 - root_mean_squared_error: 0.1194 - val_loss: 0.0048 - val_root_mean_squared_error: 0.0691 - learning_rate: 2.5000e-04\n",
      "Epoch 16/30\n",
      "2448/2448 - 6s - 3ms/step - loss: 0.0143 - root_mean_squared_error: 0.1198 - val_loss: 0.0087 - val_root_mean_squared_error: 0.0933 - learning_rate: 2.5000e-04\n",
      "Epoch 17/30\n",
      "\n",
      "Epoch 17: ReduceLROnPlateau reducing learning rate to 0.0001250000059371814.\n",
      "2448/2448 - 6s - 3ms/step - loss: 0.0137 - root_mean_squared_error: 0.1170 - val_loss: 0.0069 - val_root_mean_squared_error: 0.0829 - learning_rate: 2.5000e-04\n",
      "Epoch 18/30\n",
      "2448/2448 - 6s - 3ms/step - loss: 0.0132 - root_mean_squared_error: 0.1147 - val_loss: 0.0041 - val_root_mean_squared_error: 0.0638 - learning_rate: 1.2500e-04\n",
      "Epoch 19/30\n",
      "2448/2448 - 6s - 2ms/step - loss: 0.0132 - root_mean_squared_error: 0.1148 - val_loss: 0.0042 - val_root_mean_squared_error: 0.0648 - learning_rate: 1.2500e-04\n",
      "Epoch 20/30\n",
      "2448/2448 - 6s - 2ms/step - loss: 0.0131 - root_mean_squared_error: 0.1146 - val_loss: 0.0045 - val_root_mean_squared_error: 0.0667 - learning_rate: 1.2500e-04\n",
      "Epoch 21/30\n",
      "2448/2448 - 6s - 2ms/step - loss: 0.0131 - root_mean_squared_error: 0.1144 - val_loss: 0.0043 - val_root_mean_squared_error: 0.0654 - learning_rate: 1.2500e-04\n",
      "Epoch 22/30\n",
      "\n",
      "Epoch 22: ReduceLROnPlateau reducing learning rate to 0.0001.\n",
      "2448/2448 - 6s - 2ms/step - loss: 0.0125 - root_mean_squared_error: 0.1118 - val_loss: 0.0043 - val_root_mean_squared_error: 0.0655 - learning_rate: 1.2500e-04\n",
      "Epoch 23/30\n",
      "2448/2448 - 6s - 2ms/step - loss: 0.0124 - root_mean_squared_error: 0.1115 - val_loss: 0.0051 - val_root_mean_squared_error: 0.0711 - learning_rate: 1.0000e-04\n",
      "Epoch 24/30\n",
      "2448/2448 - 6s - 2ms/step - loss: 0.0126 - root_mean_squared_error: 0.1121 - val_loss: 0.0041 - val_root_mean_squared_error: 0.0637 - learning_rate: 1.0000e-04\n",
      "Epoch 25/30\n",
      "2448/2448 - 6s - 2ms/step - loss: 0.0126 - root_mean_squared_error: 0.1123 - val_loss: 0.0042 - val_root_mean_squared_error: 0.0651 - learning_rate: 1.0000e-04\n",
      "Epoch 26/30\n",
      "2448/2448 - 6s - 2ms/step - loss: 0.0124 - root_mean_squared_error: 0.1113 - val_loss: 0.0045 - val_root_mean_squared_error: 0.0671 - learning_rate: 1.0000e-04\n",
      "Epoch 27/30\n",
      "2448/2448 - 6s - 2ms/step - loss: 0.0125 - root_mean_squared_error: 0.1120 - val_loss: 0.0053 - val_root_mean_squared_error: 0.0726 - learning_rate: 1.0000e-04\n",
      "Epoch 28/30\n",
      "2448/2448 - 6s - 2ms/step - loss: 0.0124 - root_mean_squared_error: 0.1112 - val_loss: 0.0049 - val_root_mean_squared_error: 0.0702 - learning_rate: 1.0000e-04\n",
      "Epoch 29/30\n",
      "2448/2448 - 6s - 2ms/step - loss: 0.0123 - root_mean_squared_error: 0.1109 - val_loss: 0.0050 - val_root_mean_squared_error: 0.0705 - learning_rate: 1.0000e-04\n",
      "Epoch 30/30\n",
      "2448/2448 - 6s - 2ms/step - loss: 0.0124 - root_mean_squared_error: 0.1114 - val_loss: 0.0048 - val_root_mean_squared_error: 0.0695 - learning_rate: 1.0000e-04\n",
      "598/598 - 1s - 2ms/step\n",
      "977/977 - 1s - 1ms/step\n",
      "Fold: 5 RMSLE: 0.063724\n",
      "\n",
      "Overall OOF RMSLE: 0.062873\n"
     ]
    }
   ],
   "source": [
    "for fold, (train_idx, valid_idx) in enumerate(kf.split(X), start=1):\n",
    "    X_train, X_valid = X.iloc[train_idx], X.iloc[valid_idx]\n",
    "    y_train, y_valid = y.iloc[train_idx], y.iloc[valid_idx]\n",
    "    \n",
    "    X_test = test.copy()\n",
    "    \n",
    "    scaler = MinMaxScaler()\n",
    "    X_train= scaler.fit_transform(X_train)\n",
    "    X_valid = scaler.transform(X_valid)\n",
    "    X_test = scaler.transform(X_test)\n",
    "\n",
    "    input_shape = (X_train.shape[1], )\n",
    "\n",
    "    dnn = build_model()\n",
    "    optimizer = Adam(learning_rate=0.0005)\n",
    "    rmse = RootMeanSquaredError()\n",
    "    \n",
    "    dnn.compile(optimizer=optimizer, loss='mse', metrics=[rmse])\n",
    "    \n",
    "    dnn.fit(\n",
    "    X_train, y_train,\n",
    "    validation_data=(X_valid, y_valid),\n",
    "    batch_size=250,\n",
    "    epochs=30,\n",
    "    callbacks=make_callbacks(),\n",
    "    verbose=2\n",
    "    )\n",
    "\n",
    "    y_pred = dnn.predict(X_valid, batch_size=256, verbose=2).flatten()\n",
    "    oof_dnn[valid_idx] = y_pred\n",
    "    \n",
    "    test_dnn += dnn.predict(X_test, batch_size=256, verbose=2).flatten()\n",
    "    \n",
    "    rmsle = np.sqrt(mean_squared_log_error(np.expm1(y_pred), np.expm1(y_valid)))\n",
    "    print(f'Fold: {fold} RMSLE: {rmsle:,.6f}')\n",
    "\n",
    "overall_rmsle = np.sqrt(mean_squared_log_error(np.expm1(y), np.expm1(oof_dnn)))\n",
    "print(f\"\\nOverall OOF RMSLE: {overall_rmsle:.6f}\")  \n",
    "\n",
    "test_dnn /= n_folds "
   ]
  },
  {
   "cell_type": "code",
   "execution_count": 19,
   "id": "7fea7382",
   "metadata": {
    "execution": {
     "iopub.execute_input": "2025-05-30T08:06:07.810491Z",
     "iopub.status.busy": "2025-05-30T08:06:07.810254Z",
     "iopub.status.idle": "2025-05-30T08:06:07.822521Z",
     "shell.execute_reply": "2025-05-30T08:06:07.821873Z"
    },
    "papermill": {
     "duration": 0.030045,
     "end_time": "2025-05-30T08:06:07.823547",
     "exception": false,
     "start_time": "2025-05-30T08:06:07.793502",
     "status": "completed"
    },
    "tags": []
   },
   "outputs": [
    {
     "name": "stdout",
     "output_type": "stream",
     "text": [
      "OOF predictions saved to: /kaggle/working/oof_dnn.pkl\n"
     ]
    }
   ],
   "source": [
    "out_path_oof = \"/kaggle/working/oof_dnn.pkl\"\n",
    "joblib.dump(oof_dnn, out_path_oof)\n",
    "\n",
    "out_path_test = \"/kaggle/working/test_dnn.pkl\"\n",
    "joblib.dump(test_dnn, out_path_test)\n",
    "\n",
    "print(f\"OOF predictions saved to: {out_path_oof}\")"
   ]
  },
  {
   "cell_type": "code",
   "execution_count": 20,
   "id": "126529e9",
   "metadata": {
    "execution": {
     "iopub.execute_input": "2025-05-30T08:06:07.856103Z",
     "iopub.status.busy": "2025-05-30T08:06:07.855881Z",
     "iopub.status.idle": "2025-05-30T08:06:07.865777Z",
     "shell.execute_reply": "2025-05-30T08:06:07.865044Z"
    },
    "papermill": {
     "duration": 0.027371,
     "end_time": "2025-05-30T08:06:07.866837",
     "exception": false,
     "start_time": "2025-05-30T08:06:07.839466",
     "status": "completed"
    },
    "tags": []
   },
   "outputs": [],
   "source": [
    "np.save(f\"oof_dnn\",oof_dnn)\n",
    "np.save(f\"test_dnn\",test_dnn)"
   ]
  },
  {
   "cell_type": "code",
   "execution_count": 21,
   "id": "d3a22418",
   "metadata": {
    "execution": {
     "iopub.execute_input": "2025-05-30T08:06:07.899573Z",
     "iopub.status.busy": "2025-05-30T08:06:07.899362Z",
     "iopub.status.idle": "2025-05-30T08:06:08.454305Z",
     "shell.execute_reply": "2025-05-30T08:06:08.453453Z"
    },
    "papermill": {
     "duration": 0.572458,
     "end_time": "2025-05-30T08:06:08.455417",
     "exception": false,
     "start_time": "2025-05-30T08:06:07.882959",
     "status": "completed"
    },
    "tags": []
   },
   "outputs": [
    {
     "name": "stdout",
     "output_type": "stream",
     "text": [
      "Your submission was successfully saved!\n",
      "       id    Calories\n",
      "0  750000   27.612205\n",
      "1  750001  107.759952\n",
      "2  750002   87.328203\n",
      "3  750003  126.014787\n",
      "4  750004   75.982370\n"
     ]
    }
   ],
   "source": [
    "test_dnn = np.expm1(test_dnn)\n",
    "test_dnn = np.clip(test_dnn, 1, 314)\n",
    "\n",
    "sub = pd.read_csv('/kaggle/input/playground-series-s5e5/sample_submission.csv')\n",
    "sub['Calories'] = test_dnn\n",
    "sub.to_csv('submission.csv', index=False)\n",
    "print(\"Your submission was successfully saved!\")\n",
    "print(sub.head(5))"
   ]
  }
 ],
 "metadata": {
  "kaggle": {
   "accelerator": "nvidiaTeslaT4",
   "dataSources": [
    {
     "databundleVersionId": 11893428,
     "sourceId": 91716,
     "sourceType": "competition"
    },
    {
     "datasetId": 6512323,
     "sourceId": 10522392,
     "sourceType": "datasetVersion"
    }
   ],
   "dockerImageVersionId": 31011,
   "isGpuEnabled": true,
   "isInternetEnabled": true,
   "language": "python",
   "sourceType": "notebook"
  },
  "kernelspec": {
   "display_name": "Python 3",
   "language": "python",
   "name": "python3"
  },
  "language_info": {
   "codemirror_mode": {
    "name": "ipython",
    "version": 3
   },
   "file_extension": ".py",
   "mimetype": "text/x-python",
   "name": "python",
   "nbconvert_exporter": "python",
   "pygments_lexer": "ipython3",
   "version": "3.11.11"
  },
  "papermill": {
   "default_parameters": {},
   "duration": 984.577069,
   "end_time": "2025-05-30T08:06:11.742072",
   "environment_variables": {},
   "exception": null,
   "input_path": "__notebook__.ipynb",
   "output_path": "__notebook__.ipynb",
   "parameters": {},
   "start_time": "2025-05-30T07:49:47.165003",
   "version": "2.6.0"
  }
 },
 "nbformat": 4,
 "nbformat_minor": 5
}
