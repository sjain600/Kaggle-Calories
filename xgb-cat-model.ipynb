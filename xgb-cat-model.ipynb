{
 "cells": [
  {
   "cell_type": "code",
   "execution_count": 1,
   "id": "bf8a05da",
   "metadata": {
    "execution": {
     "iopub.execute_input": "2025-05-18T06:53:29.723974Z",
     "iopub.status.busy": "2025-05-18T06:53:29.723777Z",
     "iopub.status.idle": "2025-05-18T06:53:50.883562Z",
     "shell.execute_reply": "2025-05-18T06:53:50.882783Z"
    },
    "papermill": {
     "duration": 21.166174,
     "end_time": "2025-05-18T06:53:50.884856",
     "exception": false,
     "start_time": "2025-05-18T06:53:29.718682",
     "status": "completed"
    },
    "tags": []
   },
   "outputs": [
    {
     "name": "stdout",
     "output_type": "stream",
     "text": [
      "/kaggle/input/calories-burnt-prediction/calories.csv\n",
      "/kaggle/input/playground-series-s5e5/sample_submission.csv\n",
      "/kaggle/input/playground-series-s5e5/train.csv\n",
      "/kaggle/input/playground-series-s5e5/test.csv\n"
     ]
    },
    {
     "data": {
      "text/plain": [
       "<Figure size 1200x750 with 0 Axes>"
      ]
     },
     "metadata": {},
     "output_type": "display_data"
    }
   ],
   "source": [
    "# This Python 3 environment comes with many helpful analytics libraries installed\n",
    "# It is defined by the kaggle/python Docker image: https://github.com/kaggle/docker-python\n",
    "# For example, here's several helpful packages to load\n",
    "%load_ext cudf.pandas\n",
    "import numpy as np # linear algebra\n",
    "import pandas as pd # data processing, CSV file I/O (e.g. pd.read_csv)\n",
    "import matplotlib.pyplot as plt\n",
    "import seaborn as sns\n",
    "import joblib\n",
    "import cuml\n",
    "\n",
    "# Setting Matplotlib defaults\n",
    "plt.style.use('seaborn-v0_8')\n",
    "plt.rc('figure', figsize=(8,5), dpi=150)\n",
    "plt.rc('axes', labelweight='bold', labelsize='large',\n",
    "       titleweight='bold', titlesize=15, titlepad=10)\n",
    "plt.rc('animation', html='html5')\n",
    "plt.tight_layout()\n",
    "# Input data files are available in the read-only \"../input/\" directory\n",
    "# For example, running this (by clicking run or pressing Shift+Enter) will list all files under the input directory\n",
    "\n",
    "import os\n",
    "for dirname, _, filenames in os.walk('/kaggle/input'):\n",
    "    for filename in filenames:\n",
    "        print(os.path.join(dirname, filename))\n",
    "        \n",
    "import warnings\n",
    "warnings.simplefilter('ignore')\n",
    "\n",
    "pd.set_option('display.max_columns', 500)\n",
    "\n",
    "# You can write up to 20GB to the current directory (/kaggle/working/) that gets preserved as output when you create a version using \"Save & Run All\" \n",
    "# You can also write temporary files to /kaggle/temp/, but they won't be saved outside of the current session"
   ]
  },
  {
   "cell_type": "code",
   "execution_count": 2,
   "id": "5ea4353e",
   "metadata": {
    "execution": {
     "iopub.execute_input": "2025-05-18T06:53:50.894135Z",
     "iopub.status.busy": "2025-05-18T06:53:50.893677Z",
     "iopub.status.idle": "2025-05-18T06:53:51.484549Z",
     "shell.execute_reply": "2025-05-18T06:53:51.483912Z"
    },
    "papermill": {
     "duration": 0.596675,
     "end_time": "2025-05-18T06:53:51.485919",
     "exception": false,
     "start_time": "2025-05-18T06:53:50.889244",
     "status": "completed"
    },
    "tags": []
   },
   "outputs": [],
   "source": [
    "train = pd.read_csv('/kaggle/input/playground-series-s5e5/train.csv', index_col='id')\n",
    "test = pd.read_csv('/kaggle/input/playground-series-s5e5/test.csv', index_col='id')\n",
    "org = pd.read_csv('/kaggle/input/calories-burnt-prediction/calories.csv', index_col='User_ID')\n",
    "org = org.rename(columns={'Gender': 'Sex'})"
   ]
  },
  {
   "cell_type": "code",
   "execution_count": 3,
   "id": "d44c627d",
   "metadata": {
    "execution": {
     "iopub.execute_input": "2025-05-18T06:53:51.495091Z",
     "iopub.status.busy": "2025-05-18T06:53:51.494507Z",
     "iopub.status.idle": "2025-05-18T06:53:51.530066Z",
     "shell.execute_reply": "2025-05-18T06:53:51.529560Z"
    },
    "papermill": {
     "duration": 0.041002,
     "end_time": "2025-05-18T06:53:51.531224",
     "exception": false,
     "start_time": "2025-05-18T06:53:51.490222",
     "status": "completed"
    },
    "tags": []
   },
   "outputs": [],
   "source": [
    "train = pd.concat([train, org], ignore_index=True)"
   ]
  },
  {
   "cell_type": "code",
   "execution_count": 4,
   "id": "7fb3c1f9",
   "metadata": {
    "execution": {
     "iopub.execute_input": "2025-05-18T06:53:51.539930Z",
     "iopub.status.busy": "2025-05-18T06:53:51.539724Z",
     "iopub.status.idle": "2025-05-18T06:53:51.771603Z",
     "shell.execute_reply": "2025-05-18T06:53:51.770860Z"
    },
    "papermill": {
     "duration": 0.237713,
     "end_time": "2025-05-18T06:53:51.773000",
     "exception": false,
     "start_time": "2025-05-18T06:53:51.535287",
     "status": "completed"
    },
    "tags": []
   },
   "outputs": [
    {
     "name": "stdout",
     "output_type": "stream",
     "text": [
      "(762107, 8) (765000, 8)\n"
     ]
    }
   ],
   "source": [
    "strt_cols = list(test.columns)\n",
    "print(train.drop_duplicates(subset=strt_cols + ['Calories']).shape, train.shape)"
   ]
  },
  {
   "cell_type": "markdown",
   "id": "3e8f1ba7",
   "metadata": {
    "papermill": {
     "duration": 0.00359,
     "end_time": "2025-05-18T06:53:51.780718",
     "exception": false,
     "start_time": "2025-05-18T06:53:51.777128",
     "status": "completed"
    },
    "tags": []
   },
   "source": [
    "# Data Understanding"
   ]
  },
  {
   "cell_type": "code",
   "execution_count": 5,
   "id": "470aa4c2",
   "metadata": {
    "execution": {
     "iopub.execute_input": "2025-05-18T06:53:51.789029Z",
     "iopub.status.busy": "2025-05-18T06:53:51.788590Z",
     "iopub.status.idle": "2025-05-18T06:53:51.793046Z",
     "shell.execute_reply": "2025-05-18T06:53:51.792564Z"
    },
    "papermill": {
     "duration": 0.009651,
     "end_time": "2025-05-18T06:53:51.794109",
     "exception": false,
     "start_time": "2025-05-18T06:53:51.784458",
     "status": "completed"
    },
    "tags": []
   },
   "outputs": [
    {
     "data": {
      "text/plain": [
       "(765000, 8)"
      ]
     },
     "execution_count": 5,
     "metadata": {},
     "output_type": "execute_result"
    }
   ],
   "source": [
    "train.shape"
   ]
  },
  {
   "cell_type": "code",
   "execution_count": 6,
   "id": "882e9798",
   "metadata": {
    "execution": {
     "iopub.execute_input": "2025-05-18T06:53:51.802288Z",
     "iopub.status.busy": "2025-05-18T06:53:51.802083Z",
     "iopub.status.idle": "2025-05-18T06:53:51.849399Z",
     "shell.execute_reply": "2025-05-18T06:53:51.848849Z"
    },
    "papermill": {
     "duration": 0.052463,
     "end_time": "2025-05-18T06:53:51.850410",
     "exception": false,
     "start_time": "2025-05-18T06:53:51.797947",
     "status": "completed"
    },
    "tags": []
   },
   "outputs": [
    {
     "data": {
      "text/html": [
       "<div>\n",
       "<style scoped>\n",
       "    .dataframe tbody tr th:only-of-type {\n",
       "        vertical-align: middle;\n",
       "    }\n",
       "\n",
       "    .dataframe tbody tr th {\n",
       "        vertical-align: top;\n",
       "    }\n",
       "\n",
       "    .dataframe thead th {\n",
       "        text-align: right;\n",
       "    }\n",
       "</style>\n",
       "<table border=\"1\" class=\"dataframe\">\n",
       "  <thead>\n",
       "    <tr style=\"text-align: right;\">\n",
       "      <th></th>\n",
       "      <th>Sex</th>\n",
       "      <th>Age</th>\n",
       "      <th>Height</th>\n",
       "      <th>Weight</th>\n",
       "      <th>Duration</th>\n",
       "      <th>Heart_Rate</th>\n",
       "      <th>Body_Temp</th>\n",
       "      <th>Calories</th>\n",
       "    </tr>\n",
       "  </thead>\n",
       "  <tbody>\n",
       "    <tr>\n",
       "      <th>0</th>\n",
       "      <td>male</td>\n",
       "      <td>36</td>\n",
       "      <td>189.0</td>\n",
       "      <td>82.0</td>\n",
       "      <td>26.0</td>\n",
       "      <td>101.0</td>\n",
       "      <td>41.0</td>\n",
       "      <td>150.0</td>\n",
       "    </tr>\n",
       "    <tr>\n",
       "      <th>1</th>\n",
       "      <td>female</td>\n",
       "      <td>64</td>\n",
       "      <td>163.0</td>\n",
       "      <td>60.0</td>\n",
       "      <td>8.0</td>\n",
       "      <td>85.0</td>\n",
       "      <td>39.7</td>\n",
       "      <td>34.0</td>\n",
       "    </tr>\n",
       "    <tr>\n",
       "      <th>2</th>\n",
       "      <td>female</td>\n",
       "      <td>51</td>\n",
       "      <td>161.0</td>\n",
       "      <td>64.0</td>\n",
       "      <td>7.0</td>\n",
       "      <td>84.0</td>\n",
       "      <td>39.8</td>\n",
       "      <td>29.0</td>\n",
       "    </tr>\n",
       "    <tr>\n",
       "      <th>3</th>\n",
       "      <td>male</td>\n",
       "      <td>20</td>\n",
       "      <td>192.0</td>\n",
       "      <td>90.0</td>\n",
       "      <td>25.0</td>\n",
       "      <td>105.0</td>\n",
       "      <td>40.7</td>\n",
       "      <td>140.0</td>\n",
       "    </tr>\n",
       "    <tr>\n",
       "      <th>4</th>\n",
       "      <td>female</td>\n",
       "      <td>38</td>\n",
       "      <td>166.0</td>\n",
       "      <td>61.0</td>\n",
       "      <td>25.0</td>\n",
       "      <td>102.0</td>\n",
       "      <td>40.6</td>\n",
       "      <td>146.0</td>\n",
       "    </tr>\n",
       "    <tr>\n",
       "      <th>5</th>\n",
       "      <td>female</td>\n",
       "      <td>26</td>\n",
       "      <td>156.0</td>\n",
       "      <td>56.0</td>\n",
       "      <td>19.0</td>\n",
       "      <td>100.0</td>\n",
       "      <td>40.5</td>\n",
       "      <td>103.0</td>\n",
       "    </tr>\n",
       "    <tr>\n",
       "      <th>6</th>\n",
       "      <td>female</td>\n",
       "      <td>21</td>\n",
       "      <td>172.0</td>\n",
       "      <td>73.0</td>\n",
       "      <td>3.0</td>\n",
       "      <td>81.0</td>\n",
       "      <td>38.3</td>\n",
       "      <td>9.0</td>\n",
       "    </tr>\n",
       "    <tr>\n",
       "      <th>7</th>\n",
       "      <td>male</td>\n",
       "      <td>46</td>\n",
       "      <td>188.0</td>\n",
       "      <td>94.0</td>\n",
       "      <td>23.0</td>\n",
       "      <td>100.0</td>\n",
       "      <td>40.8</td>\n",
       "      <td>145.0</td>\n",
       "    </tr>\n",
       "    <tr>\n",
       "      <th>8</th>\n",
       "      <td>female</td>\n",
       "      <td>33</td>\n",
       "      <td>166.0</td>\n",
       "      <td>63.0</td>\n",
       "      <td>25.0</td>\n",
       "      <td>107.0</td>\n",
       "      <td>40.5</td>\n",
       "      <td>161.0</td>\n",
       "    </tr>\n",
       "    <tr>\n",
       "      <th>9</th>\n",
       "      <td>male</td>\n",
       "      <td>65</td>\n",
       "      <td>185.0</td>\n",
       "      <td>88.0</td>\n",
       "      <td>23.0</td>\n",
       "      <td>104.0</td>\n",
       "      <td>41.0</td>\n",
       "      <td>185.0</td>\n",
       "    </tr>\n",
       "  </tbody>\n",
       "</table>\n",
       "</div>"
      ],
      "text/plain": [
       "      Sex  Age  Height  Weight  Duration  Heart_Rate  Body_Temp  Calories\n",
       "0    male   36   189.0    82.0      26.0       101.0       41.0     150.0\n",
       "1  female   64   163.0    60.0       8.0        85.0       39.7      34.0\n",
       "2  female   51   161.0    64.0       7.0        84.0       39.8      29.0\n",
       "3    male   20   192.0    90.0      25.0       105.0       40.7     140.0\n",
       "4  female   38   166.0    61.0      25.0       102.0       40.6     146.0\n",
       "5  female   26   156.0    56.0      19.0       100.0       40.5     103.0\n",
       "6  female   21   172.0    73.0       3.0        81.0       38.3       9.0\n",
       "7    male   46   188.0    94.0      23.0       100.0       40.8     145.0\n",
       "8  female   33   166.0    63.0      25.0       107.0       40.5     161.0\n",
       "9    male   65   185.0    88.0      23.0       104.0       41.0     185.0"
      ]
     },
     "execution_count": 6,
     "metadata": {},
     "output_type": "execute_result"
    }
   ],
   "source": [
    "train.head(10)"
   ]
  },
  {
   "cell_type": "code",
   "execution_count": 7,
   "id": "10bc4eb4",
   "metadata": {
    "execution": {
     "iopub.execute_input": "2025-05-18T06:53:51.859830Z",
     "iopub.status.busy": "2025-05-18T06:53:51.859349Z",
     "iopub.status.idle": "2025-05-18T06:53:54.179972Z",
     "shell.execute_reply": "2025-05-18T06:53:54.179313Z"
    },
    "papermill": {
     "duration": 2.326133,
     "end_time": "2025-05-18T06:53:54.181031",
     "exception": false,
     "start_time": "2025-05-18T06:53:51.854898",
     "status": "completed"
    },
    "tags": []
   },
   "outputs": [
    {
     "data": {
      "text/html": [
       "<div>\n",
       "<style scoped>\n",
       "    .dataframe tbody tr th:only-of-type {\n",
       "        vertical-align: middle;\n",
       "    }\n",
       "\n",
       "    .dataframe tbody tr th {\n",
       "        vertical-align: top;\n",
       "    }\n",
       "\n",
       "    .dataframe thead th {\n",
       "        text-align: right;\n",
       "    }\n",
       "</style>\n",
       "<table border=\"1\" class=\"dataframe\">\n",
       "  <thead>\n",
       "    <tr style=\"text-align: right;\">\n",
       "      <th></th>\n",
       "      <th>Age</th>\n",
       "      <th>Height</th>\n",
       "      <th>Weight</th>\n",
       "      <th>Duration</th>\n",
       "      <th>Heart_Rate</th>\n",
       "      <th>Body_Temp</th>\n",
       "      <th>Calories</th>\n",
       "    </tr>\n",
       "  </thead>\n",
       "  <tbody>\n",
       "    <tr>\n",
       "      <th>count</th>\n",
       "      <td>765000.000000</td>\n",
       "      <td>765000.000000</td>\n",
       "      <td>765000.000000</td>\n",
       "      <td>765000.000000</td>\n",
       "      <td>765000.000000</td>\n",
       "      <td>765000.000000</td>\n",
       "      <td>765000.000000</td>\n",
       "    </tr>\n",
       "    <tr>\n",
       "      <th>mean</th>\n",
       "      <td>41.447255</td>\n",
       "      <td>174.693126</td>\n",
       "      <td>75.142162</td>\n",
       "      <td>15.423163</td>\n",
       "      <td>95.484672</td>\n",
       "      <td>40.036041</td>\n",
       "      <td>88.307424</td>\n",
       "    </tr>\n",
       "    <tr>\n",
       "      <th>std</th>\n",
       "      <td>15.213677</td>\n",
       "      <td>12.854173</td>\n",
       "      <td>14.004122</td>\n",
       "      <td>8.353421</td>\n",
       "      <td>9.452476</td>\n",
       "      <td>0.779863</td>\n",
       "      <td>62.396760</td>\n",
       "    </tr>\n",
       "    <tr>\n",
       "      <th>min</th>\n",
       "      <td>20.000000</td>\n",
       "      <td>123.000000</td>\n",
       "      <td>36.000000</td>\n",
       "      <td>1.000000</td>\n",
       "      <td>67.000000</td>\n",
       "      <td>37.100000</td>\n",
       "      <td>1.000000</td>\n",
       "    </tr>\n",
       "    <tr>\n",
       "      <th>25%</th>\n",
       "      <td>28.000000</td>\n",
       "      <td>164.000000</td>\n",
       "      <td>63.000000</td>\n",
       "      <td>8.000000</td>\n",
       "      <td>88.000000</td>\n",
       "      <td>39.600000</td>\n",
       "      <td>34.000000</td>\n",
       "    </tr>\n",
       "    <tr>\n",
       "      <th>50%</th>\n",
       "      <td>40.000000</td>\n",
       "      <td>174.000000</td>\n",
       "      <td>74.000000</td>\n",
       "      <td>15.000000</td>\n",
       "      <td>95.000000</td>\n",
       "      <td>40.300000</td>\n",
       "      <td>77.000000</td>\n",
       "    </tr>\n",
       "    <tr>\n",
       "      <th>75%</th>\n",
       "      <td>52.000000</td>\n",
       "      <td>185.000000</td>\n",
       "      <td>87.000000</td>\n",
       "      <td>23.000000</td>\n",
       "      <td>103.000000</td>\n",
       "      <td>40.700000</td>\n",
       "      <td>136.000000</td>\n",
       "    </tr>\n",
       "    <tr>\n",
       "      <th>max</th>\n",
       "      <td>79.000000</td>\n",
       "      <td>222.000000</td>\n",
       "      <td>132.000000</td>\n",
       "      <td>30.000000</td>\n",
       "      <td>128.000000</td>\n",
       "      <td>41.500000</td>\n",
       "      <td>314.000000</td>\n",
       "    </tr>\n",
       "  </tbody>\n",
       "</table>\n",
       "</div>"
      ],
      "text/plain": [
       "                 Age         Height         Weight       Duration  \\\n",
       "count  765000.000000  765000.000000  765000.000000  765000.000000   \n",
       "mean       41.447255     174.693126      75.142162      15.423163   \n",
       "std        15.213677      12.854173      14.004122       8.353421   \n",
       "min        20.000000     123.000000      36.000000       1.000000   \n",
       "25%        28.000000     164.000000      63.000000       8.000000   \n",
       "50%        40.000000     174.000000      74.000000      15.000000   \n",
       "75%        52.000000     185.000000      87.000000      23.000000   \n",
       "max        79.000000     222.000000     132.000000      30.000000   \n",
       "\n",
       "          Heart_Rate      Body_Temp       Calories  \n",
       "count  765000.000000  765000.000000  765000.000000  \n",
       "mean       95.484672      40.036041      88.307424  \n",
       "std         9.452476       0.779863      62.396760  \n",
       "min        67.000000      37.100000       1.000000  \n",
       "25%        88.000000      39.600000      34.000000  \n",
       "50%        95.000000      40.300000      77.000000  \n",
       "75%       103.000000      40.700000     136.000000  \n",
       "max       128.000000      41.500000     314.000000  "
      ]
     },
     "execution_count": 7,
     "metadata": {},
     "output_type": "execute_result"
    }
   ],
   "source": [
    "train.describe()"
   ]
  },
  {
   "cell_type": "code",
   "execution_count": 8,
   "id": "8767dbdd",
   "metadata": {
    "execution": {
     "iopub.execute_input": "2025-05-18T06:53:54.190556Z",
     "iopub.status.busy": "2025-05-18T06:53:54.190314Z",
     "iopub.status.idle": "2025-05-18T06:53:54.270076Z",
     "shell.execute_reply": "2025-05-18T06:53:54.269565Z"
    },
    "papermill": {
     "duration": 0.085527,
     "end_time": "2025-05-18T06:53:54.271111",
     "exception": false,
     "start_time": "2025-05-18T06:53:54.185584",
     "status": "completed"
    },
    "tags": []
   },
   "outputs": [
    {
     "data": {
      "text/plain": [
       "Sex           0\n",
       "Age           0\n",
       "Height        0\n",
       "Weight        0\n",
       "Duration      0\n",
       "Heart_Rate    0\n",
       "Body_Temp     0\n",
       "Calories      0\n",
       "dtype: int64"
      ]
     },
     "execution_count": 8,
     "metadata": {},
     "output_type": "execute_result"
    }
   ],
   "source": [
    "train.isnull().sum()"
   ]
  },
  {
   "cell_type": "code",
   "execution_count": 9,
   "id": "9bdb8564",
   "metadata": {
    "execution": {
     "iopub.execute_input": "2025-05-18T06:53:54.280127Z",
     "iopub.status.busy": "2025-05-18T06:53:54.279758Z",
     "iopub.status.idle": "2025-05-18T06:53:54.291209Z",
     "shell.execute_reply": "2025-05-18T06:53:54.290398Z"
    },
    "papermill": {
     "duration": 0.017091,
     "end_time": "2025-05-18T06:53:54.292333",
     "exception": false,
     "start_time": "2025-05-18T06:53:54.275242",
     "status": "completed"
    },
    "tags": []
   },
   "outputs": [
    {
     "name": "stdout",
     "output_type": "stream",
     "text": [
      "<class 'cudf.core.dataframe.DataFrame'>\n",
      "RangeIndex: 765000 entries, 0 to 764999\n",
      "Data columns (total 8 columns):\n",
      " #   Column      Non-Null Count   Dtype\n",
      "---  ------      --------------   -----\n",
      " 0   Sex         765000 non-null  object\n",
      " 1   Age         765000 non-null  int64\n",
      " 2   Height      765000 non-null  float64\n",
      " 3   Weight      765000 non-null  float64\n",
      " 4   Duration    765000 non-null  float64\n",
      " 5   Heart_Rate  765000 non-null  float64\n",
      " 6   Body_Temp   765000 non-null  float64\n",
      " 7   Calories    765000 non-null  float64\n",
      "dtypes: float64(6), int64(1), object(1)\n",
      "memory usage: 47.4+ MB\n"
     ]
    }
   ],
   "source": [
    "train.info()"
   ]
  },
  {
   "cell_type": "markdown",
   "id": "bcaa7126",
   "metadata": {
    "papermill": {
     "duration": 0.004,
     "end_time": "2025-05-18T06:53:54.301005",
     "exception": false,
     "start_time": "2025-05-18T06:53:54.297005",
     "status": "completed"
    },
    "tags": []
   },
   "source": [
    "# Data Preprocessing"
   ]
  },
  {
   "cell_type": "markdown",
   "id": "992cbd39",
   "metadata": {
    "papermill": {
     "duration": 0.003953,
     "end_time": "2025-05-18T06:53:54.309159",
     "exception": false,
     "start_time": "2025-05-18T06:53:54.305206",
     "status": "completed"
    },
    "tags": []
   },
   "source": [
    "## Reducing memory usage"
   ]
  },
  {
   "cell_type": "code",
   "execution_count": 10,
   "id": "d55bad51",
   "metadata": {
    "execution": {
     "iopub.execute_input": "2025-05-18T06:53:54.318537Z",
     "iopub.status.busy": "2025-05-18T06:53:54.317959Z",
     "iopub.status.idle": "2025-05-18T06:53:54.323141Z",
     "shell.execute_reply": "2025-05-18T06:53:54.322676Z"
    },
    "papermill": {
     "duration": 0.010805,
     "end_time": "2025-05-18T06:53:54.324121",
     "exception": false,
     "start_time": "2025-05-18T06:53:54.313316",
     "status": "completed"
    },
    "tags": []
   },
   "outputs": [],
   "source": [
    "train['Age'] = train['Age'].astype('int8')\n",
    "test['Age'] = test['Age'].astype('int8')"
   ]
  },
  {
   "cell_type": "code",
   "execution_count": 11,
   "id": "17d18f8c",
   "metadata": {
    "execution": {
     "iopub.execute_input": "2025-05-18T06:53:54.333344Z",
     "iopub.status.busy": "2025-05-18T06:53:54.332928Z",
     "iopub.status.idle": "2025-05-18T06:53:56.169021Z",
     "shell.execute_reply": "2025-05-18T06:53:56.168451Z"
    },
    "papermill": {
     "duration": 1.842008,
     "end_time": "2025-05-18T06:53:56.170330",
     "exception": false,
     "start_time": "2025-05-18T06:53:54.328322",
     "status": "completed"
    },
    "tags": []
   },
   "outputs": [],
   "source": [
    "num_cols = test.select_dtypes(include='float64').columns\n",
    "for col in num_cols:\n",
    "    train[num_cols] = train[num_cols].astype('float32')\n",
    "    test[num_cols] = test[num_cols].astype('float32')"
   ]
  },
  {
   "cell_type": "code",
   "execution_count": 12,
   "id": "2231d7fb",
   "metadata": {
    "execution": {
     "iopub.execute_input": "2025-05-18T06:53:56.182000Z",
     "iopub.status.busy": "2025-05-18T06:53:56.181389Z",
     "iopub.status.idle": "2025-05-18T06:53:56.200867Z",
     "shell.execute_reply": "2025-05-18T06:53:56.200061Z"
    },
    "papermill": {
     "duration": 0.026908,
     "end_time": "2025-05-18T06:53:56.202599",
     "exception": false,
     "start_time": "2025-05-18T06:53:56.175691",
     "status": "completed"
    },
    "tags": []
   },
   "outputs": [
    {
     "name": "stdout",
     "output_type": "stream",
     "text": [
      "<class 'cudf.core.dataframe.DataFrame'>\n",
      "RangeIndex: 765000 entries, 0 to 764999\n",
      "Data columns (total 8 columns):\n",
      " #   Column      Non-Null Count   Dtype\n",
      "---  ------      --------------   -----\n",
      " 0   Sex         765000 non-null  object\n",
      " 1   Age         765000 non-null  int8\n",
      " 2   Height      765000 non-null  float32\n",
      " 3   Weight      765000 non-null  float32\n",
      " 4   Duration    765000 non-null  float32\n",
      " 5   Heart_Rate  765000 non-null  float32\n",
      " 6   Body_Temp   765000 non-null  float32\n",
      " 7   Calories    765000 non-null  float64\n",
      "dtypes: float32(5), float64(1), int8(1), object(1)\n",
      "memory usage: 27.7+ MB\n"
     ]
    }
   ],
   "source": [
    "train.info()"
   ]
  },
  {
   "cell_type": "code",
   "execution_count": 13,
   "id": "cc54bc2a",
   "metadata": {
    "execution": {
     "iopub.execute_input": "2025-05-18T06:53:56.212111Z",
     "iopub.status.busy": "2025-05-18T06:53:56.211909Z",
     "iopub.status.idle": "2025-05-18T06:53:56.280135Z",
     "shell.execute_reply": "2025-05-18T06:53:56.279664Z"
    },
    "papermill": {
     "duration": 0.074242,
     "end_time": "2025-05-18T06:53:56.281161",
     "exception": false,
     "start_time": "2025-05-18T06:53:56.206919",
     "status": "completed"
    },
    "tags": []
   },
   "outputs": [],
   "source": [
    "mapping = {'male': 1, 'female': 0}\n",
    "\n",
    "train['Sex'] = train['Sex'].map(mapping).astype('int8')\n",
    "test['Sex'] = test['Sex'].map(mapping).astype('int8')"
   ]
  },
  {
   "cell_type": "code",
   "execution_count": 14,
   "id": "e04b9349",
   "metadata": {
    "execution": {
     "iopub.execute_input": "2025-05-18T06:53:56.290415Z",
     "iopub.status.busy": "2025-05-18T06:53:56.290229Z",
     "iopub.status.idle": "2025-05-18T06:53:56.293230Z",
     "shell.execute_reply": "2025-05-18T06:53:56.292750Z"
    },
    "papermill": {
     "duration": 0.008771,
     "end_time": "2025-05-18T06:53:56.294257",
     "exception": false,
     "start_time": "2025-05-18T06:53:56.285486",
     "status": "completed"
    },
    "tags": []
   },
   "outputs": [],
   "source": [
    "features = ['Sex', 'Age', 'Height', 'Weight', 'Duration', 'Heart_Rate', 'Body_Temp']"
   ]
  },
  {
   "cell_type": "code",
   "execution_count": 15,
   "id": "c663ebc1",
   "metadata": {
    "execution": {
     "iopub.execute_input": "2025-05-18T06:53:56.303317Z",
     "iopub.status.busy": "2025-05-18T06:53:56.303115Z",
     "iopub.status.idle": "2025-05-18T06:53:56.306969Z",
     "shell.execute_reply": "2025-05-18T06:53:56.306480Z"
    },
    "papermill": {
     "duration": 0.009462,
     "end_time": "2025-05-18T06:53:56.307927",
     "exception": false,
     "start_time": "2025-05-18T06:53:56.298465",
     "status": "completed"
    },
    "tags": []
   },
   "outputs": [],
   "source": [
    "def add_features(df):\n",
    "    for i, c1 in enumerate(features):\n",
    "        for c2 in (features[i+1:]):\n",
    "            m = f'{c1}*{c2}'\n",
    "            df[m] = df[c1] * df[c2]\n",
    "            a = f'{c1}+{c2}'\n",
    "            df[a] = df[c1] + df[c2]\n",
    "            d = f'{c1}/{c2}'\n",
    "            df[d] = df[c1] / (df[c2] + 1e-3)\n",
    "    return df"
   ]
  },
  {
   "cell_type": "code",
   "execution_count": 16,
   "id": "38760d13",
   "metadata": {
    "execution": {
     "iopub.execute_input": "2025-05-18T06:53:56.317082Z",
     "iopub.status.busy": "2025-05-18T06:53:56.316837Z",
     "iopub.status.idle": "2025-05-18T06:53:56.322113Z",
     "shell.execute_reply": "2025-05-18T06:53:56.321477Z"
    },
    "papermill": {
     "duration": 0.011006,
     "end_time": "2025-05-18T06:53:56.323212",
     "exception": false,
     "start_time": "2025-05-18T06:53:56.312206",
     "status": "completed"
    },
    "tags": []
   },
   "outputs": [],
   "source": [
    "def feature_engineer(df):\n",
    "\n",
    "    df['Max_Heart_Rate'] = 207 - (0.7 * df['Age'])\n",
    "    df['HR_Ratio'] = df['Heart_Rate'] / df['Max_Heart_Rate']\n",
    "    df['HR_Reserve'] = (df['Heart_Rate'] / df['Max_Heart_Rate']) * df['Duration']\n",
    "\n",
    "    df['MET_Estimate'] = (df['Heart_Rate'] / df['Max_Heart_Rate']) * 15\n",
    "    df['MET_Calories_Rate'] = df['MET_Estimate'] * 3.5 * df['Weight'] / 200\n",
    "    \n",
    "    df['MET_Calories_Total'] = df['MET_Calories_Rate'] * df['Duration']\n",
    "    \n",
    "    df['Exercise_Intensity_Index'] = df['Heart_Rate'] * df['Body_Temp'] / (df['Weight'] * df['Age'])\n",
    "    df['Intensity'] = df['Heart_Rate']  * df['Duration'] / 60\n",
    "\n",
    "    df['exertion_score'] = df['Duration'] * df['Heart_Rate'] * df['Body_Temp']\n",
    "    \n",
    "    df['BMI'] = df['Weight'] / (df['Height']/100) ** 2\n",
    "\n",
    "    for col in ['Duration', 'Heart_Rate']:\n",
    "        df[f'Sqrt_{col}'] = np.sqrt(df[col])\n",
    "    \n",
    "    df['body_theta'] = np.arctan2(df['Weight'], df['Height'])\n",
    "    \n",
    "    return df"
   ]
  },
  {
   "cell_type": "code",
   "execution_count": 17,
   "id": "3f659e07",
   "metadata": {
    "execution": {
     "iopub.execute_input": "2025-05-18T06:53:56.332222Z",
     "iopub.status.busy": "2025-05-18T06:53:56.332054Z",
     "iopub.status.idle": "2025-05-18T06:53:56.988062Z",
     "shell.execute_reply": "2025-05-18T06:53:56.987314Z"
    },
    "papermill": {
     "duration": 0.661949,
     "end_time": "2025-05-18T06:53:56.989377",
     "exception": false,
     "start_time": "2025-05-18T06:53:56.327428",
     "status": "completed"
    },
    "tags": []
   },
   "outputs": [],
   "source": [
    "X = train.copy()\n",
    "y = X.pop('Calories')\n",
    "y = np.log1p(y)\n",
    "\n",
    "X = add_features(X)\n",
    "X = feature_engineer(X)\n",
    "\n",
    "X_test = test.copy()\n",
    "X_test = add_features(X_test)\n",
    "X_test = feature_engineer(X_test)"
   ]
  },
  {
   "cell_type": "code",
   "execution_count": 18,
   "id": "ed39337f",
   "metadata": {
    "execution": {
     "iopub.execute_input": "2025-05-18T06:53:56.999331Z",
     "iopub.status.busy": "2025-05-18T06:53:56.999112Z",
     "iopub.status.idle": "2025-05-18T06:53:57.002398Z",
     "shell.execute_reply": "2025-05-18T06:53:57.001742Z"
    },
    "papermill": {
     "duration": 0.009344,
     "end_time": "2025-05-18T06:53:57.003507",
     "exception": false,
     "start_time": "2025-05-18T06:53:56.994163",
     "status": "completed"
    },
    "tags": []
   },
   "outputs": [],
   "source": [
    "oof_preds = {}\n",
    "test_preds = {}"
   ]
  },
  {
   "cell_type": "code",
   "execution_count": 19,
   "id": "b614695a",
   "metadata": {
    "execution": {
     "iopub.execute_input": "2025-05-18T06:53:57.012681Z",
     "iopub.status.busy": "2025-05-18T06:53:57.012312Z",
     "iopub.status.idle": "2025-05-18T06:56:54.400722Z",
     "shell.execute_reply": "2025-05-18T06:56:54.399913Z"
    },
    "papermill": {
     "duration": 177.398524,
     "end_time": "2025-05-18T06:56:54.406208",
     "exception": false,
     "start_time": "2025-05-18T06:53:57.007684",
     "status": "completed"
    },
    "tags": []
   },
   "outputs": [
    {
     "name": "stdout",
     "output_type": "stream",
     "text": [
      "Fold 1 RMSE: 0.058958\n",
      "Fold 2 RMSE: 0.058795\n",
      "Fold 3 RMSE: 0.059508\n",
      "Fold 4 RMSE: 0.059960\n",
      "Fold 5 RMSE: 0.058900\n",
      "\n",
      "Overall OOF RMSLE: 0.059226\n"
     ]
    }
   ],
   "source": [
    "from sklearn.model_selection import KFold\n",
    "from cuml.metrics import mean_squared_log_error\n",
    "from xgboost import XGBRegressor\n",
    "\n",
    "n_folds = 5\n",
    "kf = KFold(n_splits=n_folds, shuffle=True, random_state=100)\n",
    "\n",
    "oof_xgb = np.zeros(len(y))\n",
    "test_xgb = np.zeros(len(X_test))\n",
    "\n",
    "params = {\n",
    "    'n_estimators': 3500, \n",
    "    'learning_rate': 0.013953332749708643, \n",
    "    'max_depth': 7, \n",
    "    'min_child_weight': 4, \n",
    "    'alpha': 1.2294458535575021, \n",
    "    'lambda': 3.9023695718584124, \n",
    "    'subsample': 0.7935023484916159, \n",
    "    'colsample_bytree': 0.7735496625982962, \n",
    "    'gamma': 0.001649625624889977\n",
    "}\n",
    "\n",
    "for fold, (train_index, valid_index) in enumerate(kf.split(X, y), start=1):\n",
    "        X_train, X_valid = X.iloc[train_index].copy(), X.iloc[valid_index].copy()\n",
    "        y_train, y_valid = y.iloc[train_index], y.iloc[valid_index]\n",
    "        \n",
    "        xgb = XGBRegressor(**params, early_stopping_rounds=50, tree_method='gpu_hist', device='cuda', seed=100, \n",
    "            objective='reg:squarederror', eval_metric='rmse',\n",
    "        ).fit(X_train, y_train, eval_set=[(X_valid, y_valid)], verbose=0)\n",
    "    \n",
    "        valid_pred = xgb.predict(X_valid)\n",
    "        oof_xgb[valid_index] = valid_pred\n",
    "        test_xgb += xgb.predict(X_test) / n_folds\n",
    "    \n",
    "        fold_rmsle = np.sqrt(mean_squared_log_error(np.expm1(y_valid), np.expm1(valid_pred)))\n",
    "        print(f\"Fold {fold} RMSE: {fold_rmsle:.6f}\")\n",
    "\n",
    "test_xgb = np.expm1(test_xgb)\n",
    "test_xgb = np.clip(test_xgb, 1, 314)\n",
    "\n",
    "oof_preds['XGB'] = oof_xgb \n",
    "test_preds['XGB'] = test_xgb\n",
    "\n",
    "overall_rmsle = np.sqrt(mean_squared_log_error(np.expm1(y), np.expm1(oof_xgb)))\n",
    "print(f\"\\nOverall OOF RMSLE: {overall_rmsle:.6f}\")   "
   ]
  },
  {
   "cell_type": "code",
   "execution_count": 20,
   "id": "802e7851",
   "metadata": {
    "execution": {
     "iopub.execute_input": "2025-05-18T06:56:54.416478Z",
     "iopub.status.busy": "2025-05-18T06:56:54.415775Z",
     "iopub.status.idle": "2025-05-18T06:56:54.630929Z",
     "shell.execute_reply": "2025-05-18T06:56:54.630458Z"
    },
    "papermill": {
     "duration": 0.221203,
     "end_time": "2025-05-18T06:56:54.632002",
     "exception": false,
     "start_time": "2025-05-18T06:56:54.410799",
     "status": "completed"
    },
    "tags": []
   },
   "outputs": [],
   "source": [
    "X = train.copy()\n",
    "y = X.pop('Calories')\n",
    "y = np.log1p(y) \n",
    "X = add_features(X)\n",
    "X = feature_engineer(X)\n",
    "X['Sex'] = X['Sex'].astype('category')\n",
    "\n",
    "X_test = test.copy()\n",
    "X_test = add_features(X_test)\n",
    "X_test = feature_engineer(X_test)\n",
    "X_test['Sex'] = X_test['Sex'].astype('category')"
   ]
  },
  {
   "cell_type": "code",
   "execution_count": 21,
   "id": "abfa95f7",
   "metadata": {
    "execution": {
     "iopub.execute_input": "2025-05-18T06:56:54.641958Z",
     "iopub.status.busy": "2025-05-18T06:56:54.641728Z",
     "iopub.status.idle": "2025-05-18T07:00:00.084142Z",
     "shell.execute_reply": "2025-05-18T07:00:00.083306Z"
    },
    "papermill": {
     "duration": 185.452966,
     "end_time": "2025-05-18T07:00:00.089596",
     "exception": false,
     "start_time": "2025-05-18T06:56:54.636630",
     "status": "completed"
    },
    "tags": []
   },
   "outputs": [
    {
     "name": "stdout",
     "output_type": "stream",
     "text": [
      "Fold 1 RMSE: 0.059072\n",
      "Fold 2 RMSE: 0.058802\n",
      "Fold 3 RMSE: 0.059488\n",
      "Fold 4 RMSE: 0.059023\n",
      "Fold 5 RMSE: 0.060066\n",
      "\n",
      "Overall OOF RMSLE: 0.059292\n"
     ]
    }
   ],
   "source": [
    "from catboost import CatBoostRegressor\n",
    "from sklearn.preprocessing import KBinsDiscretizer\n",
    "from sklearn.model_selection import StratifiedKFold\n",
    "\n",
    "bins = KBinsDiscretizer(n_bins=12, encode='ordinal', strategy='kmeans')\n",
    "duration_bins = bins.fit_transform(train[['Duration']]).astype(int).flatten()\n",
    "\n",
    "skf = StratifiedKFold(n_splits=5, shuffle=True, random_state=42)\n",
    "oof_cat = np.zeros(len(y))\n",
    "test_cat = np.zeros(len(X_test))\n",
    "\n",
    "params = {\n",
    "    'iterations': 3000, \n",
    "    'learning_rate': 0.03813511357889326, \n",
    "    'depth': 9, \n",
    "    'l2_leaf_reg': 5.101121281815585, \n",
    "    'bagging_temperature': 0.6263562727371863, \n",
    "    'random_strength': 0.6489211175248135,\n",
    "    'loss_function': 'RMSE',\n",
    "    'cat_features': ['Sex'],\n",
    "    'eval_metric': 'RMSE',\n",
    "    'early_stopping_rounds': 100,\n",
    "    'verbose': 0,\n",
    "    'random_seed': 100,\n",
    "    'task_type': 'GPU'   \n",
    "}\n",
    "\n",
    "for fold, (train_index, valid_index) in enumerate(skf.split(X, duration_bins), start=1):\n",
    "        X_train, X_valid = X.iloc[train_index].copy(), X.iloc[valid_index].copy()\n",
    "        y_train, y_valid = y.iloc[train_index], y.iloc[valid_index]\n",
    "\n",
    "        cat = CatBoostRegressor(**params).fit(X_train, y_train, eval_set=[(X_valid, y_valid)], use_best_model=True)\n",
    "    \n",
    "        valid_pred = cat.predict(X_valid)\n",
    "        oof_cat[valid_index] = valid_pred\n",
    "        test_cat += cat.predict(X_test) / n_folds\n",
    "    \n",
    "        fold_rmsle = np.sqrt(mean_squared_log_error(np.expm1(y_valid), np.expm1(valid_pred)))\n",
    "        print(f\"Fold {fold} RMSE: {fold_rmsle:.6f}\")\n",
    "\n",
    "test_cat = np.expm1(test_cat)\n",
    "test_cat = np.clip(test_cat, 1, 314)\n",
    "\n",
    "oof_preds['CAT'] = oof_cat\n",
    "test_preds['CAT'] = test_cat\n",
    "\n",
    "overall_rmsle = np.sqrt(mean_squared_log_error(np.expm1(y), np.expm1(oof_cat)))\n",
    "print(f\"\\nOverall OOF RMSLE: {overall_rmsle:.6f}\")\n"
   ]
  },
  {
   "cell_type": "code",
   "execution_count": 22,
   "id": "cfc4ddbd",
   "metadata": {
    "execution": {
     "iopub.execute_input": "2025-05-18T07:00:00.100868Z",
     "iopub.status.busy": "2025-05-18T07:00:00.100666Z",
     "iopub.status.idle": "2025-05-18T07:00:00.142419Z",
     "shell.execute_reply": "2025-05-18T07:00:00.141808Z"
    },
    "papermill": {
     "duration": 0.048305,
     "end_time": "2025-05-18T07:00:00.143538",
     "exception": false,
     "start_time": "2025-05-18T07:00:00.095233",
     "status": "completed"
    },
    "tags": []
   },
   "outputs": [
    {
     "data": {
      "text/plain": [
       "['test_preds.parquet']"
      ]
     },
     "execution_count": 22,
     "metadata": {},
     "output_type": "execute_result"
    }
   ],
   "source": [
    "import joblib\n",
    "\n",
    "X = pd.DataFrame(oof_preds)\n",
    "X_test = pd.DataFrame(test_preds)\n",
    "\n",
    "joblib.dump(X, 'oof_preds.parquet')\n",
    "joblib.dump(X_test, 'test_preds.parquet')"
   ]
  },
  {
   "cell_type": "code",
   "execution_count": 23,
   "id": "faeffe44",
   "metadata": {
    "execution": {
     "iopub.execute_input": "2025-05-18T07:00:00.153902Z",
     "iopub.status.busy": "2025-05-18T07:00:00.153713Z",
     "iopub.status.idle": "2025-05-18T07:00:00.357259Z",
     "shell.execute_reply": "2025-05-18T07:00:00.356471Z"
    },
    "papermill": {
     "duration": 0.213935,
     "end_time": "2025-05-18T07:00:00.362493",
     "exception": false,
     "start_time": "2025-05-18T07:00:00.148558",
     "status": "completed"
    },
    "tags": []
   },
   "outputs": [],
   "source": [
    "from sklearn.linear_model import BayesianRidge\n",
    "\n",
    "meta_train = np.column_stack((oof_xgb, oof_cat))\n",
    "meta_test = np.column_stack((test_xgb, test_cat))\n",
    "\n",
    "meta_model = BayesianRidge(n_iter=2000).fit(meta_train, y)\n",
    "\n",
    "final_preds = meta_model.predict(meta_test)"
   ]
  },
  {
   "cell_type": "code",
   "execution_count": 24,
   "id": "74cbb384",
   "metadata": {
    "execution": {
     "iopub.execute_input": "2025-05-18T07:00:00.381189Z",
     "iopub.status.busy": "2025-05-18T07:00:00.380937Z",
     "iopub.status.idle": "2025-05-18T07:00:00.538266Z",
     "shell.execute_reply": "2025-05-18T07:00:00.537484Z"
    },
    "papermill": {
     "duration": 0.167797,
     "end_time": "2025-05-18T07:00:00.539549",
     "exception": false,
     "start_time": "2025-05-18T07:00:00.371752",
     "status": "completed"
    },
    "tags": []
   },
   "outputs": [
    {
     "name": "stdout",
     "output_type": "stream",
     "text": [
      "Your submission was successfully saved!\n",
      "       id    Calories\n",
      "0  750000   27.147849\n",
      "1  750001  107.952252\n",
      "2  750002   87.524704\n",
      "3  750003  125.460499\n",
      "4  750004   75.698965\n"
     ]
    }
   ],
   "source": [
    "sub = pd.read_csv('/kaggle/input/playground-series-s5e5/sample_submission.csv')\n",
    "sub['Calories'] = final_preds\n",
    "sub.to_csv('submission.csv', index=False)\n",
    "print(\"Your submission was successfully saved!\")\n",
    "print(sub.head(5))"
   ]
  }
 ],
 "metadata": {
  "kaggle": {
   "accelerator": "nvidiaTeslaT4",
   "dataSources": [
    {
     "databundleVersionId": 11893428,
     "sourceId": 91716,
     "sourceType": "competition"
    },
    {
     "datasetId": 6512323,
     "sourceId": 10522392,
     "sourceType": "datasetVersion"
    }
   ],
   "dockerImageVersionId": 31011,
   "isGpuEnabled": true,
   "isInternetEnabled": true,
   "language": "python",
   "sourceType": "notebook"
  },
  "kernelspec": {
   "display_name": "Python 3",
   "language": "python",
   "name": "python3"
  },
  "language_info": {
   "codemirror_mode": {
    "name": "ipython",
    "version": 3
   },
   "file_extension": ".py",
   "mimetype": "text/x-python",
   "name": "python",
   "nbconvert_exporter": "python",
   "pygments_lexer": "ipython3",
   "version": "3.11.11"
  },
  "papermill": {
   "default_parameters": {},
   "duration": 400.258753,
   "end_time": "2025-05-18T07:00:04.072599",
   "environment_variables": {},
   "exception": null,
   "input_path": "__notebook__.ipynb",
   "output_path": "__notebook__.ipynb",
   "parameters": {},
   "start_time": "2025-05-18T06:53:23.813846",
   "version": "2.6.0"
  }
 },
 "nbformat": 4,
 "nbformat_minor": 5
}
