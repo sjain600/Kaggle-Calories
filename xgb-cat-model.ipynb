{
 "cells": [
  {
   "cell_type": "code",
   "execution_count": 1,
   "id": "d25b9b85",
   "metadata": {
    "execution": {
     "iopub.execute_input": "2025-05-20T06:05:38.989069Z",
     "iopub.status.busy": "2025-05-20T06:05:38.988799Z",
     "iopub.status.idle": "2025-05-20T06:05:51.795383Z",
     "shell.execute_reply": "2025-05-20T06:05:51.794616Z"
    },
    "papermill": {
     "duration": 12.813228,
     "end_time": "2025-05-20T06:05:51.796545",
     "exception": false,
     "start_time": "2025-05-20T06:05:38.983317",
     "status": "completed"
    },
    "tags": []
   },
   "outputs": [
    {
     "name": "stdout",
     "output_type": "stream",
     "text": [
      "/kaggle/input/playground-series-s5e5/sample_submission.csv\n",
      "/kaggle/input/playground-series-s5e5/train.csv\n",
      "/kaggle/input/playground-series-s5e5/test.csv\n",
      "/kaggle/input/calories-burnt-prediction/calories.csv\n"
     ]
    },
    {
     "data": {
      "text/plain": [
       "<Figure size 1200x750 with 0 Axes>"
      ]
     },
     "metadata": {},
     "output_type": "display_data"
    }
   ],
   "source": [
    "# This Python 3 environment comes with many helpful analytics libraries installed\n",
    "# It is defined by the kaggle/python Docker image: https://github.com/kaggle/docker-python\n",
    "# For example, here's several helpful packages to load\n",
    "%load_ext cudf.pandas\n",
    "import numpy as np # linear algebra\n",
    "import pandas as pd # data processing, CSV file I/O (e.g. pd.read_csv)\n",
    "import matplotlib.pyplot as plt\n",
    "import seaborn as sns\n",
    "import cuml\n",
    "\n",
    "# Setting Matplotlib defaults\n",
    "plt.style.use('seaborn-v0_8')\n",
    "plt.rc('figure', figsize=(8,5), dpi=150)\n",
    "plt.rc('axes', labelweight='bold', labelsize='large',\n",
    "       titleweight='bold', titlesize=15, titlepad=10)\n",
    "plt.rc('animation', html='html5')\n",
    "plt.tight_layout()\n",
    "# Input data files are available in the read-only \"../input/\" directory\n",
    "# For example, running this (by clicking run or pressing Shift+Enter) will list all files under the input directory\n",
    "\n",
    "import os\n",
    "for dirname, _, filenames in os.walk('/kaggle/input'):\n",
    "    for filename in filenames:\n",
    "        print(os.path.join(dirname, filename))\n",
    "        \n",
    "import warnings\n",
    "warnings.simplefilter('ignore')\n",
    "\n",
    "pd.set_option('display.max_columns', 500)\n",
    "\n",
    "# You can write up to 20GB to the current directory (/kaggle/working/) that gets preserved as output when you create a version using \"Save & Run All\" \n",
    "# You can also write temporary files to /kaggle/temp/, but they won't be saved outside of the current session"
   ]
  },
  {
   "cell_type": "code",
   "execution_count": 2,
   "id": "f887f5c2",
   "metadata": {
    "execution": {
     "iopub.execute_input": "2025-05-20T06:05:51.806944Z",
     "iopub.status.busy": "2025-05-20T06:05:51.806228Z",
     "iopub.status.idle": "2025-05-20T06:05:52.210343Z",
     "shell.execute_reply": "2025-05-20T06:05:52.209781Z"
    },
    "papermill": {
     "duration": 0.41004,
     "end_time": "2025-05-20T06:05:52.211628",
     "exception": false,
     "start_time": "2025-05-20T06:05:51.801588",
     "status": "completed"
    },
    "tags": []
   },
   "outputs": [],
   "source": [
    "train = pd.read_csv('/kaggle/input/playground-series-s5e5/train.csv', index_col='id')\n",
    "test = pd.read_csv('/kaggle/input/playground-series-s5e5/test.csv', index_col='id')\n",
    "org = pd.read_csv('/kaggle/input/calories-burnt-prediction/calories.csv', index_col='User_ID')\n",
    "org = org.rename(columns={'Gender': 'Sex'})"
   ]
  },
  {
   "cell_type": "code",
   "execution_count": 3,
   "id": "980e84cb",
   "metadata": {
    "execution": {
     "iopub.execute_input": "2025-05-20T06:05:52.220853Z",
     "iopub.status.busy": "2025-05-20T06:05:52.220649Z",
     "iopub.status.idle": "2025-05-20T06:05:52.256505Z",
     "shell.execute_reply": "2025-05-20T06:05:52.255816Z"
    },
    "papermill": {
     "duration": 0.041596,
     "end_time": "2025-05-20T06:05:52.257712",
     "exception": false,
     "start_time": "2025-05-20T06:05:52.216116",
     "status": "completed"
    },
    "tags": []
   },
   "outputs": [],
   "source": [
    "train = pd.concat([train, org], ignore_index=True)"
   ]
  },
  {
   "cell_type": "code",
   "execution_count": 4,
   "id": "ed7b8607",
   "metadata": {
    "execution": {
     "iopub.execute_input": "2025-05-20T06:05:52.266500Z",
     "iopub.status.busy": "2025-05-20T06:05:52.266154Z",
     "iopub.status.idle": "2025-05-20T06:05:52.368376Z",
     "shell.execute_reply": "2025-05-20T06:05:52.367587Z"
    },
    "papermill": {
     "duration": 0.107764,
     "end_time": "2025-05-20T06:05:52.369520",
     "exception": false,
     "start_time": "2025-05-20T06:05:52.261756",
     "status": "completed"
    },
    "tags": []
   },
   "outputs": [
    {
     "name": "stdout",
     "output_type": "stream",
     "text": [
      "(762107, 8) (765000, 8)\n"
     ]
    }
   ],
   "source": [
    "strt_cols = list(test.columns)\n",
    "print(train.drop_duplicates(subset=strt_cols + ['Calories']).shape, train.shape)"
   ]
  },
  {
   "cell_type": "markdown",
   "id": "27603ec1",
   "metadata": {
    "papermill": {
     "duration": 0.003895,
     "end_time": "2025-05-20T06:05:52.377661",
     "exception": false,
     "start_time": "2025-05-20T06:05:52.373766",
     "status": "completed"
    },
    "tags": []
   },
   "source": [
    "# Data Understanding"
   ]
  },
  {
   "cell_type": "code",
   "execution_count": 5,
   "id": "3417a618",
   "metadata": {
    "execution": {
     "iopub.execute_input": "2025-05-20T06:05:52.386683Z",
     "iopub.status.busy": "2025-05-20T06:05:52.386261Z",
     "iopub.status.idle": "2025-05-20T06:05:52.390945Z",
     "shell.execute_reply": "2025-05-20T06:05:52.390285Z"
    },
    "papermill": {
     "duration": 0.010463,
     "end_time": "2025-05-20T06:05:52.392131",
     "exception": false,
     "start_time": "2025-05-20T06:05:52.381668",
     "status": "completed"
    },
    "tags": []
   },
   "outputs": [
    {
     "data": {
      "text/plain": [
       "(765000, 8)"
      ]
     },
     "execution_count": 5,
     "metadata": {},
     "output_type": "execute_result"
    }
   ],
   "source": [
    "train.shape"
   ]
  },
  {
   "cell_type": "code",
   "execution_count": 6,
   "id": "7e32b070",
   "metadata": {
    "execution": {
     "iopub.execute_input": "2025-05-20T06:05:52.401230Z",
     "iopub.status.busy": "2025-05-20T06:05:52.400704Z",
     "iopub.status.idle": "2025-05-20T06:05:52.441225Z",
     "shell.execute_reply": "2025-05-20T06:05:52.440525Z"
    },
    "papermill": {
     "duration": 0.046064,
     "end_time": "2025-05-20T06:05:52.442339",
     "exception": false,
     "start_time": "2025-05-20T06:05:52.396275",
     "status": "completed"
    },
    "tags": []
   },
   "outputs": [
    {
     "data": {
      "text/html": [
       "<div>\n",
       "<style scoped>\n",
       "    .dataframe tbody tr th:only-of-type {\n",
       "        vertical-align: middle;\n",
       "    }\n",
       "\n",
       "    .dataframe tbody tr th {\n",
       "        vertical-align: top;\n",
       "    }\n",
       "\n",
       "    .dataframe thead th {\n",
       "        text-align: right;\n",
       "    }\n",
       "</style>\n",
       "<table border=\"1\" class=\"dataframe\">\n",
       "  <thead>\n",
       "    <tr style=\"text-align: right;\">\n",
       "      <th></th>\n",
       "      <th>Sex</th>\n",
       "      <th>Age</th>\n",
       "      <th>Height</th>\n",
       "      <th>Weight</th>\n",
       "      <th>Duration</th>\n",
       "      <th>Heart_Rate</th>\n",
       "      <th>Body_Temp</th>\n",
       "      <th>Calories</th>\n",
       "    </tr>\n",
       "  </thead>\n",
       "  <tbody>\n",
       "    <tr>\n",
       "      <th>0</th>\n",
       "      <td>male</td>\n",
       "      <td>36</td>\n",
       "      <td>189.0</td>\n",
       "      <td>82.0</td>\n",
       "      <td>26.0</td>\n",
       "      <td>101.0</td>\n",
       "      <td>41.0</td>\n",
       "      <td>150.0</td>\n",
       "    </tr>\n",
       "    <tr>\n",
       "      <th>1</th>\n",
       "      <td>female</td>\n",
       "      <td>64</td>\n",
       "      <td>163.0</td>\n",
       "      <td>60.0</td>\n",
       "      <td>8.0</td>\n",
       "      <td>85.0</td>\n",
       "      <td>39.7</td>\n",
       "      <td>34.0</td>\n",
       "    </tr>\n",
       "    <tr>\n",
       "      <th>2</th>\n",
       "      <td>female</td>\n",
       "      <td>51</td>\n",
       "      <td>161.0</td>\n",
       "      <td>64.0</td>\n",
       "      <td>7.0</td>\n",
       "      <td>84.0</td>\n",
       "      <td>39.8</td>\n",
       "      <td>29.0</td>\n",
       "    </tr>\n",
       "    <tr>\n",
       "      <th>3</th>\n",
       "      <td>male</td>\n",
       "      <td>20</td>\n",
       "      <td>192.0</td>\n",
       "      <td>90.0</td>\n",
       "      <td>25.0</td>\n",
       "      <td>105.0</td>\n",
       "      <td>40.7</td>\n",
       "      <td>140.0</td>\n",
       "    </tr>\n",
       "    <tr>\n",
       "      <th>4</th>\n",
       "      <td>female</td>\n",
       "      <td>38</td>\n",
       "      <td>166.0</td>\n",
       "      <td>61.0</td>\n",
       "      <td>25.0</td>\n",
       "      <td>102.0</td>\n",
       "      <td>40.6</td>\n",
       "      <td>146.0</td>\n",
       "    </tr>\n",
       "    <tr>\n",
       "      <th>5</th>\n",
       "      <td>female</td>\n",
       "      <td>26</td>\n",
       "      <td>156.0</td>\n",
       "      <td>56.0</td>\n",
       "      <td>19.0</td>\n",
       "      <td>100.0</td>\n",
       "      <td>40.5</td>\n",
       "      <td>103.0</td>\n",
       "    </tr>\n",
       "    <tr>\n",
       "      <th>6</th>\n",
       "      <td>female</td>\n",
       "      <td>21</td>\n",
       "      <td>172.0</td>\n",
       "      <td>73.0</td>\n",
       "      <td>3.0</td>\n",
       "      <td>81.0</td>\n",
       "      <td>38.3</td>\n",
       "      <td>9.0</td>\n",
       "    </tr>\n",
       "    <tr>\n",
       "      <th>7</th>\n",
       "      <td>male</td>\n",
       "      <td>46</td>\n",
       "      <td>188.0</td>\n",
       "      <td>94.0</td>\n",
       "      <td>23.0</td>\n",
       "      <td>100.0</td>\n",
       "      <td>40.8</td>\n",
       "      <td>145.0</td>\n",
       "    </tr>\n",
       "    <tr>\n",
       "      <th>8</th>\n",
       "      <td>female</td>\n",
       "      <td>33</td>\n",
       "      <td>166.0</td>\n",
       "      <td>63.0</td>\n",
       "      <td>25.0</td>\n",
       "      <td>107.0</td>\n",
       "      <td>40.5</td>\n",
       "      <td>161.0</td>\n",
       "    </tr>\n",
       "    <tr>\n",
       "      <th>9</th>\n",
       "      <td>male</td>\n",
       "      <td>65</td>\n",
       "      <td>185.0</td>\n",
       "      <td>88.0</td>\n",
       "      <td>23.0</td>\n",
       "      <td>104.0</td>\n",
       "      <td>41.0</td>\n",
       "      <td>185.0</td>\n",
       "    </tr>\n",
       "  </tbody>\n",
       "</table>\n",
       "</div>"
      ],
      "text/plain": [
       "      Sex  Age  Height  Weight  Duration  Heart_Rate  Body_Temp  Calories\n",
       "0    male   36   189.0    82.0      26.0       101.0       41.0     150.0\n",
       "1  female   64   163.0    60.0       8.0        85.0       39.7      34.0\n",
       "2  female   51   161.0    64.0       7.0        84.0       39.8      29.0\n",
       "3    male   20   192.0    90.0      25.0       105.0       40.7     140.0\n",
       "4  female   38   166.0    61.0      25.0       102.0       40.6     146.0\n",
       "5  female   26   156.0    56.0      19.0       100.0       40.5     103.0\n",
       "6  female   21   172.0    73.0       3.0        81.0       38.3       9.0\n",
       "7    male   46   188.0    94.0      23.0       100.0       40.8     145.0\n",
       "8  female   33   166.0    63.0      25.0       107.0       40.5     161.0\n",
       "9    male   65   185.0    88.0      23.0       104.0       41.0     185.0"
      ]
     },
     "execution_count": 6,
     "metadata": {},
     "output_type": "execute_result"
    }
   ],
   "source": [
    "train.head(10)"
   ]
  },
  {
   "cell_type": "code",
   "execution_count": 7,
   "id": "b0cd594f",
   "metadata": {
    "execution": {
     "iopub.execute_input": "2025-05-20T06:05:52.451687Z",
     "iopub.status.busy": "2025-05-20T06:05:52.451359Z",
     "iopub.status.idle": "2025-05-20T06:05:53.631321Z",
     "shell.execute_reply": "2025-05-20T06:05:53.630468Z"
    },
    "papermill": {
     "duration": 1.186269,
     "end_time": "2025-05-20T06:05:53.632959",
     "exception": false,
     "start_time": "2025-05-20T06:05:52.446690",
     "status": "completed"
    },
    "tags": []
   },
   "outputs": [
    {
     "data": {
      "text/html": [
       "<div>\n",
       "<style scoped>\n",
       "    .dataframe tbody tr th:only-of-type {\n",
       "        vertical-align: middle;\n",
       "    }\n",
       "\n",
       "    .dataframe tbody tr th {\n",
       "        vertical-align: top;\n",
       "    }\n",
       "\n",
       "    .dataframe thead th {\n",
       "        text-align: right;\n",
       "    }\n",
       "</style>\n",
       "<table border=\"1\" class=\"dataframe\">\n",
       "  <thead>\n",
       "    <tr style=\"text-align: right;\">\n",
       "      <th></th>\n",
       "      <th>Age</th>\n",
       "      <th>Height</th>\n",
       "      <th>Weight</th>\n",
       "      <th>Duration</th>\n",
       "      <th>Heart_Rate</th>\n",
       "      <th>Body_Temp</th>\n",
       "      <th>Calories</th>\n",
       "    </tr>\n",
       "  </thead>\n",
       "  <tbody>\n",
       "    <tr>\n",
       "      <th>count</th>\n",
       "      <td>765000.000000</td>\n",
       "      <td>765000.000000</td>\n",
       "      <td>765000.000000</td>\n",
       "      <td>765000.000000</td>\n",
       "      <td>765000.000000</td>\n",
       "      <td>765000.000000</td>\n",
       "      <td>765000.000000</td>\n",
       "    </tr>\n",
       "    <tr>\n",
       "      <th>mean</th>\n",
       "      <td>41.447255</td>\n",
       "      <td>174.693126</td>\n",
       "      <td>75.142162</td>\n",
       "      <td>15.423163</td>\n",
       "      <td>95.484672</td>\n",
       "      <td>40.036041</td>\n",
       "      <td>88.307424</td>\n",
       "    </tr>\n",
       "    <tr>\n",
       "      <th>std</th>\n",
       "      <td>15.213677</td>\n",
       "      <td>12.854173</td>\n",
       "      <td>14.004122</td>\n",
       "      <td>8.353421</td>\n",
       "      <td>9.452476</td>\n",
       "      <td>0.779863</td>\n",
       "      <td>62.396760</td>\n",
       "    </tr>\n",
       "    <tr>\n",
       "      <th>min</th>\n",
       "      <td>20.000000</td>\n",
       "      <td>123.000000</td>\n",
       "      <td>36.000000</td>\n",
       "      <td>1.000000</td>\n",
       "      <td>67.000000</td>\n",
       "      <td>37.100000</td>\n",
       "      <td>1.000000</td>\n",
       "    </tr>\n",
       "    <tr>\n",
       "      <th>25%</th>\n",
       "      <td>28.000000</td>\n",
       "      <td>164.000000</td>\n",
       "      <td>63.000000</td>\n",
       "      <td>8.000000</td>\n",
       "      <td>88.000000</td>\n",
       "      <td>39.600000</td>\n",
       "      <td>34.000000</td>\n",
       "    </tr>\n",
       "    <tr>\n",
       "      <th>50%</th>\n",
       "      <td>40.000000</td>\n",
       "      <td>174.000000</td>\n",
       "      <td>74.000000</td>\n",
       "      <td>15.000000</td>\n",
       "      <td>95.000000</td>\n",
       "      <td>40.300000</td>\n",
       "      <td>77.000000</td>\n",
       "    </tr>\n",
       "    <tr>\n",
       "      <th>75%</th>\n",
       "      <td>52.000000</td>\n",
       "      <td>185.000000</td>\n",
       "      <td>87.000000</td>\n",
       "      <td>23.000000</td>\n",
       "      <td>103.000000</td>\n",
       "      <td>40.700000</td>\n",
       "      <td>136.000000</td>\n",
       "    </tr>\n",
       "    <tr>\n",
       "      <th>max</th>\n",
       "      <td>79.000000</td>\n",
       "      <td>222.000000</td>\n",
       "      <td>132.000000</td>\n",
       "      <td>30.000000</td>\n",
       "      <td>128.000000</td>\n",
       "      <td>41.500000</td>\n",
       "      <td>314.000000</td>\n",
       "    </tr>\n",
       "  </tbody>\n",
       "</table>\n",
       "</div>"
      ],
      "text/plain": [
       "                 Age         Height         Weight       Duration  \\\n",
       "count  765000.000000  765000.000000  765000.000000  765000.000000   \n",
       "mean       41.447255     174.693126      75.142162      15.423163   \n",
       "std        15.213677      12.854173      14.004122       8.353421   \n",
       "min        20.000000     123.000000      36.000000       1.000000   \n",
       "25%        28.000000     164.000000      63.000000       8.000000   \n",
       "50%        40.000000     174.000000      74.000000      15.000000   \n",
       "75%        52.000000     185.000000      87.000000      23.000000   \n",
       "max        79.000000     222.000000     132.000000      30.000000   \n",
       "\n",
       "          Heart_Rate      Body_Temp       Calories  \n",
       "count  765000.000000  765000.000000  765000.000000  \n",
       "mean       95.484672      40.036041      88.307424  \n",
       "std         9.452476       0.779863      62.396760  \n",
       "min        67.000000      37.100000       1.000000  \n",
       "25%        88.000000      39.600000      34.000000  \n",
       "50%        95.000000      40.300000      77.000000  \n",
       "75%       103.000000      40.700000     136.000000  \n",
       "max       128.000000      41.500000     314.000000  "
      ]
     },
     "execution_count": 7,
     "metadata": {},
     "output_type": "execute_result"
    }
   ],
   "source": [
    "train.describe()"
   ]
  },
  {
   "cell_type": "code",
   "execution_count": 8,
   "id": "5f09d8cd",
   "metadata": {
    "execution": {
     "iopub.execute_input": "2025-05-20T06:05:53.644091Z",
     "iopub.status.busy": "2025-05-20T06:05:53.643793Z",
     "iopub.status.idle": "2025-05-20T06:05:53.722156Z",
     "shell.execute_reply": "2025-05-20T06:05:53.721228Z"
    },
    "papermill": {
     "duration": 0.084845,
     "end_time": "2025-05-20T06:05:53.723425",
     "exception": false,
     "start_time": "2025-05-20T06:05:53.638580",
     "status": "completed"
    },
    "tags": []
   },
   "outputs": [
    {
     "data": {
      "text/plain": [
       "Sex           0\n",
       "Age           0\n",
       "Height        0\n",
       "Weight        0\n",
       "Duration      0\n",
       "Heart_Rate    0\n",
       "Body_Temp     0\n",
       "Calories      0\n",
       "dtype: int64"
      ]
     },
     "execution_count": 8,
     "metadata": {},
     "output_type": "execute_result"
    }
   ],
   "source": [
    "train.isnull().sum()"
   ]
  },
  {
   "cell_type": "code",
   "execution_count": 9,
   "id": "c501084f",
   "metadata": {
    "execution": {
     "iopub.execute_input": "2025-05-20T06:05:53.733844Z",
     "iopub.status.busy": "2025-05-20T06:05:53.733417Z",
     "iopub.status.idle": "2025-05-20T06:05:53.744704Z",
     "shell.execute_reply": "2025-05-20T06:05:53.743968Z"
    },
    "papermill": {
     "duration": 0.017737,
     "end_time": "2025-05-20T06:05:53.745716",
     "exception": false,
     "start_time": "2025-05-20T06:05:53.727979",
     "status": "completed"
    },
    "tags": []
   },
   "outputs": [
    {
     "name": "stdout",
     "output_type": "stream",
     "text": [
      "<class 'cudf.core.dataframe.DataFrame'>\n",
      "RangeIndex: 765000 entries, 0 to 764999\n",
      "Data columns (total 8 columns):\n",
      " #   Column      Non-Null Count   Dtype\n",
      "---  ------      --------------   -----\n",
      " 0   Sex         765000 non-null  object\n",
      " 1   Age         765000 non-null  int64\n",
      " 2   Height      765000 non-null  float64\n",
      " 3   Weight      765000 non-null  float64\n",
      " 4   Duration    765000 non-null  float64\n",
      " 5   Heart_Rate  765000 non-null  float64\n",
      " 6   Body_Temp   765000 non-null  float64\n",
      " 7   Calories    765000 non-null  float64\n",
      "dtypes: float64(6), int64(1), object(1)\n",
      "memory usage: 47.4+ MB\n"
     ]
    }
   ],
   "source": [
    "train.info()"
   ]
  },
  {
   "cell_type": "markdown",
   "id": "4abf0ff6",
   "metadata": {
    "papermill": {
     "duration": 0.004208,
     "end_time": "2025-05-20T06:05:53.754266",
     "exception": false,
     "start_time": "2025-05-20T06:05:53.750058",
     "status": "completed"
    },
    "tags": []
   },
   "source": [
    "# Data Preprocessing"
   ]
  },
  {
   "cell_type": "markdown",
   "id": "89326b79",
   "metadata": {
    "papermill": {
     "duration": 0.004235,
     "end_time": "2025-05-20T06:05:53.762884",
     "exception": false,
     "start_time": "2025-05-20T06:05:53.758649",
     "status": "completed"
    },
    "tags": []
   },
   "source": [
    "## Reducing memory usage"
   ]
  },
  {
   "cell_type": "code",
   "execution_count": 10,
   "id": "08379c5b",
   "metadata": {
    "execution": {
     "iopub.execute_input": "2025-05-20T06:05:53.772256Z",
     "iopub.status.busy": "2025-05-20T06:05:53.772067Z",
     "iopub.status.idle": "2025-05-20T06:05:53.777314Z",
     "shell.execute_reply": "2025-05-20T06:05:53.776650Z"
    },
    "papermill": {
     "duration": 0.011388,
     "end_time": "2025-05-20T06:05:53.778541",
     "exception": false,
     "start_time": "2025-05-20T06:05:53.767153",
     "status": "completed"
    },
    "tags": []
   },
   "outputs": [],
   "source": [
    "train['Age'] = train['Age'].astype('int8')\n",
    "test['Age'] = test['Age'].astype('int8')"
   ]
  },
  {
   "cell_type": "code",
   "execution_count": 11,
   "id": "553b7b89",
   "metadata": {
    "execution": {
     "iopub.execute_input": "2025-05-20T06:05:53.788387Z",
     "iopub.status.busy": "2025-05-20T06:05:53.787869Z",
     "iopub.status.idle": "2025-05-20T06:05:55.673393Z",
     "shell.execute_reply": "2025-05-20T06:05:55.672812Z"
    },
    "papermill": {
     "duration": 1.891973,
     "end_time": "2025-05-20T06:05:55.674838",
     "exception": false,
     "start_time": "2025-05-20T06:05:53.782865",
     "status": "completed"
    },
    "tags": []
   },
   "outputs": [],
   "source": [
    "num_cols = test.select_dtypes(include='float64').columns\n",
    "for col in num_cols:\n",
    "    train[num_cols] = train[num_cols].astype('float32')\n",
    "    test[num_cols] = test[num_cols].astype('float32')"
   ]
  },
  {
   "cell_type": "code",
   "execution_count": 12,
   "id": "f2c824dc",
   "metadata": {
    "execution": {
     "iopub.execute_input": "2025-05-20T06:05:55.685290Z",
     "iopub.status.busy": "2025-05-20T06:05:55.685093Z",
     "iopub.status.idle": "2025-05-20T06:05:55.704241Z",
     "shell.execute_reply": "2025-05-20T06:05:55.703336Z"
    },
    "papermill": {
     "duration": 0.025554,
     "end_time": "2025-05-20T06:05:55.705343",
     "exception": false,
     "start_time": "2025-05-20T06:05:55.679789",
     "status": "completed"
    },
    "tags": []
   },
   "outputs": [
    {
     "name": "stdout",
     "output_type": "stream",
     "text": [
      "<class 'cudf.core.dataframe.DataFrame'>\n",
      "RangeIndex: 765000 entries, 0 to 764999\n",
      "Data columns (total 8 columns):\n",
      " #   Column      Non-Null Count   Dtype\n",
      "---  ------      --------------   -----\n",
      " 0   Sex         765000 non-null  object\n",
      " 1   Age         765000 non-null  int8\n",
      " 2   Height      765000 non-null  float32\n",
      " 3   Weight      765000 non-null  float32\n",
      " 4   Duration    765000 non-null  float32\n",
      " 5   Heart_Rate  765000 non-null  float32\n",
      " 6   Body_Temp   765000 non-null  float32\n",
      " 7   Calories    765000 non-null  float64\n",
      "dtypes: float32(5), float64(1), int8(1), object(1)\n",
      "memory usage: 27.7+ MB\n"
     ]
    }
   ],
   "source": [
    "train.info()"
   ]
  },
  {
   "cell_type": "code",
   "execution_count": 13,
   "id": "6abd772b",
   "metadata": {
    "execution": {
     "iopub.execute_input": "2025-05-20T06:05:55.715169Z",
     "iopub.status.busy": "2025-05-20T06:05:55.714739Z",
     "iopub.status.idle": "2025-05-20T06:05:55.775549Z",
     "shell.execute_reply": "2025-05-20T06:05:55.775050Z"
    },
    "papermill": {
     "duration": 0.066718,
     "end_time": "2025-05-20T06:05:55.776555",
     "exception": false,
     "start_time": "2025-05-20T06:05:55.709837",
     "status": "completed"
    },
    "tags": []
   },
   "outputs": [],
   "source": [
    "mapping = {'male': 1, 'female': 0}\n",
    "\n",
    "train['Sex'] = train['Sex'].map(mapping).astype('int8')\n",
    "test['Sex'] = test['Sex'].map(mapping).astype('int8')"
   ]
  },
  {
   "cell_type": "code",
   "execution_count": 14,
   "id": "69a9800a",
   "metadata": {
    "execution": {
     "iopub.execute_input": "2025-05-20T06:05:55.786326Z",
     "iopub.status.busy": "2025-05-20T06:05:55.786142Z",
     "iopub.status.idle": "2025-05-20T06:05:55.790268Z",
     "shell.execute_reply": "2025-05-20T06:05:55.789735Z"
    },
    "papermill": {
     "duration": 0.010126,
     "end_time": "2025-05-20T06:05:55.791352",
     "exception": false,
     "start_time": "2025-05-20T06:05:55.781226",
     "status": "completed"
    },
    "tags": []
   },
   "outputs": [],
   "source": [
    "def gender_feat_interaction(df, features, gender_col='Sex'):\n",
    "    df['Male'] = df[gender_col]\n",
    "    df['Female'] = 1 - df[gender_col]\n",
    "\n",
    "    for feat in features:\n",
    "        df[f'{feat}*Male'] = df[feat] * df['Male']\n",
    "        df[f'{feat}*Female'] = df[feat] * df['Female']\n",
    "\n",
    "    df.drop(['Male', 'Female'], axis=1, inplace=True)\n",
    "\n",
    "    return df\n",
    "        "
   ]
  },
  {
   "cell_type": "code",
   "execution_count": 15,
   "id": "227ebb92",
   "metadata": {
    "execution": {
     "iopub.execute_input": "2025-05-20T06:05:55.801379Z",
     "iopub.status.busy": "2025-05-20T06:05:55.800924Z",
     "iopub.status.idle": "2025-05-20T06:05:55.804350Z",
     "shell.execute_reply": "2025-05-20T06:05:55.803778Z"
    },
    "papermill": {
     "duration": 0.009511,
     "end_time": "2025-05-20T06:05:55.805410",
     "exception": false,
     "start_time": "2025-05-20T06:05:55.795899",
     "status": "completed"
    },
    "tags": []
   },
   "outputs": [],
   "source": [
    "features = ['Age', 'Height', 'Weight', 'Duration', 'Heart_Rate', 'Body_Temp']"
   ]
  },
  {
   "cell_type": "code",
   "execution_count": 16,
   "id": "91057727",
   "metadata": {
    "execution": {
     "iopub.execute_input": "2025-05-20T06:05:55.814870Z",
     "iopub.status.busy": "2025-05-20T06:05:55.814690Z",
     "iopub.status.idle": "2025-05-20T06:05:55.818757Z",
     "shell.execute_reply": "2025-05-20T06:05:55.818218Z"
    },
    "papermill": {
     "duration": 0.010149,
     "end_time": "2025-05-20T06:05:55.819897",
     "exception": false,
     "start_time": "2025-05-20T06:05:55.809748",
     "status": "completed"
    },
    "tags": []
   },
   "outputs": [],
   "source": [
    "def add_features(df):\n",
    "    for i, c1 in enumerate(features):\n",
    "        for c2 in (features[i+1:]):\n",
    "            m = f'{c1}*{c2}'\n",
    "            df[m] = df[c1] * df[c2]\n",
    "            a = f'{c1}+{c2}'\n",
    "            df[a] = df[c1] + df[c2]\n",
    "            d = f'{c1}/{c2}'\n",
    "            df[d] = df[c1] / (df[c2] + 1e-3)\n",
    "    return df"
   ]
  },
  {
   "cell_type": "code",
   "execution_count": 17,
   "id": "c4a62b28",
   "metadata": {
    "execution": {
     "iopub.execute_input": "2025-05-20T06:05:55.830111Z",
     "iopub.status.busy": "2025-05-20T06:05:55.829902Z",
     "iopub.status.idle": "2025-05-20T06:05:55.838289Z",
     "shell.execute_reply": "2025-05-20T06:05:55.837554Z"
    },
    "papermill": {
     "duration": 0.015131,
     "end_time": "2025-05-20T06:05:55.839426",
     "exception": false,
     "start_time": "2025-05-20T06:05:55.824295",
     "status": "completed"
    },
    "tags": []
   },
   "outputs": [],
   "source": [
    "def feature_engineer(df):\n",
    "    df['BMI'] = df['Weight'] / (df['Height']/100) ** 2\n",
    "    \n",
    "    Max_Heart_Rate = 207 - (0.7 * df['Age'])\n",
    "    df['HR_Ratio'] = df['Heart_Rate'] / Max_Heart_Rate\n",
    "    df['HR_Reserve'] =  df['HR_Ratio'] * df['Duration']\n",
    "    df['Thermal_Load'] = df['Body_Temp'] * df['Duration'] * df['HR_Ratio']\n",
    "\n",
    "    df['Aerobic_Contribution'] = (1 - df['HR_Ratio']) * df['Duration'] * df['Weight'] * 0.1\n",
    "    df['Anaerobic_Contribution'] = df['HR_Ratio']**2 * np.minimum(df['Duration'], 180) * df['Weight'] * 0.05\n",
    "    df['Allometric_Energy'] = df['Duration'] * df['Heart_Rate'] * (df['Weight']**0.75)\n",
    "\n",
    "    df['RMR_MifflinStJeor'] = (10 * df['Weight']) + (6.25 * df['Height']) - (5 * df['Age']) + 5\n",
    "    df['Est_BodyFat_Pct'] = (1.39 * df['BMI']) + (0.16 * df['Age']) - 14\n",
    "    df['Est_FFM'] = df['Weight'] * (1 - df['Est_BodyFat_Pct']/100)\n",
    "    \n",
    "    \n",
    "    MET_Estimate = (df['Heart_Rate'] / Max_Heart_Rate) * 15\n",
    "    df['MET_Calories_Rate'] = MET_Estimate * 3.5 * df['Weight'] / 200\n",
    "    \n",
    "    df['Aerobic_Anaerobic_Ratio'] = df['Aerobic_Contribution'] / (df['Anaerobic_Contribution'] + 1)\n",
    "    df['Zone5_Anaerobic'] = (df['Heart_Rate'] / Max_Heart_Rate) > 0.9\n",
    "    df['EPOC_Factor'] = df['HR_Ratio']**2 * np.log1p(df['Duration']/10)\n",
    "    df['Work_Capacity'] = df['Duration'] * df['HR_Ratio']**2 * df['Weight']\n",
    "    df['MET_Calories_Total'] = df['MET_Calories_Rate'] * df['Duration']\n",
    "    \n",
    "    df['Exercise_Intensity_Index'] = df['Heart_Rate'] * df['Body_Temp'] / (df['Weight'] * df['Age'])\n",
    "    df['Exercise_Economy'] = df['Heart_Rate'] / (df['Weight']**0.75)\n",
    "\n",
    "    df['exertion_score'] = df['Duration'] * df['Heart_Rate'] * df['Body_Temp']\n",
    "    df['Age_Adjusted_Exertion'] = df['exertion_score'] / (1 + 0.01 * (df['Age'] - 30))\n",
    "    df['Height_Norm_Work'] = df['Duration'] * df['HR_Ratio'] * df['Weight'] / df['Height']\n",
    "    df['HR_Sigmoid'] = 1 / (1 + np.exp(-0.1 * (df['Heart_Rate'] - 130)))\n",
    "    df['Duration_Exp_Decay'] = 1 - np.exp(-0.1 * df['Duration'])\n",
    "\n",
    "    df['body_theta'] = np.arctan2(df['Weight'], df['Height'])\n",
    "    \n",
    "    return df"
   ]
  },
  {
   "cell_type": "code",
   "execution_count": 18,
   "id": "20797985",
   "metadata": {
    "execution": {
     "iopub.execute_input": "2025-05-20T06:05:55.848899Z",
     "iopub.status.busy": "2025-05-20T06:05:55.848698Z",
     "iopub.status.idle": "2025-05-20T06:05:56.781099Z",
     "shell.execute_reply": "2025-05-20T06:05:56.780457Z"
    },
    "papermill": {
     "duration": 0.93864,
     "end_time": "2025-05-20T06:05:56.782471",
     "exception": false,
     "start_time": "2025-05-20T06:05:55.843831",
     "status": "completed"
    },
    "tags": []
   },
   "outputs": [],
   "source": [
    "X = train.copy()\n",
    "y = X.pop('Calories')\n",
    "y = np.log1p(y)\n",
    "\n",
    "X = add_features(X)\n",
    "X = feature_engineer(X)\n",
    "X = gender_feat_interaction(X, features=['Duration', 'Heart_Rate', 'Body_Temp', 'Weight'])\n",
    "\n",
    "X_test = test.copy()\n",
    "X_test = add_features(X_test)\n",
    "X_test = feature_engineer(X_test)\n",
    "X_test = gender_feat_interaction(X_test, features=['Duration', 'Heart_Rate', 'Body_Temp', 'Weight'])"
   ]
  },
  {
   "cell_type": "code",
   "execution_count": 19,
   "id": "05bbf39b",
   "metadata": {
    "execution": {
     "iopub.execute_input": "2025-05-20T06:05:56.792845Z",
     "iopub.status.busy": "2025-05-20T06:05:56.792387Z",
     "iopub.status.idle": "2025-05-20T06:05:56.795582Z",
     "shell.execute_reply": "2025-05-20T06:05:56.795065Z"
    },
    "papermill": {
     "duration": 0.00952,
     "end_time": "2025-05-20T06:05:56.796728",
     "exception": false,
     "start_time": "2025-05-20T06:05:56.787208",
     "status": "completed"
    },
    "tags": []
   },
   "outputs": [],
   "source": [
    "oof_preds = {}\n",
    "test_preds = {}"
   ]
  },
  {
   "cell_type": "code",
   "execution_count": 20,
   "id": "e226bb80",
   "metadata": {
    "execution": {
     "iopub.execute_input": "2025-05-20T06:05:56.807101Z",
     "iopub.status.busy": "2025-05-20T06:05:56.806840Z",
     "iopub.status.idle": "2025-05-20T06:08:08.652863Z",
     "shell.execute_reply": "2025-05-20T06:08:08.652062Z"
    },
    "papermill": {
     "duration": 131.857407,
     "end_time": "2025-05-20T06:08:08.658853",
     "exception": false,
     "start_time": "2025-05-20T06:05:56.801446",
     "status": "completed"
    },
    "tags": []
   },
   "outputs": [
    {
     "name": "stdout",
     "output_type": "stream",
     "text": [
      "Fold 1 RMSE: 0.059676\n",
      "Fold 2 RMSE: 0.059941\n",
      "Fold 3 RMSE: 0.060567\n",
      "Fold 4 RMSE: 0.060491\n",
      "Fold 5 RMSE: 0.059862\n",
      "\n",
      "Overall OOF RMSLE: 0.060108\n"
     ]
    }
   ],
   "source": [
    "from sklearn.model_selection import KFold\n",
    "from cuml.metrics import mean_squared_log_error\n",
    "from xgboost import XGBRegressor\n",
    "\n",
    "n_folds = 5\n",
    "kf = KFold(n_splits=n_folds, shuffle=True, random_state=100)\n",
    "\n",
    "oof_xgb = np.zeros(len(y))\n",
    "test_xgb = np.zeros(len(X_test))\n",
    "\n",
    "params = {\n",
    "    'n_estimators': 3000, \n",
    "    'learning_rate': 0.012429613949090264, \n",
    "    'max_depth': 10, \n",
    "    'min_child_weight': 7, \n",
    "    'alpha': 0.031799792818970524, \n",
    "    'reg_lambda': 0.3580931274078332, \n",
    "    'subsample': 0.8416119186946701, \n",
    "    'colsample_bytree': 0.5066402912386329, \n",
    "    'gamma': 1.037011350094906\n",
    "}\n",
    "\n",
    "for fold, (train_index, valid_index) in enumerate(kf.split(X, y), start=1):\n",
    "        X_train, X_valid = X.iloc[train_index].copy(), X.iloc[valid_index].copy()\n",
    "        y_train, y_valid = y.iloc[train_index], y.iloc[valid_index]\n",
    "        \n",
    "        xgb = XGBRegressor(**params, early_stopping_rounds=50, tree_method='gpu_hist', device='cuda', seed=100, \n",
    "            objective='reg:squarederror', eval_metric='rmse',\n",
    "        ).fit(X_train, y_train, eval_set=[(X_valid, y_valid)], verbose=0)\n",
    "    \n",
    "        valid_pred = xgb.predict(X_valid)\n",
    "        oof_xgb[valid_index] = valid_pred\n",
    "        test_xgb += xgb.predict(X_test) / n_folds\n",
    "    \n",
    "        fold_rmsle = np.sqrt(mean_squared_log_error(np.expm1(y_valid), np.expm1(valid_pred)))\n",
    "        print(f\"Fold {fold} RMSE: {fold_rmsle:.6f}\")\n",
    "\n",
    "test_xgb = np.expm1(test_xgb)\n",
    "test_xgb = np.clip(test_xgb, 1, 314)\n",
    "\n",
    "oof_preds['XGB'] = oof_xgb \n",
    "test_preds['XGB'] = test_xgb\n",
    "\n",
    "overall_rmsle = np.sqrt(mean_squared_log_error(np.expm1(y), np.expm1(oof_xgb)))\n",
    "print(f\"\\nOverall OOF RMSLE: {overall_rmsle:.6f}\")   "
   ]
  },
  {
   "cell_type": "code",
   "execution_count": 21,
   "id": "5c71c490",
   "metadata": {
    "execution": {
     "iopub.execute_input": "2025-05-20T06:08:08.669574Z",
     "iopub.status.busy": "2025-05-20T06:08:08.668995Z",
     "iopub.status.idle": "2025-05-20T06:08:08.923303Z",
     "shell.execute_reply": "2025-05-20T06:08:08.922710Z"
    },
    "papermill": {
     "duration": 0.261023,
     "end_time": "2025-05-20T06:08:08.924622",
     "exception": false,
     "start_time": "2025-05-20T06:08:08.663599",
     "status": "completed"
    },
    "tags": []
   },
   "outputs": [],
   "source": [
    "X = train.copy()\n",
    "y = X.pop('Calories')\n",
    "y = np.log1p(y) \n",
    "X = add_features(X)\n",
    "X = feature_engineer(X)\n",
    "X = gender_feat_interaction(X, features=['Duration', 'Heart_Rate', 'Body_Temp', 'Weight'])\n",
    "X['Sex'] = X['Sex'].astype('category')\n",
    "\n",
    "X_test = test.copy()\n",
    "X_test = add_features(X_test)\n",
    "X_test = feature_engineer(X_test)\n",
    "X_test = gender_feat_interaction(X_test, features=['Duration', 'Heart_Rate', 'Body_Temp', 'Weight'])\n",
    "X_test['Sex'] = X_test['Sex'].astype('category')"
   ]
  },
  {
   "cell_type": "code",
   "execution_count": 22,
   "id": "cd62ed6f",
   "metadata": {
    "execution": {
     "iopub.execute_input": "2025-05-20T06:08:08.935639Z",
     "iopub.status.busy": "2025-05-20T06:08:08.935419Z",
     "iopub.status.idle": "2025-05-20T06:11:34.113878Z",
     "shell.execute_reply": "2025-05-20T06:11:34.113204Z"
    },
    "papermill": {
     "duration": 205.190269,
     "end_time": "2025-05-20T06:11:34.120163",
     "exception": false,
     "start_time": "2025-05-20T06:08:08.929894",
     "status": "completed"
    },
    "tags": []
   },
   "outputs": [
    {
     "name": "stdout",
     "output_type": "stream",
     "text": [
      "Fold 1 RMSE: 0.059258\n",
      "Fold 2 RMSE: 0.058931\n",
      "Fold 3 RMSE: 0.059792\n",
      "Fold 4 RMSE: 0.059141\n",
      "Fold 5 RMSE: 0.060155\n",
      "\n",
      "Overall OOF RMSLE: 0.059457\n"
     ]
    }
   ],
   "source": [
    "from catboost import CatBoostRegressor\n",
    "from sklearn.preprocessing import KBinsDiscretizer\n",
    "from sklearn.model_selection import StratifiedKFold\n",
    "\n",
    "bins = KBinsDiscretizer(n_bins=12, encode='ordinal', strategy='kmeans')\n",
    "duration_bins = bins.fit_transform(train[['Duration']]).astype(int).flatten()\n",
    "\n",
    "skf = StratifiedKFold(n_splits=5, shuffle=True, random_state=42)\n",
    "oof_cat = np.zeros(len(y))\n",
    "test_cat = np.zeros(len(X_test))\n",
    "\n",
    "params = {\n",
    "    'iterations': 2500, \n",
    "    'learning_rate': 0.03813511357889326, \n",
    "    'depth': 10, \n",
    "    'l2_leaf_reg': 5.101121281815585, \n",
    "    'bagging_temperature': 0.6263562727371863, \n",
    "    'random_strength': 0.6489211175248135,\n",
    "    'loss_function': 'RMSE',\n",
    "    'cat_features': ['Sex'],\n",
    "    'eval_metric': 'RMSE',\n",
    "    'early_stopping_rounds': 100,\n",
    "    'verbose': 0,\n",
    "    'random_seed': 100,\n",
    "    'task_type': 'GPU'   \n",
    "}\n",
    "\n",
    "for fold, (train_index, valid_index) in enumerate(skf.split(X, duration_bins), start=1):\n",
    "        X_train, X_valid = X.iloc[train_index].copy(), X.iloc[valid_index].copy()\n",
    "        y_train, y_valid = y.iloc[train_index], y.iloc[valid_index]\n",
    "\n",
    "        cat = CatBoostRegressor(**params).fit(X_train, y_train, eval_set=[(X_valid, y_valid)], use_best_model=True)\n",
    "    \n",
    "        valid_pred = cat.predict(X_valid)\n",
    "        oof_cat[valid_index] = valid_pred\n",
    "        test_cat += cat.predict(X_test) / n_folds\n",
    "    \n",
    "        fold_rmsle = np.sqrt(mean_squared_log_error(np.expm1(y_valid), np.expm1(valid_pred)))\n",
    "        print(f\"Fold {fold} RMSE: {fold_rmsle:.6f}\")\n",
    "\n",
    "test_cat = np.expm1(test_cat)\n",
    "test_cat = np.clip(test_cat, 1, 314)\n",
    "\n",
    "oof_preds['CAT'] = oof_cat\n",
    "test_preds['CAT'] = test_cat\n",
    "\n",
    "overall_rmsle = np.sqrt(mean_squared_log_error(np.expm1(y), np.expm1(oof_cat)))\n",
    "print(f\"\\nOverall OOF RMSLE: {overall_rmsle:.6f}\")\n"
   ]
  },
  {
   "cell_type": "code",
   "execution_count": 23,
   "id": "4b6fd864",
   "metadata": {
    "execution": {
     "iopub.execute_input": "2025-05-20T06:11:34.130632Z",
     "iopub.status.busy": "2025-05-20T06:11:34.130445Z",
     "iopub.status.idle": "2025-05-20T06:11:34.169847Z",
     "shell.execute_reply": "2025-05-20T06:11:34.169226Z"
    },
    "papermill": {
     "duration": 0.045785,
     "end_time": "2025-05-20T06:11:34.170923",
     "exception": false,
     "start_time": "2025-05-20T06:11:34.125138",
     "status": "completed"
    },
    "tags": []
   },
   "outputs": [
    {
     "data": {
      "text/plain": [
       "['test_preds.pkl']"
      ]
     },
     "execution_count": 23,
     "metadata": {},
     "output_type": "execute_result"
    }
   ],
   "source": [
    "import joblib\n",
    "\n",
    "X = pd.DataFrame(oof_preds)\n",
    "X_test = pd.DataFrame(test_preds)\n",
    "\n",
    "joblib.dump(X, \"oof_preds.pkl\")\n",
    "joblib.dump(X_test, \"test_preds.pkl\")\n"
   ]
  },
  {
   "cell_type": "code",
   "execution_count": 24,
   "id": "0c9f207b",
   "metadata": {
    "execution": {
     "iopub.execute_input": "2025-05-20T06:11:34.182390Z",
     "iopub.status.busy": "2025-05-20T06:11:34.181808Z",
     "iopub.status.idle": "2025-05-20T06:11:34.319612Z",
     "shell.execute_reply": "2025-05-20T06:11:34.318875Z"
    },
    "papermill": {
     "duration": 0.145943,
     "end_time": "2025-05-20T06:11:34.322078",
     "exception": false,
     "start_time": "2025-05-20T06:11:34.176135",
     "status": "completed"
    },
    "tags": []
   },
   "outputs": [],
   "source": [
    "from sklearn.linear_model import BayesianRidge\n",
    "\n",
    "meta_train = np.column_stack((oof_xgb, oof_cat))\n",
    "meta_test = np.column_stack((test_xgb, test_cat))\n",
    "\n",
    "meta_model = BayesianRidge(n_iter=2000).fit(meta_train, y)\n",
    "\n",
    "final_preds = meta_model.predict(meta_test)"
   ]
  },
  {
   "cell_type": "code",
   "execution_count": 25,
   "id": "e10c56ca",
   "metadata": {
    "execution": {
     "iopub.execute_input": "2025-05-20T06:11:34.343065Z",
     "iopub.status.busy": "2025-05-20T06:11:34.342774Z",
     "iopub.status.idle": "2025-05-20T06:11:34.416906Z",
     "shell.execute_reply": "2025-05-20T06:11:34.416222Z"
    },
    "papermill": {
     "duration": 0.084429,
     "end_time": "2025-05-20T06:11:34.418186",
     "exception": false,
     "start_time": "2025-05-20T06:11:34.333757",
     "status": "completed"
    },
    "tags": []
   },
   "outputs": [
    {
     "name": "stdout",
     "output_type": "stream",
     "text": [
      "Your submission was successfully saved!\n",
      "       id    Calories\n",
      "0  750000   27.391357\n",
      "1  750001  107.764585\n",
      "2  750002   87.585629\n",
      "3  750003  125.859125\n",
      "4  750004   75.607572\n"
     ]
    }
   ],
   "source": [
    "sub = pd.read_csv('/kaggle/input/playground-series-s5e5/sample_submission.csv')\n",
    "sub['Calories'] = final_preds\n",
    "sub.to_csv('submission.csv', index=False)\n",
    "print(\"Your submission was successfully saved!\")\n",
    "print(sub.head(5))"
   ]
  }
 ],
 "metadata": {
  "kaggle": {
   "accelerator": "nvidiaTeslaT4",
   "dataSources": [
    {
     "databundleVersionId": 11893428,
     "sourceId": 91716,
     "sourceType": "competition"
    },
    {
     "datasetId": 6512323,
     "sourceId": 10522392,
     "sourceType": "datasetVersion"
    }
   ],
   "dockerImageVersionId": 31011,
   "isGpuEnabled": true,
   "isInternetEnabled": true,
   "language": "python",
   "sourceType": "notebook"
  },
  "kernelspec": {
   "display_name": "Python 3",
   "language": "python",
   "name": "python3"
  },
  "language_info": {
   "codemirror_mode": {
    "name": "ipython",
    "version": 3
   },
   "file_extension": ".py",
   "mimetype": "text/x-python",
   "name": "python",
   "nbconvert_exporter": "python",
   "pygments_lexer": "ipython3",
   "version": "3.11.11"
  },
  "papermill": {
   "default_parameters": {},
   "duration": 362.429724,
   "end_time": "2025-05-20T06:11:37.248167",
   "environment_variables": {},
   "exception": null,
   "input_path": "__notebook__.ipynb",
   "output_path": "__notebook__.ipynb",
   "parameters": {},
   "start_time": "2025-05-20T06:05:34.818443",
   "version": "2.6.0"
  }
 },
 "nbformat": 4,
 "nbformat_minor": 5
}
