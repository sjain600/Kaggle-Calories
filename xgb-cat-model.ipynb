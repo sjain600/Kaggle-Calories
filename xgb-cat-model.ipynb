{
 "cells": [
  {
   "cell_type": "code",
   "execution_count": 1,
   "id": "2b5f79d4",
   "metadata": {
    "execution": {
     "iopub.execute_input": "2025-05-19T05:43:01.128350Z",
     "iopub.status.busy": "2025-05-19T05:43:01.128132Z",
     "iopub.status.idle": "2025-05-19T05:43:13.337699Z",
     "shell.execute_reply": "2025-05-19T05:43:13.336888Z"
    },
    "papermill": {
     "duration": 12.216122,
     "end_time": "2025-05-19T05:43:13.338831",
     "exception": false,
     "start_time": "2025-05-19T05:43:01.122709",
     "status": "completed"
    },
    "tags": []
   },
   "outputs": [
    {
     "name": "stdout",
     "output_type": "stream",
     "text": [
      "/kaggle/input/calories-burnt-prediction/calories.csv\n",
      "/kaggle/input/playground-series-s5e5/sample_submission.csv\n",
      "/kaggle/input/playground-series-s5e5/train.csv\n",
      "/kaggle/input/playground-series-s5e5/test.csv\n"
     ]
    },
    {
     "data": {
      "text/plain": [
       "<Figure size 1200x750 with 0 Axes>"
      ]
     },
     "metadata": {},
     "output_type": "display_data"
    }
   ],
   "source": [
    "# This Python 3 environment comes with many helpful analytics libraries installed\n",
    "# It is defined by the kaggle/python Docker image: https://github.com/kaggle/docker-python\n",
    "# For example, here's several helpful packages to load\n",
    "%load_ext cudf.pandas\n",
    "import numpy as np # linear algebra\n",
    "import pandas as pd # data processing, CSV file I/O (e.g. pd.read_csv)\n",
    "import matplotlib.pyplot as plt\n",
    "import seaborn as sns\n",
    "import cuml\n",
    "\n",
    "# Setting Matplotlib defaults\n",
    "plt.style.use('seaborn-v0_8')\n",
    "plt.rc('figure', figsize=(8,5), dpi=150)\n",
    "plt.rc('axes', labelweight='bold', labelsize='large',\n",
    "       titleweight='bold', titlesize=15, titlepad=10)\n",
    "plt.rc('animation', html='html5')\n",
    "plt.tight_layout()\n",
    "# Input data files are available in the read-only \"../input/\" directory\n",
    "# For example, running this (by clicking run or pressing Shift+Enter) will list all files under the input directory\n",
    "\n",
    "import os\n",
    "for dirname, _, filenames in os.walk('/kaggle/input'):\n",
    "    for filename in filenames:\n",
    "        print(os.path.join(dirname, filename))\n",
    "        \n",
    "import warnings\n",
    "warnings.simplefilter('ignore')\n",
    "\n",
    "pd.set_option('display.max_columns', 500)\n",
    "\n",
    "# You can write up to 20GB to the current directory (/kaggle/working/) that gets preserved as output when you create a version using \"Save & Run All\" \n",
    "# You can also write temporary files to /kaggle/temp/, but they won't be saved outside of the current session"
   ]
  },
  {
   "cell_type": "code",
   "execution_count": 2,
   "id": "6d9334d0",
   "metadata": {
    "execution": {
     "iopub.execute_input": "2025-05-19T05:43:13.348145Z",
     "iopub.status.busy": "2025-05-19T05:43:13.347666Z",
     "iopub.status.idle": "2025-05-19T05:43:13.752258Z",
     "shell.execute_reply": "2025-05-19T05:43:13.751420Z"
    },
    "papermill": {
     "duration": 0.410755,
     "end_time": "2025-05-19T05:43:13.754010",
     "exception": false,
     "start_time": "2025-05-19T05:43:13.343255",
     "status": "completed"
    },
    "tags": []
   },
   "outputs": [],
   "source": [
    "train = pd.read_csv('/kaggle/input/playground-series-s5e5/train.csv', index_col='id')\n",
    "test = pd.read_csv('/kaggle/input/playground-series-s5e5/test.csv', index_col='id')\n",
    "org = pd.read_csv('/kaggle/input/calories-burnt-prediction/calories.csv', index_col='User_ID')\n",
    "org = org.rename(columns={'Gender': 'Sex'})"
   ]
  },
  {
   "cell_type": "code",
   "execution_count": 3,
   "id": "a9b551b6",
   "metadata": {
    "execution": {
     "iopub.execute_input": "2025-05-19T05:43:13.763221Z",
     "iopub.status.busy": "2025-05-19T05:43:13.762986Z",
     "iopub.status.idle": "2025-05-19T05:43:13.791391Z",
     "shell.execute_reply": "2025-05-19T05:43:13.790884Z"
    },
    "papermill": {
     "duration": 0.033945,
     "end_time": "2025-05-19T05:43:13.792368",
     "exception": false,
     "start_time": "2025-05-19T05:43:13.758423",
     "status": "completed"
    },
    "tags": []
   },
   "outputs": [],
   "source": [
    "train = pd.concat([train, org], ignore_index=True)"
   ]
  },
  {
   "cell_type": "code",
   "execution_count": 4,
   "id": "d2ed43e6",
   "metadata": {
    "execution": {
     "iopub.execute_input": "2025-05-19T05:43:13.800621Z",
     "iopub.status.busy": "2025-05-19T05:43:13.800419Z",
     "iopub.status.idle": "2025-05-19T05:43:13.901039Z",
     "shell.execute_reply": "2025-05-19T05:43:13.900239Z"
    },
    "papermill": {
     "duration": 0.105943,
     "end_time": "2025-05-19T05:43:13.902146",
     "exception": false,
     "start_time": "2025-05-19T05:43:13.796203",
     "status": "completed"
    },
    "tags": []
   },
   "outputs": [
    {
     "name": "stdout",
     "output_type": "stream",
     "text": [
      "(762107, 8) (765000, 8)\n"
     ]
    }
   ],
   "source": [
    "strt_cols = list(test.columns)\n",
    "print(train.drop_duplicates(subset=strt_cols + ['Calories']).shape, train.shape)"
   ]
  },
  {
   "cell_type": "markdown",
   "id": "314788ff",
   "metadata": {
    "papermill": {
     "duration": 0.0036,
     "end_time": "2025-05-19T05:43:13.909688",
     "exception": false,
     "start_time": "2025-05-19T05:43:13.906088",
     "status": "completed"
    },
    "tags": []
   },
   "source": [
    "# Data Understanding"
   ]
  },
  {
   "cell_type": "code",
   "execution_count": 5,
   "id": "a6920b41",
   "metadata": {
    "execution": {
     "iopub.execute_input": "2025-05-19T05:43:13.917945Z",
     "iopub.status.busy": "2025-05-19T05:43:13.917725Z",
     "iopub.status.idle": "2025-05-19T05:43:13.922118Z",
     "shell.execute_reply": "2025-05-19T05:43:13.921443Z"
    },
    "papermill": {
     "duration": 0.009781,
     "end_time": "2025-05-19T05:43:13.923224",
     "exception": false,
     "start_time": "2025-05-19T05:43:13.913443",
     "status": "completed"
    },
    "tags": []
   },
   "outputs": [
    {
     "data": {
      "text/plain": [
       "(765000, 8)"
      ]
     },
     "execution_count": 5,
     "metadata": {},
     "output_type": "execute_result"
    }
   ],
   "source": [
    "train.shape"
   ]
  },
  {
   "cell_type": "code",
   "execution_count": 6,
   "id": "e4803d3d",
   "metadata": {
    "execution": {
     "iopub.execute_input": "2025-05-19T05:43:13.931649Z",
     "iopub.status.busy": "2025-05-19T05:43:13.931317Z",
     "iopub.status.idle": "2025-05-19T05:43:13.969539Z",
     "shell.execute_reply": "2025-05-19T05:43:13.968790Z"
    },
    "papermill": {
     "duration": 0.043471,
     "end_time": "2025-05-19T05:43:13.970574",
     "exception": false,
     "start_time": "2025-05-19T05:43:13.927103",
     "status": "completed"
    },
    "tags": []
   },
   "outputs": [
    {
     "data": {
      "text/html": [
       "<div>\n",
       "<style scoped>\n",
       "    .dataframe tbody tr th:only-of-type {\n",
       "        vertical-align: middle;\n",
       "    }\n",
       "\n",
       "    .dataframe tbody tr th {\n",
       "        vertical-align: top;\n",
       "    }\n",
       "\n",
       "    .dataframe thead th {\n",
       "        text-align: right;\n",
       "    }\n",
       "</style>\n",
       "<table border=\"1\" class=\"dataframe\">\n",
       "  <thead>\n",
       "    <tr style=\"text-align: right;\">\n",
       "      <th></th>\n",
       "      <th>Sex</th>\n",
       "      <th>Age</th>\n",
       "      <th>Height</th>\n",
       "      <th>Weight</th>\n",
       "      <th>Duration</th>\n",
       "      <th>Heart_Rate</th>\n",
       "      <th>Body_Temp</th>\n",
       "      <th>Calories</th>\n",
       "    </tr>\n",
       "  </thead>\n",
       "  <tbody>\n",
       "    <tr>\n",
       "      <th>0</th>\n",
       "      <td>male</td>\n",
       "      <td>36</td>\n",
       "      <td>189.0</td>\n",
       "      <td>82.0</td>\n",
       "      <td>26.0</td>\n",
       "      <td>101.0</td>\n",
       "      <td>41.0</td>\n",
       "      <td>150.0</td>\n",
       "    </tr>\n",
       "    <tr>\n",
       "      <th>1</th>\n",
       "      <td>female</td>\n",
       "      <td>64</td>\n",
       "      <td>163.0</td>\n",
       "      <td>60.0</td>\n",
       "      <td>8.0</td>\n",
       "      <td>85.0</td>\n",
       "      <td>39.7</td>\n",
       "      <td>34.0</td>\n",
       "    </tr>\n",
       "    <tr>\n",
       "      <th>2</th>\n",
       "      <td>female</td>\n",
       "      <td>51</td>\n",
       "      <td>161.0</td>\n",
       "      <td>64.0</td>\n",
       "      <td>7.0</td>\n",
       "      <td>84.0</td>\n",
       "      <td>39.8</td>\n",
       "      <td>29.0</td>\n",
       "    </tr>\n",
       "    <tr>\n",
       "      <th>3</th>\n",
       "      <td>male</td>\n",
       "      <td>20</td>\n",
       "      <td>192.0</td>\n",
       "      <td>90.0</td>\n",
       "      <td>25.0</td>\n",
       "      <td>105.0</td>\n",
       "      <td>40.7</td>\n",
       "      <td>140.0</td>\n",
       "    </tr>\n",
       "    <tr>\n",
       "      <th>4</th>\n",
       "      <td>female</td>\n",
       "      <td>38</td>\n",
       "      <td>166.0</td>\n",
       "      <td>61.0</td>\n",
       "      <td>25.0</td>\n",
       "      <td>102.0</td>\n",
       "      <td>40.6</td>\n",
       "      <td>146.0</td>\n",
       "    </tr>\n",
       "    <tr>\n",
       "      <th>5</th>\n",
       "      <td>female</td>\n",
       "      <td>26</td>\n",
       "      <td>156.0</td>\n",
       "      <td>56.0</td>\n",
       "      <td>19.0</td>\n",
       "      <td>100.0</td>\n",
       "      <td>40.5</td>\n",
       "      <td>103.0</td>\n",
       "    </tr>\n",
       "    <tr>\n",
       "      <th>6</th>\n",
       "      <td>female</td>\n",
       "      <td>21</td>\n",
       "      <td>172.0</td>\n",
       "      <td>73.0</td>\n",
       "      <td>3.0</td>\n",
       "      <td>81.0</td>\n",
       "      <td>38.3</td>\n",
       "      <td>9.0</td>\n",
       "    </tr>\n",
       "    <tr>\n",
       "      <th>7</th>\n",
       "      <td>male</td>\n",
       "      <td>46</td>\n",
       "      <td>188.0</td>\n",
       "      <td>94.0</td>\n",
       "      <td>23.0</td>\n",
       "      <td>100.0</td>\n",
       "      <td>40.8</td>\n",
       "      <td>145.0</td>\n",
       "    </tr>\n",
       "    <tr>\n",
       "      <th>8</th>\n",
       "      <td>female</td>\n",
       "      <td>33</td>\n",
       "      <td>166.0</td>\n",
       "      <td>63.0</td>\n",
       "      <td>25.0</td>\n",
       "      <td>107.0</td>\n",
       "      <td>40.5</td>\n",
       "      <td>161.0</td>\n",
       "    </tr>\n",
       "    <tr>\n",
       "      <th>9</th>\n",
       "      <td>male</td>\n",
       "      <td>65</td>\n",
       "      <td>185.0</td>\n",
       "      <td>88.0</td>\n",
       "      <td>23.0</td>\n",
       "      <td>104.0</td>\n",
       "      <td>41.0</td>\n",
       "      <td>185.0</td>\n",
       "    </tr>\n",
       "  </tbody>\n",
       "</table>\n",
       "</div>"
      ],
      "text/plain": [
       "      Sex  Age  Height  Weight  Duration  Heart_Rate  Body_Temp  Calories\n",
       "0    male   36   189.0    82.0      26.0       101.0       41.0     150.0\n",
       "1  female   64   163.0    60.0       8.0        85.0       39.7      34.0\n",
       "2  female   51   161.0    64.0       7.0        84.0       39.8      29.0\n",
       "3    male   20   192.0    90.0      25.0       105.0       40.7     140.0\n",
       "4  female   38   166.0    61.0      25.0       102.0       40.6     146.0\n",
       "5  female   26   156.0    56.0      19.0       100.0       40.5     103.0\n",
       "6  female   21   172.0    73.0       3.0        81.0       38.3       9.0\n",
       "7    male   46   188.0    94.0      23.0       100.0       40.8     145.0\n",
       "8  female   33   166.0    63.0      25.0       107.0       40.5     161.0\n",
       "9    male   65   185.0    88.0      23.0       104.0       41.0     185.0"
      ]
     },
     "execution_count": 6,
     "metadata": {},
     "output_type": "execute_result"
    }
   ],
   "source": [
    "train.head(10)"
   ]
  },
  {
   "cell_type": "code",
   "execution_count": 7,
   "id": "fbf8ee6d",
   "metadata": {
    "execution": {
     "iopub.execute_input": "2025-05-19T05:43:13.979414Z",
     "iopub.status.busy": "2025-05-19T05:43:13.979223Z",
     "iopub.status.idle": "2025-05-19T05:43:15.169760Z",
     "shell.execute_reply": "2025-05-19T05:43:15.168951Z"
    },
    "papermill": {
     "duration": 1.196217,
     "end_time": "2025-05-19T05:43:15.170952",
     "exception": false,
     "start_time": "2025-05-19T05:43:13.974735",
     "status": "completed"
    },
    "tags": []
   },
   "outputs": [
    {
     "data": {
      "text/html": [
       "<div>\n",
       "<style scoped>\n",
       "    .dataframe tbody tr th:only-of-type {\n",
       "        vertical-align: middle;\n",
       "    }\n",
       "\n",
       "    .dataframe tbody tr th {\n",
       "        vertical-align: top;\n",
       "    }\n",
       "\n",
       "    .dataframe thead th {\n",
       "        text-align: right;\n",
       "    }\n",
       "</style>\n",
       "<table border=\"1\" class=\"dataframe\">\n",
       "  <thead>\n",
       "    <tr style=\"text-align: right;\">\n",
       "      <th></th>\n",
       "      <th>Age</th>\n",
       "      <th>Height</th>\n",
       "      <th>Weight</th>\n",
       "      <th>Duration</th>\n",
       "      <th>Heart_Rate</th>\n",
       "      <th>Body_Temp</th>\n",
       "      <th>Calories</th>\n",
       "    </tr>\n",
       "  </thead>\n",
       "  <tbody>\n",
       "    <tr>\n",
       "      <th>count</th>\n",
       "      <td>765000.000000</td>\n",
       "      <td>765000.000000</td>\n",
       "      <td>765000.000000</td>\n",
       "      <td>765000.000000</td>\n",
       "      <td>765000.000000</td>\n",
       "      <td>765000.000000</td>\n",
       "      <td>765000.000000</td>\n",
       "    </tr>\n",
       "    <tr>\n",
       "      <th>mean</th>\n",
       "      <td>41.447255</td>\n",
       "      <td>174.693126</td>\n",
       "      <td>75.142162</td>\n",
       "      <td>15.423163</td>\n",
       "      <td>95.484672</td>\n",
       "      <td>40.036041</td>\n",
       "      <td>88.307424</td>\n",
       "    </tr>\n",
       "    <tr>\n",
       "      <th>std</th>\n",
       "      <td>15.213677</td>\n",
       "      <td>12.854173</td>\n",
       "      <td>14.004122</td>\n",
       "      <td>8.353421</td>\n",
       "      <td>9.452476</td>\n",
       "      <td>0.779863</td>\n",
       "      <td>62.396760</td>\n",
       "    </tr>\n",
       "    <tr>\n",
       "      <th>min</th>\n",
       "      <td>20.000000</td>\n",
       "      <td>123.000000</td>\n",
       "      <td>36.000000</td>\n",
       "      <td>1.000000</td>\n",
       "      <td>67.000000</td>\n",
       "      <td>37.100000</td>\n",
       "      <td>1.000000</td>\n",
       "    </tr>\n",
       "    <tr>\n",
       "      <th>25%</th>\n",
       "      <td>28.000000</td>\n",
       "      <td>164.000000</td>\n",
       "      <td>63.000000</td>\n",
       "      <td>8.000000</td>\n",
       "      <td>88.000000</td>\n",
       "      <td>39.600000</td>\n",
       "      <td>34.000000</td>\n",
       "    </tr>\n",
       "    <tr>\n",
       "      <th>50%</th>\n",
       "      <td>40.000000</td>\n",
       "      <td>174.000000</td>\n",
       "      <td>74.000000</td>\n",
       "      <td>15.000000</td>\n",
       "      <td>95.000000</td>\n",
       "      <td>40.300000</td>\n",
       "      <td>77.000000</td>\n",
       "    </tr>\n",
       "    <tr>\n",
       "      <th>75%</th>\n",
       "      <td>52.000000</td>\n",
       "      <td>185.000000</td>\n",
       "      <td>87.000000</td>\n",
       "      <td>23.000000</td>\n",
       "      <td>103.000000</td>\n",
       "      <td>40.700000</td>\n",
       "      <td>136.000000</td>\n",
       "    </tr>\n",
       "    <tr>\n",
       "      <th>max</th>\n",
       "      <td>79.000000</td>\n",
       "      <td>222.000000</td>\n",
       "      <td>132.000000</td>\n",
       "      <td>30.000000</td>\n",
       "      <td>128.000000</td>\n",
       "      <td>41.500000</td>\n",
       "      <td>314.000000</td>\n",
       "    </tr>\n",
       "  </tbody>\n",
       "</table>\n",
       "</div>"
      ],
      "text/plain": [
       "                 Age         Height         Weight       Duration  \\\n",
       "count  765000.000000  765000.000000  765000.000000  765000.000000   \n",
       "mean       41.447255     174.693126      75.142162      15.423163   \n",
       "std        15.213677      12.854173      14.004122       8.353421   \n",
       "min        20.000000     123.000000      36.000000       1.000000   \n",
       "25%        28.000000     164.000000      63.000000       8.000000   \n",
       "50%        40.000000     174.000000      74.000000      15.000000   \n",
       "75%        52.000000     185.000000      87.000000      23.000000   \n",
       "max        79.000000     222.000000     132.000000      30.000000   \n",
       "\n",
       "          Heart_Rate      Body_Temp       Calories  \n",
       "count  765000.000000  765000.000000  765000.000000  \n",
       "mean       95.484672      40.036041      88.307424  \n",
       "std         9.452476       0.779863      62.396760  \n",
       "min        67.000000      37.100000       1.000000  \n",
       "25%        88.000000      39.600000      34.000000  \n",
       "50%        95.000000      40.300000      77.000000  \n",
       "75%       103.000000      40.700000     136.000000  \n",
       "max       128.000000      41.500000     314.000000  "
      ]
     },
     "execution_count": 7,
     "metadata": {},
     "output_type": "execute_result"
    }
   ],
   "source": [
    "train.describe()"
   ]
  },
  {
   "cell_type": "code",
   "execution_count": 8,
   "id": "41b36020",
   "metadata": {
    "execution": {
     "iopub.execute_input": "2025-05-19T05:43:15.181470Z",
     "iopub.status.busy": "2025-05-19T05:43:15.180927Z",
     "iopub.status.idle": "2025-05-19T05:43:15.262906Z",
     "shell.execute_reply": "2025-05-19T05:43:15.262224Z"
    },
    "papermill": {
     "duration": 0.088257,
     "end_time": "2025-05-19T05:43:15.264141",
     "exception": false,
     "start_time": "2025-05-19T05:43:15.175884",
     "status": "completed"
    },
    "tags": []
   },
   "outputs": [
    {
     "data": {
      "text/plain": [
       "Sex           0\n",
       "Age           0\n",
       "Height        0\n",
       "Weight        0\n",
       "Duration      0\n",
       "Heart_Rate    0\n",
       "Body_Temp     0\n",
       "Calories      0\n",
       "dtype: int64"
      ]
     },
     "execution_count": 8,
     "metadata": {},
     "output_type": "execute_result"
    }
   ],
   "source": [
    "train.isnull().sum()"
   ]
  },
  {
   "cell_type": "code",
   "execution_count": 9,
   "id": "85498b0a",
   "metadata": {
    "execution": {
     "iopub.execute_input": "2025-05-19T05:43:15.275826Z",
     "iopub.status.busy": "2025-05-19T05:43:15.275323Z",
     "iopub.status.idle": "2025-05-19T05:43:15.287101Z",
     "shell.execute_reply": "2025-05-19T05:43:15.286158Z"
    },
    "papermill": {
     "duration": 0.018947,
     "end_time": "2025-05-19T05:43:15.288303",
     "exception": false,
     "start_time": "2025-05-19T05:43:15.269356",
     "status": "completed"
    },
    "tags": []
   },
   "outputs": [
    {
     "name": "stdout",
     "output_type": "stream",
     "text": [
      "<class 'cudf.core.dataframe.DataFrame'>\n",
      "RangeIndex: 765000 entries, 0 to 764999\n",
      "Data columns (total 8 columns):\n",
      " #   Column      Non-Null Count   Dtype\n",
      "---  ------      --------------   -----\n",
      " 0   Sex         765000 non-null  object\n",
      " 1   Age         765000 non-null  int64\n",
      " 2   Height      765000 non-null  float64\n",
      " 3   Weight      765000 non-null  float64\n",
      " 4   Duration    765000 non-null  float64\n",
      " 5   Heart_Rate  765000 non-null  float64\n",
      " 6   Body_Temp   765000 non-null  float64\n",
      " 7   Calories    765000 non-null  float64\n",
      "dtypes: float64(6), int64(1), object(1)\n",
      "memory usage: 47.4+ MB\n"
     ]
    }
   ],
   "source": [
    "train.info()"
   ]
  },
  {
   "cell_type": "markdown",
   "id": "3d9c26f3",
   "metadata": {
    "papermill": {
     "duration": 0.007643,
     "end_time": "2025-05-19T05:43:15.303836",
     "exception": false,
     "start_time": "2025-05-19T05:43:15.296193",
     "status": "completed"
    },
    "tags": []
   },
   "source": [
    "# Data Preprocessing"
   ]
  },
  {
   "cell_type": "markdown",
   "id": "d35c44ab",
   "metadata": {
    "papermill": {
     "duration": 0.004065,
     "end_time": "2025-05-19T05:43:15.312691",
     "exception": false,
     "start_time": "2025-05-19T05:43:15.308626",
     "status": "completed"
    },
    "tags": []
   },
   "source": [
    "## Reducing memory usage"
   ]
  },
  {
   "cell_type": "code",
   "execution_count": 10,
   "id": "609adc5b",
   "metadata": {
    "execution": {
     "iopub.execute_input": "2025-05-19T05:43:15.322762Z",
     "iopub.status.busy": "2025-05-19T05:43:15.322099Z",
     "iopub.status.idle": "2025-05-19T05:43:15.328540Z",
     "shell.execute_reply": "2025-05-19T05:43:15.327983Z"
    },
    "papermill": {
     "duration": 0.012557,
     "end_time": "2025-05-19T05:43:15.329644",
     "exception": false,
     "start_time": "2025-05-19T05:43:15.317087",
     "status": "completed"
    },
    "tags": []
   },
   "outputs": [],
   "source": [
    "train['Age'] = train['Age'].astype('int8')\n",
    "test['Age'] = test['Age'].astype('int8')"
   ]
  },
  {
   "cell_type": "code",
   "execution_count": 11,
   "id": "b88f3979",
   "metadata": {
    "execution": {
     "iopub.execute_input": "2025-05-19T05:43:15.339122Z",
     "iopub.status.busy": "2025-05-19T05:43:15.338863Z",
     "iopub.status.idle": "2025-05-19T05:43:17.296117Z",
     "shell.execute_reply": "2025-05-19T05:43:17.295241Z"
    },
    "papermill": {
     "duration": 1.963704,
     "end_time": "2025-05-19T05:43:17.297620",
     "exception": false,
     "start_time": "2025-05-19T05:43:15.333916",
     "status": "completed"
    },
    "tags": []
   },
   "outputs": [],
   "source": [
    "num_cols = test.select_dtypes(include='float64').columns\n",
    "for col in num_cols:\n",
    "    train[num_cols] = train[num_cols].astype('float32')\n",
    "    test[num_cols] = test[num_cols].astype('float32')"
   ]
  },
  {
   "cell_type": "code",
   "execution_count": 12,
   "id": "651da8d6",
   "metadata": {
    "execution": {
     "iopub.execute_input": "2025-05-19T05:43:17.309658Z",
     "iopub.status.busy": "2025-05-19T05:43:17.309453Z",
     "iopub.status.idle": "2025-05-19T05:43:17.327798Z",
     "shell.execute_reply": "2025-05-19T05:43:17.326952Z"
    },
    "papermill": {
     "duration": 0.025464,
     "end_time": "2025-05-19T05:43:17.328913",
     "exception": false,
     "start_time": "2025-05-19T05:43:17.303449",
     "status": "completed"
    },
    "tags": []
   },
   "outputs": [
    {
     "name": "stdout",
     "output_type": "stream",
     "text": [
      "<class 'cudf.core.dataframe.DataFrame'>\n",
      "RangeIndex: 765000 entries, 0 to 764999\n",
      "Data columns (total 8 columns):\n",
      " #   Column      Non-Null Count   Dtype\n",
      "---  ------      --------------   -----\n",
      " 0   Sex         765000 non-null  object\n",
      " 1   Age         765000 non-null  int8\n",
      " 2   Height      765000 non-null  float32\n",
      " 3   Weight      765000 non-null  float32\n",
      " 4   Duration    765000 non-null  float32\n",
      " 5   Heart_Rate  765000 non-null  float32\n",
      " 6   Body_Temp   765000 non-null  float32\n",
      " 7   Calories    765000 non-null  float64\n",
      "dtypes: float32(5), float64(1), int8(1), object(1)\n",
      "memory usage: 27.7+ MB\n"
     ]
    }
   ],
   "source": [
    "train.info()"
   ]
  },
  {
   "cell_type": "code",
   "execution_count": 13,
   "id": "909a5098",
   "metadata": {
    "execution": {
     "iopub.execute_input": "2025-05-19T05:43:17.338885Z",
     "iopub.status.busy": "2025-05-19T05:43:17.338519Z",
     "iopub.status.idle": "2025-05-19T05:43:17.394636Z",
     "shell.execute_reply": "2025-05-19T05:43:17.393939Z"
    },
    "papermill": {
     "duration": 0.062388,
     "end_time": "2025-05-19T05:43:17.395789",
     "exception": false,
     "start_time": "2025-05-19T05:43:17.333401",
     "status": "completed"
    },
    "tags": []
   },
   "outputs": [],
   "source": [
    "mapping = {'male': 1, 'female': 0}\n",
    "\n",
    "train['Sex'] = train['Sex'].map(mapping).astype('int8')\n",
    "test['Sex'] = test['Sex'].map(mapping).astype('int8')"
   ]
  },
  {
   "cell_type": "code",
   "execution_count": 14,
   "id": "24d1b675",
   "metadata": {
    "execution": {
     "iopub.execute_input": "2025-05-19T05:43:17.405286Z",
     "iopub.status.busy": "2025-05-19T05:43:17.405109Z",
     "iopub.status.idle": "2025-05-19T05:43:17.408925Z",
     "shell.execute_reply": "2025-05-19T05:43:17.408435Z"
    },
    "papermill": {
     "duration": 0.009749,
     "end_time": "2025-05-19T05:43:17.409990",
     "exception": false,
     "start_time": "2025-05-19T05:43:17.400241",
     "status": "completed"
    },
    "tags": []
   },
   "outputs": [],
   "source": [
    "def gender_feat_interaction(df, features, gender_col='Sex'):\n",
    "    df['Male'] = df[gender_col]\n",
    "    df['Female'] = 1 - df[gender_col]\n",
    "\n",
    "    for feat in features:\n",
    "        df[f'{feat}*Male'] = df[feat] * df['Male']\n",
    "        df[f'{feat}*Female'] = df[feat] * df['Female']\n",
    "\n",
    "    df.drop(['Male', 'Female'], axis=1, inplace=True)\n",
    "\n",
    "    return df\n",
    "        "
   ]
  },
  {
   "cell_type": "code",
   "execution_count": 15,
   "id": "24d4d1b6",
   "metadata": {
    "execution": {
     "iopub.execute_input": "2025-05-19T05:43:17.419679Z",
     "iopub.status.busy": "2025-05-19T05:43:17.419299Z",
     "iopub.status.idle": "2025-05-19T05:43:17.422300Z",
     "shell.execute_reply": "2025-05-19T05:43:17.421782Z"
    },
    "papermill": {
     "duration": 0.00885,
     "end_time": "2025-05-19T05:43:17.423314",
     "exception": false,
     "start_time": "2025-05-19T05:43:17.414464",
     "status": "completed"
    },
    "tags": []
   },
   "outputs": [],
   "source": [
    "features = ['Sex', 'Age', 'Height', 'Weight', 'Duration', 'Heart_Rate', 'Body_Temp']"
   ]
  },
  {
   "cell_type": "code",
   "execution_count": 16,
   "id": "b3dda4d2",
   "metadata": {
    "execution": {
     "iopub.execute_input": "2025-05-19T05:43:17.432699Z",
     "iopub.status.busy": "2025-05-19T05:43:17.432525Z",
     "iopub.status.idle": "2025-05-19T05:43:17.436471Z",
     "shell.execute_reply": "2025-05-19T05:43:17.435937Z"
    },
    "papermill": {
     "duration": 0.009812,
     "end_time": "2025-05-19T05:43:17.437497",
     "exception": false,
     "start_time": "2025-05-19T05:43:17.427685",
     "status": "completed"
    },
    "tags": []
   },
   "outputs": [],
   "source": [
    "def add_features(df):\n",
    "    for i, c1 in enumerate(features):\n",
    "        for c2 in (features[i+1:]):\n",
    "            m = f'{c1}*{c2}'\n",
    "            df[m] = df[c1] * df[c2]\n",
    "            a = f'{c1}+{c2}'\n",
    "            df[a] = df[c1] + df[c2]\n",
    "            d = f'{c1}/{c2}'\n",
    "            df[d] = df[c1] / (df[c2] + 1e-3)\n",
    "    return df"
   ]
  },
  {
   "cell_type": "code",
   "execution_count": 17,
   "id": "9a067c78",
   "metadata": {
    "execution": {
     "iopub.execute_input": "2025-05-19T05:43:17.446700Z",
     "iopub.status.busy": "2025-05-19T05:43:17.446529Z",
     "iopub.status.idle": "2025-05-19T05:43:17.451352Z",
     "shell.execute_reply": "2025-05-19T05:43:17.450848Z"
    },
    "papermill": {
     "duration": 0.010493,
     "end_time": "2025-05-19T05:43:17.452298",
     "exception": false,
     "start_time": "2025-05-19T05:43:17.441805",
     "status": "completed"
    },
    "tags": []
   },
   "outputs": [],
   "source": [
    "def feature_engineer(df):\n",
    "\n",
    "    df['Max_Heart_Rate'] = 207 - (0.7 * df['Age'])\n",
    "    df['HR_Ratio'] = df['Heart_Rate'] / df['Max_Heart_Rate']\n",
    "    df['HR_Reserve'] = (df['Heart_Rate'] / df['Max_Heart_Rate']) * df['Duration']\n",
    "\n",
    "    df['MET_Estimate'] = (df['Heart_Rate'] / df['Max_Heart_Rate']) * 15\n",
    "    df['MET_Calories_Rate'] = df['MET_Estimate'] * 3.5 * df['Weight'] / 200\n",
    "    \n",
    "    df['MET_Calories_Total'] = df['MET_Calories_Rate'] * df['Duration']\n",
    "    \n",
    "    df['Exercise_Intensity_Index'] = df['Heart_Rate'] * df['Body_Temp'] / (df['Weight'] * df['Age'])\n",
    "\n",
    "    df['exertion_score'] = df['Duration'] * df['Heart_Rate'] * df['Body_Temp']\n",
    "    \n",
    "    df['BMI'] = df['Weight'] / (df['Height']/100) ** 2\n",
    "\n",
    "    for col in ['Duration', 'Heart_Rate', 'Body_Temp']:\n",
    "        df[f'Sqrt_{col}'] = np.sqrt(df[col])\n",
    "    \n",
    "    df['body_theta'] = np.arctan2(df['Weight'], df['Height'])\n",
    "    \n",
    "    return df"
   ]
  },
  {
   "cell_type": "code",
   "execution_count": 18,
   "id": "09f66af4",
   "metadata": {
    "execution": {
     "iopub.execute_input": "2025-05-19T05:43:17.461741Z",
     "iopub.status.busy": "2025-05-19T05:43:17.461567Z",
     "iopub.status.idle": "2025-05-19T05:43:18.056744Z",
     "shell.execute_reply": "2025-05-19T05:43:18.056174Z"
    },
    "papermill": {
     "duration": 0.601356,
     "end_time": "2025-05-19T05:43:18.058120",
     "exception": false,
     "start_time": "2025-05-19T05:43:17.456764",
     "status": "completed"
    },
    "tags": []
   },
   "outputs": [],
   "source": [
    "X = train.copy()\n",
    "y = X.pop('Calories')\n",
    "y = np.log1p(y)\n",
    "\n",
    "X = add_features(X)\n",
    "X = feature_engineer(X)\n",
    "X = gender_feat_interaction(X, features=['Duration', 'Heart_Rate', 'Body_Temp'])\n",
    "\n",
    "X_test = test.copy()\n",
    "X_test = add_features(X_test)\n",
    "X_test = feature_engineer(X_test)\n",
    "X_test = gender_feat_interaction(X_test, features=['Duration', 'Heart_Rate', 'Body_Temp'])"
   ]
  },
  {
   "cell_type": "code",
   "execution_count": 19,
   "id": "969282bc",
   "metadata": {
    "execution": {
     "iopub.execute_input": "2025-05-19T05:43:18.068558Z",
     "iopub.status.busy": "2025-05-19T05:43:18.068350Z",
     "iopub.status.idle": "2025-05-19T05:43:18.071328Z",
     "shell.execute_reply": "2025-05-19T05:43:18.070819Z"
    },
    "papermill": {
     "duration": 0.009658,
     "end_time": "2025-05-19T05:43:18.072428",
     "exception": false,
     "start_time": "2025-05-19T05:43:18.062770",
     "status": "completed"
    },
    "tags": []
   },
   "outputs": [],
   "source": [
    "oof_preds = {}\n",
    "test_preds = {}"
   ]
  },
  {
   "cell_type": "code",
   "execution_count": 20,
   "id": "c9fd971e",
   "metadata": {
    "execution": {
     "iopub.execute_input": "2025-05-19T05:43:18.082353Z",
     "iopub.status.busy": "2025-05-19T05:43:18.082163Z",
     "iopub.status.idle": "2025-05-19T05:46:28.315122Z",
     "shell.execute_reply": "2025-05-19T05:46:28.314266Z"
    },
    "papermill": {
     "duration": 190.243613,
     "end_time": "2025-05-19T05:46:28.320805",
     "exception": false,
     "start_time": "2025-05-19T05:43:18.077192",
     "status": "completed"
    },
    "tags": []
   },
   "outputs": [
    {
     "name": "stdout",
     "output_type": "stream",
     "text": [
      "Fold 1 RMSE: 0.058613\n",
      "Fold 2 RMSE: 0.058816\n",
      "Fold 3 RMSE: 0.059571\n",
      "Fold 4 RMSE: 0.059547\n",
      "Fold 5 RMSE: 0.058751\n",
      "\n",
      "Overall OOF RMSLE: 0.059061\n"
     ]
    }
   ],
   "source": [
    "from sklearn.model_selection import KFold\n",
    "from cuml.metrics import mean_squared_log_error\n",
    "from xgboost import XGBRegressor\n",
    "\n",
    "n_folds = 5\n",
    "kf = KFold(n_splits=n_folds, shuffle=True, random_state=100)\n",
    "\n",
    "oof_xgb = np.zeros(len(y))\n",
    "test_xgb = np.zeros(len(X_test))\n",
    "\n",
    "\n",
    "params = {\n",
    "    'n_estimators': 3000, \n",
    "    'learning_rate': 0.012429613949090264, \n",
    "    'max_depth': 10, \n",
    "    'min_child_weight': 7, \n",
    "    'alpha': 0.031799792818970524, \n",
    "    'reg_lambda': 0.3580931274078332, \n",
    "    'subsample': 0.8416119186946701, \n",
    "    'colsample_bytree': 0.5066402912386329, \n",
    "    'gamma': 1.037011350094906e-08\n",
    "}\n",
    "\n",
    "for fold, (train_index, valid_index) in enumerate(kf.split(X, y), start=1):\n",
    "        X_train, X_valid = X.iloc[train_index].copy(), X.iloc[valid_index].copy()\n",
    "        y_train, y_valid = y.iloc[train_index], y.iloc[valid_index]\n",
    "        \n",
    "        xgb = XGBRegressor(**params, early_stopping_rounds=50, tree_method='gpu_hist', device='cuda', seed=100, \n",
    "            objective='reg:squarederror', eval_metric='rmse',\n",
    "        ).fit(X_train, y_train, eval_set=[(X_valid, y_valid)], verbose=0)\n",
    "    \n",
    "        valid_pred = xgb.predict(X_valid)\n",
    "        oof_xgb[valid_index] = valid_pred\n",
    "        test_xgb += xgb.predict(X_test) / n_folds\n",
    "    \n",
    "        fold_rmsle = np.sqrt(mean_squared_log_error(np.expm1(y_valid), np.expm1(valid_pred)))\n",
    "        print(f\"Fold {fold} RMSE: {fold_rmsle:.6f}\")\n",
    "\n",
    "test_xgb = np.expm1(test_xgb)\n",
    "test_xgb = np.clip(test_xgb, 1, 314)\n",
    "\n",
    "oof_preds['XGB'] = oof_xgb \n",
    "test_preds['XGB'] = test_xgb\n",
    "\n",
    "overall_rmsle = np.sqrt(mean_squared_log_error(np.expm1(y), np.expm1(oof_xgb)))\n",
    "print(f\"\\nOverall OOF RMSLE: {overall_rmsle:.6f}\")   "
   ]
  },
  {
   "cell_type": "code",
   "execution_count": 21,
   "id": "0edad272",
   "metadata": {
    "execution": {
     "iopub.execute_input": "2025-05-19T05:46:28.331324Z",
     "iopub.status.busy": "2025-05-19T05:46:28.331092Z",
     "iopub.status.idle": "2025-05-19T05:46:28.550996Z",
     "shell.execute_reply": "2025-05-19T05:46:28.550449Z"
    },
    "papermill": {
     "duration": 0.226394,
     "end_time": "2025-05-19T05:46:28.552134",
     "exception": false,
     "start_time": "2025-05-19T05:46:28.325740",
     "status": "completed"
    },
    "tags": []
   },
   "outputs": [],
   "source": [
    "X = train.copy()\n",
    "y = X.pop('Calories')\n",
    "y = np.log1p(y) \n",
    "X = add_features(X)\n",
    "X = feature_engineer(X)\n",
    "X = gender_feat_interaction(X, features=['Duration', 'Heart_Rate', 'Body_Temp'])\n",
    "X['Sex'] = X['Sex'].astype('category')\n",
    "\n",
    "X_test = test.copy()\n",
    "X_test = add_features(X_test)\n",
    "X_test = feature_engineer(X_test)\n",
    "X_test = gender_feat_interaction(X_test, features=['Duration', 'Heart_Rate', 'Body_Temp'])\n",
    "X_test['Sex'] = X_test['Sex'].astype('category')"
   ]
  },
  {
   "cell_type": "code",
   "execution_count": 22,
   "id": "7588e45c",
   "metadata": {
    "execution": {
     "iopub.execute_input": "2025-05-19T05:46:28.562383Z",
     "iopub.status.busy": "2025-05-19T05:46:28.562167Z",
     "iopub.status.idle": "2025-05-19T05:49:38.242335Z",
     "shell.execute_reply": "2025-05-19T05:49:38.241607Z"
    },
    "papermill": {
     "duration": 189.691439,
     "end_time": "2025-05-19T05:49:38.248461",
     "exception": false,
     "start_time": "2025-05-19T05:46:28.557022",
     "status": "completed"
    },
    "tags": []
   },
   "outputs": [
    {
     "name": "stdout",
     "output_type": "stream",
     "text": [
      "Fold 1 RMSE: 0.059089\n",
      "Fold 2 RMSE: 0.058818\n",
      "Fold 3 RMSE: 0.059547\n",
      "Fold 4 RMSE: 0.058960\n",
      "Fold 5 RMSE: 0.059958\n",
      "\n",
      "Overall OOF RMSLE: 0.059276\n"
     ]
    }
   ],
   "source": [
    "from catboost import CatBoostRegressor\n",
    "from sklearn.preprocessing import KBinsDiscretizer\n",
    "from sklearn.model_selection import StratifiedKFold\n",
    "\n",
    "bins = KBinsDiscretizer(n_bins=12, encode='ordinal', strategy='kmeans')\n",
    "duration_bins = bins.fit_transform(train[['Duration']]).astype(int).flatten()\n",
    "\n",
    "skf = StratifiedKFold(n_splits=5, shuffle=True, random_state=42)\n",
    "oof_cat = np.zeros(len(y))\n",
    "test_cat = np.zeros(len(X_test))\n",
    "\n",
    "params = {\n",
    "    'iterations': 2500, \n",
    "    'learning_rate': 0.03813511357889326, \n",
    "    'depth': 9, \n",
    "    'l2_leaf_reg': 5.101121281815585, \n",
    "    'bagging_temperature': 0.6263562727371863, \n",
    "    'random_strength': 0.6489211175248135,\n",
    "    'loss_function': 'RMSE',\n",
    "    'cat_features': ['Sex'],\n",
    "    'eval_metric': 'RMSE',\n",
    "    'early_stopping_rounds': 100,\n",
    "    'verbose': 0,\n",
    "    'random_seed': 100,\n",
    "    'task_type': 'GPU'   \n",
    "}\n",
    "\n",
    "for fold, (train_index, valid_index) in enumerate(skf.split(X, duration_bins), start=1):\n",
    "        X_train, X_valid = X.iloc[train_index].copy(), X.iloc[valid_index].copy()\n",
    "        y_train, y_valid = y.iloc[train_index], y.iloc[valid_index]\n",
    "\n",
    "        cat = CatBoostRegressor(**params).fit(X_train, y_train, eval_set=[(X_valid, y_valid)], use_best_model=True)\n",
    "    \n",
    "        valid_pred = cat.predict(X_valid)\n",
    "        oof_cat[valid_index] = valid_pred\n",
    "        test_cat += cat.predict(X_test) / n_folds\n",
    "    \n",
    "        fold_rmsle = np.sqrt(mean_squared_log_error(np.expm1(y_valid), np.expm1(valid_pred)))\n",
    "        print(f\"Fold {fold} RMSE: {fold_rmsle:.6f}\")\n",
    "\n",
    "test_cat = np.expm1(test_cat)\n",
    "test_cat = np.clip(test_cat, 1, 314)\n",
    "\n",
    "oof_preds['CAT'] = oof_cat\n",
    "test_preds['CAT'] = test_cat\n",
    "\n",
    "overall_rmsle = np.sqrt(mean_squared_log_error(np.expm1(y), np.expm1(oof_cat)))\n",
    "print(f\"\\nOverall OOF RMSLE: {overall_rmsle:.6f}\")\n"
   ]
  },
  {
   "cell_type": "code",
   "execution_count": 23,
   "id": "e6472e05",
   "metadata": {
    "execution": {
     "iopub.execute_input": "2025-05-19T05:49:38.259377Z",
     "iopub.status.busy": "2025-05-19T05:49:38.258875Z",
     "iopub.status.idle": "2025-05-19T05:49:38.322317Z",
     "shell.execute_reply": "2025-05-19T05:49:38.321593Z"
    },
    "papermill": {
     "duration": 0.070126,
     "end_time": "2025-05-19T05:49:38.323485",
     "exception": false,
     "start_time": "2025-05-19T05:49:38.253359",
     "status": "completed"
    },
    "tags": []
   },
   "outputs": [
    {
     "data": {
      "text/plain": [
       "['test_preds.pkl']"
      ]
     },
     "execution_count": 23,
     "metadata": {},
     "output_type": "execute_result"
    }
   ],
   "source": [
    "import joblib\n",
    "\n",
    "X = pd.DataFrame(oof_preds)\n",
    "X_test = pd.DataFrame(test_preds)\n",
    "\n",
    "joblib.dump(X, \"oof_preds.pkl\")\n",
    "joblib.dump(X_test, \"test_preds.pkl\")\n"
   ]
  },
  {
   "cell_type": "code",
   "execution_count": 24,
   "id": "ffec781e",
   "metadata": {
    "execution": {
     "iopub.execute_input": "2025-05-19T05:49:38.334666Z",
     "iopub.status.busy": "2025-05-19T05:49:38.334453Z",
     "iopub.status.idle": "2025-05-19T05:49:38.498775Z",
     "shell.execute_reply": "2025-05-19T05:49:38.498064Z"
    },
    "papermill": {
     "duration": 0.173836,
     "end_time": "2025-05-19T05:49:38.502824",
     "exception": false,
     "start_time": "2025-05-19T05:49:38.328988",
     "status": "completed"
    },
    "tags": []
   },
   "outputs": [],
   "source": [
    "from sklearn.linear_model import BayesianRidge\n",
    "\n",
    "meta_train = np.column_stack((oof_xgb, oof_cat))\n",
    "meta_test = np.column_stack((test_xgb, test_cat))\n",
    "\n",
    "meta_model = BayesianRidge(n_iter=2000).fit(meta_train, y)\n",
    "\n",
    "final_preds = meta_model.predict(meta_test)"
   ]
  },
  {
   "cell_type": "code",
   "execution_count": 25,
   "id": "8bba0f73",
   "metadata": {
    "execution": {
     "iopub.execute_input": "2025-05-19T05:49:38.522829Z",
     "iopub.status.busy": "2025-05-19T05:49:38.522565Z",
     "iopub.status.idle": "2025-05-19T05:49:38.614429Z",
     "shell.execute_reply": "2025-05-19T05:49:38.613694Z"
    },
    "papermill": {
     "duration": 0.101934,
     "end_time": "2025-05-19T05:49:38.615556",
     "exception": false,
     "start_time": "2025-05-19T05:49:38.513622",
     "status": "completed"
    },
    "tags": []
   },
   "outputs": [
    {
     "name": "stdout",
     "output_type": "stream",
     "text": [
      "Your submission was successfully saved!\n",
      "       id    Calories\n",
      "0  750000   27.235036\n",
      "1  750001  107.846529\n",
      "2  750002   87.599053\n",
      "3  750003  125.664201\n",
      "4  750004   75.858299\n"
     ]
    }
   ],
   "source": [
    "sub = pd.read_csv('/kaggle/input/playground-series-s5e5/sample_submission.csv')\n",
    "sub['Calories'] = final_preds\n",
    "sub.to_csv('submission.csv', index=False)\n",
    "print(\"Your submission was successfully saved!\")\n",
    "print(sub.head(5))"
   ]
  }
 ],
 "metadata": {
  "kaggle": {
   "accelerator": "nvidiaTeslaT4",
   "dataSources": [
    {
     "databundleVersionId": 11893428,
     "sourceId": 91716,
     "sourceType": "competition"
    },
    {
     "datasetId": 6512323,
     "sourceId": 10522392,
     "sourceType": "datasetVersion"
    }
   ],
   "dockerImageVersionId": 31011,
   "isGpuEnabled": true,
   "isInternetEnabled": true,
   "language": "python",
   "sourceType": "notebook"
  },
  "kernelspec": {
   "display_name": "Python 3",
   "language": "python",
   "name": "python3"
  },
  "language_info": {
   "codemirror_mode": {
    "name": "ipython",
    "version": 3
   },
   "file_extension": ".py",
   "mimetype": "text/x-python",
   "name": "python",
   "nbconvert_exporter": "python",
   "pygments_lexer": "ipython3",
   "version": "3.11.11"
  },
  "papermill": {
   "default_parameters": {},
   "duration": 404.417075,
   "end_time": "2025-05-19T05:49:41.471987",
   "environment_variables": {},
   "exception": null,
   "input_path": "__notebook__.ipynb",
   "output_path": "__notebook__.ipynb",
   "parameters": {},
   "start_time": "2025-05-19T05:42:57.054912",
   "version": "2.6.0"
  }
 },
 "nbformat": 4,
 "nbformat_minor": 5
}
