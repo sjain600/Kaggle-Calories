{
 "cells": [
  {
   "cell_type": "code",
   "execution_count": 1,
   "id": "f1439ce2",
   "metadata": {
    "execution": {
     "iopub.execute_input": "2025-05-23T14:02:06.917632Z",
     "iopub.status.busy": "2025-05-23T14:02:06.916928Z",
     "iopub.status.idle": "2025-05-23T14:02:31.124351Z",
     "shell.execute_reply": "2025-05-23T14:02:31.123590Z"
    },
    "papermill": {
     "duration": 24.215006,
     "end_time": "2025-05-23T14:02:31.125577",
     "exception": false,
     "start_time": "2025-05-23T14:02:06.910571",
     "status": "completed"
    },
    "tags": []
   },
   "outputs": [
    {
     "name": "stdout",
     "output_type": "stream",
     "text": [
      "/kaggle/input/calories-burnt-prediction/calories.csv\n",
      "/kaggle/input/may-calorie-parameters/best_cat_params.json\n",
      "/kaggle/input/may-calorie-parameters/catboost_info/test_error.tsv\n",
      "/kaggle/input/may-calorie-parameters/catboost_info/learn_error.tsv\n",
      "/kaggle/input/may-calorie-parameters/catboost_info/catboost_training.json\n",
      "/kaggle/input/may-calorie-parameters/catboost_info/time_left.tsv\n",
      "/kaggle/input/may-calorie-parameters/catboost_info/learn/events.out.tfevents\n",
      "/kaggle/input/may-calorie-parameters/catboost_info/test/events.out.tfevents\n",
      "/kaggle/input/playground-series-s5e5/sample_submission.csv\n",
      "/kaggle/input/playground-series-s5e5/train.csv\n",
      "/kaggle/input/playground-series-s5e5/test.csv\n"
     ]
    },
    {
     "data": {
      "text/plain": [
       "<Figure size 1200x750 with 0 Axes>"
      ]
     },
     "metadata": {},
     "output_type": "display_data"
    }
   ],
   "source": [
    "# This Python 3 environment comes with many helpful analytics libraries installed\n",
    "# It is defined by the kaggle/python Docker image: https://github.com/kaggle/docker-python\n",
    "# For example, here's several helpful packages to load\n",
    "%load_ext cudf.pandas\n",
    "import numpy as np # linear algebra\n",
    "import pandas as pd # data processing, CSV file I/O (e.g. pd.read_csv)\n",
    "import matplotlib.pyplot as plt\n",
    "import seaborn as sns\n",
    "import cuml\n",
    "import json\n",
    "\n",
    "from sklearn.model_selection import KFold, StratifiedKFold\n",
    "from cuml.metrics import mean_squared_log_error\n",
    "from xgboost import XGBRegressor\n",
    "\n",
    "from catboost import CatBoostRegressor\n",
    "from sklearn.preprocessing import KBinsDiscretizer\n",
    "\n",
    "# Setting Matplotlib defaults\n",
    "plt.style.use('seaborn-v0_8')\n",
    "plt.rc('figure', figsize=(8,5), dpi=150)\n",
    "plt.rc('axes', labelweight='bold', labelsize='large',\n",
    "       titleweight='bold', titlesize=15, titlepad=10)\n",
    "plt.rc('animation', html='html5')\n",
    "plt.tight_layout()\n",
    "# Input data files are available in the read-only \"../input/\" directory\n",
    "# For example, running this (by clicking run or pressing Shift+Enter) will list all files under the input directory\n",
    "\n",
    "import os\n",
    "for dirname, _, filenames in os.walk('/kaggle/input'):\n",
    "    for filename in filenames:\n",
    "        print(os.path.join(dirname, filename))\n",
    "        \n",
    "import warnings\n",
    "warnings.simplefilter('ignore')\n",
    "\n",
    "pd.set_option('display.max_columns', 500)\n",
    "\n",
    "# You can write up to 20GB to the current directory (/kaggle/working/) that gets preserved as output when you create a version using \"Save & Run All\" \n",
    "# You can also write temporary files to /kaggle/temp/, but they won't be saved outside of the current session"
   ]
  },
  {
   "cell_type": "code",
   "execution_count": 2,
   "id": "9d66c102",
   "metadata": {
    "execution": {
     "iopub.execute_input": "2025-05-23T14:02:31.136320Z",
     "iopub.status.busy": "2025-05-23T14:02:31.135463Z",
     "iopub.status.idle": "2025-05-23T14:02:32.049801Z",
     "shell.execute_reply": "2025-05-23T14:02:32.049196Z"
    },
    "papermill": {
     "duration": 0.920858,
     "end_time": "2025-05-23T14:02:32.051308",
     "exception": false,
     "start_time": "2025-05-23T14:02:31.130450",
     "status": "completed"
    },
    "tags": []
   },
   "outputs": [],
   "source": [
    "train = pd.read_csv('/kaggle/input/playground-series-s5e5/train.csv', index_col='id')\n",
    "test = pd.read_csv('/kaggle/input/playground-series-s5e5/test.csv', index_col='id')\n",
    "org = pd.read_csv('/kaggle/input/calories-burnt-prediction/calories.csv', index_col='User_ID')\n",
    "org = org.rename(columns={'Gender': 'Sex'})"
   ]
  },
  {
   "cell_type": "code",
   "execution_count": 3,
   "id": "2ce5c5b4",
   "metadata": {
    "execution": {
     "iopub.execute_input": "2025-05-23T14:02:32.066081Z",
     "iopub.status.busy": "2025-05-23T14:02:32.065476Z",
     "iopub.status.idle": "2025-05-23T14:02:32.137668Z",
     "shell.execute_reply": "2025-05-23T14:02:32.137080Z"
    },
    "papermill": {
     "duration": 0.078989,
     "end_time": "2025-05-23T14:02:32.139086",
     "exception": false,
     "start_time": "2025-05-23T14:02:32.060097",
     "status": "completed"
    },
    "tags": []
   },
   "outputs": [],
   "source": [
    "train = pd.concat([train, org], ignore_index=True)"
   ]
  },
  {
   "cell_type": "code",
   "execution_count": 4,
   "id": "ecdc9d0d",
   "metadata": {
    "execution": {
     "iopub.execute_input": "2025-05-23T14:02:32.148901Z",
     "iopub.status.busy": "2025-05-23T14:02:32.148655Z",
     "iopub.status.idle": "2025-05-23T14:02:32.364598Z",
     "shell.execute_reply": "2025-05-23T14:02:32.363761Z"
    },
    "papermill": {
     "duration": 0.222061,
     "end_time": "2025-05-23T14:02:32.365802",
     "exception": false,
     "start_time": "2025-05-23T14:02:32.143741",
     "status": "completed"
    },
    "tags": []
   },
   "outputs": [
    {
     "name": "stdout",
     "output_type": "stream",
     "text": [
      "(762107, 8) (765000, 8)\n"
     ]
    }
   ],
   "source": [
    "strt_cols = list(test.columns)\n",
    "print(train.drop_duplicates(subset=strt_cols + ['Calories']).shape, train.shape)"
   ]
  },
  {
   "cell_type": "markdown",
   "id": "6040a9db",
   "metadata": {
    "papermill": {
     "duration": 0.004068,
     "end_time": "2025-05-23T14:02:32.374416",
     "exception": false,
     "start_time": "2025-05-23T14:02:32.370348",
     "status": "completed"
    },
    "tags": []
   },
   "source": [
    "# Data Understanding"
   ]
  },
  {
   "cell_type": "code",
   "execution_count": 5,
   "id": "de8f79c1",
   "metadata": {
    "execution": {
     "iopub.execute_input": "2025-05-23T14:02:32.383766Z",
     "iopub.status.busy": "2025-05-23T14:02:32.383524Z",
     "iopub.status.idle": "2025-05-23T14:02:32.388534Z",
     "shell.execute_reply": "2025-05-23T14:02:32.387916Z"
    },
    "papermill": {
     "duration": 0.011056,
     "end_time": "2025-05-23T14:02:32.389596",
     "exception": false,
     "start_time": "2025-05-23T14:02:32.378540",
     "status": "completed"
    },
    "tags": []
   },
   "outputs": [
    {
     "data": {
      "text/plain": [
       "(765000, 8)"
      ]
     },
     "execution_count": 5,
     "metadata": {},
     "output_type": "execute_result"
    }
   ],
   "source": [
    "train.shape"
   ]
  },
  {
   "cell_type": "code",
   "execution_count": 6,
   "id": "04f71bb5",
   "metadata": {
    "execution": {
     "iopub.execute_input": "2025-05-23T14:02:32.399000Z",
     "iopub.status.busy": "2025-05-23T14:02:32.398780Z",
     "iopub.status.idle": "2025-05-23T14:02:32.448293Z",
     "shell.execute_reply": "2025-05-23T14:02:32.447538Z"
    },
    "papermill": {
     "duration": 0.055418,
     "end_time": "2025-05-23T14:02:32.449477",
     "exception": false,
     "start_time": "2025-05-23T14:02:32.394059",
     "status": "completed"
    },
    "tags": []
   },
   "outputs": [
    {
     "data": {
      "text/html": [
       "<div>\n",
       "<style scoped>\n",
       "    .dataframe tbody tr th:only-of-type {\n",
       "        vertical-align: middle;\n",
       "    }\n",
       "\n",
       "    .dataframe tbody tr th {\n",
       "        vertical-align: top;\n",
       "    }\n",
       "\n",
       "    .dataframe thead th {\n",
       "        text-align: right;\n",
       "    }\n",
       "</style>\n",
       "<table border=\"1\" class=\"dataframe\">\n",
       "  <thead>\n",
       "    <tr style=\"text-align: right;\">\n",
       "      <th></th>\n",
       "      <th>Sex</th>\n",
       "      <th>Age</th>\n",
       "      <th>Height</th>\n",
       "      <th>Weight</th>\n",
       "      <th>Duration</th>\n",
       "      <th>Heart_Rate</th>\n",
       "      <th>Body_Temp</th>\n",
       "      <th>Calories</th>\n",
       "    </tr>\n",
       "  </thead>\n",
       "  <tbody>\n",
       "    <tr>\n",
       "      <th>0</th>\n",
       "      <td>male</td>\n",
       "      <td>36</td>\n",
       "      <td>189.0</td>\n",
       "      <td>82.0</td>\n",
       "      <td>26.0</td>\n",
       "      <td>101.0</td>\n",
       "      <td>41.0</td>\n",
       "      <td>150.0</td>\n",
       "    </tr>\n",
       "    <tr>\n",
       "      <th>1</th>\n",
       "      <td>female</td>\n",
       "      <td>64</td>\n",
       "      <td>163.0</td>\n",
       "      <td>60.0</td>\n",
       "      <td>8.0</td>\n",
       "      <td>85.0</td>\n",
       "      <td>39.7</td>\n",
       "      <td>34.0</td>\n",
       "    </tr>\n",
       "    <tr>\n",
       "      <th>2</th>\n",
       "      <td>female</td>\n",
       "      <td>51</td>\n",
       "      <td>161.0</td>\n",
       "      <td>64.0</td>\n",
       "      <td>7.0</td>\n",
       "      <td>84.0</td>\n",
       "      <td>39.8</td>\n",
       "      <td>29.0</td>\n",
       "    </tr>\n",
       "    <tr>\n",
       "      <th>3</th>\n",
       "      <td>male</td>\n",
       "      <td>20</td>\n",
       "      <td>192.0</td>\n",
       "      <td>90.0</td>\n",
       "      <td>25.0</td>\n",
       "      <td>105.0</td>\n",
       "      <td>40.7</td>\n",
       "      <td>140.0</td>\n",
       "    </tr>\n",
       "    <tr>\n",
       "      <th>4</th>\n",
       "      <td>female</td>\n",
       "      <td>38</td>\n",
       "      <td>166.0</td>\n",
       "      <td>61.0</td>\n",
       "      <td>25.0</td>\n",
       "      <td>102.0</td>\n",
       "      <td>40.6</td>\n",
       "      <td>146.0</td>\n",
       "    </tr>\n",
       "    <tr>\n",
       "      <th>5</th>\n",
       "      <td>female</td>\n",
       "      <td>26</td>\n",
       "      <td>156.0</td>\n",
       "      <td>56.0</td>\n",
       "      <td>19.0</td>\n",
       "      <td>100.0</td>\n",
       "      <td>40.5</td>\n",
       "      <td>103.0</td>\n",
       "    </tr>\n",
       "    <tr>\n",
       "      <th>6</th>\n",
       "      <td>female</td>\n",
       "      <td>21</td>\n",
       "      <td>172.0</td>\n",
       "      <td>73.0</td>\n",
       "      <td>3.0</td>\n",
       "      <td>81.0</td>\n",
       "      <td>38.3</td>\n",
       "      <td>9.0</td>\n",
       "    </tr>\n",
       "    <tr>\n",
       "      <th>7</th>\n",
       "      <td>male</td>\n",
       "      <td>46</td>\n",
       "      <td>188.0</td>\n",
       "      <td>94.0</td>\n",
       "      <td>23.0</td>\n",
       "      <td>100.0</td>\n",
       "      <td>40.8</td>\n",
       "      <td>145.0</td>\n",
       "    </tr>\n",
       "    <tr>\n",
       "      <th>8</th>\n",
       "      <td>female</td>\n",
       "      <td>33</td>\n",
       "      <td>166.0</td>\n",
       "      <td>63.0</td>\n",
       "      <td>25.0</td>\n",
       "      <td>107.0</td>\n",
       "      <td>40.5</td>\n",
       "      <td>161.0</td>\n",
       "    </tr>\n",
       "    <tr>\n",
       "      <th>9</th>\n",
       "      <td>male</td>\n",
       "      <td>65</td>\n",
       "      <td>185.0</td>\n",
       "      <td>88.0</td>\n",
       "      <td>23.0</td>\n",
       "      <td>104.0</td>\n",
       "      <td>41.0</td>\n",
       "      <td>185.0</td>\n",
       "    </tr>\n",
       "  </tbody>\n",
       "</table>\n",
       "</div>"
      ],
      "text/plain": [
       "      Sex  Age  Height  Weight  Duration  Heart_Rate  Body_Temp  Calories\n",
       "0    male   36   189.0    82.0      26.0       101.0       41.0     150.0\n",
       "1  female   64   163.0    60.0       8.0        85.0       39.7      34.0\n",
       "2  female   51   161.0    64.0       7.0        84.0       39.8      29.0\n",
       "3    male   20   192.0    90.0      25.0       105.0       40.7     140.0\n",
       "4  female   38   166.0    61.0      25.0       102.0       40.6     146.0\n",
       "5  female   26   156.0    56.0      19.0       100.0       40.5     103.0\n",
       "6  female   21   172.0    73.0       3.0        81.0       38.3       9.0\n",
       "7    male   46   188.0    94.0      23.0       100.0       40.8     145.0\n",
       "8  female   33   166.0    63.0      25.0       107.0       40.5     161.0\n",
       "9    male   65   185.0    88.0      23.0       104.0       41.0     185.0"
      ]
     },
     "execution_count": 6,
     "metadata": {},
     "output_type": "execute_result"
    }
   ],
   "source": [
    "train.head(10)"
   ]
  },
  {
   "cell_type": "code",
   "execution_count": 7,
   "id": "6dd2c709",
   "metadata": {
    "execution": {
     "iopub.execute_input": "2025-05-23T14:02:32.459624Z",
     "iopub.status.busy": "2025-05-23T14:02:32.459401Z",
     "iopub.status.idle": "2025-05-23T14:02:34.744217Z",
     "shell.execute_reply": "2025-05-23T14:02:34.743491Z"
    },
    "papermill": {
     "duration": 2.291146,
     "end_time": "2025-05-23T14:02:34.745538",
     "exception": false,
     "start_time": "2025-05-23T14:02:32.454392",
     "status": "completed"
    },
    "tags": []
   },
   "outputs": [
    {
     "data": {
      "text/html": [
       "<div>\n",
       "<style scoped>\n",
       "    .dataframe tbody tr th:only-of-type {\n",
       "        vertical-align: middle;\n",
       "    }\n",
       "\n",
       "    .dataframe tbody tr th {\n",
       "        vertical-align: top;\n",
       "    }\n",
       "\n",
       "    .dataframe thead th {\n",
       "        text-align: right;\n",
       "    }\n",
       "</style>\n",
       "<table border=\"1\" class=\"dataframe\">\n",
       "  <thead>\n",
       "    <tr style=\"text-align: right;\">\n",
       "      <th></th>\n",
       "      <th>Age</th>\n",
       "      <th>Height</th>\n",
       "      <th>Weight</th>\n",
       "      <th>Duration</th>\n",
       "      <th>Heart_Rate</th>\n",
       "      <th>Body_Temp</th>\n",
       "      <th>Calories</th>\n",
       "    </tr>\n",
       "  </thead>\n",
       "  <tbody>\n",
       "    <tr>\n",
       "      <th>count</th>\n",
       "      <td>765000.000000</td>\n",
       "      <td>765000.000000</td>\n",
       "      <td>765000.000000</td>\n",
       "      <td>765000.000000</td>\n",
       "      <td>765000.000000</td>\n",
       "      <td>765000.000000</td>\n",
       "      <td>765000.000000</td>\n",
       "    </tr>\n",
       "    <tr>\n",
       "      <th>mean</th>\n",
       "      <td>41.447255</td>\n",
       "      <td>174.693126</td>\n",
       "      <td>75.142162</td>\n",
       "      <td>15.423163</td>\n",
       "      <td>95.484672</td>\n",
       "      <td>40.036041</td>\n",
       "      <td>88.307424</td>\n",
       "    </tr>\n",
       "    <tr>\n",
       "      <th>std</th>\n",
       "      <td>15.213677</td>\n",
       "      <td>12.854173</td>\n",
       "      <td>14.004122</td>\n",
       "      <td>8.353421</td>\n",
       "      <td>9.452476</td>\n",
       "      <td>0.779863</td>\n",
       "      <td>62.396760</td>\n",
       "    </tr>\n",
       "    <tr>\n",
       "      <th>min</th>\n",
       "      <td>20.000000</td>\n",
       "      <td>123.000000</td>\n",
       "      <td>36.000000</td>\n",
       "      <td>1.000000</td>\n",
       "      <td>67.000000</td>\n",
       "      <td>37.100000</td>\n",
       "      <td>1.000000</td>\n",
       "    </tr>\n",
       "    <tr>\n",
       "      <th>25%</th>\n",
       "      <td>28.000000</td>\n",
       "      <td>164.000000</td>\n",
       "      <td>63.000000</td>\n",
       "      <td>8.000000</td>\n",
       "      <td>88.000000</td>\n",
       "      <td>39.600000</td>\n",
       "      <td>34.000000</td>\n",
       "    </tr>\n",
       "    <tr>\n",
       "      <th>50%</th>\n",
       "      <td>40.000000</td>\n",
       "      <td>174.000000</td>\n",
       "      <td>74.000000</td>\n",
       "      <td>15.000000</td>\n",
       "      <td>95.000000</td>\n",
       "      <td>40.300000</td>\n",
       "      <td>77.000000</td>\n",
       "    </tr>\n",
       "    <tr>\n",
       "      <th>75%</th>\n",
       "      <td>52.000000</td>\n",
       "      <td>185.000000</td>\n",
       "      <td>87.000000</td>\n",
       "      <td>23.000000</td>\n",
       "      <td>103.000000</td>\n",
       "      <td>40.700000</td>\n",
       "      <td>136.000000</td>\n",
       "    </tr>\n",
       "    <tr>\n",
       "      <th>max</th>\n",
       "      <td>79.000000</td>\n",
       "      <td>222.000000</td>\n",
       "      <td>132.000000</td>\n",
       "      <td>30.000000</td>\n",
       "      <td>128.000000</td>\n",
       "      <td>41.500000</td>\n",
       "      <td>314.000000</td>\n",
       "    </tr>\n",
       "  </tbody>\n",
       "</table>\n",
       "</div>"
      ],
      "text/plain": [
       "                 Age         Height         Weight       Duration  \\\n",
       "count  765000.000000  765000.000000  765000.000000  765000.000000   \n",
       "mean       41.447255     174.693126      75.142162      15.423163   \n",
       "std        15.213677      12.854173      14.004122       8.353421   \n",
       "min        20.000000     123.000000      36.000000       1.000000   \n",
       "25%        28.000000     164.000000      63.000000       8.000000   \n",
       "50%        40.000000     174.000000      74.000000      15.000000   \n",
       "75%        52.000000     185.000000      87.000000      23.000000   \n",
       "max        79.000000     222.000000     132.000000      30.000000   \n",
       "\n",
       "          Heart_Rate      Body_Temp       Calories  \n",
       "count  765000.000000  765000.000000  765000.000000  \n",
       "mean       95.484672      40.036041      88.307424  \n",
       "std         9.452476       0.779863      62.396760  \n",
       "min        67.000000      37.100000       1.000000  \n",
       "25%        88.000000      39.600000      34.000000  \n",
       "50%        95.000000      40.300000      77.000000  \n",
       "75%       103.000000      40.700000     136.000000  \n",
       "max       128.000000      41.500000     314.000000  "
      ]
     },
     "execution_count": 7,
     "metadata": {},
     "output_type": "execute_result"
    }
   ],
   "source": [
    "train.describe()"
   ]
  },
  {
   "cell_type": "code",
   "execution_count": 8,
   "id": "11251f59",
   "metadata": {
    "execution": {
     "iopub.execute_input": "2025-05-23T14:02:34.757372Z",
     "iopub.status.busy": "2025-05-23T14:02:34.756757Z",
     "iopub.status.idle": "2025-05-23T14:02:34.836674Z",
     "shell.execute_reply": "2025-05-23T14:02:34.836116Z"
    },
    "papermill": {
     "duration": 0.086835,
     "end_time": "2025-05-23T14:02:34.837826",
     "exception": false,
     "start_time": "2025-05-23T14:02:34.750991",
     "status": "completed"
    },
    "tags": []
   },
   "outputs": [
    {
     "data": {
      "text/plain": [
       "Sex           0\n",
       "Age           0\n",
       "Height        0\n",
       "Weight        0\n",
       "Duration      0\n",
       "Heart_Rate    0\n",
       "Body_Temp     0\n",
       "Calories      0\n",
       "dtype: int64"
      ]
     },
     "execution_count": 8,
     "metadata": {},
     "output_type": "execute_result"
    }
   ],
   "source": [
    "train.isnull().sum()"
   ]
  },
  {
   "cell_type": "code",
   "execution_count": 9,
   "id": "0b671a44",
   "metadata": {
    "execution": {
     "iopub.execute_input": "2025-05-23T14:02:34.848482Z",
     "iopub.status.busy": "2025-05-23T14:02:34.848278Z",
     "iopub.status.idle": "2025-05-23T14:02:34.860324Z",
     "shell.execute_reply": "2025-05-23T14:02:34.859431Z"
    },
    "papermill": {
     "duration": 0.018877,
     "end_time": "2025-05-23T14:02:34.861443",
     "exception": false,
     "start_time": "2025-05-23T14:02:34.842566",
     "status": "completed"
    },
    "tags": []
   },
   "outputs": [
    {
     "name": "stdout",
     "output_type": "stream",
     "text": [
      "<class 'cudf.core.dataframe.DataFrame'>\n",
      "RangeIndex: 765000 entries, 0 to 764999\n",
      "Data columns (total 8 columns):\n",
      " #   Column      Non-Null Count   Dtype\n",
      "---  ------      --------------   -----\n",
      " 0   Sex         765000 non-null  object\n",
      " 1   Age         765000 non-null  int64\n",
      " 2   Height      765000 non-null  float64\n",
      " 3   Weight      765000 non-null  float64\n",
      " 4   Duration    765000 non-null  float64\n",
      " 5   Heart_Rate  765000 non-null  float64\n",
      " 6   Body_Temp   765000 non-null  float64\n",
      " 7   Calories    765000 non-null  float64\n",
      "dtypes: float64(6), int64(1), object(1)\n",
      "memory usage: 47.4+ MB\n"
     ]
    }
   ],
   "source": [
    "train.info()"
   ]
  },
  {
   "cell_type": "markdown",
   "id": "38333f12",
   "metadata": {
    "papermill": {
     "duration": 0.004348,
     "end_time": "2025-05-23T14:02:34.870547",
     "exception": false,
     "start_time": "2025-05-23T14:02:34.866199",
     "status": "completed"
    },
    "tags": []
   },
   "source": [
    "# Data Preprocessing"
   ]
  },
  {
   "cell_type": "markdown",
   "id": "41f0418d",
   "metadata": {
    "papermill": {
     "duration": 0.004494,
     "end_time": "2025-05-23T14:02:34.879560",
     "exception": false,
     "start_time": "2025-05-23T14:02:34.875066",
     "status": "completed"
    },
    "tags": []
   },
   "source": [
    "## Reducing memory usage"
   ]
  },
  {
   "cell_type": "code",
   "execution_count": 10,
   "id": "0722acd9",
   "metadata": {
    "execution": {
     "iopub.execute_input": "2025-05-23T14:02:34.889996Z",
     "iopub.status.busy": "2025-05-23T14:02:34.889335Z",
     "iopub.status.idle": "2025-05-23T14:02:34.894455Z",
     "shell.execute_reply": "2025-05-23T14:02:34.893943Z"
    },
    "papermill": {
     "duration": 0.011301,
     "end_time": "2025-05-23T14:02:34.895474",
     "exception": false,
     "start_time": "2025-05-23T14:02:34.884173",
     "status": "completed"
    },
    "tags": []
   },
   "outputs": [],
   "source": [
    "train['Age'] = train['Age'].astype('int8')\n",
    "test['Age'] = test['Age'].astype('int8')"
   ]
  },
  {
   "cell_type": "code",
   "execution_count": 11,
   "id": "d28badbf",
   "metadata": {
    "execution": {
     "iopub.execute_input": "2025-05-23T14:02:34.905466Z",
     "iopub.status.busy": "2025-05-23T14:02:34.905141Z",
     "iopub.status.idle": "2025-05-23T14:02:36.931079Z",
     "shell.execute_reply": "2025-05-23T14:02:36.930256Z"
    },
    "papermill": {
     "duration": 2.032495,
     "end_time": "2025-05-23T14:02:36.932590",
     "exception": false,
     "start_time": "2025-05-23T14:02:34.900095",
     "status": "completed"
    },
    "tags": []
   },
   "outputs": [],
   "source": [
    "num_cols = test.select_dtypes(include='float64').columns\n",
    "for col in num_cols:\n",
    "    train[num_cols] = train[num_cols].astype('float32')\n",
    "    test[num_cols] = test[num_cols].astype('float32')"
   ]
  },
  {
   "cell_type": "code",
   "execution_count": 12,
   "id": "d553b9b5",
   "metadata": {
    "execution": {
     "iopub.execute_input": "2025-05-23T14:02:36.944937Z",
     "iopub.status.busy": "2025-05-23T14:02:36.944666Z",
     "iopub.status.idle": "2025-05-23T14:02:36.966942Z",
     "shell.execute_reply": "2025-05-23T14:02:36.966031Z"
    },
    "papermill": {
     "duration": 0.029879,
     "end_time": "2025-05-23T14:02:36.968388",
     "exception": false,
     "start_time": "2025-05-23T14:02:36.938509",
     "status": "completed"
    },
    "tags": []
   },
   "outputs": [
    {
     "name": "stdout",
     "output_type": "stream",
     "text": [
      "<class 'cudf.core.dataframe.DataFrame'>\n",
      "RangeIndex: 765000 entries, 0 to 764999\n",
      "Data columns (total 8 columns):\n",
      " #   Column      Non-Null Count   Dtype\n",
      "---  ------      --------------   -----\n",
      " 0   Sex         765000 non-null  object\n",
      " 1   Age         765000 non-null  int8\n",
      " 2   Height      765000 non-null  float32\n",
      " 3   Weight      765000 non-null  float32\n",
      " 4   Duration    765000 non-null  float32\n",
      " 5   Heart_Rate  765000 non-null  float32\n",
      " 6   Body_Temp   765000 non-null  float32\n",
      " 7   Calories    765000 non-null  float64\n",
      "dtypes: float32(5), float64(1), int8(1), object(1)\n",
      "memory usage: 27.7+ MB\n"
     ]
    }
   ],
   "source": [
    "train.info()"
   ]
  },
  {
   "cell_type": "code",
   "execution_count": 13,
   "id": "906b2c51",
   "metadata": {
    "execution": {
     "iopub.execute_input": "2025-05-23T14:02:36.985120Z",
     "iopub.status.busy": "2025-05-23T14:02:36.984580Z",
     "iopub.status.idle": "2025-05-23T14:02:37.065229Z",
     "shell.execute_reply": "2025-05-23T14:02:37.064624Z"
    },
    "papermill": {
     "duration": 0.089757,
     "end_time": "2025-05-23T14:02:37.066505",
     "exception": false,
     "start_time": "2025-05-23T14:02:36.976748",
     "status": "completed"
    },
    "tags": []
   },
   "outputs": [],
   "source": [
    "mapping = {'male': 1, 'female': 0}\n",
    "\n",
    "train['Sex'] = train['Sex'].map(mapping).astype('int8')\n",
    "test['Sex'] = test['Sex'].map(mapping).astype('int8')"
   ]
  },
  {
   "cell_type": "code",
   "execution_count": 14,
   "id": "fb704b97",
   "metadata": {
    "execution": {
     "iopub.execute_input": "2025-05-23T14:02:37.082274Z",
     "iopub.status.busy": "2025-05-23T14:02:37.082011Z",
     "iopub.status.idle": "2025-05-23T14:02:37.087463Z",
     "shell.execute_reply": "2025-05-23T14:02:37.086453Z"
    },
    "papermill": {
     "duration": 0.016455,
     "end_time": "2025-05-23T14:02:37.089113",
     "exception": false,
     "start_time": "2025-05-23T14:02:37.072658",
     "status": "completed"
    },
    "tags": []
   },
   "outputs": [],
   "source": [
    "def add_statistical_features(df, features):\n",
    "    df_new = df.copy()\n",
    "    df_new[\"row_mean\"] = df[features].mean(axis=1)\n",
    "    df_new[\"row_std\"] = df[features].std(axis=1)\n",
    "    df_new[\"row_max\"] = df[features].max(axis=1)\n",
    "    df_new[\"row_min\"] = df[features].min(axis=1)\n",
    "    df_new[\"row_median\"] = df[features].median(axis=1)\n",
    "    df_new[\"row_skew\"] = df[features].skew(axis=1)\n",
    "    df_new[\"row_unique\"] = df[features].nunique(axis=1)\n",
    "    \n",
    "    return df_new"
   ]
  },
  {
   "cell_type": "code",
   "execution_count": 15,
   "id": "a75fd2d5",
   "metadata": {
    "execution": {
     "iopub.execute_input": "2025-05-23T14:02:37.104339Z",
     "iopub.status.busy": "2025-05-23T14:02:37.104124Z",
     "iopub.status.idle": "2025-05-23T14:02:37.108250Z",
     "shell.execute_reply": "2025-05-23T14:02:37.107594Z"
    },
    "papermill": {
     "duration": 0.012437,
     "end_time": "2025-05-23T14:02:37.109564",
     "exception": false,
     "start_time": "2025-05-23T14:02:37.097127",
     "status": "completed"
    },
    "tags": []
   },
   "outputs": [],
   "source": [
    "features = ['Sex', 'Age', 'Height', 'Weight', 'Duration', 'Heart_Rate', 'Body_Temp']"
   ]
  },
  {
   "cell_type": "code",
   "execution_count": 16,
   "id": "813b0370",
   "metadata": {
    "execution": {
     "iopub.execute_input": "2025-05-23T14:02:37.121411Z",
     "iopub.status.busy": "2025-05-23T14:02:37.120806Z",
     "iopub.status.idle": "2025-05-23T14:02:37.127255Z",
     "shell.execute_reply": "2025-05-23T14:02:37.126619Z"
    },
    "papermill": {
     "duration": 0.013739,
     "end_time": "2025-05-23T14:02:37.128344",
     "exception": false,
     "start_time": "2025-05-23T14:02:37.114605",
     "status": "completed"
    },
    "tags": []
   },
   "outputs": [],
   "source": [
    "def add_features(df):\n",
    "    for i, c1 in enumerate(features):\n",
    "        for c2 in (features[i+1:]):\n",
    "            m = f'{c1}*{c2}'\n",
    "            df[m] = df[c1] * df[c2]\n",
    "            a = f'{c1}+{c2}'\n",
    "            df[a] = df[c1] + df[c2]\n",
    "            s = f'{c1}-{c2}'\n",
    "            df[a] = df[c1] - df[c2]\n",
    "            d = f'{c1}/{c2}'\n",
    "            df[d] = df[c1] / (df[c2] + 1e-3)\n",
    "            rd = f'{c2}/{c1}'\n",
    "            df[rd] = df[c2] / (df[c1] + 1e-3)\n",
    "    return df"
   ]
  },
  {
   "cell_type": "code",
   "execution_count": 17,
   "id": "d28f0113",
   "metadata": {
    "execution": {
     "iopub.execute_input": "2025-05-23T14:02:37.139073Z",
     "iopub.status.busy": "2025-05-23T14:02:37.138461Z",
     "iopub.status.idle": "2025-05-23T14:02:37.147960Z",
     "shell.execute_reply": "2025-05-23T14:02:37.147279Z"
    },
    "papermill": {
     "duration": 0.015985,
     "end_time": "2025-05-23T14:02:37.149136",
     "exception": false,
     "start_time": "2025-05-23T14:02:37.133151",
     "status": "completed"
    },
    "tags": []
   },
   "outputs": [],
   "source": [
    "def feature_engineer(df):\n",
    "    \n",
    "    df['BMI'] = df['Weight'] / (df['Height']/100) ** 2\n",
    "    \n",
    "    Max_Heart_Rate = 207 - (0.7 * df['Age'])\n",
    "    df['HR_Ratio'] = df['Heart_Rate'] / Max_Heart_Rate\n",
    "    df['HR_Reserve'] =  df['HR_Ratio'] * df['Duration']\n",
    "    df['Thermal_Load'] = df['Body_Temp'] * df['Duration'] * df['HR_Ratio']\n",
    "\n",
    "    df['Anaerobic_Contribution'] = df['HR_Ratio']**2 * np.minimum(df['Duration'], 180) * df['Weight'] * 0.05\n",
    "    \n",
    "    MET_Estimate = (df['Heart_Rate'] / Max_Heart_Rate) * 15\n",
    "    df['MET_Calories_Rate'] = MET_Estimate * 3.5 * df['Weight'] / 200\n",
    "    \n",
    "    df['EPOC_Factor'] = df['HR_Ratio']**2 * np.log1p(df['Duration']/10)\n",
    "    df['MET_Calories_Total'] = df['MET_Calories_Rate'] * df['Duration']\n",
    "    \n",
    "    df['Exercise_Intensity_Index'] = df['Heart_Rate'] * df['Body_Temp'] / (df['Weight'] * df['Age'])\n",
    "    df['Exercise_Economy'] = df['Heart_Rate'] / (df['Weight']**0.75)\n",
    "\n",
    "    df['exertion_score'] = df['Duration'] * df['Heart_Rate'] * df['Body_Temp']\n",
    "    df['Age_Adjusted_Exertion'] = df['exertion_score'] / (1 + 0.01 * (df['Age'] - 30))\n",
    "\n",
    "    for col in ['Duration', 'Heart_Rate', 'Body_Temp']:\n",
    "        df[f'Sqrt_{col}'] = np.sqrt(df[col])\n",
    "    \n",
    "    df['body_theta'] = np.arctan2(df['Weight'], df['Height'])\n",
    "    \n",
    "    return df"
   ]
  },
  {
   "cell_type": "code",
   "execution_count": 18,
   "id": "3f7ab1f1",
   "metadata": {
    "execution": {
     "iopub.execute_input": "2025-05-23T14:02:37.159485Z",
     "iopub.status.busy": "2025-05-23T14:02:37.159247Z",
     "iopub.status.idle": "2025-05-23T14:03:15.324455Z",
     "shell.execute_reply": "2025-05-23T14:03:15.323847Z"
    },
    "papermill": {
     "duration": 38.172414,
     "end_time": "2025-05-23T14:03:15.326386",
     "exception": false,
     "start_time": "2025-05-23T14:02:37.153972",
     "status": "completed"
    },
    "tags": []
   },
   "outputs": [],
   "source": [
    "X = train.copy()\n",
    "y = X.pop('Calories')\n",
    "y = np.log1p(y)\n",
    "\n",
    "X = add_features(X)\n",
    "X = feature_engineer(X)\n",
    "X = add_statistical_features(X, features=['Duration', 'Heart_Rate', 'Body_Temp', 'Weight'])\n",
    "\n",
    "X_test = test.copy()\n",
    "X_test = add_features(X_test)\n",
    "X_test = feature_engineer(X_test)\n",
    "X_test = add_statistical_features(X_test, features=['Duration', 'Heart_Rate', 'Body_Temp', 'Weight'])"
   ]
  },
  {
   "cell_type": "code",
   "execution_count": 19,
   "id": "8a9d8ef4",
   "metadata": {
    "execution": {
     "iopub.execute_input": "2025-05-23T14:03:15.339106Z",
     "iopub.status.busy": "2025-05-23T14:03:15.338548Z",
     "iopub.status.idle": "2025-05-23T14:03:15.342407Z",
     "shell.execute_reply": "2025-05-23T14:03:15.341638Z"
    },
    "papermill": {
     "duration": 0.010872,
     "end_time": "2025-05-23T14:03:15.343579",
     "exception": false,
     "start_time": "2025-05-23T14:03:15.332707",
     "status": "completed"
    },
    "tags": []
   },
   "outputs": [],
   "source": [
    "oof_preds = {}\n",
    "test_preds = {}"
   ]
  },
  {
   "cell_type": "code",
   "execution_count": 20,
   "id": "eb8b0804",
   "metadata": {
    "execution": {
     "iopub.execute_input": "2025-05-23T14:03:15.355227Z",
     "iopub.status.busy": "2025-05-23T14:03:15.354705Z",
     "iopub.status.idle": "2025-05-23T14:07:44.587439Z",
     "shell.execute_reply": "2025-05-23T14:07:44.586568Z"
    },
    "papermill": {
     "duration": 269.245191,
     "end_time": "2025-05-23T14:07:44.593907",
     "exception": false,
     "start_time": "2025-05-23T14:03:15.348716",
     "status": "completed"
    },
    "tags": []
   },
   "outputs": [
    {
     "name": "stdout",
     "output_type": "stream",
     "text": [
      "Fold 1 RMSE: 0.058450\n",
      "Fold 2 RMSE: 0.058825\n",
      "Fold 3 RMSE: 0.059422\n",
      "Fold 4 RMSE: 0.059493\n",
      "Fold 5 RMSE: 0.058819\n",
      "\n",
      "Overall OOF RMSLE: 0.059003\n"
     ]
    }
   ],
   "source": [
    "n_folds = 5\n",
    "kf = KFold(n_splits=n_folds, shuffle=True, random_state=100)\n",
    "\n",
    "oof_xgb = np.zeros(len(y))\n",
    "test_xgb = np.zeros(len(X_test))\n",
    "\n",
    "params = {\n",
    "    'n_estimators': 1500, \n",
    "    'learning_rate': 0.012429613949090264, \n",
    "    'max_depth': 9, \n",
    "    'min_child_weight': 11, \n",
    "    'alpha': 0.031799792818970524, \n",
    "    'reg_lambda': 0.3580931274078332, \n",
    "    'subsample': 0.8416119186946701, \n",
    "    'colsample_bytree': 0.5066402912386329, \n",
    "    'gamma': 1.037011350094906e-08,\n",
    "    'grow_policy': 'lossguide'\n",
    "}\n",
    "\n",
    "for fold, (train_index, valid_index) in enumerate(kf.split(X, y), start=1):\n",
    "        X_train, X_valid = X.iloc[train_index].copy(), X.iloc[valid_index].copy()\n",
    "        y_train, y_valid = y.iloc[train_index], y.iloc[valid_index]\n",
    "        \n",
    "        xgb = XGBRegressor(**params, early_stopping_rounds=100, tree_method='gpu_hist', device='cuda', seed=100, \n",
    "            objective='reg:squarederror', eval_metric='rmse',\n",
    "        ).fit(X_train, y_train, eval_set=[(X_valid, y_valid)], verbose=0)\n",
    "    \n",
    "        valid_pred = xgb.predict(X_valid)\n",
    "        oof_xgb[valid_index] = valid_pred\n",
    "        test_xgb += xgb.predict(X_test) / n_folds\n",
    "    \n",
    "        fold_rmsle = np.sqrt(mean_squared_log_error(np.expm1(y_valid), np.expm1(valid_pred)))\n",
    "        print(f\"Fold {fold} RMSE: {fold_rmsle:.6f}\")\n",
    "\n",
    "test_xgb = np.expm1(test_xgb)\n",
    "test_xgb = np.clip(test_xgb, 1, 314)\n",
    "\n",
    "oof_preds['XGB'] = oof_xgb \n",
    "test_preds['XGB'] = test_xgb\n",
    "\n",
    "overall_rmsle = np.sqrt(mean_squared_log_error(np.expm1(y), np.expm1(oof_xgb)))\n",
    "print(f\"\\nOverall OOF RMSLE: {overall_rmsle:.6f}\")   "
   ]
  },
  {
   "cell_type": "code",
   "execution_count": 21,
   "id": "d7775c90",
   "metadata": {
    "execution": {
     "iopub.execute_input": "2025-05-23T14:07:44.605100Z",
     "iopub.status.busy": "2025-05-23T14:07:44.604880Z",
     "iopub.status.idle": "2025-05-23T14:07:44.967988Z",
     "shell.execute_reply": "2025-05-23T14:07:44.967166Z"
    },
    "papermill": {
     "duration": 0.370255,
     "end_time": "2025-05-23T14:07:44.969509",
     "exception": false,
     "start_time": "2025-05-23T14:07:44.599254",
     "status": "completed"
    },
    "tags": []
   },
   "outputs": [],
   "source": [
    "X = train.copy()\n",
    "y = X.pop('Calories')\n",
    "y = np.log1p(y) \n",
    "X = add_features(X)\n",
    "X = feature_engineer(X)\n",
    "\n",
    "X['Sex'] = X['Sex'].astype('category')\n",
    "\n",
    "X_test = test.copy()\n",
    "X_test = add_features(X_test)\n",
    "X_test = feature_engineer(X_test)\n",
    "\n",
    "X_test['Sex'] = X_test['Sex'].astype('category')"
   ]
  },
  {
   "cell_type": "code",
   "execution_count": 22,
   "id": "073887fe",
   "metadata": {
    "execution": {
     "iopub.execute_input": "2025-05-23T14:07:44.980917Z",
     "iopub.status.busy": "2025-05-23T14:07:44.980471Z",
     "iopub.status.idle": "2025-05-23T14:07:44.991335Z",
     "shell.execute_reply": "2025-05-23T14:07:44.990806Z"
    },
    "papermill": {
     "duration": 0.017592,
     "end_time": "2025-05-23T14:07:44.992489",
     "exception": false,
     "start_time": "2025-05-23T14:07:44.974897",
     "status": "completed"
    },
    "tags": []
   },
   "outputs": [],
   "source": [
    "with open('/kaggle/input/may-calorie-parameters/best_cat_params.json', 'r') as f:\n",
    "    best_params = json.load(f)"
   ]
  },
  {
   "cell_type": "code",
   "execution_count": 23,
   "id": "c6329764",
   "metadata": {
    "execution": {
     "iopub.execute_input": "2025-05-23T14:07:45.003536Z",
     "iopub.status.busy": "2025-05-23T14:07:45.003315Z",
     "iopub.status.idle": "2025-05-23T14:10:37.818304Z",
     "shell.execute_reply": "2025-05-23T14:10:37.817372Z"
    },
    "papermill": {
     "duration": 172.826406,
     "end_time": "2025-05-23T14:10:37.823916",
     "exception": false,
     "start_time": "2025-05-23T14:07:44.997510",
     "status": "completed"
    },
    "tags": []
   },
   "outputs": [
    {
     "name": "stdout",
     "output_type": "stream",
     "text": [
      "Fold 1 RMSE: 0.060355\n",
      "Fold 2 RMSE: 0.059157\n",
      "Fold 3 RMSE: 0.059365\n",
      "Fold 4 RMSE: 0.058947\n",
      "Fold 5 RMSE: 0.059787\n",
      "\n",
      "Overall OOF RMSLE: 0.059524\n"
     ]
    }
   ],
   "source": [
    "bins = KBinsDiscretizer(n_bins=12, encode='ordinal', strategy='kmeans')\n",
    "duration_bins = bins.fit_transform(train[['Duration']]).astype(int).flatten()\n",
    "\n",
    "skf = StratifiedKFold(n_splits=5, shuffle=True, random_state=100)\n",
    "oof_cat = np.zeros(len(y))\n",
    "test_cat = np.zeros(len(X_test))\n",
    "\n",
    "\n",
    "params = {\n",
    "    'iterations': 4000, \n",
    "    'learning_rate': 0.053756097649822726, \n",
    "    'depth': 10, \n",
    "    'l2_leaf_reg': 4.7557604605399595, \n",
    "    'random_strength': 0.27185213301477784,\n",
    "    'bagging_temperature': 0.5524524065983676,\n",
    "    'loss_function': 'RMSE',\n",
    "    'cat_features': ['Sex'],\n",
    "    'eval_metric': 'RMSE',\n",
    "    'early_stopping_rounds': 100,\n",
    "    'verbose': 0,\n",
    "    'random_seed': 100,\n",
    "    'task_type': 'GPU',\n",
    "}\n",
    "\n",
    "for fold, (train_index, valid_index) in enumerate(skf.split(X, duration_bins), start=1):\n",
    "        X_train, X_valid = X.iloc[train_index].copy(), X.iloc[valid_index].copy()\n",
    "        y_train, y_valid = y.iloc[train_index], y.iloc[valid_index]\n",
    "\n",
    "        cat = CatBoostRegressor(**params).fit(X_train, y_train, eval_set=[(X_valid, y_valid)], use_best_model=True)\n",
    "    \n",
    "        valid_pred = cat.predict(X_valid)\n",
    "        oof_cat[valid_index] = valid_pred\n",
    "        test_cat += cat.predict(X_test) / n_folds\n",
    "    \n",
    "        fold_rmsle = np.sqrt(mean_squared_log_error(np.expm1(y_valid), np.expm1(valid_pred)))\n",
    "        print(f\"Fold {fold} RMSE: {fold_rmsle:.6f}\")\n",
    "\n",
    "test_cat = np.expm1(test_cat)\n",
    "test_cat = np.clip(test_cat, 1, 314)\n",
    "\n",
    "oof_preds['CAT'] = oof_cat\n",
    "test_preds['CAT'] = test_cat\n",
    "\n",
    "overall_rmsle = np.sqrt(mean_squared_log_error(np.expm1(y), np.expm1(oof_cat)))\n",
    "print(f\"\\nOverall OOF RMSLE: {overall_rmsle:.6f}\")\n"
   ]
  },
  {
   "cell_type": "code",
   "execution_count": 24,
   "id": "2c3f2107",
   "metadata": {
    "execution": {
     "iopub.execute_input": "2025-05-23T14:10:37.835450Z",
     "iopub.status.busy": "2025-05-23T14:10:37.835190Z",
     "iopub.status.idle": "2025-05-23T14:10:37.903212Z",
     "shell.execute_reply": "2025-05-23T14:10:37.902555Z"
    },
    "papermill": {
     "duration": 0.075056,
     "end_time": "2025-05-23T14:10:37.904348",
     "exception": false,
     "start_time": "2025-05-23T14:10:37.829292",
     "status": "completed"
    },
    "tags": []
   },
   "outputs": [
    {
     "data": {
      "text/plain": [
       "['test_preds.pkl']"
      ]
     },
     "execution_count": 24,
     "metadata": {},
     "output_type": "execute_result"
    }
   ],
   "source": [
    "import joblib\n",
    "\n",
    "X = pd.DataFrame(oof_preds)\n",
    "X_test = pd.DataFrame(test_preds)\n",
    "\n",
    "joblib.dump(X, \"oof_preds.pkl\")\n",
    "joblib.dump(X_test, \"test_preds.pkl\")\n"
   ]
  },
  {
   "cell_type": "code",
   "execution_count": 25,
   "id": "a136af26",
   "metadata": {
    "execution": {
     "iopub.execute_input": "2025-05-23T14:10:37.916752Z",
     "iopub.status.busy": "2025-05-23T14:10:37.916469Z",
     "iopub.status.idle": "2025-05-23T14:10:38.197783Z",
     "shell.execute_reply": "2025-05-23T14:10:38.197018Z"
    },
    "papermill": {
     "duration": 0.292833,
     "end_time": "2025-05-23T14:10:38.202866",
     "exception": false,
     "start_time": "2025-05-23T14:10:37.910033",
     "status": "completed"
    },
    "tags": []
   },
   "outputs": [],
   "source": [
    "from sklearn.linear_model import BayesianRidge\n",
    "\n",
    "meta_train = np.column_stack((oof_xgb, oof_cat))\n",
    "meta_test = np.column_stack((test_xgb, test_cat))\n",
    "\n",
    "meta_model = BayesianRidge(n_iter=2500).fit(meta_train, y)\n",
    "\n",
    "final_preds = meta_model.predict(meta_test)"
   ]
  },
  {
   "cell_type": "code",
   "execution_count": 26,
   "id": "b0721c17",
   "metadata": {
    "execution": {
     "iopub.execute_input": "2025-05-23T14:10:38.228078Z",
     "iopub.status.busy": "2025-05-23T14:10:38.226689Z",
     "iopub.status.idle": "2025-05-23T14:10:38.433784Z",
     "shell.execute_reply": "2025-05-23T14:10:38.432804Z"
    },
    "papermill": {
     "duration": 0.219435,
     "end_time": "2025-05-23T14:10:38.435006",
     "exception": false,
     "start_time": "2025-05-23T14:10:38.215571",
     "status": "completed"
    },
    "tags": []
   },
   "outputs": [
    {
     "name": "stdout",
     "output_type": "stream",
     "text": [
      "Your submission was successfully saved!\n",
      "       id    Calories\n",
      "0  750000   27.335784\n",
      "1  750001  107.954760\n",
      "2  750002   87.776880\n",
      "3  750003  126.036226\n",
      "4  750004   75.721991\n"
     ]
    }
   ],
   "source": [
    "sub = pd.read_csv('/kaggle/input/playground-series-s5e5/sample_submission.csv')\n",
    "sub['Calories'] = final_preds\n",
    "sub.to_csv('submission.csv', index=False)\n",
    "print(\"Your submission was successfully saved!\")\n",
    "print(sub.head(5))"
   ]
  }
 ],
 "metadata": {
  "kaggle": {
   "accelerator": "nvidiaTeslaT4",
   "dataSources": [
    {
     "databundleVersionId": 11893428,
     "sourceId": 91716,
     "sourceType": "competition"
    },
    {
     "datasetId": 6512323,
     "sourceId": 10522392,
     "sourceType": "datasetVersion"
    },
    {
     "datasetId": 7467756,
     "sourceId": 11882102,
     "sourceType": "datasetVersion"
    }
   ],
   "dockerImageVersionId": 31011,
   "isGpuEnabled": true,
   "isInternetEnabled": true,
   "language": "python",
   "sourceType": "notebook"
  },
  "kernelspec": {
   "display_name": "Python 3",
   "language": "python",
   "name": "python3"
  },
  "language_info": {
   "codemirror_mode": {
    "name": "ipython",
    "version": 3
   },
   "file_extension": ".py",
   "mimetype": "text/x-python",
   "name": "python",
   "nbconvert_exporter": "python",
   "pygments_lexer": "ipython3",
   "version": "3.11.11"
  },
  "papermill": {
   "default_parameters": {},
   "duration": 522.699147,
   "end_time": "2025-05-23T14:10:42.736607",
   "environment_variables": {},
   "exception": null,
   "input_path": "__notebook__.ipynb",
   "output_path": "__notebook__.ipynb",
   "parameters": {},
   "start_time": "2025-05-23T14:02:00.037460",
   "version": "2.6.0"
  }
 },
 "nbformat": 4,
 "nbformat_minor": 5
}
