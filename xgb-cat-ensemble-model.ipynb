{
 "cells": [
  {
   "cell_type": "code",
   "execution_count": 1,
   "id": "aa3dc0dd",
   "metadata": {
    "execution": {
     "iopub.execute_input": "2025-05-31T05:55:25.683909Z",
     "iopub.status.busy": "2025-05-31T05:55:25.683713Z",
     "iopub.status.idle": "2025-05-31T05:55:39.310555Z",
     "shell.execute_reply": "2025-05-31T05:55:39.309672Z"
    },
    "papermill": {
     "duration": 13.633978,
     "end_time": "2025-05-31T05:55:39.311895",
     "exception": false,
     "start_time": "2025-05-31T05:55:25.677917",
     "status": "completed"
    },
    "tags": []
   },
   "outputs": [
    {
     "name": "stdout",
     "output_type": "stream",
     "text": [
      "/kaggle/input/calories-burnt-prediction/calories.csv\n",
      "/kaggle/input/playground-series-s5e5/sample_submission.csv\n",
      "/kaggle/input/playground-series-s5e5/train.csv\n",
      "/kaggle/input/playground-series-s5e5/test.csv\n"
     ]
    },
    {
     "data": {
      "text/plain": [
       "<Figure size 1200x750 with 0 Axes>"
      ]
     },
     "metadata": {},
     "output_type": "display_data"
    }
   ],
   "source": [
    "# This Python 3 environment comes with many helpful analytics libraries installed\n",
    "# It is defined by the kaggle/python Docker image: https://github.com/kaggle/docker-python\n",
    "# For example, here's several helpful packages to load\n",
    "%load_ext cudf.pandas\n",
    "import numpy as np # linear algebra\n",
    "import pandas as pd # data processing, CSV file I/O (e.g. pd.read_csv)\n",
    "import matplotlib.pyplot as plt\n",
    "import seaborn as sns\n",
    "import joblib\n",
    "import cuml\n",
    "\n",
    "# Setting Matplotlib defaults\n",
    "plt.style.use('seaborn-v0_8')\n",
    "plt.rc('figure', figsize=(8,5), dpi=150)\n",
    "plt.rc('axes', labelweight='bold', labelsize='large',\n",
    "       titleweight='bold', titlesize=15, titlepad=10)\n",
    "plt.rc('animation', html='html5')\n",
    "plt.tight_layout()\n",
    "# Input data files are available in the read-only \"../input/\" directory\n",
    "# For example, running this (by clicking run or pressing Shift+Enter) will list all files under the input directory\n",
    "\n",
    "import os\n",
    "for dirname, _, filenames in os.walk('/kaggle/input'):\n",
    "    for filename in filenames:\n",
    "        print(os.path.join(dirname, filename))\n",
    "        \n",
    "import warnings\n",
    "warnings.simplefilter('ignore')\n",
    "\n",
    "pd.set_option('display.max_columns', 500)\n",
    "\n",
    "# You can write up to 20GB to the current directory (/kaggle/working/) that gets preserved as output when you create a version using \"Save & Run All\" \n",
    "# You can also write temporary files to /kaggle/temp/, but they won't be saved outside of the current session"
   ]
  },
  {
   "cell_type": "code",
   "execution_count": 2,
   "id": "994e9670",
   "metadata": {
    "execution": {
     "iopub.execute_input": "2025-05-31T05:55:39.323387Z",
     "iopub.status.busy": "2025-05-31T05:55:39.322954Z",
     "iopub.status.idle": "2025-05-31T05:55:39.806558Z",
     "shell.execute_reply": "2025-05-31T05:55:39.805980Z"
    },
    "papermill": {
     "duration": 0.490605,
     "end_time": "2025-05-31T05:55:39.808034",
     "exception": false,
     "start_time": "2025-05-31T05:55:39.317429",
     "status": "completed"
    },
    "tags": []
   },
   "outputs": [],
   "source": [
    "train = pd.read_csv('/kaggle/input/playground-series-s5e5/train.csv', index_col='id')\n",
    "test = pd.read_csv('/kaggle/input/playground-series-s5e5/test.csv', index_col='id')\n",
    "org = pd.read_csv('/kaggle/input/calories-burnt-prediction/calories.csv', index_col='User_ID')\n",
    "org = org.rename(columns={'Gender': 'Sex'})"
   ]
  },
  {
   "cell_type": "code",
   "execution_count": 3,
   "id": "af091409",
   "metadata": {
    "execution": {
     "iopub.execute_input": "2025-05-31T05:55:39.819246Z",
     "iopub.status.busy": "2025-05-31T05:55:39.818623Z",
     "iopub.status.idle": "2025-05-31T05:55:39.857892Z",
     "shell.execute_reply": "2025-05-31T05:55:39.857402Z"
    },
    "papermill": {
     "duration": 0.045188,
     "end_time": "2025-05-31T05:55:39.858995",
     "exception": false,
     "start_time": "2025-05-31T05:55:39.813807",
     "status": "completed"
    },
    "tags": []
   },
   "outputs": [],
   "source": [
    "train = pd.concat([train, org], ignore_index=True)"
   ]
  },
  {
   "cell_type": "markdown",
   "id": "d5ef271d",
   "metadata": {
    "papermill": {
     "duration": 0.004043,
     "end_time": "2025-05-31T05:55:39.867467",
     "exception": false,
     "start_time": "2025-05-31T05:55:39.863424",
     "status": "completed"
    },
    "tags": []
   },
   "source": [
    "# Data Understanding"
   ]
  },
  {
   "cell_type": "code",
   "execution_count": 4,
   "id": "305e83f2",
   "metadata": {
    "execution": {
     "iopub.execute_input": "2025-05-31T05:55:39.876949Z",
     "iopub.status.busy": "2025-05-31T05:55:39.876716Z",
     "iopub.status.idle": "2025-05-31T05:55:39.881185Z",
     "shell.execute_reply": "2025-05-31T05:55:39.880646Z"
    },
    "papermill": {
     "duration": 0.010337,
     "end_time": "2025-05-31T05:55:39.882205",
     "exception": false,
     "start_time": "2025-05-31T05:55:39.871868",
     "status": "completed"
    },
    "tags": []
   },
   "outputs": [
    {
     "data": {
      "text/plain": [
       "(765000, 8)"
      ]
     },
     "execution_count": 4,
     "metadata": {},
     "output_type": "execute_result"
    }
   ],
   "source": [
    "train.shape"
   ]
  },
  {
   "cell_type": "code",
   "execution_count": 5,
   "id": "c7bf2396",
   "metadata": {
    "execution": {
     "iopub.execute_input": "2025-05-31T05:55:39.891505Z",
     "iopub.status.busy": "2025-05-31T05:55:39.891297Z",
     "iopub.status.idle": "2025-05-31T05:55:39.937944Z",
     "shell.execute_reply": "2025-05-31T05:55:39.937363Z"
    },
    "papermill": {
     "duration": 0.052488,
     "end_time": "2025-05-31T05:55:39.938986",
     "exception": false,
     "start_time": "2025-05-31T05:55:39.886498",
     "status": "completed"
    },
    "tags": []
   },
   "outputs": [
    {
     "data": {
      "text/html": [
       "<div>\n",
       "<style scoped>\n",
       "    .dataframe tbody tr th:only-of-type {\n",
       "        vertical-align: middle;\n",
       "    }\n",
       "\n",
       "    .dataframe tbody tr th {\n",
       "        vertical-align: top;\n",
       "    }\n",
       "\n",
       "    .dataframe thead th {\n",
       "        text-align: right;\n",
       "    }\n",
       "</style>\n",
       "<table border=\"1\" class=\"dataframe\">\n",
       "  <thead>\n",
       "    <tr style=\"text-align: right;\">\n",
       "      <th></th>\n",
       "      <th>Sex</th>\n",
       "      <th>Age</th>\n",
       "      <th>Height</th>\n",
       "      <th>Weight</th>\n",
       "      <th>Duration</th>\n",
       "      <th>Heart_Rate</th>\n",
       "      <th>Body_Temp</th>\n",
       "      <th>Calories</th>\n",
       "    </tr>\n",
       "  </thead>\n",
       "  <tbody>\n",
       "    <tr>\n",
       "      <th>0</th>\n",
       "      <td>male</td>\n",
       "      <td>36</td>\n",
       "      <td>189.0</td>\n",
       "      <td>82.0</td>\n",
       "      <td>26.0</td>\n",
       "      <td>101.0</td>\n",
       "      <td>41.0</td>\n",
       "      <td>150.0</td>\n",
       "    </tr>\n",
       "    <tr>\n",
       "      <th>1</th>\n",
       "      <td>female</td>\n",
       "      <td>64</td>\n",
       "      <td>163.0</td>\n",
       "      <td>60.0</td>\n",
       "      <td>8.0</td>\n",
       "      <td>85.0</td>\n",
       "      <td>39.7</td>\n",
       "      <td>34.0</td>\n",
       "    </tr>\n",
       "    <tr>\n",
       "      <th>2</th>\n",
       "      <td>female</td>\n",
       "      <td>51</td>\n",
       "      <td>161.0</td>\n",
       "      <td>64.0</td>\n",
       "      <td>7.0</td>\n",
       "      <td>84.0</td>\n",
       "      <td>39.8</td>\n",
       "      <td>29.0</td>\n",
       "    </tr>\n",
       "    <tr>\n",
       "      <th>3</th>\n",
       "      <td>male</td>\n",
       "      <td>20</td>\n",
       "      <td>192.0</td>\n",
       "      <td>90.0</td>\n",
       "      <td>25.0</td>\n",
       "      <td>105.0</td>\n",
       "      <td>40.7</td>\n",
       "      <td>140.0</td>\n",
       "    </tr>\n",
       "    <tr>\n",
       "      <th>4</th>\n",
       "      <td>female</td>\n",
       "      <td>38</td>\n",
       "      <td>166.0</td>\n",
       "      <td>61.0</td>\n",
       "      <td>25.0</td>\n",
       "      <td>102.0</td>\n",
       "      <td>40.6</td>\n",
       "      <td>146.0</td>\n",
       "    </tr>\n",
       "    <tr>\n",
       "      <th>5</th>\n",
       "      <td>female</td>\n",
       "      <td>26</td>\n",
       "      <td>156.0</td>\n",
       "      <td>56.0</td>\n",
       "      <td>19.0</td>\n",
       "      <td>100.0</td>\n",
       "      <td>40.5</td>\n",
       "      <td>103.0</td>\n",
       "    </tr>\n",
       "    <tr>\n",
       "      <th>6</th>\n",
       "      <td>female</td>\n",
       "      <td>21</td>\n",
       "      <td>172.0</td>\n",
       "      <td>73.0</td>\n",
       "      <td>3.0</td>\n",
       "      <td>81.0</td>\n",
       "      <td>38.3</td>\n",
       "      <td>9.0</td>\n",
       "    </tr>\n",
       "    <tr>\n",
       "      <th>7</th>\n",
       "      <td>male</td>\n",
       "      <td>46</td>\n",
       "      <td>188.0</td>\n",
       "      <td>94.0</td>\n",
       "      <td>23.0</td>\n",
       "      <td>100.0</td>\n",
       "      <td>40.8</td>\n",
       "      <td>145.0</td>\n",
       "    </tr>\n",
       "    <tr>\n",
       "      <th>8</th>\n",
       "      <td>female</td>\n",
       "      <td>33</td>\n",
       "      <td>166.0</td>\n",
       "      <td>63.0</td>\n",
       "      <td>25.0</td>\n",
       "      <td>107.0</td>\n",
       "      <td>40.5</td>\n",
       "      <td>161.0</td>\n",
       "    </tr>\n",
       "    <tr>\n",
       "      <th>9</th>\n",
       "      <td>male</td>\n",
       "      <td>65</td>\n",
       "      <td>185.0</td>\n",
       "      <td>88.0</td>\n",
       "      <td>23.0</td>\n",
       "      <td>104.0</td>\n",
       "      <td>41.0</td>\n",
       "      <td>185.0</td>\n",
       "    </tr>\n",
       "  </tbody>\n",
       "</table>\n",
       "</div>"
      ],
      "text/plain": [
       "      Sex  Age  Height  Weight  Duration  Heart_Rate  Body_Temp  Calories\n",
       "0    male   36   189.0    82.0      26.0       101.0       41.0     150.0\n",
       "1  female   64   163.0    60.0       8.0        85.0       39.7      34.0\n",
       "2  female   51   161.0    64.0       7.0        84.0       39.8      29.0\n",
       "3    male   20   192.0    90.0      25.0       105.0       40.7     140.0\n",
       "4  female   38   166.0    61.0      25.0       102.0       40.6     146.0\n",
       "5  female   26   156.0    56.0      19.0       100.0       40.5     103.0\n",
       "6  female   21   172.0    73.0       3.0        81.0       38.3       9.0\n",
       "7    male   46   188.0    94.0      23.0       100.0       40.8     145.0\n",
       "8  female   33   166.0    63.0      25.0       107.0       40.5     161.0\n",
       "9    male   65   185.0    88.0      23.0       104.0       41.0     185.0"
      ]
     },
     "execution_count": 5,
     "metadata": {},
     "output_type": "execute_result"
    }
   ],
   "source": [
    "train.head(10)"
   ]
  },
  {
   "cell_type": "code",
   "execution_count": 6,
   "id": "46014c68",
   "metadata": {
    "execution": {
     "iopub.execute_input": "2025-05-31T05:55:39.948606Z",
     "iopub.status.busy": "2025-05-31T05:55:39.948401Z",
     "iopub.status.idle": "2025-05-31T05:55:41.265610Z",
     "shell.execute_reply": "2025-05-31T05:55:41.264880Z"
    },
    "papermill": {
     "duration": 1.323451,
     "end_time": "2025-05-31T05:55:41.266906",
     "exception": false,
     "start_time": "2025-05-31T05:55:39.943455",
     "status": "completed"
    },
    "tags": []
   },
   "outputs": [
    {
     "data": {
      "text/html": [
       "<div>\n",
       "<style scoped>\n",
       "    .dataframe tbody tr th:only-of-type {\n",
       "        vertical-align: middle;\n",
       "    }\n",
       "\n",
       "    .dataframe tbody tr th {\n",
       "        vertical-align: top;\n",
       "    }\n",
       "\n",
       "    .dataframe thead th {\n",
       "        text-align: right;\n",
       "    }\n",
       "</style>\n",
       "<table border=\"1\" class=\"dataframe\">\n",
       "  <thead>\n",
       "    <tr style=\"text-align: right;\">\n",
       "      <th></th>\n",
       "      <th>Age</th>\n",
       "      <th>Height</th>\n",
       "      <th>Weight</th>\n",
       "      <th>Duration</th>\n",
       "      <th>Heart_Rate</th>\n",
       "      <th>Body_Temp</th>\n",
       "      <th>Calories</th>\n",
       "    </tr>\n",
       "  </thead>\n",
       "  <tbody>\n",
       "    <tr>\n",
       "      <th>count</th>\n",
       "      <td>765000.000000</td>\n",
       "      <td>765000.000000</td>\n",
       "      <td>765000.000000</td>\n",
       "      <td>765000.000000</td>\n",
       "      <td>765000.000000</td>\n",
       "      <td>765000.000000</td>\n",
       "      <td>765000.000000</td>\n",
       "    </tr>\n",
       "    <tr>\n",
       "      <th>mean</th>\n",
       "      <td>41.447255</td>\n",
       "      <td>174.693126</td>\n",
       "      <td>75.142162</td>\n",
       "      <td>15.423163</td>\n",
       "      <td>95.484672</td>\n",
       "      <td>40.036041</td>\n",
       "      <td>88.307424</td>\n",
       "    </tr>\n",
       "    <tr>\n",
       "      <th>std</th>\n",
       "      <td>15.213677</td>\n",
       "      <td>12.854173</td>\n",
       "      <td>14.004122</td>\n",
       "      <td>8.353421</td>\n",
       "      <td>9.452476</td>\n",
       "      <td>0.779863</td>\n",
       "      <td>62.396760</td>\n",
       "    </tr>\n",
       "    <tr>\n",
       "      <th>min</th>\n",
       "      <td>20.000000</td>\n",
       "      <td>123.000000</td>\n",
       "      <td>36.000000</td>\n",
       "      <td>1.000000</td>\n",
       "      <td>67.000000</td>\n",
       "      <td>37.100000</td>\n",
       "      <td>1.000000</td>\n",
       "    </tr>\n",
       "    <tr>\n",
       "      <th>25%</th>\n",
       "      <td>28.000000</td>\n",
       "      <td>164.000000</td>\n",
       "      <td>63.000000</td>\n",
       "      <td>8.000000</td>\n",
       "      <td>88.000000</td>\n",
       "      <td>39.600000</td>\n",
       "      <td>34.000000</td>\n",
       "    </tr>\n",
       "    <tr>\n",
       "      <th>50%</th>\n",
       "      <td>40.000000</td>\n",
       "      <td>174.000000</td>\n",
       "      <td>74.000000</td>\n",
       "      <td>15.000000</td>\n",
       "      <td>95.000000</td>\n",
       "      <td>40.300000</td>\n",
       "      <td>77.000000</td>\n",
       "    </tr>\n",
       "    <tr>\n",
       "      <th>75%</th>\n",
       "      <td>52.000000</td>\n",
       "      <td>185.000000</td>\n",
       "      <td>87.000000</td>\n",
       "      <td>23.000000</td>\n",
       "      <td>103.000000</td>\n",
       "      <td>40.700000</td>\n",
       "      <td>136.000000</td>\n",
       "    </tr>\n",
       "    <tr>\n",
       "      <th>max</th>\n",
       "      <td>79.000000</td>\n",
       "      <td>222.000000</td>\n",
       "      <td>132.000000</td>\n",
       "      <td>30.000000</td>\n",
       "      <td>128.000000</td>\n",
       "      <td>41.500000</td>\n",
       "      <td>314.000000</td>\n",
       "    </tr>\n",
       "  </tbody>\n",
       "</table>\n",
       "</div>"
      ],
      "text/plain": [
       "                 Age         Height         Weight       Duration  \\\n",
       "count  765000.000000  765000.000000  765000.000000  765000.000000   \n",
       "mean       41.447255     174.693126      75.142162      15.423163   \n",
       "std        15.213677      12.854173      14.004122       8.353421   \n",
       "min        20.000000     123.000000      36.000000       1.000000   \n",
       "25%        28.000000     164.000000      63.000000       8.000000   \n",
       "50%        40.000000     174.000000      74.000000      15.000000   \n",
       "75%        52.000000     185.000000      87.000000      23.000000   \n",
       "max        79.000000     222.000000     132.000000      30.000000   \n",
       "\n",
       "          Heart_Rate      Body_Temp       Calories  \n",
       "count  765000.000000  765000.000000  765000.000000  \n",
       "mean       95.484672      40.036041      88.307424  \n",
       "std         9.452476       0.779863      62.396760  \n",
       "min        67.000000      37.100000       1.000000  \n",
       "25%        88.000000      39.600000      34.000000  \n",
       "50%        95.000000      40.300000      77.000000  \n",
       "75%       103.000000      40.700000     136.000000  \n",
       "max       128.000000      41.500000     314.000000  "
      ]
     },
     "execution_count": 6,
     "metadata": {},
     "output_type": "execute_result"
    }
   ],
   "source": [
    "train.describe()"
   ]
  },
  {
   "cell_type": "code",
   "execution_count": 7,
   "id": "93c63618",
   "metadata": {
    "execution": {
     "iopub.execute_input": "2025-05-31T05:55:41.278668Z",
     "iopub.status.busy": "2025-05-31T05:55:41.278078Z",
     "iopub.status.idle": "2025-05-31T05:55:41.355303Z",
     "shell.execute_reply": "2025-05-31T05:55:41.354708Z"
    },
    "papermill": {
     "duration": 0.084222,
     "end_time": "2025-05-31T05:55:41.356270",
     "exception": false,
     "start_time": "2025-05-31T05:55:41.272048",
     "status": "completed"
    },
    "tags": []
   },
   "outputs": [
    {
     "data": {
      "text/plain": [
       "Sex           0\n",
       "Age           0\n",
       "Height        0\n",
       "Weight        0\n",
       "Duration      0\n",
       "Heart_Rate    0\n",
       "Body_Temp     0\n",
       "Calories      0\n",
       "dtype: int64"
      ]
     },
     "execution_count": 7,
     "metadata": {},
     "output_type": "execute_result"
    }
   ],
   "source": [
    "train.isnull().sum()"
   ]
  },
  {
   "cell_type": "code",
   "execution_count": 8,
   "id": "44b1d206",
   "metadata": {
    "execution": {
     "iopub.execute_input": "2025-05-31T05:55:41.366491Z",
     "iopub.status.busy": "2025-05-31T05:55:41.366271Z",
     "iopub.status.idle": "2025-05-31T05:55:41.377331Z",
     "shell.execute_reply": "2025-05-31T05:55:41.376542Z"
    },
    "papermill": {
     "duration": 0.017477,
     "end_time": "2025-05-31T05:55:41.378514",
     "exception": false,
     "start_time": "2025-05-31T05:55:41.361037",
     "status": "completed"
    },
    "tags": []
   },
   "outputs": [
    {
     "name": "stdout",
     "output_type": "stream",
     "text": [
      "<class 'cudf.core.dataframe.DataFrame'>\n",
      "RangeIndex: 765000 entries, 0 to 764999\n",
      "Data columns (total 8 columns):\n",
      " #   Column      Non-Null Count   Dtype\n",
      "---  ------      --------------   -----\n",
      " 0   Sex         765000 non-null  object\n",
      " 1   Age         765000 non-null  int64\n",
      " 2   Height      765000 non-null  float64\n",
      " 3   Weight      765000 non-null  float64\n",
      " 4   Duration    765000 non-null  float64\n",
      " 5   Heart_Rate  765000 non-null  float64\n",
      " 6   Body_Temp   765000 non-null  float64\n",
      " 7   Calories    765000 non-null  float64\n",
      "dtypes: float64(6), int64(1), object(1)\n",
      "memory usage: 47.4+ MB\n"
     ]
    }
   ],
   "source": [
    "train.info()"
   ]
  },
  {
   "cell_type": "markdown",
   "id": "86dd4f39",
   "metadata": {
    "papermill": {
     "duration": 0.004702,
     "end_time": "2025-05-31T05:55:41.387858",
     "exception": false,
     "start_time": "2025-05-31T05:55:41.383156",
     "status": "completed"
    },
    "tags": []
   },
   "source": [
    "# Data Preprocessing"
   ]
  },
  {
   "cell_type": "markdown",
   "id": "f9e9b95b",
   "metadata": {
    "papermill": {
     "duration": 0.00452,
     "end_time": "2025-05-31T05:55:41.397040",
     "exception": false,
     "start_time": "2025-05-31T05:55:41.392520",
     "status": "completed"
    },
    "tags": []
   },
   "source": [
    "## Reducing memory usage"
   ]
  },
  {
   "cell_type": "code",
   "execution_count": 9,
   "id": "409227d2",
   "metadata": {
    "execution": {
     "iopub.execute_input": "2025-05-31T05:55:41.407321Z",
     "iopub.status.busy": "2025-05-31T05:55:41.406917Z",
     "iopub.status.idle": "2025-05-31T05:55:41.412103Z",
     "shell.execute_reply": "2025-05-31T05:55:41.411401Z"
    },
    "papermill": {
     "duration": 0.011506,
     "end_time": "2025-05-31T05:55:41.413186",
     "exception": false,
     "start_time": "2025-05-31T05:55:41.401680",
     "status": "completed"
    },
    "tags": []
   },
   "outputs": [],
   "source": [
    "train['Age'] = train['Age'].astype('int8')\n",
    "test['Age'] = test['Age'].astype('int8')"
   ]
  },
  {
   "cell_type": "code",
   "execution_count": 10,
   "id": "be498ed2",
   "metadata": {
    "execution": {
     "iopub.execute_input": "2025-05-31T05:55:41.423602Z",
     "iopub.status.busy": "2025-05-31T05:55:41.423036Z",
     "iopub.status.idle": "2025-05-31T05:55:43.170719Z",
     "shell.execute_reply": "2025-05-31T05:55:43.170123Z"
    },
    "papermill": {
     "duration": 1.754214,
     "end_time": "2025-05-31T05:55:43.172095",
     "exception": false,
     "start_time": "2025-05-31T05:55:41.417881",
     "status": "completed"
    },
    "tags": []
   },
   "outputs": [],
   "source": [
    "num_cols = test.select_dtypes(include='float64').columns\n",
    "for col in num_cols:\n",
    "    train[num_cols] = train[num_cols].astype('float32')\n",
    "    test[num_cols] = test[num_cols].astype('float32')"
   ]
  },
  {
   "cell_type": "code",
   "execution_count": 11,
   "id": "eb5081e0",
   "metadata": {
    "execution": {
     "iopub.execute_input": "2025-05-31T05:55:43.183305Z",
     "iopub.status.busy": "2025-05-31T05:55:43.182738Z",
     "iopub.status.idle": "2025-05-31T05:55:43.201348Z",
     "shell.execute_reply": "2025-05-31T05:55:43.200541Z"
    },
    "papermill": {
     "duration": 0.025283,
     "end_time": "2025-05-31T05:55:43.202493",
     "exception": false,
     "start_time": "2025-05-31T05:55:43.177210",
     "status": "completed"
    },
    "tags": []
   },
   "outputs": [
    {
     "name": "stdout",
     "output_type": "stream",
     "text": [
      "<class 'cudf.core.dataframe.DataFrame'>\n",
      "RangeIndex: 765000 entries, 0 to 764999\n",
      "Data columns (total 8 columns):\n",
      " #   Column      Non-Null Count   Dtype\n",
      "---  ------      --------------   -----\n",
      " 0   Sex         765000 non-null  object\n",
      " 1   Age         765000 non-null  int8\n",
      " 2   Height      765000 non-null  float32\n",
      " 3   Weight      765000 non-null  float32\n",
      " 4   Duration    765000 non-null  float32\n",
      " 5   Heart_Rate  765000 non-null  float32\n",
      " 6   Body_Temp   765000 non-null  float32\n",
      " 7   Calories    765000 non-null  float64\n",
      "dtypes: float32(5), float64(1), int8(1), object(1)\n",
      "memory usage: 27.7+ MB\n"
     ]
    }
   ],
   "source": [
    "train.info()"
   ]
  },
  {
   "cell_type": "code",
   "execution_count": 12,
   "id": "826c6412",
   "metadata": {
    "execution": {
     "iopub.execute_input": "2025-05-31T05:55:43.212983Z",
     "iopub.status.busy": "2025-05-31T05:55:43.212784Z",
     "iopub.status.idle": "2025-05-31T05:55:43.274386Z",
     "shell.execute_reply": "2025-05-31T05:55:43.273901Z"
    },
    "papermill": {
     "duration": 0.068103,
     "end_time": "2025-05-31T05:55:43.275443",
     "exception": false,
     "start_time": "2025-05-31T05:55:43.207340",
     "status": "completed"
    },
    "tags": []
   },
   "outputs": [],
   "source": [
    "mapping = {'male': 1, 'female': 0}\n",
    "\n",
    "train['Sex'] = train['Sex'].map(mapping).astype('int8')\n",
    "test['Sex'] = test['Sex'].map(mapping).astype('int8')"
   ]
  },
  {
   "cell_type": "code",
   "execution_count": 13,
   "id": "b2a24f32",
   "metadata": {
    "execution": {
     "iopub.execute_input": "2025-05-31T05:55:43.285725Z",
     "iopub.status.busy": "2025-05-31T05:55:43.285495Z",
     "iopub.status.idle": "2025-05-31T05:55:43.288419Z",
     "shell.execute_reply": "2025-05-31T05:55:43.287929Z"
    },
    "papermill": {
     "duration": 0.009268,
     "end_time": "2025-05-31T05:55:43.289455",
     "exception": false,
     "start_time": "2025-05-31T05:55:43.280187",
     "status": "completed"
    },
    "tags": []
   },
   "outputs": [],
   "source": [
    "features = ['Age', 'Height', 'Weight', 'Duration', 'Heart_Rate', 'Body_Temp']"
   ]
  },
  {
   "cell_type": "code",
   "execution_count": 14,
   "id": "1dcd9544",
   "metadata": {
    "execution": {
     "iopub.execute_input": "2025-05-31T05:55:43.299723Z",
     "iopub.status.busy": "2025-05-31T05:55:43.299494Z",
     "iopub.status.idle": "2025-05-31T05:55:43.304214Z",
     "shell.execute_reply": "2025-05-31T05:55:43.303523Z"
    },
    "papermill": {
     "duration": 0.011089,
     "end_time": "2025-05-31T05:55:43.305321",
     "exception": false,
     "start_time": "2025-05-31T05:55:43.294232",
     "status": "completed"
    },
    "tags": []
   },
   "outputs": [],
   "source": [
    "def add_features(df):\n",
    "    for i, c1 in enumerate(features):\n",
    "        for c2 in (features[i+1:]):\n",
    "            m = f'{c1}*{c2}'\n",
    "            df[m] = df[c1] * df[c2]\n",
    "            a = f'{c1}+{c2}'\n",
    "            df[a] = df[c1] + df[c2]\n",
    "            s = f'{c1}-{c2}'\n",
    "            df[s] = df[c1] - df[c2]\n",
    "            rs = f'{c2}-{c1}'\n",
    "            df[rs] = df[c2] - df[c1]\n",
    "            d = f'{c1}/{c2}'\n",
    "            df[d] = df[c1] / (df[c2] + 1e-5)\n",
    "            rd = f'{c2}/{c1}'\n",
    "            df[rd] = df[c2] / (df[c1] + 1e-5)\n",
    "    return df"
   ]
  },
  {
   "cell_type": "code",
   "execution_count": 15,
   "id": "57e88bd3",
   "metadata": {
    "execution": {
     "iopub.execute_input": "2025-05-31T05:55:43.315490Z",
     "iopub.status.busy": "2025-05-31T05:55:43.315317Z",
     "iopub.status.idle": "2025-05-31T05:55:43.319078Z",
     "shell.execute_reply": "2025-05-31T05:55:43.318563Z"
    },
    "papermill": {
     "duration": 0.009965,
     "end_time": "2025-05-31T05:55:43.320037",
     "exception": false,
     "start_time": "2025-05-31T05:55:43.310072",
     "status": "completed"
    },
    "tags": []
   },
   "outputs": [],
   "source": [
    "def add_statistical_features(df, features):\n",
    "    df_new = df.copy()\n",
    "    df_new[\"row_mean\"] = df[features].mean(axis=1)\n",
    "    df_new[\"row_std\"] = df[features].std(axis=1)\n",
    "    df_new[\"row_max\"] = df[features].max(axis=1)\n",
    "    df_new[\"row_min\"] = df[features].min(axis=1)\n",
    "    df_new[\"row_median\"] = df[features].median(axis=1)\n",
    "    \n",
    "    return df_new"
   ]
  },
  {
   "cell_type": "code",
   "execution_count": 16,
   "id": "a7cc3f6a",
   "metadata": {
    "execution": {
     "iopub.execute_input": "2025-05-31T05:55:43.330454Z",
     "iopub.status.busy": "2025-05-31T05:55:43.329956Z",
     "iopub.status.idle": "2025-05-31T05:55:43.337169Z",
     "shell.execute_reply": "2025-05-31T05:55:43.336694Z"
    },
    "papermill": {
     "duration": 0.013348,
     "end_time": "2025-05-31T05:55:43.338107",
     "exception": false,
     "start_time": "2025-05-31T05:55:43.324759",
     "status": "completed"
    },
    "tags": []
   },
   "outputs": [],
   "source": [
    "def feature_engineer(df):\n",
    "    Max_Heart_Rate = 220 - df['Age']\n",
    "    df['HR_Ratio'] = df['Heart_Rate'] / Max_Heart_Rate\n",
    "    df['HR_Reserve'] = (df['Heart_Rate'] / Max_Heart_Rate) * df['Duration']\n",
    "\n",
    "    df['MET_Estimate'] = (df['Heart_Rate'] / Max_Heart_Rate) * 15\n",
    "    df['MET_Calories_Rate'] = df['MET_Estimate'] * 3.5 * df['Weight'] / 200\n",
    "    \n",
    "    df['MET_Calories_Total'] = df['MET_Calories_Rate'] * df['Duration']\n",
    "    \n",
    "    df['Exercise_Intensity_Index'] = df['Heart_Rate'] * df['Body_Temp'] / (df['Weight'] * df['Age'])\n",
    "    df['Intensity'] = df['Heart_Rate']  * df['Duration'] / 60\n",
    "\n",
    "    df['Exertion_score'] = df['Duration'] * df['Heart_Rate'] * df['Body_Temp']\n",
    "    \n",
    "    df['BMI'] = df['Weight'] / (df['Height']/100) ** 2\n",
    "\n",
    "    for col in ['Duration', 'Heart_Rate', 'Body_Temp']:\n",
    "        df[f'Sqrt_{col}'] = np.sqrt(df[col])\n",
    "        df[f'cube_{col}'] = df[col] ** 3\n",
    "        \n",
    "    df['EPOC_Factor'] = df['HR_Ratio']**2 * np.log1p(df['Duration']/10)\n",
    "    df['Thermal_Load'] = df['Body_Temp'] * df['Duration'] * df['HR_Ratio']\n",
    "\n",
    "    df['CB_Proxy'] = np.where(\n",
    "        df['Sex'] == 'female',\n",
    "        df['Duration'] * (0.4472 * df['Heart_Rate'] - 0.1263 * df['Weight'] + 0.074 * df['Age'] -  55.0969) / 4.184,\n",
    "        df['Duration'] * (0.6309 * df['Heart_Rate'] - 0.1988 * df['Weight'] + 0.2017 * df['Age'] -  55.0969) / 4.184,\n",
    "    )\n",
    "\n",
    "    bins = [0, 10, 20, 30]\n",
    "    Duration_Bin = pd.cut(df['Duration'], bins=bins, labels=[f\"{bins[i]}_{bins[i+1]}\" for i in range(len(bins)-1)])\n",
    "\n",
    "    for bin_label in Duration_Bin.unique():\n",
    "        df[f'HR_DurBin_{bin_label}'] = np.where(Duration_Bin == bin_label, df['Heart_Rate'], np.nan)\n",
    "        df[f'BT_DurBin_{bin_label}'] = np.where(Duration_Bin == bin_label, df['Body_Temp'], np.nan)\n",
    "\n",
    "    return df"
   ]
  },
  {
   "cell_type": "code",
   "execution_count": 17,
   "id": "4754ee14",
   "metadata": {
    "execution": {
     "iopub.execute_input": "2025-05-31T05:55:43.348513Z",
     "iopub.status.busy": "2025-05-31T05:55:43.348081Z",
     "iopub.status.idle": "2025-05-31T05:55:49.851895Z",
     "shell.execute_reply": "2025-05-31T05:55:49.851094Z"
    },
    "papermill": {
     "duration": 6.510409,
     "end_time": "2025-05-31T05:55:49.853247",
     "exception": false,
     "start_time": "2025-05-31T05:55:43.342838",
     "status": "completed"
    },
    "tags": []
   },
   "outputs": [],
   "source": [
    "train = add_features(train)\n",
    "train = add_statistical_features(train, features=['Height', 'Weight','Heart_Rate', 'Body_Temp'])\n",
    "train = feature_engineer(train)\n",
    "\n",
    "test = add_features(test)\n",
    "test = add_statistical_features(test, features=['Height', 'Weight','Heart_Rate', 'Body_Temp'])\n",
    "test = feature_engineer(test)"
   ]
  },
  {
   "cell_type": "code",
   "execution_count": 18,
   "id": "1d45c6bd",
   "metadata": {
    "execution": {
     "iopub.execute_input": "2025-05-31T05:55:49.863974Z",
     "iopub.status.busy": "2025-05-31T05:55:49.863762Z",
     "iopub.status.idle": "2025-05-31T05:55:50.309924Z",
     "shell.execute_reply": "2025-05-31T05:55:50.309402Z"
    },
    "papermill": {
     "duration": 0.452678,
     "end_time": "2025-05-31T05:55:50.311033",
     "exception": false,
     "start_time": "2025-05-31T05:55:49.858355",
     "status": "completed"
    },
    "tags": []
   },
   "outputs": [],
   "source": [
    "common_cols = [col for col in test.columns if col in train.columns and col != 'Calories']\n",
    "train = train[common_cols + ['Calories']]\n",
    "test = test[common_cols]"
   ]
  },
  {
   "cell_type": "code",
   "execution_count": 19,
   "id": "f882347d",
   "metadata": {
    "execution": {
     "iopub.execute_input": "2025-05-31T05:55:50.321400Z",
     "iopub.status.busy": "2025-05-31T05:55:50.321198Z",
     "iopub.status.idle": "2025-05-31T05:55:50.469679Z",
     "shell.execute_reply": "2025-05-31T05:55:50.468898Z"
    },
    "papermill": {
     "duration": 0.155042,
     "end_time": "2025-05-31T05:55:50.470937",
     "exception": false,
     "start_time": "2025-05-31T05:55:50.315895",
     "status": "completed"
    },
    "tags": []
   },
   "outputs": [],
   "source": [
    "X = train.copy()\n",
    "y = X.pop('Calories')\n",
    "y = np.log1p(y)\n",
    "\n",
    "X_test = test.copy()"
   ]
  },
  {
   "cell_type": "code",
   "execution_count": 20,
   "id": "3c3fd453",
   "metadata": {
    "execution": {
     "iopub.execute_input": "2025-05-31T05:55:50.481433Z",
     "iopub.status.busy": "2025-05-31T05:55:50.481215Z",
     "iopub.status.idle": "2025-05-31T05:55:52.330959Z",
     "shell.execute_reply": "2025-05-31T05:55:52.330179Z"
    },
    "papermill": {
     "duration": 1.856475,
     "end_time": "2025-05-31T05:55:52.332419",
     "exception": false,
     "start_time": "2025-05-31T05:55:50.475944",
     "status": "completed"
    },
    "tags": []
   },
   "outputs": [],
   "source": [
    "corr_matrix = pd.DataFrame(X).corr().abs()\n",
    "upper = corr_matrix.where(np.triu(np.ones(corr_matrix.shape), k=1).astype(bool))\n",
    "to_drop = [column for column in upper.columns if any(upper[column] > 0.95)]\n",
    "X = X.drop(columns=to_drop)\n",
    "X_test = X_test.drop(columns=to_drop)"
   ]
  },
  {
   "cell_type": "code",
   "execution_count": 21,
   "id": "8f6d6598",
   "metadata": {
    "execution": {
     "iopub.execute_input": "2025-05-31T05:55:52.343422Z",
     "iopub.status.busy": "2025-05-31T05:55:52.343003Z",
     "iopub.status.idle": "2025-05-31T05:55:52.379824Z",
     "shell.execute_reply": "2025-05-31T05:55:52.379095Z"
    },
    "papermill": {
     "duration": 0.043367,
     "end_time": "2025-05-31T05:55:52.380920",
     "exception": false,
     "start_time": "2025-05-31T05:55:52.337553",
     "status": "completed"
    },
    "tags": []
   },
   "outputs": [
    {
     "data": {
      "text/html": [
       "<div>\n",
       "<style scoped>\n",
       "    .dataframe tbody tr th:only-of-type {\n",
       "        vertical-align: middle;\n",
       "    }\n",
       "\n",
       "    .dataframe tbody tr th {\n",
       "        vertical-align: top;\n",
       "    }\n",
       "\n",
       "    .dataframe thead th {\n",
       "        text-align: right;\n",
       "    }\n",
       "</style>\n",
       "<table border=\"1\" class=\"dataframe\">\n",
       "  <thead>\n",
       "    <tr style=\"text-align: right;\">\n",
       "      <th></th>\n",
       "      <th>Sex</th>\n",
       "      <th>Age</th>\n",
       "      <th>Height</th>\n",
       "      <th>Duration</th>\n",
       "      <th>Heart_Rate</th>\n",
       "      <th>Body_Temp</th>\n",
       "      <th>Age+Height</th>\n",
       "      <th>Age-Height</th>\n",
       "      <th>Height/Age</th>\n",
       "      <th>Age*Duration</th>\n",
       "      <th>Age+Duration</th>\n",
       "      <th>Age-Duration</th>\n",
       "      <th>Age/Duration</th>\n",
       "      <th>Duration/Age</th>\n",
       "      <th>Heart_Rate/Age</th>\n",
       "      <th>Height-Weight</th>\n",
       "      <th>Height+Duration</th>\n",
       "      <th>Height-Duration</th>\n",
       "      <th>Height/Duration</th>\n",
       "      <th>Height*Heart_Rate</th>\n",
       "      <th>Height/Heart_Rate</th>\n",
       "      <th>Duration-Heart_Rate</th>\n",
       "      <th>MET_Calories_Rate</th>\n",
       "      <th>Exercise_Intensity_Index</th>\n",
       "      <th>BMI</th>\n",
       "      <th>cube_Duration</th>\n",
       "      <th>CB_Proxy</th>\n",
       "      <th>HR_DurBin_0_10</th>\n",
       "      <th>BT_DurBin_0_10</th>\n",
       "      <th>HR_DurBin_10_20</th>\n",
       "      <th>BT_DurBin_10_20</th>\n",
       "      <th>HR_DurBin_20_30</th>\n",
       "      <th>BT_DurBin_20_30</th>\n",
       "    </tr>\n",
       "  </thead>\n",
       "  <tbody>\n",
       "    <tr>\n",
       "      <th>0</th>\n",
       "      <td>1</td>\n",
       "      <td>36</td>\n",
       "      <td>189.0</td>\n",
       "      <td>26.0</td>\n",
       "      <td>101.0</td>\n",
       "      <td>41.000000</td>\n",
       "      <td>225.0</td>\n",
       "      <td>-153.0</td>\n",
       "      <td>5.249999</td>\n",
       "      <td>936.0</td>\n",
       "      <td>62.0</td>\n",
       "      <td>10.0</td>\n",
       "      <td>1.384615</td>\n",
       "      <td>0.722222</td>\n",
       "      <td>2.805555</td>\n",
       "      <td>107.0</td>\n",
       "      <td>215.0</td>\n",
       "      <td>163.0</td>\n",
       "      <td>7.269228</td>\n",
       "      <td>19089.0</td>\n",
       "      <td>1.871287</td>\n",
       "      <td>-75.0</td>\n",
       "      <td>11.815354</td>\n",
       "      <td>1.402778</td>\n",
       "      <td>22.955685</td>\n",
       "      <td>17576.0</td>\n",
       "      <td>-2.587548</td>\n",
       "      <td>NaN</td>\n",
       "      <td>NaN</td>\n",
       "      <td>NaN</td>\n",
       "      <td>NaN</td>\n",
       "      <td>101.0</td>\n",
       "      <td>41.000000</td>\n",
       "    </tr>\n",
       "    <tr>\n",
       "      <th>1</th>\n",
       "      <td>0</td>\n",
       "      <td>64</td>\n",
       "      <td>163.0</td>\n",
       "      <td>8.0</td>\n",
       "      <td>85.0</td>\n",
       "      <td>39.700001</td>\n",
       "      <td>227.0</td>\n",
       "      <td>-99.0</td>\n",
       "      <td>2.546875</td>\n",
       "      <td>512.0</td>\n",
       "      <td>72.0</td>\n",
       "      <td>56.0</td>\n",
       "      <td>7.999990</td>\n",
       "      <td>0.125000</td>\n",
       "      <td>1.328125</td>\n",
       "      <td>103.0</td>\n",
       "      <td>171.0</td>\n",
       "      <td>155.0</td>\n",
       "      <td>20.374975</td>\n",
       "      <td>13855.0</td>\n",
       "      <td>1.917647</td>\n",
       "      <td>-77.0</td>\n",
       "      <td>8.581730</td>\n",
       "      <td>0.878776</td>\n",
       "      <td>22.582710</td>\n",
       "      <td>512.0</td>\n",
       "      <td>-0.936135</td>\n",
       "      <td>85.0</td>\n",
       "      <td>39.700001</td>\n",
       "      <td>NaN</td>\n",
       "      <td>NaN</td>\n",
       "      <td>NaN</td>\n",
       "      <td>NaN</td>\n",
       "    </tr>\n",
       "    <tr>\n",
       "      <th>2</th>\n",
       "      <td>0</td>\n",
       "      <td>51</td>\n",
       "      <td>161.0</td>\n",
       "      <td>7.0</td>\n",
       "      <td>84.0</td>\n",
       "      <td>39.799999</td>\n",
       "      <td>212.0</td>\n",
       "      <td>-110.0</td>\n",
       "      <td>3.156862</td>\n",
       "      <td>357.0</td>\n",
       "      <td>58.0</td>\n",
       "      <td>44.0</td>\n",
       "      <td>7.285704</td>\n",
       "      <td>0.137255</td>\n",
       "      <td>1.647059</td>\n",
       "      <td>97.0</td>\n",
       "      <td>168.0</td>\n",
       "      <td>154.0</td>\n",
       "      <td>22.999968</td>\n",
       "      <td>13524.0</td>\n",
       "      <td>1.916667</td>\n",
       "      <td>-77.0</td>\n",
       "      <td>8.350297</td>\n",
       "      <td>1.024265</td>\n",
       "      <td>24.690405</td>\n",
       "      <td>343.0</td>\n",
       "      <td>-7.591922</td>\n",
       "      <td>84.0</td>\n",
       "      <td>39.799999</td>\n",
       "      <td>NaN</td>\n",
       "      <td>NaN</td>\n",
       "      <td>NaN</td>\n",
       "      <td>NaN</td>\n",
       "    </tr>\n",
       "    <tr>\n",
       "      <th>3</th>\n",
       "      <td>1</td>\n",
       "      <td>20</td>\n",
       "      <td>192.0</td>\n",
       "      <td>25.0</td>\n",
       "      <td>105.0</td>\n",
       "      <td>40.700001</td>\n",
       "      <td>212.0</td>\n",
       "      <td>-172.0</td>\n",
       "      <td>9.599995</td>\n",
       "      <td>500.0</td>\n",
       "      <td>45.0</td>\n",
       "      <td>-5.0</td>\n",
       "      <td>0.800000</td>\n",
       "      <td>1.249999</td>\n",
       "      <td>5.249997</td>\n",
       "      <td>102.0</td>\n",
       "      <td>217.0</td>\n",
       "      <td>167.0</td>\n",
       "      <td>7.679997</td>\n",
       "      <td>20160.0</td>\n",
       "      <td>1.828571</td>\n",
       "      <td>-80.0</td>\n",
       "      <td>12.403124</td>\n",
       "      <td>2.374167</td>\n",
       "      <td>24.414062</td>\n",
       "      <td>15625.0</td>\n",
       "      <td>-16.195023</td>\n",
       "      <td>NaN</td>\n",
       "      <td>NaN</td>\n",
       "      <td>NaN</td>\n",
       "      <td>NaN</td>\n",
       "      <td>105.0</td>\n",
       "      <td>40.700001</td>\n",
       "    </tr>\n",
       "    <tr>\n",
       "      <th>4</th>\n",
       "      <td>0</td>\n",
       "      <td>38</td>\n",
       "      <td>166.0</td>\n",
       "      <td>25.0</td>\n",
       "      <td>102.0</td>\n",
       "      <td>40.599998</td>\n",
       "      <td>204.0</td>\n",
       "      <td>-128.0</td>\n",
       "      <td>4.368420</td>\n",
       "      <td>950.0</td>\n",
       "      <td>63.0</td>\n",
       "      <td>13.0</td>\n",
       "      <td>1.519999</td>\n",
       "      <td>0.657895</td>\n",
       "      <td>2.684210</td>\n",
       "      <td>105.0</td>\n",
       "      <td>191.0</td>\n",
       "      <td>141.0</td>\n",
       "      <td>6.639997</td>\n",
       "      <td>16932.0</td>\n",
       "      <td>1.627451</td>\n",
       "      <td>-77.0</td>\n",
       "      <td>8.974038</td>\n",
       "      <td>1.786540</td>\n",
       "      <td>22.136740</td>\n",
       "      <td>15625.0</td>\n",
       "      <td>28.637061</td>\n",
       "      <td>NaN</td>\n",
       "      <td>NaN</td>\n",
       "      <td>NaN</td>\n",
       "      <td>NaN</td>\n",
       "      <td>102.0</td>\n",
       "      <td>40.599998</td>\n",
       "    </tr>\n",
       "  </tbody>\n",
       "</table>\n",
       "</div>"
      ],
      "text/plain": [
       "   Sex  Age  Height  Duration  Heart_Rate  Body_Temp  Age+Height  Age-Height  \\\n",
       "0    1   36   189.0      26.0       101.0  41.000000       225.0      -153.0   \n",
       "1    0   64   163.0       8.0        85.0  39.700001       227.0       -99.0   \n",
       "2    0   51   161.0       7.0        84.0  39.799999       212.0      -110.0   \n",
       "3    1   20   192.0      25.0       105.0  40.700001       212.0      -172.0   \n",
       "4    0   38   166.0      25.0       102.0  40.599998       204.0      -128.0   \n",
       "\n",
       "   Height/Age  Age*Duration  Age+Duration  Age-Duration  Age/Duration  \\\n",
       "0    5.249999         936.0          62.0          10.0      1.384615   \n",
       "1    2.546875         512.0          72.0          56.0      7.999990   \n",
       "2    3.156862         357.0          58.0          44.0      7.285704   \n",
       "3    9.599995         500.0          45.0          -5.0      0.800000   \n",
       "4    4.368420         950.0          63.0          13.0      1.519999   \n",
       "\n",
       "   Duration/Age  Heart_Rate/Age  Height-Weight  Height+Duration  \\\n",
       "0      0.722222        2.805555          107.0            215.0   \n",
       "1      0.125000        1.328125          103.0            171.0   \n",
       "2      0.137255        1.647059           97.0            168.0   \n",
       "3      1.249999        5.249997          102.0            217.0   \n",
       "4      0.657895        2.684210          105.0            191.0   \n",
       "\n",
       "   Height-Duration  Height/Duration  Height*Heart_Rate  Height/Heart_Rate  \\\n",
       "0            163.0         7.269228            19089.0           1.871287   \n",
       "1            155.0        20.374975            13855.0           1.917647   \n",
       "2            154.0        22.999968            13524.0           1.916667   \n",
       "3            167.0         7.679997            20160.0           1.828571   \n",
       "4            141.0         6.639997            16932.0           1.627451   \n",
       "\n",
       "   Duration-Heart_Rate  MET_Calories_Rate  Exercise_Intensity_Index  \\\n",
       "0                -75.0          11.815354                  1.402778   \n",
       "1                -77.0           8.581730                  0.878776   \n",
       "2                -77.0           8.350297                  1.024265   \n",
       "3                -80.0          12.403124                  2.374167   \n",
       "4                -77.0           8.974038                  1.786540   \n",
       "\n",
       "         BMI  cube_Duration   CB_Proxy  HR_DurBin_0_10  BT_DurBin_0_10  \\\n",
       "0  22.955685        17576.0  -2.587548             NaN             NaN   \n",
       "1  22.582710          512.0  -0.936135            85.0       39.700001   \n",
       "2  24.690405          343.0  -7.591922            84.0       39.799999   \n",
       "3  24.414062        15625.0 -16.195023             NaN             NaN   \n",
       "4  22.136740        15625.0  28.637061             NaN             NaN   \n",
       "\n",
       "   HR_DurBin_10_20  BT_DurBin_10_20  HR_DurBin_20_30  BT_DurBin_20_30  \n",
       "0              NaN              NaN            101.0        41.000000  \n",
       "1              NaN              NaN              NaN              NaN  \n",
       "2              NaN              NaN              NaN              NaN  \n",
       "3              NaN              NaN            105.0        40.700001  \n",
       "4              NaN              NaN            102.0        40.599998  "
      ]
     },
     "execution_count": 21,
     "metadata": {},
     "output_type": "execute_result"
    }
   ],
   "source": [
    "X.head()"
   ]
  },
  {
   "cell_type": "code",
   "execution_count": 22,
   "id": "2650926a",
   "metadata": {
    "execution": {
     "iopub.execute_input": "2025-05-31T05:55:52.391708Z",
     "iopub.status.busy": "2025-05-31T05:55:52.391476Z",
     "iopub.status.idle": "2025-05-31T05:55:52.397163Z",
     "shell.execute_reply": "2025-05-31T05:55:52.396627Z"
    },
    "papermill": {
     "duration": 0.012279,
     "end_time": "2025-05-31T05:55:52.398185",
     "exception": false,
     "start_time": "2025-05-31T05:55:52.385906",
     "status": "completed"
    },
    "tags": []
   },
   "outputs": [
    {
     "data": {
      "text/plain": [
       "Index(['Sex', 'Age', 'Height', 'Duration', 'Heart_Rate', 'Body_Temp',\n",
       "       'Age+Height', 'Age-Height', 'Height/Age', 'Age*Duration',\n",
       "       'Age+Duration', 'Age-Duration', 'Age/Duration', 'Duration/Age',\n",
       "       'Heart_Rate/Age', 'Height-Weight', 'Height+Duration', 'Height-Duration',\n",
       "       'Height/Duration', 'Height*Heart_Rate', 'Height/Heart_Rate',\n",
       "       'Duration-Heart_Rate', 'MET_Calories_Rate', 'Exercise_Intensity_Index',\n",
       "       'BMI', 'cube_Duration', 'CB_Proxy', 'HR_DurBin_0_10', 'BT_DurBin_0_10',\n",
       "       'HR_DurBin_10_20', 'BT_DurBin_10_20', 'HR_DurBin_20_30',\n",
       "       'BT_DurBin_20_30'],\n",
       "      dtype='object')"
      ]
     },
     "execution_count": 22,
     "metadata": {},
     "output_type": "execute_result"
    }
   ],
   "source": [
    "X.columns"
   ]
  },
  {
   "cell_type": "code",
   "execution_count": 23,
   "id": "c03a60a4",
   "metadata": {
    "execution": {
     "iopub.execute_input": "2025-05-31T05:55:52.409263Z",
     "iopub.status.busy": "2025-05-31T05:55:52.408883Z",
     "iopub.status.idle": "2025-05-31T05:58:11.924047Z",
     "shell.execute_reply": "2025-05-31T05:58:11.923126Z"
    },
    "papermill": {
     "duration": 139.521991,
     "end_time": "2025-05-31T05:58:11.925327",
     "exception": false,
     "start_time": "2025-05-31T05:55:52.403336",
     "status": "completed"
    },
    "tags": []
   },
   "outputs": [
    {
     "name": "stdout",
     "output_type": "stream",
     "text": [
      "Fold 1 RMSE: 0.058828\n",
      "Fold 2 RMSE: 0.058994\n",
      "Fold 3 RMSE: 0.059713\n",
      "Fold 4 RMSE: 0.059864\n",
      "Fold 5 RMSE: 0.058828\n",
      "\n",
      "Overall OOF RMSLE: 0.059247\n"
     ]
    }
   ],
   "source": [
    "from sklearn.model_selection import KFold\n",
    "from cuml.metrics import mean_squared_log_error\n",
    "from xgboost import XGBRegressor\n",
    "\n",
    "n_folds = 5\n",
    "kf = KFold(n_splits=n_folds, shuffle=True, random_state=100)\n",
    "\n",
    "oof_xgb = np.zeros(len(y))\n",
    "test_xgb = np.zeros(len(X_test))\n",
    "\n",
    "params = {\n",
    "    'n_estimators': 3000, \n",
    "    'learning_rate': 0.012429613949090264, \n",
    "    'max_depth': 10, \n",
    "    'min_child_weight': 7, \n",
    "    'alpha': 0.031799792818970524, \n",
    "    'reg_lambda': 0.3580931274078332, \n",
    "    'subsample': 0.8416119186946701, \n",
    "    'colsample_bytree': 0.5066402912386329, \n",
    "    'gamma': 1.037011350094906e-08,\n",
    "    'eval_metric': 'rmse',\n",
    "    'random_state': 100,\n",
    "    'early_stopping_rounds': 100,\n",
    "    'tree_method': 'gpu_hist',\n",
    "    'objective':'reg:squarederror',\n",
    "    'enable_categorical': 'True',\n",
    "    'device':'cuda'\n",
    "}\n",
    "\n",
    "for fold, (train_index, valid_index) in enumerate(kf.split(X, y), start=1):\n",
    "        X_train, X_valid = X.iloc[train_index].copy(), X.iloc[valid_index].copy()\n",
    "        y_train, y_valid = y.iloc[train_index], y.iloc[valid_index]\n",
    "         \n",
    "        xgb = XGBRegressor(**params).fit(X_train, y_train, eval_set=[(X_valid, y_valid)], verbose=0)\n",
    "    \n",
    "        valid_pred = xgb.predict(X_valid)\n",
    "        oof_xgb[valid_index] = valid_pred\n",
    "        test_xgb += xgb.predict(X_test) / n_folds\n",
    "    \n",
    "        fold_rmsle = np.sqrt(mean_squared_log_error(np.expm1(y_valid), np.expm1(valid_pred)))\n",
    "        print(f\"Fold {fold} RMSE: {fold_rmsle:.6f}\")\n",
    "\n",
    "test_xgb = np.expm1(test_xgb)\n",
    "test_xgb = np.clip(test_xgb, 1, 314)\n",
    "\n",
    "overall_rmsle = np.sqrt(mean_squared_log_error(np.expm1(y), np.expm1(oof_xgb)))\n",
    "print(f\"\\nOverall OOF RMSLE: {overall_rmsle:.6f}\")   "
   ]
  },
  {
   "cell_type": "code",
   "execution_count": 24,
   "id": "7ed03156",
   "metadata": {
    "execution": {
     "iopub.execute_input": "2025-05-31T05:58:11.938059Z",
     "iopub.status.busy": "2025-05-31T05:58:11.937815Z",
     "iopub.status.idle": "2025-05-31T06:00:29.265526Z",
     "shell.execute_reply": "2025-05-31T06:00:29.264579Z"
    },
    "papermill": {
     "duration": 137.335436,
     "end_time": "2025-05-31T06:00:29.266845",
     "exception": false,
     "start_time": "2025-05-31T05:58:11.931409",
     "status": "completed"
    },
    "tags": []
   },
   "outputs": [
    {
     "name": "stdout",
     "output_type": "stream",
     "text": [
      "Fold 1 RMSE: 0.058681\n",
      "Fold 2 RMSE: 0.058669\n",
      "Fold 3 RMSE: 0.059601\n",
      "Fold 4 RMSE: 0.059884\n",
      "Fold 5 RMSE: 0.058880\n",
      "\n",
      "Overall OOF RMSLE: 0.059145\n"
     ]
    }
   ],
   "source": [
    "oof_xgb_2 = np.zeros(len(y))\n",
    "test_xgb_2 = np.zeros(len(X_test))\n",
    "\n",
    "params = {\n",
    "    'max_depth': 9,\n",
    "    'colsample_bytree': 0.7,\n",
    "    'subsample': 0.9,\n",
    "    'n_estimators': 3000,\n",
    "    'learning_rate': 0.01,\n",
    "    'gamma': 0.01,\n",
    "    'max_delta_step': 2,\n",
    "    'eval_metric': 'rmse',\n",
    "    'random_state': 100,\n",
    "    'early_stopping_rounds': 100,\n",
    "    'tree_method': 'gpu_hist',\n",
    "    'objective':'reg:squarederror',\n",
    "    'device':'cuda'\n",
    "    }\n",
    "\n",
    "for fold, (train_index, valid_index) in enumerate(kf.split(X, y), start=1):\n",
    "        X_train, X_valid = X.iloc[train_index].copy(), X.iloc[valid_index].copy()\n",
    "        y_train, y_valid = y.iloc[train_index], y.iloc[valid_index]\n",
    "         \n",
    "        xgb_2 = XGBRegressor(**params).fit(X_train, y_train, eval_set=[(X_valid, y_valid)], verbose=0)\n",
    "    \n",
    "        valid_pred = xgb_2.predict(X_valid)\n",
    "        oof_xgb_2[valid_index] = valid_pred\n",
    "        test_xgb_2 += xgb_2.predict(X_test) / n_folds\n",
    "    \n",
    "        fold_rmsle = np.sqrt(mean_squared_log_error(np.expm1(y_valid), np.expm1(valid_pred)))\n",
    "        print(f\"Fold {fold} RMSE: {fold_rmsle:.6f}\")\n",
    "\n",
    "test_xgb_2 = np.expm1(test_xgb_2)\n",
    "test_xgb_2 = np.clip(test_xgb_2, 1, 314)\n",
    "\n",
    "overall_rmsle = np.sqrt(mean_squared_log_error(np.expm1(y), np.expm1(oof_xgb_2)))\n",
    "print(f\"\\nOverall OOF RMSLE: {overall_rmsle:.6f}\")   "
   ]
  },
  {
   "cell_type": "code",
   "execution_count": 25,
   "id": "057701f5",
   "metadata": {
    "execution": {
     "iopub.execute_input": "2025-05-31T06:00:29.279175Z",
     "iopub.status.busy": "2025-05-31T06:00:29.278963Z",
     "iopub.status.idle": "2025-05-31T06:00:29.330501Z",
     "shell.execute_reply": "2025-05-31T06:00:29.330012Z"
    },
    "papermill": {
     "duration": 0.058577,
     "end_time": "2025-05-31T06:00:29.331437",
     "exception": false,
     "start_time": "2025-05-31T06:00:29.272860",
     "status": "completed"
    },
    "tags": []
   },
   "outputs": [],
   "source": [
    "X = train.copy()\n",
    "y = X.pop('Calories')\n",
    "y = np.log1p(y) \n",
    "X['Sex'] = X['Sex'].astype('category')\n",
    "\n",
    "X_test = test.copy()\n",
    "X_test['Sex'] = X_test['Sex'].astype('category')"
   ]
  },
  {
   "cell_type": "code",
   "execution_count": 26,
   "id": "89bc7c69",
   "metadata": {
    "execution": {
     "iopub.execute_input": "2025-05-31T06:00:29.343678Z",
     "iopub.status.busy": "2025-05-31T06:00:29.343274Z",
     "iopub.status.idle": "2025-05-31T06:00:59.192335Z",
     "shell.execute_reply": "2025-05-31T06:00:59.191529Z"
    },
    "papermill": {
     "duration": 29.856515,
     "end_time": "2025-05-31T06:00:59.193751",
     "exception": false,
     "start_time": "2025-05-31T06:00:29.337236",
     "status": "completed"
    },
    "tags": []
   },
   "outputs": [],
   "source": [
    "corr_matrix = pd.DataFrame(X).corr().abs()\n",
    "upper = corr_matrix.where(np.triu(np.ones(corr_matrix.shape), k=1).astype(bool))\n",
    "to_drop = [column for column in upper.columns if any(upper[column] > 0.95)]\n",
    "X = X.drop(columns=to_drop)\n",
    "X_test = X_test.drop(columns=to_drop)"
   ]
  },
  {
   "cell_type": "code",
   "execution_count": 27,
   "id": "a3c27d4e",
   "metadata": {
    "execution": {
     "iopub.execute_input": "2025-05-31T06:00:59.250932Z",
     "iopub.status.busy": "2025-05-31T06:00:59.250275Z",
     "iopub.status.idle": "2025-05-31T06:03:24.441369Z",
     "shell.execute_reply": "2025-05-31T06:03:24.440557Z"
    },
    "papermill": {
     "duration": 145.203391,
     "end_time": "2025-05-31T06:03:24.447153",
     "exception": false,
     "start_time": "2025-05-31T06:00:59.243762",
     "status": "completed"
    },
    "tags": []
   },
   "outputs": [
    {
     "name": "stdout",
     "output_type": "stream",
     "text": [
      "Fold 1 RMSE: 0.059895\n",
      "Fold 2 RMSE: 0.058818\n",
      "Fold 3 RMSE: 0.058974\n",
      "Fold 4 RMSE: 0.058583\n",
      "Fold 5 RMSE: 0.059299\n",
      "\n",
      "Overall OOF RMSLE: 0.059115\n"
     ]
    }
   ],
   "source": [
    "from catboost import CatBoostRegressor\n",
    "from sklearn.preprocessing import KBinsDiscretizer\n",
    "from sklearn.model_selection import StratifiedKFold\n",
    "\n",
    "bins = KBinsDiscretizer(n_bins=12, encode='ordinal', strategy='kmeans')\n",
    "duration_bins = bins.fit_transform(train[['Duration']]).astype(int).flatten()\n",
    "\n",
    "skf = StratifiedKFold(n_splits=n_folds, shuffle=True, random_state=100)\n",
    "oof_cat = np.zeros(len(y))\n",
    "test_cat = np.zeros(len(X_test))\n",
    "\n",
    "params = {\n",
    "    'iterations': 3000, \n",
    "    'learning_rate': 0.03813511357889326, \n",
    "    'depth': 9, \n",
    "    'l2_leaf_reg': 5.101121281815585, \n",
    "    'bagging_temperature': 0.6263562727371863, \n",
    "    'random_strength': 0.6489211175248135,\n",
    "    'loss_function': 'RMSE',\n",
    "    'cat_features': ['Sex'],\n",
    "    'eval_metric': 'RMSE',\n",
    "    'early_stopping_rounds': 100,\n",
    "    'verbose': 0,\n",
    "    'random_seed': 100,\n",
    "    'task_type': 'GPU'   \n",
    "}\n",
    "\n",
    "for fold, (train_index, valid_index) in enumerate(skf.split(X, duration_bins), start=1):\n",
    "        X_train, X_valid = X.iloc[train_index].copy(), X.iloc[valid_index].copy()\n",
    "        y_train, y_valid = y.iloc[train_index], y.iloc[valid_index]\n",
    "\n",
    "        cat = CatBoostRegressor(**params).fit(X_train, y_train, eval_set=[(X_valid, y_valid)], use_best_model=True)\n",
    "    \n",
    "        valid_pred = cat.predict(X_valid)\n",
    "        oof_cat[valid_index] = valid_pred\n",
    "        test_cat += cat.predict(X_test) / n_folds\n",
    "    \n",
    "        fold_rmsle = np.sqrt(mean_squared_log_error(np.expm1(y_valid), np.expm1(valid_pred)))\n",
    "        print(f\"Fold {fold} RMSE: {fold_rmsle:.6f}\")\n",
    "\n",
    "test_cat = np.expm1(test_cat)\n",
    "test_cat = np.clip(test_cat, 1, 314)\n",
    "\n",
    "overall_rmsle = np.sqrt(mean_squared_log_error(np.expm1(y), np.expm1(oof_cat)))\n",
    "print(f\"\\nOverall OOF RMSLE: {overall_rmsle:.6f}\")"
   ]
  },
  {
   "cell_type": "code",
   "execution_count": 28,
   "id": "57b275e7",
   "metadata": {
    "execution": {
     "iopub.execute_input": "2025-05-31T06:03:24.459633Z",
     "iopub.status.busy": "2025-05-31T06:03:24.459409Z",
     "iopub.status.idle": "2025-05-31T06:06:59.221196Z",
     "shell.execute_reply": "2025-05-31T06:06:59.220362Z"
    },
    "papermill": {
     "duration": 214.775427,
     "end_time": "2025-05-31T06:06:59.228448",
     "exception": false,
     "start_time": "2025-05-31T06:03:24.453021",
     "status": "completed"
    },
    "tags": []
   },
   "outputs": [
    {
     "name": "stdout",
     "output_type": "stream",
     "text": [
      "Fold 1 RMSE: 0.059004\n",
      "Fold 2 RMSE: 0.059999\n",
      "Fold 3 RMSE: 0.058765\n",
      "Fold 4 RMSE: 0.058966\n",
      "Fold 5 RMSE: 0.059089\n",
      "\n",
      "Overall OOF RMSLE: 0.059166\n"
     ]
    }
   ],
   "source": [
    "from catboost import CatBoostRegressor\n",
    "from sklearn.preprocessing import KBinsDiscretizer\n",
    "from sklearn.model_selection import StratifiedKFold\n",
    "\n",
    "bins = KBinsDiscretizer(n_bins=10, encode='ordinal', strategy='quantile')\n",
    "duration_bins = bins.fit_transform(train[['Duration']]).astype(int).flatten()\n",
    "\n",
    "skf = StratifiedKFold(n_splits=n_folds, shuffle=True, random_state=100)\n",
    "oof_cat_2 = np.zeros(len(y))\n",
    "test_cat_2 = np.zeros(len(X_test))\n",
    "\n",
    "params = {\n",
    "    'iterations': 2500, \n",
    "    'learning_rate': 0.02, \n",
    "    'depth': 10, \n",
    "    'l2_leaf_reg': 3, \n",
    "    'loss_function': 'RMSE',\n",
    "    'cat_features': ['Sex'],\n",
    "    'eval_metric': 'RMSE',\n",
    "    'early_stopping_rounds': 100,\n",
    "    'verbose': 0,\n",
    "    'random_seed': 100,\n",
    "    'task_type': 'GPU'   \n",
    "}\n",
    "\n",
    "for fold, (train_index, valid_index) in enumerate(skf.split(X, duration_bins), start=1):\n",
    "        X_train, X_valid = X.iloc[train_index].copy(), X.iloc[valid_index].copy()\n",
    "        y_train, y_valid = y.iloc[train_index], y.iloc[valid_index]\n",
    "\n",
    "        cat_2 = CatBoostRegressor(**params).fit(X_train, y_train, eval_set=[(X_valid, y_valid)], use_best_model=True)\n",
    "    \n",
    "        valid_pred = cat_2.predict(X_valid)\n",
    "        oof_cat_2[valid_index] = valid_pred\n",
    "        test_cat_2 += cat_2.predict(X_test) / n_folds\n",
    "    \n",
    "        fold_rmsle = np.sqrt(mean_squared_log_error(np.expm1(y_valid), np.expm1(valid_pred)))\n",
    "        print(f\"Fold {fold} RMSE: {fold_rmsle:.6f}\")\n",
    "\n",
    "test_cat_2 = np.expm1(test_cat_2)\n",
    "test_cat_2 = np.clip(test_cat_2, 1, 314)\n",
    "\n",
    "overall_rmsle = np.sqrt(mean_squared_log_error(np.expm1(y), np.expm1(oof_cat_2)))\n",
    "print(f\"\\nOverall OOF RMSLE: {overall_rmsle:.6f}\")"
   ]
  },
  {
   "cell_type": "code",
   "execution_count": 29,
   "id": "489de6c1",
   "metadata": {
    "execution": {
     "iopub.execute_input": "2025-05-31T06:06:59.241174Z",
     "iopub.status.busy": "2025-05-31T06:06:59.240942Z",
     "iopub.status.idle": "2025-05-31T06:06:59.452777Z",
     "shell.execute_reply": "2025-05-31T06:06:59.449899Z"
    },
    "papermill": {
     "duration": 0.225228,
     "end_time": "2025-05-31T06:06:59.459682",
     "exception": false,
     "start_time": "2025-05-31T06:06:59.234454",
     "status": "completed"
    },
    "tags": []
   },
   "outputs": [],
   "source": [
    "from sklearn.linear_model import BayesianRidge\n",
    "\n",
    "meta_train = np.column_stack((oof_xgb, oof_xgb_2, oof_cat, oof_cat_2))\n",
    "meta_test = np.column_stack((test_xgb, test_xgb_2, test_cat, test_cat_2))\n",
    "\n",
    "meta_model = BayesianRidge(n_iter=2000).fit(meta_train, y)\n",
    "\n",
    "final_preds = meta_model.predict(meta_test)"
   ]
  },
  {
   "cell_type": "code",
   "execution_count": 30,
   "id": "9f1a1ff0",
   "metadata": {
    "execution": {
     "iopub.execute_input": "2025-05-31T06:06:59.483305Z",
     "iopub.status.busy": "2025-05-31T06:06:59.482269Z",
     "iopub.status.idle": "2025-05-31T06:06:59.585080Z",
     "shell.execute_reply": "2025-05-31T06:06:59.584223Z"
    },
    "papermill": {
     "duration": 0.11514,
     "end_time": "2025-05-31T06:06:59.586238",
     "exception": false,
     "start_time": "2025-05-31T06:06:59.471098",
     "status": "completed"
    },
    "tags": []
   },
   "outputs": [
    {
     "name": "stdout",
     "output_type": "stream",
     "text": [
      "Your submission was successfully saved!\n",
      "       id    Calories\n",
      "0  750000   27.403653\n",
      "1  750001  107.915200\n",
      "2  750002   86.775778\n",
      "3  750003  125.250797\n",
      "4  750004   75.702155\n"
     ]
    }
   ],
   "source": [
    "sub = pd.read_csv('/kaggle/input/playground-series-s5e5/sample_submission.csv')\n",
    "sub['Calories'] = final_preds\n",
    "sub.to_csv('submission.csv', index=False)\n",
    "print(\"Your submission was successfully saved!\")\n",
    "print(sub.head(5))"
   ]
  }
 ],
 "metadata": {
  "kaggle": {
   "accelerator": "nvidiaTeslaT4",
   "dataSources": [
    {
     "databundleVersionId": 11893428,
     "sourceId": 91716,
     "sourceType": "competition"
    },
    {
     "datasetId": 6512323,
     "sourceId": 10522392,
     "sourceType": "datasetVersion"
    }
   ],
   "dockerImageVersionId": 31011,
   "isGpuEnabled": true,
   "isInternetEnabled": true,
   "language": "python",
   "sourceType": "notebook"
  },
  "kernelspec": {
   "display_name": "Python 3",
   "language": "python",
   "name": "python3"
  },
  "language_info": {
   "codemirror_mode": {
    "name": "ipython",
    "version": 3
   },
   "file_extension": ".py",
   "mimetype": "text/x-python",
   "name": "python",
   "nbconvert_exporter": "python",
   "pygments_lexer": "ipython3",
   "version": "3.11.11"
  },
  "papermill": {
   "default_parameters": {},
   "duration": 701.660465,
   "end_time": "2025-05-31T06:07:02.882226",
   "environment_variables": {},
   "exception": null,
   "input_path": "__notebook__.ipynb",
   "output_path": "__notebook__.ipynb",
   "parameters": {},
   "start_time": "2025-05-31T05:55:21.221761",
   "version": "2.6.0"
  }
 },
 "nbformat": 4,
 "nbformat_minor": 5
}
