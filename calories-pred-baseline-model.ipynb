{
 "cells": [
  {
   "cell_type": "code",
   "execution_count": 1,
   "id": "6091ecee",
   "metadata": {
    "execution": {
     "iopub.execute_input": "2025-05-06T14:27:20.628621Z",
     "iopub.status.busy": "2025-05-06T14:27:20.628394Z",
     "iopub.status.idle": "2025-05-06T14:27:30.996739Z",
     "shell.execute_reply": "2025-05-06T14:27:30.995990Z"
    },
    "papermill": {
     "duration": 10.375406,
     "end_time": "2025-05-06T14:27:30.997962",
     "exception": false,
     "start_time": "2025-05-06T14:27:20.622556",
     "status": "completed"
    },
    "tags": []
   },
   "outputs": [
    {
     "name": "stdout",
     "output_type": "stream",
     "text": [
      "/kaggle/input/calories-burnt-prediction/calories.csv\n",
      "/kaggle/input/playground-series-s5e5/sample_submission.csv\n",
      "/kaggle/input/playground-series-s5e5/train.csv\n",
      "/kaggle/input/playground-series-s5e5/test.csv\n"
     ]
    },
    {
     "data": {
      "text/plain": [
       "<Figure size 1200x750 with 0 Axes>"
      ]
     },
     "metadata": {},
     "output_type": "display_data"
    }
   ],
   "source": [
    "# This Python 3 environment comes with many helpful analytics libraries installed\n",
    "# It is defined by the kaggle/python Docker image: https://github.com/kaggle/docker-python\n",
    "# For example, here's several helpful packages to load\n",
    "%load_ext cudf.pandas\n",
    "import numpy as np # linear algebra\n",
    "import pandas as pd # data processing, CSV file I/O (e.g. pd.read_csv)\n",
    "import matplotlib.pyplot as plt\n",
    "import seaborn as sns\n",
    "\n",
    "# Setting Matplotlib defaults\n",
    "plt.style.use('seaborn-v0_8')\n",
    "plt.rc('figure', figsize=(8,5), dpi=150)\n",
    "plt.rc('axes', labelweight='bold', labelsize='large',\n",
    "       titleweight='bold', titlesize=15, titlepad=10)\n",
    "plt.rc('animation', html='html5')\n",
    "plt.tight_layout()\n",
    "# Input data files are available in the read-only \"../input/\" directory\n",
    "# For example, running this (by clicking run or pressing Shift+Enter) will list all files under the input directory\n",
    "\n",
    "import os\n",
    "for dirname, _, filenames in os.walk('/kaggle/input'):\n",
    "    for filename in filenames:\n",
    "        print(os.path.join(dirname, filename))\n",
    "        \n",
    "import warnings\n",
    "warnings.simplefilter('ignore')\n",
    "\n",
    "pd.set_option('display.max_columns', 500)\n",
    "\n",
    "# You can write up to 20GB to the current directory (/kaggle/working/) that gets preserved as output when you create a version using \"Save & Run All\" \n",
    "# You can also write temporary files to /kaggle/temp/, but they won't be saved outside of the current session"
   ]
  },
  {
   "cell_type": "code",
   "execution_count": 2,
   "id": "d212d3e7",
   "metadata": {
    "execution": {
     "iopub.execute_input": "2025-05-06T14:27:31.007258Z",
     "iopub.status.busy": "2025-05-06T14:27:31.006909Z",
     "iopub.status.idle": "2025-05-06T14:27:31.778179Z",
     "shell.execute_reply": "2025-05-06T14:27:31.777362Z"
    },
    "papermill": {
     "duration": 0.777133,
     "end_time": "2025-05-06T14:27:31.779598",
     "exception": false,
     "start_time": "2025-05-06T14:27:31.002465",
     "status": "completed"
    },
    "tags": []
   },
   "outputs": [],
   "source": [
    "train = pd.read_csv('/kaggle/input/playground-series-s5e5/train.csv', index_col='id')\n",
    "test = pd.read_csv('/kaggle/input/playground-series-s5e5/test.csv', index_col='id')\n",
    "org = pd.read_csv('/kaggle/input/calories-burnt-prediction/calories.csv', index_col='User_ID')\n",
    "org = org.rename(columns={'Gender': 'Sex'})"
   ]
  },
  {
   "cell_type": "code",
   "execution_count": 3,
   "id": "d87670cb",
   "metadata": {
    "execution": {
     "iopub.execute_input": "2025-05-06T14:27:31.791947Z",
     "iopub.status.busy": "2025-05-06T14:27:31.791550Z",
     "iopub.status.idle": "2025-05-06T14:27:31.831460Z",
     "shell.execute_reply": "2025-05-06T14:27:31.830957Z"
    },
    "papermill": {
     "duration": 0.046342,
     "end_time": "2025-05-06T14:27:31.832559",
     "exception": false,
     "start_time": "2025-05-06T14:27:31.786217",
     "status": "completed"
    },
    "tags": []
   },
   "outputs": [],
   "source": [
    "train = pd.concat([train, org], ignore_index=True)"
   ]
  },
  {
   "cell_type": "code",
   "execution_count": 4,
   "id": "0f64c3a7",
   "metadata": {
    "execution": {
     "iopub.execute_input": "2025-05-06T14:27:31.841319Z",
     "iopub.status.busy": "2025-05-06T14:27:31.841061Z",
     "iopub.status.idle": "2025-05-06T14:27:31.968130Z",
     "shell.execute_reply": "2025-05-06T14:27:31.967327Z"
    },
    "papermill": {
     "duration": 0.13276,
     "end_time": "2025-05-06T14:27:31.969400",
     "exception": false,
     "start_time": "2025-05-06T14:27:31.836640",
     "status": "completed"
    },
    "tags": []
   },
   "outputs": [
    {
     "name": "stdout",
     "output_type": "stream",
     "text": [
      "(762107, 8) (765000, 8)\n"
     ]
    }
   ],
   "source": [
    "strt_cols = list(test.columns)\n",
    "print(train.drop_duplicates(subset=strt_cols + ['Calories']).shape, train.shape)"
   ]
  },
  {
   "cell_type": "code",
   "execution_count": 5,
   "id": "fb224bc2",
   "metadata": {
    "execution": {
     "iopub.execute_input": "2025-05-06T14:27:31.978732Z",
     "iopub.status.busy": "2025-05-06T14:27:31.978057Z",
     "iopub.status.idle": "2025-05-06T14:27:32.127843Z",
     "shell.execute_reply": "2025-05-06T14:27:32.127102Z"
    },
    "papermill": {
     "duration": 0.15563,
     "end_time": "2025-05-06T14:27:32.129166",
     "exception": false,
     "start_time": "2025-05-06T14:27:31.973536",
     "status": "completed"
    },
    "tags": []
   },
   "outputs": [
    {
     "data": {
      "text/html": [
       "<div>\n",
       "<style scoped>\n",
       "    .dataframe tbody tr th:only-of-type {\n",
       "        vertical-align: middle;\n",
       "    }\n",
       "\n",
       "    .dataframe tbody tr th {\n",
       "        vertical-align: top;\n",
       "    }\n",
       "\n",
       "    .dataframe thead th {\n",
       "        text-align: right;\n",
       "    }\n",
       "</style>\n",
       "<table border=\"1\" class=\"dataframe\">\n",
       "  <thead>\n",
       "    <tr style=\"text-align: right;\">\n",
       "      <th></th>\n",
       "      <th>Sex</th>\n",
       "      <th>Age</th>\n",
       "      <th>Height</th>\n",
       "      <th>Weight</th>\n",
       "      <th>Duration</th>\n",
       "      <th>Heart_Rate</th>\n",
       "      <th>Body_Temp</th>\n",
       "      <th>Calories</th>\n",
       "    </tr>\n",
       "    <tr>\n",
       "      <th>User_ID</th>\n",
       "      <th></th>\n",
       "      <th></th>\n",
       "      <th></th>\n",
       "      <th></th>\n",
       "      <th></th>\n",
       "      <th></th>\n",
       "      <th></th>\n",
       "      <th></th>\n",
       "    </tr>\n",
       "  </thead>\n",
       "  <tbody>\n",
       "    <tr>\n",
       "      <th>14733363</th>\n",
       "      <td>male</td>\n",
       "      <td>68</td>\n",
       "      <td>190.0</td>\n",
       "      <td>94.0</td>\n",
       "      <td>29.0</td>\n",
       "      <td>105.0</td>\n",
       "      <td>40.8</td>\n",
       "      <td>231.0</td>\n",
       "    </tr>\n",
       "    <tr>\n",
       "      <th>14861698</th>\n",
       "      <td>female</td>\n",
       "      <td>20</td>\n",
       "      <td>166.0</td>\n",
       "      <td>60.0</td>\n",
       "      <td>14.0</td>\n",
       "      <td>94.0</td>\n",
       "      <td>40.3</td>\n",
       "      <td>66.0</td>\n",
       "    </tr>\n",
       "    <tr>\n",
       "      <th>11179863</th>\n",
       "      <td>male</td>\n",
       "      <td>69</td>\n",
       "      <td>179.0</td>\n",
       "      <td>79.0</td>\n",
       "      <td>5.0</td>\n",
       "      <td>88.0</td>\n",
       "      <td>38.7</td>\n",
       "      <td>26.0</td>\n",
       "    </tr>\n",
       "    <tr>\n",
       "      <th>16180408</th>\n",
       "      <td>female</td>\n",
       "      <td>34</td>\n",
       "      <td>179.0</td>\n",
       "      <td>71.0</td>\n",
       "      <td>13.0</td>\n",
       "      <td>100.0</td>\n",
       "      <td>40.5</td>\n",
       "      <td>71.0</td>\n",
       "    </tr>\n",
       "    <tr>\n",
       "      <th>17771927</th>\n",
       "      <td>female</td>\n",
       "      <td>27</td>\n",
       "      <td>154.0</td>\n",
       "      <td>58.0</td>\n",
       "      <td>10.0</td>\n",
       "      <td>81.0</td>\n",
       "      <td>39.8</td>\n",
       "      <td>35.0</td>\n",
       "    </tr>\n",
       "  </tbody>\n",
       "</table>\n",
       "</div>"
      ],
      "text/plain": [
       "             Sex  Age  Height  Weight  Duration  Heart_Rate  Body_Temp  \\\n",
       "User_ID                                                                  \n",
       "14733363    male   68   190.0    94.0      29.0       105.0       40.8   \n",
       "14861698  female   20   166.0    60.0      14.0        94.0       40.3   \n",
       "11179863    male   69   179.0    79.0       5.0        88.0       38.7   \n",
       "16180408  female   34   179.0    71.0      13.0       100.0       40.5   \n",
       "17771927  female   27   154.0    58.0      10.0        81.0       39.8   \n",
       "\n",
       "          Calories  \n",
       "User_ID             \n",
       "14733363     231.0  \n",
       "14861698      66.0  \n",
       "11179863      26.0  \n",
       "16180408      71.0  \n",
       "17771927      35.0  "
      ]
     },
     "execution_count": 5,
     "metadata": {},
     "output_type": "execute_result"
    }
   ],
   "source": [
    "org.head()"
   ]
  },
  {
   "cell_type": "markdown",
   "id": "c2695402",
   "metadata": {
    "papermill": {
     "duration": 0.004098,
     "end_time": "2025-05-06T14:27:32.137812",
     "exception": false,
     "start_time": "2025-05-06T14:27:32.133714",
     "status": "completed"
    },
    "tags": []
   },
   "source": [
    "# Data Understanding"
   ]
  },
  {
   "cell_type": "code",
   "execution_count": 6,
   "id": "a38b0b74",
   "metadata": {
    "execution": {
     "iopub.execute_input": "2025-05-06T14:27:32.146813Z",
     "iopub.status.busy": "2025-05-06T14:27:32.146594Z",
     "iopub.status.idle": "2025-05-06T14:27:32.150955Z",
     "shell.execute_reply": "2025-05-06T14:27:32.150242Z"
    },
    "papermill": {
     "duration": 0.009877,
     "end_time": "2025-05-06T14:27:32.151982",
     "exception": false,
     "start_time": "2025-05-06T14:27:32.142105",
     "status": "completed"
    },
    "tags": []
   },
   "outputs": [
    {
     "data": {
      "text/plain": [
       "(250000, 7)"
      ]
     },
     "execution_count": 6,
     "metadata": {},
     "output_type": "execute_result"
    }
   ],
   "source": [
    "test.shape"
   ]
  },
  {
   "cell_type": "code",
   "execution_count": 7,
   "id": "e50f88e0",
   "metadata": {
    "execution": {
     "iopub.execute_input": "2025-05-06T14:27:32.161427Z",
     "iopub.status.busy": "2025-05-06T14:27:32.161239Z",
     "iopub.status.idle": "2025-05-06T14:27:32.185680Z",
     "shell.execute_reply": "2025-05-06T14:27:32.185011Z"
    },
    "papermill": {
     "duration": 0.030459,
     "end_time": "2025-05-06T14:27:32.186659",
     "exception": false,
     "start_time": "2025-05-06T14:27:32.156200",
     "status": "completed"
    },
    "tags": []
   },
   "outputs": [
    {
     "data": {
      "text/html": [
       "<div>\n",
       "<style scoped>\n",
       "    .dataframe tbody tr th:only-of-type {\n",
       "        vertical-align: middle;\n",
       "    }\n",
       "\n",
       "    .dataframe tbody tr th {\n",
       "        vertical-align: top;\n",
       "    }\n",
       "\n",
       "    .dataframe thead th {\n",
       "        text-align: right;\n",
       "    }\n",
       "</style>\n",
       "<table border=\"1\" class=\"dataframe\">\n",
       "  <thead>\n",
       "    <tr style=\"text-align: right;\">\n",
       "      <th></th>\n",
       "      <th>Sex</th>\n",
       "      <th>Age</th>\n",
       "      <th>Height</th>\n",
       "      <th>Weight</th>\n",
       "      <th>Duration</th>\n",
       "      <th>Heart_Rate</th>\n",
       "      <th>Body_Temp</th>\n",
       "      <th>Calories</th>\n",
       "    </tr>\n",
       "  </thead>\n",
       "  <tbody>\n",
       "    <tr>\n",
       "      <th>0</th>\n",
       "      <td>male</td>\n",
       "      <td>36</td>\n",
       "      <td>189.0</td>\n",
       "      <td>82.0</td>\n",
       "      <td>26.0</td>\n",
       "      <td>101.0</td>\n",
       "      <td>41.0</td>\n",
       "      <td>150.0</td>\n",
       "    </tr>\n",
       "    <tr>\n",
       "      <th>1</th>\n",
       "      <td>female</td>\n",
       "      <td>64</td>\n",
       "      <td>163.0</td>\n",
       "      <td>60.0</td>\n",
       "      <td>8.0</td>\n",
       "      <td>85.0</td>\n",
       "      <td>39.7</td>\n",
       "      <td>34.0</td>\n",
       "    </tr>\n",
       "    <tr>\n",
       "      <th>2</th>\n",
       "      <td>female</td>\n",
       "      <td>51</td>\n",
       "      <td>161.0</td>\n",
       "      <td>64.0</td>\n",
       "      <td>7.0</td>\n",
       "      <td>84.0</td>\n",
       "      <td>39.8</td>\n",
       "      <td>29.0</td>\n",
       "    </tr>\n",
       "    <tr>\n",
       "      <th>3</th>\n",
       "      <td>male</td>\n",
       "      <td>20</td>\n",
       "      <td>192.0</td>\n",
       "      <td>90.0</td>\n",
       "      <td>25.0</td>\n",
       "      <td>105.0</td>\n",
       "      <td>40.7</td>\n",
       "      <td>140.0</td>\n",
       "    </tr>\n",
       "    <tr>\n",
       "      <th>4</th>\n",
       "      <td>female</td>\n",
       "      <td>38</td>\n",
       "      <td>166.0</td>\n",
       "      <td>61.0</td>\n",
       "      <td>25.0</td>\n",
       "      <td>102.0</td>\n",
       "      <td>40.6</td>\n",
       "      <td>146.0</td>\n",
       "    </tr>\n",
       "    <tr>\n",
       "      <th>5</th>\n",
       "      <td>female</td>\n",
       "      <td>26</td>\n",
       "      <td>156.0</td>\n",
       "      <td>56.0</td>\n",
       "      <td>19.0</td>\n",
       "      <td>100.0</td>\n",
       "      <td>40.5</td>\n",
       "      <td>103.0</td>\n",
       "    </tr>\n",
       "    <tr>\n",
       "      <th>6</th>\n",
       "      <td>female</td>\n",
       "      <td>21</td>\n",
       "      <td>172.0</td>\n",
       "      <td>73.0</td>\n",
       "      <td>3.0</td>\n",
       "      <td>81.0</td>\n",
       "      <td>38.3</td>\n",
       "      <td>9.0</td>\n",
       "    </tr>\n",
       "    <tr>\n",
       "      <th>7</th>\n",
       "      <td>male</td>\n",
       "      <td>46</td>\n",
       "      <td>188.0</td>\n",
       "      <td>94.0</td>\n",
       "      <td>23.0</td>\n",
       "      <td>100.0</td>\n",
       "      <td>40.8</td>\n",
       "      <td>145.0</td>\n",
       "    </tr>\n",
       "    <tr>\n",
       "      <th>8</th>\n",
       "      <td>female</td>\n",
       "      <td>33</td>\n",
       "      <td>166.0</td>\n",
       "      <td>63.0</td>\n",
       "      <td>25.0</td>\n",
       "      <td>107.0</td>\n",
       "      <td>40.5</td>\n",
       "      <td>161.0</td>\n",
       "    </tr>\n",
       "    <tr>\n",
       "      <th>9</th>\n",
       "      <td>male</td>\n",
       "      <td>65</td>\n",
       "      <td>185.0</td>\n",
       "      <td>88.0</td>\n",
       "      <td>23.0</td>\n",
       "      <td>104.0</td>\n",
       "      <td>41.0</td>\n",
       "      <td>185.0</td>\n",
       "    </tr>\n",
       "  </tbody>\n",
       "</table>\n",
       "</div>"
      ],
      "text/plain": [
       "      Sex  Age  Height  Weight  Duration  Heart_Rate  Body_Temp  Calories\n",
       "0    male   36   189.0    82.0      26.0       101.0       41.0     150.0\n",
       "1  female   64   163.0    60.0       8.0        85.0       39.7      34.0\n",
       "2  female   51   161.0    64.0       7.0        84.0       39.8      29.0\n",
       "3    male   20   192.0    90.0      25.0       105.0       40.7     140.0\n",
       "4  female   38   166.0    61.0      25.0       102.0       40.6     146.0\n",
       "5  female   26   156.0    56.0      19.0       100.0       40.5     103.0\n",
       "6  female   21   172.0    73.0       3.0        81.0       38.3       9.0\n",
       "7    male   46   188.0    94.0      23.0       100.0       40.8     145.0\n",
       "8  female   33   166.0    63.0      25.0       107.0       40.5     161.0\n",
       "9    male   65   185.0    88.0      23.0       104.0       41.0     185.0"
      ]
     },
     "execution_count": 7,
     "metadata": {},
     "output_type": "execute_result"
    }
   ],
   "source": [
    "train.head(10)"
   ]
  },
  {
   "cell_type": "code",
   "execution_count": 8,
   "id": "b0725de8",
   "metadata": {
    "execution": {
     "iopub.execute_input": "2025-05-06T14:27:32.195986Z",
     "iopub.status.busy": "2025-05-06T14:27:32.195787Z",
     "iopub.status.idle": "2025-05-06T14:27:33.656164Z",
     "shell.execute_reply": "2025-05-06T14:27:33.655373Z"
    },
    "papermill": {
     "duration": 1.466415,
     "end_time": "2025-05-06T14:27:33.657430",
     "exception": false,
     "start_time": "2025-05-06T14:27:32.191015",
     "status": "completed"
    },
    "tags": []
   },
   "outputs": [
    {
     "data": {
      "text/html": [
       "<div>\n",
       "<style scoped>\n",
       "    .dataframe tbody tr th:only-of-type {\n",
       "        vertical-align: middle;\n",
       "    }\n",
       "\n",
       "    .dataframe tbody tr th {\n",
       "        vertical-align: top;\n",
       "    }\n",
       "\n",
       "    .dataframe thead th {\n",
       "        text-align: right;\n",
       "    }\n",
       "</style>\n",
       "<table border=\"1\" class=\"dataframe\">\n",
       "  <thead>\n",
       "    <tr style=\"text-align: right;\">\n",
       "      <th></th>\n",
       "      <th>Age</th>\n",
       "      <th>Height</th>\n",
       "      <th>Weight</th>\n",
       "      <th>Duration</th>\n",
       "      <th>Heart_Rate</th>\n",
       "      <th>Body_Temp</th>\n",
       "      <th>Calories</th>\n",
       "    </tr>\n",
       "  </thead>\n",
       "  <tbody>\n",
       "    <tr>\n",
       "      <th>count</th>\n",
       "      <td>765000.000000</td>\n",
       "      <td>765000.000000</td>\n",
       "      <td>765000.000000</td>\n",
       "      <td>765000.000000</td>\n",
       "      <td>765000.000000</td>\n",
       "      <td>765000.000000</td>\n",
       "      <td>765000.000000</td>\n",
       "    </tr>\n",
       "    <tr>\n",
       "      <th>mean</th>\n",
       "      <td>41.447255</td>\n",
       "      <td>174.693126</td>\n",
       "      <td>75.142162</td>\n",
       "      <td>15.423163</td>\n",
       "      <td>95.484672</td>\n",
       "      <td>40.036041</td>\n",
       "      <td>88.307424</td>\n",
       "    </tr>\n",
       "    <tr>\n",
       "      <th>std</th>\n",
       "      <td>15.213677</td>\n",
       "      <td>12.854173</td>\n",
       "      <td>14.004122</td>\n",
       "      <td>8.353421</td>\n",
       "      <td>9.452476</td>\n",
       "      <td>0.779863</td>\n",
       "      <td>62.396760</td>\n",
       "    </tr>\n",
       "    <tr>\n",
       "      <th>min</th>\n",
       "      <td>20.000000</td>\n",
       "      <td>123.000000</td>\n",
       "      <td>36.000000</td>\n",
       "      <td>1.000000</td>\n",
       "      <td>67.000000</td>\n",
       "      <td>37.100000</td>\n",
       "      <td>1.000000</td>\n",
       "    </tr>\n",
       "    <tr>\n",
       "      <th>25%</th>\n",
       "      <td>28.000000</td>\n",
       "      <td>164.000000</td>\n",
       "      <td>63.000000</td>\n",
       "      <td>8.000000</td>\n",
       "      <td>88.000000</td>\n",
       "      <td>39.600000</td>\n",
       "      <td>34.000000</td>\n",
       "    </tr>\n",
       "    <tr>\n",
       "      <th>50%</th>\n",
       "      <td>40.000000</td>\n",
       "      <td>174.000000</td>\n",
       "      <td>74.000000</td>\n",
       "      <td>15.000000</td>\n",
       "      <td>95.000000</td>\n",
       "      <td>40.300000</td>\n",
       "      <td>77.000000</td>\n",
       "    </tr>\n",
       "    <tr>\n",
       "      <th>75%</th>\n",
       "      <td>52.000000</td>\n",
       "      <td>185.000000</td>\n",
       "      <td>87.000000</td>\n",
       "      <td>23.000000</td>\n",
       "      <td>103.000000</td>\n",
       "      <td>40.700000</td>\n",
       "      <td>136.000000</td>\n",
       "    </tr>\n",
       "    <tr>\n",
       "      <th>max</th>\n",
       "      <td>79.000000</td>\n",
       "      <td>222.000000</td>\n",
       "      <td>132.000000</td>\n",
       "      <td>30.000000</td>\n",
       "      <td>128.000000</td>\n",
       "      <td>41.500000</td>\n",
       "      <td>314.000000</td>\n",
       "    </tr>\n",
       "  </tbody>\n",
       "</table>\n",
       "</div>"
      ],
      "text/plain": [
       "                 Age         Height         Weight       Duration  \\\n",
       "count  765000.000000  765000.000000  765000.000000  765000.000000   \n",
       "mean       41.447255     174.693126      75.142162      15.423163   \n",
       "std        15.213677      12.854173      14.004122       8.353421   \n",
       "min        20.000000     123.000000      36.000000       1.000000   \n",
       "25%        28.000000     164.000000      63.000000       8.000000   \n",
       "50%        40.000000     174.000000      74.000000      15.000000   \n",
       "75%        52.000000     185.000000      87.000000      23.000000   \n",
       "max        79.000000     222.000000     132.000000      30.000000   \n",
       "\n",
       "          Heart_Rate      Body_Temp       Calories  \n",
       "count  765000.000000  765000.000000  765000.000000  \n",
       "mean       95.484672      40.036041      88.307424  \n",
       "std         9.452476       0.779863      62.396760  \n",
       "min        67.000000      37.100000       1.000000  \n",
       "25%        88.000000      39.600000      34.000000  \n",
       "50%        95.000000      40.300000      77.000000  \n",
       "75%       103.000000      40.700000     136.000000  \n",
       "max       128.000000      41.500000     314.000000  "
      ]
     },
     "execution_count": 8,
     "metadata": {},
     "output_type": "execute_result"
    }
   ],
   "source": [
    "train.describe()"
   ]
  },
  {
   "cell_type": "code",
   "execution_count": 9,
   "id": "d4c64eb5",
   "metadata": {
    "execution": {
     "iopub.execute_input": "2025-05-06T14:27:33.667446Z",
     "iopub.status.busy": "2025-05-06T14:27:33.667235Z",
     "iopub.status.idle": "2025-05-06T14:27:33.744868Z",
     "shell.execute_reply": "2025-05-06T14:27:33.744339Z"
    },
    "papermill": {
     "duration": 0.083605,
     "end_time": "2025-05-06T14:27:33.745845",
     "exception": false,
     "start_time": "2025-05-06T14:27:33.662240",
     "status": "completed"
    },
    "tags": []
   },
   "outputs": [
    {
     "data": {
      "text/plain": [
       "Sex           0\n",
       "Age           0\n",
       "Height        0\n",
       "Weight        0\n",
       "Duration      0\n",
       "Heart_Rate    0\n",
       "Body_Temp     0\n",
       "Calories      0\n",
       "dtype: int64"
      ]
     },
     "execution_count": 9,
     "metadata": {},
     "output_type": "execute_result"
    }
   ],
   "source": [
    "train.isnull().sum()"
   ]
  },
  {
   "cell_type": "code",
   "execution_count": 10,
   "id": "b3e2a72e",
   "metadata": {
    "execution": {
     "iopub.execute_input": "2025-05-06T14:27:33.755859Z",
     "iopub.status.busy": "2025-05-06T14:27:33.755661Z",
     "iopub.status.idle": "2025-05-06T14:27:33.766177Z",
     "shell.execute_reply": "2025-05-06T14:27:33.765430Z"
    },
    "papermill": {
     "duration": 0.016556,
     "end_time": "2025-05-06T14:27:33.767210",
     "exception": false,
     "start_time": "2025-05-06T14:27:33.750654",
     "status": "completed"
    },
    "tags": []
   },
   "outputs": [
    {
     "name": "stdout",
     "output_type": "stream",
     "text": [
      "<class 'cudf.core.dataframe.DataFrame'>\n",
      "RangeIndex: 765000 entries, 0 to 764999\n",
      "Data columns (total 8 columns):\n",
      " #   Column      Non-Null Count   Dtype\n",
      "---  ------      --------------   -----\n",
      " 0   Sex         765000 non-null  object\n",
      " 1   Age         765000 non-null  int64\n",
      " 2   Height      765000 non-null  float64\n",
      " 3   Weight      765000 non-null  float64\n",
      " 4   Duration    765000 non-null  float64\n",
      " 5   Heart_Rate  765000 non-null  float64\n",
      " 6   Body_Temp   765000 non-null  float64\n",
      " 7   Calories    765000 non-null  float64\n",
      "dtypes: float64(6), int64(1), object(1)\n",
      "memory usage: 47.4+ MB\n"
     ]
    }
   ],
   "source": [
    "train.info()"
   ]
  },
  {
   "cell_type": "markdown",
   "id": "fe6d5e09",
   "metadata": {
    "papermill": {
     "duration": 0.004578,
     "end_time": "2025-05-06T14:27:33.776335",
     "exception": false,
     "start_time": "2025-05-06T14:27:33.771757",
     "status": "completed"
    },
    "tags": []
   },
   "source": [
    "# Data Preprocessing"
   ]
  },
  {
   "cell_type": "markdown",
   "id": "0ae67234",
   "metadata": {
    "papermill": {
     "duration": 0.004292,
     "end_time": "2025-05-06T14:27:33.785209",
     "exception": false,
     "start_time": "2025-05-06T14:27:33.780917",
     "status": "completed"
    },
    "tags": []
   },
   "source": [
    "## Reducing memory usage"
   ]
  },
  {
   "cell_type": "code",
   "execution_count": 11,
   "id": "e61afcd9",
   "metadata": {
    "execution": {
     "iopub.execute_input": "2025-05-06T14:27:33.795044Z",
     "iopub.status.busy": "2025-05-06T14:27:33.794842Z",
     "iopub.status.idle": "2025-05-06T14:27:33.823277Z",
     "shell.execute_reply": "2025-05-06T14:27:33.822778Z"
    },
    "papermill": {
     "duration": 0.034487,
     "end_time": "2025-05-06T14:27:33.824311",
     "exception": false,
     "start_time": "2025-05-06T14:27:33.789824",
     "status": "completed"
    },
    "tags": []
   },
   "outputs": [],
   "source": [
    "train['Sex'] = train['Sex'].astype('category')\n",
    "test['Sex'] = test['Sex'].astype('category')"
   ]
  },
  {
   "cell_type": "code",
   "execution_count": 12,
   "id": "fc2bee5c",
   "metadata": {
    "execution": {
     "iopub.execute_input": "2025-05-06T14:27:33.833901Z",
     "iopub.status.busy": "2025-05-06T14:27:33.833705Z",
     "iopub.status.idle": "2025-05-06T14:27:33.838624Z",
     "shell.execute_reply": "2025-05-06T14:27:33.838130Z"
    },
    "papermill": {
     "duration": 0.010907,
     "end_time": "2025-05-06T14:27:33.839674",
     "exception": false,
     "start_time": "2025-05-06T14:27:33.828767",
     "status": "completed"
    },
    "tags": []
   },
   "outputs": [],
   "source": [
    "train['Age'] = train['Age'].astype('int8')\n",
    "test['Age'] = test['Age'].astype('int8')"
   ]
  },
  {
   "cell_type": "code",
   "execution_count": 13,
   "id": "ac76ddca",
   "metadata": {
    "execution": {
     "iopub.execute_input": "2025-05-06T14:27:33.849909Z",
     "iopub.status.busy": "2025-05-06T14:27:33.849714Z",
     "iopub.status.idle": "2025-05-06T14:27:34.305306Z",
     "shell.execute_reply": "2025-05-06T14:27:34.304742Z"
    },
    "papermill": {
     "duration": 0.462387,
     "end_time": "2025-05-06T14:27:34.306665",
     "exception": false,
     "start_time": "2025-05-06T14:27:33.844278",
     "status": "completed"
    },
    "tags": []
   },
   "outputs": [],
   "source": [
    "num_cols = test.select_dtypes(include='float64').columns\n",
    "for col in num_cols:\n",
    "    train[num_cols] = train[num_cols].astype('float32')\n",
    "    test[num_cols] = test[num_cols].astype('float32')"
   ]
  },
  {
   "cell_type": "code",
   "execution_count": 14,
   "id": "b2120d6c",
   "metadata": {
    "execution": {
     "iopub.execute_input": "2025-05-06T14:27:34.317574Z",
     "iopub.status.busy": "2025-05-06T14:27:34.316961Z",
     "iopub.status.idle": "2025-05-06T14:27:34.335530Z",
     "shell.execute_reply": "2025-05-06T14:27:34.334722Z"
    },
    "papermill": {
     "duration": 0.024955,
     "end_time": "2025-05-06T14:27:34.336561",
     "exception": false,
     "start_time": "2025-05-06T14:27:34.311606",
     "status": "completed"
    },
    "tags": []
   },
   "outputs": [
    {
     "name": "stdout",
     "output_type": "stream",
     "text": [
      "<class 'cudf.core.dataframe.DataFrame'>\n",
      "RangeIndex: 765000 entries, 0 to 764999\n",
      "Data columns (total 8 columns):\n",
      " #   Column      Non-Null Count   Dtype\n",
      "---  ------      --------------   -----\n",
      " 0   Sex         765000 non-null  category\n",
      " 1   Age         765000 non-null  int8\n",
      " 2   Height      765000 non-null  float32\n",
      " 3   Weight      765000 non-null  float32\n",
      " 4   Duration    765000 non-null  float32\n",
      " 5   Heart_Rate  765000 non-null  float32\n",
      " 6   Body_Temp   765000 non-null  float32\n",
      " 7   Calories    765000 non-null  float64\n",
      "dtypes: category(1), float32(5), float64(1), int8(1)\n",
      "memory usage: 21.9 MB\n"
     ]
    }
   ],
   "source": [
    "train.info()"
   ]
  },
  {
   "cell_type": "markdown",
   "id": "d105a941",
   "metadata": {
    "papermill": {
     "duration": 0.004479,
     "end_time": "2025-05-06T14:27:34.345711",
     "exception": false,
     "start_time": "2025-05-06T14:27:34.341232",
     "status": "completed"
    },
    "tags": []
   },
   "source": [
    "# Feature Understanding via Data Visualization"
   ]
  },
  {
   "cell_type": "code",
   "execution_count": 15,
   "id": "75c2b3b5",
   "metadata": {
    "execution": {
     "iopub.execute_input": "2025-05-06T14:27:34.355579Z",
     "iopub.status.busy": "2025-05-06T14:27:34.355217Z",
     "iopub.status.idle": "2025-05-06T14:27:42.177213Z",
     "shell.execute_reply": "2025-05-06T14:27:42.176511Z"
    },
    "papermill": {
     "duration": 7.828226,
     "end_time": "2025-05-06T14:27:42.178445",
     "exception": false,
     "start_time": "2025-05-06T14:27:34.350219",
     "status": "completed"
    },
    "tags": []
   },
   "outputs": [
    {
     "data": {
      "text/plain": [
       "Text(0.5, 1.0, 'Calories Distribution')"
      ]
     },
     "execution_count": 15,
     "metadata": {},
     "output_type": "execute_result"
    },
    {
     "data": {
      "image/png": "[encoded data removed]",
      "text/plain": [
       "<Figure size 1200x750 with 1 Axes>"
      ]
     },
     "metadata": {},
     "output_type": "display_data"
    }
   ],
   "source": [
    "sns.histplot(x='Calories', bins=50, data=train, kde=True)\n",
    "plt.title(\"Calories Distribution\")"
   ]
  },
  {
   "cell_type": "code",
   "execution_count": 16,
   "id": "ea8e3380",
   "metadata": {
    "execution": {
     "iopub.execute_input": "2025-05-06T14:27:42.190497Z",
     "iopub.status.busy": "2025-05-06T14:27:42.190284Z",
     "iopub.status.idle": "2025-05-06T14:27:46.214632Z",
     "shell.execute_reply": "2025-05-06T14:27:46.213924Z"
    },
    "papermill": {
     "duration": 4.031588,
     "end_time": "2025-05-06T14:27:46.215863",
     "exception": false,
     "start_time": "2025-05-06T14:27:42.184275",
     "status": "completed"
    },
    "tags": []
   },
   "outputs": [
    {
     "data": {
      "image/png": "[encoded data removed]",
      "text/plain": [
       "<Figure size 1500x750 with 1 Axes>"
      ]
     },
     "metadata": {},
     "output_type": "display_data"
    }
   ],
   "source": [
    "plt.figure(figsize=(10, 5))\n",
    "sns.histplot(np.log1p(train[\"Calories\"]), bins=50, kde=True)\n",
    "plt.title(\"Log1p Calories Distribution\")\n",
    "plt.show()"
   ]
  },
  {
   "cell_type": "code",
   "execution_count": 17,
   "id": "8386f4d3",
   "metadata": {
    "execution": {
     "iopub.execute_input": "2025-05-06T14:27:46.230214Z",
     "iopub.status.busy": "2025-05-06T14:27:46.229981Z",
     "iopub.status.idle": "2025-05-06T14:27:50.156236Z",
     "shell.execute_reply": "2025-05-06T14:27:50.155482Z"
    },
    "papermill": {
     "duration": 3.93493,
     "end_time": "2025-05-06T14:27:50.157830",
     "exception": false,
     "start_time": "2025-05-06T14:27:46.222900",
     "status": "completed"
    },
    "tags": []
   },
   "outputs": [
    {
     "data": {
      "image/png": "[encoded data removed]",
      "text/plain": [
       "<Figure size 1500x750 with 1 Axes>"
      ]
     },
     "metadata": {},
     "output_type": "display_data"
    }
   ],
   "source": [
    "plt.figure(figsize=(10, 5))\n",
    "sns.histplot(np.sqrt(train[\"Calories\"]), bins=50, kde=True)\n",
    "plt.title(\"Sqrt Calories Distribution\")\n",
    "plt.show()"
   ]
  },
  {
   "cell_type": "code",
   "execution_count": 18,
   "id": "cfb83e42",
   "metadata": {
    "execution": {
     "iopub.execute_input": "2025-05-06T14:27:50.173999Z",
     "iopub.status.busy": "2025-05-06T14:27:50.173781Z",
     "iopub.status.idle": "2025-05-06T14:27:50.510674Z",
     "shell.execute_reply": "2025-05-06T14:27:50.509939Z"
    },
    "papermill": {
     "duration": 0.346379,
     "end_time": "2025-05-06T14:27:50.512017",
     "exception": false,
     "start_time": "2025-05-06T14:27:50.165638",
     "status": "completed"
    },
    "tags": []
   },
   "outputs": [],
   "source": [
    "from sklearn.preprocessing import LabelEncoder\n",
    "\n",
    "le = LabelEncoder()\n",
    "train['Sex'] = le.fit_transform(train['Sex']).astype('int8')\n",
    "test['Sex'] = le.transform(test['Sex']).astype('int8')"
   ]
  },
  {
   "cell_type": "code",
   "execution_count": 19,
   "id": "736a9d26",
   "metadata": {
    "execution": {
     "iopub.execute_input": "2025-05-06T14:27:50.528201Z",
     "iopub.status.busy": "2025-05-06T14:27:50.527968Z",
     "iopub.status.idle": "2025-05-06T14:27:51.278039Z",
     "shell.execute_reply": "2025-05-06T14:27:51.277451Z"
    },
    "papermill": {
     "duration": 0.759781,
     "end_time": "2025-05-06T14:27:51.279481",
     "exception": false,
     "start_time": "2025-05-06T14:27:50.519700",
     "status": "completed"
    },
    "tags": []
   },
   "outputs": [],
   "source": [
    "from sklearn.preprocessing import KBinsDiscretizer\n",
    "\n",
    "kmeans = KBinsDiscretizer(n_bins=4, encode='ordinal', strategy='kmeans')\n",
    "train['age_bins'] = kmeans.fit_transform(train[['Age']])\n",
    "test['age_bins'] = kmeans.transform(test[['Age']])"
   ]
  },
  {
   "cell_type": "code",
   "execution_count": 20,
   "id": "c4d46bb6",
   "metadata": {
    "execution": {
     "iopub.execute_input": "2025-05-06T14:27:51.297795Z",
     "iopub.status.busy": "2025-05-06T14:27:51.297576Z",
     "iopub.status.idle": "2025-05-06T14:27:51.353128Z",
     "shell.execute_reply": "2025-05-06T14:27:51.352587Z"
    },
    "papermill": {
     "duration": 0.065282,
     "end_time": "2025-05-06T14:27:51.354342",
     "exception": false,
     "start_time": "2025-05-06T14:27:51.289060",
     "status": "completed"
    },
    "tags": []
   },
   "outputs": [],
   "source": [
    "train['BMI'] = train['Weight'] / ((train['Height']/100) ** 2)\n",
    "test['BMI'] = test['Weight'] / ((test['Height']/100) ** 2)"
   ]
  },
  {
   "cell_type": "code",
   "execution_count": 21,
   "id": "dfc0d539",
   "metadata": {
    "execution": {
     "iopub.execute_input": "2025-05-06T14:27:51.371227Z",
     "iopub.status.busy": "2025-05-06T14:27:51.370985Z",
     "iopub.status.idle": "2025-05-06T14:27:51.374079Z",
     "shell.execute_reply": "2025-05-06T14:27:51.373601Z"
    },
    "papermill": {
     "duration": 0.012658,
     "end_time": "2025-05-06T14:27:51.375192",
     "exception": false,
     "start_time": "2025-05-06T14:27:51.362534",
     "status": "completed"
    },
    "tags": []
   },
   "outputs": [],
   "source": [
    "features = ['Age', 'Height', 'Weight', 'Duration', 'Heart_Rate', 'Body_Temp', 'BMI']"
   ]
  },
  {
   "cell_type": "code",
   "execution_count": 22,
   "id": "d714e268",
   "metadata": {
    "execution": {
     "iopub.execute_input": "2025-05-06T14:27:51.391006Z",
     "iopub.status.busy": "2025-05-06T14:27:51.390792Z",
     "iopub.status.idle": "2025-05-06T14:27:51.394603Z",
     "shell.execute_reply": "2025-05-06T14:27:51.393898Z"
    },
    "papermill": {
     "duration": 0.012767,
     "end_time": "2025-05-06T14:27:51.395713",
     "exception": false,
     "start_time": "2025-05-06T14:27:51.382946",
     "status": "completed"
    },
    "tags": []
   },
   "outputs": [],
   "source": [
    "def add_features(df):\n",
    "    for i, c1 in enumerate(features):\n",
    "        for c2 in (features[i+1:]):\n",
    "            m = f'{c1}*{c2}'\n",
    "            df[m] = df[c1] * df[c2]\n",
    "    return df"
   ]
  },
  {
   "cell_type": "code",
   "execution_count": 23,
   "id": "c8b798ac",
   "metadata": {
    "execution": {
     "iopub.execute_input": "2025-05-06T14:27:51.410974Z",
     "iopub.status.busy": "2025-05-06T14:27:51.410777Z",
     "iopub.status.idle": "2025-05-06T14:27:51.414763Z",
     "shell.execute_reply": "2025-05-06T14:27:51.414142Z"
    },
    "papermill": {
     "duration": 0.012605,
     "end_time": "2025-05-06T14:27:51.415765",
     "exception": false,
     "start_time": "2025-05-06T14:27:51.403160",
     "status": "completed"
    },
    "tags": []
   },
   "outputs": [],
   "source": [
    "def feature_transform(df):\n",
    "    df['duration_expo'] = df['Duration'] ** 2\n",
    "    df['duration_log'] = np.log1p(df['Duration'])\n",
    "\n",
    "    df['heart_expo'] = df['Heart_Rate'] ** 2\n",
    "    df['heart_log'] = np.log1p(df['Heart_Rate'])\n",
    "    \n",
    "    df['body_expo'] = df['Body_Temp'] ** 2\n",
    "    df['body_log'] = np.log1p(df['Body_Temp'] ** 2)\n",
    "    \n",
    "    return df"
   ]
  },
  {
   "cell_type": "code",
   "execution_count": 24,
   "id": "ce569ce5",
   "metadata": {
    "execution": {
     "iopub.execute_input": "2025-05-06T14:27:51.431125Z",
     "iopub.status.busy": "2025-05-06T14:27:51.430896Z",
     "iopub.status.idle": "2025-05-06T14:27:51.439774Z",
     "shell.execute_reply": "2025-05-06T14:27:51.439299Z"
    },
    "papermill": {
     "duration": 0.017775,
     "end_time": "2025-05-06T14:27:51.440800",
     "exception": false,
     "start_time": "2025-05-06T14:27:51.423025",
     "status": "completed"
    },
    "tags": []
   },
   "outputs": [],
   "source": [
    "X = train.copy()\n",
    "y = X.pop('Calories')\n",
    "y = np.log1p(y)\n",
    "\n",
    "#X = add_features(X)\n",
    "#X = feature_transform(X)\n",
    "\n",
    "X_test = test.copy()\n",
    "#X_test = add_features(X_test)\n",
    "#X_test = feature_transform(X_test)"
   ]
  },
  {
   "cell_type": "code",
   "execution_count": 25,
   "id": "ea44bd14",
   "metadata": {
    "execution": {
     "iopub.execute_input": "2025-05-06T14:27:51.455866Z",
     "iopub.status.busy": "2025-05-06T14:27:51.455687Z",
     "iopub.status.idle": "2025-05-06T14:29:11.277489Z",
     "shell.execute_reply": "2025-05-06T14:29:11.276621Z"
    },
    "papermill": {
     "duration": 79.830802,
     "end_time": "2025-05-06T14:29:11.278764",
     "exception": false,
     "start_time": "2025-05-06T14:27:51.447962",
     "status": "completed"
    },
    "tags": []
   },
   "outputs": [
    {
     "name": "stdout",
     "output_type": "stream",
     "text": [
      "Fold 1 RMSE: 0.058739\n",
      "Fold 2 RMSE: 0.059058\n",
      "Fold 3 RMSE: 0.059881\n",
      "Fold 4 RMSE: 0.059844\n",
      "Fold 5 RMSE: 0.059134\n",
      "\n",
      "Overall OOF RMSLE: 0.059333\n"
     ]
    }
   ],
   "source": [
    "from sklearn.model_selection import KFold\n",
    "from sklearn.metrics import mean_squared_log_error\n",
    "from xgboost import XGBRegressor\n",
    "\n",
    "n_folds = 5\n",
    "kf = KFold(n_splits=n_folds, shuffle=True, random_state=100)\n",
    "\n",
    "oof_xgb = np.zeros(len(y))\n",
    "test_xgb = np.zeros(len(X_test))\n",
    "\n",
    "stats = ['mean', 'median', 'max', 'min', 'std', 'skew', 'nunique']\n",
    "\n",
    "for fold, (train_index, valid_index) in enumerate(kf.split(X, y), start=1):\n",
    "        X_train, X_valid = X.iloc[train_index].copy(), X.iloc[valid_index].copy()\n",
    "        y_train, y_valid = y.iloc[train_index], y.iloc[valid_index]\n",
    "\n",
    "        train_with_target = X_train.copy()\n",
    "        train_with_target['Calories'] = y_train\n",
    "        col = 'Duration'\n",
    "    \n",
    "        grouped_stats = train_with_target.groupby(col)['Calories'].agg(stats).reset_index().fillna(0.0)\n",
    "        grouped_stats.columns = [col] + [f'TE1_WC_{stat}' for stat in stats]\n",
    "    \n",
    "        X_train = X_train.merge(grouped_stats, on=col, how='left').astype('float32')    \n",
    "        X_valid = X_valid.merge(grouped_stats, on=col, how='left').astype('float32').fillna(0.0)\n",
    "        \n",
    "        X_test_fold = X_test.merge(grouped_stats, on=col, how='left').astype('float32').fillna(0.0)\n",
    "        \n",
    "        xgb = XGBRegressor(\n",
    "            n_estimators=5000, \n",
    "            learning_rate=0.011297595542919868, \n",
    "            max_depth=8, \n",
    "            min_child_weight=10, \n",
    "            alpha=1.258508912794635, \n",
    "            reg_lambda=0.1743784996539347, \n",
    "            subsample=0.975503705730948, \n",
    "            colsample_bytree=0.501899569585645, \n",
    "            gamma=0.013828381261542193,\n",
    "            early_stopping_rounds=50,\n",
    "            tree_method='gpu_hist',\n",
    "            device='cuda',\n",
    "            seed= 100,\n",
    "            objective='reg:squarederror', \n",
    "            eval_metric='rmse',\n",
    "        ).fit(X_train, y_train, eval_set=[(X_valid, y_valid)], verbose=0)\n",
    "    \n",
    "        valid_pred = xgb.predict(X_valid)\n",
    "        oof_xgb[valid_index] = valid_pred\n",
    "        test_xgb += xgb.predict(X_test_fold) / n_folds\n",
    "    \n",
    "        fold_rmsle = np.sqrt(mean_squared_log_error(np.expm1(y_valid), np.expm1(valid_pred)))\n",
    "        print(f\"Fold {fold} RMSE: {fold_rmsle:.6f}\")\n",
    "\n",
    "test_xgb = np.expm1(test_xgb)\n",
    "test_xgb = np.clip(test_xgb, 1, 314)\n",
    "overall_rmsle = np.sqrt(mean_squared_log_error(np.expm1(y), np.expm1(oof_xgb)))\n",
    "print(f\"\\nOverall OOF RMSLE: {overall_rmsle:.6f}\")   "
   ]
  },
  {
   "cell_type": "code",
   "execution_count": 26,
   "id": "de57af74",
   "metadata": {
    "execution": {
     "iopub.execute_input": "2025-05-06T14:29:11.295633Z",
     "iopub.status.busy": "2025-05-06T14:29:11.295219Z",
     "iopub.status.idle": "2025-05-06T14:29:11.391397Z",
     "shell.execute_reply": "2025-05-06T14:29:11.390607Z"
    },
    "papermill": {
     "duration": 0.105699,
     "end_time": "2025-05-06T14:29:11.392510",
     "exception": false,
     "start_time": "2025-05-06T14:29:11.286811",
     "status": "completed"
    },
    "tags": []
   },
   "outputs": [
    {
     "name": "stdout",
     "output_type": "stream",
     "text": [
      "Your submission was successfully saved!\n",
      "       id    Calories\n",
      "0  750000   27.554247\n",
      "1  750001  107.838024\n",
      "2  750002   87.516638\n",
      "3  750003  125.872066\n",
      "4  750004   75.864270\n"
     ]
    }
   ],
   "source": [
    "sub = pd.read_csv('/kaggle/input/playground-series-s5e5/sample_submission.csv')\n",
    "sub['Calories'] = test_xgb\n",
    "sub.to_csv('submission.csv', index=False)\n",
    "print(\"Your submission was successfully saved!\")\n",
    "print(sub.head(5))"
   ]
  }
 ],
 "metadata": {
  "kaggle": {
   "accelerator": "nvidiaTeslaT4",
   "dataSources": [
    {
     "databundleVersionId": 11893428,
     "sourceId": 91716,
     "sourceType": "competition"
    },
    {
     "datasetId": 6512323,
     "sourceId": 10522392,
     "sourceType": "datasetVersion"
    }
   ],
   "dockerImageVersionId": 31012,
   "isGpuEnabled": true,
   "isInternetEnabled": true,
   "language": "python",
   "sourceType": "notebook"
  },
  "kernelspec": {
   "display_name": "Python 3",
   "language": "python",
   "name": "python3"
  },
  "language_info": {
   "codemirror_mode": {
    "name": "ipython",
    "version": 3
   },
   "file_extension": ".py",
   "mimetype": "text/x-python",
   "name": "python",
   "nbconvert_exporter": "python",
   "pygments_lexer": "ipython3",
   "version": "3.11.11"
  },
  "papermill": {
   "default_parameters": {},
   "duration": 116.336751,
   "end_time": "2025-05-06T14:29:12.621043",
   "environment_variables": {},
   "exception": null,
   "input_path": "__notebook__.ipynb",
   "output_path": "__notebook__.ipynb",
   "parameters": {},
   "start_time": "2025-05-06T14:27:16.284292",
   "version": "2.6.0"
  }
 },
 "nbformat": 4,
 "nbformat_minor": 5
}
