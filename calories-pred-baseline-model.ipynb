{
 "cells": [
  {
   "cell_type": "code",
   "execution_count": 1,
   "id": "a025d583",
   "metadata": {
    "execution": {
     "iopub.execute_input": "2025-05-12T14:46:24.301151Z",
     "iopub.status.busy": "2025-05-12T14:46:24.300940Z",
     "iopub.status.idle": "2025-05-12T14:46:38.724191Z",
     "shell.execute_reply": "2025-05-12T14:46:38.723479Z"
    },
    "papermill": {
     "duration": 14.429861,
     "end_time": "2025-05-12T14:46:38.725478",
     "exception": false,
     "start_time": "2025-05-12T14:46:24.295617",
     "status": "completed"
    },
    "tags": []
   },
   "outputs": [
    {
     "name": "stdout",
     "output_type": "stream",
     "text": [
      "/kaggle/input/playground-series-s5e5/sample_submission.csv\n",
      "/kaggle/input/playground-series-s5e5/train.csv\n",
      "/kaggle/input/playground-series-s5e5/test.csv\n",
      "/kaggle/input/calories-burnt-prediction/calories.csv\n"
     ]
    },
    {
     "data": {
      "text/plain": [
       "<Figure size 1200x750 with 0 Axes>"
      ]
     },
     "metadata": {},
     "output_type": "display_data"
    }
   ],
   "source": [
    "# This Python 3 environment comes with many helpful analytics libraries installed\n",
    "# It is defined by the kaggle/python Docker image: https://github.com/kaggle/docker-python\n",
    "# For example, here's several helpful packages to load\n",
    "%load_ext cudf.pandas\n",
    "import numpy as np # linear algebra\n",
    "import pandas as pd # data processing, CSV file I/O (e.g. pd.read_csv)\n",
    "import matplotlib.pyplot as plt\n",
    "import seaborn as sns\n",
    "import joblib\n",
    "import cuml\n",
    "\n",
    "# Setting Matplotlib defaults\n",
    "plt.style.use('seaborn-v0_8')\n",
    "plt.rc('figure', figsize=(8,5), dpi=150)\n",
    "plt.rc('axes', labelweight='bold', labelsize='large',\n",
    "       titleweight='bold', titlesize=15, titlepad=10)\n",
    "plt.rc('animation', html='html5')\n",
    "plt.tight_layout()\n",
    "# Input data files are available in the read-only \"../input/\" directory\n",
    "# For example, running this (by clicking run or pressing Shift+Enter) will list all files under the input directory\n",
    "\n",
    "import os\n",
    "for dirname, _, filenames in os.walk('/kaggle/input'):\n",
    "    for filename in filenames:\n",
    "        print(os.path.join(dirname, filename))\n",
    "        \n",
    "import warnings\n",
    "warnings.simplefilter('ignore')\n",
    "\n",
    "pd.set_option('display.max_columns', 500)\n",
    "\n",
    "# You can write up to 20GB to the current directory (/kaggle/working/) that gets preserved as output when you create a version using \"Save & Run All\" \n",
    "# You can also write temporary files to /kaggle/temp/, but they won't be saved outside of the current session"
   ]
  },
  {
   "cell_type": "code",
   "execution_count": 2,
   "id": "65504aad",
   "metadata": {
    "execution": {
     "iopub.execute_input": "2025-05-12T14:46:38.735550Z",
     "iopub.status.busy": "2025-05-12T14:46:38.735069Z",
     "iopub.status.idle": "2025-05-12T14:46:39.209823Z",
     "shell.execute_reply": "2025-05-12T14:46:39.209057Z"
    },
    "papermill": {
     "duration": 0.481039,
     "end_time": "2025-05-12T14:46:39.211192",
     "exception": false,
     "start_time": "2025-05-12T14:46:38.730153",
     "status": "completed"
    },
    "tags": []
   },
   "outputs": [],
   "source": [
    "train = pd.read_csv('/kaggle/input/playground-series-s5e5/train.csv', index_col='id')\n",
    "test = pd.read_csv('/kaggle/input/playground-series-s5e5/test.csv', index_col='id')\n",
    "org = pd.read_csv('/kaggle/input/calories-burnt-prediction/calories.csv', index_col='User_ID')\n",
    "org = org.rename(columns={'Gender': 'Sex'})"
   ]
  },
  {
   "cell_type": "code",
   "execution_count": 3,
   "id": "14cbf384",
   "metadata": {
    "execution": {
     "iopub.execute_input": "2025-05-12T14:46:39.220907Z",
     "iopub.status.busy": "2025-05-12T14:46:39.220214Z",
     "iopub.status.idle": "2025-05-12T14:46:39.253461Z",
     "shell.execute_reply": "2025-05-12T14:46:39.252759Z"
    },
    "papermill": {
     "duration": 0.038928,
     "end_time": "2025-05-12T14:46:39.254508",
     "exception": false,
     "start_time": "2025-05-12T14:46:39.215580",
     "status": "completed"
    },
    "tags": []
   },
   "outputs": [],
   "source": [
    "train = pd.concat([train, org], ignore_index=True)"
   ]
  },
  {
   "cell_type": "code",
   "execution_count": 4,
   "id": "caf6c039",
   "metadata": {
    "execution": {
     "iopub.execute_input": "2025-05-12T14:46:39.262945Z",
     "iopub.status.busy": "2025-05-12T14:46:39.262741Z",
     "iopub.status.idle": "2025-05-12T14:46:39.372208Z",
     "shell.execute_reply": "2025-05-12T14:46:39.371413Z"
    },
    "papermill": {
     "duration": 0.11493,
     "end_time": "2025-05-12T14:46:39.373396",
     "exception": false,
     "start_time": "2025-05-12T14:46:39.258466",
     "status": "completed"
    },
    "tags": []
   },
   "outputs": [
    {
     "name": "stdout",
     "output_type": "stream",
     "text": [
      "(762107, 8) (765000, 8)\n"
     ]
    }
   ],
   "source": [
    "strt_cols = list(test.columns)\n",
    "print(train.drop_duplicates(subset=strt_cols + ['Calories']).shape, train.shape)"
   ]
  },
  {
   "cell_type": "code",
   "execution_count": 5,
   "id": "05c9d52a",
   "metadata": {
    "execution": {
     "iopub.execute_input": "2025-05-12T14:46:39.382634Z",
     "iopub.status.busy": "2025-05-12T14:46:39.382098Z",
     "iopub.status.idle": "2025-05-12T14:46:39.414739Z",
     "shell.execute_reply": "2025-05-12T14:46:39.414144Z"
    },
    "papermill": {
     "duration": 0.038162,
     "end_time": "2025-05-12T14:46:39.415773",
     "exception": false,
     "start_time": "2025-05-12T14:46:39.377611",
     "status": "completed"
    },
    "tags": []
   },
   "outputs": [
    {
     "data": {
      "text/html": [
       "<div>\n",
       "<style scoped>\n",
       "    .dataframe tbody tr th:only-of-type {\n",
       "        vertical-align: middle;\n",
       "    }\n",
       "\n",
       "    .dataframe tbody tr th {\n",
       "        vertical-align: top;\n",
       "    }\n",
       "\n",
       "    .dataframe thead th {\n",
       "        text-align: right;\n",
       "    }\n",
       "</style>\n",
       "<table border=\"1\" class=\"dataframe\">\n",
       "  <thead>\n",
       "    <tr style=\"text-align: right;\">\n",
       "      <th></th>\n",
       "      <th>Sex</th>\n",
       "      <th>Age</th>\n",
       "      <th>Height</th>\n",
       "      <th>Weight</th>\n",
       "      <th>Duration</th>\n",
       "      <th>Heart_Rate</th>\n",
       "      <th>Body_Temp</th>\n",
       "      <th>Calories</th>\n",
       "    </tr>\n",
       "    <tr>\n",
       "      <th>User_ID</th>\n",
       "      <th></th>\n",
       "      <th></th>\n",
       "      <th></th>\n",
       "      <th></th>\n",
       "      <th></th>\n",
       "      <th></th>\n",
       "      <th></th>\n",
       "      <th></th>\n",
       "    </tr>\n",
       "  </thead>\n",
       "  <tbody>\n",
       "    <tr>\n",
       "      <th>14733363</th>\n",
       "      <td>male</td>\n",
       "      <td>68</td>\n",
       "      <td>190.0</td>\n",
       "      <td>94.0</td>\n",
       "      <td>29.0</td>\n",
       "      <td>105.0</td>\n",
       "      <td>40.8</td>\n",
       "      <td>231.0</td>\n",
       "    </tr>\n",
       "    <tr>\n",
       "      <th>14861698</th>\n",
       "      <td>female</td>\n",
       "      <td>20</td>\n",
       "      <td>166.0</td>\n",
       "      <td>60.0</td>\n",
       "      <td>14.0</td>\n",
       "      <td>94.0</td>\n",
       "      <td>40.3</td>\n",
       "      <td>66.0</td>\n",
       "    </tr>\n",
       "    <tr>\n",
       "      <th>11179863</th>\n",
       "      <td>male</td>\n",
       "      <td>69</td>\n",
       "      <td>179.0</td>\n",
       "      <td>79.0</td>\n",
       "      <td>5.0</td>\n",
       "      <td>88.0</td>\n",
       "      <td>38.7</td>\n",
       "      <td>26.0</td>\n",
       "    </tr>\n",
       "    <tr>\n",
       "      <th>16180408</th>\n",
       "      <td>female</td>\n",
       "      <td>34</td>\n",
       "      <td>179.0</td>\n",
       "      <td>71.0</td>\n",
       "      <td>13.0</td>\n",
       "      <td>100.0</td>\n",
       "      <td>40.5</td>\n",
       "      <td>71.0</td>\n",
       "    </tr>\n",
       "    <tr>\n",
       "      <th>17771927</th>\n",
       "      <td>female</td>\n",
       "      <td>27</td>\n",
       "      <td>154.0</td>\n",
       "      <td>58.0</td>\n",
       "      <td>10.0</td>\n",
       "      <td>81.0</td>\n",
       "      <td>39.8</td>\n",
       "      <td>35.0</td>\n",
       "    </tr>\n",
       "  </tbody>\n",
       "</table>\n",
       "</div>"
      ],
      "text/plain": [
       "             Sex  Age  Height  Weight  Duration  Heart_Rate  Body_Temp  \\\n",
       "User_ID                                                                  \n",
       "14733363    male   68   190.0    94.0      29.0       105.0       40.8   \n",
       "14861698  female   20   166.0    60.0      14.0        94.0       40.3   \n",
       "11179863    male   69   179.0    79.0       5.0        88.0       38.7   \n",
       "16180408  female   34   179.0    71.0      13.0       100.0       40.5   \n",
       "17771927  female   27   154.0    58.0      10.0        81.0       39.8   \n",
       "\n",
       "          Calories  \n",
       "User_ID             \n",
       "14733363     231.0  \n",
       "14861698      66.0  \n",
       "11179863      26.0  \n",
       "16180408      71.0  \n",
       "17771927      35.0  "
      ]
     },
     "execution_count": 5,
     "metadata": {},
     "output_type": "execute_result"
    }
   ],
   "source": [
    "org.head()"
   ]
  },
  {
   "cell_type": "markdown",
   "id": "e53d8f56",
   "metadata": {
    "papermill": {
     "duration": 0.003856,
     "end_time": "2025-05-12T14:46:39.423789",
     "exception": false,
     "start_time": "2025-05-12T14:46:39.419933",
     "status": "completed"
    },
    "tags": []
   },
   "source": [
    "# Data Understanding"
   ]
  },
  {
   "cell_type": "code",
   "execution_count": 6,
   "id": "11727ff9",
   "metadata": {
    "execution": {
     "iopub.execute_input": "2025-05-12T14:46:39.432446Z",
     "iopub.status.busy": "2025-05-12T14:46:39.432220Z",
     "iopub.status.idle": "2025-05-12T14:46:39.436393Z",
     "shell.execute_reply": "2025-05-12T14:46:39.435910Z"
    },
    "papermill": {
     "duration": 0.00959,
     "end_time": "2025-05-12T14:46:39.437415",
     "exception": false,
     "start_time": "2025-05-12T14:46:39.427825",
     "status": "completed"
    },
    "tags": []
   },
   "outputs": [
    {
     "data": {
      "text/plain": [
       "(250000, 7)"
      ]
     },
     "execution_count": 6,
     "metadata": {},
     "output_type": "execute_result"
    }
   ],
   "source": [
    "test.shape"
   ]
  },
  {
   "cell_type": "code",
   "execution_count": 7,
   "id": "a9775b7a",
   "metadata": {
    "execution": {
     "iopub.execute_input": "2025-05-12T14:46:39.446500Z",
     "iopub.status.busy": "2025-05-12T14:46:39.446148Z",
     "iopub.status.idle": "2025-05-12T14:46:39.471782Z",
     "shell.execute_reply": "2025-05-12T14:46:39.471054Z"
    },
    "papermill": {
     "duration": 0.031216,
     "end_time": "2025-05-12T14:46:39.472824",
     "exception": false,
     "start_time": "2025-05-12T14:46:39.441608",
     "status": "completed"
    },
    "tags": []
   },
   "outputs": [
    {
     "data": {
      "text/html": [
       "<div>\n",
       "<style scoped>\n",
       "    .dataframe tbody tr th:only-of-type {\n",
       "        vertical-align: middle;\n",
       "    }\n",
       "\n",
       "    .dataframe tbody tr th {\n",
       "        vertical-align: top;\n",
       "    }\n",
       "\n",
       "    .dataframe thead th {\n",
       "        text-align: right;\n",
       "    }\n",
       "</style>\n",
       "<table border=\"1\" class=\"dataframe\">\n",
       "  <thead>\n",
       "    <tr style=\"text-align: right;\">\n",
       "      <th></th>\n",
       "      <th>Sex</th>\n",
       "      <th>Age</th>\n",
       "      <th>Height</th>\n",
       "      <th>Weight</th>\n",
       "      <th>Duration</th>\n",
       "      <th>Heart_Rate</th>\n",
       "      <th>Body_Temp</th>\n",
       "      <th>Calories</th>\n",
       "    </tr>\n",
       "  </thead>\n",
       "  <tbody>\n",
       "    <tr>\n",
       "      <th>0</th>\n",
       "      <td>male</td>\n",
       "      <td>36</td>\n",
       "      <td>189.0</td>\n",
       "      <td>82.0</td>\n",
       "      <td>26.0</td>\n",
       "      <td>101.0</td>\n",
       "      <td>41.0</td>\n",
       "      <td>150.0</td>\n",
       "    </tr>\n",
       "    <tr>\n",
       "      <th>1</th>\n",
       "      <td>female</td>\n",
       "      <td>64</td>\n",
       "      <td>163.0</td>\n",
       "      <td>60.0</td>\n",
       "      <td>8.0</td>\n",
       "      <td>85.0</td>\n",
       "      <td>39.7</td>\n",
       "      <td>34.0</td>\n",
       "    </tr>\n",
       "    <tr>\n",
       "      <th>2</th>\n",
       "      <td>female</td>\n",
       "      <td>51</td>\n",
       "      <td>161.0</td>\n",
       "      <td>64.0</td>\n",
       "      <td>7.0</td>\n",
       "      <td>84.0</td>\n",
       "      <td>39.8</td>\n",
       "      <td>29.0</td>\n",
       "    </tr>\n",
       "    <tr>\n",
       "      <th>3</th>\n",
       "      <td>male</td>\n",
       "      <td>20</td>\n",
       "      <td>192.0</td>\n",
       "      <td>90.0</td>\n",
       "      <td>25.0</td>\n",
       "      <td>105.0</td>\n",
       "      <td>40.7</td>\n",
       "      <td>140.0</td>\n",
       "    </tr>\n",
       "    <tr>\n",
       "      <th>4</th>\n",
       "      <td>female</td>\n",
       "      <td>38</td>\n",
       "      <td>166.0</td>\n",
       "      <td>61.0</td>\n",
       "      <td>25.0</td>\n",
       "      <td>102.0</td>\n",
       "      <td>40.6</td>\n",
       "      <td>146.0</td>\n",
       "    </tr>\n",
       "    <tr>\n",
       "      <th>5</th>\n",
       "      <td>female</td>\n",
       "      <td>26</td>\n",
       "      <td>156.0</td>\n",
       "      <td>56.0</td>\n",
       "      <td>19.0</td>\n",
       "      <td>100.0</td>\n",
       "      <td>40.5</td>\n",
       "      <td>103.0</td>\n",
       "    </tr>\n",
       "    <tr>\n",
       "      <th>6</th>\n",
       "      <td>female</td>\n",
       "      <td>21</td>\n",
       "      <td>172.0</td>\n",
       "      <td>73.0</td>\n",
       "      <td>3.0</td>\n",
       "      <td>81.0</td>\n",
       "      <td>38.3</td>\n",
       "      <td>9.0</td>\n",
       "    </tr>\n",
       "    <tr>\n",
       "      <th>7</th>\n",
       "      <td>male</td>\n",
       "      <td>46</td>\n",
       "      <td>188.0</td>\n",
       "      <td>94.0</td>\n",
       "      <td>23.0</td>\n",
       "      <td>100.0</td>\n",
       "      <td>40.8</td>\n",
       "      <td>145.0</td>\n",
       "    </tr>\n",
       "    <tr>\n",
       "      <th>8</th>\n",
       "      <td>female</td>\n",
       "      <td>33</td>\n",
       "      <td>166.0</td>\n",
       "      <td>63.0</td>\n",
       "      <td>25.0</td>\n",
       "      <td>107.0</td>\n",
       "      <td>40.5</td>\n",
       "      <td>161.0</td>\n",
       "    </tr>\n",
       "    <tr>\n",
       "      <th>9</th>\n",
       "      <td>male</td>\n",
       "      <td>65</td>\n",
       "      <td>185.0</td>\n",
       "      <td>88.0</td>\n",
       "      <td>23.0</td>\n",
       "      <td>104.0</td>\n",
       "      <td>41.0</td>\n",
       "      <td>185.0</td>\n",
       "    </tr>\n",
       "  </tbody>\n",
       "</table>\n",
       "</div>"
      ],
      "text/plain": [
       "      Sex  Age  Height  Weight  Duration  Heart_Rate  Body_Temp  Calories\n",
       "0    male   36   189.0    82.0      26.0       101.0       41.0     150.0\n",
       "1  female   64   163.0    60.0       8.0        85.0       39.7      34.0\n",
       "2  female   51   161.0    64.0       7.0        84.0       39.8      29.0\n",
       "3    male   20   192.0    90.0      25.0       105.0       40.7     140.0\n",
       "4  female   38   166.0    61.0      25.0       102.0       40.6     146.0\n",
       "5  female   26   156.0    56.0      19.0       100.0       40.5     103.0\n",
       "6  female   21   172.0    73.0       3.0        81.0       38.3       9.0\n",
       "7    male   46   188.0    94.0      23.0       100.0       40.8     145.0\n",
       "8  female   33   166.0    63.0      25.0       107.0       40.5     161.0\n",
       "9    male   65   185.0    88.0      23.0       104.0       41.0     185.0"
      ]
     },
     "execution_count": 7,
     "metadata": {},
     "output_type": "execute_result"
    }
   ],
   "source": [
    "train.head(10)"
   ]
  },
  {
   "cell_type": "code",
   "execution_count": 8,
   "id": "05669e40",
   "metadata": {
    "execution": {
     "iopub.execute_input": "2025-05-12T14:46:39.482608Z",
     "iopub.status.busy": "2025-05-12T14:46:39.482355Z",
     "iopub.status.idle": "2025-05-12T14:46:40.950139Z",
     "shell.execute_reply": "2025-05-12T14:46:40.949325Z"
    },
    "papermill": {
     "duration": 1.474276,
     "end_time": "2025-05-12T14:46:40.951472",
     "exception": false,
     "start_time": "2025-05-12T14:46:39.477196",
     "status": "completed"
    },
    "tags": []
   },
   "outputs": [
    {
     "data": {
      "text/html": [
       "<div>\n",
       "<style scoped>\n",
       "    .dataframe tbody tr th:only-of-type {\n",
       "        vertical-align: middle;\n",
       "    }\n",
       "\n",
       "    .dataframe tbody tr th {\n",
       "        vertical-align: top;\n",
       "    }\n",
       "\n",
       "    .dataframe thead th {\n",
       "        text-align: right;\n",
       "    }\n",
       "</style>\n",
       "<table border=\"1\" class=\"dataframe\">\n",
       "  <thead>\n",
       "    <tr style=\"text-align: right;\">\n",
       "      <th></th>\n",
       "      <th>Age</th>\n",
       "      <th>Height</th>\n",
       "      <th>Weight</th>\n",
       "      <th>Duration</th>\n",
       "      <th>Heart_Rate</th>\n",
       "      <th>Body_Temp</th>\n",
       "      <th>Calories</th>\n",
       "    </tr>\n",
       "  </thead>\n",
       "  <tbody>\n",
       "    <tr>\n",
       "      <th>count</th>\n",
       "      <td>765000.000000</td>\n",
       "      <td>765000.000000</td>\n",
       "      <td>765000.000000</td>\n",
       "      <td>765000.000000</td>\n",
       "      <td>765000.000000</td>\n",
       "      <td>765000.000000</td>\n",
       "      <td>765000.000000</td>\n",
       "    </tr>\n",
       "    <tr>\n",
       "      <th>mean</th>\n",
       "      <td>41.447255</td>\n",
       "      <td>174.693126</td>\n",
       "      <td>75.142162</td>\n",
       "      <td>15.423163</td>\n",
       "      <td>95.484672</td>\n",
       "      <td>40.036041</td>\n",
       "      <td>88.307424</td>\n",
       "    </tr>\n",
       "    <tr>\n",
       "      <th>std</th>\n",
       "      <td>15.213677</td>\n",
       "      <td>12.854173</td>\n",
       "      <td>14.004122</td>\n",
       "      <td>8.353421</td>\n",
       "      <td>9.452476</td>\n",
       "      <td>0.779863</td>\n",
       "      <td>62.396760</td>\n",
       "    </tr>\n",
       "    <tr>\n",
       "      <th>min</th>\n",
       "      <td>20.000000</td>\n",
       "      <td>123.000000</td>\n",
       "      <td>36.000000</td>\n",
       "      <td>1.000000</td>\n",
       "      <td>67.000000</td>\n",
       "      <td>37.100000</td>\n",
       "      <td>1.000000</td>\n",
       "    </tr>\n",
       "    <tr>\n",
       "      <th>25%</th>\n",
       "      <td>28.000000</td>\n",
       "      <td>164.000000</td>\n",
       "      <td>63.000000</td>\n",
       "      <td>8.000000</td>\n",
       "      <td>88.000000</td>\n",
       "      <td>39.600000</td>\n",
       "      <td>34.000000</td>\n",
       "    </tr>\n",
       "    <tr>\n",
       "      <th>50%</th>\n",
       "      <td>40.000000</td>\n",
       "      <td>174.000000</td>\n",
       "      <td>74.000000</td>\n",
       "      <td>15.000000</td>\n",
       "      <td>95.000000</td>\n",
       "      <td>40.300000</td>\n",
       "      <td>77.000000</td>\n",
       "    </tr>\n",
       "    <tr>\n",
       "      <th>75%</th>\n",
       "      <td>52.000000</td>\n",
       "      <td>185.000000</td>\n",
       "      <td>87.000000</td>\n",
       "      <td>23.000000</td>\n",
       "      <td>103.000000</td>\n",
       "      <td>40.700000</td>\n",
       "      <td>136.000000</td>\n",
       "    </tr>\n",
       "    <tr>\n",
       "      <th>max</th>\n",
       "      <td>79.000000</td>\n",
       "      <td>222.000000</td>\n",
       "      <td>132.000000</td>\n",
       "      <td>30.000000</td>\n",
       "      <td>128.000000</td>\n",
       "      <td>41.500000</td>\n",
       "      <td>314.000000</td>\n",
       "    </tr>\n",
       "  </tbody>\n",
       "</table>\n",
       "</div>"
      ],
      "text/plain": [
       "                 Age         Height         Weight       Duration  \\\n",
       "count  765000.000000  765000.000000  765000.000000  765000.000000   \n",
       "mean       41.447255     174.693126      75.142162      15.423163   \n",
       "std        15.213677      12.854173      14.004122       8.353421   \n",
       "min        20.000000     123.000000      36.000000       1.000000   \n",
       "25%        28.000000     164.000000      63.000000       8.000000   \n",
       "50%        40.000000     174.000000      74.000000      15.000000   \n",
       "75%        52.000000     185.000000      87.000000      23.000000   \n",
       "max        79.000000     222.000000     132.000000      30.000000   \n",
       "\n",
       "          Heart_Rate      Body_Temp       Calories  \n",
       "count  765000.000000  765000.000000  765000.000000  \n",
       "mean       95.484672      40.036041      88.307424  \n",
       "std         9.452476       0.779863      62.396760  \n",
       "min        67.000000      37.100000       1.000000  \n",
       "25%        88.000000      39.600000      34.000000  \n",
       "50%        95.000000      40.300000      77.000000  \n",
       "75%       103.000000      40.700000     136.000000  \n",
       "max       128.000000      41.500000     314.000000  "
      ]
     },
     "execution_count": 8,
     "metadata": {},
     "output_type": "execute_result"
    }
   ],
   "source": [
    "train.describe()"
   ]
  },
  {
   "cell_type": "code",
   "execution_count": 9,
   "id": "c04696f6",
   "metadata": {
    "execution": {
     "iopub.execute_input": "2025-05-12T14:46:40.962483Z",
     "iopub.status.busy": "2025-05-12T14:46:40.962237Z",
     "iopub.status.idle": "2025-05-12T14:46:41.049326Z",
     "shell.execute_reply": "2025-05-12T14:46:41.048807Z"
    },
    "papermill": {
     "duration": 0.093851,
     "end_time": "2025-05-12T14:46:41.050323",
     "exception": false,
     "start_time": "2025-05-12T14:46:40.956472",
     "status": "completed"
    },
    "tags": []
   },
   "outputs": [
    {
     "data": {
      "text/plain": [
       "Sex           0\n",
       "Age           0\n",
       "Height        0\n",
       "Weight        0\n",
       "Duration      0\n",
       "Heart_Rate    0\n",
       "Body_Temp     0\n",
       "Calories      0\n",
       "dtype: int64"
      ]
     },
     "execution_count": 9,
     "metadata": {},
     "output_type": "execute_result"
    }
   ],
   "source": [
    "train.isnull().sum()"
   ]
  },
  {
   "cell_type": "code",
   "execution_count": 10,
   "id": "631bbc50",
   "metadata": {
    "execution": {
     "iopub.execute_input": "2025-05-12T14:46:41.059992Z",
     "iopub.status.busy": "2025-05-12T14:46:41.059780Z",
     "iopub.status.idle": "2025-05-12T14:46:41.071586Z",
     "shell.execute_reply": "2025-05-12T14:46:41.070860Z"
    },
    "papermill": {
     "duration": 0.017767,
     "end_time": "2025-05-12T14:46:41.072665",
     "exception": false,
     "start_time": "2025-05-12T14:46:41.054898",
     "status": "completed"
    },
    "tags": []
   },
   "outputs": [
    {
     "name": "stdout",
     "output_type": "stream",
     "text": [
      "<class 'cudf.core.dataframe.DataFrame'>\n",
      "RangeIndex: 765000 entries, 0 to 764999\n",
      "Data columns (total 8 columns):\n",
      " #   Column      Non-Null Count   Dtype\n",
      "---  ------      --------------   -----\n",
      " 0   Sex         765000 non-null  object\n",
      " 1   Age         765000 non-null  int64\n",
      " 2   Height      765000 non-null  float64\n",
      " 3   Weight      765000 non-null  float64\n",
      " 4   Duration    765000 non-null  float64\n",
      " 5   Heart_Rate  765000 non-null  float64\n",
      " 6   Body_Temp   765000 non-null  float64\n",
      " 7   Calories    765000 non-null  float64\n",
      "dtypes: float64(6), int64(1), object(1)\n",
      "memory usage: 47.4+ MB\n"
     ]
    }
   ],
   "source": [
    "train.info()"
   ]
  },
  {
   "cell_type": "markdown",
   "id": "6a2837b8",
   "metadata": {
    "papermill": {
     "duration": 0.004266,
     "end_time": "2025-05-12T14:46:41.081571",
     "exception": false,
     "start_time": "2025-05-12T14:46:41.077305",
     "status": "completed"
    },
    "tags": []
   },
   "source": [
    "# Data Preprocessing"
   ]
  },
  {
   "cell_type": "markdown",
   "id": "4b667cae",
   "metadata": {
    "papermill": {
     "duration": 0.004633,
     "end_time": "2025-05-12T14:46:41.090660",
     "exception": false,
     "start_time": "2025-05-12T14:46:41.086027",
     "status": "completed"
    },
    "tags": []
   },
   "source": [
    "## Reducing memory usage"
   ]
  },
  {
   "cell_type": "code",
   "execution_count": 11,
   "id": "a6468910",
   "metadata": {
    "execution": {
     "iopub.execute_input": "2025-05-12T14:46:41.100471Z",
     "iopub.status.busy": "2025-05-12T14:46:41.099969Z",
     "iopub.status.idle": "2025-05-12T14:46:41.129119Z",
     "shell.execute_reply": "2025-05-12T14:46:41.128483Z"
    },
    "papermill": {
     "duration": 0.035167,
     "end_time": "2025-05-12T14:46:41.130220",
     "exception": false,
     "start_time": "2025-05-12T14:46:41.095053",
     "status": "completed"
    },
    "tags": []
   },
   "outputs": [],
   "source": [
    "train['Sex'] = train['Sex'].astype('category')\n",
    "test['Sex'] = test['Sex'].astype('category')"
   ]
  },
  {
   "cell_type": "code",
   "execution_count": 12,
   "id": "30c9e169",
   "metadata": {
    "execution": {
     "iopub.execute_input": "2025-05-12T14:46:41.142447Z",
     "iopub.status.busy": "2025-05-12T14:46:41.142049Z",
     "iopub.status.idle": "2025-05-12T14:46:41.147067Z",
     "shell.execute_reply": "2025-05-12T14:46:41.146400Z"
    },
    "papermill": {
     "duration": 0.011621,
     "end_time": "2025-05-12T14:46:41.148084",
     "exception": false,
     "start_time": "2025-05-12T14:46:41.136463",
     "status": "completed"
    },
    "tags": []
   },
   "outputs": [],
   "source": [
    "train['Age'] = train['Age'].astype('int8')\n",
    "test['Age'] = test['Age'].astype('int8')"
   ]
  },
  {
   "cell_type": "code",
   "execution_count": 13,
   "id": "ac810840",
   "metadata": {
    "execution": {
     "iopub.execute_input": "2025-05-12T14:46:41.158881Z",
     "iopub.status.busy": "2025-05-12T14:46:41.158233Z",
     "iopub.status.idle": "2025-05-12T14:46:41.679874Z",
     "shell.execute_reply": "2025-05-12T14:46:41.679041Z"
    },
    "papermill": {
     "duration": 0.528843,
     "end_time": "2025-05-12T14:46:41.681455",
     "exception": false,
     "start_time": "2025-05-12T14:46:41.152612",
     "status": "completed"
    },
    "tags": []
   },
   "outputs": [],
   "source": [
    "num_cols = test.select_dtypes(include='float64').columns\n",
    "for col in num_cols:\n",
    "    train[num_cols] = train[num_cols].astype('float32')\n",
    "    test[num_cols] = test[num_cols].astype('float32')"
   ]
  },
  {
   "cell_type": "code",
   "execution_count": 14,
   "id": "e9cd0502",
   "metadata": {
    "execution": {
     "iopub.execute_input": "2025-05-12T14:46:41.693054Z",
     "iopub.status.busy": "2025-05-12T14:46:41.692384Z",
     "iopub.status.idle": "2025-05-12T14:46:41.713959Z",
     "shell.execute_reply": "2025-05-12T14:46:41.713099Z"
    },
    "papermill": {
     "duration": 0.028415,
     "end_time": "2025-05-12T14:46:41.715134",
     "exception": false,
     "start_time": "2025-05-12T14:46:41.686719",
     "status": "completed"
    },
    "tags": []
   },
   "outputs": [
    {
     "name": "stdout",
     "output_type": "stream",
     "text": [
      "<class 'cudf.core.dataframe.DataFrame'>\n",
      "RangeIndex: 765000 entries, 0 to 764999\n",
      "Data columns (total 8 columns):\n",
      " #   Column      Non-Null Count   Dtype\n",
      "---  ------      --------------   -----\n",
      " 0   Sex         765000 non-null  category\n",
      " 1   Age         765000 non-null  int8\n",
      " 2   Height      765000 non-null  float32\n",
      " 3   Weight      765000 non-null  float32\n",
      " 4   Duration    765000 non-null  float32\n",
      " 5   Heart_Rate  765000 non-null  float32\n",
      " 6   Body_Temp   765000 non-null  float32\n",
      " 7   Calories    765000 non-null  float64\n",
      "dtypes: category(1), float32(5), float64(1), int8(1)\n",
      "memory usage: 21.9 MB\n"
     ]
    }
   ],
   "source": [
    "train.info()"
   ]
  },
  {
   "cell_type": "code",
   "execution_count": 15,
   "id": "9bb5fb62",
   "metadata": {
    "execution": {
     "iopub.execute_input": "2025-05-12T14:46:41.725709Z",
     "iopub.status.busy": "2025-05-12T14:46:41.725267Z",
     "iopub.status.idle": "2025-05-12T14:46:41.780943Z",
     "shell.execute_reply": "2025-05-12T14:46:41.780302Z"
    },
    "papermill": {
     "duration": 0.06196,
     "end_time": "2025-05-12T14:46:41.782046",
     "exception": false,
     "start_time": "2025-05-12T14:46:41.720086",
     "status": "completed"
    },
    "tags": []
   },
   "outputs": [],
   "source": [
    "mapping = {'male': 1, 'female': 0}\n",
    "\n",
    "train['Sex'] = train['Sex'].map(mapping).astype('int8')\n",
    "test['Sex'] = test['Sex'].map(mapping).astype('int8')"
   ]
  },
  {
   "cell_type": "code",
   "execution_count": 16,
   "id": "6f098c3a",
   "metadata": {
    "execution": {
     "iopub.execute_input": "2025-05-12T14:46:41.792024Z",
     "iopub.status.busy": "2025-05-12T14:46:41.791644Z",
     "iopub.status.idle": "2025-05-12T14:46:41.794650Z",
     "shell.execute_reply": "2025-05-12T14:46:41.794141Z"
    },
    "papermill": {
     "duration": 0.009029,
     "end_time": "2025-05-12T14:46:41.795668",
     "exception": false,
     "start_time": "2025-05-12T14:46:41.786639",
     "status": "completed"
    },
    "tags": []
   },
   "outputs": [],
   "source": [
    "features = ['Sex', 'Age', 'Height', 'Weight', 'Duration', 'Heart_Rate', 'Body_Temp']"
   ]
  },
  {
   "cell_type": "code",
   "execution_count": 17,
   "id": "83b205ad",
   "metadata": {
    "execution": {
     "iopub.execute_input": "2025-05-12T14:46:41.805470Z",
     "iopub.status.busy": "2025-05-12T14:46:41.805227Z",
     "iopub.status.idle": "2025-05-12T14:46:41.808855Z",
     "shell.execute_reply": "2025-05-12T14:46:41.808350Z"
    },
    "papermill": {
     "duration": 0.009607,
     "end_time": "2025-05-12T14:46:41.809844",
     "exception": false,
     "start_time": "2025-05-12T14:46:41.800237",
     "status": "completed"
    },
    "tags": []
   },
   "outputs": [],
   "source": [
    "def add_features(df):\n",
    "    for i, c1 in enumerate(features):\n",
    "        for c2 in (features[i+1:]):\n",
    "            m = f'{c1}*{c2}'\n",
    "            df[m] = df[c1] * df[c2]\n",
    "            #a = f'{c1}+{c2}'\n",
    "            #df[a] = df[c1] + df[c2]\n",
    "            d = f'{c1}/{c2}'\n",
    "            df[d] = df[c1] / (df[c2] + 1e-3)\n",
    "    return df"
   ]
  },
  {
   "cell_type": "code",
   "execution_count": 18,
   "id": "9c2cc77f",
   "metadata": {
    "execution": {
     "iopub.execute_input": "2025-05-12T14:46:41.819849Z",
     "iopub.status.busy": "2025-05-12T14:46:41.819655Z",
     "iopub.status.idle": "2025-05-12T14:46:41.825173Z",
     "shell.execute_reply": "2025-05-12T14:46:41.824675Z"
    },
    "papermill": {
     "duration": 0.011534,
     "end_time": "2025-05-12T14:46:41.826108",
     "exception": false,
     "start_time": "2025-05-12T14:46:41.814574",
     "status": "completed"
    },
    "tags": []
   },
   "outputs": [],
   "source": [
    "from sklearn.preprocessing import RobustScaler\n",
    "\n",
    "def feature_engineer(df):\n",
    "\n",
    "    df['Max_Heart_Rate'] = 207 - (0.7 * df['Age'])\n",
    "    df['HR_Ratio'] = df['Heart_Rate'] / df['Max_Heart_Rate']\n",
    "    df['HR_Reserve'] = (df['Heart_Rate'] / df['Max_Heart_Rate']) * df['Duration']\n",
    "\n",
    "    df['MET_Estimate'] = (df['Heart_Rate'] / df['Max_Heart_Rate']) * 15\n",
    "    df['Exercise_Intensity_Index'] = df['Heart_Rate'] * df['Body_Temp'] / (df['Weight'] * df['Age'])\n",
    "    df['Intensity'] = (df['Heart_Rate'] - 60) / df['HR_Reserve']\n",
    "\n",
    "    df['exertion_score'] = df['Duration'] * df['Heart_Rate'] * df['Body_Temp']\n",
    "    \n",
    "    df['BMI'] = df['Weight'] / (df['Height']/100) ** 2\n",
    "\n",
    "    for col in ['Duration', 'Heart_Rate']:\n",
    "        df[f'Sqrt_{col}'] = np.sqrt(df[col])\n",
    "\n",
    "    df['BMI_Category'] = pd.cut(\n",
    "        df['BMI'], \n",
    "        bins=[0, 18.5, 25, 30, 100], \n",
    "        labels=[0, 1, 2, 3]\n",
    "    ).astype('int16')\n",
    "    df['BSA'] = np.sqrt((df['Height'] * df['Weight']) / 3600)\n",
    "    \n",
    "    df['body_theta'] = np.arctan2(df['Weight'], df['Height'])\n",
    "    \n",
    "    return df"
   ]
  },
  {
   "cell_type": "code",
   "execution_count": 19,
   "id": "5ab7a28c",
   "metadata": {
    "execution": {
     "iopub.execute_input": "2025-05-12T14:46:41.835783Z",
     "iopub.status.busy": "2025-05-12T14:46:41.835583Z",
     "iopub.status.idle": "2025-05-12T14:46:41.841991Z",
     "shell.execute_reply": "2025-05-12T14:46:41.841402Z"
    },
    "papermill": {
     "duration": 0.012443,
     "end_time": "2025-05-12T14:46:41.843048",
     "exception": false,
     "start_time": "2025-05-12T14:46:41.830605",
     "status": "completed"
    },
    "tags": []
   },
   "outputs": [
    {
     "data": {
      "text/plain": [
       "array([26.,  8.,  7., 25., 19.,  3., 23., 21.,  6., 29., 12., 11., 15.,\n",
       "        1.,  4.,  9., 30.,  5., 28., 20., 17., 27., 18., 16., 14., 22.,\n",
       "       24., 13.,  2., 10.], dtype=float32)"
      ]
     },
     "execution_count": 19,
     "metadata": {},
     "output_type": "execute_result"
    }
   ],
   "source": [
    "train['Duration'].unique()"
   ]
  },
  {
   "cell_type": "code",
   "execution_count": 20,
   "id": "415e6d74",
   "metadata": {
    "execution": {
     "iopub.execute_input": "2025-05-12T14:46:41.852976Z",
     "iopub.status.busy": "2025-05-12T14:46:41.852782Z",
     "iopub.status.idle": "2025-05-12T14:46:42.465242Z",
     "shell.execute_reply": "2025-05-12T14:46:42.464628Z"
    },
    "papermill": {
     "duration": 0.618978,
     "end_time": "2025-05-12T14:46:42.466604",
     "exception": false,
     "start_time": "2025-05-12T14:46:41.847626",
     "status": "completed"
    },
    "tags": []
   },
   "outputs": [],
   "source": [
    "X = train.copy()\n",
    "y = X.pop('Calories')\n",
    "y = np.log1p(y)\n",
    "\n",
    "X = add_features(X)\n",
    "X = feature_engineer(X)\n",
    "\n",
    "X_test = test.copy()\n",
    "X_test = add_features(X_test)\n",
    "X_test = feature_engineer(X_test)"
   ]
  },
  {
   "cell_type": "code",
   "execution_count": 21,
   "id": "7f359290",
   "metadata": {
    "execution": {
     "iopub.execute_input": "2025-05-12T14:46:42.478110Z",
     "iopub.status.busy": "2025-05-12T14:46:42.477349Z",
     "iopub.status.idle": "2025-05-12T14:49:59.749016Z",
     "shell.execute_reply": "2025-05-12T14:49:59.748210Z"
    },
    "papermill": {
     "duration": 197.28269,
     "end_time": "2025-05-12T14:49:59.754412",
     "exception": false,
     "start_time": "2025-05-12T14:46:42.471722",
     "status": "completed"
    },
    "tags": []
   },
   "outputs": [
    {
     "name": "stdout",
     "output_type": "stream",
     "text": [
      "Fold 1 RMSE: 0.058559\n",
      "Fold 2 RMSE: 0.058846\n",
      "Fold 3 RMSE: 0.059656\n",
      "Fold 4 RMSE: 0.059547\n",
      "Fold 5 RMSE: 0.058856\n",
      "\n",
      "Overall OOF RMSLE: 0.059094\n"
     ]
    }
   ],
   "source": [
    "from sklearn.model_selection import KFold\n",
    "from cuml.metrics import mean_squared_log_error\n",
    "from xgboost import XGBRegressor\n",
    "\n",
    "n_folds = 5\n",
    "kf = KFold(n_splits=n_folds, shuffle=True, random_state=100)\n",
    "\n",
    "oof_xgb = np.zeros(len(y))\n",
    "test_xgb = np.zeros(len(X_test))\n",
    "\n",
    "for fold, (train_index, valid_index) in enumerate(kf.split(X, y), start=1):\n",
    "        X_train, X_valid = X.iloc[train_index].copy(), X.iloc[valid_index].copy()\n",
    "        y_train, y_valid = y.iloc[train_index], y.iloc[valid_index]\n",
    "        \n",
    "        xgb = XGBRegressor(\n",
    "            n_estimators=3500, learning_rate= 0.010042341305141641, max_depth=10, \n",
    "            min_child_weight=7, alpha= 0.031799792818970524, reg_lambda=0.3580931274078332, \n",
    "            subsample=0.8572426766452907, colsample_bytree=0.5066402912386329, gamma=1.037011350094906e-08, \n",
    "            early_stopping_rounds=50, tree_method='gpu_hist', device='cuda', seed=100, \n",
    "            objective='reg:squarederror', eval_metric='rmse',\n",
    "        ).fit(X_train, y_train, eval_set=[(X_valid, y_valid)], verbose=0)\n",
    "    \n",
    "        valid_pred = xgb.predict(X_valid)\n",
    "        oof_xgb[valid_index] = valid_pred\n",
    "        test_xgb += xgb.predict(X_test) / n_folds\n",
    "    \n",
    "        fold_rmsle = np.sqrt(mean_squared_log_error(np.expm1(y_valid), np.expm1(valid_pred)))\n",
    "        print(f\"Fold {fold} RMSE: {fold_rmsle:.6f}\")\n",
    "\n",
    "test_xgb = np.expm1(test_xgb)\n",
    "test_xgb = np.clip(test_xgb, 1, 314)\n",
    "overall_rmsle = np.sqrt(mean_squared_log_error(np.expm1(y), np.expm1(oof_xgb)))\n",
    "print(f\"\\nOverall OOF RMSLE: {overall_rmsle:.6f}\")   "
   ]
  },
  {
   "cell_type": "code",
   "execution_count": 22,
   "id": "1cd411d0",
   "metadata": {
    "execution": {
     "iopub.execute_input": "2025-05-12T14:49:59.764812Z",
     "iopub.status.busy": "2025-05-12T14:49:59.764596Z",
     "iopub.status.idle": "2025-05-12T14:52:37.858585Z",
     "shell.execute_reply": "2025-05-12T14:52:37.857761Z"
    },
    "papermill": {
     "duration": 158.10062,
     "end_time": "2025-05-12T14:52:37.859877",
     "exception": false,
     "start_time": "2025-05-12T14:49:59.759257",
     "status": "completed"
    },
    "tags": []
   },
   "outputs": [
    {
     "name": "stdout",
     "output_type": "stream",
     "text": [
      "Fold 1 RMSE: 0.059391\n",
      "Fold 2 RMSE: 0.059646\n",
      "Fold 3 RMSE: 0.060480\n",
      "Fold 4 RMSE: 0.060022\n",
      "Fold 5 RMSE: 0.059437\n",
      "\n",
      "Overall OOF RMSLE: 0.059797\n"
     ]
    }
   ],
   "source": [
    "from sklearn.ensemble import HistGradientBoostingRegressor\n",
    "\n",
    "oof_hist = np.zeros(len(y))\n",
    "test_hist = np.zeros(len(X_test))\n",
    "\n",
    "for fold, (train_index, valid_index) in enumerate(kf.split(X, y), start=1):\n",
    "        X_train, X_valid = X.iloc[train_index].copy(), X.iloc[valid_index].copy()\n",
    "        y_train, y_valid = y.iloc[train_index], y.iloc[valid_index]\n",
    "        \n",
    "        hist = HistGradientBoostingRegressor(\n",
    "            max_iter=3500, learning_rate= 0.059627821283751964, max_depth=8, max_leaf_nodes=380,\n",
    "            min_samples_leaf=50, l2_regularization=5.0012120860, random_state=100\n",
    "        ).fit(X_train, y_train)\n",
    "    \n",
    "        valid_pred = hist.predict(X_valid)\n",
    "        oof_hist[valid_index] = valid_pred\n",
    "        test_hist += hist.predict(X_test) / n_folds\n",
    "    \n",
    "        fold_rmsle = np.sqrt(mean_squared_log_error(np.expm1(y_valid), np.expm1(valid_pred)))\n",
    "        print(f\"Fold {fold} RMSE: {fold_rmsle:.6f}\")\n",
    "\n",
    "test_hist = np.expm1(test_hist)\n",
    "test_hist = np.clip(test_hist, 1, 314)\n",
    "overall_rmsle = np.sqrt(mean_squared_log_error(np.expm1(y), np.expm1(oof_hist)))\n",
    "print(f\"\\nOverall OOF RMSLE: {overall_rmsle:.6f}\")   "
   ]
  },
  {
   "cell_type": "code",
   "execution_count": 23,
   "id": "ba011eeb",
   "metadata": {
    "execution": {
     "iopub.execute_input": "2025-05-12T14:52:37.871334Z",
     "iopub.status.busy": "2025-05-12T14:52:37.871140Z",
     "iopub.status.idle": "2025-05-12T14:52:38.077846Z",
     "shell.execute_reply": "2025-05-12T14:52:38.077299Z"
    },
    "papermill": {
     "duration": 0.213748,
     "end_time": "2025-05-12T14:52:38.078972",
     "exception": false,
     "start_time": "2025-05-12T14:52:37.865224",
     "status": "completed"
    },
    "tags": []
   },
   "outputs": [],
   "source": [
    "X = train.copy()\n",
    "y = X.pop('Calories')\n",
    "y = np.log1p(y) \n",
    "X = add_features(X)\n",
    "X = feature_engineer(X)\n",
    "X['Sex'] = X['Sex'].astype('category')\n",
    "\n",
    "X_test = test.copy()\n",
    "X_test = add_features(X_test)\n",
    "X_test = feature_engineer(X_test)\n",
    "X_test['Sex'] = X_test['Sex'].astype('category')"
   ]
  },
  {
   "cell_type": "code",
   "execution_count": 24,
   "id": "254ebc0b",
   "metadata": {
    "execution": {
     "iopub.execute_input": "2025-05-12T14:52:38.090773Z",
     "iopub.status.busy": "2025-05-12T14:52:38.090532Z",
     "iopub.status.idle": "2025-05-12T14:56:11.308953Z",
     "shell.execute_reply": "2025-05-12T14:56:11.308156Z"
    },
    "papermill": {
     "duration": 213.230883,
     "end_time": "2025-05-12T14:56:11.315101",
     "exception": false,
     "start_time": "2025-05-12T14:52:38.084218",
     "status": "completed"
    },
    "tags": []
   },
   "outputs": [
    {
     "name": "stdout",
     "output_type": "stream",
     "text": [
      "Fold 1 RMSE: 0.058969\n",
      "Fold 2 RMSE: 0.058674\n",
      "Fold 3 RMSE: 0.059459\n",
      "Fold 4 RMSE: 0.059022\n",
      "Fold 5 RMSE: 0.059954\n",
      "\n",
      "Overall OOF RMSLE: 0.059217\n"
     ]
    }
   ],
   "source": [
    "from catboost import CatBoostRegressor\n",
    "from sklearn.preprocessing import KBinsDiscretizer\n",
    "from sklearn.model_selection import StratifiedKFold\n",
    "\n",
    "bins = KBinsDiscretizer(n_bins=12, encode='ordinal', strategy='kmeans')\n",
    "duration_bins = bins.fit_transform(train[['Duration']]).astype(int).flatten()\n",
    "\n",
    "skf = StratifiedKFold(n_splits=5, shuffle=True, random_state=42)\n",
    "oof_cat = np.zeros(len(y))\n",
    "test_cat = np.zeros(len(X_test))\n",
    "\n",
    "params = {\n",
    "    'iterations': 3000, \n",
    "    'learning_rate': 0.03813511357889326, \n",
    "    'depth': 9, \n",
    "    'l2_leaf_reg': 5.101121281815585, \n",
    "    'bagging_temperature': 0.6263562727371863, \n",
    "    'random_strength': 0.6489211175248135,\n",
    "    'loss_function': 'RMSE',\n",
    "    'cat_features': ['Sex'],\n",
    "    'eval_metric': 'RMSE',\n",
    "    'early_stopping_rounds': 100,\n",
    "    'verbose': 0,\n",
    "    'random_seed': 100,\n",
    "    'task_type': 'GPU'   \n",
    "}\n",
    "\n",
    "for fold, (train_index, valid_index) in enumerate(skf.split(X, duration_bins), start=1):\n",
    "        X_train, X_valid = X.iloc[train_index].copy(), X.iloc[valid_index].copy()\n",
    "        y_train, y_valid = y.iloc[train_index], y.iloc[valid_index]\n",
    "\n",
    "        cat = CatBoostRegressor(**params).fit(X_train, y_train, eval_set=[(X_valid, y_valid)], use_best_model=True)\n",
    "    \n",
    "        valid_pred = cat.predict(X_valid)\n",
    "        oof_cat[valid_index] = valid_pred\n",
    "        test_cat += cat.predict(X_test) / n_folds\n",
    "    \n",
    "        fold_rmsle = np.sqrt(mean_squared_log_error(np.expm1(y_valid), np.expm1(valid_pred)))\n",
    "        print(f\"Fold {fold} RMSE: {fold_rmsle:.6f}\")\n",
    "\n",
    "test_cat = np.expm1(test_cat)\n",
    "test_cat = np.clip(test_cat, 1, 314)\n",
    "overall_rmsle = np.sqrt(mean_squared_log_error(np.expm1(y), np.expm1(oof_cat)))\n",
    "print(f\"\\nOverall OOF RMSLE: {overall_rmsle:.6f}\")\n"
   ]
  },
  {
   "cell_type": "code",
   "execution_count": 25,
   "id": "075ac791",
   "metadata": {
    "execution": {
     "iopub.execute_input": "2025-05-12T14:56:11.326471Z",
     "iopub.status.busy": "2025-05-12T14:56:11.326225Z",
     "iopub.status.idle": "2025-05-12T14:56:11.494510Z",
     "shell.execute_reply": "2025-05-12T14:56:11.493742Z"
    },
    "papermill": {
     "duration": 0.179114,
     "end_time": "2025-05-12T14:56:11.499393",
     "exception": false,
     "start_time": "2025-05-12T14:56:11.320279",
     "status": "completed"
    },
    "tags": []
   },
   "outputs": [],
   "source": [
    "from sklearn.linear_model import BayesianRidge\n",
    "\n",
    "meta_train = np.column_stack((oof_xgb, oof_hist, oof_cat))\n",
    "meta_test = np.column_stack((test_xgb, test_hist, test_cat))\n",
    "\n",
    "meta_model = BayesianRidge(n_iter=1200).fit(meta_train, y)\n",
    "\n",
    "final_preds = meta_model.predict(meta_test)"
   ]
  },
  {
   "cell_type": "code",
   "execution_count": 26,
   "id": "2e56055a",
   "metadata": {
    "execution": {
     "iopub.execute_input": "2025-05-12T14:56:11.577350Z",
     "iopub.status.busy": "2025-05-12T14:56:11.577062Z",
     "iopub.status.idle": "2025-05-12T14:56:11.664285Z",
     "shell.execute_reply": "2025-05-12T14:56:11.663283Z"
    },
    "papermill": {
     "duration": 0.09893,
     "end_time": "2025-05-12T14:56:11.665496",
     "exception": false,
     "start_time": "2025-05-12T14:56:11.566566",
     "status": "completed"
    },
    "tags": []
   },
   "outputs": [
    {
     "name": "stdout",
     "output_type": "stream",
     "text": [
      "Your submission was successfully saved!\n",
      "       id    Calories\n",
      "0  750000   27.264925\n",
      "1  750001  107.885294\n",
      "2  750002   87.704852\n",
      "3  750003  125.488951\n",
      "4  750004   75.935274\n"
     ]
    }
   ],
   "source": [
    "sub = pd.read_csv('/kaggle/input/playground-series-s5e5/sample_submission.csv')\n",
    "sub['Calories'] = final_preds\n",
    "sub.to_csv('submission.csv', index=False)\n",
    "print(\"Your submission was successfully saved!\")\n",
    "print(sub.head(5))"
   ]
  }
 ],
 "metadata": {
  "kaggle": {
   "accelerator": "nvidiaTeslaT4",
   "dataSources": [
    {
     "databundleVersionId": 11893428,
     "sourceId": 91716,
     "sourceType": "competition"
    },
    {
     "datasetId": 6512323,
     "sourceId": 10522392,
     "sourceType": "datasetVersion"
    }
   ],
   "dockerImageVersionId": 31012,
   "isGpuEnabled": true,
   "isInternetEnabled": true,
   "language": "python",
   "sourceType": "notebook"
  },
  "kernelspec": {
   "display_name": "Python 3",
   "language": "python",
   "name": "python3"
  },
  "language_info": {
   "codemirror_mode": {
    "name": "ipython",
    "version": 3
   },
   "file_extension": ".py",
   "mimetype": "text/x-python",
   "name": "python",
   "nbconvert_exporter": "python",
   "pygments_lexer": "ipython3",
   "version": "3.11.11"
  },
  "papermill": {
   "default_parameters": {},
   "duration": 595.765706,
   "end_time": "2025-05-12T14:56:15.617777",
   "environment_variables": {},
   "exception": null,
   "input_path": "__notebook__.ipynb",
   "output_path": "__notebook__.ipynb",
   "parameters": {},
   "start_time": "2025-05-12T14:46:19.852071",
   "version": "2.6.0"
  }
 },
 "nbformat": 4,
 "nbformat_minor": 5
}
