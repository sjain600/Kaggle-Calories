{
 "cells": [
  {
   "cell_type": "code",
   "execution_count": 1,
   "id": "d1d201c6",
   "metadata": {
    "execution": {
     "iopub.execute_input": "2025-05-03T07:50:15.388750Z",
     "iopub.status.busy": "2025-05-03T07:50:15.388545Z",
     "iopub.status.idle": "2025-05-03T07:50:24.138146Z",
     "shell.execute_reply": "2025-05-03T07:50:24.137288Z"
    },
    "papermill": {
     "duration": 8.755576,
     "end_time": "2025-05-03T07:50:24.139207",
     "exception": false,
     "start_time": "2025-05-03T07:50:15.383631",
     "status": "completed"
    },
    "tags": []
   },
   "outputs": [
    {
     "name": "stdout",
     "output_type": "stream",
     "text": [
      "/kaggle/input/playground-series-s5e5/sample_submission.csv\n",
      "/kaggle/input/playground-series-s5e5/train.csv\n",
      "/kaggle/input/playground-series-s5e5/test.csv\n"
     ]
    },
    {
     "data": {
      "text/plain": [
       "<Figure size 1760x1100 with 0 Axes>"
      ]
     },
     "metadata": {},
     "output_type": "display_data"
    }
   ],
   "source": [
    "# This Python 3 environment comes with many helpful analytics libraries installed\n",
    "# It is defined by the kaggle/python Docker image: https://github.com/kaggle/docker-python\n",
    "# For example, here's several helpful packages to load\n",
    "%load_ext cudf.pandas\n",
    "import numpy as np # linear algebra\n",
    "import pandas as pd # data processing, CSV file I/O (e.g. pd.read_csv)\n",
    "import matplotlib.pyplot as plt\n",
    "import seaborn as sns\n",
    "\n",
    "# Setting Matplotlib defaults\n",
    "plt.style.use('seaborn-v0_8')\n",
    "plt.rc('figure', figsize=(8,5), dpi=220)\n",
    "plt.rc('axes', labelweight='bold', labelsize='large',\n",
    "       titleweight='bold', titlesize=15, titlepad=10)\n",
    "plt.rc('animation', html='html5')\n",
    "plt.tight_layout()\n",
    "# Input data files are available in the read-only \"../input/\" directory\n",
    "# For example, running this (by clicking run or pressing Shift+Enter) will list all files under the input directory\n",
    "\n",
    "import os\n",
    "for dirname, _, filenames in os.walk('/kaggle/input'):\n",
    "    for filename in filenames:\n",
    "        print(os.path.join(dirname, filename))\n",
    "        \n",
    "import warnings\n",
    "warnings.simplefilter('ignore')\n",
    "\n",
    "pd.set_option('display.max_columns', 500)\n",
    "\n",
    "# You can write up to 20GB to the current directory (/kaggle/working/) that gets preserved as output when you create a version using \"Save & Run All\" \n",
    "# You can also write temporary files to /kaggle/temp/, but they won't be saved outside of the current session"
   ]
  },
  {
   "cell_type": "code",
   "execution_count": 2,
   "id": "73f140eb",
   "metadata": {
    "execution": {
     "iopub.execute_input": "2025-05-03T07:50:24.147691Z",
     "iopub.status.busy": "2025-05-03T07:50:24.147304Z",
     "iopub.status.idle": "2025-05-03T07:50:24.690142Z",
     "shell.execute_reply": "2025-05-03T07:50:24.689424Z"
    },
    "papermill": {
     "duration": 0.548472,
     "end_time": "2025-05-03T07:50:24.691582",
     "exception": false,
     "start_time": "2025-05-03T07:50:24.143110",
     "status": "completed"
    },
    "tags": []
   },
   "outputs": [],
   "source": [
    "train = pd.read_csv('/kaggle/input/playground-series-s5e5/train.csv', index_col='id')\n",
    "test = pd.read_csv('/kaggle/input/playground-series-s5e5/test.csv', index_col='id')"
   ]
  },
  {
   "cell_type": "markdown",
   "id": "7488e0eb",
   "metadata": {
    "papermill": {
     "duration": 0.003419,
     "end_time": "2025-05-03T07:50:24.698847",
     "exception": false,
     "start_time": "2025-05-03T07:50:24.695428",
     "status": "completed"
    },
    "tags": []
   },
   "source": [
    "# Data Understanding"
   ]
  },
  {
   "cell_type": "code",
   "execution_count": 3,
   "id": "6ffc402d",
   "metadata": {
    "execution": {
     "iopub.execute_input": "2025-05-03T07:50:24.706205Z",
     "iopub.status.busy": "2025-05-03T07:50:24.705986Z",
     "iopub.status.idle": "2025-05-03T07:50:24.710585Z",
     "shell.execute_reply": "2025-05-03T07:50:24.710061Z"
    },
    "papermill": {
     "duration": 0.009506,
     "end_time": "2025-05-03T07:50:24.711628",
     "exception": false,
     "start_time": "2025-05-03T07:50:24.702122",
     "status": "completed"
    },
    "tags": []
   },
   "outputs": [
    {
     "data": {
      "text/plain": [
       "(750000, 8)"
      ]
     },
     "execution_count": 3,
     "metadata": {},
     "output_type": "execute_result"
    }
   ],
   "source": [
    "train.shape"
   ]
  },
  {
   "cell_type": "code",
   "execution_count": 4,
   "id": "7946b904",
   "metadata": {
    "execution": {
     "iopub.execute_input": "2025-05-03T07:50:24.718989Z",
     "iopub.status.busy": "2025-05-03T07:50:24.718805Z",
     "iopub.status.idle": "2025-05-03T07:50:24.722973Z",
     "shell.execute_reply": "2025-05-03T07:50:24.722334Z"
    },
    "papermill": {
     "duration": 0.009105,
     "end_time": "2025-05-03T07:50:24.724036",
     "exception": false,
     "start_time": "2025-05-03T07:50:24.714931",
     "status": "completed"
    },
    "tags": []
   },
   "outputs": [
    {
     "data": {
      "text/plain": [
       "(250000, 7)"
      ]
     },
     "execution_count": 4,
     "metadata": {},
     "output_type": "execute_result"
    }
   ],
   "source": [
    "test.shape"
   ]
  },
  {
   "cell_type": "code",
   "execution_count": 5,
   "id": "526cf3ac",
   "metadata": {
    "execution": {
     "iopub.execute_input": "2025-05-03T07:50:24.731961Z",
     "iopub.status.busy": "2025-05-03T07:50:24.731550Z",
     "iopub.status.idle": "2025-05-03T07:50:24.779075Z",
     "shell.execute_reply": "2025-05-03T07:50:24.778414Z"
    },
    "papermill": {
     "duration": 0.052565,
     "end_time": "2025-05-03T07:50:24.780053",
     "exception": false,
     "start_time": "2025-05-03T07:50:24.727488",
     "status": "completed"
    },
    "tags": []
   },
   "outputs": [
    {
     "data": {
      "text/html": [
       "<div>\n",
       "<style scoped>\n",
       "    .dataframe tbody tr th:only-of-type {\n",
       "        vertical-align: middle;\n",
       "    }\n",
       "\n",
       "    .dataframe tbody tr th {\n",
       "        vertical-align: top;\n",
       "    }\n",
       "\n",
       "    .dataframe thead th {\n",
       "        text-align: right;\n",
       "    }\n",
       "</style>\n",
       "<table border=\"1\" class=\"dataframe\">\n",
       "  <thead>\n",
       "    <tr style=\"text-align: right;\">\n",
       "      <th></th>\n",
       "      <th>Sex</th>\n",
       "      <th>Age</th>\n",
       "      <th>Height</th>\n",
       "      <th>Weight</th>\n",
       "      <th>Duration</th>\n",
       "      <th>Heart_Rate</th>\n",
       "      <th>Body_Temp</th>\n",
       "      <th>Calories</th>\n",
       "    </tr>\n",
       "    <tr>\n",
       "      <th>id</th>\n",
       "      <th></th>\n",
       "      <th></th>\n",
       "      <th></th>\n",
       "      <th></th>\n",
       "      <th></th>\n",
       "      <th></th>\n",
       "      <th></th>\n",
       "      <th></th>\n",
       "    </tr>\n",
       "  </thead>\n",
       "  <tbody>\n",
       "    <tr>\n",
       "      <th>0</th>\n",
       "      <td>male</td>\n",
       "      <td>36</td>\n",
       "      <td>189.0</td>\n",
       "      <td>82.0</td>\n",
       "      <td>26.0</td>\n",
       "      <td>101.0</td>\n",
       "      <td>41.0</td>\n",
       "      <td>150.0</td>\n",
       "    </tr>\n",
       "    <tr>\n",
       "      <th>1</th>\n",
       "      <td>female</td>\n",
       "      <td>64</td>\n",
       "      <td>163.0</td>\n",
       "      <td>60.0</td>\n",
       "      <td>8.0</td>\n",
       "      <td>85.0</td>\n",
       "      <td>39.7</td>\n",
       "      <td>34.0</td>\n",
       "    </tr>\n",
       "    <tr>\n",
       "      <th>2</th>\n",
       "      <td>female</td>\n",
       "      <td>51</td>\n",
       "      <td>161.0</td>\n",
       "      <td>64.0</td>\n",
       "      <td>7.0</td>\n",
       "      <td>84.0</td>\n",
       "      <td>39.8</td>\n",
       "      <td>29.0</td>\n",
       "    </tr>\n",
       "    <tr>\n",
       "      <th>3</th>\n",
       "      <td>male</td>\n",
       "      <td>20</td>\n",
       "      <td>192.0</td>\n",
       "      <td>90.0</td>\n",
       "      <td>25.0</td>\n",
       "      <td>105.0</td>\n",
       "      <td>40.7</td>\n",
       "      <td>140.0</td>\n",
       "    </tr>\n",
       "    <tr>\n",
       "      <th>4</th>\n",
       "      <td>female</td>\n",
       "      <td>38</td>\n",
       "      <td>166.0</td>\n",
       "      <td>61.0</td>\n",
       "      <td>25.0</td>\n",
       "      <td>102.0</td>\n",
       "      <td>40.6</td>\n",
       "      <td>146.0</td>\n",
       "    </tr>\n",
       "    <tr>\n",
       "      <th>5</th>\n",
       "      <td>female</td>\n",
       "      <td>26</td>\n",
       "      <td>156.0</td>\n",
       "      <td>56.0</td>\n",
       "      <td>19.0</td>\n",
       "      <td>100.0</td>\n",
       "      <td>40.5</td>\n",
       "      <td>103.0</td>\n",
       "    </tr>\n",
       "    <tr>\n",
       "      <th>6</th>\n",
       "      <td>female</td>\n",
       "      <td>21</td>\n",
       "      <td>172.0</td>\n",
       "      <td>73.0</td>\n",
       "      <td>3.0</td>\n",
       "      <td>81.0</td>\n",
       "      <td>38.3</td>\n",
       "      <td>9.0</td>\n",
       "    </tr>\n",
       "    <tr>\n",
       "      <th>7</th>\n",
       "      <td>male</td>\n",
       "      <td>46</td>\n",
       "      <td>188.0</td>\n",
       "      <td>94.0</td>\n",
       "      <td>23.0</td>\n",
       "      <td>100.0</td>\n",
       "      <td>40.8</td>\n",
       "      <td>145.0</td>\n",
       "    </tr>\n",
       "    <tr>\n",
       "      <th>8</th>\n",
       "      <td>female</td>\n",
       "      <td>33</td>\n",
       "      <td>166.0</td>\n",
       "      <td>63.0</td>\n",
       "      <td>25.0</td>\n",
       "      <td>107.0</td>\n",
       "      <td>40.5</td>\n",
       "      <td>161.0</td>\n",
       "    </tr>\n",
       "    <tr>\n",
       "      <th>9</th>\n",
       "      <td>male</td>\n",
       "      <td>65</td>\n",
       "      <td>185.0</td>\n",
       "      <td>88.0</td>\n",
       "      <td>23.0</td>\n",
       "      <td>104.0</td>\n",
       "      <td>41.0</td>\n",
       "      <td>185.0</td>\n",
       "    </tr>\n",
       "  </tbody>\n",
       "</table>\n",
       "</div>"
      ],
      "text/plain": [
       "       Sex  Age  Height  Weight  Duration  Heart_Rate  Body_Temp  Calories\n",
       "id                                                                        \n",
       "0     male   36   189.0    82.0      26.0       101.0       41.0     150.0\n",
       "1   female   64   163.0    60.0       8.0        85.0       39.7      34.0\n",
       "2   female   51   161.0    64.0       7.0        84.0       39.8      29.0\n",
       "3     male   20   192.0    90.0      25.0       105.0       40.7     140.0\n",
       "4   female   38   166.0    61.0      25.0       102.0       40.6     146.0\n",
       "5   female   26   156.0    56.0      19.0       100.0       40.5     103.0\n",
       "6   female   21   172.0    73.0       3.0        81.0       38.3       9.0\n",
       "7     male   46   188.0    94.0      23.0       100.0       40.8     145.0\n",
       "8   female   33   166.0    63.0      25.0       107.0       40.5     161.0\n",
       "9     male   65   185.0    88.0      23.0       104.0       41.0     185.0"
      ]
     },
     "execution_count": 5,
     "metadata": {},
     "output_type": "execute_result"
    }
   ],
   "source": [
    "train.head(10)"
   ]
  },
  {
   "cell_type": "code",
   "execution_count": 6,
   "id": "1817ecf6",
   "metadata": {
    "execution": {
     "iopub.execute_input": "2025-05-03T07:50:24.788439Z",
     "iopub.status.busy": "2025-05-03T07:50:24.787919Z",
     "iopub.status.idle": "2025-05-03T07:50:25.958437Z",
     "shell.execute_reply": "2025-05-03T07:50:25.957748Z"
    },
    "papermill": {
     "duration": 1.176022,
     "end_time": "2025-05-03T07:50:25.959788",
     "exception": false,
     "start_time": "2025-05-03T07:50:24.783766",
     "status": "completed"
    },
    "tags": []
   },
   "outputs": [
    {
     "data": {
      "text/html": [
       "<div>\n",
       "<style scoped>\n",
       "    .dataframe tbody tr th:only-of-type {\n",
       "        vertical-align: middle;\n",
       "    }\n",
       "\n",
       "    .dataframe tbody tr th {\n",
       "        vertical-align: top;\n",
       "    }\n",
       "\n",
       "    .dataframe thead th {\n",
       "        text-align: right;\n",
       "    }\n",
       "</style>\n",
       "<table border=\"1\" class=\"dataframe\">\n",
       "  <thead>\n",
       "    <tr style=\"text-align: right;\">\n",
       "      <th></th>\n",
       "      <th>Age</th>\n",
       "      <th>Height</th>\n",
       "      <th>Weight</th>\n",
       "      <th>Duration</th>\n",
       "      <th>Heart_Rate</th>\n",
       "      <th>Body_Temp</th>\n",
       "      <th>Calories</th>\n",
       "    </tr>\n",
       "  </thead>\n",
       "  <tbody>\n",
       "    <tr>\n",
       "      <th>count</th>\n",
       "      <td>750000.000000</td>\n",
       "      <td>750000.000000</td>\n",
       "      <td>750000.000000</td>\n",
       "      <td>750000.000000</td>\n",
       "      <td>750000.000000</td>\n",
       "      <td>750000.000000</td>\n",
       "      <td>750000.000000</td>\n",
       "    </tr>\n",
       "    <tr>\n",
       "      <th>mean</th>\n",
       "      <td>41.420404</td>\n",
       "      <td>174.697685</td>\n",
       "      <td>75.145668</td>\n",
       "      <td>15.421015</td>\n",
       "      <td>95.483995</td>\n",
       "      <td>40.036253</td>\n",
       "      <td>88.282781</td>\n",
       "    </tr>\n",
       "    <tr>\n",
       "      <th>std</th>\n",
       "      <td>15.175049</td>\n",
       "      <td>12.824496</td>\n",
       "      <td>13.982704</td>\n",
       "      <td>8.354095</td>\n",
       "      <td>9.449845</td>\n",
       "      <td>0.779875</td>\n",
       "      <td>62.395349</td>\n",
       "    </tr>\n",
       "    <tr>\n",
       "      <th>min</th>\n",
       "      <td>20.000000</td>\n",
       "      <td>126.000000</td>\n",
       "      <td>36.000000</td>\n",
       "      <td>1.000000</td>\n",
       "      <td>67.000000</td>\n",
       "      <td>37.100000</td>\n",
       "      <td>1.000000</td>\n",
       "    </tr>\n",
       "    <tr>\n",
       "      <th>25%</th>\n",
       "      <td>28.000000</td>\n",
       "      <td>164.000000</td>\n",
       "      <td>63.000000</td>\n",
       "      <td>8.000000</td>\n",
       "      <td>88.000000</td>\n",
       "      <td>39.600000</td>\n",
       "      <td>34.000000</td>\n",
       "    </tr>\n",
       "    <tr>\n",
       "      <th>50%</th>\n",
       "      <td>40.000000</td>\n",
       "      <td>174.000000</td>\n",
       "      <td>74.000000</td>\n",
       "      <td>15.000000</td>\n",
       "      <td>95.000000</td>\n",
       "      <td>40.300000</td>\n",
       "      <td>77.000000</td>\n",
       "    </tr>\n",
       "    <tr>\n",
       "      <th>75%</th>\n",
       "      <td>52.000000</td>\n",
       "      <td>185.000000</td>\n",
       "      <td>87.000000</td>\n",
       "      <td>23.000000</td>\n",
       "      <td>103.000000</td>\n",
       "      <td>40.700000</td>\n",
       "      <td>136.000000</td>\n",
       "    </tr>\n",
       "    <tr>\n",
       "      <th>max</th>\n",
       "      <td>79.000000</td>\n",
       "      <td>222.000000</td>\n",
       "      <td>132.000000</td>\n",
       "      <td>30.000000</td>\n",
       "      <td>128.000000</td>\n",
       "      <td>41.500000</td>\n",
       "      <td>314.000000</td>\n",
       "    </tr>\n",
       "  </tbody>\n",
       "</table>\n",
       "</div>"
      ],
      "text/plain": [
       "                 Age         Height         Weight       Duration  \\\n",
       "count  750000.000000  750000.000000  750000.000000  750000.000000   \n",
       "mean       41.420404     174.697685      75.145668      15.421015   \n",
       "std        15.175049      12.824496      13.982704       8.354095   \n",
       "min        20.000000     126.000000      36.000000       1.000000   \n",
       "25%        28.000000     164.000000      63.000000       8.000000   \n",
       "50%        40.000000     174.000000      74.000000      15.000000   \n",
       "75%        52.000000     185.000000      87.000000      23.000000   \n",
       "max        79.000000     222.000000     132.000000      30.000000   \n",
       "\n",
       "          Heart_Rate      Body_Temp       Calories  \n",
       "count  750000.000000  750000.000000  750000.000000  \n",
       "mean       95.483995      40.036253      88.282781  \n",
       "std         9.449845       0.779875      62.395349  \n",
       "min        67.000000      37.100000       1.000000  \n",
       "25%        88.000000      39.600000      34.000000  \n",
       "50%        95.000000      40.300000      77.000000  \n",
       "75%       103.000000      40.700000     136.000000  \n",
       "max       128.000000      41.500000     314.000000  "
      ]
     },
     "execution_count": 6,
     "metadata": {},
     "output_type": "execute_result"
    }
   ],
   "source": [
    "train.describe()"
   ]
  },
  {
   "cell_type": "code",
   "execution_count": 7,
   "id": "62a7ca43",
   "metadata": {
    "execution": {
     "iopub.execute_input": "2025-05-03T07:50:25.969645Z",
     "iopub.status.busy": "2025-05-03T07:50:25.969438Z",
     "iopub.status.idle": "2025-05-03T07:50:26.163358Z",
     "shell.execute_reply": "2025-05-03T07:50:26.162713Z"
    },
    "papermill": {
     "duration": 0.19974,
     "end_time": "2025-05-03T07:50:26.164529",
     "exception": false,
     "start_time": "2025-05-03T07:50:25.964789",
     "status": "completed"
    },
    "tags": []
   },
   "outputs": [
    {
     "data": {
      "text/plain": [
       "Sex           0\n",
       "Age           0\n",
       "Height        0\n",
       "Weight        0\n",
       "Duration      0\n",
       "Heart_Rate    0\n",
       "Body_Temp     0\n",
       "Calories      0\n",
       "dtype: int64"
      ]
     },
     "execution_count": 7,
     "metadata": {},
     "output_type": "execute_result"
    }
   ],
   "source": [
    "train.isnull().sum()"
   ]
  },
  {
   "cell_type": "code",
   "execution_count": 8,
   "id": "27bf142f",
   "metadata": {
    "execution": {
     "iopub.execute_input": "2025-05-03T07:50:26.174182Z",
     "iopub.status.busy": "2025-05-03T07:50:26.173671Z",
     "iopub.status.idle": "2025-05-03T07:50:26.185972Z",
     "shell.execute_reply": "2025-05-03T07:50:26.185173Z"
    },
    "papermill": {
     "duration": 0.018096,
     "end_time": "2025-05-03T07:50:26.187141",
     "exception": false,
     "start_time": "2025-05-03T07:50:26.169045",
     "status": "completed"
    },
    "tags": []
   },
   "outputs": [
    {
     "name": "stdout",
     "output_type": "stream",
     "text": [
      "<class 'cudf.core.dataframe.DataFrame'>\n",
      "Index: 750000 entries, 0 to 749999\n",
      "Data columns (total 8 columns):\n",
      " #   Column      Non-Null Count   Dtype\n",
      "---  ------      --------------   -----\n",
      " 0   Sex         750000 non-null  object\n",
      " 1   Age         750000 non-null  int64\n",
      " 2   Height      750000 non-null  float64\n",
      " 3   Weight      750000 non-null  float64\n",
      " 4   Duration    750000 non-null  float64\n",
      " 5   Heart_Rate  750000 non-null  float64\n",
      " 6   Body_Temp   750000 non-null  float64\n",
      " 7   Calories    750000 non-null  float64\n",
      "dtypes: float64(6), int64(1), object(1)\n",
      "memory usage: 52.2+ MB\n"
     ]
    }
   ],
   "source": [
    "train.info()"
   ]
  },
  {
   "cell_type": "markdown",
   "id": "bdb56674",
   "metadata": {
    "papermill": {
     "duration": 0.004258,
     "end_time": "2025-05-03T07:50:26.195557",
     "exception": false,
     "start_time": "2025-05-03T07:50:26.191299",
     "status": "completed"
    },
    "tags": []
   },
   "source": [
    "# Data Preprocessing"
   ]
  },
  {
   "cell_type": "markdown",
   "id": "43d3cd51",
   "metadata": {
    "papermill": {
     "duration": 0.003695,
     "end_time": "2025-05-03T07:50:26.203352",
     "exception": false,
     "start_time": "2025-05-03T07:50:26.199657",
     "status": "completed"
    },
    "tags": []
   },
   "source": [
    "## Reducing memory usage"
   ]
  },
  {
   "cell_type": "code",
   "execution_count": 9,
   "id": "f16af4ac",
   "metadata": {
    "execution": {
     "iopub.execute_input": "2025-05-03T07:50:26.212130Z",
     "iopub.status.busy": "2025-05-03T07:50:26.211656Z",
     "iopub.status.idle": "2025-05-03T07:50:26.263174Z",
     "shell.execute_reply": "2025-05-03T07:50:26.262490Z"
    },
    "papermill": {
     "duration": 0.057298,
     "end_time": "2025-05-03T07:50:26.264475",
     "exception": false,
     "start_time": "2025-05-03T07:50:26.207177",
     "status": "completed"
    },
    "tags": []
   },
   "outputs": [],
   "source": [
    "train['Sex'] = train['Sex'].astype('category')\n",
    "test['Sex'] = test['Sex'].astype('category')"
   ]
  },
  {
   "cell_type": "code",
   "execution_count": 10,
   "id": "8bbe3ef2",
   "metadata": {
    "execution": {
     "iopub.execute_input": "2025-05-03T07:50:26.276563Z",
     "iopub.status.busy": "2025-05-03T07:50:26.276164Z",
     "iopub.status.idle": "2025-05-03T07:50:26.281129Z",
     "shell.execute_reply": "2025-05-03T07:50:26.280668Z"
    },
    "papermill": {
     "duration": 0.010681,
     "end_time": "2025-05-03T07:50:26.282134",
     "exception": false,
     "start_time": "2025-05-03T07:50:26.271453",
     "status": "completed"
    },
    "tags": []
   },
   "outputs": [],
   "source": [
    "train['Age'] = train['Age'].astype('int8')\n",
    "test['Age'] = test['Age'].astype('int8')"
   ]
  },
  {
   "cell_type": "code",
   "execution_count": 11,
   "id": "154ebc35",
   "metadata": {
    "execution": {
     "iopub.execute_input": "2025-05-03T07:50:26.291515Z",
     "iopub.status.busy": "2025-05-03T07:50:26.291083Z",
     "iopub.status.idle": "2025-05-03T07:50:26.748544Z",
     "shell.execute_reply": "2025-05-03T07:50:26.747933Z"
    },
    "papermill": {
     "duration": 0.46357,
     "end_time": "2025-05-03T07:50:26.749836",
     "exception": false,
     "start_time": "2025-05-03T07:50:26.286266",
     "status": "completed"
    },
    "tags": []
   },
   "outputs": [],
   "source": [
    "num_cols = test.select_dtypes(include='float64').columns\n",
    "for col in num_cols:\n",
    "    train[num_cols] = train[num_cols].astype('float32')\n",
    "    test[num_cols] = test[num_cols].astype('float32')"
   ]
  },
  {
   "cell_type": "code",
   "execution_count": 12,
   "id": "21966bd9",
   "metadata": {
    "execution": {
     "iopub.execute_input": "2025-05-03T07:50:26.759215Z",
     "iopub.status.busy": "2025-05-03T07:50:26.758799Z",
     "iopub.status.idle": "2025-05-03T07:50:26.777059Z",
     "shell.execute_reply": "2025-05-03T07:50:26.776414Z"
    },
    "papermill": {
     "duration": 0.023921,
     "end_time": "2025-05-03T07:50:26.778112",
     "exception": false,
     "start_time": "2025-05-03T07:50:26.754191",
     "status": "completed"
    },
    "tags": []
   },
   "outputs": [
    {
     "name": "stdout",
     "output_type": "stream",
     "text": [
      "<class 'cudf.core.dataframe.DataFrame'>\n",
      "Index: 750000 entries, 0 to 749999\n",
      "Data columns (total 8 columns):\n",
      " #   Column      Non-Null Count   Dtype\n",
      "---  ------      --------------   -----\n",
      " 0   Sex         750000 non-null  category\n",
      " 1   Age         750000 non-null  int8\n",
      " 2   Height      750000 non-null  float32\n",
      " 3   Weight      750000 non-null  float32\n",
      " 4   Duration    750000 non-null  float32\n",
      " 5   Heart_Rate  750000 non-null  float32\n",
      " 6   Body_Temp   750000 non-null  float32\n",
      " 7   Calories    750000 non-null  float64\n",
      "dtypes: category(1), float32(5), float64(1), int8(1)\n",
      "memory usage: 27.2 MB\n"
     ]
    }
   ],
   "source": [
    "train.info()"
   ]
  },
  {
   "cell_type": "code",
   "execution_count": 13,
   "id": "50eb028a",
   "metadata": {
    "execution": {
     "iopub.execute_input": "2025-05-03T07:50:26.788190Z",
     "iopub.status.busy": "2025-05-03T07:50:26.787808Z",
     "iopub.status.idle": "2025-05-03T07:50:27.581001Z",
     "shell.execute_reply": "2025-05-03T07:50:27.580478Z"
    },
    "papermill": {
     "duration": 0.79952,
     "end_time": "2025-05-03T07:50:27.582245",
     "exception": false,
     "start_time": "2025-05-03T07:50:26.782725",
     "status": "completed"
    },
    "tags": []
   },
   "outputs": [],
   "source": [
    "from sklearn.preprocessing import KBinsDiscretizer\n",
    "\n",
    "kmeans = KBinsDiscretizer(n_bins=4, encode='ordinal', strategy='kmeans')\n",
    "train['age_bins'] = kmeans.fit_transform(train[['Age']])\n",
    "test['age_bins'] = kmeans.transform(test[['Age']])"
   ]
  },
  {
   "cell_type": "markdown",
   "id": "60a29532",
   "metadata": {
    "papermill": {
     "duration": 0.004085,
     "end_time": "2025-05-03T07:50:27.590792",
     "exception": false,
     "start_time": "2025-05-03T07:50:27.586707",
     "status": "completed"
    },
    "tags": []
   },
   "source": [
    "# Feature Understanding via Data Visualization"
   ]
  },
  {
   "cell_type": "code",
   "execution_count": 14,
   "id": "dd407af4",
   "metadata": {
    "execution": {
     "iopub.execute_input": "2025-05-03T07:50:27.599791Z",
     "iopub.status.busy": "2025-05-03T07:50:27.599590Z",
     "iopub.status.idle": "2025-05-03T07:50:27.827505Z",
     "shell.execute_reply": "2025-05-03T07:50:27.826970Z"
    },
    "papermill": {
     "duration": 0.234049,
     "end_time": "2025-05-03T07:50:27.828894",
     "exception": false,
     "start_time": "2025-05-03T07:50:27.594845",
     "status": "completed"
    },
    "tags": []
   },
   "outputs": [],
   "source": [
    "from sklearn.preprocessing import LabelEncoder\n",
    "\n",
    "le = LabelEncoder()\n",
    "train['Sex'] = le.fit_transform(train['Sex']).astype('int8')\n",
    "test['Sex'] = le.transform(test['Sex']).astype('int8')"
   ]
  },
  {
   "cell_type": "code",
   "execution_count": 15,
   "id": "f6c76895",
   "metadata": {
    "execution": {
     "iopub.execute_input": "2025-05-03T07:50:27.838604Z",
     "iopub.status.busy": "2025-05-03T07:50:27.838358Z",
     "iopub.status.idle": "2025-05-03T07:50:27.844077Z",
     "shell.execute_reply": "2025-05-03T07:50:27.843550Z"
    },
    "papermill": {
     "duration": 0.011515,
     "end_time": "2025-05-03T07:50:27.845127",
     "exception": false,
     "start_time": "2025-05-03T07:50:27.833612",
     "status": "completed"
    },
    "tags": []
   },
   "outputs": [
    {
     "data": {
      "text/plain": [
       "Index(['Sex', 'Age', 'Height', 'Weight', 'Duration', 'Heart_Rate', 'Body_Temp',\n",
       "       'Calories', 'age_bins'],\n",
       "      dtype='object')"
      ]
     },
     "execution_count": 15,
     "metadata": {},
     "output_type": "execute_result"
    }
   ],
   "source": [
    "train.columns"
   ]
  },
  {
   "cell_type": "code",
   "execution_count": 16,
   "id": "ce0235b2",
   "metadata": {
    "execution": {
     "iopub.execute_input": "2025-05-03T07:50:27.854248Z",
     "iopub.status.busy": "2025-05-03T07:50:27.854048Z",
     "iopub.status.idle": "2025-05-03T07:50:27.856951Z",
     "shell.execute_reply": "2025-05-03T07:50:27.856539Z"
    },
    "papermill": {
     "duration": 0.008513,
     "end_time": "2025-05-03T07:50:27.857930",
     "exception": false,
     "start_time": "2025-05-03T07:50:27.849417",
     "status": "completed"
    },
    "tags": []
   },
   "outputs": [],
   "source": [
    "features = ['Sex', 'Age', 'Height', 'Weight', 'Duration', 'Heart_Rate', 'Body_Temp']"
   ]
  },
  {
   "cell_type": "code",
   "execution_count": 17,
   "id": "56f3339c",
   "metadata": {
    "execution": {
     "iopub.execute_input": "2025-05-03T07:50:27.866675Z",
     "iopub.status.busy": "2025-05-03T07:50:27.866484Z",
     "iopub.status.idle": "2025-05-03T07:50:27.869978Z",
     "shell.execute_reply": "2025-05-03T07:50:27.869525Z"
    },
    "papermill": {
     "duration": 0.008936,
     "end_time": "2025-05-03T07:50:27.870973",
     "exception": false,
     "start_time": "2025-05-03T07:50:27.862037",
     "status": "completed"
    },
    "tags": []
   },
   "outputs": [],
   "source": [
    "def add_features(df):\n",
    "    for i, c1 in enumerate(features):\n",
    "        for c2 in (features[i+1:]):\n",
    "            m = f'{c1}*{c2}'\n",
    "            df[m] = df[c1] * df[c2]\n",
    "    return df"
   ]
  },
  {
   "cell_type": "code",
   "execution_count": 18,
   "id": "c8095cc8",
   "metadata": {
    "execution": {
     "iopub.execute_input": "2025-05-03T07:50:27.880033Z",
     "iopub.status.busy": "2025-05-03T07:50:27.879844Z",
     "iopub.status.idle": "2025-05-03T07:50:27.883804Z",
     "shell.execute_reply": "2025-05-03T07:50:27.883310Z"
    },
    "papermill": {
     "duration": 0.009663,
     "end_time": "2025-05-03T07:50:27.884769",
     "exception": false,
     "start_time": "2025-05-03T07:50:27.875106",
     "status": "completed"
    },
    "tags": []
   },
   "outputs": [],
   "source": [
    "def feature_transform(df):\n",
    "    df['duration_expo'] = df['Duration'] ** 2\n",
    "    df['duration_log'] = np.log1p(df['Duration'])\n",
    "\n",
    "    df['heart_expo'] = df['Heart_Rate'] ** 2\n",
    "    df['heart_log'] = np.log1p(df['Heart_Rate'])\n",
    "\n",
    "    df['body_expo'] = df['Body_Temp'] ** 2\n",
    "    df['body_log'] = np.log1p(df['Body_Temp'] ** 2)\n",
    "\n",
    "\n",
    "    df['BMI'] = df['Weight'] / (df['Height'] ** 2)\n",
    "    \n",
    "    return df"
   ]
  },
  {
   "cell_type": "code",
   "execution_count": 19,
   "id": "97351689",
   "metadata": {
    "execution": {
     "iopub.execute_input": "2025-05-03T07:50:27.893635Z",
     "iopub.status.busy": "2025-05-03T07:50:27.893430Z",
     "iopub.status.idle": "2025-05-03T07:50:27.899074Z",
     "shell.execute_reply": "2025-05-03T07:50:27.898420Z"
    },
    "papermill": {
     "duration": 0.011201,
     "end_time": "2025-05-03T07:50:27.900124",
     "exception": false,
     "start_time": "2025-05-03T07:50:27.888923",
     "status": "completed"
    },
    "tags": []
   },
   "outputs": [
    {
     "data": {
      "text/plain": [
       "Index(['Sex', 'Age', 'Height', 'Weight', 'Duration', 'Heart_Rate', 'Body_Temp',\n",
       "       'Calories', 'age_bins'],\n",
       "      dtype='object')"
      ]
     },
     "execution_count": 19,
     "metadata": {},
     "output_type": "execute_result"
    }
   ],
   "source": [
    "train.columns"
   ]
  },
  {
   "cell_type": "code",
   "execution_count": 20,
   "id": "090b4b3c",
   "metadata": {
    "execution": {
     "iopub.execute_input": "2025-05-03T07:50:27.909858Z",
     "iopub.status.busy": "2025-05-03T07:50:27.909492Z",
     "iopub.status.idle": "2025-05-03T07:50:28.256001Z",
     "shell.execute_reply": "2025-05-03T07:50:28.255479Z"
    },
    "papermill": {
     "duration": 0.35277,
     "end_time": "2025-05-03T07:50:28.257270",
     "exception": false,
     "start_time": "2025-05-03T07:50:27.904500",
     "status": "completed"
    },
    "tags": []
   },
   "outputs": [],
   "source": [
    "X = train.copy()\n",
    "y = X.pop('Calories')\n",
    "y = np.log1p(y)\n",
    "X = add_features(X)\n",
    "X = feature_transform(X)\n",
    "\n",
    "X_test = test.copy()\n",
    "X_test = add_features(X_test)\n",
    "X_test = feature_transform(X_test)"
   ]
  },
  {
   "cell_type": "code",
   "execution_count": 21,
   "id": "d85c01ce",
   "metadata": {
    "execution": {
     "iopub.execute_input": "2025-05-03T07:50:28.266989Z",
     "iopub.status.busy": "2025-05-03T07:50:28.266778Z",
     "iopub.status.idle": "2025-05-03T08:07:25.379436Z",
     "shell.execute_reply": "2025-05-03T08:07:25.378723Z"
    },
    "papermill": {
     "duration": 1017.123262,
     "end_time": "2025-05-03T08:07:25.385084",
     "exception": false,
     "start_time": "2025-05-03T07:50:28.261822",
     "status": "completed"
    },
    "tags": []
   },
   "outputs": [
    {
     "name": "stderr",
     "output_type": "stream",
     "text": [
      "[I 2025-05-03 07:50:28,462] A new study created in memory with name: XGB-RMSE-Optimization\n",
      "[I 2025-05-03 07:51:00,663] Trial 0 finished with value: 0.06049205819957685 and parameters: {'n_estimators': 1928, 'learning_rate': 0.09363150579450871, 'max_depth': 10, 'min_child_weight': 1, 'reg_alpha': 0.03075394991081595, 'reg_lambda': 0.2817035407634201, 'subsample': 0.8722826957044424, 'colsample_bytree': 0.6115778352187844, 'gamma': 0.1873131849241073}. Best is trial 0 with value: 0.06049205819957685.\n",
      "[I 2025-05-03 07:51:58,576] Trial 1 finished with value: 0.06326293506271355 and parameters: {'n_estimators': 1691, 'learning_rate': 0.025471780745498277, 'max_depth': 3, 'min_child_weight': 1, 'reg_alpha': 2.5922706065581647, 'reg_lambda': 0.0278281793098291, 'subsample': 0.7812471806004735, 'colsample_bytree': 0.5070783194777522, 'gamma': 0.4302526142225117}. Best is trial 0 with value: 0.06049205819957685.\n",
      "[I 2025-05-03 07:53:38,704] Trial 2 finished with value: 0.06275369841862814 and parameters: {'n_estimators': 1722, 'learning_rate': 0.0037419642273568074, 'max_depth': 5, 'min_child_weight': 4, 'reg_alpha': 0.6668543591169929, 'reg_lambda': 0.03235661316315382, 'subsample': 0.6863239319562788, 'colsample_bytree': 0.6066848674733807, 'gamma': 0.28468007492657244}. Best is trial 0 with value: 0.06049205819957685.\n",
      "[I 2025-05-03 07:54:09,060] Trial 3 finished with value: 0.061325905820038995 and parameters: {'n_estimators': 1216, 'learning_rate': 0.054132046087640606, 'max_depth': 7, 'min_child_weight': 10, 'reg_alpha': 0.25352664627179566, 'reg_lambda': 1.4110483821673574, 'subsample': 0.8938700991132138, 'colsample_bytree': 0.7876971688290193, 'gamma': 0.8755407465344317}. Best is trial 0 with value: 0.06049205819957685.\n",
      "[I 2025-05-03 07:54:57,544] Trial 4 finished with value: 0.06219130287589532 and parameters: {'n_estimators': 781, 'learning_rate': 0.01594119999707498, 'max_depth': 5, 'min_child_weight': 5, 'reg_alpha': 3.073638961910761, 'reg_lambda': 0.017468355685749292, 'subsample': 0.5859855692788855, 'colsample_bytree': 0.7903169169421007, 'gamma': 0.332219311605519}. Best is trial 0 with value: 0.06049205819957685.\n",
      "[I 2025-05-03 07:55:43,974] Trial 5 finished with value: 0.06068657078778712 and parameters: {'n_estimators': 1457, 'learning_rate': 0.03463043922181663, 'max_depth': 9, 'min_child_weight': 8, 'reg_alpha': 0.013865362179668704, 'reg_lambda': 0.2150276216346044, 'subsample': 0.5113343574627982, 'colsample_bytree': 0.7665433718985739, 'gamma': 0.504484820378514}. Best is trial 0 with value: 0.06049205819957685.\n",
      "[I 2025-05-03 07:56:38,991] Trial 6 finished with value: 0.061946679332397184 and parameters: {'n_estimators': 853, 'learning_rate': 0.01135611535971342, 'max_depth': 5, 'min_child_weight': 8, 'reg_alpha': 0.4601018207183689, 'reg_lambda': 0.05471685027677626, 'subsample': 0.9254720360882752, 'colsample_bytree': 0.7584178643898809, 'gamma': 0.453774953820293}. Best is trial 0 with value: 0.06049205819957685.\n",
      "[I 2025-05-03 07:58:18,995] Trial 7 finished with value: 0.3092793503183314 and parameters: {'n_estimators': 1064, 'learning_rate': 0.001100007084497714, 'max_depth': 7, 'min_child_weight': 4, 'reg_alpha': 0.08023951613487065, 'reg_lambda': 0.012423469227779774, 'subsample': 0.868404978198343, 'colsample_bytree': 0.558711283899628, 'gamma': 0.9071370804671268}. Best is trial 0 with value: 0.06049205819957685.\n",
      "[I 2025-05-03 08:00:29,697] Trial 8 finished with value: 0.060179940149067926 and parameters: {'n_estimators': 1741, 'learning_rate': 0.00554486238092758, 'max_depth': 8, 'min_child_weight': 9, 'reg_alpha': 0.1904841962050974, 'reg_lambda': 9.350026485533743, 'subsample': 0.6751312370106543, 'colsample_bytree': 0.5243656549381603, 'gamma': 0.13537959286438883}. Best is trial 8 with value: 0.060179940149067926.\n",
      "[I 2025-05-03 08:01:00,297] Trial 9 finished with value: 0.06087045574596248 and parameters: {'n_estimators': 1689, 'learning_rate': 0.06287320548503252, 'max_depth': 10, 'min_child_weight': 3, 'reg_alpha': 0.03248618554017493, 'reg_lambda': 0.9296564004429403, 'subsample': 0.9936012888742223, 'colsample_bytree': 0.8860113686603049, 'gamma': 0.8451297802931672}. Best is trial 8 with value: 0.060179940149067926.\n",
      "[I 2025-05-03 08:03:51,243] Trial 10 finished with value: 0.06087734572969433 and parameters: {'n_estimators': 1964, 'learning_rate': 0.004053095542527294, 'max_depth': 8, 'min_child_weight': 10, 'reg_alpha': 7.840659227674343, 'reg_lambda': 9.474924213349396, 'subsample': 0.6843334015794246, 'colsample_bytree': 0.9665396327329115, 'gamma': 0.010493711936833017}. Best is trial 8 with value: 0.060179940149067926.\n",
      "[I 2025-05-03 08:07:25,375] Trial 11 finished with value: 0.0597235516755556 and parameters: {'n_estimators': 1952, 'learning_rate': 0.005090096686488344, 'max_depth': 10, 'min_child_weight': 1, 'reg_alpha': 0.0876804809563427, 'reg_lambda': 9.131432978987068, 'subsample': 0.7835897739791482, 'colsample_bytree': 0.6396309543441028, 'gamma': 0.042073944894950116}. Best is trial 11 with value: 0.0597235516755556.\n"
     ]
    },
    {
     "name": "stdout",
     "output_type": "stream",
     "text": [
      "Best cross-validation RMSE: 0.05972\n",
      "Best parameters: {'n_estimators': 1952, 'learning_rate': 0.005090096686488344, 'max_depth': 10, 'min_child_weight': 1, 'reg_alpha': 0.0876804809563427, 'reg_lambda': 9.131432978987068, 'subsample': 0.7835897739791482, 'colsample_bytree': 0.6396309543441028, 'gamma': 0.042073944894950116}\n"
     ]
    }
   ],
   "source": [
    "from sklearn.model_selection import cross_val_score\n",
    "import optuna\n",
    "from sklearn.model_selection import KFold\n",
    "from sklearn.metrics import mean_squared_log_error\n",
    "from xgboost import XGBRegressor\n",
    "\n",
    "n_folds = 5\n",
    "kf = KFold(n_splits=n_folds, shuffle=True, random_state=100)\n",
    "\n",
    "def objective(trial):\n",
    "    params = {\n",
    "        'n_estimators': trial.suggest_int('n_estimators', 500, 2000),\n",
    "        'learning_rate': trial.suggest_float('learning_rate', 0.001, 0.1, log=True),\n",
    "        'max_depth': trial.suggest_int('max_depth', 3, 10),\n",
    "        'min_child_weight': trial.suggest_int('min_child_weight', 1, 10),\n",
    "        'reg_alpha': trial.suggest_float('reg_alpha', 0.01, 10, log=True),\n",
    "        'reg_lambda': trial.suggest_float('reg_lambda', 0.01, 10, log=True),\n",
    "        'subsample': trial.suggest_float('subsample', 0.5, 1.0),\n",
    "        'colsample_bytree': trial.suggest_float('colsample_bytree', 0.5, 1.0),\n",
    "        'gamma': trial.suggest_float('gamma', 0.0, 1.0),\n",
    "        'eval_metric': 'rmsle',\n",
    "        'tree_method':'gpu_hist',\n",
    "        'device':'cuda',\n",
    "    }\n",
    "\n",
    "    scores = []\n",
    "    for fold, (train_index, valid_index) in enumerate(kf.split(X, y), start=1):\n",
    "        X_train, X_valid = X.iloc[train_index], X.iloc[valid_index]\n",
    "        y_train, y_valid = y.iloc[train_index], y.iloc[valid_index]\n",
    "    \n",
    "        xgb = XGBRegressor(**params, early_stopping_rounds=50, random_state=100).fit(X_train, y_train, eval_set=[(X_valid, y_valid)], verbose=0)\n",
    "        xgb_pred = xgb.predict(X_valid)\n",
    "        fold_rmse = np.sqrt(mean_squared_log_error(np.expm1(y_valid), np.expm1(xgb_pred)))\n",
    "        scores.append(fold_rmse)\n",
    "\n",
    "    return np.mean(scores)\n",
    "    \n",
    "    \n",
    "study = optuna.create_study(direction='minimize', study_name='XGB-RMSE-Optimization')\n",
    "study.optimize(objective, n_trials=12)\n",
    "\n",
    "print(f'Best cross-validation RMSE: {study.best_value:,.5f}')\n",
    "print(f'Best parameters: {study.best_params}')"
   ]
  },
  {
   "cell_type": "code",
   "execution_count": 22,
   "id": "4b20ccc9",
   "metadata": {
    "execution": {
     "iopub.execute_input": "2025-05-03T08:07:25.396913Z",
     "iopub.status.busy": "2025-05-03T08:07:25.396701Z",
     "iopub.status.idle": "2025-05-03T08:09:50.017456Z",
     "shell.execute_reply": "2025-05-03T08:09:50.016657Z"
    },
    "papermill": {
     "duration": 144.632118,
     "end_time": "2025-05-03T08:09:50.023060",
     "exception": false,
     "start_time": "2025-05-03T08:07:25.390942",
     "status": "completed"
    },
    "tags": []
   },
   "outputs": [
    {
     "name": "stdout",
     "output_type": "stream",
     "text": [
      "Your submission was successfully saved!\n",
      "       id    Calories\n",
      "0  750000   27.415216\n",
      "1  750001  108.165894\n",
      "2  750002   87.527657\n",
      "3  750003  125.835953\n",
      "4  750004   75.890327\n",
      "5  750005   21.935183\n"
     ]
    }
   ],
   "source": [
    "final_model = XGBRegressor(**study.best_params).fit(X, y)\n",
    "test_xgb = final_model.predict(X_test)\n",
    "test_xgb  = np.expm1(test_xgb)\n",
    "y_preds = np.clip(test_xgb, 1, 314)\n",
    "\n",
    "sub = pd.read_csv('/kaggle/input/playground-series-s5e5/sample_submission.csv')\n",
    "sub['Calories'] = y_preds\n",
    "sub.to_csv('submission.csv', index=False)\n",
    "print(\"Your submission was successfully saved!\")\n",
    "print(sub.head(6))"
   ]
  }
 ],
 "metadata": {
  "kaggle": {
   "accelerator": "nvidiaTeslaT4",
   "dataSources": [
    {
     "databundleVersionId": 11893428,
     "sourceId": 91716,
     "sourceType": "competition"
    }
   ],
   "dockerImageVersionId": 31012,
   "isGpuEnabled": true,
   "isInternetEnabled": true,
   "language": "python",
   "sourceType": "notebook"
  },
  "kernelspec": {
   "display_name": "Python 3",
   "language": "python",
   "name": "python3"
  },
  "language_info": {
   "codemirror_mode": {
    "name": "ipython",
    "version": 3
   },
   "file_extension": ".py",
   "mimetype": "text/x-python",
   "name": "python",
   "nbconvert_exporter": "python",
   "pygments_lexer": "ipython3",
   "version": "3.11.11"
  },
  "papermill": {
   "default_parameters": {},
   "duration": 1180.819176,
   "end_time": "2025-05-03T08:09:52.227212",
   "environment_variables": {},
   "exception": null,
   "input_path": "__notebook__.ipynb",
   "output_path": "__notebook__.ipynb",
   "parameters": {},
   "start_time": "2025-05-03T07:50:11.408036",
   "version": "2.6.0"
  }
 },
 "nbformat": 4,
 "nbformat_minor": 5
}
