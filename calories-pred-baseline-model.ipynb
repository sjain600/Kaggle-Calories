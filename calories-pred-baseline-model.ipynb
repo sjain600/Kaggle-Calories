{
 "cells": [
  {
   "cell_type": "code",
   "execution_count": 1,
   "id": "914c931a",
   "metadata": {
    "execution": {
     "iopub.execute_input": "2025-05-04T11:25:04.130976Z",
     "iopub.status.busy": "2025-05-04T11:25:04.130652Z",
     "iopub.status.idle": "2025-05-04T11:25:14.344458Z",
     "shell.execute_reply": "2025-05-04T11:25:14.343741Z"
    },
    "papermill": {
     "duration": 10.222152,
     "end_time": "2025-05-04T11:25:14.345690",
     "exception": false,
     "start_time": "2025-05-04T11:25:04.123538",
     "status": "completed"
    },
    "tags": []
   },
   "outputs": [
    {
     "name": "stdout",
     "output_type": "stream",
     "text": [
      "/kaggle/input/playground-series-s5e5/sample_submission.csv\n",
      "/kaggle/input/playground-series-s5e5/train.csv\n",
      "/kaggle/input/playground-series-s5e5/test.csv\n"
     ]
    },
    {
     "data": {
      "text/plain": [
       "<Figure size 1200x750 with 0 Axes>"
      ]
     },
     "metadata": {},
     "output_type": "display_data"
    }
   ],
   "source": [
    "# This Python 3 environment comes with many helpful analytics libraries installed\n",
    "# It is defined by the kaggle/python Docker image: https://github.com/kaggle/docker-python\n",
    "# For example, here's several helpful packages to load\n",
    "%load_ext cudf.pandas\n",
    "import numpy as np # linear algebra\n",
    "import pandas as pd # data processing, CSV file I/O (e.g. pd.read_csv)\n",
    "import matplotlib.pyplot as plt\n",
    "import seaborn as sns\n",
    "\n",
    "# Setting Matplotlib defaults\n",
    "plt.style.use('seaborn-v0_8')\n",
    "plt.rc('figure', figsize=(8,5), dpi=150)\n",
    "plt.rc('axes', labelweight='bold', labelsize='large',\n",
    "       titleweight='bold', titlesize=15, titlepad=10)\n",
    "plt.rc('animation', html='html5')\n",
    "plt.tight_layout()\n",
    "# Input data files are available in the read-only \"../input/\" directory\n",
    "# For example, running this (by clicking run or pressing Shift+Enter) will list all files under the input directory\n",
    "\n",
    "import os\n",
    "for dirname, _, filenames in os.walk('/kaggle/input'):\n",
    "    for filename in filenames:\n",
    "        print(os.path.join(dirname, filename))\n",
    "        \n",
    "import warnings\n",
    "warnings.simplefilter('ignore')\n",
    "\n",
    "pd.set_option('display.max_columns', 500)\n",
    "\n",
    "# You can write up to 20GB to the current directory (/kaggle/working/) that gets preserved as output when you create a version using \"Save & Run All\" \n",
    "# You can also write temporary files to /kaggle/temp/, but they won't be saved outside of the current session"
   ]
  },
  {
   "cell_type": "code",
   "execution_count": 2,
   "id": "c21f96a5",
   "metadata": {
    "execution": {
     "iopub.execute_input": "2025-05-04T11:25:14.355469Z",
     "iopub.status.busy": "2025-05-04T11:25:14.354799Z",
     "iopub.status.idle": "2025-05-04T11:25:15.087963Z",
     "shell.execute_reply": "2025-05-04T11:25:15.087348Z"
    },
    "papermill": {
     "duration": 0.739005,
     "end_time": "2025-05-04T11:25:15.089281",
     "exception": false,
     "start_time": "2025-05-04T11:25:14.350276",
     "status": "completed"
    },
    "tags": []
   },
   "outputs": [],
   "source": [
    "train = pd.read_csv('/kaggle/input/playground-series-s5e5/train.csv', index_col='id')\n",
    "test = pd.read_csv('/kaggle/input/playground-series-s5e5/test.csv', index_col='id')"
   ]
  },
  {
   "cell_type": "markdown",
   "id": "446fa0d8",
   "metadata": {
    "papermill": {
     "duration": 0.004087,
     "end_time": "2025-05-04T11:25:15.100069",
     "exception": false,
     "start_time": "2025-05-04T11:25:15.095982",
     "status": "completed"
    },
    "tags": []
   },
   "source": [
    "# Data Understanding"
   ]
  },
  {
   "cell_type": "code",
   "execution_count": 3,
   "id": "1e764f0e",
   "metadata": {
    "execution": {
     "iopub.execute_input": "2025-05-04T11:25:15.109214Z",
     "iopub.status.busy": "2025-05-04T11:25:15.108525Z",
     "iopub.status.idle": "2025-05-04T11:25:15.113463Z",
     "shell.execute_reply": "2025-05-04T11:25:15.112938Z"
    },
    "papermill": {
     "duration": 0.010333,
     "end_time": "2025-05-04T11:25:15.114528",
     "exception": false,
     "start_time": "2025-05-04T11:25:15.104195",
     "status": "completed"
    },
    "tags": []
   },
   "outputs": [
    {
     "data": {
      "text/plain": [
       "(250000, 7)"
      ]
     },
     "execution_count": 3,
     "metadata": {},
     "output_type": "execute_result"
    }
   ],
   "source": [
    "test.shape"
   ]
  },
  {
   "cell_type": "code",
   "execution_count": 4,
   "id": "b60268fc",
   "metadata": {
    "execution": {
     "iopub.execute_input": "2025-05-04T11:25:15.123116Z",
     "iopub.status.busy": "2025-05-04T11:25:15.122561Z",
     "iopub.status.idle": "2025-05-04T11:25:15.177222Z",
     "shell.execute_reply": "2025-05-04T11:25:15.176549Z"
    },
    "papermill": {
     "duration": 0.060102,
     "end_time": "2025-05-04T11:25:15.178319",
     "exception": false,
     "start_time": "2025-05-04T11:25:15.118217",
     "status": "completed"
    },
    "tags": []
   },
   "outputs": [
    {
     "data": {
      "text/html": [
       "<div>\n",
       "<style scoped>\n",
       "    .dataframe tbody tr th:only-of-type {\n",
       "        vertical-align: middle;\n",
       "    }\n",
       "\n",
       "    .dataframe tbody tr th {\n",
       "        vertical-align: top;\n",
       "    }\n",
       "\n",
       "    .dataframe thead th {\n",
       "        text-align: right;\n",
       "    }\n",
       "</style>\n",
       "<table border=\"1\" class=\"dataframe\">\n",
       "  <thead>\n",
       "    <tr style=\"text-align: right;\">\n",
       "      <th></th>\n",
       "      <th>Sex</th>\n",
       "      <th>Age</th>\n",
       "      <th>Height</th>\n",
       "      <th>Weight</th>\n",
       "      <th>Duration</th>\n",
       "      <th>Heart_Rate</th>\n",
       "      <th>Body_Temp</th>\n",
       "      <th>Calories</th>\n",
       "    </tr>\n",
       "    <tr>\n",
       "      <th>id</th>\n",
       "      <th></th>\n",
       "      <th></th>\n",
       "      <th></th>\n",
       "      <th></th>\n",
       "      <th></th>\n",
       "      <th></th>\n",
       "      <th></th>\n",
       "      <th></th>\n",
       "    </tr>\n",
       "  </thead>\n",
       "  <tbody>\n",
       "    <tr>\n",
       "      <th>0</th>\n",
       "      <td>male</td>\n",
       "      <td>36</td>\n",
       "      <td>189.0</td>\n",
       "      <td>82.0</td>\n",
       "      <td>26.0</td>\n",
       "      <td>101.0</td>\n",
       "      <td>41.0</td>\n",
       "      <td>150.0</td>\n",
       "    </tr>\n",
       "    <tr>\n",
       "      <th>1</th>\n",
       "      <td>female</td>\n",
       "      <td>64</td>\n",
       "      <td>163.0</td>\n",
       "      <td>60.0</td>\n",
       "      <td>8.0</td>\n",
       "      <td>85.0</td>\n",
       "      <td>39.7</td>\n",
       "      <td>34.0</td>\n",
       "    </tr>\n",
       "    <tr>\n",
       "      <th>2</th>\n",
       "      <td>female</td>\n",
       "      <td>51</td>\n",
       "      <td>161.0</td>\n",
       "      <td>64.0</td>\n",
       "      <td>7.0</td>\n",
       "      <td>84.0</td>\n",
       "      <td>39.8</td>\n",
       "      <td>29.0</td>\n",
       "    </tr>\n",
       "    <tr>\n",
       "      <th>3</th>\n",
       "      <td>male</td>\n",
       "      <td>20</td>\n",
       "      <td>192.0</td>\n",
       "      <td>90.0</td>\n",
       "      <td>25.0</td>\n",
       "      <td>105.0</td>\n",
       "      <td>40.7</td>\n",
       "      <td>140.0</td>\n",
       "    </tr>\n",
       "    <tr>\n",
       "      <th>4</th>\n",
       "      <td>female</td>\n",
       "      <td>38</td>\n",
       "      <td>166.0</td>\n",
       "      <td>61.0</td>\n",
       "      <td>25.0</td>\n",
       "      <td>102.0</td>\n",
       "      <td>40.6</td>\n",
       "      <td>146.0</td>\n",
       "    </tr>\n",
       "    <tr>\n",
       "      <th>5</th>\n",
       "      <td>female</td>\n",
       "      <td>26</td>\n",
       "      <td>156.0</td>\n",
       "      <td>56.0</td>\n",
       "      <td>19.0</td>\n",
       "      <td>100.0</td>\n",
       "      <td>40.5</td>\n",
       "      <td>103.0</td>\n",
       "    </tr>\n",
       "    <tr>\n",
       "      <th>6</th>\n",
       "      <td>female</td>\n",
       "      <td>21</td>\n",
       "      <td>172.0</td>\n",
       "      <td>73.0</td>\n",
       "      <td>3.0</td>\n",
       "      <td>81.0</td>\n",
       "      <td>38.3</td>\n",
       "      <td>9.0</td>\n",
       "    </tr>\n",
       "    <tr>\n",
       "      <th>7</th>\n",
       "      <td>male</td>\n",
       "      <td>46</td>\n",
       "      <td>188.0</td>\n",
       "      <td>94.0</td>\n",
       "      <td>23.0</td>\n",
       "      <td>100.0</td>\n",
       "      <td>40.8</td>\n",
       "      <td>145.0</td>\n",
       "    </tr>\n",
       "    <tr>\n",
       "      <th>8</th>\n",
       "      <td>female</td>\n",
       "      <td>33</td>\n",
       "      <td>166.0</td>\n",
       "      <td>63.0</td>\n",
       "      <td>25.0</td>\n",
       "      <td>107.0</td>\n",
       "      <td>40.5</td>\n",
       "      <td>161.0</td>\n",
       "    </tr>\n",
       "    <tr>\n",
       "      <th>9</th>\n",
       "      <td>male</td>\n",
       "      <td>65</td>\n",
       "      <td>185.0</td>\n",
       "      <td>88.0</td>\n",
       "      <td>23.0</td>\n",
       "      <td>104.0</td>\n",
       "      <td>41.0</td>\n",
       "      <td>185.0</td>\n",
       "    </tr>\n",
       "  </tbody>\n",
       "</table>\n",
       "</div>"
      ],
      "text/plain": [
       "       Sex  Age  Height  Weight  Duration  Heart_Rate  Body_Temp  Calories\n",
       "id                                                                        \n",
       "0     male   36   189.0    82.0      26.0       101.0       41.0     150.0\n",
       "1   female   64   163.0    60.0       8.0        85.0       39.7      34.0\n",
       "2   female   51   161.0    64.0       7.0        84.0       39.8      29.0\n",
       "3     male   20   192.0    90.0      25.0       105.0       40.7     140.0\n",
       "4   female   38   166.0    61.0      25.0       102.0       40.6     146.0\n",
       "5   female   26   156.0    56.0      19.0       100.0       40.5     103.0\n",
       "6   female   21   172.0    73.0       3.0        81.0       38.3       9.0\n",
       "7     male   46   188.0    94.0      23.0       100.0       40.8     145.0\n",
       "8   female   33   166.0    63.0      25.0       107.0       40.5     161.0\n",
       "9     male   65   185.0    88.0      23.0       104.0       41.0     185.0"
      ]
     },
     "execution_count": 4,
     "metadata": {},
     "output_type": "execute_result"
    }
   ],
   "source": [
    "train.head(10)"
   ]
  },
  {
   "cell_type": "code",
   "execution_count": 5,
   "id": "309dcf4b",
   "metadata": {
    "execution": {
     "iopub.execute_input": "2025-05-04T11:25:15.187887Z",
     "iopub.status.busy": "2025-05-04T11:25:15.187316Z",
     "iopub.status.idle": "2025-05-04T11:25:16.707503Z",
     "shell.execute_reply": "2025-05-04T11:25:16.706727Z"
    },
    "papermill": {
     "duration": 1.526449,
     "end_time": "2025-05-04T11:25:16.708904",
     "exception": false,
     "start_time": "2025-05-04T11:25:15.182455",
     "status": "completed"
    },
    "tags": []
   },
   "outputs": [
    {
     "data": {
      "text/html": [
       "<div>\n",
       "<style scoped>\n",
       "    .dataframe tbody tr th:only-of-type {\n",
       "        vertical-align: middle;\n",
       "    }\n",
       "\n",
       "    .dataframe tbody tr th {\n",
       "        vertical-align: top;\n",
       "    }\n",
       "\n",
       "    .dataframe thead th {\n",
       "        text-align: right;\n",
       "    }\n",
       "</style>\n",
       "<table border=\"1\" class=\"dataframe\">\n",
       "  <thead>\n",
       "    <tr style=\"text-align: right;\">\n",
       "      <th></th>\n",
       "      <th>Age</th>\n",
       "      <th>Height</th>\n",
       "      <th>Weight</th>\n",
       "      <th>Duration</th>\n",
       "      <th>Heart_Rate</th>\n",
       "      <th>Body_Temp</th>\n",
       "      <th>Calories</th>\n",
       "    </tr>\n",
       "  </thead>\n",
       "  <tbody>\n",
       "    <tr>\n",
       "      <th>count</th>\n",
       "      <td>750000.000000</td>\n",
       "      <td>750000.000000</td>\n",
       "      <td>750000.000000</td>\n",
       "      <td>750000.000000</td>\n",
       "      <td>750000.000000</td>\n",
       "      <td>750000.000000</td>\n",
       "      <td>750000.000000</td>\n",
       "    </tr>\n",
       "    <tr>\n",
       "      <th>mean</th>\n",
       "      <td>41.420404</td>\n",
       "      <td>174.697685</td>\n",
       "      <td>75.145668</td>\n",
       "      <td>15.421015</td>\n",
       "      <td>95.483995</td>\n",
       "      <td>40.036253</td>\n",
       "      <td>88.282781</td>\n",
       "    </tr>\n",
       "    <tr>\n",
       "      <th>std</th>\n",
       "      <td>15.175049</td>\n",
       "      <td>12.824496</td>\n",
       "      <td>13.982704</td>\n",
       "      <td>8.354095</td>\n",
       "      <td>9.449845</td>\n",
       "      <td>0.779875</td>\n",
       "      <td>62.395349</td>\n",
       "    </tr>\n",
       "    <tr>\n",
       "      <th>min</th>\n",
       "      <td>20.000000</td>\n",
       "      <td>126.000000</td>\n",
       "      <td>36.000000</td>\n",
       "      <td>1.000000</td>\n",
       "      <td>67.000000</td>\n",
       "      <td>37.100000</td>\n",
       "      <td>1.000000</td>\n",
       "    </tr>\n",
       "    <tr>\n",
       "      <th>25%</th>\n",
       "      <td>28.000000</td>\n",
       "      <td>164.000000</td>\n",
       "      <td>63.000000</td>\n",
       "      <td>8.000000</td>\n",
       "      <td>88.000000</td>\n",
       "      <td>39.600000</td>\n",
       "      <td>34.000000</td>\n",
       "    </tr>\n",
       "    <tr>\n",
       "      <th>50%</th>\n",
       "      <td>40.000000</td>\n",
       "      <td>174.000000</td>\n",
       "      <td>74.000000</td>\n",
       "      <td>15.000000</td>\n",
       "      <td>95.000000</td>\n",
       "      <td>40.300000</td>\n",
       "      <td>77.000000</td>\n",
       "    </tr>\n",
       "    <tr>\n",
       "      <th>75%</th>\n",
       "      <td>52.000000</td>\n",
       "      <td>185.000000</td>\n",
       "      <td>87.000000</td>\n",
       "      <td>23.000000</td>\n",
       "      <td>103.000000</td>\n",
       "      <td>40.700000</td>\n",
       "      <td>136.000000</td>\n",
       "    </tr>\n",
       "    <tr>\n",
       "      <th>max</th>\n",
       "      <td>79.000000</td>\n",
       "      <td>222.000000</td>\n",
       "      <td>132.000000</td>\n",
       "      <td>30.000000</td>\n",
       "      <td>128.000000</td>\n",
       "      <td>41.500000</td>\n",
       "      <td>314.000000</td>\n",
       "    </tr>\n",
       "  </tbody>\n",
       "</table>\n",
       "</div>"
      ],
      "text/plain": [
       "                 Age         Height         Weight       Duration  \\\n",
       "count  750000.000000  750000.000000  750000.000000  750000.000000   \n",
       "mean       41.420404     174.697685      75.145668      15.421015   \n",
       "std        15.175049      12.824496      13.982704       8.354095   \n",
       "min        20.000000     126.000000      36.000000       1.000000   \n",
       "25%        28.000000     164.000000      63.000000       8.000000   \n",
       "50%        40.000000     174.000000      74.000000      15.000000   \n",
       "75%        52.000000     185.000000      87.000000      23.000000   \n",
       "max        79.000000     222.000000     132.000000      30.000000   \n",
       "\n",
       "          Heart_Rate      Body_Temp       Calories  \n",
       "count  750000.000000  750000.000000  750000.000000  \n",
       "mean       95.483995      40.036253      88.282781  \n",
       "std         9.449845       0.779875      62.395349  \n",
       "min        67.000000      37.100000       1.000000  \n",
       "25%        88.000000      39.600000      34.000000  \n",
       "50%        95.000000      40.300000      77.000000  \n",
       "75%       103.000000      40.700000     136.000000  \n",
       "max       128.000000      41.500000     314.000000  "
      ]
     },
     "execution_count": 5,
     "metadata": {},
     "output_type": "execute_result"
    }
   ],
   "source": [
    "train.describe()"
   ]
  },
  {
   "cell_type": "code",
   "execution_count": 6,
   "id": "08f38235",
   "metadata": {
    "execution": {
     "iopub.execute_input": "2025-05-04T11:25:16.719943Z",
     "iopub.status.busy": "2025-05-04T11:25:16.719252Z",
     "iopub.status.idle": "2025-05-04T11:25:16.801630Z",
     "shell.execute_reply": "2025-05-04T11:25:16.801063Z"
    },
    "papermill": {
     "duration": 0.088969,
     "end_time": "2025-05-04T11:25:16.802774",
     "exception": false,
     "start_time": "2025-05-04T11:25:16.713805",
     "status": "completed"
    },
    "tags": []
   },
   "outputs": [
    {
     "data": {
      "text/plain": [
       "Sex           0\n",
       "Age           0\n",
       "Height        0\n",
       "Weight        0\n",
       "Duration      0\n",
       "Heart_Rate    0\n",
       "Body_Temp     0\n",
       "Calories      0\n",
       "dtype: int64"
      ]
     },
     "execution_count": 6,
     "metadata": {},
     "output_type": "execute_result"
    }
   ],
   "source": [
    "train.isnull().sum()"
   ]
  },
  {
   "cell_type": "code",
   "execution_count": 7,
   "id": "f2f4ef2f",
   "metadata": {
    "execution": {
     "iopub.execute_input": "2025-05-04T11:25:16.811955Z",
     "iopub.status.busy": "2025-05-04T11:25:16.811735Z",
     "iopub.status.idle": "2025-05-04T11:25:16.823819Z",
     "shell.execute_reply": "2025-05-04T11:25:16.822885Z"
    },
    "papermill": {
     "duration": 0.017935,
     "end_time": "2025-05-04T11:25:16.824993",
     "exception": false,
     "start_time": "2025-05-04T11:25:16.807058",
     "status": "completed"
    },
    "tags": []
   },
   "outputs": [
    {
     "name": "stdout",
     "output_type": "stream",
     "text": [
      "<class 'cudf.core.dataframe.DataFrame'>\n",
      "Index: 750000 entries, 0 to 749999\n",
      "Data columns (total 8 columns):\n",
      " #   Column      Non-Null Count   Dtype\n",
      "---  ------      --------------   -----\n",
      " 0   Sex         750000 non-null  object\n",
      " 1   Age         750000 non-null  int64\n",
      " 2   Height      750000 non-null  float64\n",
      " 3   Weight      750000 non-null  float64\n",
      " 4   Duration    750000 non-null  float64\n",
      " 5   Heart_Rate  750000 non-null  float64\n",
      " 6   Body_Temp   750000 non-null  float64\n",
      " 7   Calories    750000 non-null  float64\n",
      "dtypes: float64(6), int64(1), object(1)\n",
      "memory usage: 52.2+ MB\n"
     ]
    }
   ],
   "source": [
    "train.info()"
   ]
  },
  {
   "cell_type": "markdown",
   "id": "001c935b",
   "metadata": {
    "papermill": {
     "duration": 0.003829,
     "end_time": "2025-05-04T11:25:16.833004",
     "exception": false,
     "start_time": "2025-05-04T11:25:16.829175",
     "status": "completed"
    },
    "tags": []
   },
   "source": [
    "# Data Preprocessing"
   ]
  },
  {
   "cell_type": "markdown",
   "id": "bd9d6f58",
   "metadata": {
    "papermill": {
     "duration": 0.003827,
     "end_time": "2025-05-04T11:25:16.840933",
     "exception": false,
     "start_time": "2025-05-04T11:25:16.837106",
     "status": "completed"
    },
    "tags": []
   },
   "source": [
    "## Reducing memory usage"
   ]
  },
  {
   "cell_type": "code",
   "execution_count": 8,
   "id": "7e28f01a",
   "metadata": {
    "execution": {
     "iopub.execute_input": "2025-05-04T11:25:16.849734Z",
     "iopub.status.busy": "2025-05-04T11:25:16.849494Z",
     "iopub.status.idle": "2025-05-04T11:25:16.908177Z",
     "shell.execute_reply": "2025-05-04T11:25:16.907634Z"
    },
    "papermill": {
     "duration": 0.064477,
     "end_time": "2025-05-04T11:25:16.909370",
     "exception": false,
     "start_time": "2025-05-04T11:25:16.844893",
     "status": "completed"
    },
    "tags": []
   },
   "outputs": [],
   "source": [
    "train['Sex'] = train['Sex'].astype('category')\n",
    "test['Sex'] = test['Sex'].astype('category')"
   ]
  },
  {
   "cell_type": "code",
   "execution_count": 9,
   "id": "c2020224",
   "metadata": {
    "execution": {
     "iopub.execute_input": "2025-05-04T11:25:16.918960Z",
     "iopub.status.busy": "2025-05-04T11:25:16.918756Z",
     "iopub.status.idle": "2025-05-04T11:25:16.923607Z",
     "shell.execute_reply": "2025-05-04T11:25:16.923130Z"
    },
    "papermill": {
     "duration": 0.010571,
     "end_time": "2025-05-04T11:25:16.924578",
     "exception": false,
     "start_time": "2025-05-04T11:25:16.914007",
     "status": "completed"
    },
    "tags": []
   },
   "outputs": [],
   "source": [
    "train['Age'] = train['Age'].astype('int8')\n",
    "test['Age'] = test['Age'].astype('int8')"
   ]
  },
  {
   "cell_type": "code",
   "execution_count": 10,
   "id": "efe7fc42",
   "metadata": {
    "execution": {
     "iopub.execute_input": "2025-05-04T11:25:16.933374Z",
     "iopub.status.busy": "2025-05-04T11:25:16.933208Z",
     "iopub.status.idle": "2025-05-04T11:25:17.547326Z",
     "shell.execute_reply": "2025-05-04T11:25:17.546734Z"
    },
    "papermill": {
     "duration": 0.61989,
     "end_time": "2025-05-04T11:25:17.548607",
     "exception": false,
     "start_time": "2025-05-04T11:25:16.928717",
     "status": "completed"
    },
    "tags": []
   },
   "outputs": [],
   "source": [
    "num_cols = test.select_dtypes(include='float64').columns\n",
    "for col in num_cols:\n",
    "    train[num_cols] = train[num_cols].astype('float32')\n",
    "    test[num_cols] = test[num_cols].astype('float32')"
   ]
  },
  {
   "cell_type": "code",
   "execution_count": 11,
   "id": "b3888c5b",
   "metadata": {
    "execution": {
     "iopub.execute_input": "2025-05-04T11:25:17.558449Z",
     "iopub.status.busy": "2025-05-04T11:25:17.557916Z",
     "iopub.status.idle": "2025-05-04T11:25:17.577441Z",
     "shell.execute_reply": "2025-05-04T11:25:17.576645Z"
    },
    "papermill": {
     "duration": 0.025543,
     "end_time": "2025-05-04T11:25:17.578673",
     "exception": false,
     "start_time": "2025-05-04T11:25:17.553130",
     "status": "completed"
    },
    "tags": []
   },
   "outputs": [
    {
     "name": "stdout",
     "output_type": "stream",
     "text": [
      "<class 'cudf.core.dataframe.DataFrame'>\n",
      "Index: 750000 entries, 0 to 749999\n",
      "Data columns (total 8 columns):\n",
      " #   Column      Non-Null Count   Dtype\n",
      "---  ------      --------------   -----\n",
      " 0   Sex         750000 non-null  category\n",
      " 1   Age         750000 non-null  int8\n",
      " 2   Height      750000 non-null  float32\n",
      " 3   Weight      750000 non-null  float32\n",
      " 4   Duration    750000 non-null  float32\n",
      " 5   Heart_Rate  750000 non-null  float32\n",
      " 6   Body_Temp   750000 non-null  float32\n",
      " 7   Calories    750000 non-null  float64\n",
      "dtypes: category(1), float32(5), float64(1), int8(1)\n",
      "memory usage: 27.2 MB\n"
     ]
    }
   ],
   "source": [
    "train.info()"
   ]
  },
  {
   "cell_type": "code",
   "execution_count": 12,
   "id": "346dc5ed",
   "metadata": {
    "execution": {
     "iopub.execute_input": "2025-05-04T11:25:17.588253Z",
     "iopub.status.busy": "2025-05-04T11:25:17.588034Z",
     "iopub.status.idle": "2025-05-04T11:25:18.476549Z",
     "shell.execute_reply": "2025-05-04T11:25:18.475625Z"
    },
    "papermill": {
     "duration": 0.895066,
     "end_time": "2025-05-04T11:25:18.478206",
     "exception": false,
     "start_time": "2025-05-04T11:25:17.583140",
     "status": "completed"
    },
    "tags": []
   },
   "outputs": [],
   "source": [
    "from sklearn.preprocessing import KBinsDiscretizer\n",
    "\n",
    "kmeans = KBinsDiscretizer(n_bins=4, encode='ordinal', strategy='kmeans')\n",
    "train['age_bins'] = kmeans.fit_transform(train[['Age']])\n",
    "test['age_bins'] = kmeans.transform(test[['Age']])"
   ]
  },
  {
   "cell_type": "code",
   "execution_count": 13,
   "id": "95aa2072",
   "metadata": {
    "execution": {
     "iopub.execute_input": "2025-05-04T11:25:18.488275Z",
     "iopub.status.busy": "2025-05-04T11:25:18.488055Z",
     "iopub.status.idle": "2025-05-04T11:25:18.749975Z",
     "shell.execute_reply": "2025-05-04T11:25:18.749348Z"
    },
    "papermill": {
     "duration": 0.268358,
     "end_time": "2025-05-04T11:25:18.751453",
     "exception": false,
     "start_time": "2025-05-04T11:25:18.483095",
     "status": "completed"
    },
    "tags": []
   },
   "outputs": [],
   "source": [
    "from sklearn.preprocessing import KBinsDiscretizer\n",
    "\n",
    "kmeans = KBinsDiscretizer(n_bins=4, encode='ordinal', strategy='uniform')\n",
    "train['weight_bins'] = kmeans.fit_transform(train[['Weight']])\n",
    "test['weight_bins'] = kmeans.transform(test[['Weight']])"
   ]
  },
  {
   "cell_type": "markdown",
   "id": "a42837cb",
   "metadata": {
    "papermill": {
     "duration": 0.004292,
     "end_time": "2025-05-04T11:25:18.760352",
     "exception": false,
     "start_time": "2025-05-04T11:25:18.756060",
     "status": "completed"
    },
    "tags": []
   },
   "source": [
    "# Feature Understanding via Data Visualization"
   ]
  },
  {
   "cell_type": "markdown",
   "id": "cc0a2c1d",
   "metadata": {
    "papermill": {
     "duration": 0.00409,
     "end_time": "2025-05-04T11:25:18.768856",
     "exception": false,
     "start_time": "2025-05-04T11:25:18.764766",
     "status": "completed"
    },
    "tags": []
   },
   "source": [
    "Yeo-Johnson transformation of target variable gives more normal distribution than log-transformation."
   ]
  },
  {
   "cell_type": "code",
   "execution_count": 14,
   "id": "dad794f7",
   "metadata": {
    "execution": {
     "iopub.execute_input": "2025-05-04T11:25:18.778076Z",
     "iopub.status.busy": "2025-05-04T11:25:18.777881Z",
     "iopub.status.idle": "2025-05-04T11:25:23.822244Z",
     "shell.execute_reply": "2025-05-04T11:25:23.821553Z"
    },
    "papermill": {
     "duration": 5.050295,
     "end_time": "2025-05-04T11:25:23.823354",
     "exception": false,
     "start_time": "2025-05-04T11:25:18.773059",
     "status": "completed"
    },
    "tags": []
   },
   "outputs": [
    {
     "data": {
      "text/plain": [
       "Text(0.5, 1.0, 'Calories Distribution')"
      ]
     },
     "execution_count": 14,
     "metadata": {},
     "output_type": "execute_result"
    },
    {
     "data": {
      "image/png": "[encoded data removed]",
      "text/plain": [
       "<Figure size 1200x750 with 1 Axes>"
      ]
     },
     "metadata": {},
     "output_type": "display_data"
    }
   ],
   "source": [
    "sns.histplot(x='Calories', bins=15, data=train, cbar=True)\n",
    "plt.title(\"Calories Distribution\")"
   ]
  },
  {
   "cell_type": "code",
   "execution_count": 15,
   "id": "e2ccbc17",
   "metadata": {
    "execution": {
     "iopub.execute_input": "2025-05-04T11:25:23.834190Z",
     "iopub.status.busy": "2025-05-04T11:25:23.833976Z",
     "iopub.status.idle": "2025-05-04T11:25:28.308082Z",
     "shell.execute_reply": "2025-05-04T11:25:28.307367Z"
    },
    "papermill": {
     "duration": 4.481519,
     "end_time": "2025-05-04T11:25:28.310059",
     "exception": false,
     "start_time": "2025-05-04T11:25:23.828540",
     "status": "completed"
    },
    "tags": []
   },
   "outputs": [
    {
     "data": {
      "image/png": "[encoded data removed]",
      "text/plain": [
       "<Figure size 1500x750 with 1 Axes>"
      ]
     },
     "metadata": {},
     "output_type": "display_data"
    }
   ],
   "source": [
    "plt.figure(figsize=(10, 5))\n",
    "sns.histplot(np.log1p(train[\"Calories\"]), bins=50, kde=True)\n",
    "plt.title(\"Log1p Calories Distribution\")\n",
    "plt.show()"
   ]
  },
  {
   "cell_type": "code",
   "execution_count": 16,
   "id": "297e5690",
   "metadata": {
    "execution": {
     "iopub.execute_input": "2025-05-04T11:25:28.322999Z",
     "iopub.status.busy": "2025-05-04T11:25:28.322790Z",
     "iopub.status.idle": "2025-05-04T11:25:32.274574Z",
     "shell.execute_reply": "2025-05-04T11:25:32.273859Z"
    },
    "papermill": {
     "duration": 3.959611,
     "end_time": "2025-05-04T11:25:32.276027",
     "exception": false,
     "start_time": "2025-05-04T11:25:28.316416",
     "status": "completed"
    },
    "tags": []
   },
   "outputs": [
    {
     "data": {
      "image/png": "[encoded data removed]",
      "text/plain": [
       "<Figure size 1500x750 with 1 Axes>"
      ]
     },
     "metadata": {},
     "output_type": "display_data"
    }
   ],
   "source": [
    "plt.figure(figsize=(10, 5))\n",
    "sns.histplot(np.sqrt(train[\"Calories\"]), bins=50, kde=True)\n",
    "plt.title(\"Sqrt Calories Distribution\")\n",
    "plt.show()"
   ]
  },
  {
   "cell_type": "code",
   "execution_count": 17,
   "id": "785547eb",
   "metadata": {
    "execution": {
     "iopub.execute_input": "2025-05-04T11:25:32.291356Z",
     "iopub.status.busy": "2025-05-04T11:25:32.291121Z",
     "iopub.status.idle": "2025-05-04T11:25:32.516494Z",
     "shell.execute_reply": "2025-05-04T11:25:32.515859Z"
    },
    "papermill": {
     "duration": 0.234533,
     "end_time": "2025-05-04T11:25:32.517918",
     "exception": false,
     "start_time": "2025-05-04T11:25:32.283385",
     "status": "completed"
    },
    "tags": []
   },
   "outputs": [],
   "source": [
    "from sklearn.preprocessing import LabelEncoder\n",
    "\n",
    "le = LabelEncoder()\n",
    "train['Sex'] = le.fit_transform(train['Sex']).astype('int8')\n",
    "test['Sex'] = le.transform(test['Sex']).astype('int8')"
   ]
  },
  {
   "cell_type": "code",
   "execution_count": 18,
   "id": "b311af97",
   "metadata": {
    "execution": {
     "iopub.execute_input": "2025-05-04T11:25:32.532988Z",
     "iopub.status.busy": "2025-05-04T11:25:32.532735Z",
     "iopub.status.idle": "2025-05-04T11:25:32.536144Z",
     "shell.execute_reply": "2025-05-04T11:25:32.535603Z"
    },
    "papermill": {
     "duration": 0.011946,
     "end_time": "2025-05-04T11:25:32.537217",
     "exception": false,
     "start_time": "2025-05-04T11:25:32.525271",
     "status": "completed"
    },
    "tags": []
   },
   "outputs": [],
   "source": [
    "features = ['Sex', 'Age', 'Height', 'Weight', 'Duration', 'Heart_Rate', 'Body_Temp']"
   ]
  },
  {
   "cell_type": "code",
   "execution_count": 19,
   "id": "06e7bb60",
   "metadata": {
    "execution": {
     "iopub.execute_input": "2025-05-04T11:25:32.551304Z",
     "iopub.status.busy": "2025-05-04T11:25:32.551102Z",
     "iopub.status.idle": "2025-05-04T11:25:32.555088Z",
     "shell.execute_reply": "2025-05-04T11:25:32.554397Z"
    },
    "papermill": {
     "duration": 0.012292,
     "end_time": "2025-05-04T11:25:32.556137",
     "exception": false,
     "start_time": "2025-05-04T11:25:32.543845",
     "status": "completed"
    },
    "tags": []
   },
   "outputs": [],
   "source": [
    "def add_features(df):\n",
    "    for i, c1 in enumerate(features):\n",
    "        for c2 in (features[i+1:]):\n",
    "            m = f'{c1}*{c2}'\n",
    "            df[m] = df[c1] * df[c2]\n",
    "    return df"
   ]
  },
  {
   "cell_type": "code",
   "execution_count": 20,
   "id": "6f4dcb54",
   "metadata": {
    "execution": {
     "iopub.execute_input": "2025-05-04T11:25:32.570117Z",
     "iopub.status.busy": "2025-05-04T11:25:32.569947Z",
     "iopub.status.idle": "2025-05-04T11:25:32.574265Z",
     "shell.execute_reply": "2025-05-04T11:25:32.573758Z"
    },
    "papermill": {
     "duration": 0.012505,
     "end_time": "2025-05-04T11:25:32.575290",
     "exception": false,
     "start_time": "2025-05-04T11:25:32.562785",
     "status": "completed"
    },
    "tags": []
   },
   "outputs": [],
   "source": [
    "def feature_transform(df):\n",
    "    df['duration_expo'] = df['Duration'] ** 2\n",
    "    df['duration_log'] = np.log1p(df['Duration'])\n",
    "\n",
    "    df['heart_expo'] = df['Heart_Rate'] ** 2\n",
    "    df['heart_log'] = np.log1p(df['Heart_Rate'])\n",
    "    \n",
    "    df['weight_log'] = np.log1p(df['Weight'])\n",
    "\n",
    "    df['body_expo'] = df['Body_Temp'] ** 2\n",
    "    df['body_log'] = np.log1p(df['Body_Temp'] ** 2)\n",
    "\n",
    "\n",
    "    df['BMI'] = df['Weight'] / ((df['Height']/100) ** 2)\n",
    "    df['BMI_duration'] = df['BMI'] / df['Duration']\n",
    "    \n",
    "    return df"
   ]
  },
  {
   "cell_type": "code",
   "execution_count": 21,
   "id": "e7d7b089",
   "metadata": {
    "execution": {
     "iopub.execute_input": "2025-05-04T11:25:32.589532Z",
     "iopub.status.busy": "2025-05-04T11:25:32.589318Z",
     "iopub.status.idle": "2025-05-04T11:25:32.826345Z",
     "shell.execute_reply": "2025-05-04T11:25:32.825746Z"
    },
    "papermill": {
     "duration": 0.245539,
     "end_time": "2025-05-04T11:25:32.827629",
     "exception": false,
     "start_time": "2025-05-04T11:25:32.582090",
     "status": "completed"
    },
    "tags": []
   },
   "outputs": [],
   "source": [
    "X = train.copy()\n",
    "y = X.pop('Calories')\n",
    "y = np.sqrt(y)\n",
    "\n",
    "X = add_features(X)\n",
    "X = feature_transform(X)\n",
    "\n",
    "X_test = test.copy()\n",
    "X_test = add_features(X_test)\n",
    "X_test = feature_transform(X_test)"
   ]
  },
  {
   "cell_type": "code",
   "execution_count": 22,
   "id": "c48f689f",
   "metadata": {
    "execution": {
     "iopub.execute_input": "2025-05-04T11:25:32.844149Z",
     "iopub.status.busy": "2025-05-04T11:25:32.843942Z",
     "iopub.status.idle": "2025-05-04T11:28:40.985313Z",
     "shell.execute_reply": "2025-05-04T11:28:40.984467Z"
    },
    "papermill": {
     "duration": 188.157299,
     "end_time": "2025-05-04T11:28:40.992410",
     "exception": false,
     "start_time": "2025-05-04T11:25:32.835111",
     "status": "completed"
    },
    "tags": []
   },
   "outputs": [
    {
     "name": "stdout",
     "output_type": "stream",
     "text": [
      "Fold 1 RMSE: 0.059825\n",
      "Fold 2 RMSE: 0.061839\n",
      "Fold 3 RMSE: 0.060227\n",
      "Fold 4 RMSE: 0.058759\n",
      "Fold 5 RMSE: 0.061384\n",
      "Fold 6 RMSE: 0.059866\n",
      "Fold 7 RMSE: 0.060563\n",
      "\n",
      "Overall OOF RMSLE: 0.060359\n"
     ]
    }
   ],
   "source": [
    "from sklearn.model_selection import cross_val_score\n",
    "import optuna\n",
    "from sklearn.model_selection import KFold\n",
    "from sklearn.metrics import mean_squared_log_error\n",
    "from xgboost import XGBRegressor\n",
    "\n",
    "n_folds = 7\n",
    "kf = KFold(n_splits=n_folds, shuffle=True, random_state=100)\n",
    "\n",
    "oof_xgb = np.zeros(len(y))\n",
    "oof_test = np.zeros(len(X_test))\n",
    "\n",
    "for fold, (train_index, valid_index) in enumerate(kf.split(X, y), start=1):\n",
    "        X_train, X_valid = X.iloc[train_index], X.iloc[valid_index]\n",
    "        y_train, y_valid = y[train_index], y[valid_index]\n",
    "    \n",
    "        xgb = XGBRegressor(\n",
    "            n_estimators=900, \n",
    "            learning_rate=0.05, \n",
    "            max_depth=8, \n",
    "            min_child_weight=1, \n",
    "            reg_alpha=0.01722769, \n",
    "            reg_lambda=0.1988406256, \n",
    "            subsample=0.687651847, \n",
    "            colsample_bytree=0.991963, \n",
    "            gamma=0.3676562,\n",
    "            early_stopping_rounds=50, \n",
    "            random_state=100\n",
    "        ).fit(X_train, y_train, eval_set=[(X_valid, y_valid)], verbose=0)\n",
    "    \n",
    "        xgb_pred = xgb.predict(X_valid)\n",
    "        oof_xgb[valid_index] = xgb_pred\n",
    "        fold_rmsle = np.sqrt(mean_squared_log_error(np.square(y_valid), np.square(xgb_pred)))\n",
    "        print(f\"Fold {fold} RMSE: {fold_rmsle:.6f}\")\n",
    "\n",
    "overall_rmsle = np.sqrt(mean_squared_log_error(np.square(y), np.square(oof_xgb)))\n",
    "print(f\"\\nOverall OOF RMSLE: {overall_rmsle:.6f}\")    "
   ]
  },
  {
   "cell_type": "code",
   "execution_count": 23,
   "id": "5e53b8c4",
   "metadata": {
    "execution": {
     "iopub.execute_input": "2025-05-04T11:28:41.007287Z",
     "iopub.status.busy": "2025-05-04T11:28:41.007061Z",
     "iopub.status.idle": "2025-05-04T11:28:42.073783Z",
     "shell.execute_reply": "2025-05-04T11:28:42.072637Z"
    },
    "papermill": {
     "duration": 1.075763,
     "end_time": "2025-05-04T11:28:42.075141",
     "exception": false,
     "start_time": "2025-05-04T11:28:40.999378",
     "status": "completed"
    },
    "tags": []
   },
   "outputs": [
    {
     "name": "stdout",
     "output_type": "stream",
     "text": [
      "Your submission was successfully saved!\n",
      "        id    Calories\n",
      "0   750000   28.104450\n",
      "1   750001  108.365913\n",
      "2   750002   87.428574\n",
      "3   750003  125.284058\n",
      "4   750004   75.570068\n",
      "5   750005   21.949841\n",
      "6   750006   48.044979\n",
      "7   750007    6.831782\n",
      "8   750008    9.854651\n",
      "9   750009  205.243744\n",
      "10  750010   77.878334\n",
      "11  750011  216.847748\n",
      "12  750012   71.472786\n",
      "13  750013  251.242188\n",
      "14  750014   87.680374\n",
      "15  750015  137.404678\n",
      "16  750016   66.669266\n",
      "17  750017  161.176239\n",
      "18  750018  125.395782\n",
      "19  750019  190.002319\n"
     ]
    }
   ],
   "source": [
    "test_xgb = xgb.predict(X_test)\n",
    "test_xgb  = np.square(test_xgb)\n",
    "#y_preds = np.clip(test_xgb, 1, 314)\n",
    "\n",
    "sub = pd.read_csv('/kaggle/input/playground-series-s5e5/sample_submission.csv')\n",
    "sub['Calories'] = test_xgb\n",
    "sub.to_csv('submission.csv', index=False)\n",
    "print(\"Your submission was successfully saved!\")\n",
    "print(sub.head(20))"
   ]
  }
 ],
 "metadata": {
  "kaggle": {
   "accelerator": "nvidiaTeslaT4",
   "dataSources": [
    {
     "databundleVersionId": 11893428,
     "sourceId": 91716,
     "sourceType": "competition"
    }
   ],
   "dockerImageVersionId": 31012,
   "isGpuEnabled": true,
   "isInternetEnabled": true,
   "language": "python",
   "sourceType": "notebook"
  },
  "kernelspec": {
   "display_name": "Python 3",
   "language": "python",
   "name": "python3"
  },
  "language_info": {
   "codemirror_mode": {
    "name": "ipython",
    "version": 3
   },
   "file_extension": ".py",
   "mimetype": "text/x-python",
   "name": "python",
   "nbconvert_exporter": "python",
   "pygments_lexer": "ipython3",
   "version": "3.11.11"
  },
  "papermill": {
   "default_parameters": {},
   "duration": 224.508586,
   "end_time": "2025-05-04T11:28:44.287312",
   "environment_variables": {},
   "exception": null,
   "input_path": "__notebook__.ipynb",
   "output_path": "__notebook__.ipynb",
   "parameters": {},
   "start_time": "2025-05-04T11:24:59.778726",
   "version": "2.6.0"
  }
 },
 "nbformat": 4,
 "nbformat_minor": 5
}
