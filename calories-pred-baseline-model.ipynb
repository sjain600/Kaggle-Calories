{
 "cells": [
  {
   "cell_type": "code",
   "execution_count": 1,
   "id": "caa0e139",
   "metadata": {
    "execution": {
     "iopub.execute_input": "2025-05-07T12:16:19.461460Z",
     "iopub.status.busy": "2025-05-07T12:16:19.461254Z",
     "iopub.status.idle": "2025-05-07T12:16:28.809327Z",
     "shell.execute_reply": "2025-05-07T12:16:28.808488Z"
    },
    "papermill": {
     "duration": 9.353925,
     "end_time": "2025-05-07T12:16:28.810498",
     "exception": false,
     "start_time": "2025-05-07T12:16:19.456573",
     "status": "completed"
    },
    "tags": []
   },
   "outputs": [
    {
     "name": "stdout",
     "output_type": "stream",
     "text": [
      "/kaggle/input/calories-burnt-prediction/calories.csv\n",
      "/kaggle/input/playground-series-s5e5/sample_submission.csv\n",
      "/kaggle/input/playground-series-s5e5/train.csv\n",
      "/kaggle/input/playground-series-s5e5/test.csv\n"
     ]
    },
    {
     "data": {
      "text/plain": [
       "<Figure size 1200x750 with 0 Axes>"
      ]
     },
     "metadata": {},
     "output_type": "display_data"
    }
   ],
   "source": [
    "# This Python 3 environment comes with many helpful analytics libraries installed\n",
    "# It is defined by the kaggle/python Docker image: https://github.com/kaggle/docker-python\n",
    "# For example, here's several helpful packages to load\n",
    "%load_ext cudf.pandas\n",
    "import numpy as np # linear algebra\n",
    "import pandas as pd # data processing, CSV file I/O (e.g. pd.read_csv)\n",
    "import matplotlib.pyplot as plt\n",
    "import seaborn as sns\n",
    "\n",
    "# Setting Matplotlib defaults\n",
    "plt.style.use('seaborn-v0_8')\n",
    "plt.rc('figure', figsize=(8,5), dpi=150)\n",
    "plt.rc('axes', labelweight='bold', labelsize='large',\n",
    "       titleweight='bold', titlesize=15, titlepad=10)\n",
    "plt.rc('animation', html='html5')\n",
    "plt.tight_layout()\n",
    "# Input data files are available in the read-only \"../input/\" directory\n",
    "# For example, running this (by clicking run or pressing Shift+Enter) will list all files under the input directory\n",
    "\n",
    "import os\n",
    "for dirname, _, filenames in os.walk('/kaggle/input'):\n",
    "    for filename in filenames:\n",
    "        print(os.path.join(dirname, filename))\n",
    "        \n",
    "import warnings\n",
    "warnings.simplefilter('ignore')\n",
    "\n",
    "pd.set_option('display.max_columns', 500)\n",
    "\n",
    "# You can write up to 20GB to the current directory (/kaggle/working/) that gets preserved as output when you create a version using \"Save & Run All\" \n",
    "# You can also write temporary files to /kaggle/temp/, but they won't be saved outside of the current session"
   ]
  },
  {
   "cell_type": "code",
   "execution_count": 2,
   "id": "cac3122e",
   "metadata": {
    "execution": {
     "iopub.execute_input": "2025-05-07T12:16:28.818628Z",
     "iopub.status.busy": "2025-05-07T12:16:28.818293Z",
     "iopub.status.idle": "2025-05-07T12:16:29.256922Z",
     "shell.execute_reply": "2025-05-07T12:16:29.256387Z"
    },
    "papermill": {
     "duration": 0.444012,
     "end_time": "2025-05-07T12:16:29.258252",
     "exception": false,
     "start_time": "2025-05-07T12:16:28.814240",
     "status": "completed"
    },
    "tags": []
   },
   "outputs": [],
   "source": [
    "train = pd.read_csv('/kaggle/input/playground-series-s5e5/train.csv', index_col='id')\n",
    "test = pd.read_csv('/kaggle/input/playground-series-s5e5/test.csv', index_col='id')\n",
    "org = pd.read_csv('/kaggle/input/calories-burnt-prediction/calories.csv', index_col='User_ID')\n",
    "org = org.rename(columns={'Gender': 'Sex'})"
   ]
  },
  {
   "cell_type": "code",
   "execution_count": 3,
   "id": "36c6c8ea",
   "metadata": {
    "execution": {
     "iopub.execute_input": "2025-05-07T12:16:29.266165Z",
     "iopub.status.busy": "2025-05-07T12:16:29.265967Z",
     "iopub.status.idle": "2025-05-07T12:16:29.305712Z",
     "shell.execute_reply": "2025-05-07T12:16:29.305239Z"
    },
    "papermill": {
     "duration": 0.044777,
     "end_time": "2025-05-07T12:16:29.306762",
     "exception": false,
     "start_time": "2025-05-07T12:16:29.261985",
     "status": "completed"
    },
    "tags": []
   },
   "outputs": [],
   "source": [
    "train = pd.concat([train, org], ignore_index=True)"
   ]
  },
  {
   "cell_type": "code",
   "execution_count": 4,
   "id": "99578994",
   "metadata": {
    "execution": {
     "iopub.execute_input": "2025-05-07T12:16:29.314193Z",
     "iopub.status.busy": "2025-05-07T12:16:29.314010Z",
     "iopub.status.idle": "2025-05-07T12:16:29.404191Z",
     "shell.execute_reply": "2025-05-07T12:16:29.403535Z"
    },
    "papermill": {
     "duration": 0.095131,
     "end_time": "2025-05-07T12:16:29.405319",
     "exception": false,
     "start_time": "2025-05-07T12:16:29.310188",
     "status": "completed"
    },
    "tags": []
   },
   "outputs": [
    {
     "name": "stdout",
     "output_type": "stream",
     "text": [
      "(762107, 8) (765000, 8)\n"
     ]
    }
   ],
   "source": [
    "strt_cols = list(test.columns)\n",
    "print(train.drop_duplicates(subset=strt_cols + ['Calories']).shape, train.shape)"
   ]
  },
  {
   "cell_type": "code",
   "execution_count": 5,
   "id": "9a8496df",
   "metadata": {
    "execution": {
     "iopub.execute_input": "2025-05-07T12:16:29.412960Z",
     "iopub.status.busy": "2025-05-07T12:16:29.412722Z",
     "iopub.status.idle": "2025-05-07T12:16:29.553544Z",
     "shell.execute_reply": "2025-05-07T12:16:29.552853Z"
    },
    "papermill": {
     "duration": 0.145908,
     "end_time": "2025-05-07T12:16:29.554673",
     "exception": false,
     "start_time": "2025-05-07T12:16:29.408765",
     "status": "completed"
    },
    "tags": []
   },
   "outputs": [
    {
     "data": {
      "text/html": [
       "<div>\n",
       "<style scoped>\n",
       "    .dataframe tbody tr th:only-of-type {\n",
       "        vertical-align: middle;\n",
       "    }\n",
       "\n",
       "    .dataframe tbody tr th {\n",
       "        vertical-align: top;\n",
       "    }\n",
       "\n",
       "    .dataframe thead th {\n",
       "        text-align: right;\n",
       "    }\n",
       "</style>\n",
       "<table border=\"1\" class=\"dataframe\">\n",
       "  <thead>\n",
       "    <tr style=\"text-align: right;\">\n",
       "      <th></th>\n",
       "      <th>Sex</th>\n",
       "      <th>Age</th>\n",
       "      <th>Height</th>\n",
       "      <th>Weight</th>\n",
       "      <th>Duration</th>\n",
       "      <th>Heart_Rate</th>\n",
       "      <th>Body_Temp</th>\n",
       "      <th>Calories</th>\n",
       "    </tr>\n",
       "    <tr>\n",
       "      <th>User_ID</th>\n",
       "      <th></th>\n",
       "      <th></th>\n",
       "      <th></th>\n",
       "      <th></th>\n",
       "      <th></th>\n",
       "      <th></th>\n",
       "      <th></th>\n",
       "      <th></th>\n",
       "    </tr>\n",
       "  </thead>\n",
       "  <tbody>\n",
       "    <tr>\n",
       "      <th>14733363</th>\n",
       "      <td>male</td>\n",
       "      <td>68</td>\n",
       "      <td>190.0</td>\n",
       "      <td>94.0</td>\n",
       "      <td>29.0</td>\n",
       "      <td>105.0</td>\n",
       "      <td>40.8</td>\n",
       "      <td>231.0</td>\n",
       "    </tr>\n",
       "    <tr>\n",
       "      <th>14861698</th>\n",
       "      <td>female</td>\n",
       "      <td>20</td>\n",
       "      <td>166.0</td>\n",
       "      <td>60.0</td>\n",
       "      <td>14.0</td>\n",
       "      <td>94.0</td>\n",
       "      <td>40.3</td>\n",
       "      <td>66.0</td>\n",
       "    </tr>\n",
       "    <tr>\n",
       "      <th>11179863</th>\n",
       "      <td>male</td>\n",
       "      <td>69</td>\n",
       "      <td>179.0</td>\n",
       "      <td>79.0</td>\n",
       "      <td>5.0</td>\n",
       "      <td>88.0</td>\n",
       "      <td>38.7</td>\n",
       "      <td>26.0</td>\n",
       "    </tr>\n",
       "    <tr>\n",
       "      <th>16180408</th>\n",
       "      <td>female</td>\n",
       "      <td>34</td>\n",
       "      <td>179.0</td>\n",
       "      <td>71.0</td>\n",
       "      <td>13.0</td>\n",
       "      <td>100.0</td>\n",
       "      <td>40.5</td>\n",
       "      <td>71.0</td>\n",
       "    </tr>\n",
       "    <tr>\n",
       "      <th>17771927</th>\n",
       "      <td>female</td>\n",
       "      <td>27</td>\n",
       "      <td>154.0</td>\n",
       "      <td>58.0</td>\n",
       "      <td>10.0</td>\n",
       "      <td>81.0</td>\n",
       "      <td>39.8</td>\n",
       "      <td>35.0</td>\n",
       "    </tr>\n",
       "  </tbody>\n",
       "</table>\n",
       "</div>"
      ],
      "text/plain": [
       "             Sex  Age  Height  Weight  Duration  Heart_Rate  Body_Temp  \\\n",
       "User_ID                                                                  \n",
       "14733363    male   68   190.0    94.0      29.0       105.0       40.8   \n",
       "14861698  female   20   166.0    60.0      14.0        94.0       40.3   \n",
       "11179863    male   69   179.0    79.0       5.0        88.0       38.7   \n",
       "16180408  female   34   179.0    71.0      13.0       100.0       40.5   \n",
       "17771927  female   27   154.0    58.0      10.0        81.0       39.8   \n",
       "\n",
       "          Calories  \n",
       "User_ID             \n",
       "14733363     231.0  \n",
       "14861698      66.0  \n",
       "11179863      26.0  \n",
       "16180408      71.0  \n",
       "17771927      35.0  "
      ]
     },
     "execution_count": 5,
     "metadata": {},
     "output_type": "execute_result"
    }
   ],
   "source": [
    "org.head()"
   ]
  },
  {
   "cell_type": "markdown",
   "id": "c71f4150",
   "metadata": {
    "papermill": {
     "duration": 0.003446,
     "end_time": "2025-05-07T12:16:29.562129",
     "exception": false,
     "start_time": "2025-05-07T12:16:29.558683",
     "status": "completed"
    },
    "tags": []
   },
   "source": [
    "# Data Understanding"
   ]
  },
  {
   "cell_type": "code",
   "execution_count": 6,
   "id": "fe520212",
   "metadata": {
    "execution": {
     "iopub.execute_input": "2025-05-07T12:16:29.569766Z",
     "iopub.status.busy": "2025-05-07T12:16:29.569542Z",
     "iopub.status.idle": "2025-05-07T12:16:29.573940Z",
     "shell.execute_reply": "2025-05-07T12:16:29.573380Z"
    },
    "papermill": {
     "duration": 0.009235,
     "end_time": "2025-05-07T12:16:29.574880",
     "exception": false,
     "start_time": "2025-05-07T12:16:29.565645",
     "status": "completed"
    },
    "tags": []
   },
   "outputs": [
    {
     "data": {
      "text/plain": [
       "(250000, 7)"
      ]
     },
     "execution_count": 6,
     "metadata": {},
     "output_type": "execute_result"
    }
   ],
   "source": [
    "test.shape"
   ]
  },
  {
   "cell_type": "code",
   "execution_count": 7,
   "id": "caa2ec82",
   "metadata": {
    "execution": {
     "iopub.execute_input": "2025-05-07T12:16:29.583014Z",
     "iopub.status.busy": "2025-05-07T12:16:29.582427Z",
     "iopub.status.idle": "2025-05-07T12:16:29.606812Z",
     "shell.execute_reply": "2025-05-07T12:16:29.606209Z"
    },
    "papermill": {
     "duration": 0.029591,
     "end_time": "2025-05-07T12:16:29.607990",
     "exception": false,
     "start_time": "2025-05-07T12:16:29.578399",
     "status": "completed"
    },
    "tags": []
   },
   "outputs": [
    {
     "data": {
      "text/html": [
       "<div>\n",
       "<style scoped>\n",
       "    .dataframe tbody tr th:only-of-type {\n",
       "        vertical-align: middle;\n",
       "    }\n",
       "\n",
       "    .dataframe tbody tr th {\n",
       "        vertical-align: top;\n",
       "    }\n",
       "\n",
       "    .dataframe thead th {\n",
       "        text-align: right;\n",
       "    }\n",
       "</style>\n",
       "<table border=\"1\" class=\"dataframe\">\n",
       "  <thead>\n",
       "    <tr style=\"text-align: right;\">\n",
       "      <th></th>\n",
       "      <th>Sex</th>\n",
       "      <th>Age</th>\n",
       "      <th>Height</th>\n",
       "      <th>Weight</th>\n",
       "      <th>Duration</th>\n",
       "      <th>Heart_Rate</th>\n",
       "      <th>Body_Temp</th>\n",
       "      <th>Calories</th>\n",
       "    </tr>\n",
       "  </thead>\n",
       "  <tbody>\n",
       "    <tr>\n",
       "      <th>0</th>\n",
       "      <td>male</td>\n",
       "      <td>36</td>\n",
       "      <td>189.0</td>\n",
       "      <td>82.0</td>\n",
       "      <td>26.0</td>\n",
       "      <td>101.0</td>\n",
       "      <td>41.0</td>\n",
       "      <td>150.0</td>\n",
       "    </tr>\n",
       "    <tr>\n",
       "      <th>1</th>\n",
       "      <td>female</td>\n",
       "      <td>64</td>\n",
       "      <td>163.0</td>\n",
       "      <td>60.0</td>\n",
       "      <td>8.0</td>\n",
       "      <td>85.0</td>\n",
       "      <td>39.7</td>\n",
       "      <td>34.0</td>\n",
       "    </tr>\n",
       "    <tr>\n",
       "      <th>2</th>\n",
       "      <td>female</td>\n",
       "      <td>51</td>\n",
       "      <td>161.0</td>\n",
       "      <td>64.0</td>\n",
       "      <td>7.0</td>\n",
       "      <td>84.0</td>\n",
       "      <td>39.8</td>\n",
       "      <td>29.0</td>\n",
       "    </tr>\n",
       "    <tr>\n",
       "      <th>3</th>\n",
       "      <td>male</td>\n",
       "      <td>20</td>\n",
       "      <td>192.0</td>\n",
       "      <td>90.0</td>\n",
       "      <td>25.0</td>\n",
       "      <td>105.0</td>\n",
       "      <td>40.7</td>\n",
       "      <td>140.0</td>\n",
       "    </tr>\n",
       "    <tr>\n",
       "      <th>4</th>\n",
       "      <td>female</td>\n",
       "      <td>38</td>\n",
       "      <td>166.0</td>\n",
       "      <td>61.0</td>\n",
       "      <td>25.0</td>\n",
       "      <td>102.0</td>\n",
       "      <td>40.6</td>\n",
       "      <td>146.0</td>\n",
       "    </tr>\n",
       "    <tr>\n",
       "      <th>5</th>\n",
       "      <td>female</td>\n",
       "      <td>26</td>\n",
       "      <td>156.0</td>\n",
       "      <td>56.0</td>\n",
       "      <td>19.0</td>\n",
       "      <td>100.0</td>\n",
       "      <td>40.5</td>\n",
       "      <td>103.0</td>\n",
       "    </tr>\n",
       "    <tr>\n",
       "      <th>6</th>\n",
       "      <td>female</td>\n",
       "      <td>21</td>\n",
       "      <td>172.0</td>\n",
       "      <td>73.0</td>\n",
       "      <td>3.0</td>\n",
       "      <td>81.0</td>\n",
       "      <td>38.3</td>\n",
       "      <td>9.0</td>\n",
       "    </tr>\n",
       "    <tr>\n",
       "      <th>7</th>\n",
       "      <td>male</td>\n",
       "      <td>46</td>\n",
       "      <td>188.0</td>\n",
       "      <td>94.0</td>\n",
       "      <td>23.0</td>\n",
       "      <td>100.0</td>\n",
       "      <td>40.8</td>\n",
       "      <td>145.0</td>\n",
       "    </tr>\n",
       "    <tr>\n",
       "      <th>8</th>\n",
       "      <td>female</td>\n",
       "      <td>33</td>\n",
       "      <td>166.0</td>\n",
       "      <td>63.0</td>\n",
       "      <td>25.0</td>\n",
       "      <td>107.0</td>\n",
       "      <td>40.5</td>\n",
       "      <td>161.0</td>\n",
       "    </tr>\n",
       "    <tr>\n",
       "      <th>9</th>\n",
       "      <td>male</td>\n",
       "      <td>65</td>\n",
       "      <td>185.0</td>\n",
       "      <td>88.0</td>\n",
       "      <td>23.0</td>\n",
       "      <td>104.0</td>\n",
       "      <td>41.0</td>\n",
       "      <td>185.0</td>\n",
       "    </tr>\n",
       "  </tbody>\n",
       "</table>\n",
       "</div>"
      ],
      "text/plain": [
       "      Sex  Age  Height  Weight  Duration  Heart_Rate  Body_Temp  Calories\n",
       "0    male   36   189.0    82.0      26.0       101.0       41.0     150.0\n",
       "1  female   64   163.0    60.0       8.0        85.0       39.7      34.0\n",
       "2  female   51   161.0    64.0       7.0        84.0       39.8      29.0\n",
       "3    male   20   192.0    90.0      25.0       105.0       40.7     140.0\n",
       "4  female   38   166.0    61.0      25.0       102.0       40.6     146.0\n",
       "5  female   26   156.0    56.0      19.0       100.0       40.5     103.0\n",
       "6  female   21   172.0    73.0       3.0        81.0       38.3       9.0\n",
       "7    male   46   188.0    94.0      23.0       100.0       40.8     145.0\n",
       "8  female   33   166.0    63.0      25.0       107.0       40.5     161.0\n",
       "9    male   65   185.0    88.0      23.0       104.0       41.0     185.0"
      ]
     },
     "execution_count": 7,
     "metadata": {},
     "output_type": "execute_result"
    }
   ],
   "source": [
    "train.head(10)"
   ]
  },
  {
   "cell_type": "code",
   "execution_count": 8,
   "id": "5687c172",
   "metadata": {
    "execution": {
     "iopub.execute_input": "2025-05-07T12:16:29.616730Z",
     "iopub.status.busy": "2025-05-07T12:16:29.616511Z",
     "iopub.status.idle": "2025-05-07T12:16:30.806169Z",
     "shell.execute_reply": "2025-05-07T12:16:30.805428Z"
    },
    "papermill": {
     "duration": 1.19544,
     "end_time": "2025-05-07T12:16:30.807486",
     "exception": false,
     "start_time": "2025-05-07T12:16:29.612046",
     "status": "completed"
    },
    "tags": []
   },
   "outputs": [
    {
     "data": {
      "text/html": [
       "<div>\n",
       "<style scoped>\n",
       "    .dataframe tbody tr th:only-of-type {\n",
       "        vertical-align: middle;\n",
       "    }\n",
       "\n",
       "    .dataframe tbody tr th {\n",
       "        vertical-align: top;\n",
       "    }\n",
       "\n",
       "    .dataframe thead th {\n",
       "        text-align: right;\n",
       "    }\n",
       "</style>\n",
       "<table border=\"1\" class=\"dataframe\">\n",
       "  <thead>\n",
       "    <tr style=\"text-align: right;\">\n",
       "      <th></th>\n",
       "      <th>Age</th>\n",
       "      <th>Height</th>\n",
       "      <th>Weight</th>\n",
       "      <th>Duration</th>\n",
       "      <th>Heart_Rate</th>\n",
       "      <th>Body_Temp</th>\n",
       "      <th>Calories</th>\n",
       "    </tr>\n",
       "  </thead>\n",
       "  <tbody>\n",
       "    <tr>\n",
       "      <th>count</th>\n",
       "      <td>765000.000000</td>\n",
       "      <td>765000.000000</td>\n",
       "      <td>765000.000000</td>\n",
       "      <td>765000.000000</td>\n",
       "      <td>765000.000000</td>\n",
       "      <td>765000.000000</td>\n",
       "      <td>765000.000000</td>\n",
       "    </tr>\n",
       "    <tr>\n",
       "      <th>mean</th>\n",
       "      <td>41.447255</td>\n",
       "      <td>174.693126</td>\n",
       "      <td>75.142162</td>\n",
       "      <td>15.423163</td>\n",
       "      <td>95.484672</td>\n",
       "      <td>40.036041</td>\n",
       "      <td>88.307424</td>\n",
       "    </tr>\n",
       "    <tr>\n",
       "      <th>std</th>\n",
       "      <td>15.213677</td>\n",
       "      <td>12.854173</td>\n",
       "      <td>14.004122</td>\n",
       "      <td>8.353421</td>\n",
       "      <td>9.452476</td>\n",
       "      <td>0.779863</td>\n",
       "      <td>62.396760</td>\n",
       "    </tr>\n",
       "    <tr>\n",
       "      <th>min</th>\n",
       "      <td>20.000000</td>\n",
       "      <td>123.000000</td>\n",
       "      <td>36.000000</td>\n",
       "      <td>1.000000</td>\n",
       "      <td>67.000000</td>\n",
       "      <td>37.100000</td>\n",
       "      <td>1.000000</td>\n",
       "    </tr>\n",
       "    <tr>\n",
       "      <th>25%</th>\n",
       "      <td>28.000000</td>\n",
       "      <td>164.000000</td>\n",
       "      <td>63.000000</td>\n",
       "      <td>8.000000</td>\n",
       "      <td>88.000000</td>\n",
       "      <td>39.600000</td>\n",
       "      <td>34.000000</td>\n",
       "    </tr>\n",
       "    <tr>\n",
       "      <th>50%</th>\n",
       "      <td>40.000000</td>\n",
       "      <td>174.000000</td>\n",
       "      <td>74.000000</td>\n",
       "      <td>15.000000</td>\n",
       "      <td>95.000000</td>\n",
       "      <td>40.300000</td>\n",
       "      <td>77.000000</td>\n",
       "    </tr>\n",
       "    <tr>\n",
       "      <th>75%</th>\n",
       "      <td>52.000000</td>\n",
       "      <td>185.000000</td>\n",
       "      <td>87.000000</td>\n",
       "      <td>23.000000</td>\n",
       "      <td>103.000000</td>\n",
       "      <td>40.700000</td>\n",
       "      <td>136.000000</td>\n",
       "    </tr>\n",
       "    <tr>\n",
       "      <th>max</th>\n",
       "      <td>79.000000</td>\n",
       "      <td>222.000000</td>\n",
       "      <td>132.000000</td>\n",
       "      <td>30.000000</td>\n",
       "      <td>128.000000</td>\n",
       "      <td>41.500000</td>\n",
       "      <td>314.000000</td>\n",
       "    </tr>\n",
       "  </tbody>\n",
       "</table>\n",
       "</div>"
      ],
      "text/plain": [
       "                 Age         Height         Weight       Duration  \\\n",
       "count  765000.000000  765000.000000  765000.000000  765000.000000   \n",
       "mean       41.447255     174.693126      75.142162      15.423163   \n",
       "std        15.213677      12.854173      14.004122       8.353421   \n",
       "min        20.000000     123.000000      36.000000       1.000000   \n",
       "25%        28.000000     164.000000      63.000000       8.000000   \n",
       "50%        40.000000     174.000000      74.000000      15.000000   \n",
       "75%        52.000000     185.000000      87.000000      23.000000   \n",
       "max        79.000000     222.000000     132.000000      30.000000   \n",
       "\n",
       "          Heart_Rate      Body_Temp       Calories  \n",
       "count  765000.000000  765000.000000  765000.000000  \n",
       "mean       95.484672      40.036041      88.307424  \n",
       "std         9.452476       0.779863      62.396760  \n",
       "min        67.000000      37.100000       1.000000  \n",
       "25%        88.000000      39.600000      34.000000  \n",
       "50%        95.000000      40.300000      77.000000  \n",
       "75%       103.000000      40.700000     136.000000  \n",
       "max       128.000000      41.500000     314.000000  "
      ]
     },
     "execution_count": 8,
     "metadata": {},
     "output_type": "execute_result"
    }
   ],
   "source": [
    "train.describe()"
   ]
  },
  {
   "cell_type": "code",
   "execution_count": 9,
   "id": "ed36113a",
   "metadata": {
    "execution": {
     "iopub.execute_input": "2025-05-07T12:16:30.816821Z",
     "iopub.status.busy": "2025-05-07T12:16:30.816610Z",
     "iopub.status.idle": "2025-05-07T12:16:30.898080Z",
     "shell.execute_reply": "2025-05-07T12:16:30.897425Z"
    },
    "papermill": {
     "duration": 0.087269,
     "end_time": "2025-05-07T12:16:30.899146",
     "exception": false,
     "start_time": "2025-05-07T12:16:30.811877",
     "status": "completed"
    },
    "tags": []
   },
   "outputs": [
    {
     "data": {
      "text/plain": [
       "Sex           0\n",
       "Age           0\n",
       "Height        0\n",
       "Weight        0\n",
       "Duration      0\n",
       "Heart_Rate    0\n",
       "Body_Temp     0\n",
       "Calories      0\n",
       "dtype: int64"
      ]
     },
     "execution_count": 9,
     "metadata": {},
     "output_type": "execute_result"
    }
   ],
   "source": [
    "train.isnull().sum()"
   ]
  },
  {
   "cell_type": "code",
   "execution_count": 10,
   "id": "0f229153",
   "metadata": {
    "execution": {
     "iopub.execute_input": "2025-05-07T12:16:30.907682Z",
     "iopub.status.busy": "2025-05-07T12:16:30.907478Z",
     "iopub.status.idle": "2025-05-07T12:16:30.917868Z",
     "shell.execute_reply": "2025-05-07T12:16:30.917169Z"
    },
    "papermill": {
     "duration": 0.015945,
     "end_time": "2025-05-07T12:16:30.919033",
     "exception": false,
     "start_time": "2025-05-07T12:16:30.903088",
     "status": "completed"
    },
    "tags": []
   },
   "outputs": [
    {
     "name": "stdout",
     "output_type": "stream",
     "text": [
      "<class 'cudf.core.dataframe.DataFrame'>\n",
      "RangeIndex: 765000 entries, 0 to 764999\n",
      "Data columns (total 8 columns):\n",
      " #   Column      Non-Null Count   Dtype\n",
      "---  ------      --------------   -----\n",
      " 0   Sex         765000 non-null  object\n",
      " 1   Age         765000 non-null  int64\n",
      " 2   Height      765000 non-null  float64\n",
      " 3   Weight      765000 non-null  float64\n",
      " 4   Duration    765000 non-null  float64\n",
      " 5   Heart_Rate  765000 non-null  float64\n",
      " 6   Body_Temp   765000 non-null  float64\n",
      " 7   Calories    765000 non-null  float64\n",
      "dtypes: float64(6), int64(1), object(1)\n",
      "memory usage: 47.4+ MB\n"
     ]
    }
   ],
   "source": [
    "train.info()"
   ]
  },
  {
   "cell_type": "markdown",
   "id": "377bdc85",
   "metadata": {
    "papermill": {
     "duration": 0.003739,
     "end_time": "2025-05-07T12:16:30.926801",
     "exception": false,
     "start_time": "2025-05-07T12:16:30.923062",
     "status": "completed"
    },
    "tags": []
   },
   "source": [
    "# Data Preprocessing"
   ]
  },
  {
   "cell_type": "markdown",
   "id": "912d0f56",
   "metadata": {
    "papermill": {
     "duration": 0.003674,
     "end_time": "2025-05-07T12:16:30.934451",
     "exception": false,
     "start_time": "2025-05-07T12:16:30.930777",
     "status": "completed"
    },
    "tags": []
   },
   "source": [
    "## Reducing memory usage"
   ]
  },
  {
   "cell_type": "code",
   "execution_count": 11,
   "id": "e8a4c28f",
   "metadata": {
    "execution": {
     "iopub.execute_input": "2025-05-07T12:16:30.942974Z",
     "iopub.status.busy": "2025-05-07T12:16:30.942753Z",
     "iopub.status.idle": "2025-05-07T12:16:30.969185Z",
     "shell.execute_reply": "2025-05-07T12:16:30.968384Z"
    },
    "papermill": {
     "duration": 0.032146,
     "end_time": "2025-05-07T12:16:30.970470",
     "exception": false,
     "start_time": "2025-05-07T12:16:30.938324",
     "status": "completed"
    },
    "tags": []
   },
   "outputs": [],
   "source": [
    "train['Sex'] = train['Sex'].astype('category')\n",
    "test['Sex'] = test['Sex'].astype('category')"
   ]
  },
  {
   "cell_type": "code",
   "execution_count": 12,
   "id": "b4ef0e93",
   "metadata": {
    "execution": {
     "iopub.execute_input": "2025-05-07T12:16:30.981548Z",
     "iopub.status.busy": "2025-05-07T12:16:30.980978Z",
     "iopub.status.idle": "2025-05-07T12:16:30.985815Z",
     "shell.execute_reply": "2025-05-07T12:16:30.985341Z"
    },
    "papermill": {
     "duration": 0.01087,
     "end_time": "2025-05-07T12:16:30.986720",
     "exception": false,
     "start_time": "2025-05-07T12:16:30.975850",
     "status": "completed"
    },
    "tags": []
   },
   "outputs": [],
   "source": [
    "train['Age'] = train['Age'].astype('int8')\n",
    "test['Age'] = test['Age'].astype('int8')"
   ]
  },
  {
   "cell_type": "code",
   "execution_count": 13,
   "id": "53eac94d",
   "metadata": {
    "execution": {
     "iopub.execute_input": "2025-05-07T12:16:30.995475Z",
     "iopub.status.busy": "2025-05-07T12:16:30.995280Z",
     "iopub.status.idle": "2025-05-07T12:16:31.459229Z",
     "shell.execute_reply": "2025-05-07T12:16:31.458650Z"
    },
    "papermill": {
     "duration": 0.469512,
     "end_time": "2025-05-07T12:16:31.460506",
     "exception": false,
     "start_time": "2025-05-07T12:16:30.990994",
     "status": "completed"
    },
    "tags": []
   },
   "outputs": [],
   "source": [
    "num_cols = test.select_dtypes(include='float64').columns\n",
    "for col in num_cols:\n",
    "    train[num_cols] = train[num_cols].astype('float32')\n",
    "    test[num_cols] = test[num_cols].astype('float32')"
   ]
  },
  {
   "cell_type": "code",
   "execution_count": 14,
   "id": "7f533f88",
   "metadata": {
    "execution": {
     "iopub.execute_input": "2025-05-07T12:16:31.469552Z",
     "iopub.status.busy": "2025-05-07T12:16:31.469329Z",
     "iopub.status.idle": "2025-05-07T12:16:31.487446Z",
     "shell.execute_reply": "2025-05-07T12:16:31.486724Z"
    },
    "papermill": {
     "duration": 0.023755,
     "end_time": "2025-05-07T12:16:31.488525",
     "exception": false,
     "start_time": "2025-05-07T12:16:31.464770",
     "status": "completed"
    },
    "tags": []
   },
   "outputs": [
    {
     "name": "stdout",
     "output_type": "stream",
     "text": [
      "<class 'cudf.core.dataframe.DataFrame'>\n",
      "RangeIndex: 765000 entries, 0 to 764999\n",
      "Data columns (total 8 columns):\n",
      " #   Column      Non-Null Count   Dtype\n",
      "---  ------      --------------   -----\n",
      " 0   Sex         765000 non-null  category\n",
      " 1   Age         765000 non-null  int8\n",
      " 2   Height      765000 non-null  float32\n",
      " 3   Weight      765000 non-null  float32\n",
      " 4   Duration    765000 non-null  float32\n",
      " 5   Heart_Rate  765000 non-null  float32\n",
      " 6   Body_Temp   765000 non-null  float32\n",
      " 7   Calories    765000 non-null  float64\n",
      "dtypes: category(1), float32(5), float64(1), int8(1)\n",
      "memory usage: 21.9 MB\n"
     ]
    }
   ],
   "source": [
    "train.info()"
   ]
  },
  {
   "cell_type": "code",
   "execution_count": 15,
   "id": "b7807dec",
   "metadata": {
    "execution": {
     "iopub.execute_input": "2025-05-07T12:16:31.497536Z",
     "iopub.status.busy": "2025-05-07T12:16:31.497162Z",
     "iopub.status.idle": "2025-05-07T12:16:31.548413Z",
     "shell.execute_reply": "2025-05-07T12:16:31.547725Z"
    },
    "papermill": {
     "duration": 0.056727,
     "end_time": "2025-05-07T12:16:31.549468",
     "exception": false,
     "start_time": "2025-05-07T12:16:31.492741",
     "status": "completed"
    },
    "tags": []
   },
   "outputs": [],
   "source": [
    "mapping = {'male': 1, 'female': 0.9}\n",
    "\n",
    "train['Sex'] = train['Sex'].map(mapping)\n",
    "test['Sex'] = test['Sex'].map(mapping)"
   ]
  },
  {
   "cell_type": "code",
   "execution_count": 16,
   "id": "eae19a8b",
   "metadata": {
    "execution": {
     "iopub.execute_input": "2025-05-07T12:16:31.558389Z",
     "iopub.status.busy": "2025-05-07T12:16:31.557809Z",
     "iopub.status.idle": "2025-05-07T12:16:31.561207Z",
     "shell.execute_reply": "2025-05-07T12:16:31.560550Z"
    },
    "papermill": {
     "duration": 0.008845,
     "end_time": "2025-05-07T12:16:31.562267",
     "exception": false,
     "start_time": "2025-05-07T12:16:31.553422",
     "status": "completed"
    },
    "tags": []
   },
   "outputs": [],
   "source": [
    "features = ['Sex', 'Age', 'Height', 'Weight', 'Duration', 'Heart_Rate', 'Body_Temp']"
   ]
  },
  {
   "cell_type": "code",
   "execution_count": 17,
   "id": "8cca032c",
   "metadata": {
    "execution": {
     "iopub.execute_input": "2025-05-07T12:16:31.571170Z",
     "iopub.status.busy": "2025-05-07T12:16:31.570977Z",
     "iopub.status.idle": "2025-05-07T12:16:31.574725Z",
     "shell.execute_reply": "2025-05-07T12:16:31.574224Z"
    },
    "papermill": {
     "duration": 0.009388,
     "end_time": "2025-05-07T12:16:31.575818",
     "exception": false,
     "start_time": "2025-05-07T12:16:31.566430",
     "status": "completed"
    },
    "tags": []
   },
   "outputs": [],
   "source": [
    "def add_features(df):\n",
    "    for i, c1 in enumerate(features):\n",
    "        for c2 in (features[i+1:]):\n",
    "            m = f'{c1}*{c2}'\n",
    "            df[m] = df[c1] * df[c2]\n",
    "            a = f'{c1}+{c2}'\n",
    "            df[a] = df[c1] + df[c2]\n",
    "            d = f'{c1}/{c2}'\n",
    "            df[d] = df[c1] / df[c2]\n",
    "    return df"
   ]
  },
  {
   "cell_type": "code",
   "execution_count": 18,
   "id": "4e5f3069",
   "metadata": {
    "execution": {
     "iopub.execute_input": "2025-05-07T12:16:31.584408Z",
     "iopub.status.busy": "2025-05-07T12:16:31.584241Z",
     "iopub.status.idle": "2025-05-07T12:16:31.588525Z",
     "shell.execute_reply": "2025-05-07T12:16:31.588085Z"
    },
    "papermill": {
     "duration": 0.009746,
     "end_time": "2025-05-07T12:16:31.589541",
     "exception": false,
     "start_time": "2025-05-07T12:16:31.579795",
     "status": "completed"
    },
    "tags": []
   },
   "outputs": [],
   "source": [
    "def feature_engineer(df):\n",
    "    df['duration_expo'] = df['Duration'] ** 2\n",
    "    df['duration_log'] = np.log1p(df['Duration'])\n",
    "\n",
    "    df['heart_expo'] = df['Heart_Rate'] ** 2\n",
    "    df['heart_log'] = np.log1p(df['Heart_Rate'])\n",
    "    \n",
    "    df['body_expo'] = df['Body_Temp'] ** 2\n",
    "    df['body_log'] = np.log1p(df['Body_Temp'] ** 2)\n",
    "\n",
    "    df['BMI'] = df['Weight'] / ((df['Height']/100) ** 2)\n",
    "    df['Heart_Rate_Per_Minute'] = df['Heart_Rate'] / df['Duration']\n",
    "    df['Max_BPM'] = 220 - df['Age']\n",
    "    df['Avg_BPM'] = np.mean(df['Heart_Rate'])\n",
    "    df['Intensity'] = df['Avg_BPM'] / df['Max_BPM']\n",
    "    \n",
    "    return df"
   ]
  },
  {
   "cell_type": "code",
   "execution_count": 19,
   "id": "4e3a7e78",
   "metadata": {
    "execution": {
     "iopub.execute_input": "2025-05-07T12:16:31.598181Z",
     "iopub.status.busy": "2025-05-07T12:16:31.598007Z",
     "iopub.status.idle": "2025-05-07T12:16:32.046487Z",
     "shell.execute_reply": "2025-05-07T12:16:32.045920Z"
    },
    "papermill": {
     "duration": 0.454074,
     "end_time": "2025-05-07T12:16:32.047690",
     "exception": false,
     "start_time": "2025-05-07T12:16:31.593616",
     "status": "completed"
    },
    "tags": []
   },
   "outputs": [],
   "source": [
    "X = train.copy()\n",
    "y = X.pop('Calories')\n",
    "y = np.log1p(y)\n",
    "\n",
    "X = add_features(X)\n",
    "X = feature_engineer(X)\n",
    "\n",
    "X_test = test.copy()\n",
    "X_test = add_features(X_test)\n",
    "X_test = feature_engineer(X_test)"
   ]
  },
  {
   "cell_type": "code",
   "execution_count": 20,
   "id": "a28c11b5",
   "metadata": {
    "collapsed": true,
    "execution": {
     "iopub.execute_input": "2025-05-07T12:16:32.056982Z",
     "iopub.status.busy": "2025-05-07T12:16:32.056778Z",
     "iopub.status.idle": "2025-05-07T12:20:00.170380Z",
     "shell.execute_reply": "2025-05-07T12:20:00.169313Z"
    },
    "jupyter": {
     "outputs_hidden": true
    },
    "papermill": {
     "duration": 208.123676,
     "end_time": "2025-05-07T12:20:00.175752",
     "exception": false,
     "start_time": "2025-05-07T12:16:32.052076",
     "status": "completed"
    },
    "tags": []
   },
   "outputs": [
    {
     "name": "stdout",
     "output_type": "stream",
     "text": [
      "Fold 1 RMSE: 0.058758\n",
      "Fold 2 RMSE: 0.058843\n",
      "Fold 3 RMSE: 0.059635\n",
      "Fold 4 RMSE: 0.059461\n",
      "Fold 5 RMSE: 0.058819\n",
      "\n",
      "Overall OOF RMSLE: 0.059104\n"
     ]
    }
   ],
   "source": [
    "from sklearn.model_selection import KFold\n",
    "from sklearn.metrics import mean_squared_log_error\n",
    "from xgboost import XGBRegressor\n",
    "\n",
    "n_folds = 5\n",
    "kf = KFold(n_splits=n_folds, shuffle=True, random_state=100)\n",
    "\n",
    "oof_xgb = np.zeros(len(y))\n",
    "test_xgb = np.zeros(len(X_test))\n",
    "\n",
    "for fold, (train_index, valid_index) in enumerate(kf.split(X, y), start=1):\n",
    "        X_train, X_valid = X.iloc[train_index].copy(), X.iloc[valid_index].copy()\n",
    "        y_train, y_valid = y.iloc[train_index], y.iloc[valid_index]\n",
    "        \n",
    "        xgb = XGBRegressor(\n",
    "            n_estimators=3500, \n",
    "            learning_rate= 0.010042341305141641, \n",
    "            max_depth=10, \n",
    "            min_child_weight=7, \n",
    "            alpha= 0.031799792818970524, \n",
    "            reg_lambda=0.3580931274078332,\n",
    "            subsample=0.8272426766452907, \n",
    "            colsample_bytree=0.5766402912386329, \n",
    "            gamma=1.037011350094906e-08,\n",
    "            early_stopping_rounds=30,\n",
    "            tree_method='gpu_hist',\n",
    "            device='cuda',\n",
    "            seed=100,\n",
    "            objective='reg:squarederror', \n",
    "            eval_metric='rmse',\n",
    "        ).fit(X_train, y_train, eval_set=[(X_valid, y_valid)], verbose=0)\n",
    "    \n",
    "        valid_pred = xgb.predict(X_valid)\n",
    "        oof_xgb[valid_index] = valid_pred\n",
    "        test_xgb += xgb.predict(X_test) / n_folds\n",
    "    \n",
    "        fold_rmsle = np.sqrt(mean_squared_log_error(np.expm1(y_valid), np.expm1(valid_pred)))\n",
    "        print(f\"Fold {fold} RMSE: {fold_rmsle:.6f}\")\n",
    "\n",
    "test_xgb = np.expm1(test_xgb)\n",
    "test_xgb = np.clip(test_xgb, 1, 314)\n",
    "overall_rmsle = np.sqrt(mean_squared_log_error(np.expm1(y), np.expm1(oof_xgb)))\n",
    "print(f\"\\nOverall OOF RMSLE: {overall_rmsle:.6f}\")   "
   ]
  },
  {
   "cell_type": "code",
   "execution_count": 21,
   "id": "daaaa6f6",
   "metadata": {
    "execution": {
     "iopub.execute_input": "2025-05-07T12:20:00.185427Z",
     "iopub.status.busy": "2025-05-07T12:20:00.184985Z",
     "iopub.status.idle": "2025-05-07T12:20:00.257324Z",
     "shell.execute_reply": "2025-05-07T12:20:00.256430Z"
    },
    "papermill": {
     "duration": 0.078423,
     "end_time": "2025-05-07T12:20:00.258519",
     "exception": false,
     "start_time": "2025-05-07T12:20:00.180096",
     "status": "completed"
    },
    "tags": []
   },
   "outputs": [
    {
     "name": "stdout",
     "output_type": "stream",
     "text": [
      "Your submission was successfully saved!\n",
      "       id    Calories\n",
      "0  750000   27.329469\n",
      "1  750001  107.461980\n",
      "2  750002   87.450613\n",
      "3  750003  126.140982\n",
      "4  750004   75.902741\n"
     ]
    }
   ],
   "source": [
    "sub = pd.read_csv('/kaggle/input/playground-series-s5e5/sample_submission.csv')\n",
    "sub['Calories'] = test_xgb\n",
    "sub.to_csv('submission.csv', index=False)\n",
    "print(\"Your submission was successfully saved!\")\n",
    "print(sub.head(5))"
   ]
  }
 ],
 "metadata": {
  "kaggle": {
   "accelerator": "nvidiaTeslaT4",
   "dataSources": [
    {
     "databundleVersionId": 11893428,
     "sourceId": 91716,
     "sourceType": "competition"
    },
    {
     "datasetId": 6512323,
     "sourceId": 10522392,
     "sourceType": "datasetVersion"
    }
   ],
   "dockerImageVersionId": 31012,
   "isGpuEnabled": true,
   "isInternetEnabled": true,
   "language": "python",
   "sourceType": "notebook"
  },
  "kernelspec": {
   "display_name": "Python 3",
   "language": "python",
   "name": "python3"
  },
  "language_info": {
   "codemirror_mode": {
    "name": "ipython",
    "version": 3
   },
   "file_extension": ".py",
   "mimetype": "text/x-python",
   "name": "python",
   "nbconvert_exporter": "python",
   "pygments_lexer": "ipython3",
   "version": "3.11.11"
  },
  "papermill": {
   "default_parameters": {},
   "duration": 226.318315,
   "end_time": "2025-05-07T12:20:01.682074",
   "environment_variables": {},
   "exception": null,
   "input_path": "__notebook__.ipynb",
   "output_path": "__notebook__.ipynb",
   "parameters": {},
   "start_time": "2025-05-07T12:16:15.363759",
   "version": "2.6.0"
  }
 },
 "nbformat": 4,
 "nbformat_minor": 5
}
