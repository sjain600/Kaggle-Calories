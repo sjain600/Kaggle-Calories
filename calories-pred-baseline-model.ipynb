{
 "cells": [
  {
   "cell_type": "code",
   "execution_count": 1,
   "id": "8d02992e",
   "metadata": {
    "execution": {
     "iopub.execute_input": "2025-05-04T10:57:43.131751Z",
     "iopub.status.busy": "2025-05-04T10:57:43.130945Z",
     "iopub.status.idle": "2025-05-04T10:57:51.637012Z",
     "shell.execute_reply": "2025-05-04T10:57:51.636296Z"
    },
    "papermill": {
     "duration": 8.512686,
     "end_time": "2025-05-04T10:57:51.638331",
     "exception": false,
     "start_time": "2025-05-04T10:57:43.125645",
     "status": "completed"
    },
    "tags": []
   },
   "outputs": [
    {
     "name": "stdout",
     "output_type": "stream",
     "text": [
      "/kaggle/input/playground-series-s5e5/sample_submission.csv\n",
      "/kaggle/input/playground-series-s5e5/train.csv\n",
      "/kaggle/input/playground-series-s5e5/test.csv\n"
     ]
    },
    {
     "data": {
      "text/plain": [
       "<Figure size 1200x750 with 0 Axes>"
      ]
     },
     "metadata": {},
     "output_type": "display_data"
    }
   ],
   "source": [
    "# This Python 3 environment comes with many helpful analytics libraries installed\n",
    "# It is defined by the kaggle/python Docker image: https://github.com/kaggle/docker-python\n",
    "# For example, here's several helpful packages to load\n",
    "%load_ext cudf.pandas\n",
    "import numpy as np # linear algebra\n",
    "import pandas as pd # data processing, CSV file I/O (e.g. pd.read_csv)\n",
    "import matplotlib.pyplot as plt\n",
    "import seaborn as sns\n",
    "\n",
    "# Setting Matplotlib defaults\n",
    "plt.style.use('seaborn-v0_8')\n",
    "plt.rc('figure', figsize=(8,5), dpi=150)\n",
    "plt.rc('axes', labelweight='bold', labelsize='large',\n",
    "       titleweight='bold', titlesize=15, titlepad=10)\n",
    "plt.rc('animation', html='html5')\n",
    "plt.tight_layout()\n",
    "# Input data files are available in the read-only \"../input/\" directory\n",
    "# For example, running this (by clicking run or pressing Shift+Enter) will list all files under the input directory\n",
    "\n",
    "import os\n",
    "for dirname, _, filenames in os.walk('/kaggle/input'):\n",
    "    for filename in filenames:\n",
    "        print(os.path.join(dirname, filename))\n",
    "        \n",
    "import warnings\n",
    "warnings.simplefilter('ignore')\n",
    "\n",
    "pd.set_option('display.max_columns', 500)\n",
    "\n",
    "# You can write up to 20GB to the current directory (/kaggle/working/) that gets preserved as output when you create a version using \"Save & Run All\" \n",
    "# You can also write temporary files to /kaggle/temp/, but they won't be saved outside of the current session"
   ]
  },
  {
   "cell_type": "code",
   "execution_count": 2,
   "id": "d913e8a2",
   "metadata": {
    "execution": {
     "iopub.execute_input": "2025-05-04T10:57:51.647182Z",
     "iopub.status.busy": "2025-05-04T10:57:51.646790Z",
     "iopub.status.idle": "2025-05-04T10:57:52.164100Z",
     "shell.execute_reply": "2025-05-04T10:57:52.163286Z"
    },
    "papermill": {
     "duration": 0.522986,
     "end_time": "2025-05-04T10:57:52.165557",
     "exception": false,
     "start_time": "2025-05-04T10:57:51.642571",
     "status": "completed"
    },
    "tags": []
   },
   "outputs": [],
   "source": [
    "train = pd.read_csv('/kaggle/input/playground-series-s5e5/train.csv', index_col='id')\n",
    "test = pd.read_csv('/kaggle/input/playground-series-s5e5/test.csv', index_col='id')"
   ]
  },
  {
   "cell_type": "markdown",
   "id": "b976d0e8",
   "metadata": {
    "papermill": {
     "duration": 0.003572,
     "end_time": "2025-05-04T10:57:52.173168",
     "exception": false,
     "start_time": "2025-05-04T10:57:52.169596",
     "status": "completed"
    },
    "tags": []
   },
   "source": [
    "# Data Understanding"
   ]
  },
  {
   "cell_type": "code",
   "execution_count": 3,
   "id": "5399706e",
   "metadata": {
    "execution": {
     "iopub.execute_input": "2025-05-04T10:57:52.181333Z",
     "iopub.status.busy": "2025-05-04T10:57:52.181080Z",
     "iopub.status.idle": "2025-05-04T10:57:52.186424Z",
     "shell.execute_reply": "2025-05-04T10:57:52.185823Z"
    },
    "papermill": {
     "duration": 0.010646,
     "end_time": "2025-05-04T10:57:52.187473",
     "exception": false,
     "start_time": "2025-05-04T10:57:52.176827",
     "status": "completed"
    },
    "tags": []
   },
   "outputs": [
    {
     "data": {
      "text/plain": [
       "(250000, 7)"
      ]
     },
     "execution_count": 3,
     "metadata": {},
     "output_type": "execute_result"
    }
   ],
   "source": [
    "test.shape"
   ]
  },
  {
   "cell_type": "code",
   "execution_count": 4,
   "id": "4d25b1a4",
   "metadata": {
    "execution": {
     "iopub.execute_input": "2025-05-04T10:57:52.196025Z",
     "iopub.status.busy": "2025-05-04T10:57:52.195821Z",
     "iopub.status.idle": "2025-05-04T10:57:52.243986Z",
     "shell.execute_reply": "2025-05-04T10:57:52.243423Z"
    },
    "papermill": {
     "duration": 0.053442,
     "end_time": "2025-05-04T10:57:52.245056",
     "exception": false,
     "start_time": "2025-05-04T10:57:52.191614",
     "status": "completed"
    },
    "tags": []
   },
   "outputs": [
    {
     "data": {
      "text/html": [
       "<div>\n",
       "<style scoped>\n",
       "    .dataframe tbody tr th:only-of-type {\n",
       "        vertical-align: middle;\n",
       "    }\n",
       "\n",
       "    .dataframe tbody tr th {\n",
       "        vertical-align: top;\n",
       "    }\n",
       "\n",
       "    .dataframe thead th {\n",
       "        text-align: right;\n",
       "    }\n",
       "</style>\n",
       "<table border=\"1\" class=\"dataframe\">\n",
       "  <thead>\n",
       "    <tr style=\"text-align: right;\">\n",
       "      <th></th>\n",
       "      <th>Sex</th>\n",
       "      <th>Age</th>\n",
       "      <th>Height</th>\n",
       "      <th>Weight</th>\n",
       "      <th>Duration</th>\n",
       "      <th>Heart_Rate</th>\n",
       "      <th>Body_Temp</th>\n",
       "      <th>Calories</th>\n",
       "    </tr>\n",
       "    <tr>\n",
       "      <th>id</th>\n",
       "      <th></th>\n",
       "      <th></th>\n",
       "      <th></th>\n",
       "      <th></th>\n",
       "      <th></th>\n",
       "      <th></th>\n",
       "      <th></th>\n",
       "      <th></th>\n",
       "    </tr>\n",
       "  </thead>\n",
       "  <tbody>\n",
       "    <tr>\n",
       "      <th>0</th>\n",
       "      <td>male</td>\n",
       "      <td>36</td>\n",
       "      <td>189.0</td>\n",
       "      <td>82.0</td>\n",
       "      <td>26.0</td>\n",
       "      <td>101.0</td>\n",
       "      <td>41.0</td>\n",
       "      <td>150.0</td>\n",
       "    </tr>\n",
       "    <tr>\n",
       "      <th>1</th>\n",
       "      <td>female</td>\n",
       "      <td>64</td>\n",
       "      <td>163.0</td>\n",
       "      <td>60.0</td>\n",
       "      <td>8.0</td>\n",
       "      <td>85.0</td>\n",
       "      <td>39.7</td>\n",
       "      <td>34.0</td>\n",
       "    </tr>\n",
       "    <tr>\n",
       "      <th>2</th>\n",
       "      <td>female</td>\n",
       "      <td>51</td>\n",
       "      <td>161.0</td>\n",
       "      <td>64.0</td>\n",
       "      <td>7.0</td>\n",
       "      <td>84.0</td>\n",
       "      <td>39.8</td>\n",
       "      <td>29.0</td>\n",
       "    </tr>\n",
       "    <tr>\n",
       "      <th>3</th>\n",
       "      <td>male</td>\n",
       "      <td>20</td>\n",
       "      <td>192.0</td>\n",
       "      <td>90.0</td>\n",
       "      <td>25.0</td>\n",
       "      <td>105.0</td>\n",
       "      <td>40.7</td>\n",
       "      <td>140.0</td>\n",
       "    </tr>\n",
       "    <tr>\n",
       "      <th>4</th>\n",
       "      <td>female</td>\n",
       "      <td>38</td>\n",
       "      <td>166.0</td>\n",
       "      <td>61.0</td>\n",
       "      <td>25.0</td>\n",
       "      <td>102.0</td>\n",
       "      <td>40.6</td>\n",
       "      <td>146.0</td>\n",
       "    </tr>\n",
       "    <tr>\n",
       "      <th>5</th>\n",
       "      <td>female</td>\n",
       "      <td>26</td>\n",
       "      <td>156.0</td>\n",
       "      <td>56.0</td>\n",
       "      <td>19.0</td>\n",
       "      <td>100.0</td>\n",
       "      <td>40.5</td>\n",
       "      <td>103.0</td>\n",
       "    </tr>\n",
       "    <tr>\n",
       "      <th>6</th>\n",
       "      <td>female</td>\n",
       "      <td>21</td>\n",
       "      <td>172.0</td>\n",
       "      <td>73.0</td>\n",
       "      <td>3.0</td>\n",
       "      <td>81.0</td>\n",
       "      <td>38.3</td>\n",
       "      <td>9.0</td>\n",
       "    </tr>\n",
       "    <tr>\n",
       "      <th>7</th>\n",
       "      <td>male</td>\n",
       "      <td>46</td>\n",
       "      <td>188.0</td>\n",
       "      <td>94.0</td>\n",
       "      <td>23.0</td>\n",
       "      <td>100.0</td>\n",
       "      <td>40.8</td>\n",
       "      <td>145.0</td>\n",
       "    </tr>\n",
       "    <tr>\n",
       "      <th>8</th>\n",
       "      <td>female</td>\n",
       "      <td>33</td>\n",
       "      <td>166.0</td>\n",
       "      <td>63.0</td>\n",
       "      <td>25.0</td>\n",
       "      <td>107.0</td>\n",
       "      <td>40.5</td>\n",
       "      <td>161.0</td>\n",
       "    </tr>\n",
       "    <tr>\n",
       "      <th>9</th>\n",
       "      <td>male</td>\n",
       "      <td>65</td>\n",
       "      <td>185.0</td>\n",
       "      <td>88.0</td>\n",
       "      <td>23.0</td>\n",
       "      <td>104.0</td>\n",
       "      <td>41.0</td>\n",
       "      <td>185.0</td>\n",
       "    </tr>\n",
       "  </tbody>\n",
       "</table>\n",
       "</div>"
      ],
      "text/plain": [
       "       Sex  Age  Height  Weight  Duration  Heart_Rate  Body_Temp  Calories\n",
       "id                                                                        \n",
       "0     male   36   189.0    82.0      26.0       101.0       41.0     150.0\n",
       "1   female   64   163.0    60.0       8.0        85.0       39.7      34.0\n",
       "2   female   51   161.0    64.0       7.0        84.0       39.8      29.0\n",
       "3     male   20   192.0    90.0      25.0       105.0       40.7     140.0\n",
       "4   female   38   166.0    61.0      25.0       102.0       40.6     146.0\n",
       "5   female   26   156.0    56.0      19.0       100.0       40.5     103.0\n",
       "6   female   21   172.0    73.0       3.0        81.0       38.3       9.0\n",
       "7     male   46   188.0    94.0      23.0       100.0       40.8     145.0\n",
       "8   female   33   166.0    63.0      25.0       107.0       40.5     161.0\n",
       "9     male   65   185.0    88.0      23.0       104.0       41.0     185.0"
      ]
     },
     "execution_count": 4,
     "metadata": {},
     "output_type": "execute_result"
    }
   ],
   "source": [
    "train.head(10)"
   ]
  },
  {
   "cell_type": "code",
   "execution_count": 5,
   "id": "53f2bec5",
   "metadata": {
    "execution": {
     "iopub.execute_input": "2025-05-04T10:57:52.253533Z",
     "iopub.status.busy": "2025-05-04T10:57:52.253352Z",
     "iopub.status.idle": "2025-05-04T10:57:53.481340Z",
     "shell.execute_reply": "2025-05-04T10:57:53.480589Z"
    },
    "papermill": {
     "duration": 1.233551,
     "end_time": "2025-05-04T10:57:53.482601",
     "exception": false,
     "start_time": "2025-05-04T10:57:52.249050",
     "status": "completed"
    },
    "tags": []
   },
   "outputs": [
    {
     "data": {
      "text/html": [
       "<div>\n",
       "<style scoped>\n",
       "    .dataframe tbody tr th:only-of-type {\n",
       "        vertical-align: middle;\n",
       "    }\n",
       "\n",
       "    .dataframe tbody tr th {\n",
       "        vertical-align: top;\n",
       "    }\n",
       "\n",
       "    .dataframe thead th {\n",
       "        text-align: right;\n",
       "    }\n",
       "</style>\n",
       "<table border=\"1\" class=\"dataframe\">\n",
       "  <thead>\n",
       "    <tr style=\"text-align: right;\">\n",
       "      <th></th>\n",
       "      <th>Age</th>\n",
       "      <th>Height</th>\n",
       "      <th>Weight</th>\n",
       "      <th>Duration</th>\n",
       "      <th>Heart_Rate</th>\n",
       "      <th>Body_Temp</th>\n",
       "      <th>Calories</th>\n",
       "    </tr>\n",
       "  </thead>\n",
       "  <tbody>\n",
       "    <tr>\n",
       "      <th>count</th>\n",
       "      <td>750000.000000</td>\n",
       "      <td>750000.000000</td>\n",
       "      <td>750000.000000</td>\n",
       "      <td>750000.000000</td>\n",
       "      <td>750000.000000</td>\n",
       "      <td>750000.000000</td>\n",
       "      <td>750000.000000</td>\n",
       "    </tr>\n",
       "    <tr>\n",
       "      <th>mean</th>\n",
       "      <td>41.420404</td>\n",
       "      <td>174.697685</td>\n",
       "      <td>75.145668</td>\n",
       "      <td>15.421015</td>\n",
       "      <td>95.483995</td>\n",
       "      <td>40.036253</td>\n",
       "      <td>88.282781</td>\n",
       "    </tr>\n",
       "    <tr>\n",
       "      <th>std</th>\n",
       "      <td>15.175049</td>\n",
       "      <td>12.824496</td>\n",
       "      <td>13.982704</td>\n",
       "      <td>8.354095</td>\n",
       "      <td>9.449845</td>\n",
       "      <td>0.779875</td>\n",
       "      <td>62.395349</td>\n",
       "    </tr>\n",
       "    <tr>\n",
       "      <th>min</th>\n",
       "      <td>20.000000</td>\n",
       "      <td>126.000000</td>\n",
       "      <td>36.000000</td>\n",
       "      <td>1.000000</td>\n",
       "      <td>67.000000</td>\n",
       "      <td>37.100000</td>\n",
       "      <td>1.000000</td>\n",
       "    </tr>\n",
       "    <tr>\n",
       "      <th>25%</th>\n",
       "      <td>28.000000</td>\n",
       "      <td>164.000000</td>\n",
       "      <td>63.000000</td>\n",
       "      <td>8.000000</td>\n",
       "      <td>88.000000</td>\n",
       "      <td>39.600000</td>\n",
       "      <td>34.000000</td>\n",
       "    </tr>\n",
       "    <tr>\n",
       "      <th>50%</th>\n",
       "      <td>40.000000</td>\n",
       "      <td>174.000000</td>\n",
       "      <td>74.000000</td>\n",
       "      <td>15.000000</td>\n",
       "      <td>95.000000</td>\n",
       "      <td>40.300000</td>\n",
       "      <td>77.000000</td>\n",
       "    </tr>\n",
       "    <tr>\n",
       "      <th>75%</th>\n",
       "      <td>52.000000</td>\n",
       "      <td>185.000000</td>\n",
       "      <td>87.000000</td>\n",
       "      <td>23.000000</td>\n",
       "      <td>103.000000</td>\n",
       "      <td>40.700000</td>\n",
       "      <td>136.000000</td>\n",
       "    </tr>\n",
       "    <tr>\n",
       "      <th>max</th>\n",
       "      <td>79.000000</td>\n",
       "      <td>222.000000</td>\n",
       "      <td>132.000000</td>\n",
       "      <td>30.000000</td>\n",
       "      <td>128.000000</td>\n",
       "      <td>41.500000</td>\n",
       "      <td>314.000000</td>\n",
       "    </tr>\n",
       "  </tbody>\n",
       "</table>\n",
       "</div>"
      ],
      "text/plain": [
       "                 Age         Height         Weight       Duration  \\\n",
       "count  750000.000000  750000.000000  750000.000000  750000.000000   \n",
       "mean       41.420404     174.697685      75.145668      15.421015   \n",
       "std        15.175049      12.824496      13.982704       8.354095   \n",
       "min        20.000000     126.000000      36.000000       1.000000   \n",
       "25%        28.000000     164.000000      63.000000       8.000000   \n",
       "50%        40.000000     174.000000      74.000000      15.000000   \n",
       "75%        52.000000     185.000000      87.000000      23.000000   \n",
       "max        79.000000     222.000000     132.000000      30.000000   \n",
       "\n",
       "          Heart_Rate      Body_Temp       Calories  \n",
       "count  750000.000000  750000.000000  750000.000000  \n",
       "mean       95.483995      40.036253      88.282781  \n",
       "std         9.449845       0.779875      62.395349  \n",
       "min        67.000000      37.100000       1.000000  \n",
       "25%        88.000000      39.600000      34.000000  \n",
       "50%        95.000000      40.300000      77.000000  \n",
       "75%       103.000000      40.700000     136.000000  \n",
       "max       128.000000      41.500000     314.000000  "
      ]
     },
     "execution_count": 5,
     "metadata": {},
     "output_type": "execute_result"
    }
   ],
   "source": [
    "train.describe()"
   ]
  },
  {
   "cell_type": "code",
   "execution_count": 6,
   "id": "2ee11d08",
   "metadata": {
    "execution": {
     "iopub.execute_input": "2025-05-04T10:57:53.492632Z",
     "iopub.status.busy": "2025-05-04T10:57:53.492243Z",
     "iopub.status.idle": "2025-05-04T10:57:53.570215Z",
     "shell.execute_reply": "2025-05-04T10:57:53.569490Z"
    },
    "papermill": {
     "duration": 0.083837,
     "end_time": "2025-05-04T10:57:53.571307",
     "exception": false,
     "start_time": "2025-05-04T10:57:53.487470",
     "status": "completed"
    },
    "tags": []
   },
   "outputs": [
    {
     "data": {
      "text/plain": [
       "Sex           0\n",
       "Age           0\n",
       "Height        0\n",
       "Weight        0\n",
       "Duration      0\n",
       "Heart_Rate    0\n",
       "Body_Temp     0\n",
       "Calories      0\n",
       "dtype: int64"
      ]
     },
     "execution_count": 6,
     "metadata": {},
     "output_type": "execute_result"
    }
   ],
   "source": [
    "train.isnull().sum()"
   ]
  },
  {
   "cell_type": "code",
   "execution_count": 7,
   "id": "c18e2de5",
   "metadata": {
    "execution": {
     "iopub.execute_input": "2025-05-04T10:57:53.579826Z",
     "iopub.status.busy": "2025-05-04T10:57:53.579632Z",
     "iopub.status.idle": "2025-05-04T10:57:53.591732Z",
     "shell.execute_reply": "2025-05-04T10:57:53.591077Z"
    },
    "papermill": {
     "duration": 0.017565,
     "end_time": "2025-05-04T10:57:53.592852",
     "exception": false,
     "start_time": "2025-05-04T10:57:53.575287",
     "status": "completed"
    },
    "tags": []
   },
   "outputs": [
    {
     "name": "stdout",
     "output_type": "stream",
     "text": [
      "<class 'cudf.core.dataframe.DataFrame'>\n",
      "Index: 750000 entries, 0 to 749999\n",
      "Data columns (total 8 columns):\n",
      " #   Column      Non-Null Count   Dtype\n",
      "---  ------      --------------   -----\n",
      " 0   Sex         750000 non-null  object\n",
      " 1   Age         750000 non-null  int64\n",
      " 2   Height      750000 non-null  float64\n",
      " 3   Weight      750000 non-null  float64\n",
      " 4   Duration    750000 non-null  float64\n",
      " 5   Heart_Rate  750000 non-null  float64\n",
      " 6   Body_Temp   750000 non-null  float64\n",
      " 7   Calories    750000 non-null  float64\n",
      "dtypes: float64(6), int64(1), object(1)\n",
      "memory usage: 52.2+ MB\n"
     ]
    }
   ],
   "source": [
    "train.info()"
   ]
  },
  {
   "cell_type": "markdown",
   "id": "092063cf",
   "metadata": {
    "papermill": {
     "duration": 0.003813,
     "end_time": "2025-05-04T10:57:53.600748",
     "exception": false,
     "start_time": "2025-05-04T10:57:53.596935",
     "status": "completed"
    },
    "tags": []
   },
   "source": [
    "# Data Preprocessing"
   ]
  },
  {
   "cell_type": "markdown",
   "id": "47f2499c",
   "metadata": {
    "papermill": {
     "duration": 0.003837,
     "end_time": "2025-05-04T10:57:53.608546",
     "exception": false,
     "start_time": "2025-05-04T10:57:53.604709",
     "status": "completed"
    },
    "tags": []
   },
   "source": [
    "## Reducing memory usage"
   ]
  },
  {
   "cell_type": "code",
   "execution_count": 8,
   "id": "930c1878",
   "metadata": {
    "execution": {
     "iopub.execute_input": "2025-05-04T10:57:53.617123Z",
     "iopub.status.busy": "2025-05-04T10:57:53.616922Z",
     "iopub.status.idle": "2025-05-04T10:57:53.663688Z",
     "shell.execute_reply": "2025-05-04T10:57:53.663223Z"
    },
    "papermill": {
     "duration": 0.052162,
     "end_time": "2025-05-04T10:57:53.664709",
     "exception": false,
     "start_time": "2025-05-04T10:57:53.612547",
     "status": "completed"
    },
    "tags": []
   },
   "outputs": [],
   "source": [
    "train['Sex'] = train['Sex'].astype('category')\n",
    "test['Sex'] = test['Sex'].astype('category')"
   ]
  },
  {
   "cell_type": "code",
   "execution_count": 9,
   "id": "d865360c",
   "metadata": {
    "execution": {
     "iopub.execute_input": "2025-05-04T10:57:53.673721Z",
     "iopub.status.busy": "2025-05-04T10:57:53.673521Z",
     "iopub.status.idle": "2025-05-04T10:57:53.678697Z",
     "shell.execute_reply": "2025-05-04T10:57:53.678004Z"
    },
    "papermill": {
     "duration": 0.011124,
     "end_time": "2025-05-04T10:57:53.679807",
     "exception": false,
     "start_time": "2025-05-04T10:57:53.668683",
     "status": "completed"
    },
    "tags": []
   },
   "outputs": [],
   "source": [
    "train['Age'] = train['Age'].astype('int8')\n",
    "test['Age'] = test['Age'].astype('int8')"
   ]
  },
  {
   "cell_type": "code",
   "execution_count": 10,
   "id": "e196619a",
   "metadata": {
    "execution": {
     "iopub.execute_input": "2025-05-04T10:57:53.688706Z",
     "iopub.status.busy": "2025-05-04T10:57:53.688533Z",
     "iopub.status.idle": "2025-05-04T10:57:54.297651Z",
     "shell.execute_reply": "2025-05-04T10:57:54.297101Z"
    },
    "papermill": {
     "duration": 0.614794,
     "end_time": "2025-05-04T10:57:54.298980",
     "exception": false,
     "start_time": "2025-05-04T10:57:53.684186",
     "status": "completed"
    },
    "tags": []
   },
   "outputs": [],
   "source": [
    "num_cols = test.select_dtypes(include='float64').columns\n",
    "for col in num_cols:\n",
    "    train[num_cols] = train[num_cols].astype('float32')\n",
    "    test[num_cols] = test[num_cols].astype('float32')"
   ]
  },
  {
   "cell_type": "code",
   "execution_count": 11,
   "id": "773ff14f",
   "metadata": {
    "execution": {
     "iopub.execute_input": "2025-05-04T10:57:54.308620Z",
     "iopub.status.busy": "2025-05-04T10:57:54.308406Z",
     "iopub.status.idle": "2025-05-04T10:57:54.332212Z",
     "shell.execute_reply": "2025-05-04T10:57:54.331336Z"
    },
    "papermill": {
     "duration": 0.029898,
     "end_time": "2025-05-04T10:57:54.333287",
     "exception": false,
     "start_time": "2025-05-04T10:57:54.303389",
     "status": "completed"
    },
    "tags": []
   },
   "outputs": [
    {
     "name": "stdout",
     "output_type": "stream",
     "text": [
      "<class 'cudf.core.dataframe.DataFrame'>\n",
      "Index: 750000 entries, 0 to 749999\n",
      "Data columns (total 8 columns):\n",
      " #   Column      Non-Null Count   Dtype\n",
      "---  ------      --------------   -----\n",
      " 0   Sex         750000 non-null  category\n",
      " 1   Age         750000 non-null  int8\n",
      " 2   Height      750000 non-null  float32\n",
      " 3   Weight      750000 non-null  float32\n",
      " 4   Duration    750000 non-null  float32\n",
      " 5   Heart_Rate  750000 non-null  float32\n",
      " 6   Body_Temp   750000 non-null  float32\n",
      " 7   Calories    750000 non-null  float64\n",
      "dtypes: category(1), float32(5), float64(1), int8(1)\n",
      "memory usage: 27.2 MB\n"
     ]
    }
   ],
   "source": [
    "train.info()"
   ]
  },
  {
   "cell_type": "code",
   "execution_count": 12,
   "id": "b09cb2d7",
   "metadata": {
    "execution": {
     "iopub.execute_input": "2025-05-04T10:57:54.342682Z",
     "iopub.status.busy": "2025-05-04T10:57:54.342283Z",
     "iopub.status.idle": "2025-05-04T10:57:55.141154Z",
     "shell.execute_reply": "2025-05-04T10:57:55.140578Z"
    },
    "papermill": {
     "duration": 0.805005,
     "end_time": "2025-05-04T10:57:55.142527",
     "exception": false,
     "start_time": "2025-05-04T10:57:54.337522",
     "status": "completed"
    },
    "tags": []
   },
   "outputs": [],
   "source": [
    "from sklearn.preprocessing import KBinsDiscretizer\n",
    "\n",
    "kmeans = KBinsDiscretizer(n_bins=4, encode='ordinal', strategy='kmeans')\n",
    "train['age_bins'] = kmeans.fit_transform(train[['Age']])\n",
    "test['age_bins'] = kmeans.transform(test[['Age']])"
   ]
  },
  {
   "cell_type": "markdown",
   "id": "0046fabe",
   "metadata": {
    "papermill": {
     "duration": 0.0044,
     "end_time": "2025-05-04T10:57:55.152323",
     "exception": false,
     "start_time": "2025-05-04T10:57:55.147923",
     "status": "completed"
    },
    "tags": []
   },
   "source": [
    "# Feature Understanding via Data Visualization"
   ]
  },
  {
   "cell_type": "markdown",
   "id": "d194c5b6",
   "metadata": {
    "papermill": {
     "duration": 0.003906,
     "end_time": "2025-05-04T10:57:55.160298",
     "exception": false,
     "start_time": "2025-05-04T10:57:55.156392",
     "status": "completed"
    },
    "tags": []
   },
   "source": [
    "Yeo-Johnson transformation of target variable gives more normal distribution than log-transformation."
   ]
  },
  {
   "cell_type": "code",
   "execution_count": 13,
   "id": "3364a4b0",
   "metadata": {
    "execution": {
     "iopub.execute_input": "2025-05-04T10:57:55.169241Z",
     "iopub.status.busy": "2025-05-04T10:57:55.169016Z",
     "iopub.status.idle": "2025-05-04T10:58:00.020540Z",
     "shell.execute_reply": "2025-05-04T10:58:00.019812Z"
    },
    "papermill": {
     "duration": 4.857372,
     "end_time": "2025-05-04T10:58:00.021661",
     "exception": false,
     "start_time": "2025-05-04T10:57:55.164289",
     "status": "completed"
    },
    "tags": []
   },
   "outputs": [
    {
     "data": {
      "text/plain": [
       "Text(0.5, 1.0, 'Calories Distribution')"
      ]
     },
     "execution_count": 13,
     "metadata": {},
     "output_type": "execute_result"
    },
    {
     "data": {
      "image/png": "[encoded data removed]",
      "text/plain": [
       "<Figure size 1200x750 with 1 Axes>"
      ]
     },
     "metadata": {},
     "output_type": "display_data"
    }
   ],
   "source": [
    "sns.histplot(x='Calories', bins=15, data=train, cbar=True)\n",
    "plt.title(\"Calories Distribution\")"
   ]
  },
  {
   "cell_type": "code",
   "execution_count": 14,
   "id": "e4a09bc6",
   "metadata": {
    "execution": {
     "iopub.execute_input": "2025-05-04T10:58:00.032396Z",
     "iopub.status.busy": "2025-05-04T10:58:00.032168Z",
     "iopub.status.idle": "2025-05-04T10:58:04.399248Z",
     "shell.execute_reply": "2025-05-04T10:58:04.398490Z"
    },
    "papermill": {
     "duration": 4.373793,
     "end_time": "2025-05-04T10:58:04.400493",
     "exception": false,
     "start_time": "2025-05-04T10:58:00.026700",
     "status": "completed"
    },
    "tags": []
   },
   "outputs": [
    {
     "data": {
      "image/png": "[encoded data removed]",
      "text/plain": [
       "<Figure size 1500x750 with 1 Axes>"
      ]
     },
     "metadata": {},
     "output_type": "display_data"
    }
   ],
   "source": [
    "plt.figure(figsize=(10, 5))\n",
    "sns.histplot(np.log1p(train[\"Calories\"]), bins=50, kde=True)\n",
    "plt.title(\"Log1p Calories Distribution\")\n",
    "plt.show()"
   ]
  },
  {
   "cell_type": "code",
   "execution_count": 15,
   "id": "3eb1c973",
   "metadata": {
    "execution": {
     "iopub.execute_input": "2025-05-04T10:58:04.413192Z",
     "iopub.status.busy": "2025-05-04T10:58:04.412953Z",
     "iopub.status.idle": "2025-05-04T10:58:08.507720Z",
     "shell.execute_reply": "2025-05-04T10:58:08.506905Z"
    },
    "papermill": {
     "duration": 4.102435,
     "end_time": "2025-05-04T10:58:08.509007",
     "exception": false,
     "start_time": "2025-05-04T10:58:04.406572",
     "status": "completed"
    },
    "tags": []
   },
   "outputs": [
    {
     "data": {
      "image/png": "[encoded data removed]",
      "text/plain": [
       "<Figure size 1200x750 with 1 Axes>"
      ]
     },
     "metadata": {},
     "output_type": "display_data"
    }
   ],
   "source": [
    "from sklearn.preprocessing import PowerTransformer\n",
    "\n",
    "pt = PowerTransformer(method='yeo-johnson')\n",
    "temp = train.copy()\n",
    "temp['Calories'] = temp['Calories'] = pt.fit_transform(temp[['Calories']]).flatten()\n",
    "\n",
    "sns.histplot(x='Calories', data=temp, bins=50, kde=True)\n",
    "plt.title(\"Yeo-Johnson Calories Distribution\")\n",
    "plt.show()"
   ]
  },
  {
   "cell_type": "code",
   "execution_count": 16,
   "id": "dca90457",
   "metadata": {
    "execution": {
     "iopub.execute_input": "2025-05-04T10:58:08.524386Z",
     "iopub.status.busy": "2025-05-04T10:58:08.523787Z",
     "iopub.status.idle": "2025-05-04T10:58:08.741606Z",
     "shell.execute_reply": "2025-05-04T10:58:08.740797Z"
    },
    "papermill": {
     "duration": 0.226456,
     "end_time": "2025-05-04T10:58:08.743108",
     "exception": false,
     "start_time": "2025-05-04T10:58:08.516652",
     "status": "completed"
    },
    "tags": []
   },
   "outputs": [],
   "source": [
    "from sklearn.preprocessing import LabelEncoder\n",
    "\n",
    "le = LabelEncoder()\n",
    "train['Sex'] = le.fit_transform(train['Sex']).astype('int8')\n",
    "test['Sex'] = le.transform(test['Sex']).astype('int8')"
   ]
  },
  {
   "cell_type": "code",
   "execution_count": 17,
   "id": "bfc569ae",
   "metadata": {
    "execution": {
     "iopub.execute_input": "2025-05-04T10:58:08.757912Z",
     "iopub.status.busy": "2025-05-04T10:58:08.757489Z",
     "iopub.status.idle": "2025-05-04T10:58:08.760595Z",
     "shell.execute_reply": "2025-05-04T10:58:08.760118Z"
    },
    "papermill": {
     "duration": 0.011313,
     "end_time": "2025-05-04T10:58:08.761739",
     "exception": false,
     "start_time": "2025-05-04T10:58:08.750426",
     "status": "completed"
    },
    "tags": []
   },
   "outputs": [],
   "source": [
    "features = ['Sex', 'Age', 'Height', 'Weight', 'Duration', 'Heart_Rate', 'Body_Temp']"
   ]
  },
  {
   "cell_type": "code",
   "execution_count": 18,
   "id": "ad6f9fd9",
   "metadata": {
    "execution": {
     "iopub.execute_input": "2025-05-04T10:58:08.775225Z",
     "iopub.status.busy": "2025-05-04T10:58:08.775007Z",
     "iopub.status.idle": "2025-05-04T10:58:08.778559Z",
     "shell.execute_reply": "2025-05-04T10:58:08.778044Z"
    },
    "papermill": {
     "duration": 0.01154,
     "end_time": "2025-05-04T10:58:08.779544",
     "exception": false,
     "start_time": "2025-05-04T10:58:08.768004",
     "status": "completed"
    },
    "tags": []
   },
   "outputs": [],
   "source": [
    "def add_features(df):\n",
    "    for i, c1 in enumerate(features):\n",
    "        for c2 in (features[i+1:]):\n",
    "            m = f'{c1}*{c2}'\n",
    "            df[m] = df[c1] * df[c2]\n",
    "    return df"
   ]
  },
  {
   "cell_type": "code",
   "execution_count": 19,
   "id": "c84fefad",
   "metadata": {
    "execution": {
     "iopub.execute_input": "2025-05-04T10:58:08.793391Z",
     "iopub.status.busy": "2025-05-04T10:58:08.793191Z",
     "iopub.status.idle": "2025-05-04T10:58:08.797877Z",
     "shell.execute_reply": "2025-05-04T10:58:08.797364Z"
    },
    "papermill": {
     "duration": 0.012524,
     "end_time": "2025-05-04T10:58:08.798779",
     "exception": false,
     "start_time": "2025-05-04T10:58:08.786255",
     "status": "completed"
    },
    "tags": []
   },
   "outputs": [],
   "source": [
    "def feature_transform(df):\n",
    "    df['duration_expo'] = df['Duration'] ** 2\n",
    "    df['duration_log'] = np.log1p(df['Duration'])\n",
    "\n",
    "    df['heart_expo'] = df['Heart_Rate'] ** 2\n",
    "    df['heart_log'] = np.log1p(df['Heart_Rate'])\n",
    "    \n",
    "    df['weight_log'] = np.log1p(df['Weight'])\n",
    "\n",
    "    df['body_expo'] = df['Body_Temp'] ** 2\n",
    "    df['body_log'] = np.log1p(df['Body_Temp'] ** 2)\n",
    "\n",
    "\n",
    "    df['BMI'] = df['Weight'] / (df['Height'] ** 2)\n",
    "    df['BMI_duration'] = df['BMI'] / df['Duration']\n",
    "    \n",
    "    return df"
   ]
  },
  {
   "cell_type": "code",
   "execution_count": 20,
   "id": "45d6f9bc",
   "metadata": {
    "execution": {
     "iopub.execute_input": "2025-05-04T10:58:08.812286Z",
     "iopub.status.busy": "2025-05-04T10:58:08.812101Z",
     "iopub.status.idle": "2025-05-04T10:58:09.022997Z",
     "shell.execute_reply": "2025-05-04T10:58:09.022437Z"
    },
    "papermill": {
     "duration": 0.219046,
     "end_time": "2025-05-04T10:58:09.024319",
     "exception": false,
     "start_time": "2025-05-04T10:58:08.805273",
     "status": "completed"
    },
    "tags": []
   },
   "outputs": [],
   "source": [
    "X = train.copy()\n",
    "y = X.pop('Calories')\n",
    "y = np.log1p(y)\n",
    "\n",
    "X = add_features(X)\n",
    "X = feature_transform(X)\n",
    "\n",
    "X_test = test.copy()\n",
    "X_test = add_features(X_test)\n",
    "X_test = feature_transform(X_test)"
   ]
  },
  {
   "cell_type": "code",
   "execution_count": 21,
   "id": "a79bb6ac",
   "metadata": {
    "execution": {
     "iopub.execute_input": "2025-05-04T10:58:09.038339Z",
     "iopub.status.busy": "2025-05-04T10:58:09.038141Z",
     "iopub.status.idle": "2025-05-04T11:03:25.471930Z",
     "shell.execute_reply": "2025-05-04T11:03:25.471229Z"
    },
    "papermill": {
     "duration": 316.449076,
     "end_time": "2025-05-04T11:03:25.480188",
     "exception": false,
     "start_time": "2025-05-04T10:58:09.031112",
     "status": "completed"
    },
    "tags": []
   },
   "outputs": [
    {
     "name": "stdout",
     "output_type": "stream",
     "text": [
      "Fold 1 RMSE: 0.060839\n",
      "Fold 2 RMSE: 0.061196\n",
      "Fold 3 RMSE: 0.058867\n",
      "Fold 4 RMSE: 0.061280\n",
      "Fold 5 RMSE: 0.060099\n",
      "\n",
      "Overall OOF RMSLE: 0.060463\n"
     ]
    }
   ],
   "source": [
    "from sklearn.model_selection import cross_val_score\n",
    "import optuna\n",
    "from sklearn.model_selection import KFold\n",
    "from sklearn.metrics import mean_squared_log_error\n",
    "from xgboost import XGBRegressor\n",
    "\n",
    "n_folds = 5\n",
    "kf = KFold(n_splits=n_folds, shuffle=True, random_state=100)\n",
    "\n",
    "oof_xgb = np.zeros(len(y))\n",
    "oof_test = np.zeros(len(X_test))\n",
    "\n",
    "for fold, (train_index, valid_index) in enumerate(kf.split(X, y), start=1):\n",
    "        X_train, X_valid = X.iloc[train_index], X.iloc[valid_index]\n",
    "        y_train, y_valid = y[train_index], y[valid_index]\n",
    "    \n",
    "        xgb = XGBRegressor(\n",
    "            n_estimators=1900, \n",
    "            learning_rate=0.0170397, \n",
    "            max_depth=8, \n",
    "            min_child_weight=1, \n",
    "            reg_alpha=0.01722769, \n",
    "            reg_lambda=0.1988406256, \n",
    "            subsample=0.687651847, \n",
    "            colsample_bytree=0.991963, \n",
    "            gamma=0.3676562,\n",
    "            early_stopping_rounds=50, \n",
    "            random_state=100\n",
    "        ).fit(X_train, y_train, eval_set=[(X_valid, y_valid)], verbose=0)\n",
    "    \n",
    "        xgb_pred = xgb.predict(X_valid)\n",
    "        oof_xgb[valid_index] = xgb_pred\n",
    "        fold_rmsle = np.sqrt(mean_squared_log_error(np.expm1(y_valid), np.expm1(xgb_pred)))\n",
    "        print(f\"Fold {fold} RMSE: {fold_rmsle:.6f}\")\n",
    "\n",
    "overall_rmsle = np.sqrt(mean_squared_log_error(np.expm1(y), np.expm1(oof_xgb)))\n",
    "print(f\"\\nOverall OOF RMSLE: {overall_rmsle:.6f}\")    "
   ]
  },
  {
   "cell_type": "code",
   "execution_count": 22,
   "id": "5e93a395",
   "metadata": {
    "execution": {
     "iopub.execute_input": "2025-05-04T11:03:25.495423Z",
     "iopub.status.busy": "2025-05-04T11:03:25.495189Z",
     "iopub.status.idle": "2025-05-04T11:03:27.199653Z",
     "shell.execute_reply": "2025-05-04T11:03:27.198670Z"
    },
    "papermill": {
     "duration": 1.713947,
     "end_time": "2025-05-04T11:03:27.200900",
     "exception": false,
     "start_time": "2025-05-04T11:03:25.486953",
     "status": "completed"
    },
    "tags": []
   },
   "outputs": [
    {
     "name": "stdout",
     "output_type": "stream",
     "text": [
      "Your submission was successfully saved!\n",
      "       id    Calories\n",
      "0  750000   27.816305\n",
      "1  750001  107.683327\n",
      "2  750002   88.117386\n",
      "3  750003  124.899384\n",
      "4  750004   75.239410\n",
      "5  750005   21.784174\n"
     ]
    }
   ],
   "source": [
    "test_xgb = xgb.predict(X_test)\n",
    "test_xgb  = np.expm1(test_xgb)\n",
    "y_preds = np.clip(test_xgb, 1, 314)\n",
    "\n",
    "sub = pd.read_csv('/kaggle/input/playground-series-s5e5/sample_submission.csv')\n",
    "sub['Calories'] = y_preds\n",
    "sub.to_csv('submission.csv', index=False)\n",
    "print(\"Your submission was successfully saved!\")\n",
    "print(sub.head(6))"
   ]
  }
 ],
 "metadata": {
  "kaggle": {
   "accelerator": "nvidiaTeslaT4",
   "dataSources": [
    {
     "databundleVersionId": 11893428,
     "sourceId": 91716,
     "sourceType": "competition"
    }
   ],
   "dockerImageVersionId": 31012,
   "isGpuEnabled": true,
   "isInternetEnabled": true,
   "language": "python",
   "sourceType": "notebook"
  },
  "kernelspec": {
   "display_name": "Python 3",
   "language": "python",
   "name": "python3"
  },
  "language_info": {
   "codemirror_mode": {
    "name": "ipython",
    "version": 3
   },
   "file_extension": ".py",
   "mimetype": "text/x-python",
   "name": "python",
   "nbconvert_exporter": "python",
   "pygments_lexer": "ipython3",
   "version": "3.11.11"
  },
  "papermill": {
   "default_parameters": {},
   "duration": 349.195768,
   "end_time": "2025-05-04T11:03:28.427036",
   "environment_variables": {},
   "exception": null,
   "input_path": "__notebook__.ipynb",
   "output_path": "__notebook__.ipynb",
   "parameters": {},
   "start_time": "2025-05-04T10:57:39.231268",
   "version": "2.6.0"
  }
 },
 "nbformat": 4,
 "nbformat_minor": 5
}
