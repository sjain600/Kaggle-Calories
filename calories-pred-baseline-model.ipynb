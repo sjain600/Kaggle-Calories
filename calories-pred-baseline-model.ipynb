{
 "cells": [
  {
   "cell_type": "code",
   "execution_count": 1,
   "id": "4be94de7",
   "metadata": {
    "execution": {
     "iopub.execute_input": "2025-05-12T13:43:21.609634Z",
     "iopub.status.busy": "2025-05-12T13:43:21.609070Z",
     "iopub.status.idle": "2025-05-12T13:43:35.804814Z",
     "shell.execute_reply": "2025-05-12T13:43:35.803848Z"
    },
    "papermill": {
     "duration": 14.202666,
     "end_time": "2025-05-12T13:43:35.805920",
     "exception": false,
     "start_time": "2025-05-12T13:43:21.603254",
     "status": "completed"
    },
    "tags": []
   },
   "outputs": [
    {
     "name": "stdout",
     "output_type": "stream",
     "text": [
      "/kaggle/input/calories-burnt-prediction/calories.csv\n",
      "/kaggle/input/playground-series-s5e5/sample_submission.csv\n",
      "/kaggle/input/playground-series-s5e5/train.csv\n",
      "/kaggle/input/playground-series-s5e5/test.csv\n"
     ]
    },
    {
     "data": {
      "text/plain": [
       "<Figure size 1200x750 with 0 Axes>"
      ]
     },
     "metadata": {},
     "output_type": "display_data"
    }
   ],
   "source": [
    "# This Python 3 environment comes with many helpful analytics libraries installed\n",
    "# It is defined by the kaggle/python Docker image: https://github.com/kaggle/docker-python\n",
    "# For example, here's several helpful packages to load\n",
    "%load_ext cudf.pandas\n",
    "import numpy as np # linear algebra\n",
    "import pandas as pd # data processing, CSV file I/O (e.g. pd.read_csv)\n",
    "import matplotlib.pyplot as plt\n",
    "import seaborn as sns\n",
    "import joblib\n",
    "import cuml\n",
    "\n",
    "# Setting Matplotlib defaults\n",
    "plt.style.use('seaborn-v0_8')\n",
    "plt.rc('figure', figsize=(8,5), dpi=150)\n",
    "plt.rc('axes', labelweight='bold', labelsize='large',\n",
    "       titleweight='bold', titlesize=15, titlepad=10)\n",
    "plt.rc('animation', html='html5')\n",
    "plt.tight_layout()\n",
    "# Input data files are available in the read-only \"../input/\" directory\n",
    "# For example, running this (by clicking run or pressing Shift+Enter) will list all files under the input directory\n",
    "\n",
    "import os\n",
    "for dirname, _, filenames in os.walk('/kaggle/input'):\n",
    "    for filename in filenames:\n",
    "        print(os.path.join(dirname, filename))\n",
    "        \n",
    "import warnings\n",
    "warnings.simplefilter('ignore')\n",
    "\n",
    "pd.set_option('display.max_columns', 500)\n",
    "\n",
    "# You can write up to 20GB to the current directory (/kaggle/working/) that gets preserved as output when you create a version using \"Save & Run All\" \n",
    "# You can also write temporary files to /kaggle/temp/, but they won't be saved outside of the current session"
   ]
  },
  {
   "cell_type": "code",
   "execution_count": 2,
   "id": "6386bbfd",
   "metadata": {
    "execution": {
     "iopub.execute_input": "2025-05-12T13:43:35.815675Z",
     "iopub.status.busy": "2025-05-12T13:43:35.814917Z",
     "iopub.status.idle": "2025-05-12T13:43:36.531885Z",
     "shell.execute_reply": "2025-05-12T13:43:36.531298Z"
    },
    "papermill": {
     "duration": 0.722702,
     "end_time": "2025-05-12T13:43:36.533219",
     "exception": false,
     "start_time": "2025-05-12T13:43:35.810517",
     "status": "completed"
    },
    "tags": []
   },
   "outputs": [],
   "source": [
    "train = pd.read_csv('/kaggle/input/playground-series-s5e5/train.csv', index_col='id')\n",
    "test = pd.read_csv('/kaggle/input/playground-series-s5e5/test.csv', index_col='id')\n",
    "org = pd.read_csv('/kaggle/input/calories-burnt-prediction/calories.csv', index_col='User_ID')\n",
    "org = org.rename(columns={'Gender': 'Sex'})"
   ]
  },
  {
   "cell_type": "code",
   "execution_count": 3,
   "id": "cb764fd7",
   "metadata": {
    "execution": {
     "iopub.execute_input": "2025-05-12T13:43:36.542104Z",
     "iopub.status.busy": "2025-05-12T13:43:36.541891Z",
     "iopub.status.idle": "2025-05-12T13:43:36.576594Z",
     "shell.execute_reply": "2025-05-12T13:43:36.575906Z"
    },
    "papermill": {
     "duration": 0.040173,
     "end_time": "2025-05-12T13:43:36.577754",
     "exception": false,
     "start_time": "2025-05-12T13:43:36.537581",
     "status": "completed"
    },
    "tags": []
   },
   "outputs": [],
   "source": [
    "train = pd.concat([train, org], ignore_index=True)"
   ]
  },
  {
   "cell_type": "code",
   "execution_count": 4,
   "id": "32947b59",
   "metadata": {
    "execution": {
     "iopub.execute_input": "2025-05-12T13:43:36.586124Z",
     "iopub.status.busy": "2025-05-12T13:43:36.585919Z",
     "iopub.status.idle": "2025-05-12T13:43:36.701089Z",
     "shell.execute_reply": "2025-05-12T13:43:36.700346Z"
    },
    "papermill": {
     "duration": 0.120645,
     "end_time": "2025-05-12T13:43:36.702255",
     "exception": false,
     "start_time": "2025-05-12T13:43:36.581610",
     "status": "completed"
    },
    "tags": []
   },
   "outputs": [
    {
     "name": "stdout",
     "output_type": "stream",
     "text": [
      "(762107, 8) (765000, 8)\n"
     ]
    }
   ],
   "source": [
    "strt_cols = list(test.columns)\n",
    "print(train.drop_duplicates(subset=strt_cols + ['Calories']).shape, train.shape)"
   ]
  },
  {
   "cell_type": "code",
   "execution_count": 5,
   "id": "486607a3",
   "metadata": {
    "execution": {
     "iopub.execute_input": "2025-05-12T13:43:36.711009Z",
     "iopub.status.busy": "2025-05-12T13:43:36.710789Z",
     "iopub.status.idle": "2025-05-12T13:43:36.744473Z",
     "shell.execute_reply": "2025-05-12T13:43:36.743748Z"
    },
    "papermill": {
     "duration": 0.039339,
     "end_time": "2025-05-12T13:43:36.745720",
     "exception": false,
     "start_time": "2025-05-12T13:43:36.706381",
     "status": "completed"
    },
    "tags": []
   },
   "outputs": [
    {
     "data": {
      "text/html": [
       "<div>\n",
       "<style scoped>\n",
       "    .dataframe tbody tr th:only-of-type {\n",
       "        vertical-align: middle;\n",
       "    }\n",
       "\n",
       "    .dataframe tbody tr th {\n",
       "        vertical-align: top;\n",
       "    }\n",
       "\n",
       "    .dataframe thead th {\n",
       "        text-align: right;\n",
       "    }\n",
       "</style>\n",
       "<table border=\"1\" class=\"dataframe\">\n",
       "  <thead>\n",
       "    <tr style=\"text-align: right;\">\n",
       "      <th></th>\n",
       "      <th>Sex</th>\n",
       "      <th>Age</th>\n",
       "      <th>Height</th>\n",
       "      <th>Weight</th>\n",
       "      <th>Duration</th>\n",
       "      <th>Heart_Rate</th>\n",
       "      <th>Body_Temp</th>\n",
       "      <th>Calories</th>\n",
       "    </tr>\n",
       "    <tr>\n",
       "      <th>User_ID</th>\n",
       "      <th></th>\n",
       "      <th></th>\n",
       "      <th></th>\n",
       "      <th></th>\n",
       "      <th></th>\n",
       "      <th></th>\n",
       "      <th></th>\n",
       "      <th></th>\n",
       "    </tr>\n",
       "  </thead>\n",
       "  <tbody>\n",
       "    <tr>\n",
       "      <th>14733363</th>\n",
       "      <td>male</td>\n",
       "      <td>68</td>\n",
       "      <td>190.0</td>\n",
       "      <td>94.0</td>\n",
       "      <td>29.0</td>\n",
       "      <td>105.0</td>\n",
       "      <td>40.8</td>\n",
       "      <td>231.0</td>\n",
       "    </tr>\n",
       "    <tr>\n",
       "      <th>14861698</th>\n",
       "      <td>female</td>\n",
       "      <td>20</td>\n",
       "      <td>166.0</td>\n",
       "      <td>60.0</td>\n",
       "      <td>14.0</td>\n",
       "      <td>94.0</td>\n",
       "      <td>40.3</td>\n",
       "      <td>66.0</td>\n",
       "    </tr>\n",
       "    <tr>\n",
       "      <th>11179863</th>\n",
       "      <td>male</td>\n",
       "      <td>69</td>\n",
       "      <td>179.0</td>\n",
       "      <td>79.0</td>\n",
       "      <td>5.0</td>\n",
       "      <td>88.0</td>\n",
       "      <td>38.7</td>\n",
       "      <td>26.0</td>\n",
       "    </tr>\n",
       "    <tr>\n",
       "      <th>16180408</th>\n",
       "      <td>female</td>\n",
       "      <td>34</td>\n",
       "      <td>179.0</td>\n",
       "      <td>71.0</td>\n",
       "      <td>13.0</td>\n",
       "      <td>100.0</td>\n",
       "      <td>40.5</td>\n",
       "      <td>71.0</td>\n",
       "    </tr>\n",
       "    <tr>\n",
       "      <th>17771927</th>\n",
       "      <td>female</td>\n",
       "      <td>27</td>\n",
       "      <td>154.0</td>\n",
       "      <td>58.0</td>\n",
       "      <td>10.0</td>\n",
       "      <td>81.0</td>\n",
       "      <td>39.8</td>\n",
       "      <td>35.0</td>\n",
       "    </tr>\n",
       "  </tbody>\n",
       "</table>\n",
       "</div>"
      ],
      "text/plain": [
       "             Sex  Age  Height  Weight  Duration  Heart_Rate  Body_Temp  \\\n",
       "User_ID                                                                  \n",
       "14733363    male   68   190.0    94.0      29.0       105.0       40.8   \n",
       "14861698  female   20   166.0    60.0      14.0        94.0       40.3   \n",
       "11179863    male   69   179.0    79.0       5.0        88.0       38.7   \n",
       "16180408  female   34   179.0    71.0      13.0       100.0       40.5   \n",
       "17771927  female   27   154.0    58.0      10.0        81.0       39.8   \n",
       "\n",
       "          Calories  \n",
       "User_ID             \n",
       "14733363     231.0  \n",
       "14861698      66.0  \n",
       "11179863      26.0  \n",
       "16180408      71.0  \n",
       "17771927      35.0  "
      ]
     },
     "execution_count": 5,
     "metadata": {},
     "output_type": "execute_result"
    }
   ],
   "source": [
    "org.head()"
   ]
  },
  {
   "cell_type": "markdown",
   "id": "699d2588",
   "metadata": {
    "papermill": {
     "duration": 0.003935,
     "end_time": "2025-05-12T13:43:36.754137",
     "exception": false,
     "start_time": "2025-05-12T13:43:36.750202",
     "status": "completed"
    },
    "tags": []
   },
   "source": [
    "# Data Understanding"
   ]
  },
  {
   "cell_type": "code",
   "execution_count": 6,
   "id": "c13e31dd",
   "metadata": {
    "execution": {
     "iopub.execute_input": "2025-05-12T13:43:36.763263Z",
     "iopub.status.busy": "2025-05-12T13:43:36.762819Z",
     "iopub.status.idle": "2025-05-12T13:43:36.767132Z",
     "shell.execute_reply": "2025-05-12T13:43:36.766496Z"
    },
    "papermill": {
     "duration": 0.009987,
     "end_time": "2025-05-12T13:43:36.768224",
     "exception": false,
     "start_time": "2025-05-12T13:43:36.758237",
     "status": "completed"
    },
    "tags": []
   },
   "outputs": [
    {
     "data": {
      "text/plain": [
       "(250000, 7)"
      ]
     },
     "execution_count": 6,
     "metadata": {},
     "output_type": "execute_result"
    }
   ],
   "source": [
    "test.shape"
   ]
  },
  {
   "cell_type": "code",
   "execution_count": 7,
   "id": "8d1a30f6",
   "metadata": {
    "execution": {
     "iopub.execute_input": "2025-05-12T13:43:36.776930Z",
     "iopub.status.busy": "2025-05-12T13:43:36.776757Z",
     "iopub.status.idle": "2025-05-12T13:43:36.803787Z",
     "shell.execute_reply": "2025-05-12T13:43:36.803199Z"
    },
    "papermill": {
     "duration": 0.032521,
     "end_time": "2025-05-12T13:43:36.804762",
     "exception": false,
     "start_time": "2025-05-12T13:43:36.772241",
     "status": "completed"
    },
    "tags": []
   },
   "outputs": [
    {
     "data": {
      "text/html": [
       "<div>\n",
       "<style scoped>\n",
       "    .dataframe tbody tr th:only-of-type {\n",
       "        vertical-align: middle;\n",
       "    }\n",
       "\n",
       "    .dataframe tbody tr th {\n",
       "        vertical-align: top;\n",
       "    }\n",
       "\n",
       "    .dataframe thead th {\n",
       "        text-align: right;\n",
       "    }\n",
       "</style>\n",
       "<table border=\"1\" class=\"dataframe\">\n",
       "  <thead>\n",
       "    <tr style=\"text-align: right;\">\n",
       "      <th></th>\n",
       "      <th>Sex</th>\n",
       "      <th>Age</th>\n",
       "      <th>Height</th>\n",
       "      <th>Weight</th>\n",
       "      <th>Duration</th>\n",
       "      <th>Heart_Rate</th>\n",
       "      <th>Body_Temp</th>\n",
       "      <th>Calories</th>\n",
       "    </tr>\n",
       "  </thead>\n",
       "  <tbody>\n",
       "    <tr>\n",
       "      <th>0</th>\n",
       "      <td>male</td>\n",
       "      <td>36</td>\n",
       "      <td>189.0</td>\n",
       "      <td>82.0</td>\n",
       "      <td>26.0</td>\n",
       "      <td>101.0</td>\n",
       "      <td>41.0</td>\n",
       "      <td>150.0</td>\n",
       "    </tr>\n",
       "    <tr>\n",
       "      <th>1</th>\n",
       "      <td>female</td>\n",
       "      <td>64</td>\n",
       "      <td>163.0</td>\n",
       "      <td>60.0</td>\n",
       "      <td>8.0</td>\n",
       "      <td>85.0</td>\n",
       "      <td>39.7</td>\n",
       "      <td>34.0</td>\n",
       "    </tr>\n",
       "    <tr>\n",
       "      <th>2</th>\n",
       "      <td>female</td>\n",
       "      <td>51</td>\n",
       "      <td>161.0</td>\n",
       "      <td>64.0</td>\n",
       "      <td>7.0</td>\n",
       "      <td>84.0</td>\n",
       "      <td>39.8</td>\n",
       "      <td>29.0</td>\n",
       "    </tr>\n",
       "    <tr>\n",
       "      <th>3</th>\n",
       "      <td>male</td>\n",
       "      <td>20</td>\n",
       "      <td>192.0</td>\n",
       "      <td>90.0</td>\n",
       "      <td>25.0</td>\n",
       "      <td>105.0</td>\n",
       "      <td>40.7</td>\n",
       "      <td>140.0</td>\n",
       "    </tr>\n",
       "    <tr>\n",
       "      <th>4</th>\n",
       "      <td>female</td>\n",
       "      <td>38</td>\n",
       "      <td>166.0</td>\n",
       "      <td>61.0</td>\n",
       "      <td>25.0</td>\n",
       "      <td>102.0</td>\n",
       "      <td>40.6</td>\n",
       "      <td>146.0</td>\n",
       "    </tr>\n",
       "    <tr>\n",
       "      <th>5</th>\n",
       "      <td>female</td>\n",
       "      <td>26</td>\n",
       "      <td>156.0</td>\n",
       "      <td>56.0</td>\n",
       "      <td>19.0</td>\n",
       "      <td>100.0</td>\n",
       "      <td>40.5</td>\n",
       "      <td>103.0</td>\n",
       "    </tr>\n",
       "    <tr>\n",
       "      <th>6</th>\n",
       "      <td>female</td>\n",
       "      <td>21</td>\n",
       "      <td>172.0</td>\n",
       "      <td>73.0</td>\n",
       "      <td>3.0</td>\n",
       "      <td>81.0</td>\n",
       "      <td>38.3</td>\n",
       "      <td>9.0</td>\n",
       "    </tr>\n",
       "    <tr>\n",
       "      <th>7</th>\n",
       "      <td>male</td>\n",
       "      <td>46</td>\n",
       "      <td>188.0</td>\n",
       "      <td>94.0</td>\n",
       "      <td>23.0</td>\n",
       "      <td>100.0</td>\n",
       "      <td>40.8</td>\n",
       "      <td>145.0</td>\n",
       "    </tr>\n",
       "    <tr>\n",
       "      <th>8</th>\n",
       "      <td>female</td>\n",
       "      <td>33</td>\n",
       "      <td>166.0</td>\n",
       "      <td>63.0</td>\n",
       "      <td>25.0</td>\n",
       "      <td>107.0</td>\n",
       "      <td>40.5</td>\n",
       "      <td>161.0</td>\n",
       "    </tr>\n",
       "    <tr>\n",
       "      <th>9</th>\n",
       "      <td>male</td>\n",
       "      <td>65</td>\n",
       "      <td>185.0</td>\n",
       "      <td>88.0</td>\n",
       "      <td>23.0</td>\n",
       "      <td>104.0</td>\n",
       "      <td>41.0</td>\n",
       "      <td>185.0</td>\n",
       "    </tr>\n",
       "  </tbody>\n",
       "</table>\n",
       "</div>"
      ],
      "text/plain": [
       "      Sex  Age  Height  Weight  Duration  Heart_Rate  Body_Temp  Calories\n",
       "0    male   36   189.0    82.0      26.0       101.0       41.0     150.0\n",
       "1  female   64   163.0    60.0       8.0        85.0       39.7      34.0\n",
       "2  female   51   161.0    64.0       7.0        84.0       39.8      29.0\n",
       "3    male   20   192.0    90.0      25.0       105.0       40.7     140.0\n",
       "4  female   38   166.0    61.0      25.0       102.0       40.6     146.0\n",
       "5  female   26   156.0    56.0      19.0       100.0       40.5     103.0\n",
       "6  female   21   172.0    73.0       3.0        81.0       38.3       9.0\n",
       "7    male   46   188.0    94.0      23.0       100.0       40.8     145.0\n",
       "8  female   33   166.0    63.0      25.0       107.0       40.5     161.0\n",
       "9    male   65   185.0    88.0      23.0       104.0       41.0     185.0"
      ]
     },
     "execution_count": 7,
     "metadata": {},
     "output_type": "execute_result"
    }
   ],
   "source": [
    "train.head(10)"
   ]
  },
  {
   "cell_type": "code",
   "execution_count": 8,
   "id": "91e2af9d",
   "metadata": {
    "execution": {
     "iopub.execute_input": "2025-05-12T13:43:36.813961Z",
     "iopub.status.busy": "2025-05-12T13:43:36.813784Z",
     "iopub.status.idle": "2025-05-12T13:43:38.152928Z",
     "shell.execute_reply": "2025-05-12T13:43:38.152255Z"
    },
    "papermill": {
     "duration": 1.345131,
     "end_time": "2025-05-12T13:43:38.154173",
     "exception": false,
     "start_time": "2025-05-12T13:43:36.809042",
     "status": "completed"
    },
    "tags": []
   },
   "outputs": [
    {
     "data": {
      "text/html": [
       "<div>\n",
       "<style scoped>\n",
       "    .dataframe tbody tr th:only-of-type {\n",
       "        vertical-align: middle;\n",
       "    }\n",
       "\n",
       "    .dataframe tbody tr th {\n",
       "        vertical-align: top;\n",
       "    }\n",
       "\n",
       "    .dataframe thead th {\n",
       "        text-align: right;\n",
       "    }\n",
       "</style>\n",
       "<table border=\"1\" class=\"dataframe\">\n",
       "  <thead>\n",
       "    <tr style=\"text-align: right;\">\n",
       "      <th></th>\n",
       "      <th>Age</th>\n",
       "      <th>Height</th>\n",
       "      <th>Weight</th>\n",
       "      <th>Duration</th>\n",
       "      <th>Heart_Rate</th>\n",
       "      <th>Body_Temp</th>\n",
       "      <th>Calories</th>\n",
       "    </tr>\n",
       "  </thead>\n",
       "  <tbody>\n",
       "    <tr>\n",
       "      <th>count</th>\n",
       "      <td>765000.000000</td>\n",
       "      <td>765000.000000</td>\n",
       "      <td>765000.000000</td>\n",
       "      <td>765000.000000</td>\n",
       "      <td>765000.000000</td>\n",
       "      <td>765000.000000</td>\n",
       "      <td>765000.000000</td>\n",
       "    </tr>\n",
       "    <tr>\n",
       "      <th>mean</th>\n",
       "      <td>41.447255</td>\n",
       "      <td>174.693126</td>\n",
       "      <td>75.142162</td>\n",
       "      <td>15.423163</td>\n",
       "      <td>95.484672</td>\n",
       "      <td>40.036041</td>\n",
       "      <td>88.307424</td>\n",
       "    </tr>\n",
       "    <tr>\n",
       "      <th>std</th>\n",
       "      <td>15.213677</td>\n",
       "      <td>12.854173</td>\n",
       "      <td>14.004122</td>\n",
       "      <td>8.353421</td>\n",
       "      <td>9.452476</td>\n",
       "      <td>0.779863</td>\n",
       "      <td>62.396760</td>\n",
       "    </tr>\n",
       "    <tr>\n",
       "      <th>min</th>\n",
       "      <td>20.000000</td>\n",
       "      <td>123.000000</td>\n",
       "      <td>36.000000</td>\n",
       "      <td>1.000000</td>\n",
       "      <td>67.000000</td>\n",
       "      <td>37.100000</td>\n",
       "      <td>1.000000</td>\n",
       "    </tr>\n",
       "    <tr>\n",
       "      <th>25%</th>\n",
       "      <td>28.000000</td>\n",
       "      <td>164.000000</td>\n",
       "      <td>63.000000</td>\n",
       "      <td>8.000000</td>\n",
       "      <td>88.000000</td>\n",
       "      <td>39.600000</td>\n",
       "      <td>34.000000</td>\n",
       "    </tr>\n",
       "    <tr>\n",
       "      <th>50%</th>\n",
       "      <td>40.000000</td>\n",
       "      <td>174.000000</td>\n",
       "      <td>74.000000</td>\n",
       "      <td>15.000000</td>\n",
       "      <td>95.000000</td>\n",
       "      <td>40.300000</td>\n",
       "      <td>77.000000</td>\n",
       "    </tr>\n",
       "    <tr>\n",
       "      <th>75%</th>\n",
       "      <td>52.000000</td>\n",
       "      <td>185.000000</td>\n",
       "      <td>87.000000</td>\n",
       "      <td>23.000000</td>\n",
       "      <td>103.000000</td>\n",
       "      <td>40.700000</td>\n",
       "      <td>136.000000</td>\n",
       "    </tr>\n",
       "    <tr>\n",
       "      <th>max</th>\n",
       "      <td>79.000000</td>\n",
       "      <td>222.000000</td>\n",
       "      <td>132.000000</td>\n",
       "      <td>30.000000</td>\n",
       "      <td>128.000000</td>\n",
       "      <td>41.500000</td>\n",
       "      <td>314.000000</td>\n",
       "    </tr>\n",
       "  </tbody>\n",
       "</table>\n",
       "</div>"
      ],
      "text/plain": [
       "                 Age         Height         Weight       Duration  \\\n",
       "count  765000.000000  765000.000000  765000.000000  765000.000000   \n",
       "mean       41.447255     174.693126      75.142162      15.423163   \n",
       "std        15.213677      12.854173      14.004122       8.353421   \n",
       "min        20.000000     123.000000      36.000000       1.000000   \n",
       "25%        28.000000     164.000000      63.000000       8.000000   \n",
       "50%        40.000000     174.000000      74.000000      15.000000   \n",
       "75%        52.000000     185.000000      87.000000      23.000000   \n",
       "max        79.000000     222.000000     132.000000      30.000000   \n",
       "\n",
       "          Heart_Rate      Body_Temp       Calories  \n",
       "count  765000.000000  765000.000000  765000.000000  \n",
       "mean       95.484672      40.036041      88.307424  \n",
       "std         9.452476       0.779863      62.396760  \n",
       "min        67.000000      37.100000       1.000000  \n",
       "25%        88.000000      39.600000      34.000000  \n",
       "50%        95.000000      40.300000      77.000000  \n",
       "75%       103.000000      40.700000     136.000000  \n",
       "max       128.000000      41.500000     314.000000  "
      ]
     },
     "execution_count": 8,
     "metadata": {},
     "output_type": "execute_result"
    }
   ],
   "source": [
    "train.describe()"
   ]
  },
  {
   "cell_type": "code",
   "execution_count": 9,
   "id": "2953e1b5",
   "metadata": {
    "execution": {
     "iopub.execute_input": "2025-05-12T13:43:38.164190Z",
     "iopub.status.busy": "2025-05-12T13:43:38.163997Z",
     "iopub.status.idle": "2025-05-12T13:43:38.240322Z",
     "shell.execute_reply": "2025-05-12T13:43:38.239548Z"
    },
    "papermill": {
     "duration": 0.082758,
     "end_time": "2025-05-12T13:43:38.241482",
     "exception": false,
     "start_time": "2025-05-12T13:43:38.158724",
     "status": "completed"
    },
    "tags": []
   },
   "outputs": [
    {
     "data": {
      "text/plain": [
       "Sex           0\n",
       "Age           0\n",
       "Height        0\n",
       "Weight        0\n",
       "Duration      0\n",
       "Heart_Rate    0\n",
       "Body_Temp     0\n",
       "Calories      0\n",
       "dtype: int64"
      ]
     },
     "execution_count": 9,
     "metadata": {},
     "output_type": "execute_result"
    }
   ],
   "source": [
    "train.isnull().sum()"
   ]
  },
  {
   "cell_type": "code",
   "execution_count": 10,
   "id": "fd6adde0",
   "metadata": {
    "execution": {
     "iopub.execute_input": "2025-05-12T13:43:38.262502Z",
     "iopub.status.busy": "2025-05-12T13:43:38.261863Z",
     "iopub.status.idle": "2025-05-12T13:43:38.272937Z",
     "shell.execute_reply": "2025-05-12T13:43:38.272323Z"
    },
    "papermill": {
     "duration": 0.017341,
     "end_time": "2025-05-12T13:43:38.273937",
     "exception": false,
     "start_time": "2025-05-12T13:43:38.256596",
     "status": "completed"
    },
    "tags": []
   },
   "outputs": [
    {
     "name": "stdout",
     "output_type": "stream",
     "text": [
      "<class 'cudf.core.dataframe.DataFrame'>\n",
      "RangeIndex: 765000 entries, 0 to 764999\n",
      "Data columns (total 8 columns):\n",
      " #   Column      Non-Null Count   Dtype\n",
      "---  ------      --------------   -----\n",
      " 0   Sex         765000 non-null  object\n",
      " 1   Age         765000 non-null  int64\n",
      " 2   Height      765000 non-null  float64\n",
      " 3   Weight      765000 non-null  float64\n",
      " 4   Duration    765000 non-null  float64\n",
      " 5   Heart_Rate  765000 non-null  float64\n",
      " 6   Body_Temp   765000 non-null  float64\n",
      " 7   Calories    765000 non-null  float64\n",
      "dtypes: float64(6), int64(1), object(1)\n",
      "memory usage: 47.4+ MB\n"
     ]
    }
   ],
   "source": [
    "train.info()"
   ]
  },
  {
   "cell_type": "markdown",
   "id": "75a366cf",
   "metadata": {
    "papermill": {
     "duration": 0.004191,
     "end_time": "2025-05-12T13:43:38.282841",
     "exception": false,
     "start_time": "2025-05-12T13:43:38.278650",
     "status": "completed"
    },
    "tags": []
   },
   "source": [
    "# Data Preprocessing"
   ]
  },
  {
   "cell_type": "markdown",
   "id": "d376f06b",
   "metadata": {
    "papermill": {
     "duration": 0.004255,
     "end_time": "2025-05-12T13:43:38.291366",
     "exception": false,
     "start_time": "2025-05-12T13:43:38.287111",
     "status": "completed"
    },
    "tags": []
   },
   "source": [
    "## Reducing memory usage"
   ]
  },
  {
   "cell_type": "code",
   "execution_count": 11,
   "id": "58398ea5",
   "metadata": {
    "execution": {
     "iopub.execute_input": "2025-05-12T13:43:38.300785Z",
     "iopub.status.busy": "2025-05-12T13:43:38.300578Z",
     "iopub.status.idle": "2025-05-12T13:43:38.327635Z",
     "shell.execute_reply": "2025-05-12T13:43:38.327080Z"
    },
    "papermill": {
     "duration": 0.033016,
     "end_time": "2025-05-12T13:43:38.328731",
     "exception": false,
     "start_time": "2025-05-12T13:43:38.295715",
     "status": "completed"
    },
    "tags": []
   },
   "outputs": [],
   "source": [
    "train['Sex'] = train['Sex'].astype('category')\n",
    "test['Sex'] = test['Sex'].astype('category')"
   ]
  },
  {
   "cell_type": "code",
   "execution_count": 12,
   "id": "4292f721",
   "metadata": {
    "execution": {
     "iopub.execute_input": "2025-05-12T13:43:38.338528Z",
     "iopub.status.busy": "2025-05-12T13:43:38.338119Z",
     "iopub.status.idle": "2025-05-12T13:43:38.343442Z",
     "shell.execute_reply": "2025-05-12T13:43:38.342775Z"
    },
    "papermill": {
     "duration": 0.011492,
     "end_time": "2025-05-12T13:43:38.344638",
     "exception": false,
     "start_time": "2025-05-12T13:43:38.333146",
     "status": "completed"
    },
    "tags": []
   },
   "outputs": [],
   "source": [
    "train['Age'] = train['Age'].astype('int8')\n",
    "test['Age'] = test['Age'].astype('int8')"
   ]
  },
  {
   "cell_type": "code",
   "execution_count": 13,
   "id": "3bbb5a6f",
   "metadata": {
    "execution": {
     "iopub.execute_input": "2025-05-12T13:43:38.354913Z",
     "iopub.status.busy": "2025-05-12T13:43:38.354272Z",
     "iopub.status.idle": "2025-05-12T13:43:38.820831Z",
     "shell.execute_reply": "2025-05-12T13:43:38.819948Z"
    },
    "papermill": {
     "duration": 0.473095,
     "end_time": "2025-05-12T13:43:38.822202",
     "exception": false,
     "start_time": "2025-05-12T13:43:38.349107",
     "status": "completed"
    },
    "tags": []
   },
   "outputs": [],
   "source": [
    "num_cols = test.select_dtypes(include='float64').columns\n",
    "for col in num_cols:\n",
    "    train[num_cols] = train[num_cols].astype('float32')\n",
    "    test[num_cols] = test[num_cols].astype('float32')"
   ]
  },
  {
   "cell_type": "code",
   "execution_count": 14,
   "id": "0ed1b851",
   "metadata": {
    "execution": {
     "iopub.execute_input": "2025-05-12T13:43:38.832578Z",
     "iopub.status.busy": "2025-05-12T13:43:38.832087Z",
     "iopub.status.idle": "2025-05-12T13:43:38.849700Z",
     "shell.execute_reply": "2025-05-12T13:43:38.848862Z"
    },
    "papermill": {
     "duration": 0.023826,
     "end_time": "2025-05-12T13:43:38.850807",
     "exception": false,
     "start_time": "2025-05-12T13:43:38.826981",
     "status": "completed"
    },
    "tags": []
   },
   "outputs": [
    {
     "name": "stdout",
     "output_type": "stream",
     "text": [
      "<class 'cudf.core.dataframe.DataFrame'>\n",
      "RangeIndex: 765000 entries, 0 to 764999\n",
      "Data columns (total 8 columns):\n",
      " #   Column      Non-Null Count   Dtype\n",
      "---  ------      --------------   -----\n",
      " 0   Sex         765000 non-null  category\n",
      " 1   Age         765000 non-null  int8\n",
      " 2   Height      765000 non-null  float32\n",
      " 3   Weight      765000 non-null  float32\n",
      " 4   Duration    765000 non-null  float32\n",
      " 5   Heart_Rate  765000 non-null  float32\n",
      " 6   Body_Temp   765000 non-null  float32\n",
      " 7   Calories    765000 non-null  float64\n",
      "dtypes: category(1), float32(5), float64(1), int8(1)\n",
      "memory usage: 21.9 MB\n"
     ]
    }
   ],
   "source": [
    "train.info()"
   ]
  },
  {
   "cell_type": "code",
   "execution_count": 15,
   "id": "3086195a",
   "metadata": {
    "execution": {
     "iopub.execute_input": "2025-05-12T13:43:38.860616Z",
     "iopub.status.busy": "2025-05-12T13:43:38.860416Z",
     "iopub.status.idle": "2025-05-12T13:43:38.912943Z",
     "shell.execute_reply": "2025-05-12T13:43:38.912465Z"
    },
    "papermill": {
     "duration": 0.0584,
     "end_time": "2025-05-12T13:43:38.913897",
     "exception": false,
     "start_time": "2025-05-12T13:43:38.855497",
     "status": "completed"
    },
    "tags": []
   },
   "outputs": [],
   "source": [
    "mapping = {'male': 1, 'female': 0}\n",
    "\n",
    "train['Sex'] = train['Sex'].map(mapping).astype('int8')\n",
    "test['Sex'] = test['Sex'].map(mapping).astype('int8')"
   ]
  },
  {
   "cell_type": "code",
   "execution_count": 16,
   "id": "e2055039",
   "metadata": {
    "execution": {
     "iopub.execute_input": "2025-05-12T13:43:38.923840Z",
     "iopub.status.busy": "2025-05-12T13:43:38.923667Z",
     "iopub.status.idle": "2025-05-12T13:43:38.926664Z",
     "shell.execute_reply": "2025-05-12T13:43:38.926147Z"
    },
    "papermill": {
     "duration": 0.009145,
     "end_time": "2025-05-12T13:43:38.927692",
     "exception": false,
     "start_time": "2025-05-12T13:43:38.918547",
     "status": "completed"
    },
    "tags": []
   },
   "outputs": [],
   "source": [
    "features = ['Sex', 'Age', 'Height', 'Weight', 'Duration', 'Heart_Rate', 'Body_Temp']"
   ]
  },
  {
   "cell_type": "code",
   "execution_count": 17,
   "id": "3d61b999",
   "metadata": {
    "execution": {
     "iopub.execute_input": "2025-05-12T13:43:38.937421Z",
     "iopub.status.busy": "2025-05-12T13:43:38.937213Z",
     "iopub.status.idle": "2025-05-12T13:43:38.941386Z",
     "shell.execute_reply": "2025-05-12T13:43:38.940730Z"
    },
    "papermill": {
     "duration": 0.010152,
     "end_time": "2025-05-12T13:43:38.942322",
     "exception": false,
     "start_time": "2025-05-12T13:43:38.932170",
     "status": "completed"
    },
    "tags": []
   },
   "outputs": [],
   "source": [
    "def add_features(df):\n",
    "    for i, c1 in enumerate(features):\n",
    "        for c2 in (features[i+1:]):\n",
    "            m = f'{c1}*{c2}'\n",
    "            df[m] = df[c1] * df[c2]\n",
    "            a = f'{c1}+{c2}'\n",
    "            df[a] = df[c1] + df[c2]\n",
    "            d = f'{c1}/{c2}'\n",
    "            df[d] = df[c1] / df[c2]\n",
    "    return df"
   ]
  },
  {
   "cell_type": "code",
   "execution_count": 18,
   "id": "8f8da3a3",
   "metadata": {
    "execution": {
     "iopub.execute_input": "2025-05-12T13:43:38.951983Z",
     "iopub.status.busy": "2025-05-12T13:43:38.951789Z",
     "iopub.status.idle": "2025-05-12T13:43:38.955950Z",
     "shell.execute_reply": "2025-05-12T13:43:38.955279Z"
    },
    "papermill": {
     "duration": 0.009924,
     "end_time": "2025-05-12T13:43:38.956920",
     "exception": false,
     "start_time": "2025-05-12T13:43:38.946996",
     "status": "completed"
    },
    "tags": []
   },
   "outputs": [],
   "source": [
    "from sklearn.preprocessing import RobustScaler\n",
    "\n",
    "def feature_engineer(df):\n",
    "\n",
    "    df['Max_HR'] = 220 - df['Age']\n",
    "    df['HR_Ratio'] = df['Heart_Rate'] / df['Max_HR']\n",
    "\n",
    "    df['exertion_score'] = df['Duration'] * df['Heart_Rate'] * df['Body_Temp']\n",
    "    \n",
    "    df['weight_expo'] = df['Weight'] ** 2\n",
    "    df['BMI'] = df['Weight'] / (df['Height']/100) ** 2\n",
    "    \n",
    "    df['body_theta'] = np.arctan2(df['Weight'], df['Height'])\n",
    "    \n",
    "    return df"
   ]
  },
  {
   "cell_type": "code",
   "execution_count": 19,
   "id": "19a3bf2d",
   "metadata": {
    "execution": {
     "iopub.execute_input": "2025-05-12T13:43:38.966563Z",
     "iopub.status.busy": "2025-05-12T13:43:38.966394Z",
     "iopub.status.idle": "2025-05-12T13:43:38.973055Z",
     "shell.execute_reply": "2025-05-12T13:43:38.972311Z"
    },
    "papermill": {
     "duration": 0.012575,
     "end_time": "2025-05-12T13:43:38.974123",
     "exception": false,
     "start_time": "2025-05-12T13:43:38.961548",
     "status": "completed"
    },
    "tags": []
   },
   "outputs": [
    {
     "data": {
      "text/plain": [
       "array([26.,  8.,  7., 25., 19.,  3., 23., 21.,  6., 29., 12., 11., 15.,\n",
       "        1.,  4.,  9., 30.,  5., 28., 20., 17., 27., 18., 16., 14., 22.,\n",
       "       24., 13.,  2., 10.], dtype=float32)"
      ]
     },
     "execution_count": 19,
     "metadata": {},
     "output_type": "execute_result"
    }
   ],
   "source": [
    "train['Duration'].unique()"
   ]
  },
  {
   "cell_type": "code",
   "execution_count": 20,
   "id": "7caf5e59",
   "metadata": {
    "execution": {
     "iopub.execute_input": "2025-05-12T13:43:38.984702Z",
     "iopub.status.busy": "2025-05-12T13:43:38.984062Z",
     "iopub.status.idle": "2025-05-12T13:43:39.436238Z",
     "shell.execute_reply": "2025-05-12T13:43:39.435673Z"
    },
    "papermill": {
     "duration": 0.458835,
     "end_time": "2025-05-12T13:43:39.437553",
     "exception": false,
     "start_time": "2025-05-12T13:43:38.978718",
     "status": "completed"
    },
    "tags": []
   },
   "outputs": [],
   "source": [
    "X = train.copy()\n",
    "y = X.pop('Calories')\n",
    "y = np.log1p(y)\n",
    "\n",
    "X = add_features(X)\n",
    "X = feature_engineer(X)\n",
    "\n",
    "X_test = test.copy()\n",
    "X_test = add_features(X_test)\n",
    "X_test = feature_engineer(X_test)"
   ]
  },
  {
   "cell_type": "code",
   "execution_count": 21,
   "id": "18ea14d6",
   "metadata": {
    "execution": {
     "iopub.execute_input": "2025-05-12T13:43:39.447947Z",
     "iopub.status.busy": "2025-05-12T13:43:39.447735Z",
     "iopub.status.idle": "2025-05-12T13:46:58.926416Z",
     "shell.execute_reply": "2025-05-12T13:46:58.925661Z"
    },
    "papermill": {
     "duration": 199.489345,
     "end_time": "2025-05-12T13:46:58.931783",
     "exception": false,
     "start_time": "2025-05-12T13:43:39.442438",
     "status": "completed"
    },
    "tags": []
   },
   "outputs": [
    {
     "name": "stdout",
     "output_type": "stream",
     "text": [
      "Fold 1 RMSE: 0.058705\n",
      "Fold 2 RMSE: 0.058873\n",
      "Fold 3 RMSE: 0.059696\n",
      "Fold 4 RMSE: 0.059583\n",
      "Fold 5 RMSE: 0.058793\n",
      "\n",
      "Overall OOF RMSLE: 0.059131\n"
     ]
    }
   ],
   "source": [
    "from sklearn.model_selection import KFold\n",
    "from cuml.metrics import mean_squared_log_error\n",
    "from xgboost import XGBRegressor\n",
    "\n",
    "n_folds = 5\n",
    "kf = KFold(n_splits=n_folds, shuffle=True, random_state=100)\n",
    "\n",
    "oof_xgb = np.zeros(len(y))\n",
    "test_xgb = np.zeros(len(X_test))\n",
    "\n",
    "for fold, (train_index, valid_index) in enumerate(kf.split(X, y), start=1):\n",
    "        X_train, X_valid = X.iloc[train_index].copy(), X.iloc[valid_index].copy()\n",
    "        y_train, y_valid = y.iloc[train_index], y.iloc[valid_index]\n",
    "        \n",
    "        xgb = XGBRegressor(\n",
    "            n_estimators=3000, learning_rate= 0.010042341305141641, max_depth=10, \n",
    "            min_child_weight=7, alpha= 0.031799792818970524, reg_lambda=0.3580931274078332, \n",
    "            subsample=0.8572426766452907, colsample_bytree=0.5066402912386329, gamma=1.037011350094906e-08, \n",
    "            early_stopping_rounds=50, tree_method='gpu_hist', device='cuda', seed=100, \n",
    "            objective='reg:squarederror', eval_metric='rmse',\n",
    "        ).fit(X_train, y_train, eval_set=[(X_valid, y_valid)], verbose=0)\n",
    "    \n",
    "        valid_pred = xgb.predict(X_valid)\n",
    "        oof_xgb[valid_index] = valid_pred\n",
    "        test_xgb += xgb.predict(X_test) / n_folds\n",
    "    \n",
    "        fold_rmsle = np.sqrt(mean_squared_log_error(np.expm1(y_valid), np.expm1(valid_pred)))\n",
    "        print(f\"Fold {fold} RMSE: {fold_rmsle:.6f}\")\n",
    "\n",
    "test_xgb = np.expm1(test_xgb)\n",
    "test_xgb = np.clip(test_xgb, 1, 314)\n",
    "overall_rmsle = np.sqrt(mean_squared_log_error(np.expm1(y), np.expm1(oof_xgb)))\n",
    "print(f\"\\nOverall OOF RMSLE: {overall_rmsle:.6f}\")   "
   ]
  },
  {
   "cell_type": "code",
   "execution_count": 22,
   "id": "ea2a2ca4",
   "metadata": {
    "execution": {
     "iopub.execute_input": "2025-05-12T13:46:58.942522Z",
     "iopub.status.busy": "2025-05-12T13:46:58.941845Z",
     "iopub.status.idle": "2025-05-12T13:49:51.983980Z",
     "shell.execute_reply": "2025-05-12T13:49:51.983228Z"
    },
    "papermill": {
     "duration": 173.05259,
     "end_time": "2025-05-12T13:49:51.989167",
     "exception": false,
     "start_time": "2025-05-12T13:46:58.936577",
     "status": "completed"
    },
    "tags": []
   },
   "outputs": [
    {
     "name": "stdout",
     "output_type": "stream",
     "text": [
      "Fold 1 RMSE: 0.059313\n",
      "Fold 2 RMSE: 0.059601\n",
      "Fold 3 RMSE: 0.060422\n",
      "Fold 4 RMSE: 0.060054\n",
      "Fold 5 RMSE: 0.059288\n",
      "\n",
      "Overall OOF RMSLE: 0.059737\n"
     ]
    }
   ],
   "source": [
    "from sklearn.ensemble import HistGradientBoostingRegressor\n",
    "\n",
    "oof_hist = np.zeros(len(y))\n",
    "test_hist = np.zeros(len(X_test))\n",
    "\n",
    "for fold, (train_index, valid_index) in enumerate(kf.split(X, y), start=1):\n",
    "        X_train, X_valid = X.iloc[train_index].copy(), X.iloc[valid_index].copy()\n",
    "        y_train, y_valid = y.iloc[train_index], y.iloc[valid_index]\n",
    "        \n",
    "        hist = HistGradientBoostingRegressor(\n",
    "            max_iter=5700, learning_rate= 0.059627821283751964, max_depth=8, max_leaf_nodes=370,\n",
    "            min_samples_leaf=50, l2_regularization=5.0012120860, random_state=100\n",
    "        ).fit(X_train, y_train)\n",
    "    \n",
    "        valid_pred = hist.predict(X_valid)\n",
    "        oof_hist[valid_index] = valid_pred\n",
    "        test_hist += hist.predict(X_test) / n_folds\n",
    "    \n",
    "        fold_rmsle = np.sqrt(mean_squared_log_error(np.expm1(y_valid), np.expm1(valid_pred)))\n",
    "        print(f\"Fold {fold} RMSE: {fold_rmsle:.6f}\")\n",
    "\n",
    "test_hist = np.expm1(test_hist)\n",
    "test_hist = np.clip(test_hist, 1, 314)\n",
    "overall_rmsle = np.sqrt(mean_squared_log_error(np.expm1(y), np.expm1(oof_hist)))\n",
    "print(f\"\\nOverall OOF RMSLE: {overall_rmsle:.6f}\")   "
   ]
  },
  {
   "cell_type": "code",
   "execution_count": 23,
   "id": "8d2d155a",
   "metadata": {
    "execution": {
     "iopub.execute_input": "2025-05-12T13:49:52.000332Z",
     "iopub.status.busy": "2025-05-12T13:49:51.999748Z",
     "iopub.status.idle": "2025-05-12T13:51:17.662545Z",
     "shell.execute_reply": "2025-05-12T13:51:17.661598Z"
    },
    "papermill": {
     "duration": 85.669597,
     "end_time": "2025-05-12T13:51:17.663828",
     "exception": false,
     "start_time": "2025-05-12T13:49:51.994231",
     "status": "completed"
    },
    "tags": []
   },
   "outputs": [
    {
     "name": "stderr",
     "output_type": "stream",
     "text": [
      "1 warning generated.\n",
      "1 warning generated.\n",
      "1 warning generated.\n",
      "1 warning generated.\n",
      "1 warning generated.\n",
      "1 warning generated.\n",
      "1 warning generated.\n",
      "1 warning generated.\n",
      "1 warning generated.\n",
      "1 warning generated.\n",
      "1 warning generated.\n",
      "1 warning generated.\n",
      "1 warning generated.\n",
      "1 warning generated.\n",
      "1 warning generated.\n",
      "1 warning generated.\n",
      "1 warning generated.\n",
      "1 warning generated.\n",
      "1 warning generated.\n",
      "1 warning generated.\n",
      "1 warning generated.\n",
      "1 warning generated.\n",
      "1 warning generated.\n",
      "1 warning generated.\n",
      "1 warning generated.\n",
      "1 warning generated.\n",
      "1 warning generated.\n",
      "1 warning generated.\n",
      "1 warning generated.\n",
      "1 warning generated.\n",
      "1 warning generated.\n",
      "1 warning generated.\n",
      "1 warning generated.\n"
     ]
    },
    {
     "name": "stdout",
     "output_type": "stream",
     "text": [
      "Fold 1 RMSE: 0.061347\n",
      "Fold 2 RMSE: 0.061485\n",
      "Fold 3 RMSE: 0.062620\n",
      "Fold 4 RMSE: 0.061853\n",
      "Fold 5 RMSE: 0.061403\n",
      "\n",
      "Overall OOF RMSLE: 0.061744\n"
     ]
    }
   ],
   "source": [
    "from lightgbm import LGBMRegressor\n",
    "\n",
    "oof_lgm = np.zeros(len(y))\n",
    "test_lgm = np.zeros(len(X_test))\n",
    "\n",
    "for fold, (train_index, valid_index) in enumerate(kf.split(X, y), start=1):\n",
    "        X_train, X_valid = X.iloc[train_index].copy(), X.iloc[valid_index].copy()\n",
    "        y_train, y_valid = y.iloc[train_index], y.iloc[valid_index]\n",
    "    \n",
    "        lgm = LGBMRegressor(\n",
    "            n_estimators=7000, min_child_samples=10, num_leaves=89, learning_rate=0.03, min_split_gain=2.600506676111687, \n",
    "            max_depth=10, reg_alpha=2.8370731842788426, reg_lambda=50.640754606081833, colsample_bytree=0.8933201495896544, \n",
    "            min_child_weight=0.5797996665447451, subsample=0.6452823633939004, verbose=-1, random_state=100, early_stopping_rounds=100,\n",
    "            device='gpu',\n",
    "        ).fit(X_train, y_train, eval_set=[(X_valid, y_valid)], eval_metric='rmse')\n",
    "    \n",
    "        valid_pred = lgm.predict(X_valid)\n",
    "        oof_lgm[valid_index] = valid_pred\n",
    "        test_lgm += lgm.predict(X_test) / n_folds\n",
    "    \n",
    "        fold_rmsle = np.sqrt(mean_squared_log_error(np.expm1(y_valid), np.expm1(valid_pred)))\n",
    "        print(f\"Fold {fold} RMSE: {fold_rmsle:.6f}\")\n",
    "\n",
    "test_lgm = np.expm1(test_lgm)\n",
    "test_lgm = np.clip(test_lgm, 1, 314)\n",
    "overall_rmsle = np.sqrt(mean_squared_log_error(np.expm1(y), np.expm1(oof_lgm)))\n",
    "print(f\"\\nOverall OOF RMSLE: {overall_rmsle:.6f}\")   "
   ]
  },
  {
   "cell_type": "code",
   "execution_count": 24,
   "id": "ebe1c702",
   "metadata": {
    "execution": {
     "iopub.execute_input": "2025-05-12T13:51:17.676940Z",
     "iopub.status.busy": "2025-05-12T13:51:17.676714Z",
     "iopub.status.idle": "2025-05-12T13:51:17.863471Z",
     "shell.execute_reply": "2025-05-12T13:51:17.862743Z"
    },
    "papermill": {
     "duration": 0.198528,
     "end_time": "2025-05-12T13:51:17.868308",
     "exception": false,
     "start_time": "2025-05-12T13:51:17.669780",
     "status": "completed"
    },
    "tags": []
   },
   "outputs": [],
   "source": [
    "from sklearn.linear_model import BayesianRidge\n",
    "\n",
    "meta_train = np.column_stack((oof_xgb, oof_hist, oof_lgm))\n",
    "meta_test = np.column_stack((test_xgb, test_hist, test_lgm))\n",
    "\n",
    "meta_model = BayesianRidge( n_iter=800).fit(meta_train, y)\n",
    "\n",
    "final_preds = meta_model.predict(meta_test)"
   ]
  },
  {
   "cell_type": "code",
   "execution_count": 25,
   "id": "56214c13",
   "metadata": {
    "execution": {
     "iopub.execute_input": "2025-05-12T13:51:17.892399Z",
     "iopub.status.busy": "2025-05-12T13:51:17.892059Z",
     "iopub.status.idle": "2025-05-12T13:51:18.004730Z",
     "shell.execute_reply": "2025-05-12T13:51:18.003881Z"
    },
    "papermill": {
     "duration": 0.124235,
     "end_time": "2025-05-12T13:51:18.005908",
     "exception": false,
     "start_time": "2025-05-12T13:51:17.881673",
     "status": "completed"
    },
    "tags": []
   },
   "outputs": [
    {
     "name": "stdout",
     "output_type": "stream",
     "text": [
      "Your submission was successfully saved!\n",
      "       id    Calories\n",
      "0  750000   27.643300\n",
      "1  750001  108.100670\n",
      "2  750002   87.522014\n",
      "3  750003  125.421193\n",
      "4  750004   75.790237\n"
     ]
    }
   ],
   "source": [
    "sub = pd.read_csv('/kaggle/input/playground-series-s5e5/sample_submission.csv')\n",
    "sub['Calories'] = final_preds\n",
    "sub.to_csv('submission.csv', index=False)\n",
    "print(\"Your submission was successfully saved!\")\n",
    "print(sub.head(5))"
   ]
  }
 ],
 "metadata": {
  "kaggle": {
   "accelerator": "nvidiaTeslaT4",
   "dataSources": [
    {
     "databundleVersionId": 11893428,
     "sourceId": 91716,
     "sourceType": "competition"
    },
    {
     "datasetId": 6512323,
     "sourceId": 10522392,
     "sourceType": "datasetVersion"
    }
   ],
   "dockerImageVersionId": 31012,
   "isGpuEnabled": true,
   "isInternetEnabled": true,
   "language": "python",
   "sourceType": "notebook"
  },
  "kernelspec": {
   "display_name": "Python 3",
   "language": "python",
   "name": "python3"
  },
  "language_info": {
   "codemirror_mode": {
    "name": "ipython",
    "version": 3
   },
   "file_extension": ".py",
   "mimetype": "text/x-python",
   "name": "python",
   "nbconvert_exporter": "python",
   "pygments_lexer": "ipython3",
   "version": "3.11.11"
  },
  "papermill": {
   "default_parameters": {},
   "duration": 484.660363,
   "end_time": "2025-05-12T13:51:21.830609",
   "environment_variables": {},
   "exception": null,
   "input_path": "__notebook__.ipynb",
   "output_path": "__notebook__.ipynb",
   "parameters": {},
   "start_time": "2025-05-12T13:43:17.170246",
   "version": "2.6.0"
  }
 },
 "nbformat": 4,
 "nbformat_minor": 5
}
