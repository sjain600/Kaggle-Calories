{
 "cells": [
  {
   "cell_type": "code",
   "execution_count": 1,
   "id": "7c1539d0",
   "metadata": {
    "execution": {
     "iopub.execute_input": "2025-05-08T07:45:13.486155Z",
     "iopub.status.busy": "2025-05-08T07:45:13.485918Z",
     "iopub.status.idle": "2025-05-08T07:45:23.448659Z",
     "shell.execute_reply": "2025-05-08T07:45:23.447832Z"
    },
    "papermill": {
     "duration": 9.96895,
     "end_time": "2025-05-08T07:45:23.449960",
     "exception": false,
     "start_time": "2025-05-08T07:45:13.481010",
     "status": "completed"
    },
    "tags": []
   },
   "outputs": [
    {
     "name": "stdout",
     "output_type": "stream",
     "text": [
      "/kaggle/input/playground-series-s5e5/sample_submission.csv\n",
      "/kaggle/input/playground-series-s5e5/train.csv\n",
      "/kaggle/input/playground-series-s5e5/test.csv\n",
      "/kaggle/input/calories-burnt-prediction/calories.csv\n"
     ]
    },
    {
     "data": {
      "text/plain": [
       "<Figure size 1200x750 with 0 Axes>"
      ]
     },
     "metadata": {},
     "output_type": "display_data"
    }
   ],
   "source": [
    "# This Python 3 environment comes with many helpful analytics libraries installed\n",
    "# It is defined by the kaggle/python Docker image: https://github.com/kaggle/docker-python\n",
    "# For example, here's several helpful packages to load\n",
    "%load_ext cudf.pandas\n",
    "import numpy as np # linear algebra\n",
    "import pandas as pd # data processing, CSV file I/O (e.g. pd.read_csv)\n",
    "import matplotlib.pyplot as plt\n",
    "import seaborn as sns\n",
    "\n",
    "# Setting Matplotlib defaults\n",
    "plt.style.use('seaborn-v0_8')\n",
    "plt.rc('figure', figsize=(8,5), dpi=150)\n",
    "plt.rc('axes', labelweight='bold', labelsize='large',\n",
    "       titleweight='bold', titlesize=15, titlepad=10)\n",
    "plt.rc('animation', html='html5')\n",
    "plt.tight_layout()\n",
    "# Input data files are available in the read-only \"../input/\" directory\n",
    "# For example, running this (by clicking run or pressing Shift+Enter) will list all files under the input directory\n",
    "\n",
    "import os\n",
    "for dirname, _, filenames in os.walk('/kaggle/input'):\n",
    "    for filename in filenames:\n",
    "        print(os.path.join(dirname, filename))\n",
    "        \n",
    "import warnings\n",
    "warnings.simplefilter('ignore')\n",
    "\n",
    "pd.set_option('display.max_columns', 500)\n",
    "\n",
    "# You can write up to 20GB to the current directory (/kaggle/working/) that gets preserved as output when you create a version using \"Save & Run All\" \n",
    "# You can also write temporary files to /kaggle/temp/, but they won't be saved outside of the current session"
   ]
  },
  {
   "cell_type": "code",
   "execution_count": 2,
   "id": "65013bb3",
   "metadata": {
    "execution": {
     "iopub.execute_input": "2025-05-08T07:45:23.458646Z",
     "iopub.status.busy": "2025-05-08T07:45:23.458242Z",
     "iopub.status.idle": "2025-05-08T07:45:23.918760Z",
     "shell.execute_reply": "2025-05-08T07:45:23.918189Z"
    },
    "papermill": {
     "duration": 0.466148,
     "end_time": "2025-05-08T07:45:23.920146",
     "exception": false,
     "start_time": "2025-05-08T07:45:23.453998",
     "status": "completed"
    },
    "tags": []
   },
   "outputs": [],
   "source": [
    "train = pd.read_csv('/kaggle/input/playground-series-s5e5/train.csv', index_col='id')\n",
    "test = pd.read_csv('/kaggle/input/playground-series-s5e5/test.csv', index_col='id')\n",
    "org = pd.read_csv('/kaggle/input/calories-burnt-prediction/calories.csv', index_col='User_ID')\n",
    "org = org.rename(columns={'Gender': 'Sex'})"
   ]
  },
  {
   "cell_type": "code",
   "execution_count": 3,
   "id": "705c7ce6",
   "metadata": {
    "execution": {
     "iopub.execute_input": "2025-05-08T07:45:23.928377Z",
     "iopub.status.busy": "2025-05-08T07:45:23.928152Z",
     "iopub.status.idle": "2025-05-08T07:45:23.962927Z",
     "shell.execute_reply": "2025-05-08T07:45:23.962442Z"
    },
    "papermill": {
     "duration": 0.040039,
     "end_time": "2025-05-08T07:45:23.964046",
     "exception": false,
     "start_time": "2025-05-08T07:45:23.924007",
     "status": "completed"
    },
    "tags": []
   },
   "outputs": [],
   "source": [
    "train = pd.concat([train, org], ignore_index=True)"
   ]
  },
  {
   "cell_type": "code",
   "execution_count": 4,
   "id": "5b28f318",
   "metadata": {
    "execution": {
     "iopub.execute_input": "2025-05-08T07:45:23.971516Z",
     "iopub.status.busy": "2025-05-08T07:45:23.971286Z",
     "iopub.status.idle": "2025-05-08T07:45:24.197609Z",
     "shell.execute_reply": "2025-05-08T07:45:24.196570Z"
    },
    "papermill": {
     "duration": 0.231509,
     "end_time": "2025-05-08T07:45:24.199033",
     "exception": false,
     "start_time": "2025-05-08T07:45:23.967524",
     "status": "completed"
    },
    "tags": []
   },
   "outputs": [
    {
     "name": "stdout",
     "output_type": "stream",
     "text": [
      "(762107, 8) (765000, 8)\n"
     ]
    }
   ],
   "source": [
    "strt_cols = list(test.columns)\n",
    "print(train.drop_duplicates(subset=strt_cols + ['Calories']).shape, train.shape)"
   ]
  },
  {
   "cell_type": "code",
   "execution_count": 5,
   "id": "c979f7c0",
   "metadata": {
    "execution": {
     "iopub.execute_input": "2025-05-08T07:45:24.211079Z",
     "iopub.status.busy": "2025-05-08T07:45:24.210844Z",
     "iopub.status.idle": "2025-05-08T07:45:24.243706Z",
     "shell.execute_reply": "2025-05-08T07:45:24.243005Z"
    },
    "papermill": {
     "duration": 0.03867,
     "end_time": "2025-05-08T07:45:24.244794",
     "exception": false,
     "start_time": "2025-05-08T07:45:24.206124",
     "status": "completed"
    },
    "tags": []
   },
   "outputs": [
    {
     "data": {
      "text/html": [
       "<div>\n",
       "<style scoped>\n",
       "    .dataframe tbody tr th:only-of-type {\n",
       "        vertical-align: middle;\n",
       "    }\n",
       "\n",
       "    .dataframe tbody tr th {\n",
       "        vertical-align: top;\n",
       "    }\n",
       "\n",
       "    .dataframe thead th {\n",
       "        text-align: right;\n",
       "    }\n",
       "</style>\n",
       "<table border=\"1\" class=\"dataframe\">\n",
       "  <thead>\n",
       "    <tr style=\"text-align: right;\">\n",
       "      <th></th>\n",
       "      <th>Sex</th>\n",
       "      <th>Age</th>\n",
       "      <th>Height</th>\n",
       "      <th>Weight</th>\n",
       "      <th>Duration</th>\n",
       "      <th>Heart_Rate</th>\n",
       "      <th>Body_Temp</th>\n",
       "      <th>Calories</th>\n",
       "    </tr>\n",
       "    <tr>\n",
       "      <th>User_ID</th>\n",
       "      <th></th>\n",
       "      <th></th>\n",
       "      <th></th>\n",
       "      <th></th>\n",
       "      <th></th>\n",
       "      <th></th>\n",
       "      <th></th>\n",
       "      <th></th>\n",
       "    </tr>\n",
       "  </thead>\n",
       "  <tbody>\n",
       "    <tr>\n",
       "      <th>14733363</th>\n",
       "      <td>male</td>\n",
       "      <td>68</td>\n",
       "      <td>190.0</td>\n",
       "      <td>94.0</td>\n",
       "      <td>29.0</td>\n",
       "      <td>105.0</td>\n",
       "      <td>40.8</td>\n",
       "      <td>231.0</td>\n",
       "    </tr>\n",
       "    <tr>\n",
       "      <th>14861698</th>\n",
       "      <td>female</td>\n",
       "      <td>20</td>\n",
       "      <td>166.0</td>\n",
       "      <td>60.0</td>\n",
       "      <td>14.0</td>\n",
       "      <td>94.0</td>\n",
       "      <td>40.3</td>\n",
       "      <td>66.0</td>\n",
       "    </tr>\n",
       "    <tr>\n",
       "      <th>11179863</th>\n",
       "      <td>male</td>\n",
       "      <td>69</td>\n",
       "      <td>179.0</td>\n",
       "      <td>79.0</td>\n",
       "      <td>5.0</td>\n",
       "      <td>88.0</td>\n",
       "      <td>38.7</td>\n",
       "      <td>26.0</td>\n",
       "    </tr>\n",
       "    <tr>\n",
       "      <th>16180408</th>\n",
       "      <td>female</td>\n",
       "      <td>34</td>\n",
       "      <td>179.0</td>\n",
       "      <td>71.0</td>\n",
       "      <td>13.0</td>\n",
       "      <td>100.0</td>\n",
       "      <td>40.5</td>\n",
       "      <td>71.0</td>\n",
       "    </tr>\n",
       "    <tr>\n",
       "      <th>17771927</th>\n",
       "      <td>female</td>\n",
       "      <td>27</td>\n",
       "      <td>154.0</td>\n",
       "      <td>58.0</td>\n",
       "      <td>10.0</td>\n",
       "      <td>81.0</td>\n",
       "      <td>39.8</td>\n",
       "      <td>35.0</td>\n",
       "    </tr>\n",
       "  </tbody>\n",
       "</table>\n",
       "</div>"
      ],
      "text/plain": [
       "             Sex  Age  Height  Weight  Duration  Heart_Rate  Body_Temp  \\\n",
       "User_ID                                                                  \n",
       "14733363    male   68   190.0    94.0      29.0       105.0       40.8   \n",
       "14861698  female   20   166.0    60.0      14.0        94.0       40.3   \n",
       "11179863    male   69   179.0    79.0       5.0        88.0       38.7   \n",
       "16180408  female   34   179.0    71.0      13.0       100.0       40.5   \n",
       "17771927  female   27   154.0    58.0      10.0        81.0       39.8   \n",
       "\n",
       "          Calories  \n",
       "User_ID             \n",
       "14733363     231.0  \n",
       "14861698      66.0  \n",
       "11179863      26.0  \n",
       "16180408      71.0  \n",
       "17771927      35.0  "
      ]
     },
     "execution_count": 5,
     "metadata": {},
     "output_type": "execute_result"
    }
   ],
   "source": [
    "org.head()"
   ]
  },
  {
   "cell_type": "markdown",
   "id": "e9f40392",
   "metadata": {
    "papermill": {
     "duration": 0.003339,
     "end_time": "2025-05-08T07:45:24.251920",
     "exception": false,
     "start_time": "2025-05-08T07:45:24.248581",
     "status": "completed"
    },
    "tags": []
   },
   "source": [
    "# Data Understanding"
   ]
  },
  {
   "cell_type": "code",
   "execution_count": 6,
   "id": "3ea5c486",
   "metadata": {
    "execution": {
     "iopub.execute_input": "2025-05-08T07:45:24.259667Z",
     "iopub.status.busy": "2025-05-08T07:45:24.259478Z",
     "iopub.status.idle": "2025-05-08T07:45:24.263665Z",
     "shell.execute_reply": "2025-05-08T07:45:24.262976Z"
    },
    "papermill": {
     "duration": 0.009274,
     "end_time": "2025-05-08T07:45:24.264797",
     "exception": false,
     "start_time": "2025-05-08T07:45:24.255523",
     "status": "completed"
    },
    "tags": []
   },
   "outputs": [
    {
     "data": {
      "text/plain": [
       "(250000, 7)"
      ]
     },
     "execution_count": 6,
     "metadata": {},
     "output_type": "execute_result"
    }
   ],
   "source": [
    "test.shape"
   ]
  },
  {
   "cell_type": "code",
   "execution_count": 7,
   "id": "39b81c79",
   "metadata": {
    "execution": {
     "iopub.execute_input": "2025-05-08T07:45:24.272615Z",
     "iopub.status.busy": "2025-05-08T07:45:24.272364Z",
     "iopub.status.idle": "2025-05-08T07:45:24.298183Z",
     "shell.execute_reply": "2025-05-08T07:45:24.297556Z"
    },
    "papermill": {
     "duration": 0.031061,
     "end_time": "2025-05-08T07:45:24.299371",
     "exception": false,
     "start_time": "2025-05-08T07:45:24.268310",
     "status": "completed"
    },
    "tags": []
   },
   "outputs": [
    {
     "data": {
      "text/html": [
       "<div>\n",
       "<style scoped>\n",
       "    .dataframe tbody tr th:only-of-type {\n",
       "        vertical-align: middle;\n",
       "    }\n",
       "\n",
       "    .dataframe tbody tr th {\n",
       "        vertical-align: top;\n",
       "    }\n",
       "\n",
       "    .dataframe thead th {\n",
       "        text-align: right;\n",
       "    }\n",
       "</style>\n",
       "<table border=\"1\" class=\"dataframe\">\n",
       "  <thead>\n",
       "    <tr style=\"text-align: right;\">\n",
       "      <th></th>\n",
       "      <th>Sex</th>\n",
       "      <th>Age</th>\n",
       "      <th>Height</th>\n",
       "      <th>Weight</th>\n",
       "      <th>Duration</th>\n",
       "      <th>Heart_Rate</th>\n",
       "      <th>Body_Temp</th>\n",
       "      <th>Calories</th>\n",
       "    </tr>\n",
       "  </thead>\n",
       "  <tbody>\n",
       "    <tr>\n",
       "      <th>0</th>\n",
       "      <td>male</td>\n",
       "      <td>36</td>\n",
       "      <td>189.0</td>\n",
       "      <td>82.0</td>\n",
       "      <td>26.0</td>\n",
       "      <td>101.0</td>\n",
       "      <td>41.0</td>\n",
       "      <td>150.0</td>\n",
       "    </tr>\n",
       "    <tr>\n",
       "      <th>1</th>\n",
       "      <td>female</td>\n",
       "      <td>64</td>\n",
       "      <td>163.0</td>\n",
       "      <td>60.0</td>\n",
       "      <td>8.0</td>\n",
       "      <td>85.0</td>\n",
       "      <td>39.7</td>\n",
       "      <td>34.0</td>\n",
       "    </tr>\n",
       "    <tr>\n",
       "      <th>2</th>\n",
       "      <td>female</td>\n",
       "      <td>51</td>\n",
       "      <td>161.0</td>\n",
       "      <td>64.0</td>\n",
       "      <td>7.0</td>\n",
       "      <td>84.0</td>\n",
       "      <td>39.8</td>\n",
       "      <td>29.0</td>\n",
       "    </tr>\n",
       "    <tr>\n",
       "      <th>3</th>\n",
       "      <td>male</td>\n",
       "      <td>20</td>\n",
       "      <td>192.0</td>\n",
       "      <td>90.0</td>\n",
       "      <td>25.0</td>\n",
       "      <td>105.0</td>\n",
       "      <td>40.7</td>\n",
       "      <td>140.0</td>\n",
       "    </tr>\n",
       "    <tr>\n",
       "      <th>4</th>\n",
       "      <td>female</td>\n",
       "      <td>38</td>\n",
       "      <td>166.0</td>\n",
       "      <td>61.0</td>\n",
       "      <td>25.0</td>\n",
       "      <td>102.0</td>\n",
       "      <td>40.6</td>\n",
       "      <td>146.0</td>\n",
       "    </tr>\n",
       "    <tr>\n",
       "      <th>5</th>\n",
       "      <td>female</td>\n",
       "      <td>26</td>\n",
       "      <td>156.0</td>\n",
       "      <td>56.0</td>\n",
       "      <td>19.0</td>\n",
       "      <td>100.0</td>\n",
       "      <td>40.5</td>\n",
       "      <td>103.0</td>\n",
       "    </tr>\n",
       "    <tr>\n",
       "      <th>6</th>\n",
       "      <td>female</td>\n",
       "      <td>21</td>\n",
       "      <td>172.0</td>\n",
       "      <td>73.0</td>\n",
       "      <td>3.0</td>\n",
       "      <td>81.0</td>\n",
       "      <td>38.3</td>\n",
       "      <td>9.0</td>\n",
       "    </tr>\n",
       "    <tr>\n",
       "      <th>7</th>\n",
       "      <td>male</td>\n",
       "      <td>46</td>\n",
       "      <td>188.0</td>\n",
       "      <td>94.0</td>\n",
       "      <td>23.0</td>\n",
       "      <td>100.0</td>\n",
       "      <td>40.8</td>\n",
       "      <td>145.0</td>\n",
       "    </tr>\n",
       "    <tr>\n",
       "      <th>8</th>\n",
       "      <td>female</td>\n",
       "      <td>33</td>\n",
       "      <td>166.0</td>\n",
       "      <td>63.0</td>\n",
       "      <td>25.0</td>\n",
       "      <td>107.0</td>\n",
       "      <td>40.5</td>\n",
       "      <td>161.0</td>\n",
       "    </tr>\n",
       "    <tr>\n",
       "      <th>9</th>\n",
       "      <td>male</td>\n",
       "      <td>65</td>\n",
       "      <td>185.0</td>\n",
       "      <td>88.0</td>\n",
       "      <td>23.0</td>\n",
       "      <td>104.0</td>\n",
       "      <td>41.0</td>\n",
       "      <td>185.0</td>\n",
       "    </tr>\n",
       "  </tbody>\n",
       "</table>\n",
       "</div>"
      ],
      "text/plain": [
       "      Sex  Age  Height  Weight  Duration  Heart_Rate  Body_Temp  Calories\n",
       "0    male   36   189.0    82.0      26.0       101.0       41.0     150.0\n",
       "1  female   64   163.0    60.0       8.0        85.0       39.7      34.0\n",
       "2  female   51   161.0    64.0       7.0        84.0       39.8      29.0\n",
       "3    male   20   192.0    90.0      25.0       105.0       40.7     140.0\n",
       "4  female   38   166.0    61.0      25.0       102.0       40.6     146.0\n",
       "5  female   26   156.0    56.0      19.0       100.0       40.5     103.0\n",
       "6  female   21   172.0    73.0       3.0        81.0       38.3       9.0\n",
       "7    male   46   188.0    94.0      23.0       100.0       40.8     145.0\n",
       "8  female   33   166.0    63.0      25.0       107.0       40.5     161.0\n",
       "9    male   65   185.0    88.0      23.0       104.0       41.0     185.0"
      ]
     },
     "execution_count": 7,
     "metadata": {},
     "output_type": "execute_result"
    }
   ],
   "source": [
    "train.head(10)"
   ]
  },
  {
   "cell_type": "code",
   "execution_count": 8,
   "id": "ceda4c18",
   "metadata": {
    "execution": {
     "iopub.execute_input": "2025-05-08T07:45:24.308947Z",
     "iopub.status.busy": "2025-05-08T07:45:24.308729Z",
     "iopub.status.idle": "2025-05-08T07:45:25.587897Z",
     "shell.execute_reply": "2025-05-08T07:45:25.587190Z"
    },
    "papermill": {
     "duration": 1.285532,
     "end_time": "2025-05-08T07:45:25.589182",
     "exception": false,
     "start_time": "2025-05-08T07:45:24.303650",
     "status": "completed"
    },
    "tags": []
   },
   "outputs": [
    {
     "data": {
      "text/html": [
       "<div>\n",
       "<style scoped>\n",
       "    .dataframe tbody tr th:only-of-type {\n",
       "        vertical-align: middle;\n",
       "    }\n",
       "\n",
       "    .dataframe tbody tr th {\n",
       "        vertical-align: top;\n",
       "    }\n",
       "\n",
       "    .dataframe thead th {\n",
       "        text-align: right;\n",
       "    }\n",
       "</style>\n",
       "<table border=\"1\" class=\"dataframe\">\n",
       "  <thead>\n",
       "    <tr style=\"text-align: right;\">\n",
       "      <th></th>\n",
       "      <th>Age</th>\n",
       "      <th>Height</th>\n",
       "      <th>Weight</th>\n",
       "      <th>Duration</th>\n",
       "      <th>Heart_Rate</th>\n",
       "      <th>Body_Temp</th>\n",
       "      <th>Calories</th>\n",
       "    </tr>\n",
       "  </thead>\n",
       "  <tbody>\n",
       "    <tr>\n",
       "      <th>count</th>\n",
       "      <td>765000.000000</td>\n",
       "      <td>765000.000000</td>\n",
       "      <td>765000.000000</td>\n",
       "      <td>765000.000000</td>\n",
       "      <td>765000.000000</td>\n",
       "      <td>765000.000000</td>\n",
       "      <td>765000.000000</td>\n",
       "    </tr>\n",
       "    <tr>\n",
       "      <th>mean</th>\n",
       "      <td>41.447255</td>\n",
       "      <td>174.693126</td>\n",
       "      <td>75.142162</td>\n",
       "      <td>15.423163</td>\n",
       "      <td>95.484672</td>\n",
       "      <td>40.036041</td>\n",
       "      <td>88.307424</td>\n",
       "    </tr>\n",
       "    <tr>\n",
       "      <th>std</th>\n",
       "      <td>15.213677</td>\n",
       "      <td>12.854173</td>\n",
       "      <td>14.004122</td>\n",
       "      <td>8.353421</td>\n",
       "      <td>9.452476</td>\n",
       "      <td>0.779863</td>\n",
       "      <td>62.396760</td>\n",
       "    </tr>\n",
       "    <tr>\n",
       "      <th>min</th>\n",
       "      <td>20.000000</td>\n",
       "      <td>123.000000</td>\n",
       "      <td>36.000000</td>\n",
       "      <td>1.000000</td>\n",
       "      <td>67.000000</td>\n",
       "      <td>37.100000</td>\n",
       "      <td>1.000000</td>\n",
       "    </tr>\n",
       "    <tr>\n",
       "      <th>25%</th>\n",
       "      <td>28.000000</td>\n",
       "      <td>164.000000</td>\n",
       "      <td>63.000000</td>\n",
       "      <td>8.000000</td>\n",
       "      <td>88.000000</td>\n",
       "      <td>39.600000</td>\n",
       "      <td>34.000000</td>\n",
       "    </tr>\n",
       "    <tr>\n",
       "      <th>50%</th>\n",
       "      <td>40.000000</td>\n",
       "      <td>174.000000</td>\n",
       "      <td>74.000000</td>\n",
       "      <td>15.000000</td>\n",
       "      <td>95.000000</td>\n",
       "      <td>40.300000</td>\n",
       "      <td>77.000000</td>\n",
       "    </tr>\n",
       "    <tr>\n",
       "      <th>75%</th>\n",
       "      <td>52.000000</td>\n",
       "      <td>185.000000</td>\n",
       "      <td>87.000000</td>\n",
       "      <td>23.000000</td>\n",
       "      <td>103.000000</td>\n",
       "      <td>40.700000</td>\n",
       "      <td>136.000000</td>\n",
       "    </tr>\n",
       "    <tr>\n",
       "      <th>max</th>\n",
       "      <td>79.000000</td>\n",
       "      <td>222.000000</td>\n",
       "      <td>132.000000</td>\n",
       "      <td>30.000000</td>\n",
       "      <td>128.000000</td>\n",
       "      <td>41.500000</td>\n",
       "      <td>314.000000</td>\n",
       "    </tr>\n",
       "  </tbody>\n",
       "</table>\n",
       "</div>"
      ],
      "text/plain": [
       "                 Age         Height         Weight       Duration  \\\n",
       "count  765000.000000  765000.000000  765000.000000  765000.000000   \n",
       "mean       41.447255     174.693126      75.142162      15.423163   \n",
       "std        15.213677      12.854173      14.004122       8.353421   \n",
       "min        20.000000     123.000000      36.000000       1.000000   \n",
       "25%        28.000000     164.000000      63.000000       8.000000   \n",
       "50%        40.000000     174.000000      74.000000      15.000000   \n",
       "75%        52.000000     185.000000      87.000000      23.000000   \n",
       "max        79.000000     222.000000     132.000000      30.000000   \n",
       "\n",
       "          Heart_Rate      Body_Temp       Calories  \n",
       "count  765000.000000  765000.000000  765000.000000  \n",
       "mean       95.484672      40.036041      88.307424  \n",
       "std         9.452476       0.779863      62.396760  \n",
       "min        67.000000      37.100000       1.000000  \n",
       "25%        88.000000      39.600000      34.000000  \n",
       "50%        95.000000      40.300000      77.000000  \n",
       "75%       103.000000      40.700000     136.000000  \n",
       "max       128.000000      41.500000     314.000000  "
      ]
     },
     "execution_count": 8,
     "metadata": {},
     "output_type": "execute_result"
    }
   ],
   "source": [
    "train.describe()"
   ]
  },
  {
   "cell_type": "code",
   "execution_count": 9,
   "id": "291f04ff",
   "metadata": {
    "execution": {
     "iopub.execute_input": "2025-05-08T07:45:25.598220Z",
     "iopub.status.busy": "2025-05-08T07:45:25.598018Z",
     "iopub.status.idle": "2025-05-08T07:45:25.675578Z",
     "shell.execute_reply": "2025-05-08T07:45:25.674937Z"
    },
    "papermill": {
     "duration": 0.083204,
     "end_time": "2025-05-08T07:45:25.676705",
     "exception": false,
     "start_time": "2025-05-08T07:45:25.593501",
     "status": "completed"
    },
    "tags": []
   },
   "outputs": [
    {
     "data": {
      "text/plain": [
       "Sex           0\n",
       "Age           0\n",
       "Height        0\n",
       "Weight        0\n",
       "Duration      0\n",
       "Heart_Rate    0\n",
       "Body_Temp     0\n",
       "Calories      0\n",
       "dtype: int64"
      ]
     },
     "execution_count": 9,
     "metadata": {},
     "output_type": "execute_result"
    }
   ],
   "source": [
    "train.isnull().sum()"
   ]
  },
  {
   "cell_type": "code",
   "execution_count": 10,
   "id": "600aab01",
   "metadata": {
    "execution": {
     "iopub.execute_input": "2025-05-08T07:45:25.686071Z",
     "iopub.status.busy": "2025-05-08T07:45:25.685834Z",
     "iopub.status.idle": "2025-05-08T07:45:25.696889Z",
     "shell.execute_reply": "2025-05-08T07:45:25.696219Z"
    },
    "papermill": {
     "duration": 0.016984,
     "end_time": "2025-05-08T07:45:25.697932",
     "exception": false,
     "start_time": "2025-05-08T07:45:25.680948",
     "status": "completed"
    },
    "tags": []
   },
   "outputs": [
    {
     "name": "stdout",
     "output_type": "stream",
     "text": [
      "<class 'cudf.core.dataframe.DataFrame'>\n",
      "RangeIndex: 765000 entries, 0 to 764999\n",
      "Data columns (total 8 columns):\n",
      " #   Column      Non-Null Count   Dtype\n",
      "---  ------      --------------   -----\n",
      " 0   Sex         765000 non-null  object\n",
      " 1   Age         765000 non-null  int64\n",
      " 2   Height      765000 non-null  float64\n",
      " 3   Weight      765000 non-null  float64\n",
      " 4   Duration    765000 non-null  float64\n",
      " 5   Heart_Rate  765000 non-null  float64\n",
      " 6   Body_Temp   765000 non-null  float64\n",
      " 7   Calories    765000 non-null  float64\n",
      "dtypes: float64(6), int64(1), object(1)\n",
      "memory usage: 47.4+ MB\n"
     ]
    }
   ],
   "source": [
    "train.info()"
   ]
  },
  {
   "cell_type": "markdown",
   "id": "6af1fb0f",
   "metadata": {
    "papermill": {
     "duration": 0.003797,
     "end_time": "2025-05-08T07:45:25.705868",
     "exception": false,
     "start_time": "2025-05-08T07:45:25.702071",
     "status": "completed"
    },
    "tags": []
   },
   "source": [
    "# Data Preprocessing"
   ]
  },
  {
   "cell_type": "markdown",
   "id": "7ea98c86",
   "metadata": {
    "papermill": {
     "duration": 0.003782,
     "end_time": "2025-05-08T07:45:25.713590",
     "exception": false,
     "start_time": "2025-05-08T07:45:25.709808",
     "status": "completed"
    },
    "tags": []
   },
   "source": [
    "## Reducing memory usage"
   ]
  },
  {
   "cell_type": "code",
   "execution_count": 11,
   "id": "9ec86e94",
   "metadata": {
    "execution": {
     "iopub.execute_input": "2025-05-08T07:45:25.722541Z",
     "iopub.status.busy": "2025-05-08T07:45:25.722006Z",
     "iopub.status.idle": "2025-05-08T07:45:25.749046Z",
     "shell.execute_reply": "2025-05-08T07:45:25.748578Z"
    },
    "papermill": {
     "duration": 0.032508,
     "end_time": "2025-05-08T07:45:25.750106",
     "exception": false,
     "start_time": "2025-05-08T07:45:25.717598",
     "status": "completed"
    },
    "tags": []
   },
   "outputs": [],
   "source": [
    "train['Sex'] = train['Sex'].astype('category')\n",
    "test['Sex'] = test['Sex'].astype('category')"
   ]
  },
  {
   "cell_type": "code",
   "execution_count": 12,
   "id": "91d09ac5",
   "metadata": {
    "execution": {
     "iopub.execute_input": "2025-05-08T07:45:25.758777Z",
     "iopub.status.busy": "2025-05-08T07:45:25.758589Z",
     "iopub.status.idle": "2025-05-08T07:45:25.763582Z",
     "shell.execute_reply": "2025-05-08T07:45:25.762918Z"
    },
    "papermill": {
     "duration": 0.010524,
     "end_time": "2025-05-08T07:45:25.764594",
     "exception": false,
     "start_time": "2025-05-08T07:45:25.754070",
     "status": "completed"
    },
    "tags": []
   },
   "outputs": [],
   "source": [
    "train['Age'] = train['Age'].astype('int8')\n",
    "test['Age'] = test['Age'].astype('int8')"
   ]
  },
  {
   "cell_type": "code",
   "execution_count": 13,
   "id": "b2c0b11a",
   "metadata": {
    "execution": {
     "iopub.execute_input": "2025-05-08T07:45:25.773742Z",
     "iopub.status.busy": "2025-05-08T07:45:25.773321Z",
     "iopub.status.idle": "2025-05-08T07:45:26.347919Z",
     "shell.execute_reply": "2025-05-08T07:45:26.347326Z"
    },
    "papermill": {
     "duration": 0.580313,
     "end_time": "2025-05-08T07:45:26.349221",
     "exception": false,
     "start_time": "2025-05-08T07:45:25.768908",
     "status": "completed"
    },
    "tags": []
   },
   "outputs": [],
   "source": [
    "num_cols = test.select_dtypes(include='float64').columns\n",
    "for col in num_cols:\n",
    "    train[num_cols] = train[num_cols].astype('float32')\n",
    "    test[num_cols] = test[num_cols].astype('float32')"
   ]
  },
  {
   "cell_type": "code",
   "execution_count": 14,
   "id": "6def741a",
   "metadata": {
    "execution": {
     "iopub.execute_input": "2025-05-08T07:45:26.358484Z",
     "iopub.status.busy": "2025-05-08T07:45:26.358237Z",
     "iopub.status.idle": "2025-05-08T07:45:26.375726Z",
     "shell.execute_reply": "2025-05-08T07:45:26.374955Z"
    },
    "papermill": {
     "duration": 0.023249,
     "end_time": "2025-05-08T07:45:26.376791",
     "exception": false,
     "start_time": "2025-05-08T07:45:26.353542",
     "status": "completed"
    },
    "tags": []
   },
   "outputs": [
    {
     "name": "stdout",
     "output_type": "stream",
     "text": [
      "<class 'cudf.core.dataframe.DataFrame'>\n",
      "RangeIndex: 765000 entries, 0 to 764999\n",
      "Data columns (total 8 columns):\n",
      " #   Column      Non-Null Count   Dtype\n",
      "---  ------      --------------   -----\n",
      " 0   Sex         765000 non-null  category\n",
      " 1   Age         765000 non-null  int8\n",
      " 2   Height      765000 non-null  float32\n",
      " 3   Weight      765000 non-null  float32\n",
      " 4   Duration    765000 non-null  float32\n",
      " 5   Heart_Rate  765000 non-null  float32\n",
      " 6   Body_Temp   765000 non-null  float32\n",
      " 7   Calories    765000 non-null  float64\n",
      "dtypes: category(1), float32(5), float64(1), int8(1)\n",
      "memory usage: 21.9 MB\n"
     ]
    }
   ],
   "source": [
    "train.info()"
   ]
  },
  {
   "cell_type": "code",
   "execution_count": 15,
   "id": "bb4f8d12",
   "metadata": {
    "execution": {
     "iopub.execute_input": "2025-05-08T07:45:26.385763Z",
     "iopub.status.busy": "2025-05-08T07:45:26.385544Z",
     "iopub.status.idle": "2025-05-08T07:45:26.435660Z",
     "shell.execute_reply": "2025-05-08T07:45:26.435090Z"
    },
    "papermill": {
     "duration": 0.055841,
     "end_time": "2025-05-08T07:45:26.436911",
     "exception": false,
     "start_time": "2025-05-08T07:45:26.381070",
     "status": "completed"
    },
    "tags": []
   },
   "outputs": [],
   "source": [
    "mapping = {'male': 1, 'female': 0.9}\n",
    "\n",
    "train['Sex'] = train['Sex'].map(mapping)\n",
    "test['Sex'] = test['Sex'].map(mapping)"
   ]
  },
  {
   "cell_type": "code",
   "execution_count": 16,
   "id": "26fb363e",
   "metadata": {
    "execution": {
     "iopub.execute_input": "2025-05-08T07:45:26.446114Z",
     "iopub.status.busy": "2025-05-08T07:45:26.445935Z",
     "iopub.status.idle": "2025-05-08T07:45:26.449184Z",
     "shell.execute_reply": "2025-05-08T07:45:26.448517Z"
    },
    "papermill": {
     "duration": 0.009169,
     "end_time": "2025-05-08T07:45:26.450449",
     "exception": false,
     "start_time": "2025-05-08T07:45:26.441280",
     "status": "completed"
    },
    "tags": []
   },
   "outputs": [],
   "source": [
    "features = ['Sex', 'Age', 'Height', 'Weight', 'Duration', 'Heart_Rate', 'Body_Temp']"
   ]
  },
  {
   "cell_type": "code",
   "execution_count": 17,
   "id": "c789d63c",
   "metadata": {
    "execution": {
     "iopub.execute_input": "2025-05-08T07:45:26.459832Z",
     "iopub.status.busy": "2025-05-08T07:45:26.459648Z",
     "iopub.status.idle": "2025-05-08T07:45:26.464026Z",
     "shell.execute_reply": "2025-05-08T07:45:26.463259Z"
    },
    "papermill": {
     "duration": 0.010176,
     "end_time": "2025-05-08T07:45:26.465029",
     "exception": false,
     "start_time": "2025-05-08T07:45:26.454853",
     "status": "completed"
    },
    "tags": []
   },
   "outputs": [],
   "source": [
    "def add_features(df):\n",
    "    for i, c1 in enumerate(features):\n",
    "        for c2 in (features[i+1:]):\n",
    "            m = f'{c1}*{c2}'\n",
    "            df[m] = df[c1] * df[c2]\n",
    "            a = f'{c1}+{c2}'\n",
    "            df[a] = df[c1] + df[c2]\n",
    "            d = f'{c1}/{c2}'\n",
    "            df[d] = df[c1] / df[c2]\n",
    "    return df"
   ]
  },
  {
   "cell_type": "code",
   "execution_count": 18,
   "id": "fc970c21",
   "metadata": {
    "execution": {
     "iopub.execute_input": "2025-05-08T07:45:26.473955Z",
     "iopub.status.busy": "2025-05-08T07:45:26.473744Z",
     "iopub.status.idle": "2025-05-08T07:45:26.477749Z",
     "shell.execute_reply": "2025-05-08T07:45:26.477211Z"
    },
    "papermill": {
     "duration": 0.009474,
     "end_time": "2025-05-08T07:45:26.478776",
     "exception": false,
     "start_time": "2025-05-08T07:45:26.469302",
     "status": "completed"
    },
    "tags": []
   },
   "outputs": [],
   "source": [
    "def feature_engineer(df):\n",
    "    df['duration_expo'] = df['Duration'] ** 2\n",
    "\n",
    "    df['heart_expo'] = df['Heart_Rate'] ** 2\n",
    "    \n",
    "    df['body_expo'] = df['Body_Temp'] ** 2\n",
    "\n",
    "    df['BMI'] = df['Weight'] / ((df['Height']/100) ** 2)\n",
    "\n",
    "    df['Max_BPM'] = 220 - df['Age']\n",
    "    df['Avg_BPM'] = np.mean(df['Heart_Rate'])\n",
    "    df['Intensity'] = df['Avg_BPM'] / df['Max_BPM']\n",
    "\n",
    "    \n",
    "    return df"
   ]
  },
  {
   "cell_type": "code",
   "execution_count": 19,
   "id": "9a70e530",
   "metadata": {
    "execution": {
     "iopub.execute_input": "2025-05-08T07:45:26.487898Z",
     "iopub.status.busy": "2025-05-08T07:45:26.487715Z",
     "iopub.status.idle": "2025-05-08T07:45:26.836215Z",
     "shell.execute_reply": "2025-05-08T07:45:26.835661Z"
    },
    "papermill": {
     "duration": 0.354536,
     "end_time": "2025-05-08T07:45:26.837583",
     "exception": false,
     "start_time": "2025-05-08T07:45:26.483047",
     "status": "completed"
    },
    "tags": []
   },
   "outputs": [],
   "source": [
    "X = train.copy()\n",
    "y = X.pop('Calories')\n",
    "y = np.sqrt(y)\n",
    "\n",
    "X = add_features(X)\n",
    "X = feature_engineer(X)\n",
    "\n",
    "X_test = test.copy()\n",
    "X_test = add_features(X_test)\n",
    "X_test = feature_engineer(X_test)"
   ]
  },
  {
   "cell_type": "code",
   "execution_count": 20,
   "id": "b941a4e4",
   "metadata": {
    "execution": {
     "iopub.execute_input": "2025-05-08T07:45:26.847027Z",
     "iopub.status.busy": "2025-05-08T07:45:26.846813Z",
     "iopub.status.idle": "2025-05-08T07:49:30.548208Z",
     "shell.execute_reply": "2025-05-08T07:49:30.547450Z"
    },
    "papermill": {
     "duration": 243.712392,
     "end_time": "2025-05-08T07:49:30.554310",
     "exception": false,
     "start_time": "2025-05-08T07:45:26.841918",
     "status": "completed"
    },
    "tags": []
   },
   "outputs": [
    {
     "name": "stdout",
     "output_type": "stream",
     "text": [
      "Fold 1 RMSE: 0.058688\n",
      "Fold 2 RMSE: 0.058662\n",
      "Fold 3 RMSE: 0.059588\n",
      "Fold 4 RMSE: 0.059752\n",
      "Fold 5 RMSE: 0.058858\n",
      "\n",
      "Overall OOF RMSLE: 0.059111\n"
     ]
    }
   ],
   "source": [
    "from sklearn.model_selection import KFold\n",
    "from sklearn.metrics import mean_squared_log_error\n",
    "from xgboost import XGBRegressor\n",
    "\n",
    "n_folds = 5\n",
    "kf = KFold(n_splits=n_folds, shuffle=True, random_state=100)\n",
    "\n",
    "oof_xgb = np.zeros(len(y))\n",
    "test_xgb = np.zeros(len(X_test))\n",
    "\n",
    "for fold, (train_index, valid_index) in enumerate(kf.split(X, y), start=1):\n",
    "        X_train, X_valid = X.iloc[train_index].copy(), X.iloc[valid_index].copy()\n",
    "        y_train, y_valid = y.iloc[train_index], y.iloc[valid_index]\n",
    "        \n",
    "        xgb = XGBRegressor(\n",
    "            n_estimators=5000, \n",
    "            learning_rate= 0.010042341305141641, \n",
    "            max_depth=10, \n",
    "            min_child_weight=7, \n",
    "            alpha= 0.031799792818970524, \n",
    "            reg_lambda=0.3580931274078332,\n",
    "            subsample=0.8272426766452907, \n",
    "            colsample_bytree=0.5766402912386329, \n",
    "            gamma=1.037011350094906e-08,\n",
    "            early_stopping_rounds=100,\n",
    "            tree_method='gpu_hist',\n",
    "            device='cuda',\n",
    "            seed=100,\n",
    "            objective='reg:squarederror', \n",
    "            eval_metric='rmse',\n",
    "        ).fit(X_train, y_train, eval_set=[(X_valid, y_valid)], verbose=0)\n",
    "    \n",
    "        valid_pred = xgb.predict(X_valid)\n",
    "        oof_xgb[valid_index] = valid_pred\n",
    "        test_xgb += xgb.predict(X_test) / n_folds\n",
    "    \n",
    "        fold_rmsle = np.sqrt(mean_squared_log_error(np.square(y_valid), np.square(valid_pred)))\n",
    "        print(f\"Fold {fold} RMSE: {fold_rmsle:.6f}\")\n",
    "\n",
    "test_xgb = np.square(test_xgb)\n",
    "test_xgb = np.clip(test_xgb, 1, 314)\n",
    "overall_rmsle = np.sqrt(mean_squared_log_error(np.square(y), np.square(oof_xgb)))\n",
    "print(f\"\\nOverall OOF RMSLE: {overall_rmsle:.6f}\")   "
   ]
  },
  {
   "cell_type": "code",
   "execution_count": 21,
   "id": "16e0135e",
   "metadata": {
    "execution": {
     "iopub.execute_input": "2025-05-08T07:49:30.564149Z",
     "iopub.status.busy": "2025-05-08T07:49:30.563910Z",
     "iopub.status.idle": "2025-05-08T07:49:30.647650Z",
     "shell.execute_reply": "2025-05-08T07:49:30.646890Z"
    },
    "papermill": {
     "duration": 0.089995,
     "end_time": "2025-05-08T07:49:30.648964",
     "exception": false,
     "start_time": "2025-05-08T07:49:30.558969",
     "status": "completed"
    },
    "tags": []
   },
   "outputs": [
    {
     "name": "stdout",
     "output_type": "stream",
     "text": [
      "Your submission was successfully saved!\n",
      "       id    Calories\n",
      "0  750000   27.643463\n",
      "1  750001  107.609148\n",
      "2  750002   87.197041\n",
      "3  750003  126.292610\n",
      "4  750004   75.540136\n"
     ]
    }
   ],
   "source": [
    "sub = pd.read_csv('/kaggle/input/playground-series-s5e5/sample_submission.csv')\n",
    "sub['Calories'] = test_xgb\n",
    "sub.to_csv('submission.csv', index=False)\n",
    "print(\"Your submission was successfully saved!\")\n",
    "print(sub.head(5))"
   ]
  }
 ],
 "metadata": {
  "kaggle": {
   "accelerator": "nvidiaTeslaT4",
   "dataSources": [
    {
     "databundleVersionId": 11893428,
     "sourceId": 91716,
     "sourceType": "competition"
    },
    {
     "datasetId": 6512323,
     "sourceId": 10522392,
     "sourceType": "datasetVersion"
    }
   ],
   "dockerImageVersionId": 31012,
   "isGpuEnabled": true,
   "isInternetEnabled": true,
   "language": "python",
   "sourceType": "notebook"
  },
  "kernelspec": {
   "display_name": "Python 3",
   "language": "python",
   "name": "python3"
  },
  "language_info": {
   "codemirror_mode": {
    "name": "ipython",
    "version": 3
   },
   "file_extension": ".py",
   "mimetype": "text/x-python",
   "name": "python",
   "nbconvert_exporter": "python",
   "pygments_lexer": "ipython3",
   "version": "3.11.11"
  },
  "papermill": {
   "default_parameters": {},
   "duration": 262.820777,
   "end_time": "2025-05-08T07:49:32.073856",
   "environment_variables": {},
   "exception": null,
   "input_path": "__notebook__.ipynb",
   "output_path": "__notebook__.ipynb",
   "parameters": {},
   "start_time": "2025-05-08T07:45:09.253079",
   "version": "2.6.0"
  }
 },
 "nbformat": 4,
 "nbformat_minor": 5
}
