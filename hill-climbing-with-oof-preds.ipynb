{
 "cells": [
  {
   "cell_type": "code",
   "execution_count": 1,
   "id": "1d7c965a",
   "metadata": {
    "execution": {
     "iopub.execute_input": "2025-05-18T10:23:44.447892Z",
     "iopub.status.busy": "2025-05-18T10:23:44.447660Z",
     "iopub.status.idle": "2025-05-18T10:23:52.307129Z",
     "shell.execute_reply": "2025-05-18T10:23:52.306409Z"
    },
    "papermill": {
     "duration": 7.86436,
     "end_time": "2025-05-18T10:23:52.308523",
     "exception": false,
     "start_time": "2025-05-18T10:23:44.444163",
     "status": "completed"
    },
    "tags": []
   },
   "outputs": [
    {
     "name": "stdout",
     "output_type": "stream",
     "text": [
      "Collecting hill_climbing\r\n",
      "  Downloading hill_climbing-0.1.8-py3-none-any.whl.metadata (3.3 kB)\r\n",
      "Collecting scikit-learn==1.5.2\r\n",
      "  Downloading scikit_learn-1.5.2-cp311-cp311-manylinux_2_17_x86_64.manylinux2014_x86_64.whl.metadata (13 kB)\r\n",
      "Requirement already satisfied: numpy>=1.19.5 in /usr/local/lib/python3.11/dist-packages (from scikit-learn==1.5.2) (1.26.4)\r\n",
      "Requirement already satisfied: scipy>=1.6.0 in /usr/local/lib/python3.11/dist-packages (from scikit-learn==1.5.2) (1.15.2)\r\n",
      "Requirement already satisfied: joblib>=1.2.0 in /usr/local/lib/python3.11/dist-packages (from scikit-learn==1.5.2) (1.4.2)\r\n",
      "Requirement already satisfied: threadpoolctl>=3.1.0 in /usr/local/lib/python3.11/dist-packages (from scikit-learn==1.5.2) (3.6.0)\r\n",
      "Requirement already satisfied: pandas>=1.0.0 in /usr/local/lib/python3.11/dist-packages (from hill_climbing) (2.2.3)\r\n",
      "Requirement already satisfied: mkl_fft in /usr/local/lib/python3.11/dist-packages (from numpy>=1.19.5->scikit-learn==1.5.2) (1.3.8)\r\n",
      "Requirement already satisfied: mkl_random in /usr/local/lib/python3.11/dist-packages (from numpy>=1.19.5->scikit-learn==1.5.2) (1.2.4)\r\n",
      "Requirement already satisfied: mkl_umath in /usr/local/lib/python3.11/dist-packages (from numpy>=1.19.5->scikit-learn==1.5.2) (0.1.1)\r\n",
      "Requirement already satisfied: mkl in /usr/local/lib/python3.11/dist-packages (from numpy>=1.19.5->scikit-learn==1.5.2) (2025.1.0)\r\n",
      "Requirement already satisfied: tbb4py in /usr/local/lib/python3.11/dist-packages (from numpy>=1.19.5->scikit-learn==1.5.2) (2022.1.0)\r\n",
      "Requirement already satisfied: mkl-service in /usr/local/lib/python3.11/dist-packages (from numpy>=1.19.5->scikit-learn==1.5.2) (2.4.1)\r\n",
      "Requirement already satisfied: python-dateutil>=2.8.2 in /usr/local/lib/python3.11/dist-packages (from pandas>=1.0.0->hill_climbing) (2.9.0.post0)\r\n",
      "Requirement already satisfied: pytz>=2020.1 in /usr/local/lib/python3.11/dist-packages (from pandas>=1.0.0->hill_climbing) (2025.2)\r\n",
      "Requirement already satisfied: tzdata>=2022.7 in /usr/local/lib/python3.11/dist-packages (from pandas>=1.0.0->hill_climbing) (2025.2)\r\n",
      "Requirement already satisfied: six>=1.5 in /usr/local/lib/python3.11/dist-packages (from python-dateutil>=2.8.2->pandas>=1.0.0->hill_climbing) (1.17.0)\r\n",
      "Requirement already satisfied: intel-openmp<2026,>=2024 in /usr/local/lib/python3.11/dist-packages (from mkl->numpy>=1.19.5->scikit-learn==1.5.2) (2024.2.0)\r\n",
      "Requirement already satisfied: tbb==2022.* in /usr/local/lib/python3.11/dist-packages (from mkl->numpy>=1.19.5->scikit-learn==1.5.2) (2022.1.0)\r\n",
      "Requirement already satisfied: tcmlib==1.* in /usr/local/lib/python3.11/dist-packages (from tbb==2022.*->mkl->numpy>=1.19.5->scikit-learn==1.5.2) (1.2.0)\r\n",
      "Requirement already satisfied: intel-cmplr-lib-rt in /usr/local/lib/python3.11/dist-packages (from mkl_umath->numpy>=1.19.5->scikit-learn==1.5.2) (2024.2.0)\r\n",
      "Requirement already satisfied: intel-cmplr-lib-ur==2024.2.0 in /usr/local/lib/python3.11/dist-packages (from intel-openmp<2026,>=2024->mkl->numpy>=1.19.5->scikit-learn==1.5.2) (2024.2.0)\r\n",
      "Downloading scikit_learn-1.5.2-cp311-cp311-manylinux_2_17_x86_64.manylinux2014_x86_64.whl (13.3 MB)\r\n",
      "\u001b[2K   \u001b[90m━━━━━━━━━━━━━━━━━━━━━━━━━━━━━━━━━━━━━━━━\u001b[0m \u001b[32m13.3/13.3 MB\u001b[0m \u001b[31m103.7 MB/s\u001b[0m eta \u001b[36m0:00:00\u001b[0m\r\n",
      "\u001b[?25hDownloading hill_climbing-0.1.8-py3-none-any.whl (13 kB)\r\n",
      "Installing collected packages: scikit-learn, hill_climbing\r\n",
      "  Attempting uninstall: scikit-learn\r\n",
      "    Found existing installation: scikit-learn 1.2.2\r\n",
      "    Uninstalling scikit-learn-1.2.2:\r\n",
      "      Successfully uninstalled scikit-learn-1.2.2\r\n",
      "\u001b[31mERROR: pip's dependency resolver does not currently take into account all the packages that are installed. This behaviour is the source of the following dependency conflicts.\r\n",
      "bigframes 1.36.0 requires rich<14,>=12.4.4, but you have rich 14.0.0 which is incompatible.\u001b[0m\u001b[31m\r\n",
      "\u001b[0mSuccessfully installed hill_climbing-0.1.8 scikit-learn-1.5.2\r\n"
     ]
    }
   ],
   "source": [
    "!pip install hill_climbing scikit-learn==1.5.2"
   ]
  },
  {
   "cell_type": "code",
   "execution_count": 2,
   "id": "6affd98d",
   "metadata": {
    "execution": {
     "iopub.execute_input": "2025-05-18T10:23:52.315634Z",
     "iopub.status.busy": "2025-05-18T10:23:52.315219Z",
     "iopub.status.idle": "2025-05-18T10:24:05.672795Z",
     "shell.execute_reply": "2025-05-18T10:24:05.672112Z"
    },
    "papermill": {
     "duration": 13.362261,
     "end_time": "2025-05-18T10:24:05.674061",
     "exception": false,
     "start_time": "2025-05-18T10:23:52.311800",
     "status": "completed"
    },
    "tags": []
   },
   "outputs": [
    {
     "name": "stdout",
     "output_type": "stream",
     "text": [
      "/kaggle/input/xgb-cat-ensemble-model/oof_preds.parquet\n",
      "/kaggle/input/xgb-cat-ensemble-model/__results__.html\n",
      "/kaggle/input/xgb-cat-ensemble-model/submission.csv\n",
      "/kaggle/input/xgb-cat-ensemble-model/__notebook__.ipynb\n",
      "/kaggle/input/xgb-cat-ensemble-model/test_preds.parquet\n",
      "/kaggle/input/xgb-cat-ensemble-model/__output__.json\n",
      "/kaggle/input/xgb-cat-ensemble-model/custom.css\n",
      "/kaggle/input/xgb-cat-ensemble-model/catboost_info/test_error.tsv\n",
      "/kaggle/input/xgb-cat-ensemble-model/catboost_info/learn_error.tsv\n",
      "/kaggle/input/xgb-cat-ensemble-model/catboost_info/catboost_training.json\n",
      "/kaggle/input/xgb-cat-ensemble-model/catboost_info/time_left.tsv\n",
      "/kaggle/input/xgb-cat-ensemble-model/catboost_info/learn/events.out.tfevents\n",
      "/kaggle/input/xgb-cat-ensemble-model/catboost_info/test/events.out.tfevents\n",
      "/kaggle/input/calories-burnt-prediction/calories.csv\n",
      "/kaggle/input/playground-series-s5e5/sample_submission.csv\n",
      "/kaggle/input/playground-series-s5e5/train.csv\n",
      "/kaggle/input/playground-series-s5e5/test.csv\n"
     ]
    },
    {
     "data": {
      "text/plain": [
       "<Figure size 1200x750 with 0 Axes>"
      ]
     },
     "metadata": {},
     "output_type": "display_data"
    }
   ],
   "source": [
    "# This Python 3 environment comes with many helpful analytics libraries installed\n",
    "# It is defined by the kaggle/python Docker image: https://github.com/kaggle/docker-python\n",
    "# For example, here's several helpful packages to load\n",
    "%load_ext cudf.pandas\n",
    "import numpy as np # linear algebra\n",
    "import pandas as pd # data processing, CSV file I/O (e.g. pd.read_csv)\n",
    "import matplotlib.pyplot as plt\n",
    "import seaborn as sns\n",
    "import joblib\n",
    "import cuml\n",
    "\n",
    "# Setting Matplotlib defaults\n",
    "plt.style.use('seaborn-v0_8')\n",
    "plt.rc('figure', figsize=(8,5), dpi=150)\n",
    "plt.rc('axes', labelweight='bold', labelsize='large',\n",
    "       titleweight='bold', titlesize=15, titlepad=10)\n",
    "plt.rc('animation', html='html5')\n",
    "plt.tight_layout()\n",
    "# Input data files are available in the read-only \"../input/\" directory\n",
    "# For example, running this (by clicking run or pressing Shift+Enter) will list all files under the input directory\n",
    "\n",
    "import os\n",
    "for dirname, _, filenames in os.walk('/kaggle/input'):\n",
    "    for filename in filenames:\n",
    "        print(os.path.join(dirname, filename))\n",
    "        \n",
    "import warnings\n",
    "warnings.simplefilter('ignore')\n",
    "\n",
    "pd.set_option('display.max_columns', 500)\n",
    "\n",
    "# You can write up to 20GB to the current directory (/kaggle/working/) that gets preserved as output when you create a version using \"Save & Run All\" \n",
    "# You can also write temporary files to /kaggle/temp/, but they won't be saved outside of the current session"
   ]
  },
  {
   "cell_type": "code",
   "execution_count": 3,
   "id": "0269b2eb",
   "metadata": {
    "execution": {
     "iopub.execute_input": "2025-05-18T10:24:05.681327Z",
     "iopub.status.busy": "2025-05-18T10:24:05.680838Z",
     "iopub.status.idle": "2025-05-18T10:24:06.139394Z",
     "shell.execute_reply": "2025-05-18T10:24:06.138643Z"
    },
    "papermill": {
     "duration": 0.463491,
     "end_time": "2025-05-18T10:24:06.140821",
     "exception": false,
     "start_time": "2025-05-18T10:24:05.677330",
     "status": "completed"
    },
    "tags": []
   },
   "outputs": [],
   "source": [
    "train = pd.read_csv('/kaggle/input/playground-series-s5e5/train.csv', index_col='id')\n",
    "test = pd.read_csv('/kaggle/input/playground-series-s5e5/test.csv', index_col='id')\n",
    "org = pd.read_csv('/kaggle/input/calories-burnt-prediction/calories.csv', index_col='User_ID')\n",
    "org = org.rename(columns={'Gender': 'Sex'})"
   ]
  },
  {
   "cell_type": "code",
   "execution_count": 4,
   "id": "d69e3fd4",
   "metadata": {
    "execution": {
     "iopub.execute_input": "2025-05-18T10:24:06.147526Z",
     "iopub.status.busy": "2025-05-18T10:24:06.147303Z",
     "iopub.status.idle": "2025-05-18T10:24:06.192699Z",
     "shell.execute_reply": "2025-05-18T10:24:06.192216Z"
    },
    "papermill": {
     "duration": 0.049913,
     "end_time": "2025-05-18T10:24:06.193835",
     "exception": false,
     "start_time": "2025-05-18T10:24:06.143922",
     "status": "completed"
    },
    "tags": []
   },
   "outputs": [],
   "source": [
    "train = pd.concat([train, org], ignore_index=True)"
   ]
  },
  {
   "cell_type": "code",
   "execution_count": 5,
   "id": "e33a4fa6",
   "metadata": {
    "execution": {
     "iopub.execute_input": "2025-05-18T10:24:06.201350Z",
     "iopub.status.busy": "2025-05-18T10:24:06.201161Z",
     "iopub.status.idle": "2025-05-18T10:24:06.319679Z",
     "shell.execute_reply": "2025-05-18T10:24:06.318790Z"
    },
    "papermill": {
     "duration": 0.124224,
     "end_time": "2025-05-18T10:24:06.320880",
     "exception": false,
     "start_time": "2025-05-18T10:24:06.196656",
     "status": "completed"
    },
    "tags": []
   },
   "outputs": [
    {
     "name": "stdout",
     "output_type": "stream",
     "text": [
      "(762107, 8) (765000, 8)\n"
     ]
    }
   ],
   "source": [
    "strt_cols = list(test.columns)\n",
    "print(train.drop_duplicates(subset=strt_cols + ['Calories']).shape, train.shape)"
   ]
  },
  {
   "cell_type": "code",
   "execution_count": 6,
   "id": "23ce422a",
   "metadata": {
    "execution": {
     "iopub.execute_input": "2025-05-18T10:24:06.327551Z",
     "iopub.status.busy": "2025-05-18T10:24:06.327120Z",
     "iopub.status.idle": "2025-05-18T10:24:07.011736Z",
     "shell.execute_reply": "2025-05-18T10:24:07.011170Z"
    },
    "papermill": {
     "duration": 0.689322,
     "end_time": "2025-05-18T10:24:07.013131",
     "exception": false,
     "start_time": "2025-05-18T10:24:06.323809",
     "status": "completed"
    },
    "tags": []
   },
   "outputs": [],
   "source": [
    "X = train.copy()\n",
    "y = X.pop('Calories')\n",
    "y = np.log1p(y)\n",
    "\n",
    "X_test = test.copy()\n"
   ]
  },
  {
   "cell_type": "code",
   "execution_count": 7,
   "id": "ee6237e4",
   "metadata": {
    "execution": {
     "iopub.execute_input": "2025-05-18T10:24:07.020327Z",
     "iopub.status.busy": "2025-05-18T10:24:07.019834Z",
     "iopub.status.idle": "2025-05-18T10:24:07.372431Z",
     "shell.execute_reply": "2025-05-18T10:24:07.371891Z"
    },
    "papermill": {
     "duration": 0.357272,
     "end_time": "2025-05-18T10:24:07.373640",
     "exception": false,
     "start_time": "2025-05-18T10:24:07.016368",
     "status": "completed"
    },
    "tags": []
   },
   "outputs": [],
   "source": [
    "oof_preds = pd.read_parquet(\"/kaggle/input/xgb-cat-ensemble-model/oof_preds.parquet\")\n",
    "test_preds = pd.read_parquet(\"/kaggle/input/xgb-cat-ensemble-model/test_preds.parquet\")"
   ]
  },
  {
   "cell_type": "code",
   "execution_count": 8,
   "id": "79a7a238",
   "metadata": {
    "execution": {
     "iopub.execute_input": "2025-05-18T10:24:07.380403Z",
     "iopub.status.busy": "2025-05-18T10:24:07.380182Z",
     "iopub.status.idle": "2025-05-18T10:24:07.386320Z",
     "shell.execute_reply": "2025-05-18T10:24:07.385782Z"
    },
    "papermill": {
     "duration": 0.010752,
     "end_time": "2025-05-18T10:24:07.387466",
     "exception": false,
     "start_time": "2025-05-18T10:24:07.376714",
     "status": "completed"
    },
    "tags": []
   },
   "outputs": [],
   "source": [
    "from hill_climbing import Climber, ClimberCV\n",
    "from sklearn.metrics import root_mean_squared_error"
   ]
  },
  {
   "cell_type": "code",
   "execution_count": 9,
   "id": "138bbd95",
   "metadata": {
    "execution": {
     "iopub.execute_input": "2025-05-18T10:24:07.394104Z",
     "iopub.status.busy": "2025-05-18T10:24:07.393908Z",
     "iopub.status.idle": "2025-05-18T10:24:16.630501Z",
     "shell.execute_reply": "2025-05-18T10:24:16.629625Z"
    },
    "papermill": {
     "duration": 9.241331,
     "end_time": "2025-05-18T10:24:16.631628",
     "exception": false,
     "start_time": "2025-05-18T10:24:07.390297",
     "status": "completed"
    },
    "tags": []
   },
   "outputs": [
    {
     "name": "stdout",
     "output_type": "stream",
     "text": [
      "\u001b[1m\u001b[94mConfiguration\u001b[0m\n",
      "\n",
      "   Metric:                       root_mean_squared_error\n",
      "   Objective:                    minimize\n",
      "   Precision:                    0.01\n",
      "   Allow negative weights:       True\n",
      "   Starting model:               best\n",
      "   Number of parallel jobs:      1\n",
      "   Number of models:             2\n",
      "   Using GPU:                    False\n",
      "\n",
      "\n",
      "\u001b[1m\u001b[94mModels\u001b[0m\n",
      "\n",
      "   \u001b[92mXGB   0.059152 █ (best)\u001b[0m\n",
      "   CAT   0.059260 ████████████████████████████████████████\n",
      "\n",
      "\n",
      "\u001b[1m\u001b[94mRunning Hill Climbing\u001b[0m\n",
      "\n",
      "   Iter   Model     Weight        Score      Improvement         Time\n",
      "   ────────────────────────────────────────────────────────────────\n",
      "   \u001b[92m   0   XGB       1.00     0.059152                -            -\u001b[0m\n",
      "   \u001b[92m   1   CAT       0.46     0.058825         0.000326         5.12\u001b[0m\n",
      "\n",
      "\n",
      "\u001b[1m\u001b[94mResults\u001b[0m\n",
      "\n",
      "   Number of models in ensemble:      2\n",
      "   Overall improvement:               \u001b[92m+0.000326 (+0.55%)\u001b[0m\n",
      "   Total time:                        9.22 seconds\n",
      "   Average iteration time:            4.56 seconds\n",
      "   Final score:                       0.058825\n"
     ]
    }
   ],
   "source": [
    "climber = Climber(\n",
    "    objective='minimize',\n",
    "    eval_metric=root_mean_squared_error,\n",
    "    allow_negative_weights=True,\n",
    "    precision=0.01,\n",
    "    score_decimal_places=6,\n",
    "    random_state=100,\n",
    "    n_jobs=1,\n",
    "    use_gpu=True\n",
    ").fit(oof_preds, y)\n"
   ]
  },
  {
   "cell_type": "code",
   "execution_count": 10,
   "id": "8d608a92",
   "metadata": {
    "execution": {
     "iopub.execute_input": "2025-05-18T10:24:16.638769Z",
     "iopub.status.busy": "2025-05-18T10:24:16.638201Z",
     "iopub.status.idle": "2025-05-18T10:24:16.740406Z",
     "shell.execute_reply": "2025-05-18T10:24:16.739863Z"
    },
    "papermill": {
     "duration": 0.106861,
     "end_time": "2025-05-18T10:24:16.741586",
     "exception": false,
     "start_time": "2025-05-18T10:24:16.634725",
     "status": "completed"
    },
    "tags": []
   },
   "outputs": [],
   "source": [
    "final_preds = climber.predict(test_preds)"
   ]
  },
  {
   "cell_type": "code",
   "execution_count": 11,
   "id": "9c304c26",
   "metadata": {
    "execution": {
     "iopub.execute_input": "2025-05-18T10:24:16.748295Z",
     "iopub.status.busy": "2025-05-18T10:24:16.748076Z",
     "iopub.status.idle": "2025-05-18T10:24:16.833260Z",
     "shell.execute_reply": "2025-05-18T10:24:16.832528Z"
    },
    "papermill": {
     "duration": 0.08972,
     "end_time": "2025-05-18T10:24:16.834367",
     "exception": false,
     "start_time": "2025-05-18T10:24:16.744647",
     "status": "completed"
    },
    "tags": []
   },
   "outputs": [
    {
     "name": "stdout",
     "output_type": "stream",
     "text": [
      "Your submission was successfully saved!\n",
      "       id    Calories\n",
      "0  750000   27.166972\n",
      "1  750001  107.659760\n",
      "2  750002   87.598418\n",
      "3  750003  125.520047\n",
      "4  750004   75.717026\n"
     ]
    }
   ],
   "source": [
    "sub = pd.read_csv('/kaggle/input/playground-series-s5e5/sample_submission.csv')\n",
    "sub['Calories'] = final_preds\n",
    "sub.to_csv('submission.csv', index=False)\n",
    "print(\"Your submission was successfully saved!\")\n",
    "print(sub.head(5))"
   ]
  }
 ],
 "metadata": {
  "kaggle": {
   "accelerator": "nvidiaTeslaT4",
   "dataSources": [
    {
     "databundleVersionId": 11893428,
     "isSourceIdPinned": false,
     "sourceId": 91716,
     "sourceType": "competition"
    },
    {
     "datasetId": 6512323,
     "sourceId": 10522392,
     "sourceType": "datasetVersion"
    },
    {
     "sourceId": 240394298,
     "sourceType": "kernelVersion"
    }
   ],
   "dockerImageVersionId": 31011,
   "isGpuEnabled": true,
   "isInternetEnabled": true,
   "language": "python",
   "sourceType": "notebook"
  },
  "kernelspec": {
   "display_name": "Python 3",
   "language": "python",
   "name": "python3"
  },
  "language_info": {
   "codemirror_mode": {
    "name": "ipython",
    "version": 3
   },
   "file_extension": ".py",
   "mimetype": "text/x-python",
   "name": "python",
   "nbconvert_exporter": "python",
   "pygments_lexer": "ipython3",
   "version": "3.11.11"
  },
  "papermill": {
   "default_parameters": {},
   "duration": 39.444738,
   "end_time": "2025-05-18T10:24:19.294436",
   "environment_variables": {},
   "exception": null,
   "input_path": "__notebook__.ipynb",
   "output_path": "__notebook__.ipynb",
   "parameters": {},
   "start_time": "2025-05-18T10:23:39.849698",
   "version": "2.6.0"
  }
 },
 "nbformat": 4,
 "nbformat_minor": 5
}
