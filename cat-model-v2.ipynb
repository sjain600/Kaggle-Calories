{
 "cells": [
  {
   "cell_type": "code",
   "execution_count": 1,
   "id": "f188c0f7",
   "metadata": {
    "execution": {
     "iopub.execute_input": "2025-05-29T07:06:23.793946Z",
     "iopub.status.busy": "2025-05-29T07:06:23.793710Z",
     "iopub.status.idle": "2025-05-29T07:06:36.632076Z",
     "shell.execute_reply": "2025-05-29T07:06:36.631295Z"
    },
    "papermill": {
     "duration": 12.84458,
     "end_time": "2025-05-29T07:06:36.633270",
     "exception": false,
     "start_time": "2025-05-29T07:06:23.788690",
     "status": "completed"
    },
    "tags": []
   },
   "outputs": [
    {
     "name": "stdout",
     "output_type": "stream",
     "text": [
      "/kaggle/input/playground-series-s5e5/sample_submission.csv\n",
      "/kaggle/input/playground-series-s5e5/train.csv\n",
      "/kaggle/input/playground-series-s5e5/test.csv\n",
      "/kaggle/input/calories-burnt-prediction/calories.csv\n"
     ]
    },
    {
     "data": {
      "text/plain": [
       "<Figure size 1200x750 with 0 Axes>"
      ]
     },
     "metadata": {},
     "output_type": "display_data"
    }
   ],
   "source": [
    "# This Python 3 environment comes with many helpful analytics libraries installed\n",
    "# It is defined by the kaggle/python Docker image: https://github.com/kaggle/docker-python\n",
    "# For example, here's several helpful packages to load\n",
    "%load_ext cudf.pandas\n",
    "import numpy as np # linear algebra\n",
    "import pandas as pd # data processing, CSV file I/O (e.g. pd.read_csv)\n",
    "import matplotlib.pyplot as plt\n",
    "import seaborn as sns\n",
    "import joblib\n",
    "import cuml\n",
    "\n",
    "# Setting Matplotlib defaults\n",
    "plt.style.use('seaborn-v0_8')\n",
    "plt.rc('figure', figsize=(8,5), dpi=150)\n",
    "plt.rc('axes', labelweight='bold', labelsize='large',\n",
    "       titleweight='bold', titlesize=15, titlepad=10)\n",
    "plt.rc('animation', html='html5')\n",
    "plt.tight_layout()\n",
    "# Input data files are available in the read-only \"../input/\" directory\n",
    "# For example, running this (by clicking run or pressing Shift+Enter) will list all files under the input directory\n",
    "\n",
    "import os\n",
    "for dirname, _, filenames in os.walk('/kaggle/input'):\n",
    "    for filename in filenames:\n",
    "        print(os.path.join(dirname, filename))\n",
    "        \n",
    "import warnings\n",
    "warnings.simplefilter('ignore')\n",
    "\n",
    "pd.set_option('display.max_columns', 500)\n",
    "\n",
    "# You can write up to 20GB to the current directory (/kaggle/working/) that gets preserved as output when you create a version using \"Save & Run All\" \n",
    "# You can also write temporary files to /kaggle/temp/, but they won't be saved outside of the current session"
   ]
  },
  {
   "cell_type": "code",
   "execution_count": 2,
   "id": "6ceadbc9",
   "metadata": {
    "execution": {
     "iopub.execute_input": "2025-05-29T07:06:36.642284Z",
     "iopub.status.busy": "2025-05-29T07:06:36.641642Z",
     "iopub.status.idle": "2025-05-29T07:06:37.311167Z",
     "shell.execute_reply": "2025-05-29T07:06:37.310601Z"
    },
    "papermill": {
     "duration": 0.675251,
     "end_time": "2025-05-29T07:06:37.312539",
     "exception": false,
     "start_time": "2025-05-29T07:06:36.637288",
     "status": "completed"
    },
    "tags": []
   },
   "outputs": [],
   "source": [
    "train = pd.read_csv('/kaggle/input/playground-series-s5e5/train.csv', index_col='id')\n",
    "test = pd.read_csv('/kaggle/input/playground-series-s5e5/test.csv', index_col='id')\n",
    "org = pd.read_csv('/kaggle/input/calories-burnt-prediction/calories.csv', index_col='User_ID')\n",
    "org = org.rename(columns={'Gender': 'Sex'})"
   ]
  },
  {
   "cell_type": "code",
   "execution_count": 3,
   "id": "e11a883b",
   "metadata": {
    "execution": {
     "iopub.execute_input": "2025-05-29T07:06:37.321030Z",
     "iopub.status.busy": "2025-05-29T07:06:37.320780Z",
     "iopub.status.idle": "2025-05-29T07:06:37.356086Z",
     "shell.execute_reply": "2025-05-29T07:06:37.355351Z"
    },
    "papermill": {
     "duration": 0.040706,
     "end_time": "2025-05-29T07:06:37.357191",
     "exception": false,
     "start_time": "2025-05-29T07:06:37.316485",
     "status": "completed"
    },
    "tags": []
   },
   "outputs": [],
   "source": [
    "train = pd.concat([train, org], ignore_index=True)"
   ]
  },
  {
   "cell_type": "markdown",
   "id": "cbc158d1",
   "metadata": {
    "papermill": {
     "duration": 0.003319,
     "end_time": "2025-05-29T07:06:37.364111",
     "exception": false,
     "start_time": "2025-05-29T07:06:37.360792",
     "status": "completed"
    },
    "tags": []
   },
   "source": [
    "# Data Understanding"
   ]
  },
  {
   "cell_type": "code",
   "execution_count": 4,
   "id": "25eba837",
   "metadata": {
    "execution": {
     "iopub.execute_input": "2025-05-29T07:06:37.371847Z",
     "iopub.status.busy": "2025-05-29T07:06:37.371641Z",
     "iopub.status.idle": "2025-05-29T07:06:37.376150Z",
     "shell.execute_reply": "2025-05-29T07:06:37.375479Z"
    },
    "papermill": {
     "duration": 0.009693,
     "end_time": "2025-05-29T07:06:37.377305",
     "exception": false,
     "start_time": "2025-05-29T07:06:37.367612",
     "status": "completed"
    },
    "tags": []
   },
   "outputs": [
    {
     "data": {
      "text/plain": [
       "(765000, 8)"
      ]
     },
     "execution_count": 4,
     "metadata": {},
     "output_type": "execute_result"
    }
   ],
   "source": [
    "train.shape"
   ]
  },
  {
   "cell_type": "code",
   "execution_count": 5,
   "id": "e1896a8d",
   "metadata": {
    "execution": {
     "iopub.execute_input": "2025-05-29T07:06:37.385321Z",
     "iopub.status.busy": "2025-05-29T07:06:37.385117Z",
     "iopub.status.idle": "2025-05-29T07:06:37.427932Z",
     "shell.execute_reply": "2025-05-29T07:06:37.427182Z"
    },
    "papermill": {
     "duration": 0.048106,
     "end_time": "2025-05-29T07:06:37.429064",
     "exception": false,
     "start_time": "2025-05-29T07:06:37.380958",
     "status": "completed"
    },
    "tags": []
   },
   "outputs": [
    {
     "data": {
      "text/html": [
       "<div>\n",
       "<style scoped>\n",
       "    .dataframe tbody tr th:only-of-type {\n",
       "        vertical-align: middle;\n",
       "    }\n",
       "\n",
       "    .dataframe tbody tr th {\n",
       "        vertical-align: top;\n",
       "    }\n",
       "\n",
       "    .dataframe thead th {\n",
       "        text-align: right;\n",
       "    }\n",
       "</style>\n",
       "<table border=\"1\" class=\"dataframe\">\n",
       "  <thead>\n",
       "    <tr style=\"text-align: right;\">\n",
       "      <th></th>\n",
       "      <th>Sex</th>\n",
       "      <th>Age</th>\n",
       "      <th>Height</th>\n",
       "      <th>Weight</th>\n",
       "      <th>Duration</th>\n",
       "      <th>Heart_Rate</th>\n",
       "      <th>Body_Temp</th>\n",
       "      <th>Calories</th>\n",
       "    </tr>\n",
       "  </thead>\n",
       "  <tbody>\n",
       "    <tr>\n",
       "      <th>0</th>\n",
       "      <td>male</td>\n",
       "      <td>36</td>\n",
       "      <td>189.0</td>\n",
       "      <td>82.0</td>\n",
       "      <td>26.0</td>\n",
       "      <td>101.0</td>\n",
       "      <td>41.0</td>\n",
       "      <td>150.0</td>\n",
       "    </tr>\n",
       "    <tr>\n",
       "      <th>1</th>\n",
       "      <td>female</td>\n",
       "      <td>64</td>\n",
       "      <td>163.0</td>\n",
       "      <td>60.0</td>\n",
       "      <td>8.0</td>\n",
       "      <td>85.0</td>\n",
       "      <td>39.7</td>\n",
       "      <td>34.0</td>\n",
       "    </tr>\n",
       "    <tr>\n",
       "      <th>2</th>\n",
       "      <td>female</td>\n",
       "      <td>51</td>\n",
       "      <td>161.0</td>\n",
       "      <td>64.0</td>\n",
       "      <td>7.0</td>\n",
       "      <td>84.0</td>\n",
       "      <td>39.8</td>\n",
       "      <td>29.0</td>\n",
       "    </tr>\n",
       "    <tr>\n",
       "      <th>3</th>\n",
       "      <td>male</td>\n",
       "      <td>20</td>\n",
       "      <td>192.0</td>\n",
       "      <td>90.0</td>\n",
       "      <td>25.0</td>\n",
       "      <td>105.0</td>\n",
       "      <td>40.7</td>\n",
       "      <td>140.0</td>\n",
       "    </tr>\n",
       "    <tr>\n",
       "      <th>4</th>\n",
       "      <td>female</td>\n",
       "      <td>38</td>\n",
       "      <td>166.0</td>\n",
       "      <td>61.0</td>\n",
       "      <td>25.0</td>\n",
       "      <td>102.0</td>\n",
       "      <td>40.6</td>\n",
       "      <td>146.0</td>\n",
       "    </tr>\n",
       "    <tr>\n",
       "      <th>5</th>\n",
       "      <td>female</td>\n",
       "      <td>26</td>\n",
       "      <td>156.0</td>\n",
       "      <td>56.0</td>\n",
       "      <td>19.0</td>\n",
       "      <td>100.0</td>\n",
       "      <td>40.5</td>\n",
       "      <td>103.0</td>\n",
       "    </tr>\n",
       "    <tr>\n",
       "      <th>6</th>\n",
       "      <td>female</td>\n",
       "      <td>21</td>\n",
       "      <td>172.0</td>\n",
       "      <td>73.0</td>\n",
       "      <td>3.0</td>\n",
       "      <td>81.0</td>\n",
       "      <td>38.3</td>\n",
       "      <td>9.0</td>\n",
       "    </tr>\n",
       "    <tr>\n",
       "      <th>7</th>\n",
       "      <td>male</td>\n",
       "      <td>46</td>\n",
       "      <td>188.0</td>\n",
       "      <td>94.0</td>\n",
       "      <td>23.0</td>\n",
       "      <td>100.0</td>\n",
       "      <td>40.8</td>\n",
       "      <td>145.0</td>\n",
       "    </tr>\n",
       "    <tr>\n",
       "      <th>8</th>\n",
       "      <td>female</td>\n",
       "      <td>33</td>\n",
       "      <td>166.0</td>\n",
       "      <td>63.0</td>\n",
       "      <td>25.0</td>\n",
       "      <td>107.0</td>\n",
       "      <td>40.5</td>\n",
       "      <td>161.0</td>\n",
       "    </tr>\n",
       "    <tr>\n",
       "      <th>9</th>\n",
       "      <td>male</td>\n",
       "      <td>65</td>\n",
       "      <td>185.0</td>\n",
       "      <td>88.0</td>\n",
       "      <td>23.0</td>\n",
       "      <td>104.0</td>\n",
       "      <td>41.0</td>\n",
       "      <td>185.0</td>\n",
       "    </tr>\n",
       "  </tbody>\n",
       "</table>\n",
       "</div>"
      ],
      "text/plain": [
       "      Sex  Age  Height  Weight  Duration  Heart_Rate  Body_Temp  Calories\n",
       "0    male   36   189.0    82.0      26.0       101.0       41.0     150.0\n",
       "1  female   64   163.0    60.0       8.0        85.0       39.7      34.0\n",
       "2  female   51   161.0    64.0       7.0        84.0       39.8      29.0\n",
       "3    male   20   192.0    90.0      25.0       105.0       40.7     140.0\n",
       "4  female   38   166.0    61.0      25.0       102.0       40.6     146.0\n",
       "5  female   26   156.0    56.0      19.0       100.0       40.5     103.0\n",
       "6  female   21   172.0    73.0       3.0        81.0       38.3       9.0\n",
       "7    male   46   188.0    94.0      23.0       100.0       40.8     145.0\n",
       "8  female   33   166.0    63.0      25.0       107.0       40.5     161.0\n",
       "9    male   65   185.0    88.0      23.0       104.0       41.0     185.0"
      ]
     },
     "execution_count": 5,
     "metadata": {},
     "output_type": "execute_result"
    }
   ],
   "source": [
    "train.head(10)"
   ]
  },
  {
   "cell_type": "code",
   "execution_count": 6,
   "id": "e6a68140",
   "metadata": {
    "execution": {
     "iopub.execute_input": "2025-05-29T07:06:37.437459Z",
     "iopub.status.busy": "2025-05-29T07:06:37.437259Z",
     "iopub.status.idle": "2025-05-29T07:06:38.705167Z",
     "shell.execute_reply": "2025-05-29T07:06:38.704437Z"
    },
    "papermill": {
     "duration": 1.273445,
     "end_time": "2025-05-29T07:06:38.706319",
     "exception": false,
     "start_time": "2025-05-29T07:06:37.432874",
     "status": "completed"
    },
    "tags": []
   },
   "outputs": [
    {
     "data": {
      "text/html": [
       "<div>\n",
       "<style scoped>\n",
       "    .dataframe tbody tr th:only-of-type {\n",
       "        vertical-align: middle;\n",
       "    }\n",
       "\n",
       "    .dataframe tbody tr th {\n",
       "        vertical-align: top;\n",
       "    }\n",
       "\n",
       "    .dataframe thead th {\n",
       "        text-align: right;\n",
       "    }\n",
       "</style>\n",
       "<table border=\"1\" class=\"dataframe\">\n",
       "  <thead>\n",
       "    <tr style=\"text-align: right;\">\n",
       "      <th></th>\n",
       "      <th>Age</th>\n",
       "      <th>Height</th>\n",
       "      <th>Weight</th>\n",
       "      <th>Duration</th>\n",
       "      <th>Heart_Rate</th>\n",
       "      <th>Body_Temp</th>\n",
       "      <th>Calories</th>\n",
       "    </tr>\n",
       "  </thead>\n",
       "  <tbody>\n",
       "    <tr>\n",
       "      <th>count</th>\n",
       "      <td>765000.000000</td>\n",
       "      <td>765000.000000</td>\n",
       "      <td>765000.000000</td>\n",
       "      <td>765000.000000</td>\n",
       "      <td>765000.000000</td>\n",
       "      <td>765000.000000</td>\n",
       "      <td>765000.000000</td>\n",
       "    </tr>\n",
       "    <tr>\n",
       "      <th>mean</th>\n",
       "      <td>41.447255</td>\n",
       "      <td>174.693126</td>\n",
       "      <td>75.142162</td>\n",
       "      <td>15.423163</td>\n",
       "      <td>95.484672</td>\n",
       "      <td>40.036041</td>\n",
       "      <td>88.307424</td>\n",
       "    </tr>\n",
       "    <tr>\n",
       "      <th>std</th>\n",
       "      <td>15.213677</td>\n",
       "      <td>12.854173</td>\n",
       "      <td>14.004122</td>\n",
       "      <td>8.353421</td>\n",
       "      <td>9.452476</td>\n",
       "      <td>0.779863</td>\n",
       "      <td>62.396760</td>\n",
       "    </tr>\n",
       "    <tr>\n",
       "      <th>min</th>\n",
       "      <td>20.000000</td>\n",
       "      <td>123.000000</td>\n",
       "      <td>36.000000</td>\n",
       "      <td>1.000000</td>\n",
       "      <td>67.000000</td>\n",
       "      <td>37.100000</td>\n",
       "      <td>1.000000</td>\n",
       "    </tr>\n",
       "    <tr>\n",
       "      <th>25%</th>\n",
       "      <td>28.000000</td>\n",
       "      <td>164.000000</td>\n",
       "      <td>63.000000</td>\n",
       "      <td>8.000000</td>\n",
       "      <td>88.000000</td>\n",
       "      <td>39.600000</td>\n",
       "      <td>34.000000</td>\n",
       "    </tr>\n",
       "    <tr>\n",
       "      <th>50%</th>\n",
       "      <td>40.000000</td>\n",
       "      <td>174.000000</td>\n",
       "      <td>74.000000</td>\n",
       "      <td>15.000000</td>\n",
       "      <td>95.000000</td>\n",
       "      <td>40.300000</td>\n",
       "      <td>77.000000</td>\n",
       "    </tr>\n",
       "    <tr>\n",
       "      <th>75%</th>\n",
       "      <td>52.000000</td>\n",
       "      <td>185.000000</td>\n",
       "      <td>87.000000</td>\n",
       "      <td>23.000000</td>\n",
       "      <td>103.000000</td>\n",
       "      <td>40.700000</td>\n",
       "      <td>136.000000</td>\n",
       "    </tr>\n",
       "    <tr>\n",
       "      <th>max</th>\n",
       "      <td>79.000000</td>\n",
       "      <td>222.000000</td>\n",
       "      <td>132.000000</td>\n",
       "      <td>30.000000</td>\n",
       "      <td>128.000000</td>\n",
       "      <td>41.500000</td>\n",
       "      <td>314.000000</td>\n",
       "    </tr>\n",
       "  </tbody>\n",
       "</table>\n",
       "</div>"
      ],
      "text/plain": [
       "                 Age         Height         Weight       Duration  \\\n",
       "count  765000.000000  765000.000000  765000.000000  765000.000000   \n",
       "mean       41.447255     174.693126      75.142162      15.423163   \n",
       "std        15.213677      12.854173      14.004122       8.353421   \n",
       "min        20.000000     123.000000      36.000000       1.000000   \n",
       "25%        28.000000     164.000000      63.000000       8.000000   \n",
       "50%        40.000000     174.000000      74.000000      15.000000   \n",
       "75%        52.000000     185.000000      87.000000      23.000000   \n",
       "max        79.000000     222.000000     132.000000      30.000000   \n",
       "\n",
       "          Heart_Rate      Body_Temp       Calories  \n",
       "count  765000.000000  765000.000000  765000.000000  \n",
       "mean       95.484672      40.036041      88.307424  \n",
       "std         9.452476       0.779863      62.396760  \n",
       "min        67.000000      37.100000       1.000000  \n",
       "25%        88.000000      39.600000      34.000000  \n",
       "50%        95.000000      40.300000      77.000000  \n",
       "75%       103.000000      40.700000     136.000000  \n",
       "max       128.000000      41.500000     314.000000  "
      ]
     },
     "execution_count": 6,
     "metadata": {},
     "output_type": "execute_result"
    }
   ],
   "source": [
    "train.describe()"
   ]
  },
  {
   "cell_type": "code",
   "execution_count": 7,
   "id": "d18d57d4",
   "metadata": {
    "execution": {
     "iopub.execute_input": "2025-05-29T07:06:38.715807Z",
     "iopub.status.busy": "2025-05-29T07:06:38.715573Z",
     "iopub.status.idle": "2025-05-29T07:06:38.795122Z",
     "shell.execute_reply": "2025-05-29T07:06:38.794549Z"
    },
    "papermill": {
     "duration": 0.085515,
     "end_time": "2025-05-29T07:06:38.796170",
     "exception": false,
     "start_time": "2025-05-29T07:06:38.710655",
     "status": "completed"
    },
    "tags": []
   },
   "outputs": [
    {
     "data": {
      "text/plain": [
       "Sex           0\n",
       "Age           0\n",
       "Height        0\n",
       "Weight        0\n",
       "Duration      0\n",
       "Heart_Rate    0\n",
       "Body_Temp     0\n",
       "Calories      0\n",
       "dtype: int64"
      ]
     },
     "execution_count": 7,
     "metadata": {},
     "output_type": "execute_result"
    }
   ],
   "source": [
    "train.isnull().sum()"
   ]
  },
  {
   "cell_type": "code",
   "execution_count": 8,
   "id": "62cfd274",
   "metadata": {
    "execution": {
     "iopub.execute_input": "2025-05-29T07:06:38.805275Z",
     "iopub.status.busy": "2025-05-29T07:06:38.805063Z",
     "iopub.status.idle": "2025-05-29T07:06:38.816090Z",
     "shell.execute_reply": "2025-05-29T07:06:38.815310Z"
    },
    "papermill": {
     "duration": 0.016683,
     "end_time": "2025-05-29T07:06:38.817112",
     "exception": false,
     "start_time": "2025-05-29T07:06:38.800429",
     "status": "completed"
    },
    "tags": []
   },
   "outputs": [
    {
     "name": "stdout",
     "output_type": "stream",
     "text": [
      "<class 'cudf.core.dataframe.DataFrame'>\n",
      "RangeIndex: 765000 entries, 0 to 764999\n",
      "Data columns (total 8 columns):\n",
      " #   Column      Non-Null Count   Dtype\n",
      "---  ------      --------------   -----\n",
      " 0   Sex         765000 non-null  object\n",
      " 1   Age         765000 non-null  int64\n",
      " 2   Height      765000 non-null  float64\n",
      " 3   Weight      765000 non-null  float64\n",
      " 4   Duration    765000 non-null  float64\n",
      " 5   Heart_Rate  765000 non-null  float64\n",
      " 6   Body_Temp   765000 non-null  float64\n",
      " 7   Calories    765000 non-null  float64\n",
      "dtypes: float64(6), int64(1), object(1)\n",
      "memory usage: 47.4+ MB\n"
     ]
    }
   ],
   "source": [
    "train.info()"
   ]
  },
  {
   "cell_type": "markdown",
   "id": "ccc1fa62",
   "metadata": {
    "papermill": {
     "duration": 0.003827,
     "end_time": "2025-05-29T07:06:38.824940",
     "exception": false,
     "start_time": "2025-05-29T07:06:38.821113",
     "status": "completed"
    },
    "tags": []
   },
   "source": [
    "# Data Preprocessing"
   ]
  },
  {
   "cell_type": "markdown",
   "id": "91fd3ddd",
   "metadata": {
    "papermill": {
     "duration": 0.003883,
     "end_time": "2025-05-29T07:06:38.832697",
     "exception": false,
     "start_time": "2025-05-29T07:06:38.828814",
     "status": "completed"
    },
    "tags": []
   },
   "source": [
    "## Reducing memory usage"
   ]
  },
  {
   "cell_type": "code",
   "execution_count": 9,
   "id": "495e4b49",
   "metadata": {
    "execution": {
     "iopub.execute_input": "2025-05-29T07:06:38.841582Z",
     "iopub.status.busy": "2025-05-29T07:06:38.841385Z",
     "iopub.status.idle": "2025-05-29T07:06:38.846471Z",
     "shell.execute_reply": "2025-05-29T07:06:38.845966Z"
    },
    "papermill": {
     "duration": 0.01072,
     "end_time": "2025-05-29T07:06:38.847561",
     "exception": false,
     "start_time": "2025-05-29T07:06:38.836841",
     "status": "completed"
    },
    "tags": []
   },
   "outputs": [],
   "source": [
    "train['Age'] = train['Age'].astype('int8')\n",
    "test['Age'] = test['Age'].astype('int8')"
   ]
  },
  {
   "cell_type": "code",
   "execution_count": 10,
   "id": "c66b6089",
   "metadata": {
    "execution": {
     "iopub.execute_input": "2025-05-29T07:06:38.856250Z",
     "iopub.status.busy": "2025-05-29T07:06:38.856046Z",
     "iopub.status.idle": "2025-05-29T07:06:40.558677Z",
     "shell.execute_reply": "2025-05-29T07:06:40.558116Z"
    },
    "papermill": {
     "duration": 1.708582,
     "end_time": "2025-05-29T07:06:40.560075",
     "exception": false,
     "start_time": "2025-05-29T07:06:38.851493",
     "status": "completed"
    },
    "tags": []
   },
   "outputs": [],
   "source": [
    "num_cols = test.select_dtypes(include='float64').columns\n",
    "for col in num_cols:\n",
    "    train[num_cols] = train[num_cols].astype('float32')\n",
    "    test[num_cols] = test[num_cols].astype('float32')"
   ]
  },
  {
   "cell_type": "code",
   "execution_count": 11,
   "id": "099cfada",
   "metadata": {
    "execution": {
     "iopub.execute_input": "2025-05-29T07:06:40.569966Z",
     "iopub.status.busy": "2025-05-29T07:06:40.569703Z",
     "iopub.status.idle": "2025-05-29T07:06:40.587639Z",
     "shell.execute_reply": "2025-05-29T07:06:40.586878Z"
    },
    "papermill": {
     "duration": 0.023907,
     "end_time": "2025-05-29T07:06:40.588731",
     "exception": false,
     "start_time": "2025-05-29T07:06:40.564824",
     "status": "completed"
    },
    "tags": []
   },
   "outputs": [
    {
     "name": "stdout",
     "output_type": "stream",
     "text": [
      "<class 'cudf.core.dataframe.DataFrame'>\n",
      "RangeIndex: 765000 entries, 0 to 764999\n",
      "Data columns (total 8 columns):\n",
      " #   Column      Non-Null Count   Dtype\n",
      "---  ------      --------------   -----\n",
      " 0   Sex         765000 non-null  object\n",
      " 1   Age         765000 non-null  int8\n",
      " 2   Height      765000 non-null  float32\n",
      " 3   Weight      765000 non-null  float32\n",
      " 4   Duration    765000 non-null  float32\n",
      " 5   Heart_Rate  765000 non-null  float32\n",
      " 6   Body_Temp   765000 non-null  float32\n",
      " 7   Calories    765000 non-null  float64\n",
      "dtypes: float32(5), float64(1), int8(1), object(1)\n",
      "memory usage: 27.7+ MB\n"
     ]
    }
   ],
   "source": [
    "train.info()"
   ]
  },
  {
   "cell_type": "code",
   "execution_count": 12,
   "id": "2514d061",
   "metadata": {
    "execution": {
     "iopub.execute_input": "2025-05-29T07:06:40.597738Z",
     "iopub.status.busy": "2025-05-29T07:06:40.597516Z",
     "iopub.status.idle": "2025-05-29T07:06:40.657708Z",
     "shell.execute_reply": "2025-05-29T07:06:40.657092Z"
    },
    "papermill": {
     "duration": 0.065875,
     "end_time": "2025-05-29T07:06:40.658753",
     "exception": false,
     "start_time": "2025-05-29T07:06:40.592878",
     "status": "completed"
    },
    "tags": []
   },
   "outputs": [],
   "source": [
    "mapping = {'male': 1, 'female': 0}\n",
    "\n",
    "train['Sex'] = train['Sex'].map(mapping).astype('int8')\n",
    "test['Sex'] = test['Sex'].map(mapping).astype('int8')"
   ]
  },
  {
   "cell_type": "code",
   "execution_count": 13,
   "id": "618dfb90",
   "metadata": {
    "execution": {
     "iopub.execute_input": "2025-05-29T07:06:40.667779Z",
     "iopub.status.busy": "2025-05-29T07:06:40.667598Z",
     "iopub.status.idle": "2025-05-29T07:06:40.670760Z",
     "shell.execute_reply": "2025-05-29T07:06:40.670305Z"
    },
    "papermill": {
     "duration": 0.008752,
     "end_time": "2025-05-29T07:06:40.671783",
     "exception": false,
     "start_time": "2025-05-29T07:06:40.663031",
     "status": "completed"
    },
    "tags": []
   },
   "outputs": [],
   "source": [
    "features = ['Sex', 'Age', 'Height', 'Weight', 'Duration', 'Heart_Rate', 'Body_Temp']"
   ]
  },
  {
   "cell_type": "code",
   "execution_count": 14,
   "id": "a0910bb0",
   "metadata": {
    "execution": {
     "iopub.execute_input": "2025-05-29T07:06:40.680555Z",
     "iopub.status.busy": "2025-05-29T07:06:40.680386Z",
     "iopub.status.idle": "2025-05-29T07:06:40.684648Z",
     "shell.execute_reply": "2025-05-29T07:06:40.684169Z"
    },
    "papermill": {
     "duration": 0.009828,
     "end_time": "2025-05-29T07:06:40.685721",
     "exception": false,
     "start_time": "2025-05-29T07:06:40.675893",
     "status": "completed"
    },
    "tags": []
   },
   "outputs": [],
   "source": [
    "def add_features(df):\n",
    "    for i, c1 in enumerate(features):\n",
    "        for c2 in (features[i+1:]):\n",
    "            m = f'{c1}*{c2}'\n",
    "            df[m] = df[c1] * df[c2]\n",
    "            a = f'{c1}+{c2}'\n",
    "            df[a] = df[c1] + df[c2]\n",
    "            s = f'{c1}-{c2}'\n",
    "            df[s] = df[c1] - df[c2]\n",
    "            d = f'{c1}/{c2}'\n",
    "            df[d] = df[c1] / (df[c2] + 1e-3)\n",
    "            rd = f'{c2}/{c1}'\n",
    "            df[rd] = df[c2] / (df[c1] + 1e-3)\n",
    "    return df"
   ]
  },
  {
   "cell_type": "code",
   "execution_count": 15,
   "id": "71dc94ae",
   "metadata": {
    "execution": {
     "iopub.execute_input": "2025-05-29T07:06:40.694746Z",
     "iopub.status.busy": "2025-05-29T07:06:40.694565Z",
     "iopub.status.idle": "2025-05-29T07:06:40.702818Z",
     "shell.execute_reply": "2025-05-29T07:06:40.702325Z"
    },
    "papermill": {
     "duration": 0.013993,
     "end_time": "2025-05-29T07:06:40.703802",
     "exception": false,
     "start_time": "2025-05-29T07:06:40.689809",
     "status": "completed"
    },
    "tags": []
   },
   "outputs": [],
   "source": [
    "def feature_engineer(df):\n",
    "\n",
    "    Max_Heart_Rate = 207 - (0.7 * df['Age'])\n",
    "    df['HR_Ratio'] = df['Heart_Rate'] / Max_Heart_Rate\n",
    "    df['HR_Reserve'] = (df['Heart_Rate'] / Max_Heart_Rate) * df['Duration']\n",
    "\n",
    "    df['MET_Estimate'] = (df['Heart_Rate'] / Max_Heart_Rate) * 15\n",
    "    df['MET_Calories_Rate'] = df['MET_Estimate'] * 3.5 * df['Weight'] / 200\n",
    "    \n",
    "    df['MET_Calories_Total'] = df['MET_Calories_Rate'] * df['Duration']\n",
    "    \n",
    "    df['Exercise_Intensity_Index'] = df['Heart_Rate'] * df['Body_Temp'] / (df['Weight'] * df['Age'])\n",
    "    df['Intensity'] = df['Heart_Rate']  * df['Duration'] / 60\n",
    "    df['Exercise_Economy'] = df['Heart_Rate'] / (df['Weight']**0.75)\n",
    "\n",
    "    df['Exertion_score'] = df['Duration'] * df['Heart_Rate'] * df['Body_Temp']\n",
    "    df['Age_Adjusted_Exertion'] = df['Exertion_score'] / (1 + 0.01 * (df['Age'] - 30))\n",
    "    \n",
    "    df['BMI'] = df['Weight'] / (df['Height']/100) ** 2\n",
    "\n",
    "    df['BMR'] = np.where(\n",
    "        df['Sex'] == 'female',\n",
    "        10 * df['Weight'] + 6.25 * df['Height'] - 5 * df['Age'] - 161,\n",
    "        10 * df['Weight'] + 6.25 * df['Height'] - 5 * df['Age'] + 5\n",
    "    )\n",
    "    df['TSI'] = 5 * ((df['Body_Temp'] - 36.5) / (41.5 - 36.5)) + 5 * ((df['Heart_Rate'] - 60) / ((220 - df['Age']) - 60))\n",
    "    df['AWI'] = (df['Duration'] * df['HR_Ratio']) / df['Age']\n",
    "    df['RPE'] = df['HR_Ratio'] + 0.1 * (df['Body_Temp'] - 37)\n",
    "    \n",
    "    for col in ['Duration', 'Heart_Rate', 'Body_Temp']:\n",
    "        df[f'Sqrt_{col}'] = np.sqrt(df[col])\n",
    "        df[f'cube_{col}'] = df[col] ** 3\n",
    "        \n",
    "    df['EPOC_Factor'] = df['HR_Ratio']**2 * np.log1p(df['Duration']/10)\n",
    "    df['Thermal_Load'] = df['Body_Temp'] * df['Duration'] * df['HR_Ratio']\n",
    "\n",
    "    df['CB_Proxy'] = np.where(\n",
    "        df['Sex'] == 'female',\n",
    "        df['Duration'] * (0.4472 * df['Heart_Rate'] - 0.1263 * df['Weight'] + 0.074 * df['Age'] -  55.0969) / 4.184,\n",
    "        df['Duration'] * (0.6309 * df['Heart_Rate'] - 0.1988 * df['Weight'] + 0.2017 * df['Age'] -  55.0969) / 4.184,\n",
    "    )\n",
    "\n",
    "    df['VO2_Proxy'] = np.where(\n",
    "        df['Sex'] == 'female',\n",
    "        (0.85 * df['Duration']) / (df['HR_Ratio'] * df['Age']),\n",
    "        (1.00 * df['Duration']) / (df['HR_Ratio'] * df['Age']),\n",
    ")\n",
    "    \n",
    "    return df"
   ]
  },
  {
   "cell_type": "code",
   "execution_count": 16,
   "id": "cee63af5",
   "metadata": {
    "execution": {
     "iopub.execute_input": "2025-05-29T07:06:40.712516Z",
     "iopub.status.busy": "2025-05-29T07:06:40.712346Z",
     "iopub.status.idle": "2025-05-29T07:06:40.716129Z",
     "shell.execute_reply": "2025-05-29T07:06:40.715598Z"
    },
    "papermill": {
     "duration": 0.009376,
     "end_time": "2025-05-29T07:06:40.717160",
     "exception": false,
     "start_time": "2025-05-29T07:06:40.707784",
     "status": "completed"
    },
    "tags": []
   },
   "outputs": [],
   "source": [
    "def add_statistical_features(df, features):\n",
    "    df_new = df.copy()\n",
    "    df_new[\"row_mean\"] = df[features].mean(axis=1)\n",
    "    df_new[\"row_max\"] = df[features].max(axis=1)\n",
    "    df_new[\"row_min\"] = df[features].min(axis=1)\n",
    "    df_new[\"row_median\"] = df[features].median(axis=1)\n",
    "    df_new[\"row_skew\"] = df[features].skew(axis=1)\n",
    "    \n",
    "    return df_new"
   ]
  },
  {
   "cell_type": "code",
   "execution_count": 17,
   "id": "7b717185",
   "metadata": {
    "execution": {
     "iopub.execute_input": "2025-05-29T07:06:40.726144Z",
     "iopub.status.busy": "2025-05-29T07:06:40.725895Z",
     "iopub.status.idle": "2025-05-29T07:06:47.192586Z",
     "shell.execute_reply": "2025-05-29T07:06:47.191763Z"
    },
    "papermill": {
     "duration": 6.472804,
     "end_time": "2025-05-29T07:06:47.194143",
     "exception": false,
     "start_time": "2025-05-29T07:06:40.721339",
     "status": "completed"
    },
    "tags": []
   },
   "outputs": [],
   "source": [
    "X = train.copy()\n",
    "y = X.pop('Calories')\n",
    "y = np.log1p(y) \n",
    "X = add_features(X)\n",
    "X = feature_engineer(X)\n",
    "X = add_statistical_features(X, features=features)\n",
    "X['Sex'] = X['Sex'].astype('category')\n",
    "\n",
    "X_test = test.copy()\n",
    "X_test = add_features(X_test)\n",
    "X_test = feature_engineer(X_test)\n",
    "X_test = add_statistical_features(X_test, features=features)\n",
    "X_test['Sex'] = X_test['Sex'].astype('category')\n",
    "\n",
    "n_folds = 10"
   ]
  },
  {
   "cell_type": "code",
   "execution_count": 18,
   "id": "ad8ba34b",
   "metadata": {
    "execution": {
     "iopub.execute_input": "2025-05-29T07:06:47.205027Z",
     "iopub.status.busy": "2025-05-29T07:06:47.204756Z",
     "iopub.status.idle": "2025-05-29T07:07:24.780425Z",
     "shell.execute_reply": "2025-05-29T07:07:24.779854Z"
    },
    "papermill": {
     "duration": 37.581864,
     "end_time": "2025-05-29T07:07:24.781740",
     "exception": false,
     "start_time": "2025-05-29T07:06:47.199876",
     "status": "completed"
    },
    "tags": []
   },
   "outputs": [],
   "source": [
    "corr_matrix = pd.DataFrame(X).corr().abs()\n",
    "upper = corr_matrix.where(np.triu(np.ones(corr_matrix.shape), k=1).astype(bool))\n",
    "to_drop = [column for column in upper.columns if any(upper[column] > 0.95)]\n",
    "X = X.drop(columns=to_drop)\n",
    "X_test = X_test.drop(columns=to_drop)"
   ]
  },
  {
   "cell_type": "code",
   "execution_count": 19,
   "id": "019d9356",
   "metadata": {
    "execution": {
     "iopub.execute_input": "2025-05-29T07:07:24.791329Z",
     "iopub.status.busy": "2025-05-29T07:07:24.791098Z",
     "iopub.status.idle": "2025-05-29T07:07:24.835827Z",
     "shell.execute_reply": "2025-05-29T07:07:24.835174Z"
    },
    "papermill": {
     "duration": 0.050571,
     "end_time": "2025-05-29T07:07:24.836835",
     "exception": false,
     "start_time": "2025-05-29T07:07:24.786264",
     "status": "completed"
    },
    "tags": []
   },
   "outputs": [
    {
     "data": {
      "text/html": [
       "<div>\n",
       "<style scoped>\n",
       "    .dataframe tbody tr th:only-of-type {\n",
       "        vertical-align: middle;\n",
       "    }\n",
       "\n",
       "    .dataframe tbody tr th {\n",
       "        vertical-align: top;\n",
       "    }\n",
       "\n",
       "    .dataframe thead th {\n",
       "        text-align: right;\n",
       "    }\n",
       "</style>\n",
       "<table border=\"1\" class=\"dataframe\">\n",
       "  <thead>\n",
       "    <tr style=\"text-align: right;\">\n",
       "      <th></th>\n",
       "      <th>Sex</th>\n",
       "      <th>Age</th>\n",
       "      <th>Height</th>\n",
       "      <th>Duration</th>\n",
       "      <th>Heart_Rate</th>\n",
       "      <th>Body_Temp</th>\n",
       "      <th>Sex*Age</th>\n",
       "      <th>Sex/Age</th>\n",
       "      <th>Age/Sex</th>\n",
       "      <th>Sex*Duration</th>\n",
       "      <th>Sex/Duration</th>\n",
       "      <th>Duration/Sex</th>\n",
       "      <th>Sex+Body_Temp</th>\n",
       "      <th>Sex-Body_Temp</th>\n",
       "      <th>Age+Height</th>\n",
       "      <th>Age-Height</th>\n",
       "      <th>Height/Age</th>\n",
       "      <th>Age*Duration</th>\n",
       "      <th>Age+Duration</th>\n",
       "      <th>Age-Duration</th>\n",
       "      <th>Age/Duration</th>\n",
       "      <th>Duration/Age</th>\n",
       "      <th>Heart_Rate/Age</th>\n",
       "      <th>Height-Weight</th>\n",
       "      <th>Height+Duration</th>\n",
       "      <th>Height-Duration</th>\n",
       "      <th>Height/Duration</th>\n",
       "      <th>Height*Heart_Rate</th>\n",
       "      <th>Height/Heart_Rate</th>\n",
       "      <th>Duration-Heart_Rate</th>\n",
       "      <th>HR_Ratio</th>\n",
       "      <th>Exercise_Intensity_Index</th>\n",
       "      <th>BMI</th>\n",
       "      <th>BMR</th>\n",
       "      <th>cube_Duration</th>\n",
       "      <th>CB_Proxy</th>\n",
       "      <th>row_median</th>\n",
       "      <th>row_skew</th>\n",
       "    </tr>\n",
       "  </thead>\n",
       "  <tbody>\n",
       "    <tr>\n",
       "      <th>0</th>\n",
       "      <td>1</td>\n",
       "      <td>36</td>\n",
       "      <td>189.0</td>\n",
       "      <td>26.0</td>\n",
       "      <td>101.0</td>\n",
       "      <td>41.000000</td>\n",
       "      <td>36</td>\n",
       "      <td>0.027777</td>\n",
       "      <td>35.964036</td>\n",
       "      <td>26.0</td>\n",
       "      <td>0.038460</td>\n",
       "      <td>25.974026</td>\n",
       "      <td>42.000000</td>\n",
       "      <td>-40.000000</td>\n",
       "      <td>225.0</td>\n",
       "      <td>-153.0</td>\n",
       "      <td>5.249854</td>\n",
       "      <td>936.0</td>\n",
       "      <td>62.0</td>\n",
       "      <td>10.0</td>\n",
       "      <td>1.384562</td>\n",
       "      <td>0.722202</td>\n",
       "      <td>2.805478</td>\n",
       "      <td>107.0</td>\n",
       "      <td>215.0</td>\n",
       "      <td>163.0</td>\n",
       "      <td>7.268951</td>\n",
       "      <td>19089.0</td>\n",
       "      <td>1.871269</td>\n",
       "      <td>-75.0</td>\n",
       "      <td>0.555556</td>\n",
       "      <td>1.402778</td>\n",
       "      <td>22.955685</td>\n",
       "      <td>2082.25</td>\n",
       "      <td>17576.0</td>\n",
       "      <td>-2.587548</td>\n",
       "      <td>41.000000</td>\n",
       "      <td>1.280969</td>\n",
       "    </tr>\n",
       "    <tr>\n",
       "      <th>1</th>\n",
       "      <td>0</td>\n",
       "      <td>64</td>\n",
       "      <td>163.0</td>\n",
       "      <td>8.0</td>\n",
       "      <td>85.0</td>\n",
       "      <td>39.700001</td>\n",
       "      <td>0</td>\n",
       "      <td>0.000000</td>\n",
       "      <td>64000.000000</td>\n",
       "      <td>0.0</td>\n",
       "      <td>0.000000</td>\n",
       "      <td>8000.000000</td>\n",
       "      <td>39.700001</td>\n",
       "      <td>-39.700001</td>\n",
       "      <td>227.0</td>\n",
       "      <td>-99.0</td>\n",
       "      <td>2.546835</td>\n",
       "      <td>512.0</td>\n",
       "      <td>72.0</td>\n",
       "      <td>56.0</td>\n",
       "      <td>7.999000</td>\n",
       "      <td>0.124998</td>\n",
       "      <td>1.328104</td>\n",
       "      <td>103.0</td>\n",
       "      <td>171.0</td>\n",
       "      <td>155.0</td>\n",
       "      <td>20.372452</td>\n",
       "      <td>13855.0</td>\n",
       "      <td>1.917624</td>\n",
       "      <td>-77.0</td>\n",
       "      <td>0.524044</td>\n",
       "      <td>0.878776</td>\n",
       "      <td>22.582710</td>\n",
       "      <td>1559.75</td>\n",
       "      <td>512.0</td>\n",
       "      <td>-0.936135</td>\n",
       "      <td>60.000000</td>\n",
       "      <td>1.061985</td>\n",
       "    </tr>\n",
       "    <tr>\n",
       "      <th>2</th>\n",
       "      <td>0</td>\n",
       "      <td>51</td>\n",
       "      <td>161.0</td>\n",
       "      <td>7.0</td>\n",
       "      <td>84.0</td>\n",
       "      <td>39.799999</td>\n",
       "      <td>0</td>\n",
       "      <td>0.000000</td>\n",
       "      <td>51000.000000</td>\n",
       "      <td>0.0</td>\n",
       "      <td>0.000000</td>\n",
       "      <td>7000.000000</td>\n",
       "      <td>39.799999</td>\n",
       "      <td>-39.799999</td>\n",
       "      <td>212.0</td>\n",
       "      <td>-110.0</td>\n",
       "      <td>3.156801</td>\n",
       "      <td>357.0</td>\n",
       "      <td>58.0</td>\n",
       "      <td>44.0</td>\n",
       "      <td>7.284674</td>\n",
       "      <td>0.137252</td>\n",
       "      <td>1.647027</td>\n",
       "      <td>97.0</td>\n",
       "      <td>168.0</td>\n",
       "      <td>154.0</td>\n",
       "      <td>22.996716</td>\n",
       "      <td>13524.0</td>\n",
       "      <td>1.916644</td>\n",
       "      <td>-77.0</td>\n",
       "      <td>0.490368</td>\n",
       "      <td>1.024265</td>\n",
       "      <td>24.690405</td>\n",
       "      <td>1652.25</td>\n",
       "      <td>343.0</td>\n",
       "      <td>-7.591922</td>\n",
       "      <td>51.000000</td>\n",
       "      <td>1.125036</td>\n",
       "    </tr>\n",
       "    <tr>\n",
       "      <th>3</th>\n",
       "      <td>1</td>\n",
       "      <td>20</td>\n",
       "      <td>192.0</td>\n",
       "      <td>25.0</td>\n",
       "      <td>105.0</td>\n",
       "      <td>40.700001</td>\n",
       "      <td>20</td>\n",
       "      <td>0.049998</td>\n",
       "      <td>19.980020</td>\n",
       "      <td>25.0</td>\n",
       "      <td>0.039998</td>\n",
       "      <td>24.975025</td>\n",
       "      <td>41.700001</td>\n",
       "      <td>-39.700001</td>\n",
       "      <td>212.0</td>\n",
       "      <td>-172.0</td>\n",
       "      <td>9.599520</td>\n",
       "      <td>500.0</td>\n",
       "      <td>45.0</td>\n",
       "      <td>-5.0</td>\n",
       "      <td>0.799968</td>\n",
       "      <td>1.249938</td>\n",
       "      <td>5.249738</td>\n",
       "      <td>102.0</td>\n",
       "      <td>217.0</td>\n",
       "      <td>167.0</td>\n",
       "      <td>7.679693</td>\n",
       "      <td>20160.0</td>\n",
       "      <td>1.828554</td>\n",
       "      <td>-80.0</td>\n",
       "      <td>0.544041</td>\n",
       "      <td>2.374167</td>\n",
       "      <td>24.414062</td>\n",
       "      <td>2005.00</td>\n",
       "      <td>15625.0</td>\n",
       "      <td>-16.195023</td>\n",
       "      <td>40.700001</td>\n",
       "      <td>1.171192</td>\n",
       "    </tr>\n",
       "    <tr>\n",
       "      <th>4</th>\n",
       "      <td>0</td>\n",
       "      <td>38</td>\n",
       "      <td>166.0</td>\n",
       "      <td>25.0</td>\n",
       "      <td>102.0</td>\n",
       "      <td>40.599998</td>\n",
       "      <td>0</td>\n",
       "      <td>0.000000</td>\n",
       "      <td>38000.000000</td>\n",
       "      <td>0.0</td>\n",
       "      <td>0.000000</td>\n",
       "      <td>25000.000000</td>\n",
       "      <td>40.599998</td>\n",
       "      <td>-40.599998</td>\n",
       "      <td>204.0</td>\n",
       "      <td>-128.0</td>\n",
       "      <td>4.368306</td>\n",
       "      <td>950.0</td>\n",
       "      <td>63.0</td>\n",
       "      <td>13.0</td>\n",
       "      <td>1.519939</td>\n",
       "      <td>0.657877</td>\n",
       "      <td>2.684140</td>\n",
       "      <td>105.0</td>\n",
       "      <td>191.0</td>\n",
       "      <td>141.0</td>\n",
       "      <td>6.639735</td>\n",
       "      <td>16932.0</td>\n",
       "      <td>1.627435</td>\n",
       "      <td>-77.0</td>\n",
       "      <td>0.565410</td>\n",
       "      <td>1.786540</td>\n",
       "      <td>22.136740</td>\n",
       "      <td>1718.50</td>\n",
       "      <td>15625.0</td>\n",
       "      <td>28.637061</td>\n",
       "      <td>40.599998</td>\n",
       "      <td>1.193588</td>\n",
       "    </tr>\n",
       "  </tbody>\n",
       "</table>\n",
       "</div>"
      ],
      "text/plain": [
       "  Sex  Age  Height  Duration  Heart_Rate  Body_Temp  Sex*Age   Sex/Age  \\\n",
       "0   1   36   189.0      26.0       101.0  41.000000       36  0.027777   \n",
       "1   0   64   163.0       8.0        85.0  39.700001        0  0.000000   \n",
       "2   0   51   161.0       7.0        84.0  39.799999        0  0.000000   \n",
       "3   1   20   192.0      25.0       105.0  40.700001       20  0.049998   \n",
       "4   0   38   166.0      25.0       102.0  40.599998        0  0.000000   \n",
       "\n",
       "        Age/Sex  Sex*Duration  Sex/Duration  Duration/Sex  Sex+Body_Temp  \\\n",
       "0     35.964036          26.0      0.038460     25.974026      42.000000   \n",
       "1  64000.000000           0.0      0.000000   8000.000000      39.700001   \n",
       "2  51000.000000           0.0      0.000000   7000.000000      39.799999   \n",
       "3     19.980020          25.0      0.039998     24.975025      41.700001   \n",
       "4  38000.000000           0.0      0.000000  25000.000000      40.599998   \n",
       "\n",
       "   Sex-Body_Temp  Age+Height  Age-Height  Height/Age  Age*Duration  \\\n",
       "0     -40.000000       225.0      -153.0    5.249854         936.0   \n",
       "1     -39.700001       227.0       -99.0    2.546835         512.0   \n",
       "2     -39.799999       212.0      -110.0    3.156801         357.0   \n",
       "3     -39.700001       212.0      -172.0    9.599520         500.0   \n",
       "4     -40.599998       204.0      -128.0    4.368306         950.0   \n",
       "\n",
       "   Age+Duration  Age-Duration  Age/Duration  Duration/Age  Heart_Rate/Age  \\\n",
       "0          62.0          10.0      1.384562      0.722202        2.805478   \n",
       "1          72.0          56.0      7.999000      0.124998        1.328104   \n",
       "2          58.0          44.0      7.284674      0.137252        1.647027   \n",
       "3          45.0          -5.0      0.799968      1.249938        5.249738   \n",
       "4          63.0          13.0      1.519939      0.657877        2.684140   \n",
       "\n",
       "   Height-Weight  Height+Duration  Height-Duration  Height/Duration  \\\n",
       "0          107.0            215.0            163.0         7.268951   \n",
       "1          103.0            171.0            155.0        20.372452   \n",
       "2           97.0            168.0            154.0        22.996716   \n",
       "3          102.0            217.0            167.0         7.679693   \n",
       "4          105.0            191.0            141.0         6.639735   \n",
       "\n",
       "   Height*Heart_Rate  Height/Heart_Rate  Duration-Heart_Rate  HR_Ratio  \\\n",
       "0            19089.0           1.871269                -75.0  0.555556   \n",
       "1            13855.0           1.917624                -77.0  0.524044   \n",
       "2            13524.0           1.916644                -77.0  0.490368   \n",
       "3            20160.0           1.828554                -80.0  0.544041   \n",
       "4            16932.0           1.627435                -77.0  0.565410   \n",
       "\n",
       "   Exercise_Intensity_Index        BMI      BMR  cube_Duration   CB_Proxy  \\\n",
       "0                  1.402778  22.955685  2082.25        17576.0  -2.587548   \n",
       "1                  0.878776  22.582710  1559.75          512.0  -0.936135   \n",
       "2                  1.024265  24.690405  1652.25          343.0  -7.591922   \n",
       "3                  2.374167  24.414062  2005.00        15625.0 -16.195023   \n",
       "4                  1.786540  22.136740  1718.50        15625.0  28.637061   \n",
       "\n",
       "   row_median  row_skew  \n",
       "0   41.000000  1.280969  \n",
       "1   60.000000  1.061985  \n",
       "2   51.000000  1.125036  \n",
       "3   40.700001  1.171192  \n",
       "4   40.599998  1.193588  "
      ]
     },
     "execution_count": 19,
     "metadata": {},
     "output_type": "execute_result"
    }
   ],
   "source": [
    "X.head()"
   ]
  },
  {
   "cell_type": "code",
   "execution_count": 20,
   "id": "07096d82",
   "metadata": {
    "execution": {
     "iopub.execute_input": "2025-05-29T07:07:24.846662Z",
     "iopub.status.busy": "2025-05-29T07:07:24.846463Z",
     "iopub.status.idle": "2025-05-29T07:12:53.733629Z",
     "shell.execute_reply": "2025-05-29T07:12:53.732808Z"
    },
    "papermill": {
     "duration": 328.897833,
     "end_time": "2025-05-29T07:12:53.739370",
     "exception": false,
     "start_time": "2025-05-29T07:07:24.841537",
     "status": "completed"
    },
    "tags": []
   },
   "outputs": [
    {
     "name": "stdout",
     "output_type": "stream",
     "text": [
      "Fold 1 RMSE: 0.058059\n",
      "Fold 2 RMSE: 0.062003\n",
      "Fold 3 RMSE: 0.058462\n",
      "Fold 4 RMSE: 0.058973\n",
      "Fold 5 RMSE: 0.057879\n",
      "Fold 6 RMSE: 0.059861\n",
      "Fold 7 RMSE: 0.058239\n",
      "Fold 8 RMSE: 0.058651\n",
      "Fold 9 RMSE: 0.060003\n",
      "Fold 10 RMSE: 0.058245\n",
      "\n",
      "Overall OOF RMSLE: 0.059050\n"
     ]
    }
   ],
   "source": [
    "from catboost import CatBoostRegressor\n",
    "from sklearn.preprocessing import KBinsDiscretizer\n",
    "from sklearn.model_selection import StratifiedKFold\n",
    "from cuml.metrics import mean_squared_log_error\n",
    "\n",
    "bins = KBinsDiscretizer(n_bins=12, encode='ordinal', strategy='kmeans')\n",
    "duration_bins = bins.fit_transform(train[['Duration']]).astype(int).flatten()\n",
    "\n",
    "skf = StratifiedKFold(n_splits=n_folds, shuffle=True, random_state=100)\n",
    "oof_cat = np.zeros(len(y))\n",
    "test_cat = np.zeros(len(X_test))\n",
    "\n",
    "params = {\n",
    "    'iterations': 3000, \n",
    "    'learning_rate': 0.03813511357889326, \n",
    "    'depth': 9, \n",
    "    'l2_leaf_reg': 5.101121281815585, \n",
    "    'bagging_temperature': 0.6263562727371863, \n",
    "    'random_strength': 0.6489211175248135,\n",
    "    'loss_function': 'RMSE',\n",
    "    'cat_features': ['Sex'],\n",
    "    'eval_metric': 'RMSE',\n",
    "    'early_stopping_rounds': 100,\n",
    "    'verbose': 0,\n",
    "    'random_seed': 100,\n",
    "    'task_type': 'GPU'   \n",
    "}\n",
    "\n",
    "for fold, (train_index, valid_index) in enumerate(skf.split(X, duration_bins), start=1):\n",
    "        X_train, X_valid = X.iloc[train_index].copy(), X.iloc[valid_index].copy()\n",
    "        y_train, y_valid = y.iloc[train_index], y.iloc[valid_index]\n",
    "\n",
    "        cat = CatBoostRegressor(**params).fit(X_train, y_train, eval_set=[(X_valid, y_valid)], use_best_model=True)\n",
    "    \n",
    "        valid_pred = cat.predict(X_valid)\n",
    "        oof_cat[valid_index] = valid_pred\n",
    "        test_cat += cat.predict(X_test) / n_folds\n",
    "    \n",
    "        fold_rmsle = np.sqrt(mean_squared_log_error(np.expm1(y_valid), np.expm1(valid_pred)))\n",
    "        print(f\"Fold {fold} RMSE: {fold_rmsle:.6f}\")\n",
    "\n",
    "test_cat = np.expm1(test_cat)\n",
    "test_cat = np.clip(test_cat, 1, 314)\n",
    "\n",
    "overall_rmsle = np.sqrt(mean_squared_log_error(np.expm1(y), np.expm1(oof_cat)))\n",
    "print(f\"\\nOverall OOF RMSLE: {overall_rmsle:.6f}\")"
   ]
  },
  {
   "cell_type": "code",
   "execution_count": 21,
   "id": "28ebf49c",
   "metadata": {
    "execution": {
     "iopub.execute_input": "2025-05-29T07:12:53.749816Z",
     "iopub.status.busy": "2025-05-29T07:12:53.749603Z",
     "iopub.status.idle": "2025-05-29T07:12:54.385336Z",
     "shell.execute_reply": "2025-05-29T07:12:54.384635Z"
    },
    "papermill": {
     "duration": 0.644424,
     "end_time": "2025-05-29T07:12:54.388638",
     "exception": false,
     "start_time": "2025-05-29T07:12:53.744214",
     "status": "completed"
    },
    "tags": []
   },
   "outputs": [
    {
     "data": {
      "image/png": "[encoded data removed]",
      "text/plain": [
       "<Figure size 3000x1800 with 1 Axes>"
      ]
     },
     "metadata": {},
     "output_type": "display_data"
    }
   ],
   "source": [
    "importances = cat.get_feature_importance()\n",
    "columns = X.columns\n",
    "df_importances = pd.DataFrame({'Feature': columns, 'Importance': importances})\n",
    "df_importances = df_importances.sort_values(by='Importance', ascending=False)\n",
    "\n",
    "plt.figure(figsize=(20, 12))\n",
    "plt.barh(df_importances['Feature'], df_importances['Importance'], color=\"skyblue\")\n",
    "plt.xlabel(\"Feature Importance\")\n",
    "plt.ylabel(\"Features\")\n",
    "plt.title(\"CatBoost Feature Importance\")\n",
    "plt.gca().invert_yaxis()\n",
    "plt.show()"
   ]
  },
  {
   "cell_type": "code",
   "execution_count": 22,
   "id": "6c24024a",
   "metadata": {
    "execution": {
     "iopub.execute_input": "2025-05-29T07:12:54.403757Z",
     "iopub.status.busy": "2025-05-29T07:12:54.403307Z",
     "iopub.status.idle": "2025-05-29T07:12:54.415413Z",
     "shell.execute_reply": "2025-05-29T07:12:54.414824Z"
    },
    "papermill": {
     "duration": 0.020376,
     "end_time": "2025-05-29T07:12:54.416409",
     "exception": false,
     "start_time": "2025-05-29T07:12:54.396033",
     "status": "completed"
    },
    "tags": []
   },
   "outputs": [
    {
     "name": "stdout",
     "output_type": "stream",
     "text": [
      "OOF predictions saved to: /kaggle/working/oof_cat.pkl\n"
     ]
    }
   ],
   "source": [
    "out_path_oof = \"/kaggle/working/oof_cat.pkl\"\n",
    "joblib.dump(oof_cat, out_path_oof)\n",
    "\n",
    "out_path_test = \"/kaggle/working/test_cat.pkl\"\n",
    "joblib.dump(test_cat, out_path_test)\n",
    "\n",
    "print(f\"OOF predictions saved to: {out_path_oof}\")"
   ]
  },
  {
   "cell_type": "code",
   "execution_count": 23,
   "id": "4598954a",
   "metadata": {
    "execution": {
     "iopub.execute_input": "2025-05-29T07:12:54.430867Z",
     "iopub.status.busy": "2025-05-29T07:12:54.430504Z",
     "iopub.status.idle": "2025-05-29T07:12:54.525014Z",
     "shell.execute_reply": "2025-05-29T07:12:54.524218Z"
    },
    "papermill": {
     "duration": 0.103015,
     "end_time": "2025-05-29T07:12:54.526206",
     "exception": false,
     "start_time": "2025-05-29T07:12:54.423191",
     "status": "completed"
    },
    "tags": []
   },
   "outputs": [
    {
     "name": "stdout",
     "output_type": "stream",
     "text": [
      "Your submission was successfully saved!\n",
      "       id    Calories\n",
      "0  750000   27.179740\n",
      "1  750001  108.129806\n",
      "2  750002   87.822070\n",
      "3  750003  124.925066\n",
      "4  750004   75.754932\n"
     ]
    }
   ],
   "source": [
    "sub = pd.read_csv('/kaggle/input/playground-series-s5e5/sample_submission.csv')\n",
    "sub['Calories'] = test_cat\n",
    "sub.to_csv('submission.csv', index=False)\n",
    "print(\"Your submission was successfully saved!\")\n",
    "print(sub.head(5))"
   ]
  }
 ],
 "metadata": {
  "kaggle": {
   "accelerator": "nvidiaTeslaT4",
   "dataSources": [
    {
     "databundleVersionId": 11893428,
     "sourceId": 91716,
     "sourceType": "competition"
    },
    {
     "datasetId": 6512323,
     "sourceId": 10522392,
     "sourceType": "datasetVersion"
    }
   ],
   "dockerImageVersionId": 31011,
   "isGpuEnabled": true,
   "isInternetEnabled": true,
   "language": "python",
   "sourceType": "notebook"
  },
  "kernelspec": {
   "display_name": "Python 3",
   "language": "python",
   "name": "python3"
  },
  "language_info": {
   "codemirror_mode": {
    "name": "ipython",
    "version": 3
   },
   "file_extension": ".py",
   "mimetype": "text/x-python",
   "name": "python",
   "nbconvert_exporter": "python",
   "pygments_lexer": "ipython3",
   "version": "3.11.11"
  },
  "papermill": {
   "default_parameters": {},
   "duration": 397.426327,
   "end_time": "2025-05-29T07:12:57.065623",
   "environment_variables": {},
   "exception": null,
   "input_path": "__notebook__.ipynb",
   "output_path": "__notebook__.ipynb",
   "parameters": {},
   "start_time": "2025-05-29T07:06:19.639296",
   "version": "2.6.0"
  }
 },
 "nbformat": 4,
 "nbformat_minor": 5
}
