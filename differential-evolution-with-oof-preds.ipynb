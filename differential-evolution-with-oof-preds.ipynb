{
 "cells": [
  {
   "cell_type": "code",
   "execution_count": 1,
   "id": "7f62f766",
   "metadata": {
    "execution": {
     "iopub.execute_input": "2025-05-25T07:34:32.718558Z",
     "iopub.status.busy": "2025-05-25T07:34:32.718267Z",
     "iopub.status.idle": "2025-05-25T07:34:47.025310Z",
     "shell.execute_reply": "2025-05-25T07:34:47.024424Z"
    },
    "papermill": {
     "duration": 14.312145,
     "end_time": "2025-05-25T07:34:47.026798",
     "exception": false,
     "start_time": "2025-05-25T07:34:32.714653",
     "status": "completed"
    },
    "tags": []
   },
   "outputs": [
    {
     "name": "stdout",
     "output_type": "stream",
     "text": [
      "/kaggle/input/playground-series-s5e5/sample_submission.csv\n",
      "/kaggle/input/playground-series-s5e5/train.csv\n",
      "/kaggle/input/playground-series-s5e5/test.csv\n",
      "/kaggle/input/calories-burnt-prediction/calories.csv\n",
      "/kaggle/input/xgb-cat-ensemble-model/test_xgb.pkl\n",
      "/kaggle/input/xgb-cat-ensemble-model/__results__.html\n",
      "/kaggle/input/xgb-cat-ensemble-model/submission.csv\n",
      "/kaggle/input/xgb-cat-ensemble-model/__notebook__.ipynb\n",
      "/kaggle/input/xgb-cat-ensemble-model/__output__.json\n",
      "/kaggle/input/xgb-cat-ensemble-model/oof_xgb.pkl\n",
      "/kaggle/input/xgb-cat-ensemble-model/custom.css\n",
      "/kaggle/input/may-calorie-expenditure-oof-preds/test_preds.pkl\n",
      "/kaggle/input/may-calorie-expenditure-oof-preds/submission.csv\n",
      "/kaggle/input/may-calorie-expenditure-oof-preds/oof_preds.pkl\n",
      "/kaggle/input/may-calorie-expenditure-oof-preds/catboost_info/test_error.tsv\n",
      "/kaggle/input/may-calorie-expenditure-oof-preds/catboost_info/learn_error.tsv\n",
      "/kaggle/input/may-calorie-expenditure-oof-preds/catboost_info/catboost_training.json\n",
      "/kaggle/input/may-calorie-expenditure-oof-preds/catboost_info/time_left.tsv\n",
      "/kaggle/input/may-calorie-expenditure-oof-preds/catboost_info/learn/events.out.tfevents\n",
      "/kaggle/input/may-calorie-expenditure-oof-preds/catboost_info/test/events.out.tfevents\n"
     ]
    },
    {
     "data": {
      "text/plain": [
       "<Figure size 1200x750 with 0 Axes>"
      ]
     },
     "metadata": {},
     "output_type": "display_data"
    }
   ],
   "source": [
    "# This Python 3 environment comes with many helpful analytics libraries installed\n",
    "# It is defined by the kaggle/python Docker image: https://github.com/kaggle/docker-python\n",
    "# For example, here's several helpful packages to load\n",
    "%load_ext cudf.pandas\n",
    "import numpy as np # linear algebra\n",
    "import pandas as pd # data processing, CSV file I/O (e.g. pd.read_csv)\n",
    "import matplotlib.pyplot as plt\n",
    "import seaborn as sns\n",
    "import joblib\n",
    "import cuml\n",
    "\n",
    "# Setting Matplotlib defaults\n",
    "plt.style.use('seaborn-v0_8')\n",
    "plt.rc('figure', figsize=(8,5), dpi=150)\n",
    "plt.rc('axes', labelweight='bold', labelsize='large',\n",
    "       titleweight='bold', titlesize=15, titlepad=10)\n",
    "plt.rc('animation', html='html5')\n",
    "plt.tight_layout()\n",
    "# Input data files are available in the read-only \"../input/\" directory\n",
    "# For example, running this (by clicking run or pressing Shift+Enter) will list all files under the input directory\n",
    "\n",
    "import os\n",
    "for dirname, _, filenames in os.walk('/kaggle/input'):\n",
    "    for filename in filenames:\n",
    "        print(os.path.join(dirname, filename))\n",
    "        \n",
    "import warnings\n",
    "warnings.simplefilter('ignore')\n",
    "\n",
    "pd.set_option('display.max_columns', 500)\n",
    "\n",
    "# You can write up to 20GB to the current directory (/kaggle/working/) that gets preserved as output when you create a version using \"Save & Run All\" \n",
    "# You can also write temporary files to /kaggle/temp/, but they won't be saved outside of the current session"
   ]
  },
  {
   "cell_type": "code",
   "execution_count": 2,
   "id": "1ae314e3",
   "metadata": {
    "execution": {
     "iopub.execute_input": "2025-05-25T07:34:47.033321Z",
     "iopub.status.busy": "2025-05-25T07:34:47.032790Z",
     "iopub.status.idle": "2025-05-25T07:34:47.470051Z",
     "shell.execute_reply": "2025-05-25T07:34:47.469442Z"
    },
    "papermill": {
     "duration": 0.441648,
     "end_time": "2025-05-25T07:34:47.471360",
     "exception": false,
     "start_time": "2025-05-25T07:34:47.029712",
     "status": "completed"
    },
    "tags": []
   },
   "outputs": [],
   "source": [
    "train = pd.read_csv('/kaggle/input/playground-series-s5e5/train.csv', index_col='id')\n",
    "test = pd.read_csv('/kaggle/input/playground-series-s5e5/test.csv', index_col='id')\n",
    "org = pd.read_csv('/kaggle/input/calories-burnt-prediction/calories.csv', index_col='User_ID')\n",
    "org = org.rename(columns={'Gender': 'Sex'})"
   ]
  },
  {
   "cell_type": "code",
   "execution_count": 3,
   "id": "5dc73e59",
   "metadata": {
    "execution": {
     "iopub.execute_input": "2025-05-25T07:34:47.476907Z",
     "iopub.status.busy": "2025-05-25T07:34:47.476340Z",
     "iopub.status.idle": "2025-05-25T07:34:47.519562Z",
     "shell.execute_reply": "2025-05-25T07:34:47.518815Z"
    },
    "papermill": {
     "duration": 0.046993,
     "end_time": "2025-05-25T07:34:47.520718",
     "exception": false,
     "start_time": "2025-05-25T07:34:47.473725",
     "status": "completed"
    },
    "tags": []
   },
   "outputs": [],
   "source": [
    "train = pd.concat([train, org], ignore_index=True)"
   ]
  },
  {
   "cell_type": "code",
   "execution_count": 4,
   "id": "06f14db7",
   "metadata": {
    "execution": {
     "iopub.execute_input": "2025-05-25T07:34:47.525762Z",
     "iopub.status.busy": "2025-05-25T07:34:47.525553Z",
     "iopub.status.idle": "2025-05-25T07:34:48.163992Z",
     "shell.execute_reply": "2025-05-25T07:34:48.163400Z"
    },
    "papermill": {
     "duration": 0.642606,
     "end_time": "2025-05-25T07:34:48.165513",
     "exception": false,
     "start_time": "2025-05-25T07:34:47.522907",
     "status": "completed"
    },
    "tags": []
   },
   "outputs": [],
   "source": [
    "X = train.copy()\n",
    "y = X.pop('Calories')\n",
    "y = np.log1p(y)\n",
    "\n",
    "X_test = test.copy()\n"
   ]
  },
  {
   "cell_type": "code",
   "execution_count": 5,
   "id": "3dc9e8a3",
   "metadata": {
    "execution": {
     "iopub.execute_input": "2025-05-25T07:34:48.171203Z",
     "iopub.status.busy": "2025-05-25T07:34:48.170773Z",
     "iopub.status.idle": "2025-05-25T07:34:48.339512Z",
     "shell.execute_reply": "2025-05-25T07:34:48.338897Z"
    },
    "papermill": {
     "duration": 0.172894,
     "end_time": "2025-05-25T07:34:48.340845",
     "exception": false,
     "start_time": "2025-05-25T07:34:48.167951",
     "status": "completed"
    },
    "tags": []
   },
   "outputs": [],
   "source": [
    "oof_preds = joblib.load(\"/kaggle/input/may-calorie-expenditure-oof-preds/oof_preds.pkl\")\n",
    "test_preds = joblib.load(\"/kaggle/input/may-calorie-expenditure-oof-preds/test_preds.pkl\")"
   ]
  },
  {
   "cell_type": "code",
   "execution_count": 6,
   "id": "2b481083",
   "metadata": {
    "execution": {
     "iopub.execute_input": "2025-05-25T07:34:48.346606Z",
     "iopub.status.busy": "2025-05-25T07:34:48.346210Z",
     "iopub.status.idle": "2025-05-25T07:34:48.349595Z",
     "shell.execute_reply": "2025-05-25T07:34:48.348923Z"
    },
    "papermill": {
     "duration": 0.00751,
     "end_time": "2025-05-25T07:34:48.350772",
     "exception": false,
     "start_time": "2025-05-25T07:34:48.343262",
     "status": "completed"
    },
    "tags": []
   },
   "outputs": [],
   "source": [
    "from cuml.metrics import mean_squared_log_error\n",
    "from scipy.optimize import differential_evolution"
   ]
  },
  {
   "cell_type": "code",
   "execution_count": 7,
   "id": "7dc5cdcc",
   "metadata": {
    "execution": {
     "iopub.execute_input": "2025-05-25T07:34:48.357006Z",
     "iopub.status.busy": "2025-05-25T07:34:48.356500Z",
     "iopub.status.idle": "2025-05-25T07:34:48.360011Z",
     "shell.execute_reply": "2025-05-25T07:34:48.359532Z"
    },
    "papermill": {
     "duration": 0.006848,
     "end_time": "2025-05-25T07:34:48.360921",
     "exception": false,
     "start_time": "2025-05-25T07:34:48.354073",
     "status": "completed"
    },
    "tags": []
   },
   "outputs": [],
   "source": [
    "def de_objective(w, X, y):\n",
    "    w = np.abs(w)\n",
    "    w /= w.sum()\n",
    "    preds = X.dot(w)\n",
    "    return np.sqrt(mean_squared_log_error(np.expm1(y), np.expm1(preds)))"
   ]
  },
  {
   "cell_type": "code",
   "execution_count": 8,
   "id": "cfc33897",
   "metadata": {
    "execution": {
     "iopub.execute_input": "2025-05-25T07:34:48.365481Z",
     "iopub.status.busy": "2025-05-25T07:34:48.365300Z",
     "iopub.status.idle": "2025-05-25T07:35:11.244490Z",
     "shell.execute_reply": "2025-05-25T07:35:11.243849Z"
    },
    "papermill": {
     "duration": 22.882856,
     "end_time": "2025-05-25T07:35:11.245742",
     "exception": false,
     "start_time": "2025-05-25T07:34:48.362886",
     "status": "completed"
    },
    "tags": []
   },
   "outputs": [
    {
     "name": "stdout",
     "output_type": "stream",
     "text": [
      "DE Best RMSLE: 0.058782\n"
     ]
    }
   ],
   "source": [
    "bounds = [(0.0, 1.0)] * oof_preds.shape[1]\n",
    "\n",
    "result = differential_evolution(\n",
    "    func=lambda w: de_objective(w, oof_preds, y),\n",
    "    bounds=bounds,\n",
    "    maxiter=2500,\n",
    "    popsize=35,\n",
    "    tol=1e-6,\n",
    "    strategy='randtobest1exp',\n",
    "    seed=100\n",
    ")\n",
    "\n",
    "best_w = np.abs(result.x)\n",
    "best_w /= best_w.sum()\n",
    "\n",
    "print(f'DE Best RMSLE: {result.fun:.6f}')"
   ]
  },
  {
   "cell_type": "code",
   "execution_count": 9,
   "id": "94e1acd5",
   "metadata": {
    "execution": {
     "iopub.execute_input": "2025-05-25T07:35:11.251591Z",
     "iopub.status.busy": "2025-05-25T07:35:11.250957Z",
     "iopub.status.idle": "2025-05-25T07:35:11.255660Z",
     "shell.execute_reply": "2025-05-25T07:35:11.255176Z"
    },
    "papermill": {
     "duration": 0.008527,
     "end_time": "2025-05-25T07:35:11.256652",
     "exception": false,
     "start_time": "2025-05-25T07:35:11.248125",
     "status": "completed"
    },
    "tags": []
   },
   "outputs": [],
   "source": [
    "final_preds = test_preds.dot(best_w)"
   ]
  },
  {
   "cell_type": "code",
   "execution_count": 10,
   "id": "8da4cb8f",
   "metadata": {
    "execution": {
     "iopub.execute_input": "2025-05-25T07:35:11.261921Z",
     "iopub.status.busy": "2025-05-25T07:35:11.261414Z",
     "iopub.status.idle": "2025-05-25T07:35:11.341947Z",
     "shell.execute_reply": "2025-05-25T07:35:11.341269Z"
    },
    "papermill": {
     "duration": 0.084347,
     "end_time": "2025-05-25T07:35:11.343138",
     "exception": false,
     "start_time": "2025-05-25T07:35:11.258791",
     "status": "completed"
    },
    "tags": []
   },
   "outputs": [
    {
     "name": "stdout",
     "output_type": "stream",
     "text": [
      "Your submission was successfully saved!\n",
      "       id    Calories\n",
      "0  750000   27.231732\n",
      "1  750001  107.832052\n",
      "2  750002   87.587374\n",
      "3  750003  125.647149\n",
      "4  750004   75.848286\n"
     ]
    }
   ],
   "source": [
    "sub = pd.read_csv('/kaggle/input/playground-series-s5e5/sample_submission.csv')\n",
    "sub['Calories'] = final_preds\n",
    "sub.to_csv('submission.csv', index=False)\n",
    "print(\"Your submission was successfully saved!\")\n",
    "print(sub.head(5))"
   ]
  }
 ],
 "metadata": {
  "kaggle": {
   "accelerator": "nvidiaTeslaT4",
   "dataSources": [
    {
     "databundleVersionId": 11893428,
     "sourceId": 91716,
     "sourceType": "competition"
    },
    {
     "datasetId": 6512323,
     "sourceId": 10522392,
     "sourceType": "datasetVersion"
    },
    {
     "datasetId": 7456734,
     "sourceId": 11866373,
     "sourceType": "datasetVersion"
    },
    {
     "sourceId": 241572712,
     "sourceType": "kernelVersion"
    }
   ],
   "dockerImageVersionId": 31011,
   "isGpuEnabled": true,
   "isInternetEnabled": true,
   "language": "python",
   "sourceType": "notebook"
  },
  "kernelspec": {
   "display_name": "Python 3",
   "language": "python",
   "name": "python3"
  },
  "language_info": {
   "codemirror_mode": {
    "name": "ipython",
    "version": 3
   },
   "file_extension": ".py",
   "mimetype": "text/x-python",
   "name": "python",
   "nbconvert_exporter": "python",
   "pygments_lexer": "ipython3",
   "version": "3.11.11"
  },
  "papermill": {
   "default_parameters": {},
   "duration": 46.371704,
   "end_time": "2025-05-25T07:35:14.641077",
   "environment_variables": {},
   "exception": null,
   "input_path": "__notebook__.ipynb",
   "output_path": "__notebook__.ipynb",
   "parameters": {},
   "start_time": "2025-05-25T07:34:28.269373",
   "version": "2.6.0"
  }
 },
 "nbformat": 4,
 "nbformat_minor": 5
}
